{
 "cells": [
  {
   "cell_type": "code",
   "execution_count": 25,
   "id": "dd806e8b-a4be-4ac5-a8e9-a6411e6cde8e",
   "metadata": {},
   "outputs": [],
   "source": [
    "import math\n",
    "import numpy as np"
   ]
  },
  {
   "cell_type": "markdown",
   "id": "f3d5a6ad-f2da-4d9b-addc-5e1c9aafb9bd",
   "metadata": {},
   "source": [
    "```python\n",
    "Iteration 1:\n",
    "    x1 = x0 - (learning_rate * gradient)\n",
    "    x1 = 3 - (0.01 * (8 * 3))\n",
    "    x1 = 3 - 0.24\n",
    "    x1 = 2.76\n",
    "\n",
    "Iteration 2:\n",
    "    x2 = x1 - (learning_rate * gradient)\n",
    "    x2 = 2.76 - (0.01 * (8 * 2.76))\n",
    "    x2 = 2.76 - 0.2208\n",
    "    x2 = 2.5392\n",
    "\n",
    "Iteration 3:\n",
    "    x3 = x2 - (learning_rate * gradient)\n",
    "    x3 = 2.5392 - (0.01 * (8 * 2.5392))\n",
    "    x3 = 2.5392 - 0.203136\n",
    "    x3 = 2.3360\n",
    "```"
   ]
  },
  {
   "cell_type": "code",
   "execution_count": 40,
   "id": "79892942-613f-48b4-839d-6e357d4fa1eb",
   "metadata": {},
   "outputs": [
    {
     "name": "stdout",
     "output_type": "stream",
     "text": [
      "9\n",
      "6.4668760557049545\n",
      "3.933752111409909\n",
      "1.4006281671148635\n"
     ]
    }
   ],
   "source": [
    "x = 9\n",
    "# learning_rate\n",
    "h = 0.1\n",
    "# derivative\n",
    "gradient = 2*x + np.cos(x) + 20*np.sin(x)\n",
    "\n",
    "print(x)\n",
    "x = x - (h * gradient)\n",
    "print(x)\n",
    "x = x - (h * gradient)\n",
    "print(x)\n",
    "x = x - (h * gradient)\n",
    "print(x)"
   ]
  },
  {
   "cell_type": "code",
   "execution_count": 41,
   "id": "5c656b48-27d5-4a3f-92be-2dc79fa8e1ef",
   "metadata": {},
   "outputs": [
    {
     "name": "stdout",
     "output_type": "stream",
     "text": [
      "3\n",
      "2.21675923354031\n",
      "1.4335184670806198\n",
      "0.6502777006209298\n"
     ]
    }
   ],
   "source": [
    "x = 3\n",
    "# learning_rate\n",
    "h = 0.1\n",
    "# derivative\n",
    "gradient = 2*x + np.cos(x) + 20*np.sin(x)\n",
    "\n",
    "print(x)\n",
    "x = x - (h * gradient)\n",
    "print(x)\n",
    "x = x - (h * gradient)\n",
    "print(x)\n",
    "x = x - (h * gradient)\n",
    "print(x)"
   ]
  },
  {
   "cell_type": "code",
   "execution_count": null,
   "id": "58bc1a90-66df-4bea-80d2-27218a39a15d",
   "metadata": {},
   "outputs": [],
   "source": []
  },
  {
   "cell_type": "code",
   "execution_count": 7,
   "id": "f09ed169-fbfd-4064-9314-3c3d817d268a",
   "metadata": {},
   "outputs": [
    {
     "data": {
      "text/plain": [
       "c    14\n",
       "d    16\n",
       "e    18\n",
       "dtype: int64"
      ]
     },
     "execution_count": 7,
     "metadata": {},
     "output_type": "execute_result"
    }
   ],
   "source": [
    "import pandas as pd\n",
    "\n",
    "my_series = pd.Series([5, 6, 7, 8, 9, 10], index=['a', 'b', 'c', 'd', 'e', 'f'])\n",
    "my_series[['a', 'b', 'f']] = 0\n",
    "my_series[my_series > 0] * 2"
   ]
  },
  {
   "cell_type": "code",
   "execution_count": null,
   "id": "eee46017-88fe-44b1-881e-4ada090842e6",
   "metadata": {},
   "outputs": [],
   "source": []
  },
  {
   "cell_type": "code",
   "execution_count": null,
   "id": "f11ac19c-6e28-4ff4-ace2-876de86365d7",
   "metadata": {},
   "outputs": [],
   "source": []
  },
  {
   "cell_type": "code",
   "execution_count": null,
   "id": "157febd8-ccd4-421c-b528-ae582af4f908",
   "metadata": {},
   "outputs": [],
   "source": []
  },
  {
   "cell_type": "code",
   "execution_count": null,
   "id": "1b3ca952-af98-4184-889d-f020b318c9a1",
   "metadata": {},
   "outputs": [],
   "source": []
  }
 ],
 "metadata": {
  "kernelspec": {
   "display_name": "Python 3 (ipykernel)",
   "language": "python",
   "name": "python3"
  },
  "language_info": {
   "codemirror_mode": {
    "name": "ipython",
    "version": 3
   },
   "file_extension": ".py",
   "mimetype": "text/x-python",
   "name": "python",
   "nbconvert_exporter": "python",
   "pygments_lexer": "ipython3",
   "version": "3.11.0"
  }
 },
 "nbformat": 4,
 "nbformat_minor": 5
}
