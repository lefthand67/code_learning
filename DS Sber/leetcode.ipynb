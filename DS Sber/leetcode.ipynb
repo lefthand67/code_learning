{
 "cells": [
  {
   "cell_type": "markdown",
   "id": "8dbc9cb9-46a7-4bac-8a61-d0862e057922",
   "metadata": {},
   "source": [
    "# Easy"
   ]
  },
  {
   "cell_type": "code",
   "execution_count": null,
   "id": "f6f48308-36c3-48f3-9727-48620cbd58a0",
   "metadata": {},
   "outputs": [],
   "source": []
  },
  {
   "cell_type": "code",
   "execution_count": 27,
   "id": "43ba3f15-61f1-4662-a6ab-d0ef0cc6c1ea",
   "metadata": {},
   "outputs": [
    {
     "data": {
      "text/plain": [
       "-1"
      ]
     },
     "execution_count": 27,
     "metadata": {},
     "output_type": "execute_result"
    }
   ],
   "source": [
    "def search(nums, target):\n",
    "    if (len(nums) >= 1 and \n",
    "        len(nums) <= 10**4 and\n",
    "        len(set(nums)) == len(nums) and \n",
    "        target < 10**4):\n",
    "        \n",
    "        nums = sorted(nums)\n",
    "        answer = -1\n",
    "        \n",
    "        for i in range(len(nums)):\n",
    "            if nums[i] <= -10**4:\n",
    "                return answer\n",
    "            elif nums[i] != target:\n",
    "                continue\n",
    "            elif nums[i] == target:\n",
    "                answer = i\n",
    "    return answer\n",
    "\n",
    "nums = [-1,0,3,5,9,12]\n",
    "target = 2\n",
    "search(nums, target)"
   ]
  },
  {
   "cell_type": "code",
   "execution_count": 56,
   "id": "1f1c6a46-b12e-4676-ba0f-ec6749fe2ae2",
   "metadata": {},
   "outputs": [
    {
     "data": {
      "text/plain": [
       "4"
      ]
     },
     "execution_count": 56,
     "metadata": {},
     "output_type": "execute_result"
    }
   ],
   "source": [
    "def search(nums, target):\n",
    "    answer = 0\n",
    "    if (len(nums) >= 1 and \n",
    "        len(nums) <= 10**4 and\n",
    "        len(set(nums)) == len(nums) and \n",
    "        target < 10**4):\n",
    "        \n",
    "        nums = sorted(nums)\n",
    "        for i in range(len(nums)):\n",
    "            if nums[i] <= -10**4:\n",
    "                break\n",
    "            elif nums[i] > target:\n",
    "                break\n",
    "            elif nums[i] == target:\n",
    "                answer = i\n",
    "                break\n",
    "            elif nums[i] < target:\n",
    "                answer = i+1\n",
    "    \n",
    "    return answer\n",
    "\n",
    "nums = [1,3,5,6]\n",
    "target = 9\n",
    "search(nums, target)"
   ]
  },
  {
   "cell_type": "code",
   "execution_count": 43,
   "id": "ad9dfb8d-1b3a-42ad-8e0c-728edce1f712",
   "metadata": {},
   "outputs": [
    {
     "data": {
      "text/plain": [
       "1"
      ]
     },
     "execution_count": 43,
     "metadata": {},
     "output_type": "execute_result"
    }
   ],
   "source": [
    "nums = [1,3,5,6]\n",
    "target = 2\n",
    "search(nums, target)"
   ]
  },
  {
   "cell_type": "code",
   "execution_count": 44,
   "id": "90f14a45-92cb-4c56-b4b2-f23599a4449d",
   "metadata": {},
   "outputs": [
    {
     "data": {
      "text/plain": [
       "4"
      ]
     },
     "execution_count": 44,
     "metadata": {},
     "output_type": "execute_result"
    }
   ],
   "source": [
    "nums = [-1,0,3,5,9,12]\n",
    "target = 9\n",
    "search(nums, target)"
   ]
  },
  {
   "cell_type": "code",
   "execution_count": 45,
   "id": "dfcfe016-ff24-48bc-aef8-14abd596f6b9",
   "metadata": {},
   "outputs": [
    {
     "data": {
      "text/plain": [
       "4"
      ]
     },
     "execution_count": 45,
     "metadata": {},
     "output_type": "execute_result"
    }
   ],
   "source": [
    "[1,3,5,6]\n",
    "target = 7\n",
    "search(nums, target)"
   ]
  },
  {
   "cell_type": "code",
   "execution_count": null,
   "id": "720728bb-e4c2-4f8c-8d31-b0b1b255c1d1",
   "metadata": {},
   "outputs": [],
   "source": []
  },
  {
   "cell_type": "code",
   "execution_count": null,
   "id": "cb074944-a087-4fec-8a68-d9c7106951e2",
   "metadata": {},
   "outputs": [],
   "source": []
  },
  {
   "cell_type": "code",
   "execution_count": null,
   "id": "15e9ed78-22f6-4e80-81bb-409902dfe662",
   "metadata": {},
   "outputs": [],
   "source": []
  },
  {
   "cell_type": "markdown",
   "id": "b08b3a8d-aa80-4366-a7b2-2f700e729356",
   "metadata": {},
   "source": [
    "# Medium"
   ]
  },
  {
   "cell_type": "markdown",
   "id": "4da2b6ce-0ab7-42ca-bab9-a8873d2feca3",
   "metadata": {},
   "source": [
    "# Hard"
   ]
  },
  {
   "cell_type": "code",
   "execution_count": null,
   "id": "46c6864a-0fbd-464d-b246-cb2d8ea3f1b0",
   "metadata": {},
   "outputs": [],
   "source": []
  }
 ],
 "metadata": {
  "kernelspec": {
   "display_name": "Python 3 (ipykernel)",
   "language": "python",
   "name": "python3"
  },
  "language_info": {
   "codemirror_mode": {
    "name": "ipython",
    "version": 3
   },
   "file_extension": ".py",
   "mimetype": "text/x-python",
   "name": "python",
   "nbconvert_exporter": "python",
   "pygments_lexer": "ipython3",
   "version": "3.11.0"
  }
 },
 "nbformat": 4,
 "nbformat_minor": 5
}
