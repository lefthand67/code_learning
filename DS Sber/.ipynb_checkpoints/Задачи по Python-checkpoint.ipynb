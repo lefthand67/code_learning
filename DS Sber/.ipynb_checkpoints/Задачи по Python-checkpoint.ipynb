{
 "cells": [
  {
   "cell_type": "markdown",
   "id": "3c5f4856",
   "metadata": {},
   "source": [
    "# Задачи по Python\n",
    "\n",
    "### Исправление кода 1\n",
    "Сложность: #\n",
    "\n",
    "Исправьте программу так, чтобы ее результат соответствовал ожидаемому выводу \"Hello, World!\"."
   ]
  },
  {
   "cell_type": "code",
   "execution_count": 1,
   "id": "45876bc1",
   "metadata": {},
   "outputs": [
    {
     "name": "stdout",
     "output_type": "stream",
     "text": [
      "Hello, World!\n"
     ]
    }
   ],
   "source": [
    "print (\"Hello, World!\")"
   ]
  },
  {
   "cell_type": "markdown",
   "id": "68abbff1",
   "metadata": {},
   "source": [
    "### Создание и изменение переменной\n",
    "Сложность: #\n",
    "\n",
    "Создайте переменную value, имеющую значение 15.5, и поменяйте ее значение на 68.99:"
   ]
  },
  {
   "cell_type": "code",
   "execution_count": 2,
   "id": "ae4fc8dc",
   "metadata": {},
   "outputs": [
    {
     "name": "stdout",
     "output_type": "stream",
     "text": [
      "15.5\n",
      "68.99\n"
     ]
    }
   ],
   "source": [
    "# создайте value \n",
    "value = 15.5\n",
    "print(value)\n",
    "# поменяйте значение value\n",
    "value = 68.99\n",
    "print(value)"
   ]
  },
  {
   "cell_type": "markdown",
   "id": "1b0443fa",
   "metadata": {},
   "source": [
    "# Цена муки\n",
    "Сложность: #\n",
    "\n",
    "Рисовая мука поступает с двух заводов: краснодарского и ленинградского, по различной цене. Напишите программу, которая запрашивает цену килограмма рисовой муки, количество килограммов товара в начале рабочего дня и количество проданного товара, а затем выводит стоимость всех товаров в начале рабочего дня и стоимость всех непроданных товаров."
   ]
  },
  {
   "cell_type": "code",
   "execution_count": 3,
   "id": "f99277cb",
   "metadata": {},
   "outputs": [
    {
     "name": "stdout",
     "output_type": "stream",
     "text": [
      "40\n",
      "500\n",
      "250\n",
      "The cost of all goods: 20000\n",
      "The cost of all unsold goods: 10000\n"
     ]
    }
   ],
   "source": [
    "price = int(input())\n",
    "count = int(input())\n",
    "sales =  int(input())\n",
    "value_1 = count * price \n",
    "value_2 = (count - sales) * price\n",
    "print(\"The cost of all goods:\", value_1)\n",
    "print(\"The cost of all unsold goods:\", value_2)"
   ]
  },
  {
   "cell_type": "markdown",
   "id": "ff7aa380",
   "metadata": {},
   "source": [
    "### Расставьте скобки\n",
    "Сложность: # #\n",
    "\n",
    "Расставьте скобки, не меняя само выражение, так, чтобы переменная res приняла значение 0.0."
   ]
  },
  {
   "cell_type": "code",
   "execution_count": 4,
   "id": "f0d9078b",
   "metadata": {},
   "outputs": [
    {
     "name": "stdout",
     "output_type": "stream",
     "text": [
      "0.0\n"
     ]
    }
   ],
   "source": [
    "res = (70 /(3 + 4)) * 5 % 2\n",
    "\n",
    "print(res)"
   ]
  },
  {
   "cell_type": "markdown",
   "id": "6259d5b8",
   "metadata": {},
   "source": [
    "### Повторы\n",
    "Сложность: # #\n",
    "\n",
    "Написать программу, которая получает от пользователя три числа и выводит на экран повторяющееся среди них число, используя секцию ELIF инструкции IF. Если повторяющегося числа нет, то ничего выводить не нужно."
   ]
  },
  {
   "cell_type": "code",
   "execution_count": 5,
   "id": "ba7c6318",
   "metadata": {},
   "outputs": [
    {
     "name": "stdout",
     "output_type": "stream",
     "text": [
      "3\n",
      "5\n",
      "3\n",
      "3\n"
     ]
    }
   ],
   "source": [
    "value0 = int(input())\n",
    "value1 = int(input())\n",
    "value2 = int(input())\n",
    "if (value0 != value1) and (value0 != value2) and (value1 != value2):\n",
    "    pass\n",
    "elif (value0 == value1) or (value0 == value2):\n",
    "    print(value0)\n",
    "elif value1 == value2:\n",
    "    print(value1)"
   ]
  },
  {
   "cell_type": "markdown",
   "id": "41c2d9ac",
   "metadata": {},
   "source": [
    "### Проверить диапазон\n",
    "Сложность: #\n",
    "\n",
    "Написать программу, которая проверяет, попадает ли введенное пользователем целочисленное число в диапазон от -100 до 100, исключая 0. Если попадает, выведите \"yes\", если не попадает, выведите \"no\"."
   ]
  },
  {
   "cell_type": "code",
   "execution_count": 6,
   "id": "2637d3d4",
   "metadata": {},
   "outputs": [
    {
     "name": "stdout",
     "output_type": "stream",
     "text": [
      "number: -50\n",
      "yes\n"
     ]
    }
   ],
   "source": [
    "number = int(input(\"number: \"))\n",
    "if (number >= -100) and (number <= 100) and (number != 0):\n",
    "    print('yes')\n",
    "else:\n",
    "    print('no')"
   ]
  },
  {
   "cell_type": "markdown",
   "id": "9bc782f6",
   "metadata": {},
   "source": [
    "### Сравнение операций\n",
    "Сложность: #\n",
    "\n",
    "Написать программу, которая принимает от пользователя символ операции \"+\" или \"*\", затем запрашивает два целых числа и выводит результат выбранной математической операции с этими числами. Иначе выводится ошибка: \"operation unknown\"."
   ]
  },
  {
   "cell_type": "code",
   "execution_count": 7,
   "id": "0f4f232b",
   "metadata": {},
   "outputs": [
    {
     "name": "stdout",
     "output_type": "stream",
     "text": [
      "operation: +\n",
      "4\n",
      "5\n",
      "9\n"
     ]
    }
   ],
   "source": [
    "operation = input(\"operation: \")\n",
    "\n",
    "if (operation != '*') and (operation != '+'):\n",
    "    print('operation unknown')\n",
    "else:    \n",
    "    num1 = int(input())\n",
    "    num2 = int(input())\n",
    "    if operation == '*':\n",
    "        print(num1 * num2)\n",
    "    elif operation == '+':\n",
    "        print(num1 + num2)"
   ]
  },
  {
   "cell_type": "markdown",
   "id": "c4c142b9",
   "metadata": {},
   "source": [
    "### Функция приветствия\n",
    "Сложность: #\n",
    "\n",
    "Напишите функцию, которая принимает от пользователя имя и выводит сообщение в формате: \"Hello, <name> !\"."
   ]
  },
  {
   "cell_type": "code",
   "execution_count": 8,
   "id": "cd181560",
   "metadata": {},
   "outputs": [
    {
     "name": "stdout",
     "output_type": "stream",
     "text": [
      "name = dsfsdf\n",
      "Hello, dsfsdf!\n"
     ]
    }
   ],
   "source": [
    "name = input(\"name = \")\n",
    "print('Hello,', name + '!')"
   ]
  },
  {
   "cell_type": "markdown",
   "id": "52886feb",
   "metadata": {},
   "source": [
    "### Проверка числа на четность\n",
    "Сложность: #\n",
    "\n",
    "Напишите функцию, которая проверяет, является ли указанный числовой аргумент четным (True) или нет (False), и выведите соответствующее значение на экран. Числовой аргумент получите от пользователя."
   ]
  },
  {
   "cell_type": "code",
   "execution_count": 9,
   "id": "97900025",
   "metadata": {},
   "outputs": [
    {
     "name": "stdout",
     "output_type": "stream",
     "text": [
      "number = 4\n",
      "number is even to 2: True\n"
     ]
    }
   ],
   "source": [
    "number = int(input(\"number = \"))\n",
    "\n",
    "def is_even(number):\n",
    "    if number % 2 == 0:\n",
    "        return True\n",
    "    else:\n",
    "        return False\n",
    "\n",
    "print(\"number is even to 2:\", is_even(number))"
   ]
  },
  {
   "cell_type": "markdown",
   "id": "eb52017b",
   "metadata": {},
   "source": [
    "### Замена букв\n",
    "Сложность: #\n",
    "\n",
    "В слове \"антананариву\" вместо буквы \"а\" выведите \"о\", используя цикл for и условный оператор if.\n",
    "\n",
    "Обратите внимание на параметр end у функции print. По умолчанию end – это перенос строки."
   ]
  },
  {
   "cell_type": "code",
   "execution_count": 10,
   "id": "187387e0",
   "metadata": {},
   "outputs": [
    {
     "name": "stdout",
     "output_type": "stream",
     "text": [
      "онтононориву"
     ]
    }
   ],
   "source": [
    "for symbol in 'антананариву':\n",
    "    if symbol == 'а':\n",
    "        print('о', end='')\n",
    "    else:\n",
    "        print(symbol, end='')"
   ]
  },
  {
   "cell_type": "markdown",
   "id": "4c33d68b",
   "metadata": {},
   "source": [
    "### Шахматная доска\n",
    "Сложность: # #\n",
    "\n",
    "Нарисуйте шахматную доску n на n из нулей и единиц. Верхний левый символ должен быть единицей."
   ]
  },
  {
   "cell_type": "code",
   "execution_count": 11,
   "id": "7af0f834",
   "metadata": {},
   "outputs": [
    {
     "name": "stdout",
     "output_type": "stream",
     "text": [
      "5\n",
      "10101\n",
      "01010\n",
      "10101\n",
      "01010\n",
      "10101\n"
     ]
    }
   ],
   "source": [
    "n = int(input())\n",
    "\n",
    "if n == 0:\n",
    "    print('')\n",
    "if n > 0:\n",
    "    for i in range(n):\n",
    "        if i % 2 == 0:\n",
    "            for j in range(n):\n",
    "                if j % 2 == 0:\n",
    "                    print('1', end='')\n",
    "                else:\n",
    "                    print('0', end='')\n",
    "        else:\n",
    "            for j in range(n):\n",
    "                if j % 2 == 0:\n",
    "                    print('0', end='')\n",
    "                else:\n",
    "                    print('1', end='')\n",
    "        print('\\n', end='')"
   ]
  },
  {
   "cell_type": "markdown",
   "id": "afa528bf",
   "metadata": {},
   "source": [
    "### Графика\n",
    "Сложность: # #\n",
    "\n",
    "Выведите пирамиду заданной высоты, состоящую из символов * . Значение высоты вводится пользователем. Важно соблюдать увеличение количества звезд в зависимости от высоты, а также правильно центрировать звездочки."
   ]
  },
  {
   "cell_type": "code",
   "execution_count": 23,
   "id": "e8223b26",
   "metadata": {},
   "outputs": [
    {
     "name": "stdout",
     "output_type": "stream",
     "text": [
      "3\n",
      "  *\n",
      " ***\n",
      "*****\n"
     ]
    }
   ],
   "source": [
    "n = int(input())\n",
    "\n",
    "for i in range(n):\n",
    "    step = ' ' * (n-i-1)\n",
    "    print(step + '*', end='')\n",
    "    print('*' * (i*2))\n",
    "    "
   ]
  },
  {
   "cell_type": "markdown",
   "id": "e3ea1968",
   "metadata": {},
   "source": [
    "### Маленькое произведение\n",
    "Сложность: #\n",
    "\n",
    "Даны два натуральных числа a и b (известно, что b больше, чем a). Вывести наибольшее кол-во чисел, входящих в промежуток [a, b], произведение которых не превышает произведения чисел a и b."
   ]
  },
  {
   "cell_type": "code",
   "execution_count": 19,
   "id": "e710cef4",
   "metadata": {},
   "outputs": [
    {
     "name": "stdout",
     "output_type": "stream",
     "text": [
      "1\n",
      "4\n",
      "2\n"
     ]
    }
   ],
   "source": [
    "a = int(input())\n",
    "b = int(input())\n",
    "\n",
    "if a < b:\n",
    "    count = 1\n",
    "    multi = a\n",
    "    for i in range(a+1, b+1):\n",
    "        multi *= i\n",
    "        if multi <= a*b:\n",
    "            count+=1       \n",
    "    print(count)\n",
    "\n",
    "else:\n",
    "    print('a must be smaller than b')"
   ]
  },
  {
   "cell_type": "markdown",
   "id": "ef26fccd",
   "metadata": {},
   "source": [
    "### Список чисел\n",
    "Сложность: #\n",
    "\n",
    "В следующем коде замените символы «???» так, чтобы полученный код создавал список чисел numeric_list от 1 до 5 включительно, и выведите список на экран"
   ]
  },
  {
   "cell_type": "code",
   "execution_count": null,
   "id": "f87fd93f",
   "metadata": {},
   "outputs": [],
   "source": [
    "numeric_list = ???\n",
    "for i in range(1, ???):\n",
    "    numeric_list.???(i)\n",
    " \n",
    "print(numeric_list)"
   ]
  },
  {
   "cell_type": "code",
   "execution_count": 21,
   "id": "fd9f650d",
   "metadata": {},
   "outputs": [
    {
     "name": "stdout",
     "output_type": "stream",
     "text": [
      "[1, 2, 3, 4, 5]\n"
     ]
    }
   ],
   "source": [
    "numeric_list = []\n",
    "for i in range(1, 6):\n",
    "    numeric_list.append(i)\n",
    " \n",
    "print(numeric_list)"
   ]
  },
  {
   "cell_type": "markdown",
   "id": "e6da173e",
   "metadata": {},
   "source": [
    "### Поиск экстремумов\n",
    "Сложность: # #\n",
    "\n",
    "Найдите максимальный и минимальный элементы в списке из числовых значений."
   ]
  },
  {
   "cell_type": "code",
   "execution_count": null,
   "id": "a5a8c6e8",
   "metadata": {},
   "outputs": [],
   "source": [
    "lst = [int(x) for x in input().split(',')]\n",
    "\n",
    "print(\"lst:\", lst)\n",
    "…\n",
    "print(\"max:\", emax)\n",
    "print(\"min:\", emin)"
   ]
  },
  {
   "cell_type": "code",
   "execution_count": 27,
   "id": "01697a0d",
   "metadata": {},
   "outputs": [
    {
     "name": "stdout",
     "output_type": "stream",
     "text": [
      "lst: [10, 67, 86, 87, 12, 28, 32, 63, 41, 94]\n",
      "max: 94\n",
      "min: 10\n"
     ]
    }
   ],
   "source": [
    "lst = [int(x) for x in ('10, 67, 86, 87, 12, 28, 32, 63, 41, 94').split(',')]\n",
    "\n",
    "print(\"lst:\", lst)\n",
    "emax = max(lst)\n",
    "print(\"max:\", emax)\n",
    "emin = min(lst)\n",
    "print(\"min:\", emin)"
   ]
  },
  {
   "cell_type": "markdown",
   "id": "1326fd4d",
   "metadata": {},
   "source": [
    "### Поиск элемента\n",
    "Сложность: # # #\n",
    "\n",
    "Напишите функцию slice_tup(), которая принимает на вход кортеж и некоторый элемент, а возвращает кортеж, начиная с первого вхождения этого элемента и далее. Если элемента в кортеже нет, то возвращается исходный кортеж."
   ]
  },
  {
   "cell_type": "code",
   "execution_count": null,
   "id": "af0cdc2a",
   "metadata": {},
   "outputs": [],
   "source": [
    "def slice_tup(tup, el):\n",
    "…\n",
    "print(slice_tup((1, 2, 3, 4), 2))\n",
    "print(slice_tup(('a', 'b', 'c', 'd'), 'd'))\n",
    "print(slice_tup((1, 2, 3, 4), 5))\n",
    "print(slice_tup(('a', 'b', 'c', 'd'), 'a'))"
   ]
  },
  {
   "cell_type": "code",
   "execution_count": 46,
   "id": "78e9bb4c",
   "metadata": {},
   "outputs": [
    {
     "name": "stdout",
     "output_type": "stream",
     "text": [
      "(2, 3, 4)\n",
      "('d',)\n",
      "(1, 2, 3, 4)\n",
      "('a', 'b', 'c', 'd')\n"
     ]
    }
   ],
   "source": [
    "def slice_tup(tup, el):\n",
    "    if el in tup:    \n",
    "        list_tup = []\n",
    "        for i in range(len(tup)):\n",
    "            if tup[i] == el:\n",
    "                count = i\n",
    "                break\n",
    "        while count < len(tup):\n",
    "            list_tup.append(tup[count])\n",
    "            count+=1\n",
    "        tup = tuple(list_tup)\n",
    "    return tup\n",
    "\n",
    "print(slice_tup((1, 2, 3, 4), 2))\n",
    "print(slice_tup(('a', 'b', 'c', 'd'), 'd'))\n",
    "print(slice_tup((1, 2, 3, 4), 5))\n",
    "print(slice_tup(('a', 'b', 'c', 'd'), 'a'))\n",
    "            \n"
   ]
  },
  {
   "cell_type": "markdown",
   "id": "878ba333",
   "metadata": {},
   "source": [
    "### Печать алфавита\n",
    "Сложность: #\n",
    "\n",
    "Напишите программу, которая создает словарь alphabet, ключами которого являются русские строчные буквы, а значениями --- порядковые номера букв в алфавите, начиная с 1. Программа ничего выводить не должна, правильность заполнения словаря будет проверена автоматически."
   ]
  },
  {
   "cell_type": "code",
   "execution_count": null,
   "id": "6597b0ce",
   "metadata": {},
   "outputs": [],
   "source": [
    "russian = 'абвгдеёжзийклмнопрстуфхцчшщъыьэюя'\n",
    "alphabet = {}"
   ]
  },
  {
   "cell_type": "code",
   "execution_count": 48,
   "id": "0df45ff2",
   "metadata": {},
   "outputs": [
    {
     "name": "stdout",
     "output_type": "stream",
     "text": [
      "{'а': 1, 'б': 2, 'в': 3, 'г': 4, 'д': 5, 'е': 6, 'ё': 7, 'ж': 8, 'з': 9, 'и': 10, 'й': 11, 'к': 12, 'л': 13, 'м': 14, 'н': 15, 'о': 16, 'п': 17, 'р': 18, 'с': 19, 'т': 20, 'у': 21, 'ф': 22, 'х': 23, 'ц': 24, 'ч': 25, 'ш': 26, 'щ': 27, 'ъ': 28, 'ы': 29, 'ь': 30, 'э': 31, 'ю': 32, 'я': 33}\n"
     ]
    }
   ],
   "source": [
    "russian = 'абвгдеёжзийклмнопрстуфхцчшщъыьэюя'\n",
    "alphabet = {russian[i]: i+1 for i in range(len(russian))}\n",
    "\n",
    "print(alphabet)"
   ]
  },
  {
   "cell_type": "markdown",
   "id": "30b4443c",
   "metadata": {},
   "source": [
    "### Анаграммы\n",
    "Сложность: # #\n",
    "\n",
    "Анаграммой строки S1 называется строка S2, которая получается из строки S1 путем перестановки символов. На входе программа получает две строки: S1 и S2. Ваша задача выяснить, является ли строка S2 анаграммой строки S1. Выведите YES, если является, и NO, если не является."
   ]
  },
  {
   "cell_type": "code",
   "execution_count": null,
   "id": "6670c568",
   "metadata": {},
   "outputs": [],
   "source": [
    "s1, s2 = input(), input()"
   ]
  },
  {
   "cell_type": "code",
   "execution_count": 58,
   "id": "135094fc",
   "metadata": {},
   "outputs": [
    {
     "name": "stdout",
     "output_type": "stream",
     "text": [
      "NO\n"
     ]
    }
   ],
   "source": [
    "s1, s2 = 'abc', 'acba'\n",
    "lst1 = []\n",
    "if len(s1) == len(s2):\n",
    "    for i in s1:\n",
    "        lst1.append(i)\n",
    "    for j in lst1:\n",
    "        if j not in s2:\n",
    "            print('NO')\n",
    "            break\n",
    "    print('YES')\n",
    "else:\n",
    "    print('NO')\n",
    "    "
   ]
  },
  {
   "cell_type": "markdown",
   "id": "aac6b638",
   "metadata": {},
   "source": [
    "## Азбука Морзе\n",
    "Сложность: # #\n",
    "\n",
    "Вам дан английский текст. Закодируйте его с помощью азбуки Морзе. Каждая буква заменяется на последовательность точек и тире. В качестве тире используйте обычный дефис «-», а в качестве точки — точку «.». Например, буква «g» превратится в трёхсимвольную строку «--.». Ниже в переменной morze для вашего удобства хранится словарь соответствия английских букв коду Морзе. \n",
    "\n",
    "Входные данные   \n",
    "Весь текст записан в единственной строке. Текст состоит из английских букв и пробелов, других символов в тексте нет. В тексте не может быть двух или более пробелов подряд. \n",
    "\n",
    "Выходные данные   \n",
    "Выведите каждое слово исходного текста, закодированное азбукой Морзе, на отдельной строке. Количество строк в ответе должно совпадать с количеством слов в исходном тексте. Между закодированными буквами ставится ровно один пробел. Например, слово «Help» превратится в «.... . .-.. .--.». Обратите внимание, что строчные и заглавные буквы кодируются одинаково.\n",
    "\n",
    "Исходный текст Ignition sequence start Перевод   \n",
    "`•• ——• —• •• — •• ——— —• ••• • ——•— ••— • —• —•—• • ••• — •— •—• —`"
   ]
  },
  {
   "cell_type": "code",
   "execution_count": null,
   "id": "49a923a2",
   "metadata": {},
   "outputs": [],
   "source": [
    "morze = {'a': '•—', 'b': '—•••', 'c': '—•—•', 'd': '—••',\n",
    "         'e': '•', 'f': '••—•', 'g': '——•', 'h': '••••',\n",
    "         'i': '••', 'j': '•———', 'k': '—•—', 'l': '•—••',\n",
    "         'm': '——', 'n': '—•', 'o': '———', 'p': '•——•',\n",
    "         'q': '——•—', 'r': '•—•', 's': '•••', 't': '—',\n",
    "         'u': '••—', 'v': '•••—', 'w': '•——', 'x': '—••—',\n",
    "         'y': '—•——', 'z': '——••'}"
   ]
  },
  {
   "cell_type": "code",
   "execution_count": 66,
   "id": "f77aa3d1",
   "metadata": {},
   "outputs": [
    {
     "name": "stdout",
     "output_type": "stream",
     "text": [
      "I\n",
      "••\n",
      "want\n",
      "•—— •— —• —\n",
      "cheeseburger\n",
      "—•—• •••• • • ••• • —••• ••— •—• ——• • •—•\n"
     ]
    }
   ],
   "source": [
    "morze = {'a': '•—', 'b': '—•••', 'c': '—•—•', 'd': '—••',\n",
    "         'e': '•', 'f': '••—•', 'g': '——•', 'h': '••••',\n",
    "         'i': '••', 'j': '•———', 'k': '—•—', 'l': '•—••',\n",
    "         'm': '——', 'n': '—•', 'o': '———', 'p': '•——•',\n",
    "         'q': '——•—', 'r': '•—•', 's': '•••', 't': '—',\n",
    "         'u': '••—', 'v': '•••—', 'w': '•——', 'x': '—••—',\n",
    "         'y': '—•——', 'z': '——••'}\n",
    "\n",
    "string = 'I want cheeseburger'\n",
    "string = string.split()\n",
    "# string = input().split()\n",
    "for a in string:\n",
    "    print(a)\n",
    "    code = ''\n",
    "    for i in range(len(a)):\n",
    "        if (i != (len(a)-1)) and (len(a) > 1):\n",
    "            code = code+morze.get(a[i].lower())+' '\n",
    "        else: \n",
    "            code = code+morze.get(a[i].lower())\n",
    "    print(code)"
   ]
  },
  {
   "cell_type": "markdown",
   "id": "30ecce06-20b8-4604-808c-6b73228979f7",
   "metadata": {},
   "source": [
    "## Количество уникальных элементов\n",
    "\n",
    "Сложность #\n",
    "\n",
    "Перед вами два списка. Посчитайте разность количества уникальных элементов этих двух списков и выведите ее на экран. Разность возьмите по модулю, воспользовавшись функцией abs()."
   ]
  },
  {
   "cell_type": "code",
   "execution_count": null,
   "id": "8024c4b9",
   "metadata": {},
   "outputs": [],
   "source": [
    "a = [int(x) for x in input().split(',')]\n",
    "b = [int(x) for x in input().split(',')]"
   ]
  },
  {
   "cell_type": "code",
   "execution_count": 19,
   "id": "035f3903",
   "metadata": {},
   "outputs": [
    {
     "name": "stdout",
     "output_type": "stream",
     "text": [
      "25\n",
      "<class 'str'>\n"
     ]
    }
   ],
   "source": [
    "c = ('59, 72, 62, 18, 24, 59, 73, 55, 46, 82, 58, 40, 6, 52, 25, 8, 35, 20, 66, 54, 68, 31, 39, 16, 34, 82, 15, 98, 84, 100, 70, 68, 68, 35, 35, 53, 63, 65, 93, 100, 78, 43, 36, 50, 45, 8, 86, 5, 76, 87, 15, 77, 19, 72, 51, 30, 62, 67, 84, 73, 82, 8, 47, 21, 70, 72, 28, 34, 46, 52, 86, 46, 19, 12, 5, 84, 45, 30, 13, 83, 73, 80, 61, 33, 81, 88, 45, 41, 91, 90, 39, 55, 23, 71, 89, 41, 83, 33, 91, 26')\n",
    "d = ('30, 46, 53, 53, 16, 48, 15, 22, 40, 8, 37, 46, 57, 59, 59, 24, 6, 3, 2, 14, 39, 8, 20, 40, 6, 1, 38, 47, 57, 50, 22, 8, 52, 0, 18, 35, 47, 52, 45, 56, 11, 9, 44, 31, 42, 16, 44, 0, 31, 31, 29, 29, 56, 51, 3, 30, 25, 34, 36, 41')\n",
    "\n",
    "a = [int(x) for x in c.split(',')]\n",
    "b = [int(x) for x in d.split(',')]\n",
    "\n",
    "amod = set(a)\n",
    "bmod = set(b)\n",
    "diff = abs(len(amod) - len(bmod))\n",
    "print(diff)\n",
    "\n",
    "print(type(c))"
   ]
  },
  {
   "cell_type": "markdown",
   "id": "003d68b8-a18e-4875-a27d-05b4701410c6",
   "metadata": {},
   "source": [
    "## Прошлые встречи\n",
    "Сложность: #\n",
    "\n",
    "Во входной строке записана последовательность чисел, отделенных пробелами. Для каждого числа выведите слово YES (в отдельной строке), если это число ранее встречалось в последовательности, и NO, если не встречалось.\n",
    "\n",
    "1 2 3 2 3 4\n"
   ]
  },
  {
   "cell_type": "code",
   "execution_count": null,
   "id": "2bbee954-162c-45dd-bde6-fd0ac8e564ae",
   "metadata": {},
   "outputs": [],
   "source": [
    "a = input().split()"
   ]
  },
  {
   "cell_type": "code",
   "execution_count": 15,
   "id": "c62445a3-cf7c-405f-a908-38bc8c8375e3",
   "metadata": {},
   "outputs": [
    {
     "name": "stdout",
     "output_type": "stream",
     "text": [
      "NO\n",
      "NO\n",
      "NO\n",
      "YES\n",
      "YES\n",
      "NO\n"
     ]
    }
   ],
   "source": [
    "b = '1 2 3 2 3 4'\n",
    "c = set()\n",
    "a = b.split()\n",
    "\n",
    "for i in a:\n",
    "    if i not in c:\n",
    "        print('NO')\n",
    "        c.add(i)\n",
    "    else: print('YES')\n"
   ]
  },
  {
   "cell_type": "markdown",
   "id": "d2c69e2a-67f9-467f-bb19-d4bf999f7f40",
   "metadata": {},
   "source": [
    "## Сборная солянка\n",
    "Сложность: #\n",
    "\n",
    "Из списка menu удалите второй суп со значением \"солянка\" и выведите новый список menu на экран."
   ]
  },
  {
   "cell_type": "code",
   "execution_count": null,
   "id": "9bcf1b8d-a622-45b5-89ca-fd71aa9489dd",
   "metadata": {},
   "outputs": [],
   "source": [
    "menu = [\"харчо\", \"солянка\", \"плов\", \"ачик-чучук\"]\n",
    "# Ваш код здесь\n",
    "print(menu)"
   ]
  },
  {
   "cell_type": "code",
   "execution_count": 1,
   "id": "65fc8e6c-215d-4133-8947-814d44536ce2",
   "metadata": {},
   "outputs": [
    {
     "name": "stdout",
     "output_type": "stream",
     "text": [
      "['харчо', 'плов', 'ачик-чучук']\n"
     ]
    }
   ],
   "source": [
    "menu = [\"харчо\", \"солянка\", \"плов\", \"ачик-чучук\"]\n",
    "menu.pop(1)\n",
    "print(menu)"
   ]
  },
  {
   "cell_type": "markdown",
   "id": "ebcb2497-2b99-4c89-bf35-df6f8079359a",
   "metadata": {},
   "source": [
    "## Преобразование строки в список\n",
    "Сложность: #\n",
    "\n",
    "Преобразуйте строку с покупками `shopstring` в список покупок `shoplist` и выведите его на экран."
   ]
  },
  {
   "cell_type": "code",
   "execution_count": null,
   "id": "5af109f1-7b0f-4e79-9cb4-04fcf72b1f5e",
   "metadata": {},
   "outputs": [],
   "source": [
    "shopstring = \"яблоки##бананы##говядина##яйца\"\n",
    "# Ваш код здесь\n",
    "print(shoplist)"
   ]
  },
  {
   "cell_type": "code",
   "execution_count": 4,
   "id": "95191189-2453-4238-a521-33dc060b647e",
   "metadata": {},
   "outputs": [
    {
     "data": {
      "text/plain": [
       "['яблоки', 'бананы', 'говядина', 'яйца']"
      ]
     },
     "execution_count": 4,
     "metadata": {},
     "output_type": "execute_result"
    }
   ],
   "source": [
    "shopstring = \"яблоки##бананы##говядина##яйца\"\n",
    "shoplist = shopstring.split('##')\n",
    "shoplist"
   ]
  },
  {
   "cell_type": "code",
   "execution_count": null,
   "id": "6755bb09-f5f0-4435-8034-b5bcbf1f459c",
   "metadata": {},
   "outputs": [],
   "source": []
  },
  {
   "cell_type": "code",
   "execution_count": null,
   "id": "afabc504-5b81-486d-8bb3-a483ff055303",
   "metadata": {},
   "outputs": [],
   "source": []
  },
  {
   "cell_type": "code",
   "execution_count": null,
   "id": "b4cdf5f5-3882-494b-93c7-6b0c05765029",
   "metadata": {},
   "outputs": [],
   "source": []
  },
  {
   "cell_type": "code",
   "execution_count": null,
   "id": "f9fda765-20ee-43df-85da-ee3514b76215",
   "metadata": {},
   "outputs": [],
   "source": []
  },
  {
   "cell_type": "code",
   "execution_count": null,
   "id": "003012d2-bad3-404c-992b-3c480d41b4e3",
   "metadata": {},
   "outputs": [],
   "source": []
  },
  {
   "cell_type": "code",
   "execution_count": null,
   "id": "531c9c26-0375-49bf-9c2f-aa3125c255a7",
   "metadata": {},
   "outputs": [],
   "source": []
  },
  {
   "cell_type": "code",
   "execution_count": null,
   "id": "b2bc1dc8-4fe9-4ebc-acc2-9458d482d62c",
   "metadata": {},
   "outputs": [],
   "source": []
  },
  {
   "cell_type": "code",
   "execution_count": null,
   "id": "d3900f5a-a284-4756-871f-de7eebcd60ad",
   "metadata": {},
   "outputs": [],
   "source": []
  },
  {
   "cell_type": "code",
   "execution_count": null,
   "id": "65483147-c4ba-49f2-a45e-119485363297",
   "metadata": {},
   "outputs": [],
   "source": []
  }
 ],
 "metadata": {
  "kernelspec": {
   "display_name": "Python 3 (ipykernel)",
   "language": "python",
   "name": "python3"
  },
  "language_info": {
   "codemirror_mode": {
    "name": "ipython",
    "version": 3
   },
   "file_extension": ".py",
   "mimetype": "text/x-python",
   "name": "python",
   "nbconvert_exporter": "python",
   "pygments_lexer": "ipython3",
   "version": "3.11.0"
  }
 },
 "nbformat": 4,
 "nbformat_minor": 5
}
