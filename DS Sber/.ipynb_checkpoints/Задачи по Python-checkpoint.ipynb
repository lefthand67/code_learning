{
 "cells": [
  {
   "cell_type": "markdown",
   "id": "3c5f4856",
   "metadata": {},
   "source": [
    "# Задачи по Python"
   ]
  },
  {
   "cell_type": "markdown",
   "id": "3ec8ac06-798f-4768-98ad-a4feee28ea96",
   "metadata": {},
   "source": [
    "# Исправление кода 1\n",
    "Сложность: #\n",
    "\n",
    "Исправьте программу так, чтобы ее результат соответствовал ожидаемому выводу \"Hello, World!\".\n",
    "\n",
    "```python\n",
    "print (Hello, World!)\n",
    "```"
   ]
  },
  {
   "cell_type": "code",
   "execution_count": 31,
   "id": "0e412037-342a-40ee-918f-59f860271c65",
   "metadata": {},
   "outputs": [],
   "source": [
    "# type here"
   ]
  },
  {
   "cell_type": "markdown",
   "id": "916a7ce8-5203-4a51-af9d-fa0a4117b53d",
   "metadata": {},
   "source": [
    "# Создание и изменение переменной\n",
    "Сложность: #\n",
    "\n",
    "Создайте переменную value, имеющую значение 15.5, и поменяйте ее значение на 68.99:\n",
    "\n",
    "Данные для проверки:\n",
    "```\n",
    "Входные данные:\n",
    "15\n",
    "Выходные данные:\n",
    "15.5\n",
    "68.99\n",
    "```"
   ]
  },
  {
   "cell_type": "markdown",
   "id": "07aecfc1-e16f-4d06-92f7-fb13083b882a",
   "metadata": {},
   "source": [
    "```python\n",
    "# создайте value\n",
    "\n",
    "print(value)\n",
    "# поменяйте значение value\n",
    "\n",
    "print(value)\n",
    "```"
   ]
  },
  {
   "cell_type": "code",
   "execution_count": 8,
   "id": "ae4fc8dc",
   "metadata": {},
   "outputs": [
    {
     "name": "stdout",
     "output_type": "stream",
     "text": [
      "15.5\n",
      "68.99\n"
     ]
    }
   ],
   "source": [
    "# создайте value\n",
    "value = 15.5\n",
    "print(value)\n",
    "# поменяйте значение value\n",
    "value = 68.99\n",
    "print(value)"
   ]
  },
  {
   "cell_type": "markdown",
   "id": "790aa903-f063-467d-9490-cced255e6751",
   "metadata": {},
   "source": [
    "# Цена муки\n",
    "Сложность: #\n",
    "\n",
    "Рисовая мука поступает с двух заводов: краснодарского и ленинградского, по различной цене. Напишите программу, которая запрашивает цену килограмма рисовой муки, количество килограммов товара в начале рабочего дня и количество проданного товара, а затем выводит стоимость всех товаров в начале рабочего дня и стоимость всех непроданных товаров.\n",
    "\n",
    "Данные для проверки:\n",
    "```\n",
    "Входные данные:\n",
    "50\n",
    "100\n",
    "30\n",
    "Выходные данные:\n",
    "The cost of all goods: 5000\n",
    "The cost of all unsold goods: 3500\n",
    "\n",
    "Входные данные:\n",
    "50\n",
    "0\n",
    "0\n",
    "Выходные данные:\n",
    "The cost of all goods: 0\n",
    "The cost of all unsold goods: 0\n",
    "\n",
    "Входные данные:\n",
    "50\n",
    "10\n",
    "0\n",
    "Выходные данные:\n",
    "The cost of all goods: 500\n",
    "The cost of all unsold goods: 500\n",
    "\n",
    "Входные данные:\n",
    "0\n",
    "100\n",
    "50\n",
    "Выходные данные:\n",
    "The cost of all goods: 0\n",
    "The cost of all unsold goods: 0\n",
    "\n",
    "Входные данные:\n",
    "20\n",
    "100\n",
    "100\n",
    "Выходные данные:\n",
    "The cost of all goods: 2000\n",
    "The cost of all unsold goods: 0\n",
    "```"
   ]
  },
  {
   "cell_type": "markdown",
   "id": "5d2664c5-149e-4ba2-a4ba-c182a69152a6",
   "metadata": {},
   "source": [
    "```python\n",
    "price = ...\n",
    "count = ...\n",
    "sales = ...\n",
    "print(\"The cost of all goods:\", ...)\n",
    "print(\"The cost of all unsold goods:\", ...)\n",
    "```"
   ]
  },
  {
   "cell_type": "code",
   "execution_count": 2,
   "id": "f99277cb",
   "metadata": {},
   "outputs": [
    {
     "name": "stdin",
     "output_type": "stream",
     "text": [
      " 34\n",
      " 54\n",
      " 4\n"
     ]
    },
    {
     "name": "stdout",
     "output_type": "stream",
     "text": [
      "The cost of all goods: 1836\n",
      "The cost of all unsold goods: 1700\n"
     ]
    }
   ],
   "source": [
    "price = int(input())\n",
    "count = int(input())\n",
    "sales =  int(input())\n",
    "value_1 = count * price\n",
    "value_2 = (count - sales) * price\n",
    "print(\"The cost of all goods:\", value_1)\n",
    "print(\"The cost of all unsold goods:\", value_2)"
   ]
  },
  {
   "cell_type": "markdown",
   "id": "ff7aa380",
   "metadata": {},
   "source": [
    "## Расставьте скобки\n",
    "Сложность: # #\n",
    "\n",
    "Расставьте скобки, не меняя само выражение, так, чтобы переменная `res` приняла значение 0.0."
   ]
  },
  {
   "cell_type": "markdown",
   "id": "42a0d8ca-54f9-4fd4-a1e3-db61d22cb140",
   "metadata": {},
   "source": [
    "```python\n",
    "res = 70 / 3 + 4 * 5 % 2\n",
    "print(res)\n",
    "```"
   ]
  },
  {
   "cell_type": "code",
   "execution_count": 4,
   "id": "f0d9078b",
   "metadata": {},
   "outputs": [
    {
     "name": "stdout",
     "output_type": "stream",
     "text": [
      "0.0\n"
     ]
    }
   ],
   "source": [
    "res = (70 /(3 + 4)) * 5 % 2\n",
    "print(res)"
   ]
  },
  {
   "cell_type": "markdown",
   "id": "2a2ac50a-49cf-4ad5-8ccf-c56c0cc71a15",
   "metadata": {},
   "source": [
    "## Повторы\n",
    "Сложность: # #\n",
    "\n",
    "Написать программу, которая получает от пользователя три числа и выводит на экран повторяющееся среди них число, используя секцию `ELIF` конструкции `IF`. Если повторяющегося числа нет, то ничего выводить не нужно.\n",
    "\n",
    "Данные для проверки:\n",
    "```\n",
    "Входные данные:\n",
    "6\n",
    "8\n",
    "8\n",
    "Выходные данные:\n",
    "8\n",
    "\n",
    "Входные данные:\n",
    "6\n",
    "6\n",
    "8\n",
    "Выходные данные:\n",
    "6\n",
    "\n",
    "Входные данные:\n",
    "6\n",
    "7\n",
    "8\n",
    "Выходные данные:\n",
    "\n",
    "Входные данные:\n",
    "0\n",
    "0\n",
    "0\n",
    "Выходные данные:\n",
    "0\n",
    "\n",
    "Входные данные:\n",
    "1\n",
    "3\n",
    "-1\n",
    "Выходные данные:\n",
    "```"
   ]
  },
  {
   "cell_type": "markdown",
   "id": "4636b09e-1a4e-4cf9-982e-3aee7d0cb8e2",
   "metadata": {},
   "source": [
    "```python\n",
    "value0 = int(input())\n",
    "value1 = int(input())\n",
    "value2 = int(input())\n",
    "```"
   ]
  },
  {
   "cell_type": "code",
   "execution_count": 5,
   "id": "ba7c6318",
   "metadata": {},
   "outputs": [
    {
     "name": "stdout",
     "output_type": "stream",
     "text": [
      "3\n",
      "5\n",
      "3\n",
      "3\n"
     ]
    }
   ],
   "source": [
    "value0 = int(input())\n",
    "value1 = int(input())\n",
    "value2 = int(input())\n",
    "if (value0 != value1) and (value0 != value2) and (value1 != value2):\n",
    "    pass\n",
    "elif (value0 == value1) or (value0 == value2):\n",
    "    print(value0)\n",
    "elif value1 == value2:\n",
    "    print(value1)"
   ]
  },
  {
   "cell_type": "markdown",
   "id": "99f99273-8ac8-4899-a8bb-cf65ae2c8fbe",
   "metadata": {},
   "source": [
    "# Проверить диапазон\n",
    "Сложность: #\n",
    "\n",
    "Написать программу, которая проверяет, попадает ли введенное пользователем целочисленное число в диапазон от -100 до 100, исключая 0. Если попадает, выведите \"yes\", если не попадает, выведите \"no\".\n",
    "\n",
    "Данные для проверки:\n",
    "```\n",
    "Входные данные:\n",
    "50\n",
    "Выходные данные:\n",
    "yes\n",
    "\n",
    "Входные данные:\n",
    "52\n",
    "Выходные данные:\n",
    "yes\n",
    "\n",
    "Входные данные:\n",
    "-105\n",
    "Выходные данные:\n",
    "no\n",
    "\n",
    "Входные данные:\n",
    "84\n",
    "Выходные данные:\n",
    "yes\n",
    "\n",
    "Входные данные:\n",
    "0\n",
    "Выходные данные:\n",
    "no\n",
    "```"
   ]
  },
  {
   "cell_type": "markdown",
   "id": "dec03ff2-4ef6-49ab-8a85-3de117852e18",
   "metadata": {},
   "source": [
    "```python\n",
    "number = int(input(\"number: \"))\n",
    "...\n",
    "```"
   ]
  },
  {
   "cell_type": "code",
   "execution_count": 6,
   "id": "2637d3d4",
   "metadata": {},
   "outputs": [
    {
     "name": "stdout",
     "output_type": "stream",
     "text": [
      "number: -50\n",
      "yes\n"
     ]
    }
   ],
   "source": [
    "number = int(input(\"number: \"))\n",
    "if (number >= -100) and (number <= 100) and (number != 0):\n",
    "    print('yes')\n",
    "else:\n",
    "    print('no')"
   ]
  },
  {
   "cell_type": "markdown",
   "id": "3971a8d7-6b2c-4695-b654-bc265d677350",
   "metadata": {},
   "source": [
    "# Сравнение операций\n",
    "Сложность: #\n",
    "\n",
    "Написать программу, которая принимает от пользователя символ операции `+` или `*`, затем запрашивает два целых числа и выводит результат выбранной математической операции с этими числами. Иначе выводится ошибка: `\"operation unknown\"`.\n",
    "\n",
    "Данные для проверки:\n",
    "```\n",
    "Входные данные:\n",
    "+\n",
    "1\n",
    "2\n",
    "Выходные данные:\n",
    "3\n",
    "\n",
    "Входные данные:\n",
    "*\n",
    "4\n",
    "2\n",
    "Выходные данные:\n",
    "8\n",
    "\n",
    "Входные данные:\n",
    "-\n",
    "Выходные данные:\n",
    "operation unknown\n",
    "\n",
    "Входные данные:\n",
    "/\n",
    "Выходные данные:\n",
    "operation unknown\n",
    "\n",
    "Входные данные:\n",
    "+\n",
    "5\n",
    "-5\n",
    "Выходные данные:\n",
    "0\n",
    "```"
   ]
  },
  {
   "cell_type": "markdown",
   "id": "c9ab7e26-80e0-473d-9a17-c1551e73c2e7",
   "metadata": {},
   "source": [
    "```python\n",
    "operation = input(\"operation: \")\n",
    "...\n",
    "```"
   ]
  },
  {
   "cell_type": "code",
   "execution_count": 2,
   "id": "0f4f232b",
   "metadata": {},
   "outputs": [
    {
     "name": "stdin",
     "output_type": "stream",
     "text": [
      "operation:  +\n",
      " 5\n",
      " -5\n"
     ]
    },
    {
     "name": "stdout",
     "output_type": "stream",
     "text": [
      "0\n"
     ]
    }
   ],
   "source": [
    "operation = input(\"operation: \")\n",
    "\n",
    "if (operation != '*') and (operation != '+'):\n",
    "    print('operation unknown')\n",
    "else:\n",
    "    num1 = int(input())\n",
    "    num2 = int(input())\n",
    "    if operation == '*':\n",
    "        print(num1 * num2)\n",
    "    elif operation == '+':\n",
    "        print(num1 + num2)"
   ]
  },
  {
   "cell_type": "markdown",
   "id": "7800da7b-521a-415e-bcf9-988cd5466766",
   "metadata": {},
   "source": [
    "# Функция приветствия\n",
    "Сложность: #\n",
    "\n",
    "Напишите функцию, которая принимает от пользователя имя и выводит сообщение в формате: `\"Hello, <name> !\"`.\n",
    "\n",
    "Данные для проверки:\n",
    "```\n",
    "Входные данные:\n",
    "Aton\n",
    "Выходные данные:\n",
    "Hello, Aton!\n",
    "\n",
    "Входные данные:\n",
    "name\n",
    "Выходные данные:\n",
    "Hello, name!\n",
    "\n",
    "Входные данные:\n",
    "MasterMind\n",
    "Выходные данные:\n",
    "Hello, MasterMind!\n",
    "\n",
    "Входные данные:\n",
    "Выходные данные:\n",
    "Hello, !\n",
    "\n",
    "Входные данные:\n",
    "olleH\n",
    "Выходные данные:\n",
    "Hello, olleH!\n",
    "```"
   ]
  },
  {
   "cell_type": "markdown",
   "id": "98793eba-db76-4bb4-a9f5-527f7c08b778",
   "metadata": {},
   "source": [
    "```python\n",
    "name = input(\"name = \")\n",
    "…\n",
    "show_hello_name(name)\n",
    "```"
   ]
  },
  {
   "cell_type": "code",
   "execution_count": 179,
   "id": "f1209e31-6dd5-47e5-a1aa-f048843000dd",
   "metadata": {},
   "outputs": [
    {
     "name": "stdin",
     "output_type": "stream",
     "text": [
      "name =  dfdsf\n"
     ]
    },
    {
     "name": "stdout",
     "output_type": "stream",
     "text": [
      "Hello, dfdsf!\n"
     ]
    }
   ],
   "source": [
    "name = input(\"name = \")\n",
    "\n",
    "def show_hello_name(name):\n",
    "    print('Hello, {}!'.format(name))\n",
    "\n",
    "show_hello_name(name)"
   ]
  },
  {
   "cell_type": "markdown",
   "id": "ea21959d-ac83-4c45-b9ff-d3fd2ca65955",
   "metadata": {},
   "source": [
    "# Проверка числа на четность\n",
    "Сложность: #\n",
    "\n",
    "Напишите функцию, которая проверяет, является ли указанный числовой аргумент четным (True) или нет (False), и выведите соответствующее значение на экран. Числовой аргумент получите от пользователя.\n",
    "\n",
    "Данные для проверки:\n",
    "```\n",
    "Входные данные:\n",
    "2\n",
    "Выходные данные:\n",
    "number is even to 2: True\n",
    "\n",
    "Входные данные:\n",
    "3\n",
    "Выходные данные:\n",
    "number is even to 2: False\n",
    "\n",
    "Входные данные:\n",
    "0\n",
    "Выходные данные:\n",
    "number is even to 2: True\n",
    "\n",
    "Входные данные:\n",
    "-2\n",
    "Выходные данные:\n",
    "number is even to 2: True\n",
    "\n",
    "Входные данные:\n",
    "21\n",
    "Выходные данные:\n",
    "number is even to 2: False\n",
    "```"
   ]
  },
  {
   "cell_type": "markdown",
   "id": "f30f2277-eb9e-4521-bd54-a37aced73f90",
   "metadata": {},
   "source": [
    "```python\n",
    "number = int(input(\"number = \"))\n",
    "…\n",
    "print(\"number is even to 2:\", is_even(number))\n",
    "```"
   ]
  },
  {
   "cell_type": "code",
   "execution_count": 9,
   "id": "97900025",
   "metadata": {},
   "outputs": [
    {
     "name": "stdout",
     "output_type": "stream",
     "text": [
      "number = 4\n",
      "number is even to 2: True\n"
     ]
    }
   ],
   "source": [
    "number = int(input(\"number = \"))\n",
    "\n",
    "def is_even(number):\n",
    "    if number % 2 == 0:\n",
    "        return True\n",
    "    else:\n",
    "        return False\n",
    "\n",
    "print(\"number is even to 2:\", is_even(number))"
   ]
  },
  {
   "cell_type": "markdown",
   "id": "eb52017b",
   "metadata": {},
   "source": [
    "# Замена букв\n",
    "Сложность: #\n",
    "\n",
    "В слове `\"антананариву\"` вместо буквы `\"а\"` выведите `\"о\"`, используя цикл `for` и условный оператор `if`.\n",
    "\n",
    "Обратите внимание на параметр end у функции `print`. По умолчанию `end` – это перенос строки.\n",
    "\n",
    "Данные для проверки:\n",
    "```\n",
    "Входные данные:\n",
    "\n",
    "Выходные данные:\n",
    "онтононориву\n",
    "```"
   ]
  },
  {
   "cell_type": "markdown",
   "id": "17a2b6af-e064-4a4b-842a-cc79a3804ea5",
   "metadata": {},
   "source": [
    "```python\n",
    "for symbol in 'антананариву':\n",
    "    pass\n",
    "```"
   ]
  },
  {
   "cell_type": "code",
   "execution_count": 10,
   "id": "187387e0",
   "metadata": {},
   "outputs": [
    {
     "name": "stdout",
     "output_type": "stream",
     "text": [
      "онтононориву"
     ]
    }
   ],
   "source": [
    "for symbol in 'антананариву':\n",
    "    if symbol == 'а':\n",
    "        print('о', end='')\n",
    "    else:\n",
    "        print(symbol, end='')"
   ]
  },
  {
   "cell_type": "markdown",
   "id": "4c33d68b",
   "metadata": {},
   "source": [
    "## Шахматная доска\n",
    "Сложность: # #\n",
    "\n",
    "Нарисуйте шахматную доску n на n из нулей и единиц. Верхний левый символ должен быть единицей.\n",
    "\n",
    "Данные для проверки:\n",
    "```\n",
    "Входные данные:\n",
    "3\n",
    "Выходные данные:\n",
    "101\n",
    "010\n",
    "101\n",
    "\n",
    "Входные данные:\n",
    "0\n",
    "Выходные данные:\n",
    "\n",
    "Входные данные:\n",
    "1\n",
    "Выходные данные:\n",
    "1\n",
    "\n",
    "Входные данные:\n",
    "2\n",
    "Выходные данные:\n",
    "10\n",
    "01\n",
    "\n",
    "Входные данные:\n",
    "4\n",
    "Выходные данные:\n",
    "1010\n",
    "0101\n",
    "1010\n",
    "0101\n",
    "```"
   ]
  },
  {
   "cell_type": "markdown",
   "id": "e1b226df-4d19-4436-b947-b2129c7ccc80",
   "metadata": {},
   "source": [
    "```python\n",
    "n = int(input())\n",
    "```"
   ]
  },
  {
   "cell_type": "code",
   "execution_count": 11,
   "id": "7af0f834",
   "metadata": {},
   "outputs": [
    {
     "name": "stdout",
     "output_type": "stream",
     "text": [
      "5\n",
      "10101\n",
      "01010\n",
      "10101\n",
      "01010\n",
      "10101\n"
     ]
    }
   ],
   "source": [
    "n = int(input())\n",
    "\n",
    "if n == 0:\n",
    "    print('')\n",
    "if n > 0:\n",
    "    for i in range(n):\n",
    "        if i % 2 == 0:\n",
    "            for j in range(n):\n",
    "                if j % 2 == 0:\n",
    "                    print('1', end='')\n",
    "                else:\n",
    "                    print('0', end='')\n",
    "        else:\n",
    "            for j in range(n):\n",
    "                if j % 2 == 0:\n",
    "                    print('0', end='')\n",
    "                else:\n",
    "                    print('1', end='')\n",
    "        print('\\n', end='')"
   ]
  },
  {
   "cell_type": "markdown",
   "id": "afa528bf",
   "metadata": {},
   "source": [
    "## Графика\n",
    "Сложность: ##\n",
    "\n",
    "Выведите пирамиду заданной высоты, состоящую из символов `*` . Значение высоты вводится пользователем. Важно соблюдать увеличение количества звезд в зависимости от высоты, а также правильно центрировать звездочки. \n",
    "\n",
    "Данные для проверки:\n",
    "```\n",
    "Входные данные:\n",
    "4\n",
    "Выходные данные:\n",
    "*\n",
    "***\n",
    "*****\n",
    "*******\n",
    "\n",
    "Входные данные:\n",
    "3\n",
    "Выходные данные:\n",
    "*\n",
    "***\n",
    "*****\n",
    "\n",
    "Входные данные:\n",
    "2\n",
    "Выходные данные:\n",
    "*\n",
    "***\n",
    "\n",
    "Входные данные:\n",
    "1\n",
    "Выходные данные:\n",
    "*\n",
    "\n",
    "Входные данные:\n",
    "0\n",
    "Выходные данные:\n",
    "```"
   ]
  },
  {
   "cell_type": "markdown",
   "id": "d8be626d-6941-47f1-98b1-c76c0f3eec79",
   "metadata": {},
   "source": [
    "```python\n",
    "n = int(input())\n",
    "```"
   ]
  },
  {
   "cell_type": "code",
   "execution_count": 25,
   "id": "e8223b26",
   "metadata": {},
   "outputs": [
    {
     "name": "stdin",
     "output_type": "stream",
     "text": [
      " 5\n"
     ]
    },
    {
     "name": "stdout",
     "output_type": "stream",
     "text": [
      "    *    \n",
      "   ***   \n",
      "  *****  \n",
      " ******* \n",
      "*********\n"
     ]
    }
   ],
   "source": [
    "n = int(input())\n",
    "\n",
    "for i in range(1, n+1):\n",
    "    spaces = ' '*(n-i)\n",
    "    print(spaces + '*'*i, end='')\n",
    "    print('*'*(i-1) + spaces)\n"
   ]
  },
  {
   "cell_type": "markdown",
   "id": "e3ea1968",
   "metadata": {},
   "source": [
    "# Маленькое произведение\n",
    "Сложность: #\n",
    "\n",
    "Даны два натуральных числа `a` и `b` (известно, что `b` больше, чем `a`). Вывести наибольшее кол-во чисел, входящих в промежуток `[a, b]`, произведение которых не превышает произведения чисел `a` и `b`.\n",
    "\n",
    "Данные для проверки:\n",
    "```\n",
    "Входные данные:\n",
    "1\n",
    "4\n",
    "Выходные данные:\n",
    "2\n",
    "\n",
    "Входные данные:\n",
    "1\n",
    "2\n",
    "Выходные данные:\n",
    "2\n",
    "\n",
    "Входные данные:\n",
    "1\n",
    "100\n",
    "Выходные данные:\n",
    "4\n",
    "\n",
    "Входные данные:\n",
    "1\n",
    "3\n",
    "Выходные данные:\n",
    "2\n",
    "\n",
    "Входные данные:\n",
    "1\n",
    "1000\n",
    "Выходные данные:\n",
    "6\n",
    "```"
   ]
  },
  {
   "cell_type": "code",
   "execution_count": 32,
   "id": "e710cef4",
   "metadata": {},
   "outputs": [
    {
     "name": "stdin",
     "output_type": "stream",
     "text": [
      " 1\n",
      " 1000\n"
     ]
    },
    {
     "name": "stdout",
     "output_type": "stream",
     "text": [
      "6\n"
     ]
    }
   ],
   "source": [
    "a = int(input())\n",
    "b = int(input())\n",
    "\n",
    "if a < b:\n",
    "    count = 1\n",
    "    multi = a\n",
    "    for i in range(a+1, b+1):\n",
    "        multi *= i\n",
    "        if multi <= a*b:\n",
    "            count+=1\n",
    "    print(count)\n",
    "else:\n",
    "    print('a must be smaller than b')"
   ]
  },
  {
   "cell_type": "markdown",
   "id": "ef26fccd",
   "metadata": {},
   "source": [
    "# Список чисел\n",
    "Сложность: #\n",
    "\n",
    "В следующем коде замените символы `«???»` так, чтобы полученный код создавал список чисел `numeric_list` от 1 до 5 включительно, и выведите список на экран.\n",
    "\n",
    "Данные для проверки:\n",
    "```\n",
    "Входные данные:\n",
    "\n",
    "Выходные данные:\n",
    "[1, 2, 3, 4, 5]\n",
    "```"
   ]
  },
  {
   "cell_type": "markdown",
   "id": "97690809-7dab-42d4-8cb3-9dbff41bec7c",
   "metadata": {},
   "source": [
    "```python\n",
    "numeric_list = ???\n",
    "for i in range(1, ???):\n",
    "    numeric_list.???(i)\n",
    " \n",
    "print(numeric_list)\n",
    "```"
   ]
  },
  {
   "cell_type": "code",
   "execution_count": 33,
   "id": "fd9f650d",
   "metadata": {},
   "outputs": [
    {
     "name": "stdout",
     "output_type": "stream",
     "text": [
      "[1, 2, 3, 4, 5]\n"
     ]
    }
   ],
   "source": [
    "numeric_list = list()\n",
    "for i in range(1, 6):\n",
    "    numeric_list.append(i)\n",
    "print(numeric_list)"
   ]
  },
  {
   "cell_type": "markdown",
   "id": "e6da173e",
   "metadata": {},
   "source": [
    "## Поиск экстремумов\n",
    "Сложность: # #\n",
    "\n",
    "Найдите максимальный и минимальный элементы в списке из числовых значений.\n",
    "\n",
    "Данные для проверки:\n",
    "```\n",
    "Входные данные:\n",
    "10, 67, 86, 87, 12, 28, 32, 63, 41, 94\n",
    "Выходные данные:\n",
    "lst: [10, 67, 86, 87, 12, 28, 32, 63, 41, 94]\n",
    "max: 94\n",
    "min: 10\n",
    "\n",
    "Входные данные:\n",
    "1, 7, 6, 7, 2, -2, 3, 5, 4, 9\n",
    "Выходные данные:\n",
    "lst: [1, 7, 6, 7, 2, -2, 3, 5, 4, 9]\n",
    "max: 9\n",
    "min: -2\n",
    "\n",
    "Входные данные:\n",
    "1, 1, 1, 1, 1, 1, 1, 1, 1, 1\n",
    "Выходные данные:\n",
    "lst: [1, 1, 1, 1, 1, 1, 1, 1, 1, 1]\n",
    "max: 1\n",
    "min: 1\n",
    "```"
   ]
  },
  {
   "cell_type": "markdown",
   "id": "11020cd5-855d-4215-98f0-91f85eaafd94",
   "metadata": {},
   "source": [
    "```python\n",
    "lst = [int(x) for x in input().split(',')]\n",
    "\n",
    "print(\"lst:\", lst)\n",
    "…\n",
    "print(\"max:\", emax)\n",
    "print(\"min:\", emin)\n",
    "```"
   ]
  },
  {
   "cell_type": "code",
   "execution_count": 27,
   "id": "01697a0d",
   "metadata": {},
   "outputs": [
    {
     "name": "stdout",
     "output_type": "stream",
     "text": [
      "lst: [10, 67, 86, 87, 12, 28, 32, 63, 41, 94]\n",
      "max: 94\n",
      "min: 10\n"
     ]
    }
   ],
   "source": [
    "lst = [int(x) for x in ('10, 67, 86, 87, 12, 28, 32, 63, 41, 94').split(',')]\n",
    "\n",
    "print(\"lst:\", lst)\n",
    "emax = max(lst)\n",
    "print(\"max:\", emax)\n",
    "emin = min(lst)\n",
    "print(\"min:\", emin)"
   ]
  },
  {
   "cell_type": "markdown",
   "id": "e7455e73-1ebb-4868-a4f4-a659a0225d0a",
   "metadata": {},
   "source": [
    "### Поиск элемента\n",
    "Сложность: # # #\n",
    "\n",
    "Напишите функцию `slice_tup()`, которая принимает на вход кортеж и некоторый элемент, а возвращает кортеж, начиная с первого вхождения этого элемента и далее. Если элемента в кортеже нет, то возвращается исходный кортеж.\n",
    "\n",
    "Данные для проверки:\n",
    "```\n",
    "Входные данные:\n",
    "\n",
    "Выходные данные:\n",
    "(2, 3, 4)\n",
    "('d',)\n",
    "(1, 2, 3, 4)\n",
    "('a', 'b', 'c', 'd')\n",
    "```"
   ]
  },
  {
   "cell_type": "markdown",
   "id": "3cee336f-7f5a-4e2e-a0bd-c93354fc9a95",
   "metadata": {},
   "source": [
    "```python\n",
    "def slice_tup(tup, el):\n",
    "…\n",
    "print(slice_tup((1, 2, 3, 4), 2))\n",
    "print(slice_tup(('a', 'b', 'c', 'd'), 'd'))\n",
    "print(slice_tup((1, 2, 3, 4), 5))\n",
    "print(slice_tup(('a', 'b', 'c', 'd'), 'a'))\n",
    "```"
   ]
  },
  {
   "cell_type": "code",
   "execution_count": 35,
   "id": "78e9bb4c",
   "metadata": {},
   "outputs": [
    {
     "name": "stdout",
     "output_type": "stream",
     "text": [
      "(2, 3, 4)\n",
      "('d',)\n",
      "(1, 2, 3, 4)\n",
      "('a', 'b', 'c', 'd')\n"
     ]
    }
   ],
   "source": [
    "def slice_tup(tup, el):\n",
    "    if el in tup:\n",
    "        list_tup = []\n",
    "        for i in range(len(tup)):\n",
    "            if tup[i] == el:\n",
    "                count = i\n",
    "                break\n",
    "        while count < len(tup):\n",
    "            list_tup.append(tup[count])\n",
    "            count+=1\n",
    "        tup = tuple(list_tup)\n",
    "    return tup\n",
    "\n",
    "print(slice_tup((1, 2, 3, 4), 2))\n",
    "print(slice_tup(('a', 'b', 'c', 'd'), 'd'))\n",
    "print(slice_tup((1, 2, 3, 4), 5))\n",
    "print(slice_tup(('a', 'b', 'c', 'd'), 'a'))\n"
   ]
  },
  {
   "cell_type": "markdown",
   "id": "5ded1695-ca6e-4ed2-acde-2e5de93b1e67",
   "metadata": {},
   "source": [
    "# Печать алфавита\n",
    "Сложность: #\n",
    "\n",
    "Напишите программу, которая создает словарь `alphabet`, ключами которого являются русские строчные буквы, а значениями порядковые номера букв в алфавите, начиная с 1. \n",
    "\n",
    "Программа ничего выводить не должна, правильность заполнения словаря будет проверена автоматически.\n",
    "\n",
    "Данные для проверки:\n",
    "```\n",
    "Входные данные:\n",
    "\n",
    "Выходные данные:\n",
    "True\n",
    "```"
   ]
  },
  {
   "cell_type": "markdown",
   "id": "4dba0ac7-3581-40a0-b2b5-56cef16e39f3",
   "metadata": {},
   "source": [
    "```python\n",
    "russian = 'абвгдеёжзийклмнопрстуфхцчшщъыьэюя'\n",
    "alphabet = {}\n",
    "\n",
    "alphabet_check = {'а': 1, 'б': 2, 'в': 3, 'г': 4, 'д': 5, 'е': 6, 'ё': 7, 'ж': 8, 'з': 9, 'и': 10, 'й': 11, 'к': 12, 'л': 13, 'м': 14, 'н': 15, 'о': 16, 'п': 17, 'р': 18, 'с': 19, 'т': 20, 'у': 21, 'ф': 22, 'х': 23, 'ц': 24, 'ч': 25, 'ш': 26, 'щ': 27, 'ъ': 28, 'ы': 29, 'ь': 30, 'э': 31, 'ю': 32, 'я': 33}\n",
    "\n",
    "alphabet == alphabet_check\n",
    "\n",
    "```"
   ]
  },
  {
   "cell_type": "code",
   "execution_count": 36,
   "id": "0df45ff2",
   "metadata": {},
   "outputs": [
    {
     "data": {
      "text/plain": [
       "True"
      ]
     },
     "execution_count": 36,
     "metadata": {},
     "output_type": "execute_result"
    }
   ],
   "source": [
    "russian = 'абвгдеёжзийклмнопрстуфхцчшщъыьэюя'\n",
    "alphabet = {russian[i]: i+1 for i in range(len(russian))}\n",
    "\n",
    "#check\n",
    "alphabet_check = {'а': 1, 'б': 2, 'в': 3, 'г': 4, 'д': 5, 'е': 6, 'ё': 7, \n",
    "                  'ж': 8, 'з': 9, 'и': 10, 'й': 11, 'к': 12, 'л': 13, 'м': 14, \n",
    "                  'н': 15, 'о': 16, 'п': 17, 'р': 18, 'с': 19, 'т': 20, \n",
    "                  'у': 21, 'ф': 22, 'х': 23, 'ц': 24, 'ч': 25, 'ш': 26, \n",
    "                  'щ': 27, 'ъ': 28, 'ы': 29, 'ь': 30, 'э': 31, 'ю': 32, 'я': 33}\n",
    "alphabet == alphabet_check"
   ]
  },
  {
   "cell_type": "markdown",
   "id": "30b4443c",
   "metadata": {},
   "source": [
    "## Анаграммы\n",
    "Сложность: # #\n",
    "\n",
    "Анаграммой строки `S1` называется строка `S2`, которая получается из строки `S1` путем перестановки символов. На входе программа получает две строки: `S1` и `S2`. \n",
    "\n",
    "Ваша задача - выяснить, является ли строка `S2` анаграммой строки `S1`. Выведите `YES`, если является, и `NO`, если не является.\n",
    "\n",
    "Данные для проверки:\n",
    "```\n",
    "Входные данные:\n",
    "abc\n",
    "cba\n",
    "Выходные данные:\n",
    "YES\n",
    "\n",
    "Входные данные:\n",
    "abc\n",
    "acba\n",
    "Выходные данные:\n",
    "NO\n",
    "\n",
    "Входные данные:\n",
    "1100\n",
    "0011\n",
    "Выходные данные:\n",
    "YES\n",
    "\n",
    "Входные данные:\n",
    "abc1\n",
    "abcONE\n",
    "Выходные данные:\n",
    "NO\n",
    "\n",
    "Входные данные:\n",
    "gamer\n",
    "game\n",
    "Выходные данные:\n",
    "NO\n",
    "```"
   ]
  },
  {
   "cell_type": "markdown",
   "id": "249fdebb-4bae-450b-96b7-d200f8a74b8a",
   "metadata": {},
   "source": [
    "```python\n",
    "s1, s2 = input(), input()\n",
    "```"
   ]
  },
  {
   "cell_type": "code",
   "execution_count": 38,
   "id": "0f4a7d1e-a26d-4f3b-bc04-9e37a17532a4",
   "metadata": {},
   "outputs": [
    {
     "name": "stdin",
     "output_type": "stream",
     "text": [
      " gamer\n",
      " game\n"
     ]
    },
    {
     "name": "stdout",
     "output_type": "stream",
     "text": [
      "NO\n"
     ]
    }
   ],
   "source": [
    "s1, s2 = input(), input()\n",
    "# s1, s2 = 'abca', 'acba'\n",
    "\n",
    "def dictionary_from_string(string):\n",
    "    dct = dict()\n",
    "    for symbol in string:\n",
    "        dct[symbol] = dct.get(symbol, 0) + 1\n",
    "    return dct\n",
    "\n",
    "if dictionary_from_string(s1) == dictionary_from_string(s2):\n",
    "    print('YES')\n",
    "else:\n",
    "    print('NO')"
   ]
  },
  {
   "cell_type": "code",
   "execution_count": 176,
   "id": "de8084da-4dfe-413f-aacf-8f036bd540cb",
   "metadata": {},
   "outputs": [
    {
     "data": {
      "text/plain": [
       "{'a': 3, 'b': 1, 'c': 1}"
      ]
     },
     "execution_count": 176,
     "metadata": {},
     "output_type": "execute_result"
    }
   ],
   "source": [
    "ng = dictionary_from_string(s1)\n",
    "ng['a'] = ng.get('a', 0) + 1\n",
    "ng"
   ]
  },
  {
   "cell_type": "markdown",
   "id": "088cbe1e-ea2a-4f8d-92ad-a47fc5b2dd4f",
   "metadata": {},
   "source": [
    "## Азбука Морзе\n",
    "Сложность: # #\n",
    "\n",
    "Вам дан английский текст. Закодируйте его с помощью азбуки Морзе. Каждая буква заменяется на последовательность точек и тире. В качестве тире используйте обычный дефис `-`, а в качестве точки — точку `.`. Например, буква `g` превратится в трёхсимвольную строку `--.`. Ниже в переменной `morze` для вашего удобства хранится словарь соответствия английских букв коду Морзе. \n",
    "\n",
    "**Входные данные**  \n",
    "Весь текст записан в единственной строке. Текст состоит из английских букв и пробелов, других символов в тексте нет. В тексте не может быть двух или более пробелов подряд. \n",
    "\n",
    "**Выходные данные**   \n",
    "Выведите каждое слово исходного текста, закодированное азбукой Морзе, на отдельной строке. Количество строк в ответе должно совпадать с количеством слов в исходном тексте. Между закодированными буквами ставится ровно один пробел. Например, слово `Help` превратится в `.... . .-.. .--.`. Обратите внимание, что строчные и заглавные буквы кодируются одинаково.\n",
    "\n",
    "Данные для проверки\n",
    "```\n",
    "Входные данные:\n",
    "Ignition sequence start\n",
    "Выходные данные:\n",
    "•• ——• —• •• — •• ——— —•\n",
    "••• • ——•— ••— • —• —•—• •\n",
    "••• — •— •—• —\n",
    "\n",
    "Входные данные:\n",
    "a\n",
    "Выходные данные:\n",
    "•—\n",
    "\n",
    "Входные данные:\n",
    "I want cheeseburger\n",
    "Выходные данные:\n",
    "••\n",
    "•—— •— —• —\n",
    "—•—• •••• • • ••• • —••• ••— •—• ——• • •—•\n",
    "\n",
    "Входные данные:\n",
    "What is the meaning of this\n",
    "Выходные данные:\n",
    "•—— •••• •— —\n",
    "•• •••\n",
    "— •••• •\n",
    "—— • •— —• •• —• ——•\n",
    "——— ••—•\n",
    "— •••• •• •••\n",
    "\n",
    "Входные данные:\n",
    "Great invention\n",
    "Выходные данные:\n",
    "——• •—• • •— —\n",
    "•• —• •••— • —• — •• ——— —•\n",
    "```"
   ]
  },
  {
   "cell_type": "markdown",
   "id": "e19146ce-a66a-46a6-aad9-ecf5a644d23e",
   "metadata": {},
   "source": [
    "```python\n",
    "morze = {'a': '•—', 'b': '—•••', 'c': '—•—•', 'd': '—••',\n",
    "         'e': '•', 'f': '••—•', 'g': '——•', 'h': '••••',\n",
    "         'i': '••', 'j': '•———', 'k': '—•—', 'l': '•—••',\n",
    "         'm': '——', 'n': '—•', 'o': '———', 'p': '•——•',\n",
    "         'q': '——•—', 'r': '•—•', 's': '•••', 't': '—',\n",
    "         'u': '••—', 'v': '•••—', 'w': '•——', 'x': '—••—',\n",
    "         'y': '—•——', 'z': '——••'}\n",
    "```"
   ]
  },
  {
   "cell_type": "code",
   "execution_count": 97,
   "id": "fa436d80-dd1f-4ca1-bf8a-55f74ad4377f",
   "metadata": {},
   "outputs": [
    {
     "name": "stdin",
     "output_type": "stream",
     "text": [
      "Enter your message:  What is the meaning of this\n"
     ]
    },
    {
     "name": "stdout",
     "output_type": "stream",
     "text": [
      "•—— •••• •— —\n",
      "•• •••\n",
      "— •••• •\n",
      "—— • •— —• •• —• ——•\n",
      "——— ••—•\n",
      "— •••• •• •••\n",
      "\n"
     ]
    }
   ],
   "source": [
    "def morze_translator(string=input('Enter your message: ')):\n",
    "    \n",
    "    morze = {'a': '•—', 'b': '—•••', 'c': '—•—•', 'd': '—••',\n",
    "         'e': '•', 'f': '••—•', 'g': '——•', 'h': '••••',\n",
    "         'i': '••', 'j': '•———', 'k': '—•—', 'l': '•—••',\n",
    "         'm': '——', 'n': '—•', 'o': '———', 'p': '•——•',\n",
    "         'q': '——•—', 'r': '•—•', 's': '•••', 't': '—',\n",
    "         'u': '••—', 'v': '•••—', 'w': '•——', 'x': '—••—',\n",
    "         'y': '—•——', 'z': '——••'}\n",
    "    \n",
    "    string = string.split()\n",
    "    code = str()\n",
    "    for a in string:\n",
    "        # print(a)\n",
    "        for i in range(len(a)):\n",
    "            if i != len(a)-1:\n",
    "                code = code+morze.get(a[i].lower())+' '\n",
    "            else:\n",
    "                code = code+morze.get(a[i].lower())+'\\n'\n",
    "    \n",
    "    return code\n",
    "\n",
    "print(morze_translator())"
   ]
  },
  {
   "cell_type": "code",
   "execution_count": 98,
   "id": "ca5636f5-7c1a-4a4e-867c-6e528dcb97f6",
   "metadata": {},
   "outputs": [
    {
     "data": {
      "text/plain": [
       "True"
      ]
     },
     "execution_count": 98,
     "metadata": {},
     "output_type": "execute_result"
    }
   ],
   "source": [
    "# check\n",
    "\n",
    "check_message = '''•—— •••• •— —\n",
    "•• •••\n",
    "— •••• •\n",
    "—— • •— —• •• —• ——•\n",
    "——— ••—•\n",
    "— •••• •• •••\n",
    "'''\n",
    "\n",
    "check_message == morze_translator()"
   ]
  },
  {
   "cell_type": "code",
   "execution_count": 96,
   "id": "24547453-e48e-4e4d-aed1-fb984f2ec860",
   "metadata": {},
   "outputs": [
    {
     "name": "stdin",
     "output_type": "stream",
     "text": [
      " a\n"
     ]
    },
    {
     "name": "stdout",
     "output_type": "stream",
     "text": [
      "•—\n"
     ]
    }
   ],
   "source": [
    "# вариант, который прошел проверку Сбера, но не проходит мою проверку по условиям\n",
    "\n",
    "string = input().split()\n",
    "for a in string:\n",
    "    code = ''\n",
    "    for i in range(len(a)):\n",
    "        if i != len(a)-1:\n",
    "            code = code+morze.get(a[i].lower())+' '\n",
    "        else: \n",
    "            code = code+morze.get(a[i].lower())\n",
    "    print(code)"
   ]
  },
  {
   "cell_type": "markdown",
   "id": "938d40a5-7364-4e11-aa9a-6ad3327547fe",
   "metadata": {},
   "source": [
    "# Количество уникальных элементов\n",
    "\n",
    "Сложность #\n",
    "\n",
    "Перед вами два списка. Посчитайте разность количества уникальных элементов этих двух списков и выведите ее на экран. Разность возьмите по модулю, воспользовавшись функцией abs().\n",
    "\n",
    "Данные для проверки:\n",
    "```\n",
    "Входные данные:\n",
    "59, 72, 62, 18, 24, 59, 73, 55, 46, 82, 58, 40, 6, 52, 25, 8, 35, 20, 66, 54, 68, 31, 39, 16, 34, 82, 15, 98, 84, 100, 70, 68, 68, 35, 35, 53, 63, 65, 93, 100, 78, 43, 36, 50, 45, 8, 86, 5, 76, 87, 15, 77, 19, 72, 51, 30, 62, 67, 84, 73, 82, 8, 47, 21, 70, 72, 28, 34, 46, 52, 86, 46, 19, 12, 5, 84, 45, 30, 13, 83, 73, 80, 61, 33, 81, 88, 45, 41, 91, 90, 39, 55, 23, 71, 89, 41, 83, 33, 91, 26\n",
    "30, 46, 53, 53, 16, 48, 15, 22, 40, 8, 37, 46, 57, 59, 59, 24, 6, 3, 2, 14, 39, 8, 20, 40, 6, 1, 38, 47, 57, 50, 22, 8, 52, 0, 18, 35, 47, 52, 45, 56, 11, 9, 44, 31, 42, 16, 44, 0, 31, 31, 29, 29, 56, 51, 3, 30, 25, 34, 36, 41\n",
    "Выходные данные:\n",
    "25\n",
    "\n",
    "Входные данные:\n",
    "98, 95, 48, 13, 0, 80, 24, 58, 71, 68, 4, 98, 18, 22, 8, 93, 49, 15, 32, 1, 13, 0, 89, 57, 88, 15, 78, 89, 46, 43\n",
    "79, 13, 92, 23, 54, 14, 82, 71, 33, 1, 26, 73, 98, 86, 71, 91, 22, 67, 13, 62, 92, 64, 67, 62, 95, 96, 89, 80, 86, 63\n",
    "Выходные данные:\n",
    "1\n",
    "\n",
    "Входные данные:\n",
    "31, 78, 12, 65, 18, 23, 87, 10, 58, 85, 14, 9, 40, 26, 59, 72, 51, 27, 64, 16, 94, 43, 9, 62, 92, 81, 46, 37, 69, 75, 52, 77, 43, 73, 53, 19, 78, 30, 6, 57, 9, 9, 38, 27, 29, 36, 66, 42, 78, 84\n",
    "51, 55, 75, 67, 8, 91, 22, 62, 60, 39, 43, 85, 23, 50, 57, 89, 93, 32, 15, 21, 56, 61, 81, 70, 89, 71, 69, 29, 22, 31, 85, 56, 8, 30, 70, 8, 12, 57, 2, 34, 96, 20, 63, 94, 51, 33, 95, 34, 14, 95\n",
    "Выходные данные:\n",
    "4\n",
    "```"
   ]
  },
  {
   "cell_type": "markdown",
   "id": "64550174-22fb-47f9-86b0-d173621eb171",
   "metadata": {},
   "source": [
    "```python\n",
    "a = [int(x) for x in input().split(',')]\n",
    "b = [int(x) for x in input().split(',')]\n",
    "```"
   ]
  },
  {
   "cell_type": "code",
   "execution_count": 19,
   "id": "035f3903",
   "metadata": {},
   "outputs": [
    {
     "name": "stdout",
     "output_type": "stream",
     "text": [
      "25\n",
      "<class 'str'>\n"
     ]
    }
   ],
   "source": [
    "c = ('59, 72, 62, 18, 24, 59, 73, 55, 46, 82, 58, 40, 6, 52, 25, 8, 35, 20, 66, 54, 68, 31, 39, 16, 34, 82, 15, 98, 84, 100, 70, 68, 68, 35, 35, 53, 63, 65, 93, 100, 78, 43, 36, 50, 45, 8, 86, 5, 76, 87, 15, 77, 19, 72, 51, 30, 62, 67, 84, 73, 82, 8, 47, 21, 70, 72, 28, 34, 46, 52, 86, 46, 19, 12, 5, 84, 45, 30, 13, 83, 73, 80, 61, 33, 81, 88, 45, 41, 91, 90, 39, 55, 23, 71, 89, 41, 83, 33, 91, 26')\n",
    "d = ('30, 46, 53, 53, 16, 48, 15, 22, 40, 8, 37, 46, 57, 59, 59, 24, 6, 3, 2, 14, 39, 8, 20, 40, 6, 1, 38, 47, 57, 50, 22, 8, 52, 0, 18, 35, 47, 52, 45, 56, 11, 9, 44, 31, 42, 16, 44, 0, 31, 31, 29, 29, 56, 51, 3, 30, 25, 34, 36, 41')\n",
    "\n",
    "a = [int(x) for x in c.split(',')]\n",
    "b = [int(x) for x in d.split(',')]\n",
    "\n",
    "amod = set(a)\n",
    "bmod = set(b)\n",
    "diff = abs(len(amod) - len(bmod))\n",
    "print(diff)\n",
    "\n",
    "print(type(c))"
   ]
  },
  {
   "cell_type": "markdown",
   "id": "958ccdb0-9634-4cc2-970e-4eb40ffe180f",
   "metadata": {},
   "source": [
    "# Прошлые встречи\n",
    "Сложность: #\n",
    "\n",
    "Во входной строке записана последовательность чисел, отделенных пробелами. Для каждого числа выведите слово `YES` (в отдельной строке), если это число ранее встречалось в последовательности, и `NO`, если не встречалось.\n",
    "\n",
    "Данные для проверки:\n",
    "```\n",
    "Входные данные:\n",
    "1 2 3 2 3 4\n",
    "Выходные данные:\n",
    "NO\n",
    "NO\n",
    "NO\n",
    "YES\n",
    "YES\n",
    "NO\n",
    "\n",
    "Входные данные:\n",
    "1 2 3 4 5 6\n",
    "Выходные данные:\n",
    "NO\n",
    "NO\n",
    "NO\n",
    "NO\n",
    "NO\n",
    "NO\n",
    "\n",
    "Входные данные:\n",
    "1 -1 1 -1 1 -1\n",
    "Выходные данные:\n",
    "NO\n",
    "NO\n",
    "YES\n",
    "YES\n",
    "YES\n",
    "YES\n",
    "\n",
    "Входные данные:\n",
    "0 0 0 0 0 0\n",
    "Выходные данные:\n",
    "NO\n",
    "YES\n",
    "YES\n",
    "YES\n",
    "YES\n",
    "YES\n",
    "```"
   ]
  },
  {
   "cell_type": "markdown",
   "id": "18fe0a32-254e-4ba5-a7c3-3053460f1159",
   "metadata": {},
   "source": [
    "```python\n",
    "a = input().split()\n",
    "```"
   ]
  },
  {
   "cell_type": "code",
   "execution_count": 15,
   "id": "c62445a3-cf7c-405f-a908-38bc8c8375e3",
   "metadata": {},
   "outputs": [
    {
     "name": "stdout",
     "output_type": "stream",
     "text": [
      "NO\n",
      "NO\n",
      "NO\n",
      "YES\n",
      "YES\n",
      "NO\n"
     ]
    }
   ],
   "source": [
    "b = '1 2 3 2 3 4'\n",
    "c = set()\n",
    "a = b.split()\n",
    "\n",
    "for i in a:\n",
    "    if i not in c:\n",
    "        print('NO')\n",
    "        c.add(i)\n",
    "    else: print('YES')\n"
   ]
  },
  {
   "cell_type": "markdown",
   "id": "8fbf2067-b25c-4303-845b-8c8c4e616bac",
   "metadata": {},
   "source": [
    "# Сборная солянка\n",
    "Сложность: #\n",
    "\n",
    "Из списка `menu` удалите второй суп со значением \"солянка\" и выведите новый список `menu` на экран.\n",
    "\n",
    "Данные для проверки:\n",
    "```\n",
    "Входные данные:\n",
    "\n",
    "Выходные данные:\n",
    "['харчо', 'плов', 'ачик-чучук']\n",
    "```"
   ]
  },
  {
   "cell_type": "markdown",
   "id": "c9571826-80e9-48e1-ac61-e3e1190ccaf4",
   "metadata": {},
   "source": [
    "```python\n",
    "menu = [\"харчо\", \"солянка\", \"плов\", \"ачик-чучук\"]\n",
    "# Ваш код здесь\n",
    "print(menu)\n",
    "```"
   ]
  },
  {
   "cell_type": "code",
   "execution_count": 1,
   "id": "65fc8e6c-215d-4133-8947-814d44536ce2",
   "metadata": {},
   "outputs": [
    {
     "name": "stdout",
     "output_type": "stream",
     "text": [
      "['харчо', 'плов', 'ачик-чучук']\n"
     ]
    }
   ],
   "source": [
    "menu = [\"харчо\", \"солянка\", \"плов\", \"ачик-чучук\"]\n",
    "menu.pop(1)\n",
    "print(menu)"
   ]
  },
  {
   "cell_type": "markdown",
   "id": "ebcb2497-2b99-4c89-bf35-df6f8079359a",
   "metadata": {},
   "source": [
    "# Преобразование строки в список\n",
    "Сложность: #\n",
    "\n",
    "Преобразуйте строку с покупками `shopstring` в список покупок `shoplist` и выведите его на экран.\n",
    "\n",
    "Данные для проверки:\n",
    "```\n",
    "Входные данные:\n",
    "\n",
    "Выходные данные:\n",
    "['яблоки', 'бананы', 'говядина', 'яйца']\n",
    "```"
   ]
  },
  {
   "cell_type": "markdown",
   "id": "f8395994-8d64-481e-8c92-f58d1ea931dd",
   "metadata": {},
   "source": [
    "``` python\n",
    "shopstring = \"яблоки##бананы##говядина##яйца\"\n",
    "# Ваш код здесь\n",
    "print(shoplist)\n",
    "```"
   ]
  },
  {
   "cell_type": "code",
   "execution_count": 4,
   "id": "95191189-2453-4238-a521-33dc060b647e",
   "metadata": {},
   "outputs": [
    {
     "data": {
      "text/plain": [
       "['яблоки', 'бананы', 'говядина', 'яйца']"
      ]
     },
     "execution_count": 4,
     "metadata": {},
     "output_type": "execute_result"
    }
   ],
   "source": [
    "shopstring = \"яблоки##бананы##говядина##яйца\"\n",
    "shoplist = shopstring.split('##')\n",
    "shoplist"
   ]
  },
  {
   "cell_type": "markdown",
   "id": "f8f1dc08-ee1c-4837-9a36-a0d4a246c37e",
   "metadata": {},
   "source": [
    "# Добавить буквы в алфавит\n",
    "Сложность: #\n",
    "\n",
    "Добавьте пропущенные буквы в символьный ряд алфавита `alphabet` из первых 10 букв и выведите результат на экран.\n",
    "\n",
    "Данные для проверки:\n",
    "```\n",
    "Входные данные:\n",
    "\n",
    "Выходные данные:\n",
    "['a', 'b', 'd', 'e', 'f', 'g', 'i']\n",
    "['a', 'b', 'c', 'd', 'e', 'f', 'g', 'h', 'i', 'j']\n",
    "```"
   ]
  },
  {
   "cell_type": "markdown",
   "id": "5a156699-29db-4b4e-818e-ae00eb49f80b",
   "metadata": {},
   "source": [
    "```python\n",
    "alphabet = [\"a\", \"b\", \"d\", \"e\", \"f\", \"g\", \"i\"]\n",
    "print(alphabet)\n",
    "# Ваш код здесь\n",
    "```"
   ]
  },
  {
   "cell_type": "code",
   "execution_count": 12,
   "id": "b4cdf5f5-3882-494b-93c7-6b0c05765029",
   "metadata": {},
   "outputs": [
    {
     "name": "stdout",
     "output_type": "stream",
     "text": [
      "['a', 'b', 'd', 'e', 'f', 'g', 'i']\n",
      "['a', 'b', 'c', 'd', 'e', 'f', 'g', 'h', 'i', 'j']\n"
     ]
    }
   ],
   "source": [
    "alphabet = [\"a\", \"b\", \"d\", \"e\", \"f\", \"g\", \"i\"]\n",
    "print(alphabet)\n",
    "alphabet_str = 'abcdefghij'\n",
    "for i in alphabet_str:\n",
    "    if i not in alphabet: alphabet.append(i)\n",
    "alphabet.sort()\n",
    "print(alphabet)"
   ]
  },
  {
   "cell_type": "markdown",
   "id": "ad15b066-e8b1-478a-98a7-444570d7ce75",
   "metadata": {},
   "source": [
    "# Объявление кортежа\n",
    "Сложность: #\n",
    "\n",
    "Объявите пустой кортеж любым известным вам способом в переменной tup.\n",
    "\n",
    "Данные для проверки:\n",
    "```\n",
    "Входные данные:\n",
    "\n",
    "Выходные данные:\n",
    "<class 'tuple'>\n",
    "```"
   ]
  },
  {
   "cell_type": "markdown",
   "id": "33840ce1-fa7b-473b-9870-be7f09421405",
   "metadata": {},
   "source": [
    "```python\n",
    "tup = # Ваш код здесь\n",
    "\n",
    "# Не удаляйте код ниже, он нужен для проверки\n",
    "\n",
    "print(type(tup))\n",
    "```"
   ]
  },
  {
   "cell_type": "markdown",
   "id": "106f8102-8d31-45da-8e07-7b75b2aa677a",
   "metadata": {},
   "source": [
    "# Замена элементов на главной диагонали\n",
    "Сложность: #\n",
    "\n",
    "Дана матрица размера 5х5 с нулевыми элементами. Замените все значения матрицы, стоящие на главной диагонали, на 1. (Главная диагональ квадратной матрицы состоит из элементов с индексами i и j, в которых i=j. То есть в данном случае это элементы с индексами 00, 11, 22, 33, 44.)\n",
    "\n",
    "Данные для проверки:\n",
    "```\n",
    "Входные данные:\n",
    "\n",
    "Выходные данные:\n",
    "[[1, 0, 0, 0, 0], [0, 1, 0, 0, 0], [0, 0, 1, 0, 0], [0, 0, 0, 1, 0], [0, 0, 0, 0, 1]]\n",
    "```"
   ]
  },
  {
   "cell_type": "markdown",
   "id": "acfaae09-03cd-4f39-b8d7-c9cde2748f77",
   "metadata": {},
   "source": [
    "```python\n",
    "matrix = [[0 for i in range(5)] for j in range(5)]\n",
    "…\n",
    "print(matrix)\n",
    "```"
   ]
  },
  {
   "cell_type": "code",
   "execution_count": 43,
   "id": "d3b471c0-4e12-4881-8195-0f86e6dbc44d",
   "metadata": {},
   "outputs": [
    {
     "name": "stdout",
     "output_type": "stream",
     "text": [
      "[[0, 0, 0, 0, 0], [0, 0, 0, 0, 0], [0, 0, 0, 0, 0], [0, 0, 0, 0, 0], [0, 0, 0, 0, 0]]\n",
      "[[1, 0, 0, 0, 0], [0, 1, 0, 0, 0], [0, 0, 1, 0, 0], [0, 0, 0, 1, 0], [0, 0, 0, 0, 1]]\n"
     ]
    }
   ],
   "source": [
    "matrix = [[0 for j in range(5)] for i in range(5)]\n",
    "print(matrix)\n",
    "for i in range(5):\n",
    "    matrix[i][i] = 1\n",
    "print(matrix)"
   ]
  },
  {
   "cell_type": "code",
   "execution_count": 44,
   "id": "d5067a52-970b-41bb-9f18-87b743be7737",
   "metadata": {},
   "outputs": [
    {
     "data": {
      "text/html": [
       "<div>\n",
       "<style scoped>\n",
       "    .dataframe tbody tr th:only-of-type {\n",
       "        vertical-align: middle;\n",
       "    }\n",
       "\n",
       "    .dataframe tbody tr th {\n",
       "        vertical-align: top;\n",
       "    }\n",
       "\n",
       "    .dataframe thead th {\n",
       "        text-align: right;\n",
       "    }\n",
       "</style>\n",
       "<table border=\"1\" class=\"dataframe\">\n",
       "  <thead>\n",
       "    <tr style=\"text-align: right;\">\n",
       "      <th></th>\n",
       "      <th>0</th>\n",
       "      <th>1</th>\n",
       "      <th>2</th>\n",
       "      <th>3</th>\n",
       "      <th>4</th>\n",
       "    </tr>\n",
       "  </thead>\n",
       "  <tbody>\n",
       "    <tr>\n",
       "      <th>0</th>\n",
       "      <td>1</td>\n",
       "      <td>0</td>\n",
       "      <td>0</td>\n",
       "      <td>0</td>\n",
       "      <td>0</td>\n",
       "    </tr>\n",
       "    <tr>\n",
       "      <th>1</th>\n",
       "      <td>0</td>\n",
       "      <td>1</td>\n",
       "      <td>0</td>\n",
       "      <td>0</td>\n",
       "      <td>0</td>\n",
       "    </tr>\n",
       "    <tr>\n",
       "      <th>2</th>\n",
       "      <td>0</td>\n",
       "      <td>0</td>\n",
       "      <td>1</td>\n",
       "      <td>0</td>\n",
       "      <td>0</td>\n",
       "    </tr>\n",
       "    <tr>\n",
       "      <th>3</th>\n",
       "      <td>0</td>\n",
       "      <td>0</td>\n",
       "      <td>0</td>\n",
       "      <td>1</td>\n",
       "      <td>0</td>\n",
       "    </tr>\n",
       "    <tr>\n",
       "      <th>4</th>\n",
       "      <td>0</td>\n",
       "      <td>0</td>\n",
       "      <td>0</td>\n",
       "      <td>0</td>\n",
       "      <td>1</td>\n",
       "    </tr>\n",
       "  </tbody>\n",
       "</table>\n",
       "</div>"
      ],
      "text/plain": [
       "   0  1  2  3  4\n",
       "0  1  0  0  0  0\n",
       "1  0  1  0  0  0\n",
       "2  0  0  1  0  0\n",
       "3  0  0  0  1  0\n",
       "4  0  0  0  0  1"
      ]
     },
     "execution_count": 44,
     "metadata": {},
     "output_type": "execute_result"
    }
   ],
   "source": [
    "import pandas as pd\n",
    "df = pd.DataFrame(matrix)\n",
    "df"
   ]
  },
  {
   "cell_type": "code",
   "execution_count": 47,
   "id": "d3900f5a-a284-4756-871f-de7eebcd60ad",
   "metadata": {},
   "outputs": [
    {
     "data": {
      "text/plain": [
       "{1: 'a', 3: 'a', 5: 'a', 7: 'a', 9: 'a', 11: 'a', 13: 'a'}"
      ]
     },
     "execution_count": 47,
     "metadata": {},
     "output_type": "execute_result"
    }
   ],
   "source": [
    "# just an aexample of dict\n",
    "a = {i: 'a' for i in range(1, 15, 2)}\n",
    "type(a)\n",
    "a"
   ]
  },
  {
   "cell_type": "markdown",
   "id": "513e0a93-27de-463a-a234-fb821dc2e710",
   "metadata": {},
   "source": [
    "## Замена элементов на побочной диагонали\n",
    "Сложность: # #\n",
    "\n",
    "Мы решали задание с заполнением главной диагонали, а теперь нам предстоит сделать аналогичную вещь для обратной (побочной) диагонали. Дана матрица размера 5х5 с нулевыми элементами. Замените все значения, стоящие на обратной (побочной) диагонали, на 1. (Побочная диагональ квадратной матрицы размера nхn состоит из элементов с индексами ij, в которых i+j=n-1. То есть в данном случае это элементы с индексами 04, 13, 22, 31, 40.)\n",
    "\n",
    "Данные для проверки:\n",
    "```\n",
    "Входные данные:\n",
    "\n",
    "Выходные данные:\n",
    "[[0, 0, 0, 0, 1], [0, 0, 0, 1, 0], [0, 0, 1, 0, 0], [0, 1, 0, 0, 0], [1, 0, 0, 0, 0]]\n",
    "```"
   ]
  },
  {
   "cell_type": "markdown",
   "id": "6b3db90b-6918-4ce4-a94b-cbb6b7fbfd73",
   "metadata": {},
   "source": [
    "```python\n",
    "matrix = [[0 for i in range(5)] for j in range(5)]\n",
    "...\n",
    "print(matrix)\n",
    "```"
   ]
  },
  {
   "cell_type": "code",
   "execution_count": 51,
   "id": "ebc462cb-90c9-4f46-a793-d7d55c97cdd3",
   "metadata": {},
   "outputs": [
    {
     "name": "stdout",
     "output_type": "stream",
     "text": [
      "[[0, 0, 0, 0, 0], [0, 0, 0, 0, 0], [0, 0, 0, 0, 0], [0, 0, 0, 0, 0], [0, 0, 0, 0, 0]]\n",
      "[[0, 0, 0, 0, 1], [0, 0, 0, 1, 0], [0, 0, 1, 0, 0], [0, 1, 0, 0, 0], [1, 0, 0, 0, 0]]\n"
     ]
    }
   ],
   "source": [
    "n = 5\n",
    "matrix = [[0 for i in range(n)] for j in range(n)]\n",
    "print(matrix)\n",
    "for i in range(n):\n",
    "    matrix[i][n-1-i] = 1\n",
    "print(matrix)"
   ]
  },
  {
   "cell_type": "markdown",
   "id": "54e65357-fa7b-4a70-b5da-ba5e4fb85fc6",
   "metadata": {},
   "source": [
    "## Обменный курс\n",
    "Сложность: # #\n",
    "\n",
    "В одном тугрике 17 чогриков, а в одном чогрике 13 песо. Определите, на какое число тугриков и чогриков можно обменять n песо, если провести все возможные обменные операции. На вход программа получает одно натуральное число --- количество песо, а в качестве результата выводит три натуральных числа, разделенные пробелом: число тугриков, число чогриков, число оставшихся песо.\n",
    "\n",
    "Данные для проверки: \n",
    "\n",
    "```\n",
    "Входные данные:\n",
    "40\n",
    "Выходные данные:\n",
    "0 3 1\n",
    "\n",
    "Входные данные:\n",
    "1300\n",
    "Выходные данные:\n",
    "5 15 0\n",
    "\n",
    "Входные данные:\n",
    "7623\n",
    "Выходные данные:\n",
    "34 8 5\n",
    "\n",
    "Входные данные:\n",
    "2132\n",
    "Выходные данные:\n",
    "9 11 0\n",
    "\n",
    "Входные данные:\n",
    "221\n",
    "Выходные данные:\n",
    "1 0 0\n",
    "```"
   ]
  },
  {
   "cell_type": "code",
   "execution_count": 103,
   "id": "ad4b099f-ed49-4f33-983c-08743e7d612f",
   "metadata": {},
   "outputs": [
    {
     "name": "stdin",
     "output_type": "stream",
     "text": [
      "Enter a number:  2132\n"
     ]
    },
    {
     "name": "stdout",
     "output_type": "stream",
     "text": [
      "9 11 0\n"
     ]
    }
   ],
   "source": [
    "n = input('Enter a number: ')\n",
    "n = int(n)\n",
    "tug = n//(17*13)\n",
    "chog = n%(17*13)//13\n",
    "peso = n - tug*17*13 - chog*13\n",
    "print(tug, chog, peso, sep=' ')\n"
   ]
  },
  {
   "cell_type": "markdown",
   "id": "5d71451b-fba8-45cf-b0bc-c441c65c5070",
   "metadata": {},
   "source": [
    "## Разворот\n",
    "Сложность: # #\n",
    "\n",
    "Используя метод `.pop()`, сформируйте и выведите на экран список в обратном порядке. На вход программа получает список чисел, разделенных пробелами, на выходе должна вывести этот список в обратном порядке.\n",
    "\n",
    "Данные для проверки: \n",
    "\n",
    "```\n",
    "Входные данные:\n",
    "73 44 75 65 20 70 74 35 68 47\n",
    "Выходные данные:\n",
    "[47, 68, 35, 74, 70, 20, 65, 75, 44, 73]\n",
    "\n",
    "Входные данные:\n",
    "1 2 3 4 5 6 7 8 9 10\n",
    "Выходные данные:\n",
    "[10, 9, 8, 7, 6, 5, 4, 3, 2, 1]\n",
    "\n",
    "Входные данные:\n",
    "50 76 84 44 82 64 53 90 48 73\n",
    "Выходные данные:\n",
    "[73, 48, 90, 53, 64, 82, 44, 84, 76, 50]\n",
    "\n",
    "Входные данные:\n",
    "25 82 31 17 74 81 66 72 78 16\n",
    "Выходные данные:\n",
    "[16, 78, 72, 66, 81, 74, 17, 31, 82, 25]\n",
    "\n",
    "Входные данные:\n",
    "32 96 24 24 77 8 44 24 43 97\n",
    "Выходные данные:\n",
    "[97, 43, 24, 44, 8, 77, 24, 24, 96, 32]\n",
    "```"
   ]
  },
  {
   "cell_type": "code",
   "execution_count": 126,
   "id": "e74565cf-96e2-4efb-a3e2-34cce3b24a91",
   "metadata": {},
   "outputs": [
    {
     "name": "stdin",
     "output_type": "stream",
     "text": [
      "Enter a number:  73 44 75 65 20 70 74 35 68 47\n"
     ]
    },
    {
     "name": "stdout",
     "output_type": "stream",
     "text": [
      "[47, 68, 35, 74, 70, 20, 65, 75, 44, 73]\n"
     ]
    }
   ],
   "source": [
    "lst = input('Enter a number: ').split(' ')\n",
    "new_lst = list()\n",
    "count = len(lst)\n",
    "while count > 0:\n",
    "    new_lst.append(int(lst.pop()))\n",
    "    count-=1\n",
    "print(new_lst)"
   ]
  },
  {
   "cell_type": "markdown",
   "id": "b827d28c-b285-40f3-85e7-4c20b2cdb021",
   "metadata": {},
   "source": [
    "## Начало и конец\n",
    "Сложность: # #\n",
    "\n",
    "Среди всех вхождений элемента в список найдите то, которое расположено ближе всего к началу или концу списка. \n",
    "\n",
    "Если искомое вхождение равноудалено от начала и конца, выведите индекс, который ближе к началу. Если элемента в списке нет, выведите `-1`. \n",
    "\n",
    "На вход программе подается две строки. В первой строке находится число, индекс которого нужно найти, во второй строке находится список чисел, разделенных пробелами.\n",
    "\n",
    "Данные для проверки:\n",
    "\n",
    "```\n",
    "Входные данные:\n",
    "0\n",
    "4 1 5 5 6 2 3 1 6 1 4 3 0 6 0 4\n",
    "Выходные данные:\n",
    "14\n",
    "\n",
    "Входные данные:\n",
    "4\n",
    "7 1 6 6 5 4 2 7 3 4 2 5 0 2 4 4 6 6 7 5 0 3 6 2 1 2 5 3\n",
    "Выходные данные:\n",
    "5\n",
    "\n",
    "Входные данные:\n",
    "5\n",
    "3 3 2 5 1 4 6 0 0 5 2 6 2 5 4 5\n",
    "Выходные данные:\n",
    "15\n",
    "\n",
    "Входные данные:\n",
    "8\n",
    "6 6 3 4 5 3 4 0 2 4 1 1 2 5 5 7 4 1 2 4 3\n",
    "Выходные данные:\n",
    "-1\n",
    "\n",
    "Входные данные:\n",
    "2\n",
    "2 7 6 5 6 4 6 3 0 7 0 3 2 2 4 6 7 6 2 6 4\n",
    "Выходные данные:\n",
    "0\n",
    "```"
   ]
  },
  {
   "cell_type": "code",
   "execution_count": 23,
   "id": "705ee11d-535c-4eb4-9aa5-f78fbb83e946",
   "metadata": {},
   "outputs": [
    {
     "name": "stdin",
     "output_type": "stream",
     "text": [
      "Enter a number:  4\n",
      "Enter a string of numbers:  7 1 6 6 5 4 2 7 3 4 2 5 0 2 4 4 6 6 7 5 0 3 6 2 1 2 5 3\n"
     ]
    },
    {
     "name": "stdout",
     "output_type": "stream",
     "text": [
      "5\n"
     ]
    }
   ],
   "source": [
    "def start_end():\n",
    "    number = input('Enter a number: ')\n",
    "    flst = input('Enter a string of numbers: ').split(' ')\n",
    "    blst = list()\n",
    "    if number in flst:\n",
    "        for i in range(len(flst)-1, -1, -1):\n",
    "            blst.append(flst[i])\n",
    "        forwards = flst.index(number)\n",
    "        backwards = blst.index(number)\n",
    "        if forwards <= backwards:\n",
    "            print(forwards)\n",
    "        else:\n",
    "            print(len(flst) - 1 - backwards)\n",
    "    else:\n",
    "        print(-1)\n",
    "    \n",
    "start_end()"
   ]
  },
  {
   "cell_type": "markdown",
   "id": "88997301-1abb-4e4a-a831-c8d55c6297e9",
   "metadata": {},
   "source": [
    "## Маленькие делители\n",
    "Сложность: # #\n",
    "\n",
    "Напишите функцию, которая на входе получает два числа и возвращает все делители первого числа, не превосходящие второе число. \n",
    "\n",
    "На вход программе подаются два числа, разделенных пробелом. На выходе программа должна напечатать список делителей, удовлетворяющих условию.\n",
    "\n",
    "Данные для проверки:\n",
    "```python\n",
    "Входные данные:\n",
    "40 6\n",
    "Выходные данные:\n",
    "[1, 2, 4, 5]\n",
    "\n",
    "Входные данные:\n",
    "73 26\n",
    "Выходные данные:\n",
    "[1]\n",
    "\n",
    "Входные данные:\n",
    "87 43\n",
    "Выходные данные:\n",
    "[1, 3, 29]\n",
    "\n",
    "Входные данные:\n",
    "85 39\n",
    "Выходные данные:\n",
    "[1, 5, 17]\n",
    "\n",
    "Входные данные:\n",
    "21 59\n",
    "Выходные данные:\n",
    "[1, 3, 7, 21]\n",
    "```"
   ]
  },
  {
   "cell_type": "markdown",
   "id": "6875f489-b1cc-4551-aa57-de00aac1bd35",
   "metadata": {},
   "source": [
    "```python\n",
    "# Ваш код здесь\n",
    "print(find_divisors(a, b))\n",
    "```"
   ]
  },
  {
   "cell_type": "code",
   "execution_count": 46,
   "id": "f6399d79-aa1d-4f9d-9d26-57f72b4760bc",
   "metadata": {},
   "outputs": [
    {
     "name": "stdin",
     "output_type": "stream",
     "text": [
      "Enter 2 numbers:  40 6\n"
     ]
    },
    {
     "name": "stdout",
     "output_type": "stream",
     "text": [
      "[1, 2, 4, 5]\n"
     ]
    }
   ],
   "source": [
    "def find_divisors():\n",
    "    lst = input('Enter 2 numbers: ').split(' ')\n",
    "    a = int(lst[0])\n",
    "    b = int(lst[1])\n",
    "    divisors_lst = list()\n",
    "    for i in range(1, b):\n",
    "        if a % i == 0:\n",
    "            divisors_lst.append(i)\n",
    "    return divisors_lst\n",
    "\n",
    "print(find_divisors())"
   ]
  },
  {
   "cell_type": "markdown",
   "id": "e54dafaf-04d1-4307-8887-b5ae90baa4a0",
   "metadata": {},
   "source": [
    "# Разбиение на группы\n",
    "Сложность: #\n",
    "\n",
    "На вход программа получает две строки. В первой находится список целых чисел, разделенных пробелом. Во второй строке программа получает натуральное число `group_size`. Программа должна определить, можно ли полученный список разделить на группы размера `group_size` так, чтобы в каждой группе все элементы были одинаковы. На выходе программа должна вывести `True` или `False`.\n",
    "\n",
    "Данные для проверки:\n",
    "\n",
    "```python\n",
    "Входные данные:\n",
    "0 6 4 4 5 4 5 5 6 5 2 5 5 0 1 3 1 7 7 6 2 1 2 5 0 0 1 6 6\n",
    "2\n",
    "Выходные данные:\n",
    "False\n",
    "\n",
    "Входные данные:\n",
    "0 2 2 2 2 2 3 2 0 2 0 0 0 3 0 3 3 3 0 1 1 0 3 2\n",
    "2\n",
    "Выходные данные:\n",
    "True\n",
    "\n",
    "Входные данные:\n",
    "11 14 8 3 11 5 5 14 8 14 1 5 3 1 11 8 1 3\n",
    "3\n",
    "Выходные данные:\n",
    "True\n",
    "\n",
    "Входные данные:\n",
    "0 3 2 2 1 2 0 1 2 0 0 2 0 0 3 1 3 1 1 0 2 3 3 3 0 3 1 2 1 0\n",
    "4\n",
    "Выходные данные:\n",
    "False\n",
    "\n",
    "Входные данные:\n",
    "0 0 1 0 2 3 3 0 3 3 1 3 1 1 3 1 1 3 1 3 1 2 2 2 0 1 3 0 3 0\n",
    "4\n",
    "Выходные данные:\n",
    "False\n",
    "```"
   ]
  },
  {
   "cell_type": "code",
   "execution_count": 69,
   "id": "94acd0ef-15e0-4bc7-8865-26a90f5333cd",
   "metadata": {},
   "outputs": [
    {
     "name": "stdin",
     "output_type": "stream",
     "text": [
      "Enter a list of elements:  11 14 8 3 11 5 5 14 8 14 1 5 3 1 11 8 1 3\n",
      "Enter a group_size:  3\n"
     ]
    },
    {
     "name": "stdout",
     "output_type": "stream",
     "text": [
      "True\n"
     ]
    }
   ],
   "source": [
    "a = input('Enter a list of elements: ').split(' ')\n",
    "b = int(input('Enter a group_size: '))\n",
    "\n",
    "dct = dict()\n",
    "for el in a:\n",
    "    dct[el] = dct.get(el, 0) + 1\n",
    "\n",
    "answer = True\n",
    "for i in dct:\n",
    "    if dct[i] % b != 0:\n",
    "        answer = False\n",
    "        break\n",
    "\n",
    "print(answer)"
   ]
  },
  {
   "cell_type": "markdown",
   "id": "ed72d174-8827-42e8-a5a5-7acb710a3a48",
   "metadata": {},
   "source": [
    "## Каждый на своем месте\n",
    "Сложность: # #\n",
    "\n",
    "Выведите элементы списка, у которых индекс в отсортированном по возрастанию списке не меньше, чем значение. \n",
    "\n",
    "На вход программа получает список целых чисел, разделенных пробелом. На выходе программа должна вывести список подходящих элементов.\n",
    "\n",
    "Данные для проверки:\n",
    "```\n",
    "Входные данные: \n",
    "14 2 -45 -28 -7 -29 3 9 -47 -39 -33 -26 -6 -47 8 -48 -8 -24 10 -26 -24 -14 -8 -33 -49 -32\n",
    "Выходные данные:\n",
    "[-49, -48, -47, -47, -45, -39, -33, -33, -32, -29, -28, -26, -26, -24, -24, -14, -8, -8, -7, -6, 2, 3, 8, 9, 10, 14]\n",
    "\n",
    "Входные данные:\n",
    "6 26 27 1 8 0 -2 24 2 5 7 20 4\n",
    "Выходные данные:\n",
    "[-2, 0, 1, 2, 4, 5, 6, 7, 8]\n",
    "\n",
    "Входные данные:\n",
    "10 -2 8 4 11 14 24 10 11 22 -7 20 -6\n",
    "Выходные данные:\n",
    "[-7, -6, -2]\n",
    "\n",
    "Входные данные:\n",
    "18 19 3 13 15 24 25 1 6 3 4 17\n",
    "Выходные данные:\n",
    "[]\n",
    "\n",
    "Входные данные:\n",
    "19 -2 15 6 -1 -6 28 2 12 10 -10 -4 8 -8 21 29 12\n",
    "Выходные данные:\n",
    "[-10, -8, -6, -4, -2, -1, 2, 6, 8]\n",
    "```"
   ]
  },
  {
   "cell_type": "code",
   "execution_count": 6,
   "id": "89de7029-573e-4f4f-abe3-d798490b62ff",
   "metadata": {},
   "outputs": [
    {
     "name": "stdin",
     "output_type": "stream",
     "text": [
      "Enter a list of elements:  19 -2 15 6 -1 -6 28 2 12 10 -10 -4 8 -8 21 29 12\n"
     ]
    },
    {
     "name": "stdout",
     "output_type": "stream",
     "text": [
      "[-10, -8, -6, -4, -2, -1, 2, 6, 8]\n"
     ]
    }
   ],
   "source": [
    "inp = input('Enter a list of elements: ').split(' ')\n",
    "\n",
    "lst = list()\n",
    "for i in inp:\n",
    "    i = int(i)\n",
    "    lst.append(i)\n",
    "lst.sort()\n",
    "\n",
    "dct = dict()\n",
    "dct = {i: lst[i] for i in range(len(lst))}\n",
    "\n",
    "flst = list()\n",
    "for k, v in dct.items():\n",
    "    if k >= v:\n",
    "        flst.append(v)\n",
    "print(flst)"
   ]
  },
  {
   "cell_type": "markdown",
   "id": "fadb5ec1-882c-4752-8117-65d51b8e26fe",
   "metadata": {},
   "source": [
    "## Длина ломаной\n",
    "Сложность: # #\n",
    "\n",
    "Расстояние между двумя точками в евклидовой метрике вычисляется как корень из суммы квадратов разностей соответствующих координат. (Например, квадрат расстояния между точками (1, 2) и (4, 6) равен (4-1)(4-1)+(6-2)(6-2)=25, а значит, само расстояние равно 5.) \n",
    "\n",
    "Вычислите длину ломаной в евклидовой метрике на плоскости. \n",
    "\n",
    "На вход программа получает две строки с числами, разделенными пробелами. Первая строка содержит координаты точек по оси абсцисс, вторая строка содержит координаты точек по оси ординат.\n",
    "\n",
    "```python\n",
    "length = 0\n",
    "#Ваш код здесь\n",
    "print('{:.2f}'.format(length))\n",
    "```\n",
    "\n",
    "Данные для проверки:\n",
    "\n",
    "```python\n",
    "Входные данные:\n",
    "14 21 26 10 -9 -10 0 20 11 8 5 27 5 15 23 -7 18 3 2\n",
    "2 -7 28 21 -6 21 10 24 -5 15 16 17 3 25 10 28 11 26 19\n",
    "Выходные данные:\n",
    "400.05\n",
    "\n",
    "Входные данные:\n",
    "10 14 21 28 28 3 11 -10 25 29 18 -10 1 -9 7 -7 8\n",
    "4 -4 7 -5 15 -7 7 8 28 2 13 -8 -8 13 -7 19 12\n",
    "Выходные данные:\n",
    "349.45\n",
    "\n",
    "Входные данные:\n",
    "27 -5 28 13 8 3 18 12 1 18 8 1 23\n",
    "15 0 22 15 14 11 -10 8 -3 22 4 28 24\n",
    "Выходные данные:\n",
    "261.01\n",
    "\n",
    "Входные данные:\n",
    "-9 14 14 27 4 -6 21 18 -7 2 15 27 22 8 5 -4\n",
    "-8 -4 3 12 26 17 0 -7 -2 -7 -2 -8 10 11 -6 1\n",
    "Выходные данные:\n",
    "250.58\n",
    "\n",
    "Входные данные:\n",
    "0 18 -5 18 9 3 7 6 20 22 27 23 27 16 -1 -5 23 -8 18\n",
    "8 -10 8 16 8 16 11 27 16 18 -6 -5 -8 -4 -10 6 -2 15 15\n",
    "Выходные данные:\n",
    "314.46\n",
    "```"
   ]
  },
  {
   "cell_type": "code",
   "execution_count": 101,
   "id": "a1310dcb-917a-4124-b445-9d79c0591e76",
   "metadata": {},
   "outputs": [
    {
     "name": "stdin",
     "output_type": "stream",
     "text": [
      "Enter x:  27 -5 28 13 8 3 18 12 1 18 8 1 23\n",
      "Enter y:  15 0 22 15 14 11 -10 8 -3 22 4 28 24\n"
     ]
    },
    {
     "name": "stdout",
     "output_type": "stream",
     "text": [
      "261.01\n"
     ]
    }
   ],
   "source": [
    "str1 = input('Enter x: ').split(' ')\n",
    "str2 = input('Enter y: ').split(' ')\n",
    "\n",
    "X = list()\n",
    "Y = list()\n",
    "for i in str1:\n",
    "    X.append(int(i))\n",
    "for j in str2:\n",
    "    Y.append(int(j))\n",
    "\n",
    "lst_x = list()\n",
    "lst_y = list()\n",
    "for i in range(len(X) - 1):\n",
    "    lst_x.append((X[i+1]-X[i])**2)\n",
    "for j in range(len(Y) - 1):\n",
    "    lst_y.append((Y[j+1]-Y[j])**2)\n",
    "\n",
    "length = 0\n",
    "for n in range(len(lst_x)):\n",
    "    length += (lst_x[n] + lst_y[n])**0.5\n",
    "\n",
    "print('{:.2f}'.format(length))"
   ]
  },
  {
   "cell_type": "code",
   "execution_count": 1,
   "id": "41e8c288-eb61-47b2-ba0a-a411f2cac6e0",
   "metadata": {},
   "outputs": [
    {
     "name": "stdin",
     "output_type": "stream",
     "text": [
      "Enter x:  27 -5 28 13 8 3 18 12 1 18 8 1 23\n",
      "Enter y:  15 0 22 15 14 11 -10 8 -3 22 4 28 24\n"
     ]
    },
    {
     "name": "stdout",
     "output_type": "stream",
     "text": [
      "261.01\n"
     ]
    }
   ],
   "source": [
    "import pandas as pd\n",
    "\n",
    "X = input('Enter x: ').split(' ')\n",
    "Y = input('Enter y: ').split(' ')\n",
    "\n",
    "df = pd.DataFrame([X, Y], index=['x', 'y']).astype(int)\n",
    "coordinates = df.shift(-1, axis=1) - df\n",
    "sqrs = coordinates**2\n",
    "lines = sqrs + sqrs.shift(-1, axis=0)\n",
    "length = lines**0.5\n",
    "summ = length.loc['x'].sum()\n",
    "\n",
    "print(round(summ, 2))"
   ]
  },
  {
   "cell_type": "markdown",
   "id": "cbc518f5-2dae-4120-9f2e-1e677a627a6b",
   "metadata": {},
   "source": [
    "## Наибольший модуль\n",
    "Сложность: # #\n",
    "\n",
    "Найдите в списке два элемента, произведение которых является наибольшим по модулю. \n",
    "\n",
    "На вход программа получает список целых чисел, разделенных пробелами. На выходе программа должна напечатать число.\n",
    "\n",
    "Данные для проверки:\n",
    "```\n",
    "Входные данные:\n",
    "-23 10 -6 -23 -8 11 -29 -8 -1 -28 -21 -24 -29 -7 10 0 14\n",
    "Выходные данные:\n",
    "841\n",
    "\n",
    "Входные данные:\n",
    "24 -13 -24 21 -3 26 -12 -11 18 15 25 27 -14 5 -21 8\n",
    "Выходные данные:\n",
    "702\n",
    "\n",
    "Входные данные:\n",
    "9 17 -26 28 -22 9 -7 -21 -24 27 29\n",
    "Выходные данные:\n",
    "812\n",
    "\n",
    "Входные данные:\n",
    "11 -26 -6 29 23 -7 -1 -14 -3 22 12 6 -19 14 -20 -18 10 3\n",
    "Выходные данные:\n",
    "-754\n",
    "\n",
    "Входные данные:\n",
    "12 -20 -20 -25 8 -15 -21 -9 -1 8 -21 -19 -10 3 28 20 7\n",
    "Выходные данные:\n",
    "-700\n",
    "```"
   ]
  },
  {
   "cell_type": "code",
   "execution_count": 159,
   "id": "f98855e3-3be0-4943-a643-7d5173436492",
   "metadata": {},
   "outputs": [
    {
     "name": "stdin",
     "output_type": "stream",
     "text": [
      "Enter numbers:  11 -26 -6 29 23 -7 -1 -14 -3 22 12 6 -19 14 -20 -18 10 3\n"
     ]
    },
    {
     "name": "stdout",
     "output_type": "stream",
     "text": [
      "-754\n"
     ]
    }
   ],
   "source": [
    "string = input('Enter numbers: ').split(' ')\n",
    "\n",
    "lst = list()\n",
    "for i in string:\n",
    "    lst.append(int(i))\n",
    "\n",
    "number = None\n",
    "for j in range(len(lst)):\n",
    "    n = len(lst)-1\n",
    "    while n != j:\n",
    "        mlt = lst[j] * lst[n]\n",
    "        if number is None or abs(number) < abs(mlt):\n",
    "            number = mlt\n",
    "        n -= 1\n",
    "\n",
    "print(number)"
   ]
  },
  {
   "cell_type": "markdown",
   "id": "2ca238d5-ce90-440d-a2c8-f78c8977637b",
   "metadata": {},
   "source": [
    "## Буквенное расстояние\n",
    "Сложность: # #\n",
    "\n",
    "Определим буквенное расстояние между двумя строками как сумму модулей разностей количества вхождений букв в этих строках. \n",
    "\n",
    "Например, буквенное расстояние между строками `'abcde'` и `'aaaee'` равно `6`: буквы `a`, `b`, `c`, `d`, `e` входят в первую строку по одному разу, во вторую строку входят три буквы `a` и две буквы `e`; тогда буквенное расстояние равно `(3 - 1) + (1 - 0) + (1 - 0) + (1 - 0) + (2 - 1) = 6`. \n",
    "\n",
    "Найдите буквенное расстояние между двумя строками. \n",
    "\n",
    "На вход программа получает две строки, на выходе печатает натуральное число – буквенное расстояние между строками.\n",
    "\n",
    "Данные для проверки:\n",
    "\n",
    "```\n",
    "Входные данные:\n",
    "wgrlpdxcfdhtte\n",
    "tvsajfjbygwzri\n",
    "Выходные данные:\n",
    "18\n",
    "\n",
    "Входные данные:\n",
    "eetttkqczlan\n",
    "aknmixwowgol\n",
    "Выходные данные:\n",
    "16\n",
    "\n",
    "Входные данные:\n",
    "geppojoi\n",
    "qsehksew\n",
    "Выходные данные:\n",
    "14\n",
    "\n",
    "Входные данные:\n",
    "abcde\n",
    "edcba\n",
    "Выходные данные:\n",
    "0\n",
    "\n",
    "Входные данные:\n",
    "wrhsj\n",
    "nbwra\n",
    "Выходные данные:\n",
    "6\n",
    "```"
   ]
  },
  {
   "cell_type": "code",
   "execution_count": 168,
   "id": "b7fa0070-4005-4971-881c-123c0b3b0d01",
   "metadata": {},
   "outputs": [
    {
     "name": "stdin",
     "output_type": "stream",
     "text": [
      "Enter the string 1:  geppojoi\n",
      "Enter the string 2:  qsehksew\n"
     ]
    },
    {
     "name": "stdout",
     "output_type": "stream",
     "text": [
      "14\n"
     ]
    }
   ],
   "source": [
    "str1 = input('Enter the string 1: ')\n",
    "str2 = input('Enter the string 2: ')\n",
    "\n",
    "dct = dict()\n",
    "for i in str1:\n",
    "    dct[i] = dct.get(i, 0) + 1\n",
    "for j in str2:\n",
    "    dct[j] = dct.get(j, 0) - 1\n",
    "\n",
    "number = 0\n",
    "for k in dct:\n",
    "    number += abs(dct[k])\n",
    "\n",
    "print(number)"
   ]
  },
  {
   "cell_type": "markdown",
   "id": "6a86edf4-5c73-49b3-b45e-82446a5e00e6",
   "metadata": {},
   "source": [
    "# Повторение – мать учения\n",
    "Сложность: #\n",
    "\n",
    "В программе задан список `lst`. На вход программе подаются три целых числа `insert_index`, `number_to_insert`, `number_insertions`, разделенных пробелом. \n",
    "\n",
    "Вставьте в список `lst` число `number_to_insert` на позицию `insert_index` `number_insertions` раз и выведите список на экран.\n",
    "\n",
    "Данные для проверки:\n",
    "```python\n",
    "Входные данные:\n",
    "7 3 4\n",
    "Выходные данные:\n",
    "[0, 1, 2, 3, 4, 5, 6, 3, 3, 3, 3, 7, 8, 9]\n",
    "\n",
    "Входные данные:\n",
    "5 7 3\n",
    "Выходные данные:\n",
    "[0, 1, 2, 3, 4, 7, 7, 7, 5, 6, 7, 8, 9]\n",
    "\n",
    "Входные данные:\n",
    "1 3 8\n",
    "Выходные данные:\n",
    "[0, 3, 3, 3, 3, 3, 3, 3, 3, 1, 2, 3, 4, 5, 6, 7, 8, 9]\n",
    "\n",
    "Входные данные:\n",
    "6 9 4\n",
    "Выходные данные:\n",
    "[0, 1, 2, 3, 4, 5, 9, 9, 9, 9, 6, 7, 8, 9]\n",
    "\n",
    "Входные данные:\n",
    "4 4 6\n",
    "Выходные данные:\n",
    "[0, 1, 2, 3, 4, 4, 4, 4, 4, 4, 4, 5, 6, 7, 8, 9]\n",
    "```"
   ]
  },
  {
   "cell_type": "markdown",
   "id": "ef3c63ac-9fdd-4046-86e0-aacf803eedc1",
   "metadata": {},
   "source": [
    "```python\n",
    "lst = [0, 1, 2, 3, 4, 5, 6, 7, 8, 9]\n",
    "...\n",
    "```"
   ]
  },
  {
   "cell_type": "code",
   "execution_count": 30,
   "id": "4327724e-0c39-4364-8c16-88c390c87af7",
   "metadata": {},
   "outputs": [
    {
     "name": "stdin",
     "output_type": "stream",
     "text": [
      "Enter the numbers:  5 7 3\n"
     ]
    },
    {
     "name": "stdout",
     "output_type": "stream",
     "text": [
      "[0, 1, 2, 3, 4, 7, 7, 7, 5, 6, 7, 8, 9]\n"
     ]
    }
   ],
   "source": [
    "lst = [0, 1, 2, 3, 4, 5, 6, 7, 8, 9]\n",
    "\n",
    "string = input('Enter the numbers: ').split()\n",
    "insert_index = int(string[0])\n",
    "number_to_insert = int(string[1])\n",
    "number_insertions = int(string[2])\n",
    "for i in range(number_insertions):\n",
    "    lst.insert(insert_index, number_to_insert)\n",
    "print(lst)"
   ]
  },
  {
   "cell_type": "code",
   "execution_count": null,
   "id": "4f306e9e-c802-4d3d-8164-6f6f20a71ebf",
   "metadata": {},
   "outputs": [],
   "source": []
  },
  {
   "cell_type": "code",
   "execution_count": null,
   "id": "47c1b340-0b6d-4565-a66e-6b5cc63d3906",
   "metadata": {},
   "outputs": [],
   "source": []
  }
 ],
 "metadata": {
  "kernelspec": {
   "display_name": "Python 3 (ipykernel)",
   "language": "python",
   "name": "python3"
  },
  "language_info": {
   "codemirror_mode": {
    "name": "ipython",
    "version": 3
   },
   "file_extension": ".py",
   "mimetype": "text/x-python",
   "name": "python",
   "nbconvert_exporter": "python",
   "pygments_lexer": "ipython3",
   "version": "3.11.0"
  },
  "toc-autonumbering": false
 },
 "nbformat": 4,
 "nbformat_minor": 5
}
