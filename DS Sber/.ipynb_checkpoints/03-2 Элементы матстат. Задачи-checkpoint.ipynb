{
 "cells": [
  {
   "cell_type": "markdown",
   "id": "18d252e6",
   "metadata": {},
   "source": [
    "# Элементы математической статистики для анализа данных"
   ]
  },
  {
   "cell_type": "markdown",
   "id": "16a01484",
   "metadata": {},
   "source": [
    "# Задачи из теста по проблемам данных"
   ]
  },
  {
   "cell_type": "code",
   "execution_count": 65,
   "id": "68407c27",
   "metadata": {},
   "outputs": [
    {
     "name": "stdout",
     "output_type": "stream",
     "text": [
      "[31, 36, 42, 43, 43, 44, 44, 45, 48, 49, 50, 50, 52, 52, 53]\n",
      "45\n"
     ]
    }
   ],
   "source": [
    "# Определить медиану\n",
    "# справедливо только для нечетного числа элментов, иначе нужно вводить условие и считать среднее арифметическое\n",
    "\n",
    "lst = [52, 49, 31, 53, 44, 36, 50, 50, 43, 44, 45, 43, 52, 48, 42]\n",
    "lst.sort()\n",
    "medium = lst[int(len(lst)/2)]\n",
    "\n",
    "print(lst)\n",
    "print(medium)"
   ]
  },
  {
   "cell_type": "code",
   "execution_count": 7,
   "id": "035d1f9d",
   "metadata": {},
   "outputs": [
    {
     "name": "stdout",
     "output_type": "stream",
     "text": [
      "7\n"
     ]
    }
   ],
   "source": [
    "# Найти интерквартильный размах\n",
    "\n",
    "lst = [52, 49, 31, 53, 44, 36, 50, 50, 43, 44, 45, 43, 52, 48, 42]\n",
    "lst.sort()\n",
    "\n",
    "one = lst[round(len(lst)/4)]\n",
    "three = lst[round(len(lst)*3/4)-1]\n",
    "iqr = three - one\n",
    "\n",
    "print(iqr)\n"
   ]
  },
  {
   "cell_type": "code",
   "execution_count": 12,
   "id": "a201291a",
   "metadata": {},
   "outputs": [
    {
     "name": "stdout",
     "output_type": "stream",
     "text": [
      "31\n",
      "Done\n"
     ]
    }
   ],
   "source": [
    "# Какие данные являются выбросами, если мы используем метод интерквартильного размаха с коэффициентом k=1.5\n",
    "\n",
    "lst = [52, 49, 31, 53, 44, 36, 50, 50, 43, 44, 45, 43, 52, 48, 42]\n",
    "lst.sort()\n",
    "\n",
    "one = lst[round(len(lst)/4)]\n",
    "three = lst[round(len(lst)*3/4)]\n",
    "iqr = three - one\n",
    "k = 1.5\n",
    "\n",
    "# print(one - k*iqr, three + k*iqr)\n",
    "\n",
    "a = None\n",
    "for i in lst:\n",
    "    if i < one - k*iqr or i > three + k*iqr:\n",
    "        print(i)\n",
    "        a = 'Done'\n",
    "print(a)\n"
   ]
  },
  {
   "cell_type": "code",
   "execution_count": 8,
   "id": "895de122",
   "metadata": {},
   "outputs": [
    {
     "name": "stdout",
     "output_type": "stream",
     "text": [
      "[31, 36, 42, 43, 43, 44, 44, 45, 48, 49, 50, 50, 52, 52, 53]\n",
      "3сигма: 27.7 63.3\n",
      "None\n"
     ]
    }
   ],
   "source": [
    "# Используя правило 3sigma, ответьте, какие точки являются выбросами?\n",
    "\n",
    "lst = [52, 49, 31, 53, 44, 36, 50, 50, 43, 44, 45, 43, 52, 48, 42]\n",
    "lst.sort()\n",
    "\n",
    "summ = 0\n",
    "for i in lst:\n",
    "    summ+=i\n",
    "Ex = round(summ/len(lst), 1)\n",
    "\n",
    "expectation = 0 \n",
    "for i in lst:\n",
    "    expectation += (i-Ex)**2\n",
    "VarX = expectation/len(lst)\n",
    "sigma3 = round(VarX**(1/2)*3, 1)\n",
    "\n",
    "print(lst)\n",
    "print('3сигма:', Ex - sigma3, Ex + sigma3)\n",
    "a = None\n",
    "for i in lst:\n",
    "    if i < Ex - sigma3 or i > Ex + sigma3:\n",
    "        print(i)\n",
    "        a = 'Done'\n",
    "print(a)\n"
   ]
  },
  {
   "cell_type": "markdown",
   "id": "82dde94e",
   "metadata": {},
   "source": [
    "## Задачи из итогового теста"
   ]
  },
  {
   "cell_type": "code",
   "execution_count": 1,
   "id": "cad783b4",
   "metadata": {},
   "outputs": [
    {
     "name": "stdout",
     "output_type": "stream",
     "text": [
      "[34, 37, 59, 64, 75, 81, 90, 98, 102]\n",
      "59\n",
      "90\n",
      "31\n"
     ]
    }
   ],
   "source": [
    "# Найти интерквартильный размах\n",
    "\n",
    "lst = [75, 90, 81, 64, 98, 102, 34, 59, 37 ]\n",
    "lst.sort()\n",
    "\n",
    "one = lst[round(len(lst)/4)]\n",
    "three = lst[round(len(lst)*3/4)-1]\n",
    "\n",
    "iqr = three - one\n",
    "\n",
    "print(lst)\n",
    "print(one)\n",
    "print(three)\n",
    "print(iqr)\n"
   ]
  },
  {
   "cell_type": "code",
   "execution_count": 13,
   "id": "387839db",
   "metadata": {},
   "outputs": [
    {
     "name": "stdout",
     "output_type": "stream",
     "text": [
      "None\n"
     ]
    }
   ],
   "source": [
    "# Какие данные являются выбросами, если мы используем метод интерквартильного размаха с коэффициентом k=1.2\n",
    "\n",
    "lst = [ 75, 90, 81, 64, 98, 102, 34, 59, 37]\n",
    "lst.sort()\n",
    "\n",
    "one = lst[round(len(lst)/4)]\n",
    "three = lst[round(len(lst)*3/4)]\n",
    "iqr = three - one\n",
    "k = 1.2\n",
    "\n",
    "# print(one - k*iqr, three + k*iqr)\n",
    "\n",
    "a = None\n",
    "for i in lst:\n",
    "    if i < one - k*iqr or i > three + k*iqr:\n",
    "        print(i)\n",
    "        a = 'Done'\n",
    "print(a)\n"
   ]
  },
  {
   "cell_type": "code",
   "execution_count": 1,
   "id": "67ff8a97",
   "metadata": {},
   "outputs": [
    {
     "name": "stdout",
     "output_type": "stream",
     "text": [
      "n = 9\n",
      "Xср = 11.0\n",
      "Дисперсия = 156.0\n",
      "s = 4.416\n"
     ]
    }
   ],
   "source": [
    "# Посчитать дисперсию и стандартное отклонение для списка из n чисел (для поиска t-статистики)\n",
    "\n",
    "lst = [4, 10, 14, 12, 8, 12, 6, 16, 17]\n",
    "lst.sort()\n",
    "\n",
    "# X среднее\n",
    "sum = 0\n",
    "for i in lst:\n",
    "    sum+=i\n",
    "Xcp = sum/len(lst)\n",
    "\n",
    "print('n =', len(lst))\n",
    "print('Xср =', Xcp)\n",
    "\n",
    "dispersion = 0\n",
    "for i in lst:\n",
    "    deviation = abs(Xcp - i)**2\n",
    "    dispersion+=deviation\n",
    "print('Дисперсия =', dispersion)\n",
    "\n",
    "s = (dispersion/(len(lst)-1))**(1/2)\n",
    "print('s =', round(s, 3))"
   ]
  },
  {
   "cell_type": "code",
   "execution_count": null,
   "id": "c12fdfb0",
   "metadata": {},
   "outputs": [],
   "source": []
  },
  {
   "cell_type": "code",
   "execution_count": 1,
   "id": "3d49ea5b",
   "metadata": {},
   "outputs": [
    {
     "name": "stdout",
     "output_type": "stream",
     "text": [
      "n = 4\n",
      "mср = 0.7\n",
      "Дисперсия = 4.81\n"
     ]
    }
   ],
   "source": [
    "# Посчитать дисперсию для x чисел и их вероятностей\n",
    "\n",
    "dct = {-2: 0.3, 0: 0.2, 2: 0.4, 5: 0.1}\n",
    "\n",
    "# X среднее\n",
    "mcp = 0\n",
    "for k,v in dct.items():\n",
    "    mcp+=k*v\n",
    "mcp = round(mcp, 2)\n",
    "\n",
    "print('n =', len(dct))\n",
    "print('mср =', mcp)\n",
    "\n",
    "dispersion = 0\n",
    "for k,v in dct.items():\n",
    "    dispersion+=v*((k-mcp)**2)\n",
    "dispersion = round(dispersion, 2)\n",
    "\n",
    "print('Дисперсия =', dispersion)\n"
   ]
  },
  {
   "cell_type": "code",
   "execution_count": null,
   "id": "cc95627c",
   "metadata": {},
   "outputs": [],
   "source": []
  },
  {
   "cell_type": "code",
   "execution_count": null,
   "id": "6f77efc9",
   "metadata": {},
   "outputs": [],
   "source": []
  },
  {
   "cell_type": "code",
   "execution_count": 13,
   "id": "a0f0abf1",
   "metadata": {},
   "outputs": [
    {
     "name": "stdout",
     "output_type": "stream",
     "text": [
      "1-5: 5\n",
      "6-11: 6\n",
      "12-19: 8\n",
      "20-31: 7\n",
      "33-55: 9\n",
      "\n",
      "{'1-5': 5, '6-11': 6, '12-19': 8, '20-31': 7, '31-55': 9}\n"
     ]
    }
   ],
   "source": [
    "# Посчитать частоту наблюдений для ряда чисел по интервалам\n",
    "\n",
    "lst = [1, 2, 3, 4, 5, 6, 7, 8, 9, 10, 11, 12, 13, 14, 15, 16, 17, 18, 19, 20, 25, 26, 28, 29, 30, 31, 33, 34, 36, 39, 40, 45, 48, 50, 55]\n",
    "count1_5 = 0\n",
    "count6_11 = 0\n",
    "count12_19 = 0\n",
    "count20_31 = 0\n",
    "count33_55 = 0\n",
    "\n",
    "for i in lst:\n",
    "    if i < 6: count1_5+=1\n",
    "    elif i < 12: count6_11+=1\n",
    "    elif i < 20: count12_19+=1\n",
    "    elif i < 32: count20_31+=1\n",
    "    elif i < 56: count33_55+=1\n",
    "\n",
    "print('1-5:', count1_5)\n",
    "print('6-11:', count6_11)\n",
    "print('12-19:', count12_19)\n",
    "print('20-31:', count20_31)\n",
    "print('33-55:', count33_55)\n",
    "\n",
    "# Второй вариант, через словарь\n",
    "dct = dict()\n",
    "for i in lst:\n",
    "    if i < 6: dct['1-5'] = dct.get('1-5', 0)+1\n",
    "    elif i < 12: dct['6-11'] = dct.get('6-11', 0)+1\n",
    "    elif i < 20: dct['12-19'] = dct.get('12-19', 0)+1\n",
    "    elif i < 32: dct['20-31'] = dct.get('20-31', 0)+1\n",
    "    elif i < 56: dct['31-55'] = dct.get('31-55', 0)+1\n",
    "\n",
    "print('')\n",
    "print(dct)"
   ]
  },
  {
   "cell_type": "code",
   "execution_count": null,
   "id": "4387cab5",
   "metadata": {},
   "outputs": [],
   "source": []
  },
  {
   "cell_type": "code",
   "execution_count": null,
   "id": "beccaeee",
   "metadata": {},
   "outputs": [],
   "source": []
  }
 ],
 "metadata": {
  "kernelspec": {
   "display_name": "Python 3 (ipykernel)",
   "language": "python",
   "name": "python3"
  },
  "language_info": {
   "codemirror_mode": {
    "name": "ipython",
    "version": 3
   },
   "file_extension": ".py",
   "mimetype": "text/x-python",
   "name": "python",
   "nbconvert_exporter": "python",
   "pygments_lexer": "ipython3",
   "version": "3.11.0"
  }
 },
 "nbformat": 4,
 "nbformat_minor": 5
}
