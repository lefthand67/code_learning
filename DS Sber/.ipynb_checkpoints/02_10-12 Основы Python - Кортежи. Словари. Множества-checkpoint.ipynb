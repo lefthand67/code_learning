{
 "cells": [
  {
   "cell_type": "markdown",
   "id": "3a384530",
   "metadata": {},
   "source": [
    "# ОСНОВЫ PYTHON - теория"
   ]
  },
  {
   "cell_type": "markdown",
   "id": "f1636da2",
   "metadata": {},
   "source": [
    "## 10. Кортежи\n",
    "\n",
    "### Описание\n",
    "Как говорилось ранее, кортежи это неизменяемые списки. Их удобно использовать для защиты данных, которые не должны быть изменены. Создать кортеж можно следующим образом:"
   ]
  },
  {
   "cell_type": "code",
   "execution_count": 29,
   "id": "2f7ec4b7",
   "metadata": {},
   "outputs": [
    {
     "name": "stdout",
     "output_type": "stream",
     "text": [
      "(1, 2, 3, 4, 5, 6)\n"
     ]
    }
   ],
   "source": [
    "a = (1, 2, 3, 4, 5, 6)\n",
    "print(a)"
   ]
  },
  {
   "cell_type": "markdown",
   "id": "c3fa2799",
   "metadata": {},
   "source": [
    "Чтобы создать пустой кортеж, необходимо применить метод **tuple()**:"
   ]
  },
  {
   "cell_type": "code",
   "execution_count": 30,
   "id": "b8e3bd10",
   "metadata": {},
   "outputs": [
    {
     "name": "stdout",
     "output_type": "stream",
     "text": [
      "()\n"
     ]
    }
   ],
   "source": [
    "a = tuple()\n",
    "print(a)"
   ]
  },
  {
   "cell_type": "markdown",
   "id": "d6673be7",
   "metadata": {},
   "source": [
    "Если вам нужен кортеж из одного элемента, то он создается следующим образом:"
   ]
  },
  {
   "cell_type": "code",
   "execution_count": 31,
   "id": "126fe065",
   "metadata": {},
   "outputs": [
    {
     "name": "stdout",
     "output_type": "stream",
     "text": [
      "(1,)\n"
     ]
    }
   ],
   "source": [
    "a = (1,)\n",
    "print(a)"
   ]
  },
  {
   "cell_type": "markdown",
   "id": "3eb1cb50",
   "metadata": {},
   "source": [
    "Если не указать на конце запятую, тогда мы получим не кортеж, а элемент того типа, который мы указали:"
   ]
  },
  {
   "cell_type": "code",
   "execution_count": 32,
   "id": "64ea8257",
   "metadata": {},
   "outputs": [
    {
     "name": "stdout",
     "output_type": "stream",
     "text": [
      "1\n"
     ]
    }
   ],
   "source": [
    "a = (1)\n",
    "print(a)"
   ]
  },
  {
   "cell_type": "markdown",
   "id": "e3a4b280",
   "metadata": {},
   "source": [
    "Кстати, необязательно даже указывать скобки, кортеж можно создать и без них:"
   ]
  },
  {
   "cell_type": "code",
   "execution_count": 33,
   "id": "27f64a2e",
   "metadata": {},
   "outputs": [
    {
     "name": "stdout",
     "output_type": "stream",
     "text": [
      "(1, 2, 3, 4)\n"
     ]
    }
   ],
   "source": [
    "a = 1, 2, 3, 4\n",
    "print(a)"
   ]
  },
  {
   "cell_type": "markdown",
   "id": "0f987d27",
   "metadata": {},
   "source": [
    "Над кортежами работают все операции, работающие со списками, которые не вносят изменения в список."
   ]
  },
  {
   "cell_type": "markdown",
   "id": "f6be7e68",
   "metadata": {},
   "source": [
    "## 11. Словари\n",
    "\n",
    "### Описание\n",
    "Словари - это неупорядоченные коллекции пар \"ключ-значение\". В качестве ключей могут использоваться ссылки на хешируемые объекты, а в качестве значений - ссылки на объекты любого типа. Т.к. словари являются неупорядоченными коллекциями, то к ним не применяется понятие индекса элемента и не применяется операция извлечения среза.\n",
    "\n",
    "### Определение\n",
    "\n",
    "**Хешируемые объекты** - объекты, которые имеют метод **\\_\\_hash\\_\\_()** и могут участвовать в операциях сравнения на равенство с помощью метода **\\_\\_eq\\_\\_()**.\n",
    "\n",
    "Метод **\\_\\_hash\\_\\_()** возвращает одно и то же значение объекта на протяжении его жизненного цикла.\n",
    "\n",
    "Чтобы создать словарь можно использовать метод **dict()**:"
   ]
  },
  {
   "cell_type": "code",
   "execution_count": 35,
   "id": "777e531f",
   "metadata": {},
   "outputs": [
    {
     "name": "stdout",
     "output_type": "stream",
     "text": [
      "{'short': 'dict', 'long': 'dictionary'}\n"
     ]
    }
   ],
   "source": [
    "d = dict(short='dict', long='dictionary')\n",
    "print(d)"
   ]
  },
  {
   "cell_type": "code",
   "execution_count": 36,
   "id": "674f2a14",
   "metadata": {},
   "outputs": [
    {
     "name": "stdout",
     "output_type": "stream",
     "text": [
      "{1: 1, 2: 4}\n"
     ]
    }
   ],
   "source": [
    "d = dict([(1, 1), (2, 4)])\n",
    "print(d)"
   ]
  },
  {
   "cell_type": "markdown",
   "id": "aaa30cb3",
   "metadata": {},
   "source": [
    "В созданных выше словарях мы получили пары \"ключ-значение\", в частности ключ **short** и соответствующее ему значение **dict**.\n",
    "\n",
    "Также можно создать словарь следующим образом:"
   ]
  },
  {
   "cell_type": "code",
   "execution_count": 37,
   "id": "c85fa98b",
   "metadata": {},
   "outputs": [
    {
     "name": "stdout",
     "output_type": "stream",
     "text": [
      "{}\n"
     ]
    }
   ],
   "source": [
    "d = {}\n",
    "print(d)"
   ]
  },
  {
   "cell_type": "code",
   "execution_count": 38,
   "id": "8887d0eb",
   "metadata": {},
   "outputs": [
    {
     "name": "stdout",
     "output_type": "stream",
     "text": [
      "{'dict': 1, 'dictionary': 2}\n"
     ]
    }
   ],
   "source": [
    "d = {'dict': 1, 'dictionary': 2}\n",
    "print(d)"
   ]
  },
  {
   "cell_type": "markdown",
   "id": "bd812cf7",
   "metadata": {},
   "source": [
    "Еще один способ - использовать метод **fromkeys()**:"
   ]
  },
  {
   "cell_type": "code",
   "execution_count": 39,
   "id": "fd6803e9",
   "metadata": {},
   "outputs": [
    {
     "name": "stdout",
     "output_type": "stream",
     "text": [
      "{'a': None, 'b': None}\n"
     ]
    }
   ],
   "source": [
    "d = dict.fromkeys(['a', 'b'])\n",
    "print(d)"
   ]
  },
  {
   "cell_type": "code",
   "execution_count": 40,
   "id": "a7289f7c",
   "metadata": {},
   "outputs": [
    {
     "name": "stdout",
     "output_type": "stream",
     "text": [
      "{'a': 100, 'b': 100}\n"
     ]
    }
   ],
   "source": [
    "d = dict.fromkeys(['a', 'b'], 100)\n",
    "print(d)"
   ]
  },
  {
   "cell_type": "markdown",
   "id": "b824e47a",
   "metadata": {},
   "source": [
    "Также можно использовать генератор словарей:"
   ]
  },
  {
   "cell_type": "code",
   "execution_count": 42,
   "id": "70c717b7",
   "metadata": {},
   "outputs": [
    {
     "name": "stdout",
     "output_type": "stream",
     "text": [
      "{0: 0, 1: 1, 2: 4, 3: 9, 4: 16, 5: 25, 6: 36}\n"
     ]
    }
   ],
   "source": [
    "d = {a: a ** 2 for a in range(7)}\n",
    "print(d)"
   ]
  },
  {
   "cell_type": "markdown",
   "id": "c76e0246",
   "metadata": {},
   "source": [
    "Как можно работать со словарями:"
   ]
  },
  {
   "cell_type": "code",
   "execution_count": 43,
   "id": "c1b9fbec",
   "metadata": {},
   "outputs": [
    {
     "name": "stdout",
     "output_type": "stream",
     "text": [
      "2\n"
     ]
    }
   ],
   "source": [
    "d = {1: 2, 2: 4, 3: 9}\n",
    "print(d[1])"
   ]
  },
  {
   "cell_type": "code",
   "execution_count": 44,
   "id": "d2fe08b2",
   "metadata": {},
   "outputs": [
    {
     "name": "stdout",
     "output_type": "stream",
     "text": [
      "{1: 2, 2: 4, 3: 9, 4: 16}\n"
     ]
    }
   ],
   "source": [
    "d = {1: 2, 2: 4, 3: 9}\n",
    "d[4] = 4 ** 2\n",
    "print(d)"
   ]
  },
  {
   "cell_type": "code",
   "execution_count": 45,
   "id": "ffa86c49",
   "metadata": {},
   "outputs": [
    {
     "ename": "KeyError",
     "evalue": "'1'",
     "output_type": "error",
     "traceback": [
      "\u001b[1;31m---------------------------------------------------------------------------\u001b[0m",
      "\u001b[1;31mKeyError\u001b[0m                                  Traceback (most recent call last)",
      "\u001b[1;32m~\\AppData\\Local\\Temp\\ipykernel_16116\\1692292570.py\u001b[0m in \u001b[0;36m<module>\u001b[1;34m\u001b[0m\n\u001b[0;32m      1\u001b[0m \u001b[0md\u001b[0m \u001b[1;33m=\u001b[0m \u001b[1;33m{\u001b[0m\u001b[1;36m1\u001b[0m\u001b[1;33m:\u001b[0m \u001b[1;36m2\u001b[0m\u001b[1;33m,\u001b[0m \u001b[1;36m2\u001b[0m\u001b[1;33m:\u001b[0m \u001b[1;36m4\u001b[0m\u001b[1;33m,\u001b[0m \u001b[1;36m3\u001b[0m\u001b[1;33m:\u001b[0m \u001b[1;36m9\u001b[0m\u001b[1;33m}\u001b[0m\u001b[1;33m\u001b[0m\u001b[1;33m\u001b[0m\u001b[0m\n\u001b[1;32m----> 2\u001b[1;33m \u001b[0md\u001b[0m\u001b[1;33m[\u001b[0m\u001b[1;34m'1'\u001b[0m\u001b[1;33m]\u001b[0m\u001b[1;33m\u001b[0m\u001b[1;33m\u001b[0m\u001b[0m\n\u001b[0m",
      "\u001b[1;31mKeyError\u001b[0m: '1'"
     ]
    }
   ],
   "source": [
    "d = {1: 2, 2: 4, 3: 9}\n",
    "d['1']"
   ]
  },
  {
   "cell_type": "markdown",
   "id": "cb1ae624",
   "metadata": {},
   "source": [
    "В первом случае мы обратились к ключу \"1\", после чего получили вывод на экран его значения \"2\". Затем мы создали новый ключ \"4\" и присвоили ему значение \"16\", после чего эта пара добавилась к нашему словарю. В последнем примере мы попробовали обратиться к несуществующему ключу, поскольку значение '1' стоит в кавычках, а значит это другой тип данных, которого нет в нашем словаре, после чего получили сообщение о том, что такого ключа нет.\n",
    "\n",
    "### Методы для работы со словарями\n",
    "Методы вызываются по схеме: **dict.method()**. Ниже будут перечислены полезные методы для работы со словарями:\n",
    "\n",
    "- **clear()** - очищает словарь"
   ]
  },
  {
   "cell_type": "code",
   "execution_count": 46,
   "id": "3f55bdfc",
   "metadata": {},
   "outputs": [
    {
     "name": "stdout",
     "output_type": "stream",
     "text": [
      "{}\n"
     ]
    }
   ],
   "source": [
    "d = {'a': 1, 'b': 2}\n",
    "d.clear()\n",
    "print(d)"
   ]
  },
  {
   "cell_type": "markdown",
   "id": "012fbccb",
   "metadata": {},
   "source": [
    "- **copy()** - возвращает копию словаря"
   ]
  },
  {
   "cell_type": "code",
   "execution_count": 47,
   "id": "030b9bb7",
   "metadata": {},
   "outputs": [
    {
     "name": "stdout",
     "output_type": "stream",
     "text": [
      "{'a': 1, 'b': 2}\n"
     ]
    }
   ],
   "source": [
    "d = {'a': 1, 'b': 2}\n",
    "b = d.copy()\n",
    "print(b)"
   ]
  },
  {
   "cell_type": "markdown",
   "id": "d52988d9",
   "metadata": {},
   "source": [
    "- **fromkeys(seq[,value])** - создает словарь с ключами из seq и значением value"
   ]
  },
  {
   "cell_type": "code",
   "execution_count": 73,
   "id": "4d99eb4d",
   "metadata": {},
   "outputs": [
    {
     "name": "stdout",
     "output_type": "stream",
     "text": [
      "{'a': 10, 'b': 10}\n",
      "{'a': 10}\n"
     ]
    }
   ],
   "source": [
    "print(d.fromkeys(['a', 'b'], 10))\n",
    "print(d.fromkeys('a', 10))"
   ]
  },
  {
   "cell_type": "markdown",
   "id": "d07e0129",
   "metadata": {},
   "source": [
    "- **get(key[, default])** - возвращает значение ключа, но если его нет, возвращает default\n",
    "\n",
    "(Вранье. Смотреть _Dr Chuck_ **\"Python for Everybody\"** - .get дает возможность не просто получить значение, а перезаписать любой ключ и его значение, что очень удобно для подсчета, то есть действует как .update, но удобнее)"
   ]
  },
  {
   "cell_type": "code",
   "execution_count": 80,
   "id": "4c5761c3",
   "metadata": {},
   "outputs": [
    {
     "name": "stdout",
     "output_type": "stream",
     "text": [
      "1\n",
      "None\n"
     ]
    }
   ],
   "source": [
    "d = {'a': 1, 'b': 2}\n",
    "\n",
    "print(d.get('a'))\n",
    "print(d.get('c'))"
   ]
  },
  {
   "cell_type": "markdown",
   "id": "61ec45ad",
   "metadata": {},
   "source": [
    "Вот сравнить .get и .update:"
   ]
  },
  {
   "cell_type": "code",
   "execution_count": 1,
   "id": "98b445cb",
   "metadata": {},
   "outputs": [
    {
     "name": "stdout",
     "output_type": "stream",
     "text": [
      "{'a': 1, 'b': 2, 'c': 0, 'e': None, 'f': 0}\n"
     ]
    }
   ],
   "source": [
    "d = {'a': 1, 'b': 2}\n",
    "\n",
    "d['c'] = d.get('c', 0)\n",
    "d['e'] = d.get('e')\n",
    "d['f'] = d.get('c')\n",
    "\n",
    "print(d)"
   ]
  },
  {
   "cell_type": "markdown",
   "id": "4aeab953",
   "metadata": {},
   "source": [
    "- **update([other])** - обновляет словарь, добавляя пары (ключ, значение) из other. Существующие ключи перезаписываются"
   ]
  },
  {
   "cell_type": "code",
   "execution_count": 75,
   "id": "2ec3fe0f",
   "metadata": {},
   "outputs": [
    {
     "name": "stdout",
     "output_type": "stream",
     "text": [
      "None\n",
      "{'a': 1, 'b': 2, 'd': 5}\n"
     ]
    }
   ],
   "source": [
    "d = {'a': 1, 'b': 2}\n",
    "d.update({'d':5})\n",
    "\n",
    "print(d.update({'d':5}))\n",
    "print(d)"
   ]
  },
  {
   "cell_type": "markdown",
   "id": "783924a8",
   "metadata": {},
   "source": [
    "- **keys()** - возвращает ключи в словаре"
   ]
  },
  {
   "cell_type": "code",
   "execution_count": 54,
   "id": "01b9083f",
   "metadata": {},
   "outputs": [
    {
     "name": "stdout",
     "output_type": "stream",
     "text": [
      "dict_keys(['a', 'b'])\n"
     ]
    }
   ],
   "source": [
    "d = {'a': 1, 'b': 2}\n",
    "print(d.keys())"
   ]
  },
  {
   "cell_type": "markdown",
   "id": "b9b1c792",
   "metadata": {},
   "source": [
    "- **values()** - возвращает значения в словаре"
   ]
  },
  {
   "cell_type": "code",
   "execution_count": 67,
   "id": "4cc3f50a",
   "metadata": {},
   "outputs": [
    {
     "data": {
      "text/plain": [
       "dict_values([1, 2])"
      ]
     },
     "execution_count": 67,
     "metadata": {},
     "output_type": "execute_result"
    }
   ],
   "source": [
    "d = {'a': 1, 'b': 2}\n",
    "d.values()"
   ]
  },
  {
   "cell_type": "markdown",
   "id": "3b6b0f9d",
   "metadata": {},
   "source": [
    "- **items()** - возвращает пары (ключ, значение) в виде списка кортежей пар"
   ]
  },
  {
   "cell_type": "code",
   "execution_count": 53,
   "id": "2bab52f7",
   "metadata": {},
   "outputs": [
    {
     "data": {
      "text/plain": [
       "dict_items([('a', 1), ('b', 2)])"
      ]
     },
     "execution_count": 53,
     "metadata": {},
     "output_type": "execute_result"
    }
   ],
   "source": [
    "d = {'a': 1, 'b': 2}\n",
    "d.items()"
   ]
  },
  {
   "cell_type": "markdown",
   "id": "b019eeab",
   "metadata": {},
   "source": [
    "- **pop(key[, default])** - удаляет ключ и возвращает значение. Если ключа нет, возвращает default"
   ]
  },
  {
   "cell_type": "code",
   "execution_count": 71,
   "id": "b2561e0e",
   "metadata": {},
   "outputs": [
    {
     "name": "stdout",
     "output_type": "stream",
     "text": [
      "1\n",
      "None\n",
      "{'b': 2}\n"
     ]
    }
   ],
   "source": [
    "d = {'a': 1, 'b': 2}\n",
    "print(d.pop('a'))\n",
    "print(d.pop('c', None))\n",
    "print(d)"
   ]
  },
  {
   "cell_type": "markdown",
   "id": "19595bb0",
   "metadata": {},
   "source": [
    "- **popitem()** - удаляет и возвращает пару (ключ, значение) с конца"
   ]
  },
  {
   "cell_type": "code",
   "execution_count": 58,
   "id": "a364838d",
   "metadata": {},
   "outputs": [
    {
     "name": "stdout",
     "output_type": "stream",
     "text": [
      "('b', 2)\n",
      "{'a': 1}\n"
     ]
    }
   ],
   "source": [
    "d = {'a': 1, 'b': 2}\n",
    "print(d.popitem())\n",
    "print(d)"
   ]
  },
  {
   "cell_type": "markdown",
   "id": "79d4d1be",
   "metadata": {},
   "source": [
    "- **setdefault(key[, default])** - возвращает значение ключа, но если его нет, создает ключ с значением default"
   ]
  },
  {
   "cell_type": "code",
   "execution_count": 65,
   "id": "1149ed03",
   "metadata": {},
   "outputs": [
    {
     "name": "stdout",
     "output_type": "stream",
     "text": [
      "6\n",
      "None\n",
      "{'a': 1, 'b': 2, 'e': 6, 'f': None}\n"
     ]
    }
   ],
   "source": [
    "d = {'a': 1, 'b': 2}\n",
    "\n",
    "d.setdefault('e', 6)\n",
    "print(d.setdefault('e', 6))\n",
    "\n",
    "d.setdefault('f')\n",
    "print(d.setdefault('f'))\n",
    "print(d)"
   ]
  },
  {
   "cell_type": "markdown",
   "id": "76127a29",
   "metadata": {},
   "source": [
    "## 12. Множества\n",
    "\n",
    "### Описание\n",
    "Как говорилось ранее, множества содержат неповторяющиеся данные в произвольном порядке. Создадим множество несколькими способами:"
   ]
  },
  {
   "cell_type": "code",
   "execution_count": 2,
   "id": "0e2b2a2e",
   "metadata": {},
   "outputs": [
    {
     "name": "stdout",
     "output_type": "stream",
     "text": [
      "set()\n"
     ]
    }
   ],
   "source": [
    "a = set()\n",
    "print(a)"
   ]
  },
  {
   "cell_type": "code",
   "execution_count": 7,
   "id": "0089dac9",
   "metadata": {},
   "outputs": [
    {
     "name": "stdout",
     "output_type": "stream",
     "text": [
      "{'h', 'l', 'e', 'o'}\n"
     ]
    }
   ],
   "source": [
    "a = set('hello')\n",
    "print(a)"
   ]
  },
  {
   "cell_type": "code",
   "execution_count": 10,
   "id": "7ce6a650",
   "metadata": {},
   "outputs": [
    {
     "name": "stdout",
     "output_type": "stream",
     "text": [
      "{'d', 'a', 'c', 'b'}\n"
     ]
    }
   ],
   "source": [
    "a = {'a', 'b', 'c', 'd'}\n",
    "print(a)"
   ]
  },
  {
   "cell_type": "code",
   "execution_count": 5,
   "id": "625df1f8",
   "metadata": {},
   "outputs": [
    {
     "name": "stdout",
     "output_type": "stream",
     "text": [
      "{0, 1, 64, 4, 36, 9, 16, 49, 81, 25}\n"
     ]
    }
   ],
   "source": [
    "a = {i ** 2 for i in range(10)}\n",
    "print(a)"
   ]
  },
  {
   "cell_type": "markdown",
   "id": "df38db6b",
   "metadata": {},
   "source": [
    "Множества удобно использовать для удаления повторяющихся элементов:"
   ]
  },
  {
   "cell_type": "code",
   "execution_count": 11,
   "id": "24bb5d5b",
   "metadata": {},
   "outputs": [
    {
     "data": {
      "text/plain": [
       "{'daddy', 'hello', 'mum'}"
      ]
     },
     "execution_count": 11,
     "metadata": {},
     "output_type": "execute_result"
    }
   ],
   "source": [
    "words = ['hello', 'daddy', 'hello', 'mum']\n",
    "set(words)"
   ]
  },
  {
   "cell_type": "markdown",
   "id": "9e279053",
   "metadata": {},
   "source": [
    "### Методы для работы со множествами\n",
    "Методы множеств, в основном, вызываются по схеме: **set.method()**. Ниже будут перечислены полезные методы для работы с множествами:\n",
    "\n",
    "- **len(s)** - число элементов в множестве (размер множества)"
   ]
  },
  {
   "cell_type": "code",
   "execution_count": 13,
   "id": "f53c8db7",
   "metadata": {},
   "outputs": [
    {
     "data": {
      "text/plain": [
       "4"
      ]
     },
     "execution_count": 13,
     "metadata": {},
     "output_type": "execute_result"
    }
   ],
   "source": [
    "a = {'a', 'b', 'c', 'd'}\n",
    "len(a)"
   ]
  },
  {
   "cell_type": "markdown",
   "id": "e9828295",
   "metadata": {},
   "source": [
    "- x **in** s - принадлежит ли x множеству s"
   ]
  },
  {
   "cell_type": "code",
   "execution_count": 14,
   "id": "7057a330",
   "metadata": {},
   "outputs": [
    {
     "data": {
      "text/plain": [
       "True"
      ]
     },
     "execution_count": 14,
     "metadata": {},
     "output_type": "execute_result"
    }
   ],
   "source": [
    "a = {'a', 'b', 'c', 'd'}\n",
    "'a' in a"
   ]
  },
  {
   "cell_type": "markdown",
   "id": "e737cb72",
   "metadata": {},
   "source": [
    "- **isdisjoint(other)** - истина, если set и other не имеют общих элементов"
   ]
  },
  {
   "cell_type": "code",
   "execution_count": 15,
   "id": "df37bd0e",
   "metadata": {},
   "outputs": [
    {
     "data": {
      "text/plain": [
       "False"
      ]
     },
     "execution_count": 15,
     "metadata": {},
     "output_type": "execute_result"
    }
   ],
   "source": [
    "a = {'a', 'b', 'c', 'd'}\n",
    "a.isdisjoint('a')"
   ]
  },
  {
   "cell_type": "code",
   "execution_count": 17,
   "id": "dc55311f",
   "metadata": {},
   "outputs": [
    {
     "data": {
      "text/plain": [
       "True"
      ]
     },
     "execution_count": 17,
     "metadata": {},
     "output_type": "execute_result"
    }
   ],
   "source": [
    "a = {'a', 'b', 'c', 'd'}\n",
    "a.isdisjoint('f')"
   ]
  },
  {
   "cell_type": "markdown",
   "id": "d31d244c",
   "metadata": {},
   "source": [
    "- **issubset(other)** или **set <= other** - истина, если все элементы set принадлежат other"
   ]
  },
  {
   "cell_type": "code",
   "execution_count": 18,
   "id": "92d2f651",
   "metadata": {},
   "outputs": [
    {
     "data": {
      "text/plain": [
       "True"
      ]
     },
     "execution_count": 18,
     "metadata": {},
     "output_type": "execute_result"
    }
   ],
   "source": [
    "a = {'a', 'b', 'c', 'd'}\n",
    "a.issubset({'a', 'b', 'c', 'd','f','e'})"
   ]
  },
  {
   "cell_type": "markdown",
   "id": "9b9efbac",
   "metadata": {},
   "source": [
    "- **issuperset(other)** или **set >= other** - аналогично"
   ]
  },
  {
   "cell_type": "markdown",
   "id": "749448b4",
   "metadata": {},
   "source": [
    "- **union(other, ...)** или **set | other | ...** - возвращает объединение нескольких множеств"
   ]
  },
  {
   "cell_type": "code",
   "execution_count": 20,
   "id": "214b0598",
   "metadata": {},
   "outputs": [
    {
     "data": {
      "text/plain": [
       "{'a', 'b', 'c', 'd', 'f'}"
      ]
     },
     "execution_count": 20,
     "metadata": {},
     "output_type": "execute_result"
    }
   ],
   "source": [
    "a = {'a', 'b', 'c', 'd'}\n",
    "a.union({'f','d'})"
   ]
  },
  {
   "cell_type": "markdown",
   "id": "af2164e2",
   "metadata": {},
   "source": [
    "- **update(other, ...)** или **set |= other | ...** - объединение множеств. Метод, вносящий изменения в множество"
   ]
  },
  {
   "cell_type": "code",
   "execution_count": 26,
   "id": "cf57d05c",
   "metadata": {},
   "outputs": [
    {
     "name": "stdout",
     "output_type": "stream",
     "text": [
      "{'d', 'a', 'w', 'c', 'b', 'z'}\n"
     ]
    }
   ],
   "source": [
    "a = {'a', 'b', 'c', 'd'}\n",
    "a.update({'w','z'})\n",
    "print(a)"
   ]
  },
  {
   "cell_type": "markdown",
   "id": "83b0ad78",
   "metadata": {},
   "source": [
    "- **intersection(other, ...)** или **set & other & ...** - возвращает пересечение множеств"
   ]
  },
  {
   "cell_type": "code",
   "execution_count": 21,
   "id": "48075a84",
   "metadata": {},
   "outputs": [
    {
     "data": {
      "text/plain": [
       "{'a'}"
      ]
     },
     "execution_count": 21,
     "metadata": {},
     "output_type": "execute_result"
    }
   ],
   "source": [
    "a = {'a', 'b', 'c', 'd'}\n",
    "a.intersection({'f','a'})"
   ]
  },
  {
   "cell_type": "markdown",
   "id": "8a60fdd0",
   "metadata": {},
   "source": [
    "- **intersection_update(other, ...)** или **set &= other & ...** - пересечение множеств. Метод, вносящий изменения в множество"
   ]
  },
  {
   "cell_type": "code",
   "execution_count": 27,
   "id": "3d09c640",
   "metadata": {},
   "outputs": [
    {
     "name": "stdout",
     "output_type": "stream",
     "text": [
      "{'d', 'a'}\n"
     ]
    }
   ],
   "source": [
    "a = {'a', 'b', 'c', 'd'}\n",
    "a.intersection_update({'a','d'})\n",
    "print(a)"
   ]
  },
  {
   "cell_type": "markdown",
   "id": "f87ec1d0",
   "metadata": {},
   "source": [
    "- **difference(other, ...)** или **set - other - ...** - вычитание множества other; возвращает множество из всех элементов set, не принадлежащих ни одному из other"
   ]
  },
  {
   "cell_type": "code",
   "execution_count": 22,
   "id": "357938a6",
   "metadata": {},
   "outputs": [
    {
     "data": {
      "text/plain": [
       "{'b', 'c'}"
      ]
     },
     "execution_count": 22,
     "metadata": {},
     "output_type": "execute_result"
    }
   ],
   "source": [
    "a = {'a', 'b', 'c', 'd'}\n",
    "a.difference({'a','f','d'})"
   ]
  },
  {
   "cell_type": "markdown",
   "id": "aa4fa232",
   "metadata": {},
   "source": [
    "- **difference_update(other, ...)** или **set -= other | ...** - вычитание множеств. Метод, вносящий изменения в множество"
   ]
  },
  {
   "cell_type": "code",
   "execution_count": 28,
   "id": "c2c7d9ac",
   "metadata": {},
   "outputs": [
    {
     "name": "stdout",
     "output_type": "stream",
     "text": [
      "{'c', 'b'}\n"
     ]
    }
   ],
   "source": [
    "a = {'a', 'b', 'c', 'd'}\n",
    "a.difference_update({'a','d'})\n",
    "print(a)"
   ]
  },
  {
   "cell_type": "markdown",
   "id": "e845fc41",
   "metadata": {},
   "source": [
    "- **symmetric_difference(other)** или **set ^ other** - симметрическая разность; возвращает множество из элементов, встречающихся в одном множестве, но не встречающиеся в обоих"
   ]
  },
  {
   "cell_type": "code",
   "execution_count": 23,
   "id": "5c478054",
   "metadata": {},
   "outputs": [
    {
     "data": {
      "text/plain": [
       "{'b', 'c'}"
      ]
     },
     "execution_count": 23,
     "metadata": {},
     "output_type": "execute_result"
    }
   ],
   "source": [
    "a = {'a', 'b', 'c', 'd'}\n",
    "a.symmetric_difference({'a','d'})"
   ]
  },
  {
   "cell_type": "markdown",
   "id": "91aa0300",
   "metadata": {},
   "source": [
    "- **symmetric_difference_update(other)** или **set ^= other** - симметрическая разность; множество из элементов, встречающихся в одном множестве, но не встречающихся в обоих. Метод, вносящий изменения в множество"
   ]
  },
  {
   "cell_type": "code",
   "execution_count": 29,
   "id": "a1d854b2",
   "metadata": {},
   "outputs": [
    {
     "name": "stdout",
     "output_type": "stream",
     "text": [
      "{'d', 'c'}\n"
     ]
    }
   ],
   "source": [
    "a = {'a', 'b', 'c', 'd'}\n",
    "a.symmetric_difference_update({'a','b'})\n",
    "print(a)"
   ]
  },
  {
   "cell_type": "markdown",
   "id": "4ed42f36",
   "metadata": {},
   "source": [
    "- **copy()** - копия множества"
   ]
  },
  {
   "cell_type": "code",
   "execution_count": 25,
   "id": "83673d92",
   "metadata": {},
   "outputs": [
    {
     "name": "stdout",
     "output_type": "stream",
     "text": [
      "{'d', 'a', 'c', 'b'}\n"
     ]
    }
   ],
   "source": [
    "a = {'a', 'b', 'c', 'd'}\n",
    "d = a.copy()\n",
    "print(d)"
   ]
  },
  {
   "cell_type": "markdown",
   "id": "bbc658ae",
   "metadata": {},
   "source": [
    "- **add(elem)** - добавляет элемент в множество. Метод, вносящий изменения в множество"
   ]
  },
  {
   "cell_type": "code",
   "execution_count": 30,
   "id": "5a286991",
   "metadata": {},
   "outputs": [
    {
     "name": "stdout",
     "output_type": "stream",
     "text": [
      "{'r', 'c', 'd', 'a', 'b'}\n"
     ]
    }
   ],
   "source": [
    "a = {'a', 'b', 'c', 'd'}\n",
    "a.add('r')\n",
    "print(a)"
   ]
  },
  {
   "cell_type": "markdown",
   "id": "406d5b5e",
   "metadata": {},
   "source": [
    "- **remove(elem)** - удаляет элемент из множества. KeyError, если такого элемента не существует. Метод, вносящий изменения в множество"
   ]
  },
  {
   "cell_type": "code",
   "execution_count": 31,
   "id": "c69835a0",
   "metadata": {},
   "outputs": [
    {
     "name": "stdout",
     "output_type": "stream",
     "text": [
      "{'d', 'a', 'c'}\n"
     ]
    }
   ],
   "source": [
    "a = {'a', 'b', 'c', 'd'}\n",
    "a.remove('b')\n",
    "print(a)"
   ]
  },
  {
   "cell_type": "markdown",
   "id": "92bea0e2",
   "metadata": {},
   "source": [
    "- **discard(elem)** - удаляет элемент, если он находится в множестве. Метод, вносящий изменения в множество"
   ]
  },
  {
   "cell_type": "code",
   "execution_count": 32,
   "id": "778678d3",
   "metadata": {},
   "outputs": [
    {
     "name": "stdout",
     "output_type": "stream",
     "text": [
      "{'d', 'a', 'b'}\n"
     ]
    }
   ],
   "source": [
    "a = {'a', 'b', 'c', 'd'}\n",
    "a.discard('c')\n",
    "print(a)"
   ]
  },
  {
   "cell_type": "markdown",
   "id": "55f14911",
   "metadata": {},
   "source": [
    "- **pop()** - удаляет первый элемент из множества. Так как множества не упорядочены, нельзя точно сказать, какой элемент будет первым. Метод, вносящий изменения в множество"
   ]
  },
  {
   "cell_type": "code",
   "execution_count": 34,
   "id": "76071fda",
   "metadata": {},
   "outputs": [
    {
     "name": "stdout",
     "output_type": "stream",
     "text": [
      "{'a', 'c', 'b'}\n"
     ]
    }
   ],
   "source": [
    "a = {'a', 'b', 'c', 'd'}\n",
    "a.pop()\n",
    "print(a)"
   ]
  },
  {
   "cell_type": "markdown",
   "id": "6121eb4e",
   "metadata": {},
   "source": [
    "- **clear()** - очистка множества. Метод, вносящий изменения в множество"
   ]
  },
  {
   "cell_type": "code",
   "execution_count": 35,
   "id": "868eba30",
   "metadata": {},
   "outputs": [
    {
     "name": "stdout",
     "output_type": "stream",
     "text": [
      "set()\n"
     ]
    }
   ],
   "source": [
    "a = {'a', 'b', 'c', 'd'}\n",
    "a.clear()\n",
    "print(a)"
   ]
  },
  {
   "cell_type": "markdown",
   "id": "c43593a9",
   "metadata": {},
   "source": [
    "**frozenset**: единственное отличие от **set** заключается в том, что frozenset не меняется, соответственно, к frozenset можно применить только те методы, которые не меняют множество."
   ]
  },
  {
   "cell_type": "code",
   "execution_count": null,
   "id": "df206c5b",
   "metadata": {},
   "outputs": [],
   "source": []
  }
 ],
 "metadata": {
  "kernelspec": {
   "display_name": "Python 3 (ipykernel)",
   "language": "python",
   "name": "python3"
  },
  "language_info": {
   "codemirror_mode": {
    "name": "ipython",
    "version": 3
   },
   "file_extension": ".py",
   "mimetype": "text/x-python",
   "name": "python",
   "nbconvert_exporter": "python",
   "pygments_lexer": "ipython3",
   "version": "3.8.13"
  }
 },
 "nbformat": 4,
 "nbformat_minor": 5
}
