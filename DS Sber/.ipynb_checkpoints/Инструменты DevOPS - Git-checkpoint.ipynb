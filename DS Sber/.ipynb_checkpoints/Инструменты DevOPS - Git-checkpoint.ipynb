{
 "cells": [
  {
   "cell_type": "markdown",
   "id": "bd39f9dd",
   "metadata": {},
   "source": [
    "<!DOCTYPE html>\n",
    "<html lang=\"ru\" style=\"\">\n",
    "\n",
    "# ИНСТРУМЕНТЫ DevOPS: GIT"
   ]
  },
  {
   "cell_type": "markdown",
   "id": "9fa10cba",
   "metadata": {},
   "source": [
    "## Конфигурация и справка\n",
    "\n",
    "Системные настройки хранятся в /etc/gitconfig:\n",
    "git config --system\n",
    "\n",
    "Глобальные настройки для пользователя хранятся в ~/.gitconfig:\n",
    "git config --global\n",
    "\n",
    "Локальные настройки хранятся в репозитории в .git/config:\n",
    "git config --local (default)\n",
    "\n",
    "Настройки нижних уровней перекрывают настройки верхней уровней.\n",
    "\n",
    "\n",
    "\n",
    "### Получение справки:\n",
    "\n",
    "$ git help <команда>\n",
    "\n",
    "$ git <команда> --help\n",
    "\n",
    "$ man git-<команда>"
   ]
  },
  {
   "cell_type": "markdown",
   "id": "b114b862",
   "metadata": {},
   "source": [
    "## Создание и клонирование репозитория\n",
    "\n",
    "Создание репозитория\n",
    "$ git init\n",
    "\n",
    "Клонирование существующего репозитория\n",
    "$ git clone https://github.com/libgit2/libgit2\n",
    "\n",
    "Поддерживаемые протоколы:\n",
    "https://, git:// или SSH: user@server:path/to/repo.git"
   ]
  },
  {
   "cell_type": "markdown",
   "id": "a9026767",
   "metadata": {},
   "source": [
    "## Состояния файлов в рабочей директории"
   ]
  },
  {
   "cell_type": "markdown",
   "id": "84ddbd93",
   "metadata": {},
   "source": [
    "<div><img src=\"https://cs.sberbank-school.ru/storage/f0/ad/5b28-f6d9-11e8-9acd-005056011b68/1079ba3f263db959ec9136ab45ab826d/assets/2C0wPILtkcItpWE7_Q4VID9ODgsQIZpfn.png\" alt=\"Состояния файлов в рабочей директории\" style=\"width: 600px; margin-right: 75%\"></div>"
   ]
  },
  {
   "cell_type": "markdown",
   "id": "1bfde146",
   "metadata": {},
   "source": [
    "## Состояния файлов в репозитории\n",
    "\n",
    "Три основных состояния, в которых могут находиться файлы проекта:\n",
    "\n",
    "изменённое (modified) \n",
    "подготовленное (staged) \n",
    "зафиксированное (committed)"
   ]
  },
  {
   "cell_type": "markdown",
   "id": "d453c991",
   "metadata": {},
   "source": [
    "<div><img src=\"https://cs.sberbank-school.ru/storage/f0/ad/5b28-f6d9-11e8-9acd-005056011b68/1079ba3f263db959ec9136ab45ab826d/assets/r1v-nsXyKsCmHrAP_ONJ4wFl2-2MDQTHz.png\" alt=\"Состояния файлов в репозитории\" style=\"width: 600px; margin-right: 75%\"></div>"
   ]
  },
  {
   "cell_type": "markdown",
   "id": "b7699049",
   "metadata": {},
   "source": [
    "## Определение и отслеживание состояния файлов\n",
    "\n",
    "Определение состояния файлов в рабочей директории:  \n",
    "$ git status\n",
    "\n",
    "Начать отслеживать файл:  \n",
    "$ git add <filename>\n",
    "\n",
    "Индексация изменений:  \n",
    "$ git add <filename>\n",
    "\n",
    "Просмотр неиндексированных изменений:  \n",
    "$ git diff\n",
    "\n",
    "Просмотр индексированных изменений:  \n",
    "$ git diff --staged\n",
    "\n",
    "## Фиксация изменений\n",
    "\n",
    "Зафиксировать изменения:  \n",
    "$ git commit\n",
    "\n",
    "Игнорирование индексации:  \n",
    "$ git commit –a\n",
    "\n",
    "Добавление сообщения к коммиту:  \n",
    "$ git commit -m 'Add description to my project'\n",
    "\n",
    "Ключи можно комбинировать:  \n",
    "$ git commit –a -m 'Add description to my project'"
   ]
  },
  {
   "cell_type": "markdown",
   "id": "3b9b5038",
   "metadata": {},
   "source": [
    "## Просмотр истории коммитов\n",
    "\n",
    "$ git log  \n",
    "commit ca82a6dff817ec66f44342007202690a93763949    \n",
    "Author: Scott Chacon &lt;schacon@gee-mail.com&gt;\n",
    "Date: Mon Mar 17 21:52:11 2008 -0700  \n",
    "        changed the version number  \n",
    "commit 085bb3bcb608e1e8451d4b2432f8ecbe6306e7e7  \n",
    "Author: Scott Chacon &lt;schacon@gee-mail.com&gt;  \n",
    "Date: Sat Mar 15 16:40:33 2008 -0700  \n",
    "        removed unnecessary test  \n",
    "commit  \n",
    "a11bef06a3f659402fe7563abf99ad00de2209e6  \n",
    "Author: Scott Chacon &lt;schacon@gee-mail.com&gt;  \n",
    "Date: Sat Mar 15 10:31:28 2008 -0700  \n",
    "        first commit  \n",
    "\n",
    "\n",
    "### Опции\n",
    "\n",
    "--stat — выведет статистику для каждого коммита  \n",
    "\n",
    "--graph — строит текстовый граф  \n",
    "\n",
    "--decorate — покажет “головы” (HEAD)  \n",
    "\n",
    "--all — покажет все ветки  \n",
    "\n",
    "### Ограничение вывода  \n",
    "\n",
    "--author\n",
    "\n",
    "--grep\n",
    "\n",
    "Чтобы фильтровать коммиты по автору и ключевым словам одновременно: --all-match"
   ]
  },
  {
   "cell_type": "markdown",
   "id": "38b5513b",
   "metadata": {},
   "source": [
    "## Удаление и перемещение файлов\n",
    "\n",
    "### Удаление файлов\n",
    "\n",
    "git rm Filename — удаляет файл с диска, и убирает его из отслеживаемых файлов.\n",
    "\n",
    "Если файл был изменен и проиндексирован, то нужно добавить параметр -f:  \n",
    "git rm -f Filename\n",
    "\n",
    "### Перемещение файлов\n",
    "\n",
    "$ git mv README.md README\n",
    "\n",
    "то же, что и\n",
    "\n",
    "$ git rm README.md\n",
    "\n",
    "$ git add README</p>\n",
    "\n",
    "В результате  \n",
    "$ git status  \n",
    "On branch master  \n",
    "Changes to be committed:  \n",
    "    (use \"git reset HEAD <file>...\" to unstage)  \n",
    "        renamed: README.md -> README"
   ]
  },
  {
   "cell_type": "code",
   "execution_count": null,
   "id": "6cbf6ade",
   "metadata": {},
   "outputs": [],
   "source": []
  }
 ],
 "metadata": {
  "kernelspec": {
   "display_name": "Python 3 (ipykernel)",
   "language": "python",
   "name": "python3"
  },
  "language_info": {
   "codemirror_mode": {
    "name": "ipython",
    "version": 3
   },
   "file_extension": ".py",
   "mimetype": "text/x-python",
   "name": "python",
   "nbconvert_exporter": "python",
   "pygments_lexer": "ipython3",
   "version": "3.8.13"
  }
 },
 "nbformat": 4,
 "nbformat_minor": 5
}
