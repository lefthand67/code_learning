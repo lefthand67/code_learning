{
 "cells": [
  {
   "cell_type": "markdown",
   "id": "3a384530",
   "metadata": {},
   "source": [
    "# ОСНОВЫ PYTHON - теория"
   ]
  },
  {
   "cell_type": "markdown",
   "id": "a2c1783f",
   "metadata": {},
   "source": [
    "## 7. Числа \n",
    "\n",
    "### Целые числа INT\n",
    "\n",
    "a + b\n",
    "Сложение\n",
    "\n",
    "a - b\n",
    "Вычитание\n",
    "\n",
    "a * b\n",
    "Умножение\n",
    "\n",
    "a / b\n",
    "Деление\n",
    "\n",
    "a // b\n",
    "Получение целой части от деления\n",
    "\n",
    "a % b\n",
    "Остаток от деления\n",
    "\n",
    "-a\n",
    "Смена знака числа\n",
    "\n",
    "abs(a)\n",
    "Модуль числа\n",
    "\n",
    "divmod(a,b)\n",
    "Получение пары чисел (a // b, a % b)\n",
    "\n",
    "a ** b\n",
    "Возведение в степень\n",
    "\n",
    "pow(a, b[, c])\n",
    "a в степени b. Если указано число c, тогда вычисляется остаток от деления на число c\n",
    "\n",
    "Над целыми числами также можно производить битовые операции (&, | , ^, <<, >>, ~).\n",
    "\n",
    "Также целые числа можно переводить в другие системы счисления используя методы:\n",
    "- bin(a) - перевод числа в двоичную систему счисления\n",
    "- hex(a) - перевод числа в 16-тиричную систему счисления\n",
    "- oct(a) - перевод числа в 8-миричную системы счисления\n",
    "\n",
    "После того как мы перевели число в другую систему счисления, перед самим числом обычно записывается символьное обозначение системы, в которой записано число. Так: \n",
    "- двоичная система обозначается символами \"0b\", \n",
    "- 16-тиричная - \"0x\", \n",
    "- 8-ричная - \"0o\"."
   ]
  },
  {
   "cell_type": "code",
   "execution_count": 7,
   "id": "02d5e6c2",
   "metadata": {},
   "outputs": [
    {
     "data": {
      "text/plain": [
       "'0o17'"
      ]
     },
     "execution_count": 7,
     "metadata": {},
     "output_type": "execute_result"
    }
   ],
   "source": [
    ">>> bin(3)\n",
    "'0b11'\n",
    ">>> hex(123)\n",
    "'0x7b'\n",
    ">>> oct(15)\n",
    "'0o17'"
   ]
  },
  {
   "cell_type": "markdown",
   "id": "4fb1d33b",
   "metadata": {},
   "source": [
    "### Числа с плавающей точкой (float)\n",
    "Вещественные числа поддерживают те же операции, что и целые, однако из-за компьютерного представления, могут возникать неточности.\n",
    "\n",
    "Для округления вещественного числа можно применить метод round().\n",
    "\n",
    "Если к вещественному числу применить метод int(), т.е. привести его к целочисленному типу, тогда дробная часть просто отсекается."
   ]
  },
  {
   "cell_type": "code",
   "execution_count": null,
   "id": "c3cd7bb9",
   "metadata": {},
   "outputs": [],
   "source": [
    ">>> round(16.76)\n",
    "17\n",
    ">>> int(123.823)\n",
    "123"
   ]
  },
  {
   "cell_type": "markdown",
   "id": "c14d6634",
   "metadata": {},
   "source": [
    "### Комплексные числа (complex)\n",
    "Комплексные числа - это числа вида a + bi, где a и b - действительные числа, а i - мнимая единица (квадратный корень из -1). Часть а является действительной частью, а часть b - мнимой. В математике мнимая единица записывается в виде буквы i, но **в Python она обозначается буквой j, исходя из инженерной традиции**.\n",
    "\n",
    "Данный тип хранит пару значений float. Комплексные числа имеют особое математическое значение, поэтому мы не будем более подробно останавливаться на этом типе."
   ]
  },
  {
   "cell_type": "code",
   "execution_count": null,
   "id": "b8846465",
   "metadata": {},
   "outputs": [],
   "source": [
    ">>> z = -14.3 + 7.083j\n",
    ">>> z.real \n",
    "-14.3 \n",
    ">>> z.imag\n",
    "7.083"
   ]
  },
  {
   "cell_type": "markdown",
   "id": "f8393b59",
   "metadata": {},
   "source": [
    "## 8. Строки\n",
    "\n",
    "### Операции со строками\n",
    "Строки можно складывать:"
   ]
  },
  {
   "cell_type": "code",
   "execution_count": 11,
   "id": "f6cefdc6",
   "metadata": {},
   "outputs": [
    {
     "name": "stdout",
     "output_type": "stream",
     "text": [
      "Python is awesome!\n"
     ]
    }
   ],
   "source": [
    "s_1 = 'Python'\n",
    "s_2 = ' '\n",
    "s_3 = 'is awesome!'\n",
    "print(s_1 + s_2 + s_3)"
   ]
  },
  {
   "cell_type": "markdown",
   "id": "7e798236",
   "metadata": {},
   "source": [
    "Или дублировать:"
   ]
  },
  {
   "cell_type": "code",
   "execution_count": 12,
   "id": "22213450",
   "metadata": {},
   "outputs": [
    {
     "name": "stdout",
     "output_type": "stream",
     "text": [
      "Spam! Spam! Spam! \n"
     ]
    }
   ],
   "source": [
    "print('Spam! ' * 3)"
   ]
  },
  {
   "cell_type": "markdown",
   "id": "6d44e29c",
   "metadata": {},
   "source": [
    "С помощью метода **len()** можно узнать количество символов в строке:"
   ]
  },
  {
   "cell_type": "code",
   "execution_count": 14,
   "id": "1ea0b88c",
   "metadata": {},
   "outputs": [
    {
     "data": {
      "text/plain": [
       "6"
      ]
     },
     "execution_count": 14,
     "metadata": {},
     "output_type": "execute_result"
    }
   ],
   "source": [
    "len('Python')"
   ]
  },
  {
   "cell_type": "markdown",
   "id": "d76e1e85",
   "metadata": {},
   "source": [
    "Можно обращаться к элементам по их индексу **(индексация ведется от нуля)**:"
   ]
  },
  {
   "cell_type": "code",
   "execution_count": 43,
   "id": "6ab172e1",
   "metadata": {},
   "outputs": [
    {
     "name": "stdout",
     "output_type": "stream",
     "text": [
      "P\n"
     ]
    }
   ],
   "source": [
    "s = 'Python'\n",
    "print(s[0])"
   ]
  },
  {
   "cell_type": "code",
   "execution_count": 42,
   "id": "51df3954",
   "metadata": {},
   "outputs": [
    {
     "name": "stdout",
     "output_type": "stream",
     "text": [
      "n\n"
     ]
    }
   ],
   "source": [
    "s = 'Python'\n",
    "print(s[5])"
   ]
  },
  {
   "cell_type": "markdown",
   "id": "a740e139",
   "metadata": {},
   "source": [
    "По индексу можно извлекать несколько символов, тогда это будет называться **срез**:"
   ]
  },
  {
   "cell_type": "code",
   "execution_count": 40,
   "id": "e3b552f4",
   "metadata": {},
   "outputs": [
    {
     "name": "stdout",
     "output_type": "stream",
     "text": [
      "y\n"
     ]
    }
   ],
   "source": [
    "s = 'Python'\n",
    "print(s[1:2])"
   ]
  },
  {
   "cell_type": "code",
   "execution_count": 38,
   "id": "1a2f0df9",
   "metadata": {},
   "outputs": [
    {
     "name": "stdout",
     "output_type": "stream",
     "text": [
      "Python\n"
     ]
    }
   ],
   "source": [
    "s = 'Python'\n",
    "print(s[0:])"
   ]
  },
  {
   "cell_type": "code",
   "execution_count": 39,
   "id": "413a3398",
   "metadata": {},
   "outputs": [
    {
     "name": "stdout",
     "output_type": "stream",
     "text": [
      "Pyt\n"
     ]
    }
   ],
   "source": [
    "s = 'Python'\n",
    "print(s[:3])"
   ]
  },
  {
   "cell_type": "code",
   "execution_count": 41,
   "id": "7eefaa72",
   "metadata": {},
   "outputs": [
    {
     "name": "stdout",
     "output_type": "stream",
     "text": [
      "Python\n"
     ]
    }
   ],
   "source": [
    "s = 'Python'\n",
    "print(s[:])"
   ]
  },
  {
   "cell_type": "markdown",
   "id": "e553e524",
   "metadata": {},
   "source": [
    "### Методы работы со строками \n",
    "Рассмотрим часть наиболее популярных методов:\n",
    "\n",
    "- **find(str, [start],[end])** - Поиск подстроки в строке. Возвращает номер первого вхождения или -1"
   ]
  },
  {
   "cell_type": "code",
   "execution_count": 15,
   "id": "1c41276f",
   "metadata": {},
   "outputs": [
    {
     "data": {
      "text/plain": [
       "2"
      ]
     },
     "execution_count": 15,
     "metadata": {},
     "output_type": "execute_result"
    }
   ],
   "source": [
    "s = 'PythonohtyP'\n",
    "s.find('t')"
   ]
  },
  {
   "cell_type": "markdown",
   "id": "9360cb41",
   "metadata": {},
   "source": [
    "- **rfind(str, [start],[end])** - Поиск подстроки в строке. Возвращает номер последнего вхождения или -1"
   ]
  },
  {
   "cell_type": "code",
   "execution_count": 17,
   "id": "5cbcc9b2",
   "metadata": {},
   "outputs": [
    {
     "data": {
      "text/plain": [
       "8"
      ]
     },
     "execution_count": 17,
     "metadata": {},
     "output_type": "execute_result"
    }
   ],
   "source": [
    "s = 'PythonohtyP'\n",
    "s.rfind('t')"
   ]
  },
  {
   "cell_type": "markdown",
   "id": "074a0086",
   "metadata": {},
   "source": [
    "- **index(str, [start],[end])** - Поиск подстроки в строке. Возвращает номер первого вхождения или вызывает ValueError"
   ]
  },
  {
   "cell_type": "code",
   "execution_count": 18,
   "id": "312d6ae3",
   "metadata": {},
   "outputs": [
    {
     "data": {
      "text/plain": [
       "2"
      ]
     },
     "execution_count": 18,
     "metadata": {},
     "output_type": "execute_result"
    }
   ],
   "source": [
    "s = 'Python'\n",
    "s.index('t')"
   ]
  },
  {
   "cell_type": "markdown",
   "id": "61992f5b",
   "metadata": {},
   "source": [
    "- **rindex(str, [start],[end])** - Поиск подстроки в строке. Возвращает номер последнего вхождения или вызывает ValueError"
   ]
  },
  {
   "cell_type": "code",
   "execution_count": 19,
   "id": "ac2fdeeb",
   "metadata": {},
   "outputs": [
    {
     "data": {
      "text/plain": [
       "8"
      ]
     },
     "execution_count": 19,
     "metadata": {},
     "output_type": "execute_result"
    }
   ],
   "source": [
    "s = 'PythonohtyP'\n",
    "s.rindex('t')"
   ]
  },
  {
   "cell_type": "markdown",
   "id": "ba4547a8",
   "metadata": {},
   "source": [
    "- **isdigit()** - Состоит ли строка из цифр"
   ]
  },
  {
   "cell_type": "code",
   "execution_count": 24,
   "id": "1bb34a10",
   "metadata": {},
   "outputs": [
    {
     "data": {
      "text/plain": [
       "False"
      ]
     },
     "execution_count": 24,
     "metadata": {},
     "output_type": "execute_result"
    }
   ],
   "source": [
    "s = 'Python'\n",
    "s.isdigit()"
   ]
  },
  {
   "cell_type": "markdown",
   "id": "7ea84fc1",
   "metadata": {},
   "source": [
    "- **isalpha()** - Состоит ли строка из букв"
   ]
  },
  {
   "cell_type": "code",
   "execution_count": 26,
   "id": "f30f9d99",
   "metadata": {},
   "outputs": [
    {
     "data": {
      "text/plain": [
       "True"
      ]
     },
     "execution_count": 26,
     "metadata": {},
     "output_type": "execute_result"
    }
   ],
   "source": [
    "s = 'Python'\n",
    "s.isalpha()"
   ]
  },
  {
   "cell_type": "markdown",
   "id": "1ddfe208",
   "metadata": {},
   "source": [
    "- **isalnum()** - Состоит ли строка из цифр или букв"
   ]
  },
  {
   "cell_type": "code",
   "execution_count": 27,
   "id": "0a57fbf8",
   "metadata": {},
   "outputs": [
    {
     "data": {
      "text/plain": [
       "True"
      ]
     },
     "execution_count": 27,
     "metadata": {},
     "output_type": "execute_result"
    }
   ],
   "source": [
    "s = 'Python'\n",
    "s.isalnum()"
   ]
  },
  {
   "cell_type": "markdown",
   "id": "ad7fda59",
   "metadata": {},
   "source": [
    "- **islower()** - Состоит ли строка из символов в нижнем регистре"
   ]
  },
  {
   "cell_type": "code",
   "execution_count": 1,
   "id": "24caabcf",
   "metadata": {},
   "outputs": [
    {
     "data": {
      "text/plain": [
       "False"
      ]
     },
     "execution_count": 1,
     "metadata": {},
     "output_type": "execute_result"
    }
   ],
   "source": [
    "s = 'Python'\n",
    "s.islower()"
   ]
  },
  {
   "cell_type": "markdown",
   "id": "287884cd",
   "metadata": {},
   "source": [
    "- **isupper()** - Состоит ли строка из символов в верхнем регистре"
   ]
  },
  {
   "cell_type": "code",
   "execution_count": 29,
   "id": "b51ce301",
   "metadata": {},
   "outputs": [
    {
     "data": {
      "text/plain": [
       "False"
      ]
     },
     "execution_count": 29,
     "metadata": {},
     "output_type": "execute_result"
    }
   ],
   "source": [
    "s = 'Python'\n",
    "s.isupper()"
   ]
  },
  {
   "cell_type": "markdown",
   "id": "f1f52c92",
   "metadata": {},
   "source": [
    "- **istitle()** - Начинаются ли слова в строке с заглавной буквы"
   ]
  },
  {
   "cell_type": "code",
   "execution_count": 30,
   "id": "adf1d6e5",
   "metadata": {},
   "outputs": [
    {
     "data": {
      "text/plain": [
       "True"
      ]
     },
     "execution_count": 30,
     "metadata": {},
     "output_type": "execute_result"
    }
   ],
   "source": [
    "s = 'Python'\n",
    "s.istitle()"
   ]
  },
  {
   "cell_type": "markdown",
   "id": "15ed312f",
   "metadata": {},
   "source": [
    "- **upper()** - Преобразование строки к верхнему регистру"
   ]
  },
  {
   "cell_type": "code",
   "execution_count": 31,
   "id": "5fe816d8",
   "metadata": {},
   "outputs": [
    {
     "data": {
      "text/plain": [
       "'PYTHON'"
      ]
     },
     "execution_count": 31,
     "metadata": {},
     "output_type": "execute_result"
    }
   ],
   "source": [
    "s = 'Python'\n",
    "s.upper()"
   ]
  },
  {
   "cell_type": "markdown",
   "id": "88dd07d6",
   "metadata": {},
   "source": [
    "- **lower()** - Преобразование строки к нижнему регистру"
   ]
  },
  {
   "cell_type": "code",
   "execution_count": 32,
   "id": "a99e6283",
   "metadata": {},
   "outputs": [
    {
     "data": {
      "text/plain": [
       "'python'"
      ]
     },
     "execution_count": 32,
     "metadata": {},
     "output_type": "execute_result"
    }
   ],
   "source": [
    "s = 'Python'\n",
    "s.lower()"
   ]
  },
  {
   "cell_type": "markdown",
   "id": "e6885b22",
   "metadata": {},
   "source": [
    "- **startswith(str)** - Начинается ли строка S с шаблона str"
   ]
  },
  {
   "cell_type": "code",
   "execution_count": 33,
   "id": "9caec55f",
   "metadata": {},
   "outputs": [
    {
     "data": {
      "text/plain": [
       "True"
      ]
     },
     "execution_count": 33,
     "metadata": {},
     "output_type": "execute_result"
    }
   ],
   "source": [
    "s = 'Python'\n",
    "s.startswith('P')"
   ]
  },
  {
   "cell_type": "markdown",
   "id": "7c865121",
   "metadata": {},
   "source": [
    "- **endswith(str)** - Заканчивается ли строка S шаблоном str"
   ]
  },
  {
   "cell_type": "code",
   "execution_count": 34,
   "id": "b38b26eb",
   "metadata": {},
   "outputs": [
    {
     "data": {
      "text/plain": [
       "False"
      ]
     },
     "execution_count": 34,
     "metadata": {},
     "output_type": "execute_result"
    }
   ],
   "source": [
    "s = 'Python'\n",
    "s.endswith('a')"
   ]
  },
  {
   "cell_type": "markdown",
   "id": "c2a42d1b",
   "metadata": {},
   "source": [
    "- **join(list)** - Сборка строки из списка с разделителем S"
   ]
  },
  {
   "cell_type": "code",
   "execution_count": 36,
   "id": "1b23858d",
   "metadata": {},
   "outputs": [
    {
     "data": {
      "text/plain": [
       "'a Python b Python c'"
      ]
     },
     "execution_count": 36,
     "metadata": {},
     "output_type": "execute_result"
    }
   ],
   "source": [
    "s = ' Python '\n",
    "s.join(['a','b','c'])"
   ]
  },
  {
   "cell_type": "markdown",
   "id": "89d9909a",
   "metadata": {},
   "source": [
    "- **replace(шаблон, замена)** - Замена шаблона"
   ]
  },
  {
   "cell_type": "code",
   "execution_count": 22,
   "id": "7553129e",
   "metadata": {
    "scrolled": true
   },
   "outputs": [
    {
     "data": {
      "text/plain": [
       "'AAAython'"
      ]
     },
     "execution_count": 22,
     "metadata": {},
     "output_type": "execute_result"
    }
   ],
   "source": [
    "s = 'Python'\n",
    "s.replace('P', 'AAA')"
   ]
  },
  {
   "cell_type": "markdown",
   "id": "41089123",
   "metadata": {},
   "source": [
    "- **split(символ)** - Разбиение строки по разделителю"
   ]
  },
  {
   "cell_type": "code",
   "execution_count": 23,
   "id": "2ae0baf9",
   "metadata": {},
   "outputs": [
    {
     "data": {
      "text/plain": [
       "['Py', 'hon']"
      ]
     },
     "execution_count": 23,
     "metadata": {},
     "output_type": "execute_result"
    }
   ],
   "source": [
    "s = 'Python'\n",
    "s.split('t')"
   ]
  },
  {
   "cell_type": "markdown",
   "id": "b125414d",
   "metadata": {},
   "source": [
    "## 9. Списки\n",
    "\n",
    "### Описание\n",
    "Списками в Python называются массивы. Они могут содержать данные различных типов. Для создания списка автоматически можно использовать метод list():"
   ]
  },
  {
   "cell_type": "code",
   "execution_count": 1,
   "id": "f6974611",
   "metadata": {},
   "outputs": [
    {
     "data": {
      "text/plain": [
       "['P', 'y', 't', 'h', 'o', 'n']"
      ]
     },
     "execution_count": 1,
     "metadata": {},
     "output_type": "execute_result"
    }
   ],
   "source": [
    "list('Python')\n",
    "['P','y','t','h','o','n']"
   ]
  },
  {
   "cell_type": "markdown",
   "id": "82de2c3c",
   "metadata": {},
   "source": [
    "Также можно это сделать напрямую, присвоив переменной значение типа list:"
   ]
  },
  {
   "cell_type": "code",
   "execution_count": 3,
   "id": "d317577d",
   "metadata": {},
   "outputs": [
    {
     "name": "stdout",
     "output_type": "stream",
     "text": [
      "[]\n",
      "['s', 'p', ['isok'], 2]\n"
     ]
    }
   ],
   "source": [
    "# Пустой список\n",
    "s = []\n",
    "# список с данными разных типов\n",
    "l = ['s', 'p', ['isok'], 2]\n",
    "\n",
    "print(s)\n",
    "print(l)"
   ]
  },
  {
   "cell_type": "markdown",
   "id": "75a228d1",
   "metadata": {},
   "source": [
    "Также можно использовать генераторы списков:"
   ]
  },
  {
   "cell_type": "code",
   "execution_count": 7,
   "id": "18270586",
   "metadata": {},
   "outputs": [
    {
     "name": "stdout",
     "output_type": "stream",
     "text": [
      "['PPP', 'yyy', 'ttt', 'hhh', 'ooo', 'nnn']\n"
     ]
    }
   ],
   "source": [
    "a = ['P', 'y', 't', 'h', 'o', 'n']\n",
    "b = [i * 3 for i in a]\n",
    "print(b)"
   ]
  },
  {
   "cell_type": "markdown",
   "id": "cb64f3b7",
   "metadata": {},
   "source": [
    "Количество элементов в списке можно узнать с помощью функции len():"
   ]
  },
  {
   "cell_type": "code",
   "execution_count": 5,
   "id": "71156482",
   "metadata": {},
   "outputs": [
    {
     "data": {
      "text/plain": [
       "6"
      ]
     },
     "execution_count": 5,
     "metadata": {},
     "output_type": "execute_result"
    }
   ],
   "source": [
    "a = ['P', 'y', 't', 'h', 'o', 'n']\n",
    "len(a)"
   ]
  },
  {
   "cell_type": "markdown",
   "id": "a534b781",
   "metadata": {},
   "source": [
    "В списках, так же как и в строках, можно обратиться к элементу через индекс s[2] или s[3], для сравнение или вывода на печать:"
   ]
  },
  {
   "cell_type": "code",
   "execution_count": 28,
   "id": "2b15796b",
   "metadata": {},
   "outputs": [
    {
     "name": "stdout",
     "output_type": "stream",
     "text": [
      "t h\n"
     ]
    }
   ],
   "source": [
    "s = ['P', 'y', 't', 'h', 'o', 'n'] \n",
    "print(s[2], s[3])"
   ]
  },
  {
   "cell_type": "markdown",
   "id": "c8078ee8",
   "metadata": {},
   "source": [
    "Генераторы списков позволяют создавать и заполнять списки. Генератор списков предполагает наличие итерируемого объекта или итератора, на основании которого будет создаваться новый список, а также выражения, которое будет производить манипуляции с извлеченными из последовательности элементами перед тем как добавить их в формируемый список. \n",
    "\n",
    "### Методы для работы со списками\n",
    "Методы списков вызываются по схеме: **list.method()**. Ниже будут перечислены полезные методы для работы со списками:\n",
    "\n",
    "- **append(a)** - добавляет элемент a в конец списка"
   ]
  },
  {
   "cell_type": "code",
   "execution_count": 10,
   "id": "0b4b640d",
   "metadata": {},
   "outputs": [
    {
     "name": "stdout",
     "output_type": "stream",
     "text": [
      "['l', 'i', 's', 't', 'a']\n"
     ]
    }
   ],
   "source": [
    "var = ['l', 'i', 's', 't']\n",
    "var.append('a')\n",
    "print(var)"
   ]
  },
  {
   "cell_type": "markdown",
   "id": "d09c594b",
   "metadata": {},
   "source": [
    "- **extend(L)** - расширяет список, добавляя к концу все элементы списка L"
   ]
  },
  {
   "cell_type": "code",
   "execution_count": 11,
   "id": "7b705f59",
   "metadata": {},
   "outputs": [
    {
     "name": "stdout",
     "output_type": "stream",
     "text": [
      "['l', 'i', 's', 't', 'l', 'i', 's', 't']\n"
     ]
    }
   ],
   "source": [
    "var = ['l', 'i', 's', 't']\n",
    "var.extend(['l', 'i', 's', 't'])\n",
    "print(var)"
   ]
  },
  {
   "cell_type": "markdown",
   "id": "8db3edbd",
   "metadata": {},
   "source": [
    "- **insert(i, a)** - вставляет на i позицию элемент a"
   ]
  },
  {
   "cell_type": "code",
   "execution_count": 12,
   "id": "b5a7b2ea",
   "metadata": {},
   "outputs": [
    {
     "name": "stdout",
     "output_type": "stream",
     "text": [
      "['l', 'i', 'a', 's', 't']\n"
     ]
    }
   ],
   "source": [
    "var = ['l', 'i', 's', 't']\n",
    "var.insert(2,'a')\n",
    "print(var)"
   ]
  },
  {
   "cell_type": "markdown",
   "id": "2fad6e18",
   "metadata": {},
   "source": [
    "- **remove(a)** - удаляет первое найденное значение элемента в списке со значением a, возвращает ошибку, если такого элемента не существует"
   ]
  },
  {
   "cell_type": "code",
   "execution_count": 13,
   "id": "ccb560c5",
   "metadata": {},
   "outputs": [
    {
     "name": "stdout",
     "output_type": "stream",
     "text": [
      "['l', 'i', 's', 't']\n"
     ]
    }
   ],
   "source": [
    "var = ['l', 'i', 's', 't', 't']\n",
    "var.remove('t')\n",
    "print(var)"
   ]
  },
  {
   "cell_type": "markdown",
   "id": "c459cb14",
   "metadata": {},
   "source": [
    "- **pop(i)** - удаляет i-ый элемент и возвращает его; если индекс не указан, удаляет последний элемент"
   ]
  },
  {
   "cell_type": "code",
   "execution_count": 15,
   "id": "4efae39c",
   "metadata": {},
   "outputs": [
    {
     "name": "stdout",
     "output_type": "stream",
     "text": [
      "['i', 's', 't']\n"
     ]
    }
   ],
   "source": [
    "var = ['l', 'i', 's', 't']\n",
    "var.pop(0)\n",
    "print(var)"
   ]
  },
  {
   "cell_type": "markdown",
   "id": "9addf05d",
   "metadata": {},
   "source": [
    "- **index(a)** - возвращает индекс элемента a (индексация начинается с 0)"
   ]
  },
  {
   "cell_type": "code",
   "execution_count": 17,
   "id": "7dcbc119",
   "metadata": {},
   "outputs": [
    {
     "data": {
      "text/plain": [
       "3"
      ]
     },
     "execution_count": 17,
     "metadata": {},
     "output_type": "execute_result"
    }
   ],
   "source": [
    "var = ['l', 'i', 's', 't']\n",
    "var.index('t')"
   ]
  },
  {
   "cell_type": "markdown",
   "id": "9c677ae8",
   "metadata": {},
   "source": [
    "- **count(a)** - возвращает количество элементов со значением a"
   ]
  },
  {
   "cell_type": "code",
   "execution_count": 18,
   "id": "2d5e93bd",
   "metadata": {},
   "outputs": [
    {
     "data": {
      "text/plain": [
       "1"
      ]
     },
     "execution_count": 18,
     "metadata": {},
     "output_type": "execute_result"
    }
   ],
   "source": [
    "var = ['l', 'i', 's', 't']\n",
    "var.count('t')"
   ]
  },
  {
   "cell_type": "markdown",
   "id": "e003e882",
   "metadata": {},
   "source": [
    "- **sort([key = функция])** - сортирует список на основе функции, можно не прописывать функцию, тогда сортировка будет происходить по встроенному алгоритму"
   ]
  },
  {
   "cell_type": "code",
   "execution_count": 19,
   "id": "1f637e78",
   "metadata": {},
   "outputs": [
    {
     "name": "stdout",
     "output_type": "stream",
     "text": [
      "['i', 'l', 's', 't']\n"
     ]
    }
   ],
   "source": [
    "var = ['l', 'i', 's', 't']\n",
    "var.sort()\n",
    "print(var)"
   ]
  },
  {
   "cell_type": "markdown",
   "id": "f56d2f50",
   "metadata": {},
   "source": [
    "- **reverse()** - разворачивает список"
   ]
  },
  {
   "cell_type": "code",
   "execution_count": 20,
   "id": "ea0dc308",
   "metadata": {},
   "outputs": [
    {
     "name": "stdout",
     "output_type": "stream",
     "text": [
      "['t', 's', 'i', 'l']\n"
     ]
    }
   ],
   "source": [
    "var = ['l', 'i', 's', 't']\n",
    "var.reverse()\n",
    "print(var)"
   ]
  },
  {
   "cell_type": "markdown",
   "id": "1ca0f930",
   "metadata": {},
   "source": [
    "- **copy()** - поверхностная копия списка; при присвоении переменной копии списка значение данного списка не изменяется в случае изменения первого. Если переменной присвоить список через \"=\", тогда значение этой переменной будет меняться при изменении оригинала"
   ]
  },
  {
   "cell_type": "code",
   "execution_count": 22,
   "id": "48bb25fb",
   "metadata": {},
   "outputs": [
    {
     "name": "stdout",
     "output_type": "stream",
     "text": [
      "['l', 'i', 's', 't']\n"
     ]
    }
   ],
   "source": [
    "var = ['l', 'i', 's', 't']\n",
    "asd = var.copy()\n",
    "print(asd)"
   ]
  },
  {
   "cell_type": "code",
   "execution_count": 26,
   "id": "c1704b3e",
   "metadata": {},
   "outputs": [
    {
     "name": "stdout",
     "output_type": "stream",
     "text": [
      "['l', 'i', 's', 't']\n",
      "['l', 'i', 's', 't']\n",
      "['t', 's', 'i', 'l']\n",
      "['t', 's', 'i', 'l']\n"
     ]
    }
   ],
   "source": [
    "var = ['l', 'i', 's', 't']\n",
    "asd = var\n",
    "print(asd)\n",
    "print(var)\n",
    "\n",
    "var.reverse()\n",
    "print(asd)\n",
    "print(var)"
   ]
  },
  {
   "cell_type": "code",
   "execution_count": 24,
   "id": "6e779b29",
   "metadata": {},
   "outputs": [
    {
     "name": "stdout",
     "output_type": "stream",
     "text": [
      "['l', 'i', 's', 't']\n",
      "['l', 'i', 's', 't']\n",
      "['l', 'i', 's', 't']\n",
      "['t', 's', 'i', 'l']\n"
     ]
    }
   ],
   "source": [
    "var = ['l', 'i', 's', 't']\n",
    "asd = var.copy()\n",
    "print(asd)\n",
    "print(var)\n",
    "\n",
    "var.reverse()\n",
    "print(asd)\n",
    "print(var)"
   ]
  },
  {
   "cell_type": "markdown",
   "id": "f34542d3",
   "metadata": {},
   "source": [
    "- **clear()** - очищает список"
   ]
  },
  {
   "cell_type": "code",
   "execution_count": 27,
   "id": "dc79be83",
   "metadata": {},
   "outputs": [
    {
     "name": "stdout",
     "output_type": "stream",
     "text": [
      "[]\n"
     ]
    }
   ],
   "source": [
    "var = ['l', 'i', 's', 't']\n",
    "var.clear()\n",
    "print(var)"
   ]
  },
  {
   "cell_type": "code",
   "execution_count": null,
   "id": "df206c5b",
   "metadata": {},
   "outputs": [],
   "source": []
  }
 ],
 "metadata": {
  "kernelspec": {
   "display_name": "Python 3 (ipykernel)",
   "language": "python",
   "name": "python3"
  },
  "language_info": {
   "codemirror_mode": {
    "name": "ipython",
    "version": 3
   },
   "file_extension": ".py",
   "mimetype": "text/x-python",
   "name": "python",
   "nbconvert_exporter": "python",
   "pygments_lexer": "ipython3",
   "version": "3.8.13"
  }
 },
 "nbformat": 4,
 "nbformat_minor": 5
}
