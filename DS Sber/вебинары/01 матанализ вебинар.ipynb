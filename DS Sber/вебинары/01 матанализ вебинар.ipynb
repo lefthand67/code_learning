{
 "cells": [
  {
   "cell_type": "code",
   "execution_count": 6,
   "id": "756e36d9-7897-41a9-b3f8-c21808484615",
   "metadata": {},
   "outputs": [
    {
     "name": "stdout",
     "output_type": "stream",
     "text": [
      "AMD64\n",
      "3.11.0\n",
      "1.23.5\n",
      "1.5.2\n"
     ]
    }
   ],
   "source": [
    "import platform\n",
    "import numpy as np\n",
    "import pandas as pd\n",
    "\n",
    "print(platform.machine())\n",
    "print(platform.python_version())\n",
    "print(np.version.version)\n",
    "print(pd.__version__)"
   ]
  },
  {
   "cell_type": "code",
   "execution_count": 3,
   "id": "be0c35f8-3eb3-42ae-b3bd-50ec1b7f7b27",
   "metadata": {},
   "outputs": [
    {
     "name": "stdout",
     "output_type": "stream",
     "text": [
      "uname_result(system='Windows', node='commi', release='10', version='10.0.19042', machine='AMD64')\n"
     ]
    }
   ],
   "source": [
    "print(platform.uname())"
   ]
  },
  {
   "cell_type": "markdown",
   "id": "47cdf7ee-4b11-4955-8544-019466006201",
   "metadata": {},
   "source": [
    "# Разрядность типов данных"
   ]
  },
  {
   "cell_type": "code",
   "execution_count": 152,
   "id": "7fe77a9f-880f-447e-b5ad-6294fbd7acab",
   "metadata": {
    "colab": {
     "base_uri": "https://localhost:8080/"
    },
    "executionInfo": {
     "elapsed": 6,
     "status": "ok",
     "timestamp": 1669481020091,
     "user": {
      "displayName": "Дмитрий Денисенко",
      "userId": "17721498818503924232"
     },
     "user_tz": -420
    },
    "id": "5_q0Fpmi0cE_",
    "outputId": "ecc14f51-14de-4ae4-dd0b-f84b9b6ab025"
   },
   "outputs": [
    {
     "data": {
      "text/plain": [
       "a    200\n",
       "b    300\n",
       "    ... \n",
       "m     44\n",
       "s     55\n",
       "Length: 9, dtype: int64"
      ]
     },
     "execution_count": 152,
     "metadata": {},
     "output_type": "execute_result"
    }
   ],
   "source": [
    "s2 = pd.Series([200,300,400,500,11,22,33,44,55], index=['a', 'b', 'c', 'd', 'e', 'f', 'k', 'm', 's'])\n",
    "s2"
   ]
  },
  {
   "cell_type": "code",
   "execution_count": 154,
   "id": "a5050075-fac8-4834-be83-ee820ee5da38",
   "metadata": {},
   "outputs": [
    {
     "data": {
      "text/plain": [
       "dtype('int64')"
      ]
     },
     "execution_count": 154,
     "metadata": {},
     "output_type": "execute_result"
    }
   ],
   "source": [
    "s2 = pd.Series(np.array([200,300,400,500,11,22,33,44,55]))\n",
    "s.dtypes"
   ]
  },
  {
   "cell_type": "code",
   "execution_count": 153,
   "id": "4ddb4cb2-ad8a-44f0-828f-793c9e15c2f7",
   "metadata": {},
   "outputs": [
    {
     "data": {
      "text/plain": [
       "dtype('int32')"
      ]
     },
     "execution_count": 153,
     "metadata": {},
     "output_type": "execute_result"
    }
   ],
   "source": [
    "a = np.array([200,300,400,500,11,22,33,44,55])\n",
    "a.dtype"
   ]
  },
  {
   "cell_type": "code",
   "execution_count": 155,
   "id": "6dc7bdd0-44f1-4eef-b4ee-c2fac6550649",
   "metadata": {},
   "outputs": [
    {
     "data": {
      "text/plain": [
       "0    200\n",
       "1    300\n",
       "    ... \n",
       "7     44\n",
       "8     55\n",
       "Length: 9, dtype: int32"
      ]
     },
     "execution_count": 155,
     "metadata": {},
     "output_type": "execute_result"
    }
   ],
   "source": [
    "pd.Series(a)"
   ]
  },
  {
   "cell_type": "code",
   "execution_count": 9,
   "id": "9ee8f564-c6b6-4c85-9861-18810a5daee3",
   "metadata": {
    "colab": {
     "base_uri": "https://localhost:8080/"
    },
    "executionInfo": {
     "elapsed": 15,
     "status": "ok",
     "timestamp": 1669481239318,
     "user": {
      "displayName": "Дмитрий Денисенко",
      "userId": "17721498818503924232"
     },
     "user_tz": -420
    },
    "id": "LwSo1gR_1cFJ",
    "outputId": "73a3fb24-6ed3-4d3c-deef-4ec9a40669b0"
   },
   "outputs": [
    {
     "name": "stdout",
     "output_type": "stream",
     "text": [
      "<class 'pandas.core.series.Series'>\n",
      "RangeIndex: 3 entries, 0 to 2\n",
      "Series name: None\n",
      "Non-Null Count  Dtype\n",
      "--------------  -----\n",
      "3 non-null      int64\n",
      "dtypes: int64(1)\n",
      "memory usage: 152.0 bytes\n"
     ]
    }
   ],
   "source": [
    "s = pd.Series([99, 88, 77])\n",
    "s.info()"
   ]
  },
  {
   "cell_type": "code",
   "execution_count": 10,
   "id": "517a62ce-fffd-4510-bf62-34452f23387d",
   "metadata": {
    "colab": {
     "base_uri": "https://localhost:8080/"
    },
    "executionInfo": {
     "elapsed": 15,
     "status": "ok",
     "timestamp": 1669481239318,
     "user": {
      "displayName": "Дмитрий Денисенко",
      "userId": "17721498818503924232"
     },
     "user_tz": -420
    },
    "id": "LwSo1gR_1cFJ",
    "outputId": "73a3fb24-6ed3-4d3c-deef-4ec9a40669b0"
   },
   "outputs": [
    {
     "name": "stdout",
     "output_type": "stream",
     "text": [
      "<class 'pandas.core.series.Series'>\n",
      "RangeIndex: 3 entries, 0 to 2\n",
      "Series name: None\n",
      "Non-Null Count  Dtype\n",
      "--------------  -----\n",
      "3 non-null      int32\n",
      "dtypes: int32(1)\n",
      "memory usage: 140.0 bytes\n"
     ]
    }
   ],
   "source": [
    "a = np.array([99, 88, 77])\n",
    "s = pd.Series(a)\n",
    "s.info()"
   ]
  },
  {
   "cell_type": "markdown",
   "id": "f626763f-cf92-4798-a95e-66f413252aba",
   "metadata": {
    "tags": []
   },
   "source": [
    "# Матанализ"
   ]
  },
  {
   "cell_type": "code",
   "execution_count": 6,
   "id": "08d2cf8a-874a-4887-87e4-cdc29d383f3b",
   "metadata": {},
   "outputs": [
    {
     "name": "stdout",
     "output_type": "stream",
     "text": [
      "Done\n"
     ]
    }
   ],
   "source": [
    "from matplotlib import pyplot as plt\n",
    "import math\n",
    "print('Done')"
   ]
  },
  {
   "cell_type": "code",
   "execution_count": 7,
   "id": "39642205-773b-48ce-b867-a1347a5d6777",
   "metadata": {
    "collapsed": true,
    "jupyter": {
     "outputs_hidden": true
    },
    "tags": []
   },
   "outputs": [
    {
     "data": {
      "text/plain": [
       "([-0.99,\n",
       "  -0.9501,\n",
       "  -0.9101999999999999,\n",
       "  -0.8702999999999999,\n",
       "  -0.8303999999999998,\n",
       "  -0.7904999999999998,\n",
       "  -0.7505999999999997,\n",
       "  -0.7106999999999997,\n",
       "  -0.6707999999999996,\n",
       "  -0.6308999999999996,\n",
       "  -0.5909999999999995,\n",
       "  -0.5510999999999995,\n",
       "  -0.5111999999999994,\n",
       "  -0.47129999999999944,\n",
       "  -0.43139999999999945,\n",
       "  -0.39149999999999946,\n",
       "  -0.35159999999999947,\n",
       "  -0.3116999999999995,\n",
       "  -0.2717999999999995,\n",
       "  -0.2318999999999995,\n",
       "  -0.1919999999999995,\n",
       "  -0.1520999999999995,\n",
       "  -0.11219999999999951,\n",
       "  -0.0722999999999995,\n",
       "  -0.0323999999999995,\n",
       "  0.007500000000000506,\n",
       "  0.04740000000000051,\n",
       "  0.08730000000000052,\n",
       "  0.12720000000000053,\n",
       "  0.16710000000000053,\n",
       "  0.20700000000000052,\n",
       "  0.2469000000000005,\n",
       "  0.2868000000000005,\n",
       "  0.3267000000000005,\n",
       "  0.3666000000000005,\n",
       "  0.40650000000000047,\n",
       "  0.44640000000000046,\n",
       "  0.48630000000000045,\n",
       "  0.5262000000000004,\n",
       "  0.5661000000000005,\n",
       "  0.6060000000000005,\n",
       "  0.6459000000000006,\n",
       "  0.6858000000000006,\n",
       "  0.7257000000000007,\n",
       "  0.7656000000000007,\n",
       "  0.8055000000000008,\n",
       "  0.8454000000000008,\n",
       "  0.8853000000000009,\n",
       "  0.9252000000000009,\n",
       "  0.965100000000001,\n",
       "  1.005000000000001,\n",
       "  1.044900000000001,\n",
       "  1.084800000000001,\n",
       "  1.1247000000000011,\n",
       "  1.1646000000000012,\n",
       "  1.2045000000000012,\n",
       "  1.2444000000000013,\n",
       "  1.2843000000000013,\n",
       "  1.3242000000000014,\n",
       "  1.3641000000000014,\n",
       "  1.4040000000000015,\n",
       "  1.4439000000000015,\n",
       "  1.4838000000000016,\n",
       "  1.5237000000000016,\n",
       "  1.5636000000000017,\n",
       "  1.6035000000000017,\n",
       "  1.6434000000000017,\n",
       "  1.6833000000000018,\n",
       "  1.7232000000000018,\n",
       "  1.7631000000000019,\n",
       "  1.803000000000002,\n",
       "  1.842900000000002,\n",
       "  1.882800000000002,\n",
       "  1.922700000000002,\n",
       "  1.9626000000000021,\n",
       "  2.002500000000002,\n",
       "  2.042400000000002,\n",
       "  2.082300000000002,\n",
       "  2.1222000000000016,\n",
       "  2.1621000000000015,\n",
       "  2.2020000000000013,\n",
       "  2.241900000000001,\n",
       "  2.281800000000001,\n",
       "  2.3217000000000008,\n",
       "  2.3616000000000006,\n",
       "  2.4015000000000004,\n",
       "  2.4414000000000002,\n",
       "  2.4813,\n",
       "  2.5212,\n",
       "  2.5610999999999997,\n",
       "  2.6009999999999995,\n",
       "  2.6408999999999994,\n",
       "  2.680799999999999,\n",
       "  2.720699999999999,\n",
       "  2.760599999999999,\n",
       "  2.8004999999999987,\n",
       "  2.8403999999999985,\n",
       "  2.8802999999999983,\n",
       "  2.920199999999998,\n",
       "  2.960099999999998,\n",
       "  2.999999999999998],\n",
       " [-4.605170185988091,\n",
       "  -2.997734276224663,\n",
       "  -2.410170303673982,\n",
       "  -2.042531187659738,\n",
       "  -1.774312555624333,\n",
       "  -1.5630315396199435,\n",
       "  -1.3886972457362,\n",
       "  -1.2402910670000464,\n",
       "  -1.111089810179221,\n",
       "  -0.996687668946183,\n",
       "  -0.8940401229393341,\n",
       "  -0.8009551331942495,\n",
       "  -0.7158018711247504,\n",
       "  -0.6373341157407314,\n",
       "  -0.5645780797652367,\n",
       "  -0.4967583665545544,\n",
       "  -0.43324748912061517,\n",
       "  -0.3735304895778177,\n",
       "  -0.3171795432408033,\n",
       "  -0.2638353459775002,\n",
       "  -0.21319322046104106,\n",
       "  -0.1649925746721791,\n",
       "  -0.11900878658220164,\n",
       "  -0.07504687432291067,\n",
       "  -0.032936500246264384,\n",
       "  0.007472014838701498,\n",
       "  0.046310902863250784,\n",
       "  0.08369755902156728,\n",
       "  0.11973668160233399,\n",
       "  0.15452203943617135,\n",
       "  0.1881379421153949,\n",
       "  0.2206604710204039,\n",
       "  0.2521585163827345,\n",
       "  0.2826946559407344,\n",
       "  0.3123259033645412,\n",
       "  0.34110434894777486,\n",
       "  0.3690777106557754,\n",
       "  0.3962898101727125,\n",
       "  0.4227809858733961,\n",
       "  0.4485884524902515,\n",
       "  0.47374661552457026,\n",
       "  0.49828734706788563,\n",
       "  0.5222402285812451,\n",
       "  0.5456327652713966,\n",
       "  0.56849057596039,\n",
       "  0.5908375617353758,\n",
       "  0.6126960561623188,\n",
       "  0.6340869594304008,\n",
       "  0.6550298584468177,\n",
       "  0.6755431346115849,\n",
       "  0.6956440607585329,\n",
       "  0.7153488885436323,\n",
       "  0.7346729273884443,\n",
       "  0.7536306159394565,\n",
       "  0.7722355868789095,\n",
       "  0.7905007258158558,\n",
       "  0.8084382248946805,\n",
       "  0.8260596316796874,\n",
       "  0.8433758938066368,\n",
       "  0.8603973998336156,\n",
       "  0.8771340166729619,\n",
       "  0.8935951239419673,\n",
       "  0.9097896455317956,\n",
       "  0.9257260786606409,\n",
       "  0.9414125206479355,\n",
       "  0.9568566936208174,\n",
       "  0.9720659673415699,\n",
       "  0.9870473803249564,\n",
       "  1.0018076593969187,\n",
       "  1.0163532378306817,\n",
       "  1.0306902721826519,\n",
       "  1.0448246579383862,\n",
       "  1.0587620440681498,\n",
       "  1.072507846582002,\n",
       "  1.0860672611658153,\n",
       "  1.0994452749720023,\n",
       "  1.1126466776319135,\n",
       "  1.12567607155076,\n",
       "  1.1385378815404297,\n",
       "  1.1512363638406506,\n",
       "  1.1637756145745233,\n",
       "  1.1761595776804528,\n",
       "  1.1883920523589133,\n",
       "  1.2004767000692274,\n",
       "  1.212417051108599,\n",
       "  1.2242165108029786,\n",
       "  1.2358783653369203,\n",
       "  1.2474057872474067,\n",
       "  1.258801840604614,\n",
       "  1.270069485900787,\n",
       "  1.281211584666738,\n",
       "  1.292230903833979,\n",
       "  1.3031301198591216,\n",
       "  1.3139118226259274,\n",
       "  1.3245785191392367,\n",
       "  1.3351326370239578,\n",
       "  1.3455765278413312,\n",
       "  1.3559124702338052,\n",
       "  1.3661426729090371,\n",
       "  1.3762692774728016,\n",
       "  1.3862943611198901])"
      ]
     },
     "execution_count": 7,
     "metadata": {},
     "output_type": "execute_result"
    },
    {
     "data": {
      "image/png": "[encoded data removed]",
      "text/plain": [
       "<Figure size 640x480 with 1 Axes>"
      ]
     },
     "metadata": {},
     "output_type": "display_data"
    }
   ],
   "source": [
    "def f(x):\n",
    "    x = x**2\n",
    "    return x\n",
    "\n",
    "def g(x):\n",
    "    import math\n",
    "    return math.log(x+1)\n",
    "\n",
    "def simple_drawer(x_left, x_right, N, func):\n",
    "    from matplotlib import pyplot as plt\n",
    "    xs = list()\n",
    "    fx = list()\n",
    "    x = x_left\n",
    "    for i in range(N+1):\n",
    "        xs.append(x)\n",
    "        fx.append(func(x))\n",
    "        x+=((x_right - x_left) / N)\n",
    "    plt.plot(xs, fx)\n",
    "    return xs, fx\n",
    "\n",
    "simple_drawer(-3, 3, 100, f)\n",
    "simple_drawer(-0.99, 3, 100, g)"
   ]
  },
  {
   "cell_type": "markdown",
   "id": "c3d51b9e-49d0-4326-8ff5-acc185e1544b",
   "metadata": {},
   "source": [
    "Сравним численную функцию и ее прозводную - насколько расчетная будет приближаться к производной в зависимости от уменьшения dx"
   ]
  },
  {
   "cell_type": "code",
   "execution_count": 8,
   "id": "291d66dc-cb3c-4026-9458-fb7279f47219",
   "metadata": {},
   "outputs": [
    {
     "name": "stdout",
     "output_type": "stream",
     "text": [
      "Correct\n"
     ]
    }
   ],
   "source": [
    "# оригинальная функция\n",
    "def f(x):\n",
    "    import math\n",
    "    return x**2 + math.sin(x) - math.log(1+x)\n",
    "\n",
    "# производная функция\n",
    "def g(x):\n",
    "    import math\n",
    "    return 2*x + math.cos(x) - 1/(1+x)\n",
    "print('Correct')"
   ]
  },
  {
   "cell_type": "code",
   "execution_count": 9,
   "id": "4d01cb21-b3e5-4912-8207-f0b1895a94a0",
   "metadata": {},
   "outputs": [
    {
     "name": "stdout",
     "output_type": "stream",
     "text": [
      "Numerical x=0, g(x)= 0.1452323684250323\n",
      "Analytical x=0, g(x)= 0.0\n",
      "Numerical x=100, g(x)= 200.97628349123625\n",
      "Analytical x=100, g(x)= 200.8524178821887\n"
     ]
    }
   ],
   "source": [
    "def g_numerical(x, delta):\n",
    "    \"\"\"\n",
    "    Формула расчета производной в данной точке при фиксированной dx\n",
    "    \"\"\"\n",
    "    return (f(x+delta) - f(x))/delta"
   ]
  },
  {
   "cell_type": "code",
   "execution_count": 15,
   "id": "526d603e-4446-4839-95fc-28bcdb249381",
   "metadata": {},
   "outputs": [
    {
     "name": "stdout",
     "output_type": "stream",
     "text": [
      "Numerical x=0, g(x)= 0.6479208609920772\n",
      "Analytical x=0, g(x)= 0.0\n",
      "Numerical x=100, g(x)= 201.44093478536888\n",
      "Analytical x=100, g(x)= 200.8524178821887\n"
     ]
    }
   ],
   "source": [
    "# Проверим в точке х = 0\n",
    "delta = 0.5\n",
    "x = 0\n",
    "print('Numerical x=0, g(x)=', g_numerical(x, delta))\n",
    "print('Analytical x=0, g(x)=', g(x))\n",
    "\n",
    "# Проверим в точке х = 100\n",
    "x = 100\n",
    "print('Numerical x=100, g(x)=', g_numerical(x, delta))\n",
    "print('Analytical x=100, g(x)=', g(x))"
   ]
  },
  {
   "cell_type": "markdown",
   "id": "b8fe5bc7-7943-4457-8674-2deea96f4ded",
   "metadata": {},
   "source": [
    "При уменьшении `delta` разность отличается.\n",
    "\n",
    "Нарисуем график функции аналитической производной и посчитанной:"
   ]
  },
  {
   "cell_type": "code",
   "execution_count": 16,
   "id": "069cc48a-b65a-4303-96bc-65a5780fa6c7",
   "metadata": {},
   "outputs": [
    {
     "data": {
      "text/plain": [
       "<matplotlib.legend.Legend at 0x2448af7f010>"
      ]
     },
     "execution_count": 16,
     "metadata": {},
     "output_type": "execute_result"
    },
    {
     "data": {
      "image/png": "[encoded data removed]",
      "text/plain": [
       "<Figure size 640x480 with 1 Axes>"
      ]
     },
     "metadata": {},
     "output_type": "display_data"
    }
   ],
   "source": [
    "delta = 1\n",
    "x_left = 0\n",
    "x_right = 10\n",
    "N = int((x_right - x_left)/delta)\n",
    "xs, ys = simple_drawer(x_left, x_right, N, g)\n",
    "# plt.plot(xs, ys)\n",
    "\n",
    "from functools import partial\n",
    "xs, ys = simple_drawer(x_left, x_right, N, partial(g_numerical, delta=delta))\n",
    "# plt.plot(xs, ys)\n",
    "\n",
    "plt.legend(['аналитическое вычисление производной', f'численное вычисление производной с шагом {delta}'])"
   ]
  },
  {
   "cell_type": "code",
   "execution_count": null,
   "id": "22c15434-4e49-4701-a58d-b0386725edb9",
   "metadata": {},
   "outputs": [],
   "source": []
  },
  {
   "cell_type": "markdown",
   "id": "3d77fb1d-bdf7-4556-b04b-0f9dd7d6af2c",
   "metadata": {},
   "source": [
    "# Линейная алгебра"
   ]
  },
  {
   "cell_type": "code",
   "execution_count": 1,
   "id": "429dcc3c-b154-43de-a1d4-72e02c42d98d",
   "metadata": {},
   "outputs": [
    {
     "name": "stdout",
     "output_type": "stream",
     "text": [
      "Done\n"
     ]
    }
   ],
   "source": [
    "import numpy as np\n",
    "print('Done')"
   ]
  },
  {
   "cell_type": "code",
   "execution_count": null,
   "id": "7d738c34-19ef-4295-95d4-06b26092e24e",
   "metadata": {},
   "outputs": [],
   "source": []
  },
  {
   "cell_type": "code",
   "execution_count": 10,
   "id": "904240e3-7b12-4f4a-84be-f6cfe8e28953",
   "metadata": {},
   "outputs": [
    {
     "name": "stdout",
     "output_type": "stream",
     "text": [
      "Сложение\n",
      "[5 7 9]\n",
      "Вычитание\n",
      "[-3 -3 -3]\n",
      "Умножение на число\n",
      "[ 5 10 15]\n",
      "Поэлементное умножение\n",
      "[ 4 10 18]\n"
     ]
    }
   ],
   "source": [
    "a = np.array([1, 2, 3])\n",
    "b = np.array([4, 5, 6])\n",
    "\n",
    "# Операции с векторами\n",
    "\n",
    "print('Сложение')\n",
    "print(a+b)\n",
    "\n",
    "print('Вычитание')\n",
    "print(a-b)\n",
    "\n",
    "print('Умножение на число')\n",
    "print(5*a)\n",
    "\n",
    "print('Поэлементное умножение')\n",
    "print(a*b)"
   ]
  },
  {
   "cell_type": "code",
   "execution_count": 3,
   "id": "831fbdb8-c323-4323-8195-d0d20d8d7fb8",
   "metadata": {},
   "outputs": [
    {
     "name": "stdout",
     "output_type": "stream",
     "text": [
      "int32\n",
      "int64\n"
     ]
    }
   ],
   "source": [
    "a = np.array([1, 2, 3])\n",
    "print(a.dtype)\n",
    "a = np.array([1, 2, 3], dtype='int64')\n",
    "print(a.dtype)"
   ]
  },
  {
   "cell_type": "code",
   "execution_count": 20,
   "id": "3acc2e28-559b-4c6a-83d5-5f8cd82a80e7",
   "metadata": {},
   "outputs": [
    {
     "name": "stdout",
     "output_type": "stream",
     "text": [
      "Correct\n"
     ]
    }
   ],
   "source": [
    "# оригинальная функция\n",
    "def f(x):\n",
    "    import numpy as np\n",
    "    return x**2 + np.sin(x) - np.log(1+x)\n",
    "\n",
    "# производная функция\n",
    "def g(x):\n",
    "    import numpy as np\n",
    "    return 2*x + np.cos(x) - 1/(1+x)\n",
    "print('Correct')"
   ]
  },
  {
   "cell_type": "code",
   "execution_count": 22,
   "id": "d8bd7f70-251d-49cd-b9f8-57d47ed568a8",
   "metadata": {},
   "outputs": [
    {
     "data": {
      "text/plain": [
       "array([1.1483238 , 3.81068514, 7.75482565])"
      ]
     },
     "execution_count": 22,
     "metadata": {},
     "output_type": "execute_result"
    }
   ],
   "source": [
    "a = np.array([1, 2, 3])\n",
    "f(a)"
   ]
  },
  {
   "cell_type": "code",
   "execution_count": 25,
   "id": "48dda88c-4039-4031-b877-da630f437261",
   "metadata": {},
   "outputs": [
    {
     "data": {
      "text/plain": [
       "[<matplotlib.lines.Line2D at 0x27c20812850>]"
      ]
     },
     "execution_count": 25,
     "metadata": {},
     "output_type": "execute_result"
    },
    {
     "data": {
      "image/png": "[encoded data removed]",
      "text/plain": [
       "<Figure size 640x480 with 1 Axes>"
      ]
     },
     "metadata": {},
     "output_type": "display_data"
    }
   ],
   "source": [
    "xs = np.linspace(0, 10, 100)\n",
    "plt.plot(xs, f(xs))"
   ]
  },
  {
   "cell_type": "markdown",
   "id": "5076783f-3186-40bd-a68c-c82d3ba4d0f0",
   "metadata": {},
   "source": [
    "## Скалярное произведение"
   ]
  },
  {
   "cell_type": "code",
   "execution_count": 45,
   "id": "30125ff6-bb39-462d-9c1d-8f2af3b8183e",
   "metadata": {},
   "outputs": [],
   "source": [
    "# def scalar_mul(a, b):\n",
    "#     import math\n",
    "#     a = (a[0]**2 + a[1]**2)**(1/2)\n",
    "#     print(a)\n",
    "#     b = (b[0]**2 + b[1]**2)**(1/2)\n",
    "#     print(b)\n",
    "#     print(math.cos(a))\n",
    "#     return a * b * math.cos(a)\n"
   ]
  },
  {
   "cell_type": "code",
   "execution_count": 4,
   "id": "80e4759c-c4f4-47cb-bb99-2f84e5221e6f",
   "metadata": {},
   "outputs": [],
   "source": [
    "def scalar_mul(a, b):\n",
    "    result = 0\n",
    "    for i in range(len(a)):\n",
    "        result += a[i]*b[i]\n",
    "    return result"
   ]
  },
  {
   "cell_type": "code",
   "execution_count": 7,
   "id": "329ca3c0-a427-4fa4-8faa-96fc2ab33041",
   "metadata": {},
   "outputs": [
    {
     "data": {
      "text/plain": [
       "5"
      ]
     },
     "execution_count": 7,
     "metadata": {},
     "output_type": "execute_result"
    }
   ],
   "source": [
    "# Example\n",
    "x = np.array([1 ,2])\n",
    "y = np.array([2, 0])\n",
    "z = np.array([1, 1])\n",
    "a = x + y\n",
    "scalar_mul(a, z)"
   ]
  },
  {
   "cell_type": "code",
   "execution_count": 49,
   "id": "8d7110e7-238c-4fb2-a753-115cdb6e7bd9",
   "metadata": {},
   "outputs": [
    {
     "data": {
      "text/plain": [
       "-1"
      ]
     },
     "execution_count": 49,
     "metadata": {},
     "output_type": "execute_result"
    }
   ],
   "source": [
    "import numpy as np\n",
    "import math\n",
    "a = [2, -1]\n",
    "b = [1, 3]\n",
    "scalar_mul(a, b)"
   ]
  },
  {
   "cell_type": "code",
   "execution_count": null,
   "id": "5212e3c8-0387-4975-a2f2-61aeeadc4a73",
   "metadata": {},
   "outputs": [],
   "source": [
    "np.random.random()"
   ]
  },
  {
   "cell_type": "code",
   "execution_count": null,
   "id": "795f73db-4700-49f1-bae8-d23a98a68c30",
   "metadata": {},
   "outputs": [],
   "source": []
  },
  {
   "cell_type": "markdown",
   "id": "aac3dec2-c34e-4e4a-bbee-86d5dc87a85d",
   "metadata": {},
   "source": [
    "## Матрицы"
   ]
  },
  {
   "cell_type": "code",
   "execution_count": 25,
   "id": "ce23ef24-2064-422e-9323-0fbf356f47cd",
   "metadata": {},
   "outputs": [
    {
     "data": {
      "text/plain": [
       "array([[ 0,  6,  1,  0],\n",
       "       [ 2,  0,  2,  1],\n",
       "       [ 4, -3, -1,  1]])"
      ]
     },
     "execution_count": 25,
     "metadata": {},
     "output_type": "execute_result"
    }
   ],
   "source": [
    "X = np.array([[1, 3, 1, -1], [2, -1, -1, 1], [2, -2, 1, 0]])\n",
    "Y = np.array([[-1, 3, 0, 1], [0, 1, 3, 0], [2, -1, -2, 1]])\n",
    "# print(X)\n",
    "# print(Y)\n",
    "\n",
    "# Посчитать сумму матриц\n",
    "X+Y"
   ]
  },
  {
   "cell_type": "code",
   "execution_count": 24,
   "id": "6ea2b5bb-e6f8-43f8-ad54-9f53b878973b",
   "metadata": {},
   "outputs": [
    {
     "data": {
      "text/plain": [
       "array([[ 7,  6, -4],\n",
       "       [-4, -4,  8],\n",
       "       [-8,  1,  4]])"
      ]
     },
     "execution_count": 24,
     "metadata": {},
     "output_type": "execute_result"
    }
   ],
   "source": [
    "X = np.array([[1, 3, 1, -1], [2, -1, -1, 1], [2, -2, 1, 0]])\n",
    "Y = np.array([[-1, 3, 0, 1], [0, 1, 3, 0], [2, -1, -2, 1]])\n",
    "\n",
    "# Посчитать произведение матриц, транспонируем матрицу Y\n",
    "Yt = Y.T\n",
    "M = X@Yt\n",
    "M"
   ]
  },
  {
   "cell_type": "code",
   "execution_count": 20,
   "id": "bac7ce09-8383-4803-a250-d5d80c722ffb",
   "metadata": {},
   "outputs": [
    {
     "data": {
      "text/plain": [
       "array([[ 7,  6, -4],\n",
       "       [-4, -4,  8],\n",
       "       [-8,  1,  4]])"
      ]
     },
     "execution_count": 20,
     "metadata": {},
     "output_type": "execute_result"
    }
   ],
   "source": [
    "M = np.matmul(X, Yt)\n",
    "M"
   ]
  },
  {
   "cell_type": "code",
   "execution_count": 26,
   "id": "d54793cb-6e19-4879-89b3-71e0277badb4",
   "metadata": {},
   "outputs": [
    {
     "data": {
      "text/plain": [
       "-311.9999999999998"
      ]
     },
     "execution_count": 26,
     "metadata": {},
     "output_type": "execute_result"
    }
   ],
   "source": [
    "# Посчитать определитель полученной матрицы\n",
    "np.linalg.det(M)"
   ]
  },
  {
   "cell_type": "code",
   "execution_count": 27,
   "id": "59d742ea-b161-4030-9ec5-91d98c080323",
   "metadata": {},
   "outputs": [
    {
     "data": {
      "text/plain": [
       "array([[ 3,  3,  2,  3],\n",
       "       [-7, 10,  1,  1],\n",
       "       [ 1,  1, -5,  2],\n",
       "       [ 1, -2,  3, -1]])"
      ]
     },
     "execution_count": 27,
     "metadata": {},
     "output_type": "execute_result"
    }
   ],
   "source": [
    "# Посчитать произведение матриц, транспонируем матрицу X\n",
    "X = np.array([[1, 3, 1, -1], [2, -1, -1, 1], [2, -2, 1, 0]])\n",
    "Y = np.array([[-1, 3, 0, 1], [0, 1, 3, 0], [2, -1, -2, 1]])\n",
    "Xt = X.T\n",
    "M = Xt@Y\n",
    "M"
   ]
  },
  {
   "cell_type": "code",
   "execution_count": 29,
   "id": "9072210a-2dfa-4939-810b-6e9924a20a5b",
   "metadata": {},
   "outputs": [
    {
     "data": {
      "text/plain": [
       "0.0"
      ]
     },
     "execution_count": 29,
     "metadata": {},
     "output_type": "execute_result"
    }
   ],
   "source": [
    "# Посчитать определитель полученной матрицы\n",
    "np.linalg.det(M)"
   ]
  },
  {
   "cell_type": "code",
   "execution_count": null,
   "id": "9bc8bc91-01b2-48ac-87d3-c28c377aaea7",
   "metadata": {},
   "outputs": [],
   "source": []
  }
 ],
 "metadata": {
  "kernelspec": {
   "display_name": "Python 3 (ipykernel)",
   "language": "python",
   "name": "python3"
  },
  "language_info": {
   "codemirror_mode": {
    "name": "ipython",
    "version": 3
   },
   "file_extension": ".py",
   "mimetype": "text/x-python",
   "name": "python",
   "nbconvert_exporter": "python",
   "pygments_lexer": "ipython3",
   "version": "3.11.0"
  },
  "widgets": {
   "application/vnd.jupyter.widget-state+json": {
    "state": {},
    "version_major": 2,
    "version_minor": 0
   }
  }
 },
 "nbformat": 4,
 "nbformat_minor": 5
}
