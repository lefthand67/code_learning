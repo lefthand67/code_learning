{
 "cells": [
  {
   "cell_type": "markdown",
   "metadata": {},
   "source": [
    "# Неделя 1: Практика"
   ]
  },
  {
   "cell_type": "markdown",
   "metadata": {
    "id": "X0d3jQ3FuZOX"
   },
   "source": [
    "# Математический анализ"
   ]
  },
  {
   "cell_type": "code",
   "execution_count": 14,
   "metadata": {
    "colab": {
     "base_uri": "https://localhost:8080/"
    },
    "executionInfo": {
     "elapsed": 5,
     "status": "ok",
     "timestamp": 1667657277262,
     "user": {
      "displayName": "Дмитрий Денисенко",
      "userId": "17721498818503924232"
     },
     "user_tz": -420
    },
    "id": "0Ta9ZigUt6sv",
    "outputId": "6523cb6b-9264-450d-f3f7-80c7fb9cee3f"
   },
   "outputs": [
    {
     "name": "stdout",
     "output_type": "stream",
     "text": [
      "Наша функция принимает значение 4 в точке x = 2, должна принимать значение 4\n",
      "Наша функция принимает значение 9 в точке x = -3, должна принимать значение 9\n"
     ]
    }
   ],
   "source": [
    "# Определим функцию f(x) = x^2\n",
    "\n",
    "def f(x):\n",
    "    return x**2\n",
    "\n",
    "# Проверим, что она принимает те значения, которые мы ожидаем\n",
    "\n",
    "print(f\"Наша функция принимает значение {f(2)} в точке x = 2, должна принимать значение 4\")\n",
    "print(f\"Наша функция принимает значение {f(-3)} в точке x = -3, должна принимать значение 9\")"
   ]
  },
  {
   "cell_type": "code",
   "execution_count": 12,
   "metadata": {
    "colab": {
     "base_uri": "https://localhost:8080/",
     "height": 1000
    },
    "executionInfo": {
     "elapsed": 23,
     "status": "ok",
     "timestamp": 1667661087575,
     "user": {
      "displayName": "Дмитрий Денисенко",
      "userId": "17721498818503924232"
     },
     "user_tz": -420
    },
    "id": "pPjUwL_oeqyu",
    "outputId": "a5174287-f91d-447e-94fe-ac7f2d6d7479"
   },
   "outputs": [],
   "source": [
    "import math\n",
    "\n",
    "# Определим функцию f(x) = x^2\n",
    "def f(x):\n",
    "    return x**2\n",
    "\n",
    "# Определим функцию f(x) = ln(1 + x)\n",
    "def g(x):\n",
    "    return math.log(1+x)\n"
   ]
  },
  {
   "cell_type": "markdown",
   "metadata": {},
   "source": [
    "## Логарифмы\n",
    "\n",
    "`math.log(x[, base])`  \n",
    "With one argument, return the natural logarithm of x (to base e).\n",
    "\n",
    "With two arguments, return the logarithm of x to the given base, calculated as log(x)/log(base).\n",
    "\n",
    "`math.log1p(x)`  \n",
    "Return the natural logarithm of 1+x (base e). The result is calculated in a way which is accurate for x near zero.\n",
    "\n",
    "`math.log2(x)`  \n",
    "Return the base-2 logarithm of x. This is usually more accurate than log(x, 2).\n",
    "\n",
    "> New in version 3.3.\n",
    "\n",
    "> See also int.bit_length() returns the number of bits necessary to represent an integer in binary, excluding the sign and leading zeros.\n",
    "\n",
    "`math.log10(x)`  \n",
    "Return the base-10 logarithm of x. This is usually more accurate than log(x, 10).\n",
    "\n",
    "[source](https://docs.python.org/3/library/math.html)"
   ]
  },
  {
   "cell_type": "code",
   "execution_count": 15,
   "metadata": {},
   "outputs": [],
   "source": [
    "# Нарисуем их! Воспользуемся для этого библиотекой matplotlib\n",
    "from matplotlib import pyplot as plt\n",
    "\n",
    "xs = [] # 1. Сформировать множество точек на оси x\n",
    "fx = [] # 2. Для каждой точки посчитать значение функции f(x)\n",
    "\n",
    "N = 100\n",
    "x_left = -10\n",
    "x_right = 10\n",
    "x = x_left\n",
    "\n",
    "for i in range(N+1):\n",
    "    xs.append(x)\n",
    "    fx.append(f(x))\n",
    "    x += (x_right-x_left) / N\n",
    "\n",
    "# gx = ... # 3. Для каждой точки посчитать значение функции g(x)\n"
   ]
  },
  {
   "cell_type": "code",
   "execution_count": 72,
   "metadata": {},
   "outputs": [],
   "source": [
    "def simple_drawer(x_left, x_right, N, func):\n",
    "    \"\"\"\n",
    "    Функция берет на вход:\n",
    "    - левую и правую границы\n",
    "    - Количество точек N между левой и правой границами\n",
    "    - Функцию, которая считает значение в точке\n",
    "\n",
    "    --> ничего не возвращает, просто рисует график\n",
    "    \"\"\"\n",
    "    xs = [] # 1. Сформировать множество точек на оси x\n",
    "    fx = [] # 2. Для каждой точки посчитать значение функции func(x)\n",
    "    x = x_left\n",
    "    for i in range(N+1):\n",
    "        xs.append(x)\n",
    "        fx.append(func(x))\n",
    "        x += (x_right-x_left) / N\n",
    "    plt.plot(xs, fx)\n",
    "    return xs, fx\n"
   ]
  },
  {
   "cell_type": "code",
   "execution_count": 32,
   "metadata": {},
   "outputs": [
    {
     "data": {
      "text/plain": [
       "[<matplotlib.lines.Line2D at 0x256fb713710>]"
      ]
     },
     "execution_count": 32,
     "metadata": {},
     "output_type": "execute_result"
    },
    {
     "data": {
      "image/png": "[encoded data removed]",
      "text/plain": [
       "<Figure size 640x480 with 1 Axes>"
      ]
     },
     "metadata": {},
     "output_type": "display_data"
    }
   ],
   "source": [
    "simple_drawer(-3, 3, 100, f)\n",
    "simple_drawer(-0.99, 3, 100, g)"
   ]
  },
  {
   "cell_type": "markdown",
   "metadata": {},
   "source": [
    "## Производная"
   ]
  },
  {
   "cell_type": "code",
   "execution_count": 36,
   "metadata": {
    "executionInfo": {
     "elapsed": 507,
     "status": "ok",
     "timestamp": 1667661132655,
     "user": {
      "displayName": "Дмитрий Денисенко",
      "userId": "17721498818503924232"
     },
     "user_tz": -420
    },
    "id": "U73fIbG7vSQ_"
   },
   "outputs": [],
   "source": [
    "# Определим функцию f(x) = x^2 + sin(x) - ln(1 + x)\n",
    "def f(x):\n",
    "    return x**2 + math.sin(x) - math.log(1+x)\n",
    "\n",
    "# Определим функцию g(x) = f'(x) -- производную функции f(x)\n",
    "# g(x) = 2*x + cos(x) - 1/(1+x)\n",
    "def g(x):\n",
    "    return 2*x + math.cos(x) - 1/(1+x)"
   ]
  },
  {
   "cell_type": "markdown",
   "metadata": {
    "id": "9gnNKzo8v0pD"
   },
   "source": [
    "А что, если мы не знаем, как аналитически выглядит функция?\n",
    "\n",
    "Вспомним определие производной:\n",
    "\n",
    "$$\n",
    "f'(x_0) = \\lim_{x→x_0}\\frac{f(x) - f(x_0)}{x - x_0}\n",
    "$$\n",
    "\n",
    "Давайте воспользуемся этим знанием!"
   ]
  },
  {
   "cell_type": "code",
   "execution_count": 37,
   "metadata": {
    "colab": {
     "base_uri": "https://localhost:8080/"
    },
    "executionInfo": {
     "elapsed": 513,
     "status": "ok",
     "timestamp": 1667661140746,
     "user": {
      "displayName": "Дмитрий Денисенко",
      "userId": "17721498818503924232"
     },
     "user_tz": -420
    },
    "id": "pGPRPLDPxG_Z",
    "outputId": "7ae50404-0cd6-4523-a9f6-a3bf2c102870"
   },
   "outputs": [],
   "source": [
    "# Определим функцию g_numerical, которая считает производную f(x) численно\n",
    "\n",
    "def g_numerical(x, step):\n",
    "    return (f(x+step) - f(x))/step"
   ]
  },
  {
   "cell_type": "markdown",
   "metadata": {},
   "source": [
    "Давайте сравним значение реальной производной и посчитанной численно в разных точках"
   ]
  },
  {
   "cell_type": "code",
   "execution_count": 66,
   "metadata": {
    "tags": []
   },
   "outputs": [
    {
     "name": "stdout",
     "output_type": "stream",
     "text": [
      "Numerical x=0, g(x) = 0.014950248099857184\n",
      "Analytical x=0, g(x) = 0.0\n",
      "Numerical x=100, g(x) = 200.8649358074763\n",
      "Analytical x=100, g(x) = 200.8524178821887\n"
     ]
    }
   ],
   "source": [
    "step = 0.01\n",
    "\n",
    "# В точке x = 0\n",
    "x = 0\n",
    "print('Numerical x=0, g(x) =', g_numerical(x, step))\n",
    "print('Analytical x=0, g(x) =', g(x))\n",
    "\n",
    "# В точке x = 100\n",
    "x = 100\n",
    "print('Numerical x=100, g(x) =', g_numerical(x, step))\n",
    "print('Analytical x=100, g(x) =', g(x))"
   ]
  },
  {
   "cell_type": "markdown",
   "metadata": {},
   "source": [
    "При уменьшении `delta` разность отличается."
   ]
  },
  {
   "cell_type": "markdown",
   "metadata": {
    "jp-MarkdownHeadingCollapsed": true,
    "tags": []
   },
   "source": [
    "### functool partial\n",
    "[source](https://habr.com/ru/company/otus/blog/504102/)"
   ]
  },
  {
   "cell_type": "code",
   "execution_count": 54,
   "metadata": {},
   "outputs": [
    {
     "data": {
      "text/plain": [
       "6"
      ]
     },
     "execution_count": 54,
     "metadata": {},
     "output_type": "execute_result"
    }
   ],
   "source": [
    "from functools import partial\n",
    "\n",
    "def multiply(x, y):\n",
    "       return x * y\n",
    "\n",
    "multiply(2, 3)"
   ]
  },
  {
   "cell_type": "code",
   "execution_count": 56,
   "metadata": {},
   "outputs": [
    {
     "data": {
      "text/plain": [
       "20"
      ]
     },
     "execution_count": 56,
     "metadata": {},
     "output_type": "execute_result"
    }
   ],
   "source": [
    "doubleNum = partial(multiply, 2)\n",
    "\n",
    "doubleNum(10)"
   ]
  },
  {
   "cell_type": "code",
   "execution_count": 57,
   "metadata": {},
   "outputs": [
    {
     "data": {
      "text/plain": [
       "30"
      ]
     },
     "execution_count": 57,
     "metadata": {},
     "output_type": "execute_result"
    }
   ],
   "source": [
    "tripleNum = partial(multiply, 3)\n",
    "\n",
    "tripleNum(10)"
   ]
  },
  {
   "cell_type": "code",
   "execution_count": 58,
   "metadata": {},
   "outputs": [
    {
     "data": {
      "text/plain": [
       "14"
      ]
     },
     "execution_count": 58,
     "metadata": {},
     "output_type": "execute_result"
    }
   ],
   "source": [
    "from functools import partial\n",
    "\n",
    "def orderFunc(a,b,c):\n",
    "      return a*1 + b*2 + c*3\n",
    "\n",
    "orderFunc(1, 2, 3)"
   ]
  },
  {
   "cell_type": "code",
   "execution_count": 61,
   "metadata": {},
   "outputs": [
    {
     "data": {
      "text/plain": [
       "20"
      ]
     },
     "execution_count": 61,
     "metadata": {},
     "output_type": "execute_result"
    }
   ],
   "source": [
    "result = partial(orderFunc, 2, 3)\n",
    "result(4)"
   ]
  },
  {
   "cell_type": "code",
   "execution_count": 62,
   "metadata": {},
   "outputs": [
    {
     "data": {
      "text/plain": [
       "20"
      ]
     },
     "execution_count": 62,
     "metadata": {},
     "output_type": "execute_result"
    }
   ],
   "source": [
    "orderFunc(2, 3, 4)"
   ]
  },
  {
   "cell_type": "markdown",
   "metadata": {},
   "source": [
    "## Производная - продолжение"
   ]
  },
  {
   "cell_type": "code",
   "execution_count": 77,
   "metadata": {
    "colab": {
     "base_uri": "https://localhost:8080/",
     "height": 286
    },
    "executionInfo": {
     "elapsed": 677,
     "status": "ok",
     "timestamp": 1667661196450,
     "user": {
      "displayName": "Дмитрий Денисенко",
      "userId": "17721498818503924232"
     },
     "user_tz": -420
    },
    "id": "fe3800KrfNlP",
    "outputId": "29c70793-e921-43c7-d793-7d392e976a1c"
   },
   "outputs": [
    {
     "data": {
      "text/plain": [
       "<matplotlib.legend.Legend at 0x256fbdca610>"
      ]
     },
     "execution_count": 77,
     "metadata": {},
     "output_type": "execute_result"
    },
    {
     "data": {
      "image/png": "[encoded data removed]",
      "text/plain": [
       "<Figure size 640x480 with 1 Axes>"
      ]
     },
     "metadata": {},
     "output_type": "display_data"
    }
   ],
   "source": [
    "# Нарисуем график функции аналитической производной и посчитанной численно\n",
    "from functools import partial\n",
    "\n",
    "step = 0.5\n",
    "x_left = 0\n",
    "x_right = 10\n",
    "N = int((x_right-x_left)/step)\n",
    "\n",
    "xs, ys = simple_drawer(x_left, x_right, N, g)\n",
    "\n",
    "# partial каждый раз пересчитывает x для g_numerical, сохраняя step фиксированным\n",
    "xs, ys = simple_drawer(x_left, x_right, N, partial(g_numerical, step=step))\n",
    "\n",
    "plt.legend([\"аналитическое вычисление производной\", f'численное вычисление производной с шагом {step}'])"
   ]
  },
  {
   "cell_type": "markdown",
   "metadata": {
    "id": "2g07PJTXynyh"
   },
   "source": [
    "# Линейная алгебра\n",
    "\n",
    "В этом разделе мы познакомимся с библиотекой `numpy` и с реализациями элементов линейной алгебры в коде."
   ]
  },
  {
   "cell_type": "code",
   "execution_count": 78,
   "metadata": {
    "executionInfo": {
     "elapsed": 386,
     "status": "ok",
     "timestamp": 1667662870245,
     "user": {
      "displayName": "Дмитрий Денисенко",
      "userId": "17721498818503924232"
     },
     "user_tz": -420
    },
    "id": "gyBe_JPEytfo"
   },
   "outputs": [],
   "source": [
    "import numpy as np"
   ]
  },
  {
   "cell_type": "code",
   "execution_count": 79,
   "metadata": {
    "colab": {
     "base_uri": "https://localhost:8080/"
    },
    "executionInfo": {
     "elapsed": 538,
     "status": "ok",
     "timestamp": 1667663048367,
     "user": {
      "displayName": "Дмитрий Денисенко",
      "userId": "17721498818503924232"
     },
     "user_tz": -420
    },
    "id": "czjZMRqL3OKf",
    "outputId": "ca4cd84a-9ab1-43be-ee4c-c9d6b835f1ae"
   },
   "outputs": [
    {
     "data": {
      "text/plain": [
       "(array([1, 2, 3]), array([4, 5, 6]))"
      ]
     },
     "execution_count": 79,
     "metadata": {},
     "output_type": "execute_result"
    }
   ],
   "source": [
    "# Создадим вектор a = (1, 2, 3) и вектор b = (4, 5, 6)\n",
    "\n",
    "a = np.array([1,2,3])\n",
    "b = np.array([4,5,6])\n",
    "\n",
    "a, b"
   ]
  },
  {
   "cell_type": "markdown",
   "metadata": {},
   "source": [
    "## Операции с векторами"
   ]
  },
  {
   "cell_type": "code",
   "execution_count": 82,
   "metadata": {},
   "outputs": [
    {
     "name": "stdout",
     "output_type": "stream",
     "text": [
      "Сложение\n",
      "[5 7 9]\n",
      "Вычитание\n",
      "[-3 -3 -3]\n",
      "Умножение на число\n",
      "[ 5 10 15]\n",
      "Поэлементное умножение\n",
      "[ 4 10 18]\n"
     ]
    }
   ],
   "source": [
    "# Сложение\n",
    "print(\"Сложение\")\n",
    "print(a+b)\n",
    "\n",
    "# Вычитание\n",
    "print(\"Вычитание\")\n",
    "print(a-b)\n",
    "\n",
    "# Умножение на число\n",
    "print(\"Умножение на число\")\n",
    "print(5*a)\n",
    "\n",
    "# *Поэлементное умножение\n",
    "print(\"Поэлементное умножение\")\n",
    "print(a*b)"
   ]
  },
  {
   "cell_type": "code",
   "execution_count": 83,
   "metadata": {
    "colab": {
     "base_uri": "https://localhost:8080/"
    },
    "executionInfo": {
     "elapsed": 7,
     "status": "ok",
     "timestamp": 1667662956406,
     "user": {
      "displayName": "Дмитрий Денисенко",
      "userId": "17721498818503924232"
     },
     "user_tz": -420
    },
    "id": "3nWgIWz5dKiZ",
    "outputId": "b58f7338-1c6f-4e9b-b149-733bd3500436"
   },
   "outputs": [
    {
     "data": {
      "text/plain": [
       "dtype('int32')"
      ]
     },
     "execution_count": 83,
     "metadata": {},
     "output_type": "execute_result"
    }
   ],
   "source": [
    "a.dtype"
   ]
  },
  {
   "cell_type": "code",
   "execution_count": 84,
   "metadata": {
    "colab": {
     "base_uri": "https://localhost:8080/",
     "height": 169
    },
    "executionInfo": {
     "elapsed": 8,
     "status": "error",
     "timestamp": 1667662995350,
     "user": {
      "displayName": "Дмитрий Денисенко",
      "userId": "17721498818503924232"
     },
     "user_tz": -420
    },
    "id": "QVT2xWMVdXOH",
    "outputId": "fe03fbec-0b1b-498e-e249-4c15a01c8099"
   },
   "outputs": [
    {
     "ename": "AttributeError",
     "evalue": "'numpy.ndarray' object has no attribute 'append'",
     "output_type": "error",
     "traceback": [
      "\u001b[1;31m---------------------------------------------------------------------------\u001b[0m",
      "\u001b[1;31mAttributeError\u001b[0m                            Traceback (most recent call last)",
      "Cell \u001b[1;32mIn [84], line 1\u001b[0m\n\u001b[1;32m----> 1\u001b[0m \u001b[43ma\u001b[49m\u001b[38;5;241;43m.\u001b[39;49m\u001b[43mappend\u001b[49m(\u001b[38;5;241m1\u001b[39m)\n",
      "\u001b[1;31mAttributeError\u001b[0m: 'numpy.ndarray' object has no attribute 'append'"
     ]
    }
   ],
   "source": [
    "a.append(1)"
   ]
  },
  {
   "cell_type": "markdown",
   "metadata": {},
   "source": [
    "Благодаря этим свойствам предыдущее упражнение с производной можно переписать сразу так, что функции будут работать с массивами numpy, а не с конкретными числами."
   ]
  },
  {
   "cell_type": "code",
   "execution_count": 85,
   "metadata": {
    "executionInfo": {
     "elapsed": 3,
     "status": "ok",
     "timestamp": 1667663097846,
     "user": {
      "displayName": "Дмитрий Денисенко",
      "userId": "17721498818503924232"
     },
     "user_tz": -420
    },
    "id": "sI7oTNmtdxVB"
   },
   "outputs": [],
   "source": [
    "# Определим функцию f(x) = x^2 + sin(x) - ln(1 + x)\n",
    "def f(x):\n",
    "    return x**2 + np.sin(x) - np.log(1+x)\n",
    "\n",
    "# Определим функцию g(x) = f'(x) -- производную функции f(x)\n",
    "# g(x) = 2*x + cos(x) - 1/(1+x)\n",
    "def g(x):\n",
    "    return 2*x + np.cos(x) - 1/(1+x)"
   ]
  },
  {
   "cell_type": "code",
   "execution_count": 88,
   "metadata": {
    "colab": {
     "base_uri": "https://localhost:8080/"
    },
    "executionInfo": {
     "elapsed": 5,
     "status": "ok",
     "timestamp": 1667663120855,
     "user": {
      "displayName": "Дмитрий Денисенко",
      "userId": "17721498818503924232"
     },
     "user_tz": -420
    },
    "id": "ynX9we_fd3pb",
    "outputId": "f5bfcb07-9370-4030-f429-94319443474a"
   },
   "outputs": [
    {
     "data": {
      "text/plain": [
       "array([1.1483238 , 3.81068514, 7.75482565])"
      ]
     },
     "execution_count": 88,
     "metadata": {},
     "output_type": "execute_result"
    }
   ],
   "source": [
    "a = np.array([1,2,3])\n",
    "f(a)"
   ]
  },
  {
   "cell_type": "code",
   "execution_count": 46,
   "metadata": {
    "colab": {
     "base_uri": "https://localhost:8080/",
     "height": 283
    },
    "executionInfo": {
     "elapsed": 1099,
     "status": "ok",
     "timestamp": 1667663155984,
     "user": {
      "displayName": "Дмитрий Денисенко",
      "userId": "17721498818503924232"
     },
     "user_tz": -420
    },
    "id": "50vD5WEud-Jg",
    "outputId": "7818a493-746e-47cb-d376-1c7a3cf2f0e7"
   },
   "outputs": [
    {
     "data": {
      "text/plain": [
       "[<matplotlib.lines.Line2D at 0x7f44b38b8d50>]"
      ]
     },
     "execution_count": 46,
     "metadata": {},
     "output_type": "execute_result"
    },
    {
     "data": {
      "image/png": "[encoded data removed]",
      "text/plain": [
       "<Figure size 432x288 with 1 Axes>"
      ]
     },
     "metadata": {
      "needs_background": "light"
     },
     "output_type": "display_data"
    }
   ],
   "source": [
    "xs = np.linspace(0, 10, 100)\n",
    "plt.plot(xs, f(xs))"
   ]
  },
  {
   "cell_type": "code",
   "execution_count": 47,
   "metadata": {
    "colab": {
     "base_uri": "https://localhost:8080/"
    },
    "executionInfo": {
     "elapsed": 19,
     "status": "ok",
     "timestamp": 1667663162502,
     "user": {
      "displayName": "Дмитрий Денисенко",
      "userId": "17721498818503924232"
     },
     "user_tz": -420
    },
    "id": "1RFCK3dOeGEV",
    "outputId": "46747d4a-ccec-4d78-8ddc-32201234c64b"
   },
   "outputs": [
    {
     "data": {
      "text/plain": [
       "array([0.00000000e+00, 1.48134287e-02, 5.74573756e-02, 1.25548615e-01,\n",
       "       2.17031177e-01, 3.30101197e-01, 4.63159213e-01, 6.14779634e-01,\n",
       "       7.83691198e-01, 9.68764579e-01, 1.16900464e+00, 1.38354570e+00,\n",
       "       1.61164868e+00, 1.85269931e+00, 2.10620693e+00, 2.37180329e+00,\n",
       "       2.64924133e+00, 2.93839341e+00, 3.23924914e+00, 3.55191244e+00,\n",
       "       3.87659793e+00, 4.21362655e+00, 4.56342041e+00, 4.92649676e+00,\n",
       "       5.30346132e+00, 5.69500083e+00, 6.10187489e+00, 6.52490723e+00,\n",
       "       6.96497642e+00, 7.42300612e+00, 7.89995493e+00, 8.39680596e+00,\n",
       "       8.91455626e+00, 9.45420608e+00, 1.00167482e+01, 1.06031574e+01,\n",
       "       1.12143800e+01, 1.18513241e+01, 1.25148496e+01, 1.32057595e+01,\n",
       "       1.39247911e+01, 1.46726084e+01, 1.54497952e+01, 1.62568485e+01,\n",
       "       1.70941736e+01, 1.79620797e+01, 1.88607763e+01, 1.97903713e+01,\n",
       "       2.07508695e+01, 2.17421721e+01, 2.27640783e+01, 2.38162864e+01,\n",
       "       2.48983975e+01, 2.60099188e+01, 2.71502688e+01, 2.83187831e+01,\n",
       "       2.95147214e+01, 3.07372740e+01, 3.19855712e+01, 3.32586909e+01,\n",
       "       3.45556690e+01, 3.58755081e+01, 3.72171886e+01, 3.85796782e+01,\n",
       "       3.99619428e+01, 4.13629568e+01, 4.27817137e+01, 4.42172361e+01,\n",
       "       4.56685856e+01, 4.71348723e+01, 4.86152642e+01, 5.01089950e+01,\n",
       "       5.16153723e+01, 5.31337847e+01, 5.46637074e+01, 5.62047082e+01,\n",
       "       5.77564515e+01, 5.93187018e+01, 6.08913257e+01, 6.24742940e+01,\n",
       "       6.40676810e+01, 6.56716647e+01, 6.72865240e+01, 6.89126366e+01,\n",
       "       7.05504747e+01, 7.22006001e+01, 7.38636589e+01, 7.55403742e+01,\n",
       "       7.72315396e+01, 7.89380100e+01, 8.06606939e+01, 8.24005433e+01,\n",
       "       8.41585446e+01, 8.59357081e+01, 8.77330578e+01, 8.95516210e+01,\n",
       "       9.13924177e+01, 9.32564503e+01, 9.51446934e+01, 9.70580836e+01])"
      ]
     },
     "execution_count": 47,
     "metadata": {},
     "output_type": "execute_result"
    }
   ],
   "source": [
    "f(xs)"
   ]
  },
  {
   "cell_type": "markdown",
   "metadata": {
    "id": "BcT9cdE037-B"
   },
   "source": [
    "Вспомним такое важное действие с векторами, как скалярное произведение:\n",
    "\n",
    "$$(a, b) = |a|\\cdot |b| \\cdot \\cos(\\alpha) = \\sum_i a_i\\cdot b_i$$"
   ]
  },
  {
   "cell_type": "code",
   "execution_count": 89,
   "metadata": {
    "colab": {
     "base_uri": "https://localhost:8080/"
    },
    "executionInfo": {
     "elapsed": 7,
     "status": "ok",
     "timestamp": 1667665992739,
     "user": {
      "displayName": "Дмитрий Денисенко",
      "userId": "17721498818503924232"
     },
     "user_tz": -420
    },
    "id": "S_-YdFhV3tuC",
    "outputId": "fc28e389-d4e8-49f4-9523-d81c7f01e76e"
   },
   "outputs": [
    {
     "name": "stdout",
     "output_type": "stream",
     "text": [
      "32\n",
      "32\n"
     ]
    }
   ],
   "source": [
    "# Посчитаем скалярное произведение по формуле\n",
    "\n",
    "def scalar_mul(a,b):\n",
    "    # TODO: реализовать скалярное произведение\n",
    "    result = 0\n",
    "    for i in range(len(a)):\n",
    "        result += a[i] * b[i]\n",
    "    return result\n",
    "\n",
    "\n",
    "print(scalar_mul(a,b))\n",
    "# Посчитаем скалярное произведение возможностями numpy (np.dot/@)\n",
    "\n",
    "print(a @ b)"
   ]
  },
  {
   "cell_type": "markdown",
   "metadata": {},
   "source": [
    "cosinus?"
   ]
  },
  {
   "cell_type": "code",
   "execution_count": 52,
   "metadata": {
    "colab": {
     "base_uri": "https://localhost:8080/"
    },
    "executionInfo": {
     "elapsed": 600,
     "status": "ok",
     "timestamp": 1667666036786,
     "user": {
      "displayName": "Дмитрий Денисенко",
      "userId": "17721498818503924232"
     },
     "user_tz": -420
    },
    "id": "cWqXTl3Do689",
    "outputId": "0bf169ff-2ac6-433e-ce58-30f7c8e55772"
   },
   "outputs": [
    {
     "data": {
      "text/plain": [
       "0.9746318461970762"
      ]
     },
     "execution_count": 52,
     "metadata": {},
     "output_type": "execute_result"
    }
   ],
   "source": [
    "(a @ b) / (np.sqrt(a @ a) * np.sqrt(b @ b))"
   ]
  },
  {
   "cell_type": "markdown",
   "metadata": {
    "id": "45bfmhnqqEe9"
   },
   "source": [
    "## Матрицы"
   ]
  },
  {
   "cell_type": "markdown",
   "metadata": {
    "colab": {
     "base_uri": "https://localhost:8080/"
    },
    "executionInfo": {
     "elapsed": 23,
     "status": "ok",
     "timestamp": 1667666304432,
     "user": {
      "displayName": "Дмитрий Денисенко",
      "userId": "17721498818503924232"
     },
     "user_tz": -420
    },
    "id": "O4tTzLuNqEwB",
    "outputId": "a3cc0c60-28bc-41ef-c7e8-ab1df4ef251e"
   },
   "source": [
    "Аналогично можно создавать матрицы.\n",
    "\n",
    "Создадим следующие матрицы:\n",
    "```python\n",
    "A = |1,2|  B = |-1, 0|\n",
    "    |3,4|      |0 , 1|\n",
    "```"
   ]
  },
  {
   "cell_type": "code",
   "execution_count": 97,
   "metadata": {
    "colab": {
     "base_uri": "https://localhost:8080/"
    },
    "executionInfo": {
     "elapsed": 4,
     "status": "ok",
     "timestamp": 1667666292288,
     "user": {
      "displayName": "Дмитрий Денисенко",
      "userId": "17721498818503924232"
     },
     "user_tz": -420
    },
    "id": "a9QwWdyb3xUY",
    "outputId": "663907b3-6123-4bbe-f31c-3a189a0ac35d"
   },
   "outputs": [
    {
     "data": {
      "text/plain": [
       "(array([[1, 2],\n",
       "        [3, 4]]),\n",
       " array([[-1,  0],\n",
       "        [ 0,  1]]))"
      ]
     },
     "execution_count": 97,
     "metadata": {},
     "output_type": "execute_result"
    }
   ],
   "source": [
    "A = np.array([[1,2], [3,4]])\n",
    "B = np.array([[-1, 0], [0, 1]])\n",
    "\n",
    "A, B"
   ]
  },
  {
   "cell_type": "markdown",
   "metadata": {},
   "source": [
    "### Операции над матрицами\n",
    "\n",
    "Аналогичные, а также некоторые дополнительные операции можно производить с матрицами:"
   ]
  },
  {
   "cell_type": "code",
   "execution_count": 101,
   "metadata": {},
   "outputs": [
    {
     "name": "stdout",
     "output_type": "stream",
     "text": [
      "Сложение\n",
      "[[0 2]\n",
      " [3 5]]\n",
      "Вычитание\n",
      "[[2 2]\n",
      " [3 3]]\n",
      "Умножение на число\n",
      "[[ 5 10]\n",
      " [15 20]]\n",
      "[[ 5 10]\n",
      " [15 20]]\n",
      "Математическое умножение одной матрицы на другую\n",
      "[[-1  2]\n",
      " [-3  4]]\n",
      "[[-1  2]\n",
      " [-3  4]]\n",
      "[[-1  2]\n",
      " [-3  4]]\n",
      "Транспонирование\n",
      "[[1 3]\n",
      " [2 4]]\n",
      "[[-1  0]\n",
      " [ 0  1]]\n",
      "*Поэлементное умножение одной матрицы на другую\n",
      "[[-1  0]\n",
      " [ 0  4]]\n"
     ]
    }
   ],
   "source": [
    "# Сложение\n",
    "print(\"Сложение\")\n",
    "print(f'{A+B}')\n",
    "\n",
    "# Вычитание\n",
    "print(\"Вычитание\")\n",
    "print(f'{A-B}')\n",
    "\n",
    "# Умножение на число\n",
    "print(\"Умножение на число\")\n",
    "print(f'{5*A}')\n",
    "print(np.dot(A, 5))\n",
    "\n",
    "# Математическое умножение одной матрицы на другую\n",
    "print(\"Математическое умножение одной матрицы на другую\")\n",
    "print(f'{A@B}')\n",
    "print(np.dot(A, B))\n",
    "print(np.matmul(A, B))\n",
    "\n",
    "# Транспонирование\n",
    "print(\"Транспонирование\")\n",
    "print(f'{A.T}')\n",
    "print(f'{B.T}')\n",
    "\n",
    "# *Поэлементное умножение одной матрицы на другую\n",
    "print(\"*Поэлементное умножение одной матрицы на другую\")\n",
    "print(f'{A*B}')"
   ]
  },
  {
   "cell_type": "markdown",
   "metadata": {},
   "source": [
    "#### Поэлементное умножение матриц\n",
    "\n",
    "[source](https://bestprogrammer.ru/bez-rubriki/umnozhenie-matrits-numpy-nachnite-za-5-minut)  \n",
    "Поэлементное умножение, или произведение Адамара, умножает каждый элемент первой матрицы на эквивалентный элемент во второй матрице. При использовании этого метода обе матрицы должны иметь одинаковые размеры.\n",
    "\n",
    "Мы можем передать в `numpy.multiply()` метод определенные строки, столбцы или подматрицы. Размеры строк, столбцов или подматриц, которые мы передаем в качестве наших операндов, должны быть одинаковыми:"
   ]
  },
  {
   "cell_type": "code",
   "execution_count": 103,
   "metadata": {},
   "outputs": [
    {
     "data": {
      "text/plain": [
       "(array([[1, 2],\n",
       "        [3, 4]]),\n",
       " array([[-1,  0],\n",
       "        [ 0,  1]]))"
      ]
     },
     "execution_count": 103,
     "metadata": {},
     "output_type": "execute_result"
    }
   ],
   "source": [
    "A = np.array([[1,2], [3,4]])\n",
    "B = np.array([[-1, 0], [0, 1]])\n",
    "\n",
    "A, B"
   ]
  },
  {
   "cell_type": "code",
   "execution_count": 104,
   "metadata": {},
   "outputs": [
    {
     "name": "stdout",
     "output_type": "stream",
     "text": [
      "[[-1  0]\n",
      " [ 0  4]]\n"
     ]
    }
   ],
   "source": [
    "import numpy as np\n",
    "\n",
    "print(np.multiply(A,B))"
   ]
  },
  {
   "cell_type": "code",
   "execution_count": 109,
   "metadata": {},
   "outputs": [
    {
     "name": "stdout",
     "output_type": "stream",
     "text": [
      "[0 2]\n",
      "[-3  0]\n"
     ]
    }
   ],
   "source": [
    "print(np.multiply(A[ 0,: ], B[ 1,: ]))\n",
    "\n",
    "print(np.multiply(A[ 1,: ], B[ 0,:]))"
   ]
  },
  {
   "cell_type": "markdown",
   "metadata": {
    "id": "nz9VHWZx6Rb7"
   },
   "source": [
    "### Нахождение определителя матрицы\n",
    "\n",
    "Важным преобразованием над матрицей является нахождение ее определителя.\n",
    "\n",
    "Для матрицы 2х2 выпишем ее на примере матрицы A:\n",
    "\n",
    "$$det(A) = det\\begin{bmatrix} 1 & 2 \\\\ 3 & 4 \\end{bmatrix} = 1\\cdot 4 - 2 \\cdot 3 = -2$$"
   ]
  },
  {
   "cell_type": "code",
   "execution_count": 110,
   "metadata": {
    "colab": {
     "base_uri": "https://localhost:8080/"
    },
    "executionInfo": {
     "elapsed": 8,
     "status": "ok",
     "timestamp": 1667666992255,
     "user": {
      "displayName": "Дмитрий Денисенко",
      "userId": "17721498818503924232"
     },
     "user_tz": -420
    },
    "id": "0Nd49Ia07F5Q",
    "outputId": "8eb1b843-81b0-4036-ae21-7958b390d0ca"
   },
   "outputs": [
    {
     "name": "stdout",
     "output_type": "stream",
     "text": [
      "-2\n",
      "-2.0000000000000004\n"
     ]
    }
   ],
   "source": [
    "# Напишем функцию, которая считает определитель матрицы 2х2\n",
    "\n",
    "A = np.array([[1,2], [3,4]])\n",
    "\n",
    "def det2(A):\n",
    "    return A[0,0]*A[1,1]-A[1,0]*A[0,1]\n",
    "\n",
    "# Воспользуемся методами numpy (np.linalg.det)\n",
    "\n",
    "print(det2(A))\n",
    "print(np.linalg.det(A))"
   ]
  },
  {
   "cell_type": "markdown",
   "metadata": {
    "id": "tInT3AxK8h29"
   },
   "source": [
    "### Обратная матрица\n",
    "\n",
    "Матрица, умножение на которую исходной будет давать единичную (матрица, у которой на диагонали стоят единицы, а в других местах нулы)\n",
    "\n",
    "$$A^{-1}: AA^{-1} = E$$\n",
    "\n",
    "Способы нахождения вручную смотреть здесь: https://www.youtube.com/watch?v=6Osv_KleQr0 \n",
    "\n",
    "Воспользуемся методами `numpy`, чтобы найти обратную матрицу к матрице `A` (`np.linalg.inv`):\n"
   ]
  },
  {
   "cell_type": "code",
   "execution_count": 114,
   "metadata": {
    "colab": {
     "base_uri": "https://localhost:8080/"
    },
    "executionInfo": {
     "elapsed": 378,
     "status": "ok",
     "timestamp": 1667667098153,
     "user": {
      "displayName": "Дмитрий Денисенко",
      "userId": "17721498818503924232"
     },
     "user_tz": -420
    },
    "id": "ycgVhrDq889I",
    "outputId": "8fc13e82-c8ca-46af-f249-47ded519c484"
   },
   "outputs": [
    {
     "name": "stdout",
     "output_type": "stream",
     "text": [
      "[[-2.   1. ]\n",
      " [ 1.5 -0.5]]\n"
     ]
    }
   ],
   "source": [
    "import numpy as np\n",
    "\n",
    "A = np.array([[1,2], [3,4]])\n",
    "\n",
    "print(f\"{np.linalg.inv(A)}\")"
   ]
  },
  {
   "cell_type": "markdown",
   "metadata": {},
   "source": [
    "Убедимся, что она найдена верно"
   ]
  },
  {
   "cell_type": "code",
   "execution_count": 115,
   "metadata": {},
   "outputs": [
    {
     "data": {
      "text/plain": [
       "array([[1.0000000e+00, 0.0000000e+00],\n",
       "       [8.8817842e-16, 1.0000000e+00]])"
      ]
     },
     "execution_count": 115,
     "metadata": {},
     "output_type": "execute_result"
    }
   ],
   "source": [
    "A @ np.linalg.inv(A)"
   ]
  },
  {
   "cell_type": "code",
   "execution_count": 118,
   "metadata": {},
   "outputs": [
    {
     "data": {
      "text/plain": [
       "0"
      ]
     },
     "execution_count": 118,
     "metadata": {},
     "output_type": "execute_result"
    }
   ],
   "source": [
    "int(8.8817842e-16)"
   ]
  },
  {
   "cell_type": "markdown",
   "metadata": {},
   "source": [
    "## Задача. Решение СЛАУ."
   ]
  },
  {
   "cell_type": "markdown",
   "metadata": {
    "id": "lAqqQFsUOpj7"
   },
   "source": [
    "Допустим, что у нас есть 3 параметра стоимости продукта (например, ноутбука). У нас есть матрица $A$ размерности $3x3$. Каждый столбец соответствует одной из характеристик. Например, объем оперативной памяти в гигабайтах, объем ssd в гигабайтах, наличие или отсутствие видеокарты. Также у нас имеется столбец $b$ размерности $3$, отражающий стоимость каждого ноутбука. Мы хотим понять процесс ценообразования и поэтому хотим найти веса, с которыми каждый из параметров влияет на стоимость ноутбука. Итого имеем:\n",
    "\n",
    "$$Ax = b$$\n",
    "\n",
    "где $x$ -- это столбец из трех неизвестных $x_1,\\ x_2,\\ x_3$.\n",
    "\n",
    "Как бы мы записали это все в школе?\n",
    "\n",
    "Решите это уравнение, и скажите ответ если\n",
    "$$\n",
    "\\begin{equation*}\n",
    "A = \\left(\n",
    "\\begin{array}{cccc}\n",
    "4 & 512 & 1 \\\\\n",
    "8 & 512 & 0 \\\\\n",
    "16 & 256 & 1\n",
    "\\end{array}\n",
    "\\right)\n",
    "\\end{equation*}\n",
    "$$\n",
    "\n",
    "$$\n",
    "\\begin{equation*}\n",
    "b = \\left(\n",
    "\\begin{array}{cccc}\n",
    "50000 \\\\\n",
    "54000 \\\\\n",
    "75000\n",
    "\\end{array}\n",
    "\\right)\n",
    "\\end{equation*}\n",
    "$$\n",
    "\n",
    "\n",
    "$$\n",
    "x = A^{-1} b\n",
    "$$"
   ]
  },
  {
   "cell_type": "code",
   "execution_count": 120,
   "metadata": {
    "colab": {
     "base_uri": "https://localhost:8080/"
    },
    "executionInfo": {
     "elapsed": 5,
     "status": "ok",
     "timestamp": 1667667363012,
     "user": {
      "displayName": "Дмитрий Денисенко",
      "userId": "17721498818503924232"
     },
     "user_tz": -420
    },
    "id": "gkcAXIFwRnFj",
    "outputId": "4d06bb9d-858b-4a43-f299-be28279c947e"
   },
   "outputs": [
    {
     "data": {
      "text/plain": [
       "array([3250.    ,   54.6875, 9000.    ])"
      ]
     },
     "execution_count": 120,
     "metadata": {},
     "output_type": "execute_result"
    }
   ],
   "source": [
    "# TODO: решите на бумаге\n",
    "# ... x1=?, x2=?, x3=?\n",
    "\n",
    "A = np.array([[4, 512, 1], [8, 512, 0], [16, 256, 1]])\n",
    "b = np.array([50000, 54000, 75000])\n",
    "\n",
    "# x = np.linalg.inv(A) @ b\n",
    "x = np.dot(np.linalg.inv(A), b)\n",
    "x\n",
    "# ваш код тут, решите систему с помощью numpy"
   ]
  },
  {
   "cell_type": "code",
   "execution_count": 121,
   "metadata": {},
   "outputs": [
    {
     "data": {
      "text/plain": [
       "array([50000., 54000., 75000.])"
      ]
     },
     "execution_count": 121,
     "metadata": {},
     "output_type": "execute_result"
    }
   ],
   "source": [
    "np.dot(A, x)"
   ]
  },
  {
   "cell_type": "markdown",
   "metadata": {
    "id": "qVo7R9CmTVc9"
   },
   "source": [
    "В нашем случае, система решается, и все переменные оказываются значимыми. Конечно, чаще мы будем иметь дело с ситуацией, когда количество измерений больше, чем количество признаков. Тогда, подобная задача будет называться линейной регрессией. Кроме того, она также будет иметь точное решение, которое можно получить с помощью линейных преобразований."
   ]
  },
  {
   "cell_type": "markdown",
   "metadata": {
    "id": "vgRXtaDtghW8"
   },
   "source": [
    "### Расстояния между векторами\n",
    "\n",
    "Давайте подумаем, на основании чего мы могли бы сказать, что вектора похожи? Где это может быть нужно?"
   ]
  },
  {
   "cell_type": "code",
   "execution_count": null,
   "metadata": {
    "id": "rj-BR994fsTH"
   },
   "outputs": [],
   "source": [
    "# Реализуем наши идеи\n",
    "\n",
    "# По углу между вектором и одним из базисных векторов или, например, по косинусу или синусу."
   ]
  },
  {
   "cell_type": "markdown",
   "metadata": {
    "id": "MOAnid7YCWdk"
   },
   "source": [
    "## Задача. Коллаборативная фильтрация.\n",
    "Допустим, мы хотим рекомендовать новые фильмы, исходя из того, какие фильмы пользователь уже посмотрел. Делать мы это будем с оглядкой на других пользователей, наиболее похожих на него.\n",
    "\n",
    "Предлагается использовать следующую формулу для вычисления рекомендации:\n",
    "\n",
    "$$r_u^i = k \\sum_{u' \\in U_N}sim(u,u') \\cdot r_{u'}^i$$\n",
    "\n",
    "Где \n",
    "- $u$ -- рассматриваемый пользователь. \n",
    "- $U_N$ -- это множество N наиболее близких пользователей к пользователю $u$ (является подмножеством всех пользователей $U$). \n",
    "- $i$ -- рассматриваемый фильм. \n",
    "- $sim(u,u')$ -- метрика \"похожести\" двух пользователей, чем она больше, тем бОльший вклад вносит оценка данного пользователя. \n",
    "- $k$ -- нормировочный коэффициент.\n",
    "\n",
    "$$k = \\frac{1}{\\sum_{u' \\in U_N} |sim(u, u')|}$$\n",
    "\n",
    "В качестве меры похожести предлагается использовать косинус между векторами с оценками фильмов."
   ]
  },
  {
   "cell_type": "markdown",
   "metadata": {
    "id": "nZnb9pgnETPc"
   },
   "source": [
    "Ниже клетка с подготовкой данных. Чтобы она заработала, вам нужно загрузить в colab два файла:\n",
    "1. [ratings_small.csv](https://drive.google.com/file/d/1vLWjMMnbD4tRcklJcOc4mjWQ0oaNx9V6/view?usp=sharing) -- файл с рейтингами фильмов. \n",
    "2. [movies_metadata.csv](https://drive.google.com/file/d/1QpoLCUUljSZ1CxzVqDC3PUVZ2qZ7Cfoo/view?usp=sharing) -- файл с метаданными о фильмах (например, их названия).\n",
    "\n",
    "Сначала эти два файла нужно скачать себе на компьютер, а затем загрузить в окно \"файлы\" в ноутбуке."
   ]
  },
  {
   "cell_type": "code",
   "execution_count": 124,
   "metadata": {
    "colab": {
     "base_uri": "https://localhost:8080/"
    },
    "executionInfo": {
     "elapsed": 2687,
     "status": "ok",
     "timestamp": 1660826025033,
     "user": {
      "displayName": "Дмитрий Денисенко",
      "userId": "17721498818503924232"
     },
     "user_tz": -180
    },
    "id": "CP1rySMd26hE",
    "outputId": "40eb8184-7c6c-4e81-b9bd-a9bf2633b59d"
   },
   "outputs": [
    {
     "data": {
      "text/html": [
       "<div>\n",
       "<style scoped>\n",
       "    .dataframe tbody tr th:only-of-type {\n",
       "        vertical-align: middle;\n",
       "    }\n",
       "\n",
       "    .dataframe tbody tr th {\n",
       "        vertical-align: top;\n",
       "    }\n",
       "\n",
       "    .dataframe thead th {\n",
       "        text-align: right;\n",
       "    }\n",
       "</style>\n",
       "<table border=\"1\" class=\"dataframe\">\n",
       "  <thead>\n",
       "    <tr style=\"text-align: right;\">\n",
       "      <th></th>\n",
       "      <th>userId</th>\n",
       "      <th>movieId</th>\n",
       "      <th>rating</th>\n",
       "      <th>timestamp</th>\n",
       "    </tr>\n",
       "  </thead>\n",
       "  <tbody>\n",
       "    <tr>\n",
       "      <th>0</th>\n",
       "      <td>1</td>\n",
       "      <td>31</td>\n",
       "      <td>2.5</td>\n",
       "      <td>1260759144</td>\n",
       "    </tr>\n",
       "    <tr>\n",
       "      <th>1</th>\n",
       "      <td>1</td>\n",
       "      <td>1029</td>\n",
       "      <td>3.0</td>\n",
       "      <td>1260759179</td>\n",
       "    </tr>\n",
       "    <tr>\n",
       "      <th>2</th>\n",
       "      <td>1</td>\n",
       "      <td>1061</td>\n",
       "      <td>3.0</td>\n",
       "      <td>1260759182</td>\n",
       "    </tr>\n",
       "    <tr>\n",
       "      <th>3</th>\n",
       "      <td>1</td>\n",
       "      <td>1129</td>\n",
       "      <td>2.0</td>\n",
       "      <td>1260759185</td>\n",
       "    </tr>\n",
       "    <tr>\n",
       "      <th>4</th>\n",
       "      <td>1</td>\n",
       "      <td>1172</td>\n",
       "      <td>4.0</td>\n",
       "      <td>1260759205</td>\n",
       "    </tr>\n",
       "    <tr>\n",
       "      <th>...</th>\n",
       "      <td>...</td>\n",
       "      <td>...</td>\n",
       "      <td>...</td>\n",
       "      <td>...</td>\n",
       "    </tr>\n",
       "    <tr>\n",
       "      <th>99999</th>\n",
       "      <td>671</td>\n",
       "      <td>6268</td>\n",
       "      <td>2.5</td>\n",
       "      <td>1065579370</td>\n",
       "    </tr>\n",
       "    <tr>\n",
       "      <th>100000</th>\n",
       "      <td>671</td>\n",
       "      <td>6269</td>\n",
       "      <td>4.0</td>\n",
       "      <td>1065149201</td>\n",
       "    </tr>\n",
       "    <tr>\n",
       "      <th>100001</th>\n",
       "      <td>671</td>\n",
       "      <td>6365</td>\n",
       "      <td>4.0</td>\n",
       "      <td>1070940363</td>\n",
       "    </tr>\n",
       "    <tr>\n",
       "      <th>100002</th>\n",
       "      <td>671</td>\n",
       "      <td>6385</td>\n",
       "      <td>2.5</td>\n",
       "      <td>1070979663</td>\n",
       "    </tr>\n",
       "    <tr>\n",
       "      <th>100003</th>\n",
       "      <td>671</td>\n",
       "      <td>6565</td>\n",
       "      <td>3.5</td>\n",
       "      <td>1074784724</td>\n",
       "    </tr>\n",
       "  </tbody>\n",
       "</table>\n",
       "<p>100004 rows × 4 columns</p>\n",
       "</div>"
      ],
      "text/plain": [
       "        userId  movieId  rating   timestamp\n",
       "0            1       31     2.5  1260759144\n",
       "1            1     1029     3.0  1260759179\n",
       "2            1     1061     3.0  1260759182\n",
       "3            1     1129     2.0  1260759185\n",
       "4            1     1172     4.0  1260759205\n",
       "...        ...      ...     ...         ...\n",
       "99999      671     6268     2.5  1065579370\n",
       "100000     671     6269     4.0  1065149201\n",
       "100001     671     6365     4.0  1070940363\n",
       "100002     671     6385     2.5  1070979663\n",
       "100003     671     6565     3.5  1074784724\n",
       "\n",
       "[100004 rows x 4 columns]"
      ]
     },
     "execution_count": 124,
     "metadata": {},
     "output_type": "execute_result"
    }
   ],
   "source": [
    "import numpy as np\n",
    "import pandas as pd\n",
    "data = pd.read_csv(\"ratings_small.csv\")\n",
    "data"
   ]
  },
  {
   "cell_type": "code",
   "execution_count": 128,
   "metadata": {},
   "outputs": [
    {
     "data": {
      "text/html": [
       "<div>\n",
       "<style scoped>\n",
       "    .dataframe tbody tr th:only-of-type {\n",
       "        vertical-align: middle;\n",
       "    }\n",
       "\n",
       "    .dataframe tbody tr th {\n",
       "        vertical-align: top;\n",
       "    }\n",
       "\n",
       "    .dataframe thead th {\n",
       "        text-align: right;\n",
       "    }\n",
       "</style>\n",
       "<table border=\"1\" class=\"dataframe\">\n",
       "  <thead>\n",
       "    <tr style=\"text-align: right;\">\n",
       "      <th>movieId</th>\n",
       "      <th>1</th>\n",
       "      <th>2</th>\n",
       "      <th>3</th>\n",
       "      <th>4</th>\n",
       "      <th>5</th>\n",
       "      <th>6</th>\n",
       "      <th>7</th>\n",
       "      <th>8</th>\n",
       "      <th>9</th>\n",
       "      <th>10</th>\n",
       "      <th>...</th>\n",
       "      <th>161084</th>\n",
       "      <th>161155</th>\n",
       "      <th>161594</th>\n",
       "      <th>161830</th>\n",
       "      <th>161918</th>\n",
       "      <th>161944</th>\n",
       "      <th>162376</th>\n",
       "      <th>162542</th>\n",
       "      <th>162672</th>\n",
       "      <th>163949</th>\n",
       "    </tr>\n",
       "    <tr>\n",
       "      <th>userId</th>\n",
       "      <th></th>\n",
       "      <th></th>\n",
       "      <th></th>\n",
       "      <th></th>\n",
       "      <th></th>\n",
       "      <th></th>\n",
       "      <th></th>\n",
       "      <th></th>\n",
       "      <th></th>\n",
       "      <th></th>\n",
       "      <th></th>\n",
       "      <th></th>\n",
       "      <th></th>\n",
       "      <th></th>\n",
       "      <th></th>\n",
       "      <th></th>\n",
       "      <th></th>\n",
       "      <th></th>\n",
       "      <th></th>\n",
       "      <th></th>\n",
       "      <th></th>\n",
       "    </tr>\n",
       "  </thead>\n",
       "  <tbody>\n",
       "    <tr>\n",
       "      <th>1</th>\n",
       "      <td>0.0</td>\n",
       "      <td>0.0</td>\n",
       "      <td>0.0</td>\n",
       "      <td>0.0</td>\n",
       "      <td>0.0</td>\n",
       "      <td>0.0</td>\n",
       "      <td>0.0</td>\n",
       "      <td>0</td>\n",
       "      <td>0</td>\n",
       "      <td>0.0</td>\n",
       "      <td>...</td>\n",
       "      <td>0.0</td>\n",
       "      <td>0.0</td>\n",
       "      <td>0</td>\n",
       "      <td>0</td>\n",
       "      <td>0.0</td>\n",
       "      <td>0</td>\n",
       "      <td>0.0</td>\n",
       "      <td>0</td>\n",
       "      <td>0</td>\n",
       "      <td>0</td>\n",
       "    </tr>\n",
       "    <tr>\n",
       "      <th>2</th>\n",
       "      <td>0.0</td>\n",
       "      <td>0.0</td>\n",
       "      <td>0.0</td>\n",
       "      <td>0.0</td>\n",
       "      <td>0.0</td>\n",
       "      <td>0.0</td>\n",
       "      <td>0.0</td>\n",
       "      <td>0</td>\n",
       "      <td>0</td>\n",
       "      <td>4.0</td>\n",
       "      <td>...</td>\n",
       "      <td>0.0</td>\n",
       "      <td>0.0</td>\n",
       "      <td>0</td>\n",
       "      <td>0</td>\n",
       "      <td>0.0</td>\n",
       "      <td>0</td>\n",
       "      <td>0.0</td>\n",
       "      <td>0</td>\n",
       "      <td>0</td>\n",
       "      <td>0</td>\n",
       "    </tr>\n",
       "    <tr>\n",
       "      <th>3</th>\n",
       "      <td>0.0</td>\n",
       "      <td>0.0</td>\n",
       "      <td>0.0</td>\n",
       "      <td>0.0</td>\n",
       "      <td>0.0</td>\n",
       "      <td>0.0</td>\n",
       "      <td>0.0</td>\n",
       "      <td>0</td>\n",
       "      <td>0</td>\n",
       "      <td>0.0</td>\n",
       "      <td>...</td>\n",
       "      <td>0.0</td>\n",
       "      <td>0.0</td>\n",
       "      <td>0</td>\n",
       "      <td>0</td>\n",
       "      <td>0.0</td>\n",
       "      <td>0</td>\n",
       "      <td>0.0</td>\n",
       "      <td>0</td>\n",
       "      <td>0</td>\n",
       "      <td>0</td>\n",
       "    </tr>\n",
       "    <tr>\n",
       "      <th>4</th>\n",
       "      <td>0.0</td>\n",
       "      <td>0.0</td>\n",
       "      <td>0.0</td>\n",
       "      <td>0.0</td>\n",
       "      <td>0.0</td>\n",
       "      <td>0.0</td>\n",
       "      <td>0.0</td>\n",
       "      <td>0</td>\n",
       "      <td>0</td>\n",
       "      <td>4.0</td>\n",
       "      <td>...</td>\n",
       "      <td>0.0</td>\n",
       "      <td>0.0</td>\n",
       "      <td>0</td>\n",
       "      <td>0</td>\n",
       "      <td>0.0</td>\n",
       "      <td>0</td>\n",
       "      <td>0.0</td>\n",
       "      <td>0</td>\n",
       "      <td>0</td>\n",
       "      <td>0</td>\n",
       "    </tr>\n",
       "    <tr>\n",
       "      <th>5</th>\n",
       "      <td>0.0</td>\n",
       "      <td>0.0</td>\n",
       "      <td>4.0</td>\n",
       "      <td>0.0</td>\n",
       "      <td>0.0</td>\n",
       "      <td>0.0</td>\n",
       "      <td>0.0</td>\n",
       "      <td>0</td>\n",
       "      <td>0</td>\n",
       "      <td>0.0</td>\n",
       "      <td>...</td>\n",
       "      <td>0.0</td>\n",
       "      <td>0.0</td>\n",
       "      <td>0</td>\n",
       "      <td>0</td>\n",
       "      <td>0.0</td>\n",
       "      <td>0</td>\n",
       "      <td>0.0</td>\n",
       "      <td>0</td>\n",
       "      <td>0</td>\n",
       "      <td>0</td>\n",
       "    </tr>\n",
       "    <tr>\n",
       "      <th>...</th>\n",
       "      <td>...</td>\n",
       "      <td>...</td>\n",
       "      <td>...</td>\n",
       "      <td>...</td>\n",
       "      <td>...</td>\n",
       "      <td>...</td>\n",
       "      <td>...</td>\n",
       "      <td>...</td>\n",
       "      <td>...</td>\n",
       "      <td>...</td>\n",
       "      <td>...</td>\n",
       "      <td>...</td>\n",
       "      <td>...</td>\n",
       "      <td>...</td>\n",
       "      <td>...</td>\n",
       "      <td>...</td>\n",
       "      <td>...</td>\n",
       "      <td>...</td>\n",
       "      <td>...</td>\n",
       "      <td>...</td>\n",
       "      <td>...</td>\n",
       "    </tr>\n",
       "    <tr>\n",
       "      <th>667</th>\n",
       "      <td>0.0</td>\n",
       "      <td>0.0</td>\n",
       "      <td>0.0</td>\n",
       "      <td>0.0</td>\n",
       "      <td>0.0</td>\n",
       "      <td>4.0</td>\n",
       "      <td>0.0</td>\n",
       "      <td>0</td>\n",
       "      <td>0</td>\n",
       "      <td>0.0</td>\n",
       "      <td>...</td>\n",
       "      <td>0.0</td>\n",
       "      <td>0.0</td>\n",
       "      <td>0</td>\n",
       "      <td>0</td>\n",
       "      <td>0.0</td>\n",
       "      <td>0</td>\n",
       "      <td>0.0</td>\n",
       "      <td>0</td>\n",
       "      <td>0</td>\n",
       "      <td>0</td>\n",
       "    </tr>\n",
       "    <tr>\n",
       "      <th>668</th>\n",
       "      <td>0.0</td>\n",
       "      <td>0.0</td>\n",
       "      <td>0.0</td>\n",
       "      <td>0.0</td>\n",
       "      <td>0.0</td>\n",
       "      <td>0.0</td>\n",
       "      <td>0.0</td>\n",
       "      <td>0</td>\n",
       "      <td>0</td>\n",
       "      <td>0.0</td>\n",
       "      <td>...</td>\n",
       "      <td>0.0</td>\n",
       "      <td>0.0</td>\n",
       "      <td>0</td>\n",
       "      <td>0</td>\n",
       "      <td>0.0</td>\n",
       "      <td>0</td>\n",
       "      <td>0.0</td>\n",
       "      <td>0</td>\n",
       "      <td>0</td>\n",
       "      <td>0</td>\n",
       "    </tr>\n",
       "    <tr>\n",
       "      <th>669</th>\n",
       "      <td>0.0</td>\n",
       "      <td>0.0</td>\n",
       "      <td>0.0</td>\n",
       "      <td>0.0</td>\n",
       "      <td>0.0</td>\n",
       "      <td>0.0</td>\n",
       "      <td>0.0</td>\n",
       "      <td>0</td>\n",
       "      <td>0</td>\n",
       "      <td>0.0</td>\n",
       "      <td>...</td>\n",
       "      <td>0.0</td>\n",
       "      <td>0.0</td>\n",
       "      <td>0</td>\n",
       "      <td>0</td>\n",
       "      <td>0.0</td>\n",
       "      <td>0</td>\n",
       "      <td>0.0</td>\n",
       "      <td>0</td>\n",
       "      <td>0</td>\n",
       "      <td>0</td>\n",
       "    </tr>\n",
       "    <tr>\n",
       "      <th>670</th>\n",
       "      <td>4.0</td>\n",
       "      <td>0.0</td>\n",
       "      <td>0.0</td>\n",
       "      <td>0.0</td>\n",
       "      <td>0.0</td>\n",
       "      <td>0.0</td>\n",
       "      <td>0.0</td>\n",
       "      <td>0</td>\n",
       "      <td>0</td>\n",
       "      <td>0.0</td>\n",
       "      <td>...</td>\n",
       "      <td>0.0</td>\n",
       "      <td>0.0</td>\n",
       "      <td>0</td>\n",
       "      <td>0</td>\n",
       "      <td>0.0</td>\n",
       "      <td>0</td>\n",
       "      <td>0.0</td>\n",
       "      <td>0</td>\n",
       "      <td>0</td>\n",
       "      <td>0</td>\n",
       "    </tr>\n",
       "    <tr>\n",
       "      <th>671</th>\n",
       "      <td>5.0</td>\n",
       "      <td>0.0</td>\n",
       "      <td>0.0</td>\n",
       "      <td>0.0</td>\n",
       "      <td>0.0</td>\n",
       "      <td>0.0</td>\n",
       "      <td>0.0</td>\n",
       "      <td>0</td>\n",
       "      <td>0</td>\n",
       "      <td>0.0</td>\n",
       "      <td>...</td>\n",
       "      <td>0.0</td>\n",
       "      <td>0.0</td>\n",
       "      <td>0</td>\n",
       "      <td>0</td>\n",
       "      <td>0.0</td>\n",
       "      <td>0</td>\n",
       "      <td>0.0</td>\n",
       "      <td>0</td>\n",
       "      <td>0</td>\n",
       "      <td>0</td>\n",
       "    </tr>\n",
       "  </tbody>\n",
       "</table>\n",
       "<p>671 rows × 9066 columns</p>\n",
       "</div>"
      ],
      "text/plain": [
       "movieId  1       2       3       4       5       6       7       8       \\\n",
       "userId                                                                    \n",
       "1           0.0     0.0     0.0     0.0     0.0     0.0     0.0       0   \n",
       "2           0.0     0.0     0.0     0.0     0.0     0.0     0.0       0   \n",
       "3           0.0     0.0     0.0     0.0     0.0     0.0     0.0       0   \n",
       "4           0.0     0.0     0.0     0.0     0.0     0.0     0.0       0   \n",
       "5           0.0     0.0     4.0     0.0     0.0     0.0     0.0       0   \n",
       "...         ...     ...     ...     ...     ...     ...     ...     ...   \n",
       "667         0.0     0.0     0.0     0.0     0.0     4.0     0.0       0   \n",
       "668         0.0     0.0     0.0     0.0     0.0     0.0     0.0       0   \n",
       "669         0.0     0.0     0.0     0.0     0.0     0.0     0.0       0   \n",
       "670         4.0     0.0     0.0     0.0     0.0     0.0     0.0       0   \n",
       "671         5.0     0.0     0.0     0.0     0.0     0.0     0.0       0   \n",
       "\n",
       "movieId  9       10      ...  161084  161155  161594  161830  161918  161944  \\\n",
       "userId                   ...                                                   \n",
       "1             0     0.0  ...     0.0     0.0       0       0     0.0       0   \n",
       "2             0     4.0  ...     0.0     0.0       0       0     0.0       0   \n",
       "3             0     0.0  ...     0.0     0.0       0       0     0.0       0   \n",
       "4             0     4.0  ...     0.0     0.0       0       0     0.0       0   \n",
       "5             0     0.0  ...     0.0     0.0       0       0     0.0       0   \n",
       "...         ...     ...  ...     ...     ...     ...     ...     ...     ...   \n",
       "667           0     0.0  ...     0.0     0.0       0       0     0.0       0   \n",
       "668           0     0.0  ...     0.0     0.0       0       0     0.0       0   \n",
       "669           0     0.0  ...     0.0     0.0       0       0     0.0       0   \n",
       "670           0     0.0  ...     0.0     0.0       0       0     0.0       0   \n",
       "671           0     0.0  ...     0.0     0.0       0       0     0.0       0   \n",
       "\n",
       "movieId  162376  162542  162672  163949  \n",
       "userId                                   \n",
       "1           0.0       0       0       0  \n",
       "2           0.0       0       0       0  \n",
       "3           0.0       0       0       0  \n",
       "4           0.0       0       0       0  \n",
       "5           0.0       0       0       0  \n",
       "...         ...     ...     ...     ...  \n",
       "667         0.0       0       0       0  \n",
       "668         0.0       0       0       0  \n",
       "669         0.0       0       0       0  \n",
       "670         0.0       0       0       0  \n",
       "671         0.0       0       0       0  \n",
       "\n",
       "[671 rows x 9066 columns]"
      ]
     },
     "execution_count": 128,
     "metadata": {},
     "output_type": "execute_result"
    }
   ],
   "source": [
    "pvt = pd.pivot_table(data, index=\"userId\", columns=\"movieId\", values=\"rating\", \n",
    "                     aggfunc=\"mean\", fill_value=0)\n",
    "pvt"
   ]
  },
  {
   "cell_type": "code",
   "execution_count": 136,
   "metadata": {},
   "outputs": [
    {
     "data": {
      "text/html": [
       "<div>\n",
       "<style scoped>\n",
       "    .dataframe tbody tr th:only-of-type {\n",
       "        vertical-align: middle;\n",
       "    }\n",
       "\n",
       "    .dataframe tbody tr th {\n",
       "        vertical-align: top;\n",
       "    }\n",
       "\n",
       "    .dataframe thead th {\n",
       "        text-align: right;\n",
       "    }\n",
       "</style>\n",
       "<table border=\"1\" class=\"dataframe\">\n",
       "  <thead>\n",
       "    <tr style=\"text-align: right;\">\n",
       "      <th></th>\n",
       "      <th>adult</th>\n",
       "      <th>belongs_to_collection</th>\n",
       "      <th>budget</th>\n",
       "      <th>genres</th>\n",
       "      <th>homepage</th>\n",
       "      <th>id</th>\n",
       "      <th>imdb_id</th>\n",
       "      <th>original_language</th>\n",
       "      <th>original_title</th>\n",
       "      <th>overview</th>\n",
       "      <th>...</th>\n",
       "      <th>release_date</th>\n",
       "      <th>revenue</th>\n",
       "      <th>runtime</th>\n",
       "      <th>spoken_languages</th>\n",
       "      <th>status</th>\n",
       "      <th>tagline</th>\n",
       "      <th>title</th>\n",
       "      <th>video</th>\n",
       "      <th>vote_average</th>\n",
       "      <th>vote_count</th>\n",
       "    </tr>\n",
       "  </thead>\n",
       "  <tbody>\n",
       "    <tr>\n",
       "      <th>0</th>\n",
       "      <td>False</td>\n",
       "      <td>{'id': 10194, 'name': 'Toy Story Collection', ...</td>\n",
       "      <td>30000000</td>\n",
       "      <td>[{'id': 16, 'name': 'Animation'}, {'id': 35, '...</td>\n",
       "      <td>http://toystory.disney.com/toy-story</td>\n",
       "      <td>862</td>\n",
       "      <td>tt0114709</td>\n",
       "      <td>en</td>\n",
       "      <td>Toy Story</td>\n",
       "      <td>Led by Woody, Andy's toys live happily in his ...</td>\n",
       "      <td>...</td>\n",
       "      <td>1995-10-30</td>\n",
       "      <td>373554033</td>\n",
       "      <td>81.0</td>\n",
       "      <td>[{'iso_639_1': 'en', 'name': 'English'}]</td>\n",
       "      <td>Released</td>\n",
       "      <td>NaN</td>\n",
       "      <td>Toy Story</td>\n",
       "      <td>False</td>\n",
       "      <td>7.7</td>\n",
       "      <td>5415</td>\n",
       "    </tr>\n",
       "    <tr>\n",
       "      <th>1</th>\n",
       "      <td>False</td>\n",
       "      <td>NaN</td>\n",
       "      <td>65000000</td>\n",
       "      <td>[{'id': 12, 'name': 'Adventure'}, {'id': 14, '...</td>\n",
       "      <td>NaN</td>\n",
       "      <td>8844</td>\n",
       "      <td>tt0113497</td>\n",
       "      <td>en</td>\n",
       "      <td>Jumanji</td>\n",
       "      <td>When siblings Judy and Peter discover an encha...</td>\n",
       "      <td>...</td>\n",
       "      <td>1995-12-15</td>\n",
       "      <td>262797249</td>\n",
       "      <td>104.0</td>\n",
       "      <td>[{'iso_639_1': 'en', 'name': 'English'}, {'iso...</td>\n",
       "      <td>Released</td>\n",
       "      <td>Roll the dice and unleash the excitement!</td>\n",
       "      <td>Jumanji</td>\n",
       "      <td>False</td>\n",
       "      <td>6.9</td>\n",
       "      <td>2413</td>\n",
       "    </tr>\n",
       "    <tr>\n",
       "      <th>2</th>\n",
       "      <td>False</td>\n",
       "      <td>{'id': 119050, 'name': 'Grumpy Old Men Collect...</td>\n",
       "      <td>0</td>\n",
       "      <td>[{'id': 10749, 'name': 'Romance'}, {'id': 35, ...</td>\n",
       "      <td>NaN</td>\n",
       "      <td>15602</td>\n",
       "      <td>tt0113228</td>\n",
       "      <td>en</td>\n",
       "      <td>Grumpier Old Men</td>\n",
       "      <td>A family wedding reignites the ancient feud be...</td>\n",
       "      <td>...</td>\n",
       "      <td>1995-12-22</td>\n",
       "      <td>0</td>\n",
       "      <td>101.0</td>\n",
       "      <td>[{'iso_639_1': 'en', 'name': 'English'}]</td>\n",
       "      <td>Released</td>\n",
       "      <td>Still Yelling. Still Fighting. Still Ready for...</td>\n",
       "      <td>Grumpier Old Men</td>\n",
       "      <td>False</td>\n",
       "      <td>6.5</td>\n",
       "      <td>92</td>\n",
       "    </tr>\n",
       "  </tbody>\n",
       "</table>\n",
       "<p>3 rows × 24 columns</p>\n",
       "</div>"
      ],
      "text/plain": [
       "   adult                              belongs_to_collection    budget  \\\n",
       "0  False  {'id': 10194, 'name': 'Toy Story Collection', ...  30000000   \n",
       "1  False                                                NaN  65000000   \n",
       "2  False  {'id': 119050, 'name': 'Grumpy Old Men Collect...         0   \n",
       "\n",
       "                                              genres  \\\n",
       "0  [{'id': 16, 'name': 'Animation'}, {'id': 35, '...   \n",
       "1  [{'id': 12, 'name': 'Adventure'}, {'id': 14, '...   \n",
       "2  [{'id': 10749, 'name': 'Romance'}, {'id': 35, ...   \n",
       "\n",
       "                               homepage     id    imdb_id original_language  \\\n",
       "0  http://toystory.disney.com/toy-story    862  tt0114709                en   \n",
       "1                                   NaN   8844  tt0113497                en   \n",
       "2                                   NaN  15602  tt0113228                en   \n",
       "\n",
       "     original_title                                           overview  ...  \\\n",
       "0         Toy Story  Led by Woody, Andy's toys live happily in his ...  ...   \n",
       "1           Jumanji  When siblings Judy and Peter discover an encha...  ...   \n",
       "2  Grumpier Old Men  A family wedding reignites the ancient feud be...  ...   \n",
       "\n",
       "  release_date    revenue runtime  \\\n",
       "0   1995-10-30  373554033    81.0   \n",
       "1   1995-12-15  262797249   104.0   \n",
       "2   1995-12-22          0   101.0   \n",
       "\n",
       "                                    spoken_languages    status  \\\n",
       "0           [{'iso_639_1': 'en', 'name': 'English'}]  Released   \n",
       "1  [{'iso_639_1': 'en', 'name': 'English'}, {'iso...  Released   \n",
       "2           [{'iso_639_1': 'en', 'name': 'English'}]  Released   \n",
       "\n",
       "                                             tagline             title  video  \\\n",
       "0                                                NaN         Toy Story  False   \n",
       "1          Roll the dice and unleash the excitement!           Jumanji  False   \n",
       "2  Still Yelling. Still Fighting. Still Ready for...  Grumpier Old Men  False   \n",
       "\n",
       "  vote_average vote_count  \n",
       "0          7.7       5415  \n",
       "1          6.9       2413  \n",
       "2          6.5         92  \n",
       "\n",
       "[3 rows x 24 columns]"
      ]
     },
     "execution_count": 136,
     "metadata": {},
     "output_type": "execute_result"
    }
   ],
   "source": [
    "meta = pd.read_csv(\"movies_metadata.csv\", dtype=str)\n",
    "meta.head(3)"
   ]
  },
  {
   "cell_type": "code",
   "execution_count": 141,
   "metadata": {},
   "outputs": [
    {
     "data": {
      "text/plain": [
       "Int64Index([     1,      2,      3,      4,      5,      6,      7,      8,\n",
       "                 9,     10,\n",
       "            ...\n",
       "            159858, 160438, 160563, 160567, 160590, 160718, 161944, 162376,\n",
       "            162542, 163949],\n",
       "           dtype='int64', name='movieId', length=6531)"
      ]
     },
     "execution_count": 141,
     "metadata": {},
     "output_type": "execute_result"
    }
   ],
   "source": [
    "top200ratings = pvt.sum(axis=0).sort_values(ascending=False)\n",
    "top200ratings = top200ratings.loc[:200].index.sort_values()\n",
    "top200ratings"
   ]
  },
  {
   "cell_type": "code",
   "execution_count": 153,
   "metadata": {},
   "outputs": [
    {
     "data": {
      "text/html": [
       "<div>\n",
       "<style scoped>\n",
       "    .dataframe tbody tr th:only-of-type {\n",
       "        vertical-align: middle;\n",
       "    }\n",
       "\n",
       "    .dataframe tbody tr th {\n",
       "        vertical-align: top;\n",
       "    }\n",
       "\n",
       "    .dataframe thead th {\n",
       "        text-align: right;\n",
       "    }\n",
       "</style>\n",
       "<table border=\"1\" class=\"dataframe\">\n",
       "  <thead>\n",
       "    <tr style=\"text-align: right;\">\n",
       "      <th></th>\n",
       "      <th>id</th>\n",
       "      <th>original_title</th>\n",
       "    </tr>\n",
       "  </thead>\n",
       "  <tbody>\n",
       "    <tr>\n",
       "      <th>5</th>\n",
       "      <td>949</td>\n",
       "      <td>Heat</td>\n",
       "    </tr>\n",
       "    <tr>\n",
       "      <th>14</th>\n",
       "      <td>1408</td>\n",
       "      <td>Cutthroat Island</td>\n",
       "    </tr>\n",
       "    <tr>\n",
       "      <th>15</th>\n",
       "      <td>524</td>\n",
       "      <td>Casino</td>\n",
       "    </tr>\n",
       "    <tr>\n",
       "      <th>16</th>\n",
       "      <td>4584</td>\n",
       "      <td>Sense and Sensibility</td>\n",
       "    </tr>\n",
       "    <tr>\n",
       "      <th>17</th>\n",
       "      <td>5</td>\n",
       "      <td>Four Rooms</td>\n",
       "    </tr>\n",
       "  </tbody>\n",
       "</table>\n",
       "</div>"
      ],
      "text/plain": [
       "      id         original_title\n",
       "5    949                   Heat\n",
       "14  1408       Cutthroat Island\n",
       "15   524                 Casino\n",
       "16  4584  Sense and Sensibility\n",
       "17     5             Four Rooms"
      ]
     },
     "execution_count": 153,
     "metadata": {},
     "output_type": "execute_result"
    }
   ],
   "source": [
    "myfilms = meta.loc[meta[\"id\"].isin(top200ratings.astype(\"string\")), [\"id\", \"original_title\"]]\n",
    "myfilms.head()"
   ]
  },
  {
   "cell_type": "code",
   "execution_count": 154,
   "metadata": {},
   "outputs": [
    {
     "data": {
      "text/html": [
       "<div>\n",
       "<style scoped>\n",
       "    .dataframe tbody tr th:only-of-type {\n",
       "        vertical-align: middle;\n",
       "    }\n",
       "\n",
       "    .dataframe tbody tr th {\n",
       "        vertical-align: top;\n",
       "    }\n",
       "\n",
       "    .dataframe thead th {\n",
       "        text-align: right;\n",
       "    }\n",
       "</style>\n",
       "<table border=\"1\" class=\"dataframe\">\n",
       "  <thead>\n",
       "    <tr style=\"text-align: right;\">\n",
       "      <th></th>\n",
       "      <th>id</th>\n",
       "      <th>original_title</th>\n",
       "    </tr>\n",
       "  </thead>\n",
       "  <tbody>\n",
       "    <tr>\n",
       "      <th>0</th>\n",
       "      <td>2</td>\n",
       "      <td>Ariel</td>\n",
       "    </tr>\n",
       "    <tr>\n",
       "      <th>1</th>\n",
       "      <td>3</td>\n",
       "      <td>Varjoja paratiisissa</td>\n",
       "    </tr>\n",
       "    <tr>\n",
       "      <th>2</th>\n",
       "      <td>5</td>\n",
       "      <td>Four Rooms</td>\n",
       "    </tr>\n",
       "    <tr>\n",
       "      <th>3</th>\n",
       "      <td>6</td>\n",
       "      <td>Judgment Night</td>\n",
       "    </tr>\n",
       "    <tr>\n",
       "      <th>4</th>\n",
       "      <td>11</td>\n",
       "      <td>Star Wars</td>\n",
       "    </tr>\n",
       "    <tr>\n",
       "      <th>...</th>\n",
       "      <td>...</td>\n",
       "      <td>...</td>\n",
       "    </tr>\n",
       "    <tr>\n",
       "      <th>95</th>\n",
       "      <td>163</td>\n",
       "      <td>Ocean's Twelve</td>\n",
       "    </tr>\n",
       "    <tr>\n",
       "      <th>96</th>\n",
       "      <td>164</td>\n",
       "      <td>Breakfast at Tiffany's</td>\n",
       "    </tr>\n",
       "    <tr>\n",
       "      <th>97</th>\n",
       "      <td>165</td>\n",
       "      <td>Back to the Future Part II</td>\n",
       "    </tr>\n",
       "    <tr>\n",
       "      <th>98</th>\n",
       "      <td>166</td>\n",
       "      <td>La Boum</td>\n",
       "    </tr>\n",
       "    <tr>\n",
       "      <th>99</th>\n",
       "      <td>168</td>\n",
       "      <td>Star Trek IV: The Voyage Home</td>\n",
       "    </tr>\n",
       "  </tbody>\n",
       "</table>\n",
       "<p>100 rows × 2 columns</p>\n",
       "</div>"
      ],
      "text/plain": [
       "     id                 original_title\n",
       "0     2                          Ariel\n",
       "1     3           Varjoja paratiisissa\n",
       "2     5                     Four Rooms\n",
       "3     6                 Judgment Night\n",
       "4    11                      Star Wars\n",
       "..  ...                            ...\n",
       "95  163                 Ocean's Twelve\n",
       "96  164         Breakfast at Tiffany's\n",
       "97  165     Back to the Future Part II\n",
       "98  166                        La Boum\n",
       "99  168  Star Trek IV: The Voyage Home\n",
       "\n",
       "[100 rows x 2 columns]"
      ]
     },
     "execution_count": 154,
     "metadata": {},
     "output_type": "execute_result"
    }
   ],
   "source": [
    "myfilms['id'] = myfilms['id'].astype(int)\n",
    "myfilms = myfilms.sort_values(by=\"id\")\n",
    "myfilms = myfilms.reset_index()\n",
    "mytop100 = myfilms[['id', 'original_title']][:100]\n",
    "mytop100"
   ]
  },
  {
   "cell_type": "code",
   "execution_count": 155,
   "metadata": {},
   "outputs": [
    {
     "data": {
      "text/plain": [
       "array([[0., 0., 0., ..., 0., 0., 0.],\n",
       "       [0., 0., 0., ..., 3., 0., 3.],\n",
       "       [0., 0., 0., ..., 0., 0., 0.],\n",
       "       ...,\n",
       "       [0., 0., 0., ..., 0., 0., 0.],\n",
       "       [0., 0., 0., ..., 0., 0., 0.],\n",
       "       [0., 0., 0., ..., 0., 0., 0.]])"
      ]
     },
     "execution_count": 155,
     "metadata": {},
     "output_type": "execute_result"
    }
   ],
   "source": [
    "X = pvt.loc[:,mytop100['id'].sort_values()].to_numpy()\n",
    "X"
   ]
  },
  {
   "cell_type": "code",
   "execution_count": 158,
   "metadata": {
    "collapsed": true,
    "jupyter": {
     "outputs_hidden": true
    },
    "tags": []
   },
   "outputs": [
    {
     "data": {
      "text/plain": [
       "{0: 'Ariel',\n",
       " 1: 'Varjoja paratiisissa',\n",
       " 2: 'Four Rooms',\n",
       " 3: 'Judgment Night',\n",
       " 4: 'Star Wars',\n",
       " 5: 'Finding Nemo',\n",
       " 6: 'Forrest Gump',\n",
       " 7: 'American Beauty',\n",
       " 8: 'Citizen Kane',\n",
       " 9: 'Dancer in the Dark',\n",
       " 10: 'The Dark',\n",
       " 11: 'The Fifth Element',\n",
       " 12: 'Metropolis',\n",
       " 13: 'My Life Without Me',\n",
       " 14: 'The Endless Summer',\n",
       " 15: 'Pirates of the Caribbean: The Curse of the Black Pearl',\n",
       " 16: 'Kill Bill: Vol. 1',\n",
       " 17: 'Jarhead',\n",
       " 18: 'LaLehet Al HaMayim',\n",
       " 19: '9 Songs',\n",
       " 20: 'Apocalypse Now',\n",
       " 21: '彼女の想いで',\n",
       " 22: 'The Simpsons Movie',\n",
       " 23: 'Eternal Sunshine of the Spotless Mind',\n",
       " 24: 'Amores perros',\n",
       " 25: \"Pirates of the Caribbean: Dead Man's Chest\",\n",
       " 26: 'A History of Violence',\n",
       " 27: '2001: A Space Odyssey',\n",
       " 28: 'Twelve Monkeys',\n",
       " 29: 'Hable con ella',\n",
       " 30: '8 Mile',\n",
       " 31: 'Absolute Power',\n",
       " 32: 'Brazil',\n",
       " 33: 'Walk the Line',\n",
       " 34: 'Million Dollar Baby',\n",
       " 35: 'Billy Elliot',\n",
       " 36: 'American History X',\n",
       " 37: 'War of the Worlds',\n",
       " 38: 'Before Sunrise',\n",
       " 39: 'Memento',\n",
       " 40: 'Blade Runner',\n",
       " 41: '英雄',\n",
       " 42: 'Before Sunset',\n",
       " 43: '風の谷のナウシカ',\n",
       " 44: 'Miami Vice',\n",
       " 45: 'Open Water',\n",
       " 46: 'Raiders of the Lost Ark',\n",
       " 47: 'Elementarteilchen',\n",
       " 48: 'Indiana Jones and the Temple of Doom',\n",
       " 49: 'Dirty Dancing',\n",
       " 50: 'Indiana Jones and the Last Crusade',\n",
       " 51: 'Megacities',\n",
       " 52: 'Anatomy of a Murder',\n",
       " 53: 'Armageddon',\n",
       " 54: 'Tron',\n",
       " 55: 'Todo sobre mi madre',\n",
       " 56: 'Lock, Stock and Two Smoking Barrels',\n",
       " 57: 'Léon',\n",
       " 58: 'Elsker dig for evigt',\n",
       " 59: 'Taxi Driver',\n",
       " 60: 'Lola rennt',\n",
       " 61: 'Back to the Future',\n",
       " 62: 'Snatch',\n",
       " 63: 'Trois couleurs : Rouge',\n",
       " 64: 'Scarface',\n",
       " 65: 'Italiensk for begyndere',\n",
       " 66: '봄 여름 가을 겨울 그리고 봄',\n",
       " 67: 'Match Point',\n",
       " 68: 'The Untouchables',\n",
       " 69: 'Charlie and the Chocolate Factory',\n",
       " 70: 'The Lord of the Rings: The Two Towers',\n",
       " 71: 'The Lord of the Rings: The Return of the King',\n",
       " 72: 'The Lord of the Rings',\n",
       " 73: 'The Rolling Stones: Gimme Shelter',\n",
       " 74: 'Dont Look Back',\n",
       " 75: 'La mala educación',\n",
       " 76: 'Donnie Darko',\n",
       " 77: 'Der Himmel über Berlin',\n",
       " 78: 'Breaking the Waves',\n",
       " 79: '卧虎藏龙',\n",
       " 80: 'Les Quatre Cents Coups',\n",
       " 81: 'The Secret Life of Words',\n",
       " 82: 'アキラ',\n",
       " 83: '48 Hrs.',\n",
       " 84: 'Star Trek: The Motion Picture',\n",
       " 85: 'Lost in Translation',\n",
       " 86: 'Star Trek II: The Wrath of Khan',\n",
       " 87: 'The Dark Knight',\n",
       " 88: 'Wilbur begår selvmord',\n",
       " 89: 'Star Trek III: The Search for Spock',\n",
       " 90: \"Knockin' on Heaven's Door\",\n",
       " 91: 'Der bewegte Mann',\n",
       " 92: \"L'arrivée d'un train en gare de La Ciotat\",\n",
       " 93: \"Ocean's Eleven\",\n",
       " 94: 'Edward Scissorhands',\n",
       " 95: \"Ocean's Twelve\",\n",
       " 96: \"Breakfast at Tiffany's\",\n",
       " 97: 'Back to the Future Part II',\n",
       " 98: 'La Boum',\n",
       " 99: 'Star Trek IV: The Voyage Home'}"
      ]
     },
     "execution_count": 158,
     "metadata": {},
     "output_type": "execute_result"
    }
   ],
   "source": [
    "ids_titles = mytop100['original_title'].to_dict()\n",
    "ids_titles"
   ]
  },
  {
   "cell_type": "markdown",
   "metadata": {
    "id": "ALUYaZQKFZDc"
   },
   "source": [
    "На выходе у нас две сокращенных структуры.\n",
    "\n",
    "1. X -- матрица оценок. Каждой строчке соответствует пользователь, а каждому столбцу соответствует фильм.\n",
    "2. ids_titles -- словарь, в котором каждому номеру столбца из матрицы X сопоставляется название фильма. Пригодится нам для красивого отображения рекомендаций."
   ]
  },
  {
   "cell_type": "markdown",
   "metadata": {
    "id": "hlVMQBAcFvrD"
   },
   "source": [
    "Мы рассмотрим с вами два варианта решения. Сначала напишем все так, будто numpy тут вообще ни при чем, а затем отдельными кусками покажем, как то же самое можно было сделать с помощью операций с матрицами и векторами."
   ]
  },
  {
   "cell_type": "markdown",
   "metadata": {
    "id": "jXbH0iTDHvTg"
   },
   "source": [
    "### Вариант 1"
   ]
  },
  {
   "cell_type": "code",
   "execution_count": null,
   "metadata": {
    "id": "1V7zy4B7HxKk"
   },
   "outputs": [],
   "source": [
    "def get_similarities(X, ID):\n",
    "    \"\"\"\n",
    "    Возвращает меру похожести всех пользователей с выбранным нами пользователем с id ID.\n",
    "    ID также участвует в вычислениях, специально его исключать не нужно.\n",
    "    \"\"\"\n",
    "    res = []\n",
    "    vec = X[ID]\n",
    "    \n",
    "    for row in X:\n",
    "        # TODO: сначала надо посчитать числитель\n",
    "        # TODO: затем квадраты модулей каждого вектора\n",
    "        # TODO: затем квадраты модулей каждого вектора\n",
    "        # и затем добавить результат вычисления в возвращаемый список\n",
    "        res.append(dot / ((np.sqrt(module_row) + 0.0000001)*(np.sqrt(module_id) + 0.0000001)))\n",
    "\n",
    "    return res\n",
    "\n",
    "\n",
    "def get_top_similarities_uids(similarities, N):\n",
    "    \"\"\"\n",
    "    Имея список похожестей для нашего пользователя, нужно выбрать топ N id пользователей \n",
    "    по которым мы будем делать предсказание для нашего пользователя ID.\n",
    "    \"\"\"\n",
    "    uids_similarities = list(zip(range(len(similarities)), similarities))\n",
    "    uids_similarities = sorted(uids_similarities, key=lambda pair: pair[1], reverse=True)\n",
    "\n",
    "    # здесь мы берем топ N похожих пользователей. Первого мы пропускаем, поскольку это сам пользователь\n",
    "    top_uids = [pair[0] for pair in uids_similarities[1:N+1]]\n",
    "    return top_uids\n",
    "\n",
    "\n",
    "def get_recommendation(X, similarities, top_uids):\n",
    "    \"\"\"\n",
    "    Возвращает список рекоммендаций, отсортированных от наиболее подходящих к наименее подходящим, \n",
    "    а также словарь в котором каждому id фильма сопоставлен score (значение r)\n",
    "    \"\"\"\n",
    "    similarities_cut = []\n",
    "    X_cut = []\n",
    "    # TODO: отфильтруйте X и similarities по топовым пользователям\n",
    "\n",
    "\n",
    "    # TODO: вычислите нормировочный коэффициент k\n",
    "\n",
    "    prediction = []\n",
    "    # TODO: заполните список предсказаний\n",
    "\n",
    "\n",
    "    # просто формируем из списка предсказаний возвращаемые структуры\n",
    "    prediction_dict = dict(zip(range(0, len(prediction)), prediction,))\n",
    "    top_recommendations = sorted(prediction_dict, key=lambda k: prediction_dict[k], reverse=True)\n",
    "    \n",
    "    return top_recommendations, prediction_dict\n",
    "\n",
    "\n",
    "def print_recommendations(X,\n",
    "                          ID, \n",
    "                          top_recommendations,\n",
    "                          scores_dict,\n",
    "                          ids_titles,\n",
    "                          max_recommendations=5\n",
    "                          ):\n",
    "    \"\"\"\n",
    "    Печатает на экран фильмы, которые пользователь смотрел и список рекомендаций, но не более\n",
    "    max_recommendations.\n",
    "    \"\"\"\n",
    "    print(\"Смотрел\")\n",
    "\n",
    "    for idx, rate in enumerate(X[ID]):\n",
    "        if rate > 0:\n",
    "        print(ids_titles[idx], rate)\n",
    "\n",
    "    print()\n",
    "    print()\n",
    "\n",
    "    print(\"Не смотрел\")\n",
    "    rec_showed = 0\n",
    "    for movieid in top_recommendations:\n",
    "        if X[ID, movieid] > 0:\n",
    "            continue\n",
    "        else:\n",
    "            rec_showed += 1\n",
    "        print(f\"{ids_titles[movieid]}, {scores_dict[movieid]:.2f}\")\n",
    "        if rec_showed == max_recommendations:\n",
    "            break"
   ]
  },
  {
   "cell_type": "code",
   "execution_count": null,
   "metadata": {
    "colab": {
     "base_uri": "https://localhost:8080/"
    },
    "executionInfo": {
     "elapsed": 352,
     "status": "ok",
     "timestamp": 1660830313498,
     "user": {
      "displayName": "Дмитрий Денисенко",
      "userId": "17721498818503924232"
     },
     "user_tz": -180
    },
    "id": "Kxineptv8oW4",
    "outputId": "2cc86784-1c66-421b-ad1d-aa5c763a2222"
   },
   "outputs": [
    {
     "data": {
      "text/plain": [
       "array([0., 5., 0., 0., 0., 0., 0., 5., 0., 0., 5., 4., 4., 0., 0., 0., 0.,\n",
       "       5., 0., 0., 5., 5., 0., 4., 5., 0., 0., 0., 0., 4., 0., 4., 4., 0.,\n",
       "       0., 0., 4., 5., 0., 0., 4., 0., 0., 0., 0., 0., 0., 0., 4., 4., 0.,\n",
       "       0., 4., 4., 0., 0., 4., 0., 0., 0., 0., 0., 0., 0., 0., 0., 0., 0.,\n",
       "       0., 0., 0., 0., 0., 0., 0., 0., 0., 0., 0., 4., 0., 0., 0., 0., 0.,\n",
       "       0., 5., 0., 0., 5., 0., 0., 2., 0., 0., 4., 0., 0., 0., 5.])"
      ]
     },
     "execution_count": 95,
     "metadata": {},
     "output_type": "execute_result"
    }
   ],
   "source": [
    "# ID пользователя для которого будем делать рекомендации\n",
    "ID = 200\n",
    "N = 5 # X.shape[0] # топ N ближайших пользователей\n",
    "X[ID]"
   ]
  },
  {
   "cell_type": "code",
   "execution_count": null,
   "metadata": {
    "colab": {
     "base_uri": "https://localhost:8080/"
    },
    "executionInfo": {
     "elapsed": 4,
     "status": "ok",
     "timestamp": 1660830313893,
     "user": {
      "displayName": "Дмитрий Денисенко",
      "userId": "17721498818503924232"
     },
     "user_tz": -180
    },
    "id": "dc_B9-rn_PPW",
    "outputId": "f67ad121-c086-45f8-a7f2-b85b8d6bb0fb"
   },
   "outputs": [
    {
     "name": "stdout",
     "output_type": "stream",
     "text": [
      "Смотрел\n",
      "Judgment Night 5.0\n",
      "Trois couleurs : Rouge 5.0\n",
      "48 Hrs. 5.0\n",
      "Lost in Translation 4.0\n",
      "Back to the Future Part II 4.0\n",
      "The 39 Steps 5.0\n",
      "A River Runs Through It 5.0\n",
      "Terminator 3: Rise of the Machines 5.0\n",
      "Halbe Treppe 4.0\n",
      "The Million Dollar Hotel 5.0\n",
      "Crustacés et coquillages 4.0\n",
      "A Nightmare on Elm Street 4.0\n",
      "Rain Man 4.0\n",
      "Sissi 4.0\n",
      "Monsoon Wedding 5.0\n",
      "Once Were Warriors 4.0\n",
      "The Conversation 4.0\n",
      "Солярис 4.0\n",
      "Men in Black II 4.0\n",
      "La belle et la bête 4.0\n",
      "La passion de Jeanne d'Arc 4.0\n",
      "Qui a tué Bambi ? 4.0\n",
      "Light of Day 5.0\n",
      "Reign Over Me 5.0\n",
      "Young and Innocent 2.0\n",
      "The Searchers 4.0\n",
      "And Then There Were None 5.0\n",
      "\n",
      "\n",
      "Не смотрел\n",
      "The Hours, 2.20\n",
      "Silent Hill, 2.17\n",
      "Say Anything..., 1.79\n",
      "Live and Let Die, 1.71\n",
      "The Dark, 1.60\n"
     ]
    }
   ],
   "source": [
    "%%time\n",
    "similarities = get_similarities(X, ID)\n",
    "top_uids = get_top_similarities_uids(similarities, N)\n",
    "top_recommendations, scores_dict = get_recommendation(X, similarities, top_uids)\n",
    "print_recommendations(X, ID, top_recommendations, scores_dict, ids_titles)"
   ]
  },
  {
   "cell_type": "markdown",
   "metadata": {
    "id": "AcnqRB6CLp1o"
   },
   "source": [
    "### Вариант 2\n",
    "C использованием numpy и матричного умножения"
   ]
  },
  {
   "cell_type": "code",
   "execution_count": 159,
   "metadata": {
    "id": "qZUBJ7IF-ZIT"
   },
   "outputs": [],
   "source": [
    "def get_similarities(X, ID):\n",
    "    \"\"\"\n",
    "    Возвращает меру похожести всех пользователей с выбранным нами пользователем с id ID.\n",
    "    ID также участвует в вычислениях, специально его исключать не нужно.\n",
    "    \"\"\"\n",
    "    pass\n",
    "    return cosines\n",
    "\n",
    "def get_recommendation(X, similarities, top_uids):\n",
    "    \"\"\"\n",
    "    Возвращает список рекоммендаций, отсортированных от наиболее подходящих к наименее подходящим, \n",
    "    а также словарь в котором каждому id фильма сопоставлен score (значение r)\n",
    "    \"\"\"\n",
    "    pass\n",
    "    prediction_dict = dict(zip(range(0, len(prediction)), prediction,))\n",
    "    top_recommendations = sorted(prediction_dict, key=lambda k: prediction_dict[k], reverse=True)\n",
    "    return top_recommendations, prediction_dict"
   ]
  },
  {
   "cell_type": "code",
   "execution_count": null,
   "metadata": {
    "colab": {
     "base_uri": "https://localhost:8080/"
    },
    "executionInfo": {
     "elapsed": 352,
     "status": "ok",
     "timestamp": 1660830313498,
     "user": {
      "displayName": "Дмитрий Денисенко",
      "userId": "17721498818503924232"
     },
     "user_tz": -180
    },
    "id": "_2c6kzXcO1y_",
    "outputId": "2cc86784-1c66-421b-ad1d-aa5c763a2222"
   },
   "outputs": [
    {
     "data": {
      "text/plain": [
       "array([0., 5., 0., 0., 0., 0., 0., 5., 0., 0., 5., 4., 4., 0., 0., 0., 0.,\n",
       "       5., 0., 0., 5., 5., 0., 4., 5., 0., 0., 0., 0., 4., 0., 4., 4., 0.,\n",
       "       0., 0., 4., 5., 0., 0., 4., 0., 0., 0., 0., 0., 0., 0., 4., 4., 0.,\n",
       "       0., 4., 4., 0., 0., 4., 0., 0., 0., 0., 0., 0., 0., 0., 0., 0., 0.,\n",
       "       0., 0., 0., 0., 0., 0., 0., 0., 0., 0., 0., 4., 0., 0., 0., 0., 0.,\n",
       "       0., 5., 0., 0., 5., 0., 0., 2., 0., 0., 4., 0., 0., 0., 5.])"
      ]
     },
     "execution_count": 95,
     "metadata": {},
     "output_type": "execute_result"
    }
   ],
   "source": [
    "# ID пользователя для которого будем делать рекомендации\n",
    "ID = 200\n",
    "N = 5 # X.shape[0] # топ N ближайших пользователей\n",
    "X[ID]"
   ]
  },
  {
   "cell_type": "code",
   "execution_count": null,
   "metadata": {
    "colab": {
     "base_uri": "https://localhost:8080/"
    },
    "executionInfo": {
     "elapsed": 4,
     "status": "ok",
     "timestamp": 1660830313893,
     "user": {
      "displayName": "Дмитрий Денисенко",
      "userId": "17721498818503924232"
     },
     "user_tz": -180
    },
    "id": "RilUg0r4O1y_",
    "outputId": "f67ad121-c086-45f8-a7f2-b85b8d6bb0fb"
   },
   "outputs": [
    {
     "name": "stdout",
     "output_type": "stream",
     "text": [
      "Смотрел\n",
      "Judgment Night 5.0\n",
      "Trois couleurs : Rouge 5.0\n",
      "48 Hrs. 5.0\n",
      "Lost in Translation 4.0\n",
      "Back to the Future Part II 4.0\n",
      "The 39 Steps 5.0\n",
      "A River Runs Through It 5.0\n",
      "Terminator 3: Rise of the Machines 5.0\n",
      "Halbe Treppe 4.0\n",
      "The Million Dollar Hotel 5.0\n",
      "Crustacés et coquillages 4.0\n",
      "A Nightmare on Elm Street 4.0\n",
      "Rain Man 4.0\n",
      "Sissi 4.0\n",
      "Monsoon Wedding 5.0\n",
      "Once Were Warriors 4.0\n",
      "The Conversation 4.0\n",
      "Солярис 4.0\n",
      "Men in Black II 4.0\n",
      "La belle et la bête 4.0\n",
      "La passion de Jeanne d'Arc 4.0\n",
      "Qui a tué Bambi ? 4.0\n",
      "Light of Day 5.0\n",
      "Reign Over Me 5.0\n",
      "Young and Innocent 2.0\n",
      "The Searchers 4.0\n",
      "And Then There Were None 5.0\n",
      "\n",
      "\n",
      "Не смотрел\n",
      "The Hours, 2.20\n",
      "Silent Hill, 2.17\n",
      "Say Anything..., 1.79\n",
      "Live and Let Die, 1.71\n",
      "The Dark, 1.60\n"
     ]
    }
   ],
   "source": [
    "%%time\n",
    "similarities = get_similarities(X, ID)\n",
    "top_uids = get_top_similarities_uids(similarities, N)\n",
    "top_recommendations, scores_dict = get_recommendation(X, similarities, top_uids)\n",
    "print_recommendations(X, ID, top_recommendations, scores_dict, ids_titles)"
   ]
  },
  {
   "cell_type": "markdown",
   "metadata": {
    "id": "Z1q8S8oMeApH"
   },
   "source": [
    "# Подведем итог того, что мы узнали\n",
    "\n",
    "1. **Узнали:** Как численно считать производные функций.  \n",
    "    **Как будем использовать:** Будем находить минимумы (н-р расходы) и максимумы (н-р доходы).\n",
    "\n",
    "2. **Узнали:** Что такое матрицы, вектора и операции над ними.  \n",
    "    **Как будем использовать:** Многие алгоритмы ML и DL работают на этих принципах. Будем разбираться, как все устроено, и даже применим простые знания из линейной алгебры, чтобы сделать алгоритм рекомендаций."
   ]
  },
  {
   "cell_type": "code",
   "execution_count": null,
   "metadata": {
    "id": "tTpu0mc1WKOb"
   },
   "outputs": [],
   "source": []
  }
 ],
 "metadata": {
  "colab": {
   "collapsed_sections": [],
   "provenance": [
    {
     "file_id": "1q7A5Amvzqq7rzrIzPnjJybM0zVhipqvC",
     "timestamp": 1660293430616
    }
   ]
  },
  "kernelspec": {
   "display_name": "Python 3 (ipykernel)",
   "language": "python",
   "name": "python3"
  },
  "language_info": {
   "codemirror_mode": {
    "name": "ipython",
    "version": 3
   },
   "file_extension": ".py",
   "mimetype": "text/x-python",
   "name": "python",
   "nbconvert_exporter": "python",
   "pygments_lexer": "ipython3",
   "version": "3.11.0"
  }
 },
 "nbformat": 4,
 "nbformat_minor": 4
}
