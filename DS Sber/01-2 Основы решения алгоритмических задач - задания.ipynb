{
 "cells": [
  {
   "cell_type": "markdown",
   "id": "7a87384b",
   "metadata": {},
   "source": [
    "# ОСНОВЫ РЕШЕНИЯ АЛГОРИТМИЧЕСКИХ ЗАДАЧ - Задания\n",
    "### 1. Поиск наибольшего числа"
   ]
  },
  {
   "cell_type": "code",
   "execution_count": null,
   "id": "6215f823",
   "metadata": {},
   "outputs": [],
   "source": [
    "# 1. Поиск наибольшего числа\n",
    "\n",
    "алг макс_число\n",
    "  нач\n",
    "  ввод arr[45, 75, 2, -2, 3, 94, 5, 34]\n",
    "  max = arr[0]\n",
    "  для i от 0 до (длина(arr) - 1):\n",
    "    если i < длина(arr):\n",
    "      если arr[i] > max:\n",
    "        max = arr[i]\n",
    "      иначе:\n",
    "        i = i + 1\n",
    "  вывод arr\n",
    "  кон\n"
   ]
  },
  {
   "cell_type": "markdown",
   "id": "7200238c",
   "metadata": {},
   "source": [
    "### 2. Сортировка выбором"
   ]
  },
  {
   "cell_type": "code",
   "execution_count": 3,
   "id": "461b88cb",
   "metadata": {},
   "outputs": [
    {
     "name": "stdout",
     "output_type": "stream",
     "text": [
      "[-2, 1, 8, 9, 12, 13, 17, 19, 21, 24, 100]\n"
     ]
    }
   ],
   "source": [
    "# 2. Сортировка выбором\n",
    "\n",
    "arr = [100, 9, 21, 8, 17, 19, 13, 1, 24, 12, -2]\n",
    "min_id = arr[0]\n",
    "\n",
    "''' \n",
    "Variable i is the number of the bigger cycle which is equal to the element's index. This element is to be compared\n",
    "to the other elements during the cycle.\n",
    "Variable j is the number of the internal cycle and is equal to the elements' indices that are compared to the i element.\n",
    "These two variables starts from the opposite sides of the list, and the cycle stops when they meet, i.e. all the \n",
    "elements have been compared to each other - next cycle starts.\n",
    "'''\n",
    "\n",
    "i = 0\n",
    "while i < len(arr) - 1:        # we keep the process going while i is less than length of list, not incl. last element\n",
    "    min_id = arr[i]            # each bigger cycle we assign the minimum equal to element with index [0]\n",
    "    j = len(arr) - 1           # j goes \"backwards\" to i so they meet in the end and\n",
    "    while j > i:               # the process stops when j gets equal to i\n",
    "        if arr[j] < min_id:    # if j is less than the minimum:\n",
    "            min_id = arr[j]    # 1) the minimum gets j value\n",
    "            temp = arr[i]      # 2) j and i switch their places\n",
    "            arr[i] = arr[j]\n",
    "            arr[j] = temp\n",
    "#         print(i, j)\n",
    "        j -= 1                 # when element j is compared index j gets j-1 value and picks a new j from the list\n",
    "    i += 1                     # when element i is compared to each element j index i gets i+1, new bigger loop starts \n",
    "print(arr)\n"
   ]
  },
  {
   "cell_type": "markdown",
   "id": "48260b7c",
   "metadata": {},
   "source": [
    "### 3. Поиск ближайших одинаковых чисел в массиве\n",
    "На вход подается массив целых чисел.\n",
    "Необходимо найти наименьшее расстояние между двумя повторяющимися числами. Расстояние находится по формуле: X = |i - j|, где X — искомое расстояние, i — индекс первого числа в массиве, j — индекс второго числа в массиве. При этом a[i] = a[j]. Если повторяющихся чисел нет, тогда ответ будет равен 0.\n",
    "\n",
    "Пример. На вход подается массив a[1, 2, 3, 4, 2, 1, 2].\n",
    "\n",
    "Найдем повторяющиеся числа и расстояние между ними:\n",
    "\n",
    "a[0] = 1, a[5] = 1; X = |0-5| = 5;\n",
    "\n",
    "a[1] = 2, a[4] = 2; X = |1-4| = 3;\n",
    "\n",
    "a[1] = 2, a[6] = 2; X = |1-6| = 5;\n",
    "\n",
    "a[4] = 2, a[6] = 2; X = |4 - 6| = 2.\n",
    "\n",
    "В итоге видно, что наименьшее расстояние — X = 2."
   ]
  },
  {
   "cell_type": "code",
   "execution_count": 4,
   "id": "9512407c",
   "metadata": {},
   "outputs": [
    {
     "name": "stdout",
     "output_type": "stream",
     "text": [
      "i=0 j=5 x=5\n",
      "i=1 j=6 x=5\n",
      "i=1 j=4 x=3\n",
      "i=4 j=6 x=2\n",
      "Done\n"
     ]
    }
   ],
   "source": [
    "# 3. Поиск ближайших одинаковых чисел в массиве. Упрощенный.\n",
    "# i и j идут навстречу друг другу с разных концов.\n",
    "\n",
    "lst = [1, 2, 3, 4, 2, 1, 2]\n",
    "\n",
    "i = 0\n",
    "while i < len(lst) - 1:\n",
    "    a = lst[i]\n",
    "#     print(i, a)\n",
    "    j = len(lst) - 1\n",
    "    while j != i:\n",
    "        b = lst[j]\n",
    "        if a == b:\n",
    "            x = abs(i - j)\n",
    "            print('i={0} j={1} x={2}'.format(i, j, x))\n",
    "        j -= 1    \n",
    "    i += 1\n",
    "    \n",
    "print('Done')\n"
   ]
  },
  {
   "cell_type": "code",
   "execution_count": 5,
   "id": "5dd050b8",
   "metadata": {},
   "outputs": [
    {
     "name": "stdout",
     "output_type": "stream",
     "text": [
      "i=0 j=5: x=5\n",
      "i=1 j=6: x=5\n",
      "i=1 j=4: x=3\n",
      "i=4 j=6: x=2\n",
      "Minimum: 2\n",
      "Done\n"
     ]
    }
   ],
   "source": [
    "# 3-1. Поиск ближайших одинаковых чисел в массиве\n",
    "# i и j идут навстречу друг другу с разных концов. Определяется минимальное значение x.\n",
    "\n",
    "lst = [1, 2, 3, 4, 2, 1, 2]\n",
    "min_x = None\n",
    "\n",
    "i = 0\n",
    "while i < len(lst) - 1:\n",
    "    a = lst[i]\n",
    "#     print(i, a)\n",
    "    j = len(lst) - 1\n",
    "    while j != i:\n",
    "        b = lst[j]        \n",
    "        if a == b:\n",
    "            x = abs(i - j)\n",
    "            print('i={0} j={1}: x={2}'.format(i, j, x))\n",
    "            if min_x is None or min_x > x:\n",
    "                min_x = x\n",
    "        j -= 1    \n",
    "    i += 1\n",
    "\n",
    "print('Minimum:', min_x)\n",
    "print('Done')\n"
   ]
  },
  {
   "cell_type": "code",
   "execution_count": 6,
   "id": "49f8feec",
   "metadata": {},
   "outputs": [
    {
     "name": "stdout",
     "output_type": "stream",
     "text": [
      "i=0 j=5: x=5\n",
      "i=1 j=4: x=3\n",
      "i=1 j=6: x=5\n",
      "i=4 j=6: x=2\n",
      "Minimum: 2\n",
      "Done\n"
     ]
    }
   ],
   "source": [
    "# 3-2. Поиск ближайших одинаковых чисел в массиве\n",
    "# j = i + 1. Определяется минимальное значение x.\n",
    "\n",
    "lst = [1, 2, 3, 4, 2, 1, 2]\n",
    "min_x = None\n",
    "\n",
    "i = 0\n",
    "while i < len(lst) - 1:\n",
    "    a = lst[i]\n",
    "#     print(i, a)\n",
    "    j = i + 1\n",
    "    while j < len(lst):\n",
    "        b = lst[j]        \n",
    "        if a == b:\n",
    "            x = abs(i - j)\n",
    "            print('i={0} j={1}: x={2}'.format(i, j, x))\n",
    "            if min_x is None or min_x > x:\n",
    "                min_x = x\n",
    "        j += 1\n",
    "    i += 1\n",
    "\n",
    "print('Minimum:', min_x)\n",
    "print('Done')\n"
   ]
  },
  {
   "cell_type": "markdown",
   "id": "58a67cbb",
   "metadata": {},
   "source": [
    "### 4. День программиста\n",
    "День программиста празднуется в России в 256-ой день года. Составьте алгоритм, который принимает год и выводит дату, когда празднуется день программиста в данный год.\n",
    "\n",
    "Помните, что в Високосный год дата отличается. Помимо этого, до 1917 года в России официально велось летоисчисление по Юлианскому календарю, а в 1919 был принят Григорианский календарь. Переход с одного календаря на другой произошел 31 января 1918 года, то есть, после 31 января, следующим днем было 14 февраля. Это значит, что в 1918 году 14 февраля был 32-м днем в году, а значит дата дня программиста (которых тогда конечно не было) сильно отличается. \n",
    "\n",
    "Известно еще несколько фактов: в Юлианском календаре любой Високосный год делится на число 4. В Григорианском - Високосный год делится либо только на 400, либо на 4, но при этом не делится на 100.\n",
    "\n",
    "Зная все вышеперечисленные факты, составьте алгоритм, выводящий дату дня программиста в любой год из промежутка между 1700 и 2500."
   ]
  },
  {
   "cell_type": "code",
   "execution_count": 7,
   "id": "b888fec6",
   "metadata": {},
   "outputs": [],
   "source": [
    "# 1. Посчитать дату 256 дня для обычного года. Основа алгоритма.\n",
    "# 2. Ввести в алгоритм три условия: год до 1918 года, 1918 год и с 1919 года.\n",
    "# 3. Для первого и третьего условий прописать условия високосного года и отнять один день. \n",
    "# 4. Для 1918 года прибавить к дате 13 \"потерянных\" дней.\n",
    "# 5. Завести весь алогритм под условие - год между 1700 и 2500 включительно.\n",
    "# 6. Напечатать дату.\n",
    "\n",
    "def programmer_day():\n",
    "    months = {'January': 31, 'February': 28, 'March': 31, 'April': 30, 'May': 31, 'June': 30, 'July': 31, 'August': 31, 'September': 30, 'October': 31, 'November': 30, 'December': 31}\n",
    "    year = int(input('Enter the year between 1700 and 2500: '))\n",
    "    \n",
    "    if (year > 1699) and (year < 2501):                     # основное условие задачи\n",
    "        \n",
    "        day_count = 1                                       # подсчет дней и определение месяца, на который выпадает\n",
    "        for month, day in months.items():                   # день программиста в стандартный год 365 дней\n",
    "            day_count = day_count + day\n",
    "            if day_count > 257:\n",
    "                day_count = day_count - day\n",
    "                break\n",
    "        day = 257 - day_count                               # вычисление точного дня в месяце стандартного года\n",
    "\n",
    "        if (year < 1918) and (year % 4 == 0):               # високосный год до 1918\n",
    "            day = day - 1\n",
    "        elif year == 1918:                                  # только 1918 год\n",
    "            day = day + 13\n",
    "        elif (year > 1918) and ((year % 400 == 0) or (year % 4 == 0)) and (year % 100 != 0):  # високосный год после 1918\n",
    "            day = day - 1      \n",
    "            \n",
    "        return 'Programmer\\'s day in Russia in {0} is on {1} {2}.'.format(year, month, day)\n",
    "    \n",
    "    else:\n",
    "        return 'Choose the year between 1700 and 2500.'    \n"
   ]
  },
  {
   "cell_type": "code",
   "execution_count": 9,
   "id": "71c0f14e",
   "metadata": {},
   "outputs": [
    {
     "name": "stdout",
     "output_type": "stream",
     "text": [
      "Enter the year between 1700 and 2500: 2320\n"
     ]
    },
    {
     "data": {
      "text/plain": [
       "\"Programmer's day in Russia in 2320 is on September 12.\""
      ]
     },
     "execution_count": 9,
     "metadata": {},
     "output_type": "execute_result"
    }
   ],
   "source": [
    "programmer_day()"
   ]
  },
  {
   "cell_type": "markdown",
   "id": "788fb1dd",
   "metadata": {},
   "source": [
    "### 5. Фибоначчи\n",
    "Последовательность чисел Фибоначчи определяется следующим образом:\n",
    "\n",
    "F(0) = F(1) = 1,\n",
    "\n",
    "F(n+1) = F(n)+F(n-1)\n",
    "\n",
    "Составьте алгоритм для вычисления последней цифры n-го элемента последовательности."
   ]
  },
  {
   "cell_type": "code",
   "execution_count": 27,
   "id": "0132736f",
   "metadata": {},
   "outputs": [
    {
     "name": "stdout",
     "output_type": "stream",
     "text": [
      "Enter any number bigger than 1: 22\n",
      "[1, 1, 2, 3, 5, 8, 13, 21, 34, 55, 89, 144, 233, 377, 610, 987, 1597, 2584, 4181, 6765, 10946, 17711, 28657]\n"
     ]
    }
   ],
   "source": [
    "# Fibonacci\n",
    "\n",
    "n = int(input('Enter any number bigger than 1: '))\n",
    "# n = 10\n",
    "\n",
    "if n > 1:    \n",
    "    fib_lst = [1, 1]\n",
    "    for i in range(1, n):\n",
    "        fib = fib_lst[i] + fib_lst[i - 1]\n",
    "        fib_lst.append(fib)\n",
    "    print(fib_lst)\n",
    "else:\n",
    "    print('Incorrect input')\n",
    "    "
   ]
  },
  {
   "cell_type": "code",
   "execution_count": null,
   "id": "685b59dc",
   "metadata": {},
   "outputs": [],
   "source": []
  },
  {
   "cell_type": "code",
   "execution_count": null,
   "id": "fd195968",
   "metadata": {},
   "outputs": [],
   "source": []
  },
  {
   "cell_type": "code",
   "execution_count": null,
   "id": "05595a1b",
   "metadata": {},
   "outputs": [],
   "source": []
  },
  {
   "cell_type": "code",
   "execution_count": null,
   "id": "2b04b5aa",
   "metadata": {},
   "outputs": [],
   "source": []
  },
  {
   "cell_type": "code",
   "execution_count": null,
   "id": "4b8860e1",
   "metadata": {},
   "outputs": [],
   "source": []
  }
 ],
 "metadata": {
  "kernelspec": {
   "display_name": "Python 3 (ipykernel)",
   "language": "python",
   "name": "python3"
  },
  "language_info": {
   "codemirror_mode": {
    "name": "ipython",
    "version": 3
   },
   "file_extension": ".py",
   "mimetype": "text/x-python",
   "name": "python",
   "nbconvert_exporter": "python",
   "pygments_lexer": "ipython3",
   "version": "3.8.13"
  }
 },
 "nbformat": 4,
 "nbformat_minor": 5
}
