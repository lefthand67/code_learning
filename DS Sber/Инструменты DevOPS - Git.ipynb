{
 "cells": [
  {
   "cell_type": "markdown",
   "id": "bd39f9dd",
   "metadata": {},
   "source": [
    "<!DOCTYPE html>\n",
    "<html lang=\"ru\" style=\"\">\n",
    "\n",
    "# ИНСТРУМЕНТЫ DevOPS: GIT"
   ]
  },
  {
   "cell_type": "markdown",
   "id": "9fa10cba",
   "metadata": {},
   "source": [
    "## Конфигурация и справка\n",
    "\n",
    "Системные настройки хранятся в /etc/gitconfig:\n",
    "git config --system\n",
    "\n",
    "Глобальные настройки для пользователя хранятся в ~/.gitconfig:\n",
    "git config --global\n",
    "\n",
    "Локальные настройки хранятся в репозитории в .git/config:\n",
    "git config --local (default)\n",
    "\n",
    "Настройки нижних уровней перекрывают настройки верхней уровней.\n",
    "\n",
    "\n",
    "\n",
    "### Получение справки:\n",
    "\n",
    "$ git help <команда>\n",
    "\n",
    "$ git <команда> --help\n",
    "\n",
    "$ man git-<команда>"
   ]
  },
  {
   "cell_type": "markdown",
   "id": "b114b862",
   "metadata": {},
   "source": [
    "## Создание и клонирование репозитория\n",
    "\n",
    "Создание репозитория\n",
    "$ git init\n",
    "\n",
    "Клонирование существующего репозитория\n",
    "$ git clone https://github.com/libgit2/libgit2\n",
    "\n",
    "Поддерживаемые протоколы:\n",
    "https://, git:// или SSH: user@server:path/to/repo.git"
   ]
  },
  {
   "cell_type": "markdown",
   "id": "a9026767",
   "metadata": {},
   "source": [
    "## Состояния файлов в рабочей директории"
   ]
  },
  {
   "cell_type": "markdown",
   "id": "84ddbd93",
   "metadata": {},
   "source": [
    "<div><img src=\"https://cs.sberbank-school.ru/storage/f0/ad/5b28-f6d9-11e8-9acd-005056011b68/1079ba3f263db959ec9136ab45ab826d/assets/2C0wPILtkcItpWE7_Q4VID9ODgsQIZpfn.png\" alt=\"Состояния файлов в рабочей директории\" style=\"width: 600px; margin-right: 75%\"></div>"
   ]
  },
  {
   "cell_type": "markdown",
   "id": "1bfde146",
   "metadata": {},
   "source": [
    "## Состояния файлов в репозитории\n",
    "\n",
    "Три основных состояния, в которых могут находиться файлы проекта:\n",
    "\n",
    "изменённое (modified) \n",
    "подготовленное (staged) \n",
    "зафиксированное (committed)"
   ]
  },
  {
   "cell_type": "markdown",
   "id": "d453c991",
   "metadata": {},
   "source": [
    "<div><img src=\"https://cs.sberbank-school.ru/storage/f0/ad/5b28-f6d9-11e8-9acd-005056011b68/1079ba3f263db959ec9136ab45ab826d/assets/r1v-nsXyKsCmHrAP_ONJ4wFl2-2MDQTHz.png\" alt=\"Состояния файлов в репозитории\" style=\"width: 600px; margin-right: 75%\"></div>"
   ]
  },
  {
   "cell_type": "code",
   "execution_count": null,
   "id": "284cde3f",
   "metadata": {},
   "outputs": [],
   "source": []
  }
 ],
 "metadata": {
  "kernelspec": {
   "display_name": "Python 3 (ipykernel)",
   "language": "python",
   "name": "python3"
  },
  "language_info": {
   "codemirror_mode": {
    "name": "ipython",
    "version": 3
   },
   "file_extension": ".py",
   "mimetype": "text/x-python",
   "name": "python",
   "nbconvert_exporter": "python",
   "pygments_lexer": "ipython3",
   "version": "3.8.13"
  }
 },
 "nbformat": 4,
 "nbformat_minor": 5
}
