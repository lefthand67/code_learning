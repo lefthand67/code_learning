{
 "cells": [
  {
   "cell_type": "markdown",
   "id": "37a1ec50",
   "metadata": {
    "ExecuteTime": {
     "end_time": "2022-12-15T09:27:40.949816Z",
     "start_time": "2022-12-15T09:27:40.938812Z"
    }
   },
   "source": [
    "Старушка Клавдия Аристарховна заботится о своем здоровье и регулярно посещает поликлиники, проводя там по нескольку часов. Чтобы улучшить качество получаемого медобслуживания, она собрала своих подруг и записала где и сколько каждая из них проводит времени. Свои наблюдения она записала в матрицу, где элемент matrix[i,j] означает количество времени, которая подруга под номером i провела в клинике под номером j. Поскольку Клавдия Аристарховна уверена, что чем дольше сидишь в клинике, тем лучше лечат, то ей нужно найти клинику, в которой ее боевые подруги провели меньше всего времени, чтобы она могла написать жалобу в министерство здравоохранения. Помогите несчастной старушке.\n",
    "\n",
    "**NOTE**: В этой задаче Вам необходимо только реализовать функцию, которая вернет нужный результат. Команды print и input Вам не потребуются."
   ]
  },
  {
   "cell_type": "markdown",
   "id": "eefd4738",
   "metadata": {},
   "source": [
    "Функция, которую необходимо реализовать:"
   ]
  },
  {
   "cell_type": "code",
   "execution_count": 2,
   "id": "8521e6b4",
   "metadata": {
    "ExecuteTime": {
     "end_time": "2022-12-15T09:28:14.149780Z",
     "start_time": "2022-12-15T09:28:14.138691Z"
    }
   },
   "outputs": [],
   "source": [
    "# Решение, Рудаков В.\n",
    "\n",
    "def find_worst_clinic(matrix):\n",
    "    \n",
    "    import numpy as np\n",
    "    m = np.array(matrix).T\n",
    "\n",
    "    minimum = None\n",
    "    clinic_number = None\n",
    "    for i in range(0, len(m)):\n",
    "        number = np.sum(m[i])\n",
    "        if minimum is None or number < minimum:\n",
    "            minimum = number\n",
    "            clinic_number = i\n",
    "        \n",
    "    return clinic_number"
   ]
  },
  {
   "cell_type": "code",
   "execution_count": 3,
   "id": "bde5623b",
   "metadata": {
    "ExecuteTime": {
     "end_time": "2022-12-15T09:28:20.950854Z",
     "start_time": "2022-12-15T09:28:20.938888Z"
    }
   },
   "outputs": [
    {
     "name": "stdout",
     "output_type": "stream",
     "text": [
      "4\n",
      "0\n"
     ]
    }
   ],
   "source": [
    "# Пример решения:\n",
    "matrix = [[19, 16,  9, 10,  8, 12,  7,  7,  8, 16],\n",
    "        [23,  4, 20,  3,  8,  5,  6, 18, 18,  5],\n",
    "        [18, 17, 20, 17,  2, 14, 14,  8, 10,  2],\n",
    "        [ 4, 13, 21, 19, 10, 10,  6,  7,  9,  1],\n",
    "        [20, 16,  2, 13, 11,  6,  1, 17, 13, 18],\n",
    "        [ 9,  5,  6, 15,  3,  6, 22,  6, 15,  4],\n",
    "        [16,  7,  7, 21,  4,  5, 11, 19,  5, 17],\n",
    "        [ 5, 14, 14,  5,  6, 19,  7, 19, 17,  5],\n",
    "        [17,  4,  2, 19, 20, 18, 23,  3, 13, 16],\n",
    "        [15,  4,  4,  5, 10, 21, 12,  7, 11, 16]]\n",
    "\n",
    "\n",
    "\n",
    "print(find_worst_clinic(matrix))\n",
    "\n",
    "# Будет выведено 4\n",
    "\n",
    "\n",
    "matrix = [[ 9,  6,  8, 14, 22,  6,  4, 18, 11,  3],\n",
    "        [ 9,  6, 20, 16,  8,  2,  3, 20,  5,  4],\n",
    "        [15, 11,  8, 19,  2, 17,  5, 12, 21, 14],\n",
    "        [ 8, 19,  2,  2, 13, 12, 10,  4, 19, 22],\n",
    "        [ 6, 15,  9,  8, 19,  6, 20,  1, 21,  3],\n",
    "        [ 2, 18,  5,  8, 19, 12,  7, 20,  5, 16],\n",
    "        [13,  1, 11,  4,  7, 22,  6, 16, 19,  9],\n",
    "        [ 2, 12, 21, 11, 15, 20, 17, 11, 11, 19],\n",
    "        [ 6, 21,  2,  5, 20, 13, 13, 14, 15,  1],\n",
    "        [11,  7,  3, 17,  8, 18, 13,  9,  9, 19]]\n",
    "\n",
    "\n",
    "\n",
    "print(find_worst_clinic(matrix))\n",
    "# Будет выведено 0"
   ]
  },
  {
   "cell_type": "code",
   "execution_count": null,
   "id": "b92dc235-8a9d-4357-911d-3b935d660b55",
   "metadata": {},
   "outputs": [],
   "source": []
  }
 ],
 "metadata": {
  "kernelspec": {
   "display_name": "Python 3 (ipykernel)",
   "language": "python",
   "name": "python3"
  },
  "language_info": {
   "codemirror_mode": {
    "name": "ipython",
    "version": 3
   },
   "file_extension": ".py",
   "mimetype": "text/x-python",
   "name": "python",
   "nbconvert_exporter": "python",
   "pygments_lexer": "ipython3",
   "version": "3.11.0"
  },
  "toc": {
   "base_numbering": 1,
   "nav_menu": {},
   "number_sections": true,
   "sideBar": true,
   "skip_h1_title": false,
   "title_cell": "Table of Contents",
   "title_sidebar": "Contents",
   "toc_cell": false,
   "toc_position": {},
   "toc_section_display": true,
   "toc_window_display": false
  }
 },
 "nbformat": 4,
 "nbformat_minor": 5
}
