{
 "cells": [
  {
   "cell_type": "markdown",
   "id": "7ad075bf",
   "metadata": {},
   "source": [
    "## Задания. Условные операторы"
   ]
  },
  {
   "cell_type": "code",
   "execution_count": 4,
   "id": "61287784",
   "metadata": {},
   "outputs": [
    {
     "name": "stdout",
     "output_type": "stream",
     "text": [
      "99\n",
      "100\n",
      "-1\n",
      "And the least number is:\n",
      "-1\n"
     ]
    }
   ],
   "source": [
    "# Даны три целых числа. Выведите значение наименьшего из них.\n",
    "\n",
    "a = input()\n",
    "b = input()\n",
    "c = input()\n",
    "\n",
    "print('And the least number is:')\n",
    "if a < b:    \n",
    "    if a < c : print(a)\n",
    "    else : print(c)\n",
    "elif a == b:\n",
    "    if a < c : print(a)\n",
    "    else : print(c)\n",
    "else:\n",
    "    if b < c : print(b)\n",
    "    else : print(c)"
   ]
  },
  {
   "cell_type": "code",
   "execution_count": 7,
   "id": "7796dcc9",
   "metadata": {},
   "outputs": [
    {
     "name": "stdout",
     "output_type": "stream",
     "text": [
      "4\n",
      "4\n",
      "4\n",
      "Result: 3\n"
     ]
    }
   ],
   "source": [
    "# Даны три целых числа. Определите, сколько среди них совпадающих. Программа должна вывести одно из чисел: \n",
    "# 3 (если все совпадают), \n",
    "# 2 (если два совпадает) или \n",
    "# 0 (если все числа различны).\n",
    "\n",
    "a = input()\n",
    "b = input()\n",
    "c = input()\n",
    "\n",
    "if a == b and b == c:\n",
    "    print('Result:', 3)\n",
    "elif (a == b and b != c) or (a != b and b == c) or (a != b and a == c):\n",
    "    print('Result:', 2)\n",
    "else:\n",
    "    print('Result:', 0)\n",
    "    "
   ]
  },
  {
   "cell_type": "markdown",
   "id": "2f2ce1e7",
   "metadata": {},
   "source": [
    "## Задания. Циклы"
   ]
  },
  {
   "cell_type": "code",
   "execution_count": 8,
   "id": "ddccb69d",
   "metadata": {},
   "outputs": [
    {
     "name": "stdout",
     "output_type": "stream",
     "text": [
      "4899\n"
     ]
    }
   ],
   "source": [
    "# 1. Задан массив из 10 чисел. Напишите программу, которая выводит их сумму.\n",
    "\n",
    "lst = [758, 483, 893, 393, 293, 292, 292, 485, 828, 182]\n",
    "sum = 0\n",
    "\n",
    "for i in lst:\n",
    "    sum = sum + i\n",
    "print(sum)"
   ]
  },
  {
   "cell_type": "code",
   "execution_count": 9,
   "id": "4ef580f2",
   "metadata": {},
   "outputs": [
    {
     "name": "stdout",
     "output_type": "stream",
     "text": [
      "1\n"
     ]
    }
   ],
   "source": [
    "# 2. Задан массив из n чисел. Напишите программу, которая считает и выводит количество чисел, равных нулю.\n",
    "\n",
    "lst = [700, 8, 89, 0, 20, 13]\n",
    "sum_0 = 0\n",
    "\n",
    "for i in lst:\n",
    "    if i == 0:\n",
    "        sum_0 += 1\n",
    "print(sum_0)"
   ]
  },
  {
   "cell_type": "code",
   "execution_count": 10,
   "id": "00f7a417",
   "metadata": {},
   "outputs": [
    {
     "name": "stdout",
     "output_type": "stream",
     "text": [
      "1\n",
      "12\n",
      "123\n",
      "1234\n",
      "12345\n"
     ]
    }
   ],
   "source": [
    "# 3. По данному натуральному n ≤ 9 выведите лесенку из n ступенек, i-я ступенька состоит из \n",
    "# чисел от 1 до i без пробелов.\n",
    "\n",
    "n = 5\n",
    "row = ''\n",
    "\n",
    "if n > 0 and n <= 9:\n",
    "    for i in range(1, n + 1):\n",
    "        row = row + str(i)\n",
    "        print(row)\n",
    "else:\n",
    "    print('Choose natural number less than 10')"
   ]
  },
  {
   "cell_type": "code",
   "execution_count": 11,
   "id": "442a576d",
   "metadata": {},
   "outputs": [
    {
     "name": "stdout",
     "output_type": "stream",
     "text": [
      "      1\n",
      "     121\n",
      "    12321\n",
      "   1234321\n",
      "  123454321\n",
      " 12345654321\n"
     ]
    }
   ],
   "source": [
    "# 4. Дополните код из предыдущего задания, чтобы теперь получалась пирамида.\n",
    "# То есть каждая ступень состоит из чисел от 1 до i и обратно.\n",
    "\n",
    "n = 6\n",
    "row1 = '1'\n",
    "row2 = ''\n",
    "\n",
    "if n > 0 and n <= 9:\n",
    "    print(' ' * (n - 1), row1)\n",
    "    for i in range(2, n + 1):\n",
    "        row1 = row1 + str(i)\n",
    "        row2 = str(i - 1) + row2\n",
    "        print(' ' * (n - i), row1 + row2)\n",
    "else:\n",
    "    print('Choose natural number less than 10')"
   ]
  },
  {
   "cell_type": "code",
   "execution_count": 12,
   "id": "76c2e450",
   "metadata": {},
   "outputs": [
    {
     "name": "stdout",
     "output_type": "stream",
     "text": [
      "     1\n",
      "    121\n",
      "   12321\n",
      "  1234321\n",
      " 123454321\n",
      "  1234321\n",
      "   12321\n",
      "    121\n",
      "     1\n"
     ]
    }
   ],
   "source": [
    "# 5. Дополните код из предыдущего задания, чтобы теперь получался ромб. \n",
    "# То есть количество ступеней должно равняться числу n*2-1.\n",
    "\n",
    "# n = int(input('Enter the number between 1 and 9: '))\n",
    "n = 5\n",
    "row1 = '1'\n",
    "row2 = ''\n",
    "\n",
    "if n > 0 and n <= 9:\n",
    "    \n",
    "    print(' ' * (n - 1), '1')          # opening line shows '1'\n",
    "    \n",
    "    for i in range(2, n + 1):          # creating the first half of 'rhombus'\n",
    "        row1 = row1 + str(i)\n",
    "        row2 = str(i - 1) + row2\n",
    "        print(' ' * (n - i), row1 + row2)\n",
    "        \n",
    "    for i in range(1, n - 1):          # creating the second half of the 'rhombus' \n",
    "        i = n - i                      # the count goes back from the biggest number to the lowest\n",
    "        row1 = '1'\n",
    "        row2 = ''\n",
    "        for j in range(2, i + 1):      # the internal loop for creating backwards lines\n",
    "            row1 = row1 + str(j)\n",
    "            row2 = str(j - 1) + row2\n",
    "        print(' ' * (n - i), row1 + row2)   \n",
    "    \n",
    "    print(' ' * (n - 1), '1')          # closing line repeats the opening line\n",
    "\n",
    "else:\n",
    "    print('Something went wrong...')"
   ]
  },
  {
   "cell_type": "code",
   "execution_count": 13,
   "id": "9a74b732",
   "metadata": {},
   "outputs": [
    {
     "name": "stdout",
     "output_type": "stream",
     "text": [
      "     1\n",
      "    12\n",
      "   123\n",
      "  1234\n",
      " 12345\n",
      "  1234\n",
      "   123\n",
      "    12\n",
      "     1\n"
     ]
    }
   ],
   "source": [
    "# Бонусное задание. В-3\n",
    "\n",
    "n = 5\n",
    "row = ''\n",
    "\n",
    "if n > 0 and n <= 9:\n",
    "    \n",
    "    for i in range(1, n + 1):          # very first loop from the first excercise \n",
    "        row = row + str(i)\n",
    "        print(' ' * (n - i), row)\n",
    "        \n",
    "    for i in range(1, n):              # creating the second half of the figure \n",
    "        i = n - i                      # the count goes back from the biggest number to the lowest\n",
    "        row = ''\n",
    "        for j in range(1, i + 1):      # the internal loop for creating backwards lines\n",
    "            row = row + str(j)\n",
    "        print(' ' * (n - i), row)       \n",
    "    \n",
    "else:\n",
    "    print('Choose natural number less than 10')"
   ]
  },
  {
   "cell_type": "markdown",
   "id": "c4e73c42",
   "metadata": {},
   "source": [
    "## Задания. Строки\n",
    "\n",
    "### Задание 1\n",
    "Дана строка: Abraсadabra\n",
    "\n",
    "Требуется:\n",
    "\n",
    "1. Вывести третий символ этой строки.\n",
    "1. Вывести предпоследний символ этой строки.\n",
    "1. Вывести первые пять символов этой строки.\n",
    "1. Вывести строку, кроме последних двух символов.\n",
    "1. Вывести все символы с четными индексами (считайте, что 0 - четный индекс).\n",
    "1. Вывести все символы с нечетными индексами.\n",
    "1. Вывести все символы в обратном порядке.\n",
    "1. Вывести все символы строки через один в обратном порядке, начиная с последнего.\n",
    "1. Вывести длину данной строки."
   ]
  },
  {
   "cell_type": "code",
   "execution_count": 31,
   "id": "e8f47f9e",
   "metadata": {},
   "outputs": [
    {
     "name": "stdout",
     "output_type": "stream",
     "text": [
      "Given string: Abracadabra\n",
      "1. Third symbol: r\n",
      "2. Second symbol from the end: r\n",
      "3. First 5 symbols: Abrac\n",
      "4. The string w/out two symbols in the end: Abracadab\n",
      "5. Even-numbered symbols: Arcdba\n",
      "6. Odd numbered symbols: baaar\n",
      "7. Backwards: arbadacarbA\n",
      "8. Backwards thinned: abdcrA\n",
      "9. And the length is: 11\n"
     ]
    }
   ],
   "source": [
    "a = 'Abracadabra'\n",
    "\n",
    "print('Given string:', a)\n",
    "\n",
    "# 1. Вывести третий символ этой строки.\n",
    "print('1. Third symbol:', a[2])\n",
    "\n",
    "# 2. Вывести предпоследний символ этой строки.\n",
    "print('2. Second symbol from the end:', a[-2])\n",
    "\n",
    "# 3. Вывести первые пять символов этой строки.\n",
    "print('3. First 5 symbols:', a[0:5])\n",
    "\n",
    "# 4. Вывести строку, кроме последних двух символов.\n",
    "print('4. The string w/out two symbols in the end:', a[0 : len(a) - 2])\n",
    "\n",
    "# 5. Вывести все символы с четными индексами (считайте, что 0 - четный индекс).\n",
    "evens = ''\n",
    "for count in range(0, len(a)):\n",
    "    if count % 2 == 0:\n",
    "        evens = evens + a[count]\n",
    "print('5. Even-numbered symbols:', evens)\n",
    "\n",
    "# 6. Вывести все символы с нечетными индексами.\n",
    "odds = ''\n",
    "for count in range(0, len(a)):\n",
    "    if count % 2 == 1:\n",
    "        odds = odds + a[count]\n",
    "print('6. Odd numbered symbols:', odds)\n",
    "\n",
    "# 7. Вывести все символы в обратном порядке.\n",
    "backwards = ''\n",
    "for count in range(0, len(a)):\n",
    "    count = len(a) - 1 - count\n",
    "    backwards = backwards + a[count]\n",
    "print('7. Backwards:', backwards)\n",
    "\n",
    "# 8. Вывести все символы строки через один в обратном порядке, начиная с последнего.\n",
    "# (доработано для любой строки)\n",
    "bwards = ''\n",
    "for count in range(0, len(a)):\n",
    "    count = len(a) - 1 - count\n",
    "    if len(a) % 2 == 0:\n",
    "        if count % 2 == 1:\n",
    "            bwards = bwards + a[count]        \n",
    "    elif len(a) % 2 == 1:\n",
    "        if count % 2 == 0:\n",
    "            bwards = bwards + a[count]        \n",
    "print('8. Backwards thinned:', bwards)\n",
    "            \n",
    "# 9. Вывести длину данной строки.\n",
    "print('9. And the length is:', len(a))"
   ]
  },
  {
   "cell_type": "code",
   "execution_count": null,
   "id": "e751c559",
   "metadata": {},
   "outputs": [],
   "source": []
  }
 ],
 "metadata": {
  "kernelspec": {
   "display_name": "Python 3 (ipykernel)",
   "language": "python",
   "name": "python3"
  },
  "language_info": {
   "codemirror_mode": {
    "name": "ipython",
    "version": 3
   },
   "file_extension": ".py",
   "mimetype": "text/x-python",
   "name": "python",
   "nbconvert_exporter": "python",
   "pygments_lexer": "ipython3",
   "version": "3.8.13"
  }
 },
 "nbformat": 4,
 "nbformat_minor": 5
}
