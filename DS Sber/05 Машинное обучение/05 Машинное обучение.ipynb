{
 "cells": [
  {
   "cell_type": "markdown",
   "id": "c0b1e92c-fc4b-49bc-8aa4-de68b3b6231e",
   "metadata": {},
   "source": [
    "# МАШИННОЕ ОБУЧЕНИЕ from SBER"
   ]
  },
  {
   "cell_type": "markdown",
   "id": "bda33b49-e748-4624-9146-492ba8943ad5",
   "metadata": {},
   "source": [
    "# 1. Математическая база"
   ]
  },
  {
   "cell_type": "markdown",
   "id": "854954fb-c3dd-4033-a33d-c05b6521184f",
   "metadata": {},
   "source": [
    "Приступая к изучению анализа данных и машинного обучения, необходимо вспомнить элементы линейной алгебры, математического анализа, статистики, теории вероятностей."
   ]
  },
  {
   "cell_type": "markdown",
   "id": "77befa6a-4a5b-4a11-ac69-c2c7ef6b8050",
   "metadata": {
    "jp-MarkdownHeadingCollapsed": true,
    "tags": []
   },
   "source": [
    "## 1.1 Функции"
   ]
  },
  {
   "cell_type": "markdown",
   "id": "247ec8cd-b209-4ac3-bfbc-74c151c14746",
   "metadata": {
    "id": "AE0UJdFzJd-E"
   },
   "source": [
    "### Функция одной переменной"
   ]
  },
  {
   "cell_type": "markdown",
   "id": "164c35d6-1ddb-41ee-bc50-db87cf1c905d",
   "metadata": {
    "id": "Q5LuaTTCJd-H"
   },
   "source": [
    "#### Определение функции"
   ]
  },
  {
   "cell_type": "markdown",
   "id": "29fbbce0-b28d-4e3d-a941-58b006087ee0",
   "metadata": {
    "id": "XV9IEXLaJ2gJ"
   },
   "source": [
    "Пусть $X$ и $Y$ &mdash; два множества. \n",
    "\n",
    "**Функция**, заданная на $X$ со значениями в $Y$\n",
    "\n",
    "&#150; закон $F$, согласно которому каждому элементу $x \\in X$ поставлен в соответствие единственный элемент $y \\in Y$.\n",
    "\n",
    "Если, согласно функции $F$, элемент y $\\in$ Y соответствует элементу x $\\in$ X, то обозначается:  <br>\n",
    " <br>\n",
    "$$y = F(x)$$\n",
    "\n",
    "- $y$ является **образом** элемента $x$ при функции $F$, \n",
    "- $x$ является **прообразом** элемента $y$ при функции $F$."
   ]
  },
  {
   "cell_type": "markdown",
   "id": "c03f00ac-f4d3-4718-8ee9-72f031ce9b90",
   "metadata": {
    "id": "4ujGp-a8Jd-K"
   },
   "source": [
    "> *Пример #1*:  <br>\n",
    " <br>\n",
    "Функция $F(x) = x + 2$, $x \\in \\mathbb{R}$  <br>\n",
    "$y=4$ есть образ $x=2$ при функции F (y = x + 2, 4 = 2 + 2)  <br>\n",
    "$x=198$ есть прообраз $y=200$ при функции F (y = x + 2, 200 = 198 + 2)"
   ]
  },
  {
   "cell_type": "markdown",
   "id": "fda9b5ab-176d-495d-9d49-9716ccb47521",
   "metadata": {
    "id": "ULMd1tXqJd-N"
   },
   "source": [
    "При записи функции в виде $$y = F(x)$$ $x$ называется **переменной** или **аргументом функции F**, потому что вместо $x$ мы можем подставлять разные значения (изменять $x$) и получать разные значения $y$.\n",
    "\n",
    "Говоря простыми словами, функция показывает, как изменение величины $y$ зависит от изменения величины $x$.\n",
    "Примером функции из реальной жизни может быть функция зависимости высоты дома от количества этажей в нем:\n",
    "\n",
    "$y = 2*x + 1$ \n",
    "\n",
    "$y$ &mdash; высота дома в метрах <br>\n",
    "$x$ &mdash; количество этажей в доме <br>\n",
    "2 метра высотой каждый этаж и 1 метр высотой фундамент. Поэтому высота дома в метрах &mdash; это количество этажей, умноженное на два плюс один метр фундамента."
   ]
  },
  {
   "cell_type": "markdown",
   "id": "a4a50440-e895-4779-9dfc-64908c8e98b8",
   "metadata": {
    "id": "rJEojfexJd-P"
   },
   "source": [
    "#### Область значений и область определения"
   ]
  },
  {
   "cell_type": "markdown",
   "id": "7a5b0f4f-d74d-4f14-a39e-7da83983a73c",
   "metadata": {
    "id": "hGcUpu1mJ4kC"
   },
   "source": [
    "Пусть дана функция $F$, заданная на множестве $X$ со значениями в множестве $Y$.\n",
    "\n",
    "- $X$ называется **областью определения** функции $F$, \n",
    "- $Y$ называется **областью значений** функции $F$."
   ]
  },
  {
   "cell_type": "markdown",
   "id": "d2b8827c-52a5-4a86-912e-739fa14c5f8a",
   "metadata": {
    "id": "zz0aN4WiJd-Q"
   },
   "source": [
    "> *Пример #2*:  <br>\n",
    " <br>\n",
    "Функция $F(x) = x + 2$ <br>\n",
    " Область определения F &mdash; все действительные числа. Мы можем взять любое действительное число $x$, подставить в функцию F и получить результат.  <br>\n",
    "Область значения F &mdash; также все действительные числа. Мы можем взять любое действительное число $y$ и найти такое число $x$, что $y = F(x)$."
   ]
  },
  {
   "cell_type": "markdown",
   "id": "a5db52b9-2451-42b0-ba45-93073576be9e",
   "metadata": {
    "id": "N4OEOh5HJd-S"
   },
   "source": [
    "> *Пример #3*:  <br>\n",
    " <br>\n",
    "Функция $F(x) = x^2$  <br>\n",
    "Область определения F &mdash; все действительные числа. Мы можем взять любое действительное число $x$ и подставить в функцию F.  <br>\n",
    "Область значения F &mdash; все числа, большие 0. Действительно, мы можем взять любое число $y > 0$ и найти такое число $x$, что $y = F(x)$ ($x$ в этом случае будет корнем из $y$). Но ни для какого числа  $y < 0$ не существует такого $x$, что $y = F(x)$ &mdash; иначе $x$ должен быть корнем из $y$, а корней из отрицательных чисел не существует (забудем пока про комплексные числа)."
   ]
  },
  {
   "cell_type": "markdown",
   "id": "3d5efd45-f274-41c3-84b9-eb904f108a11",
   "metadata": {
    "id": "u0zlgAJ_Jd-T"
   },
   "source": [
    "### Исследование функций"
   ]
  },
  {
   "cell_type": "markdown",
   "id": "d9cbb8c0-bde8-4857-b40f-8b841c33ebb6",
   "metadata": {
    "id": "ISRJTaddJd-U"
   },
   "source": [
    "#### Минимум и максимум функций"
   ]
  },
  {
   "cell_type": "markdown",
   "id": "f32b8e3a-32f3-4b5f-8b6c-88518644687f",
   "metadata": {
    "id": "tn0BDLoiJd-V"
   },
   "source": [
    "Одна из самых распространенных задач, связанных с функциями &mdash; поиск их минимумов/максимумов. На самом деле, ровно эта задача решается всеми нейронными сетями в процессе обучения. \n",
    "\n",
    "Давайте вернемся к множествам $X$ и $Y$ &mdash; области определения и области значений некоторой функции F. Задача **поиска минимума функции** &mdash; найти такое значение переменной $x_{min} \\in X$, что соответствующее ему значение $y_{min} = F(x_{min}) \\in Y$ будет минимально возможным. \n",
    "\n",
    "То есть для любого другого $x \\in X$, $x \\ne x_{min}$ выполнено: $F(x) \\geq F(x_{min})$\n",
    "\n",
    "- $y_{min}$ называется **минимумом функции F**, \n",
    "- $x_{min}$ &mdash; **аргминимумом** (минимальным аргументом).\n",
    "\n",
    "Таких минимальных значений аргумента $x_{min} \\in X$ может быть несколько или даже бесконечно &mdash; тогда значения функции для всех этих значений одинаковые &mdash; $y_{min}$. А еще минимальных значений аргумента $x_{min} \\in X$ может вовсе не быть &mdash; в этом случае функция $F$ не имеет минимума.\n",
    "\n",
    "Давайте рассмотрим несколько примеров:"
   ]
  },
  {
   "cell_type": "markdown",
   "id": "cd982acd-fade-44ac-ac98-c671bfc00f3a",
   "metadata": {
    "id": "pcBzVQe-Jd-X"
   },
   "source": [
    " > Пример #4 <br>\n",
    " <br>\n",
    " Функция $y = x + 1$ <br>\n",
    " У этой функции нет минимума. Действительно, допустим, что минимум есть, обозначим его $y_{min}$. Тогда соответствующий аргминимум $x_{min} = y_{min} - 1$. Тогда возьмем значение $x = x_{min}-1$ и подставим в функцию. \n",
    " Получим значение $y = x - 1 = (x_{min}-1)-1 = x_{min}-2 = y_{min}-1 < y_{min}$. Это противоречит тому, что $y_{min}$ минимальное значение."
   ]
  },
  {
   "cell_type": "markdown",
   "id": "25d4411d-c45f-418d-9556-850aba17b50d",
   "metadata": {
    "id": "zye5sPTnJd-Y"
   },
   "source": [
    " > Пример #5 <br>\n",
    " <br>\n",
    " Функция $y = x^2$ <br>\n",
    " У этой функции минимум в точке 0. Действительно 0 в квадрате это 0. $y < 0$ мы получить не сможем, потому что квадрат любого числа -- неотрицательное число (мы рассматриваем $x \\in \\mathbb{R}$). Значит, меньшее значение функции, чем ноль, мы получить не можем, значит, минимум функции -- 0."
   ]
  },
  {
   "cell_type": "markdown",
   "id": "e017c809-d260-4883-82ad-6c7ba8e445a9",
   "metadata": {
    "id": "VrRePYGIJd-Z"
   },
   "source": [
    "Аналогичным образом, как и минимум, мы можем определить максимум функции и задачу поиска максимума функции. "
   ]
  },
  {
   "cell_type": "markdown",
   "id": "ffdb72c9-201b-4235-a70a-6b2e90de6070",
   "metadata": {
    "id": "6hYUXjaFJd-a"
   },
   "source": [
    "#### График функции "
   ]
  },
  {
   "cell_type": "markdown",
   "id": "bc853763-774f-48d9-9c52-88100dc15855",
   "metadata": {
    "id": "_g7XZcViJp4S"
   },
   "source": [
    "Рассмотренные нами функции можно графически изображать, часто это оказывается полезно.\n",
    "\n",
    "Для этого вводится понятие **декартовой плоскости** &mdash; это плоскость с двумя выделенными перпендикулярными$^*$ осями OX и OY. <br>\n",
    "По оси OX мы можем откладывать значения переменной $x$, по оси OY &mdash; значения переменной $y$. <br>\n",
    "Ось ОХ обычно горизонтальная, OY &mdash; векртикальная (см последующие примеры)\n",
    "\n",
    "$^*$ перпендикулярные оси (прямые) &mdash; прямые, угол между которыми 90 градусов. <br> "
   ]
  },
  {
   "cell_type": "markdown",
   "id": "eadd9ae0-fe50-4de3-8636-9a28c09466f2",
   "metadata": {
    "id": "NrmC1zURJd-b"
   },
   "source": [
    " > Пример #6 <br>\n",
    " <br>\n",
    " График функции $y = F(x) = 2x + 1$:"
   ]
  },
  {
   "cell_type": "code",
   "execution_count": 1,
   "id": "0581caaf-27a0-4223-b8a2-3aee46958fb2",
   "metadata": {
    "id": "6RTz3-n4Jd-e"
   },
   "outputs": [],
   "source": [
    "def F(x):\n",
    "    return 2*x + 1"
   ]
  },
  {
   "cell_type": "code",
   "execution_count": 9,
   "id": "0dbec417-a47a-42f0-a746-af0db6698f21",
   "metadata": {
    "colab": {
     "base_uri": "https://localhost:8080/",
     "height": 279
    },
    "id": "p2o1K_J-Jd-i",
    "outputId": "46ed3919-0db3-444e-ef25-ebc86e4138da"
   },
   "outputs": [
    {
     "data": {
      "image/png": "[encoded data removed]",
      "text/plain": [
       "<Figure size 640x480 with 1 Axes>"
      ]
     },
     "metadata": {},
     "output_type": "display_data"
    }
   ],
   "source": [
    "import numpy as np\n",
    "import matplotlib.pyplot as plt\n",
    "\n",
    "def plot_function(f):\n",
    "    '''\n",
    "    map(f, iterable) is equivalent to [f(x) for x in iterable]\n",
    "    '''\n",
    "    x = range(-100, 100)\n",
    "    y = list(map(f, x))\n",
    "    \n",
    "    plt.plot(x, y)\n",
    "    plt.ylabel(\"Y\")\n",
    "    plt.xlabel(\"X\")\n",
    "    \n",
    "plot_function(F)"
   ]
  },
  {
   "cell_type": "markdown",
   "id": "7ddca03a-5b5a-4984-bd27-6e59820f0971",
   "metadata": {
    "id": "9rwsGzP7Jd-o"
   },
   "source": [
    " > Пример #7 <br>\n",
    " <br>\n",
    " График функции $y = F(x) = x^2$:"
   ]
  },
  {
   "cell_type": "code",
   "execution_count": 8,
   "id": "dd63cb24-f879-4b5d-b589-edf5c8c76983",
   "metadata": {
    "id": "HM2jPxGNJd-p",
    "outputId": "f2e5e371-1d50-41dd-9d6a-d4837f3a4029"
   },
   "outputs": [
    {
     "data": {
      "image/png": "[encoded data removed]",
      "text/plain": [
       "<Figure size 640x480 with 1 Axes>"
      ]
     },
     "metadata": {},
     "output_type": "display_data"
    }
   ],
   "source": [
    "def F(x):\n",
    "    return (x+25)**2\n",
    "\n",
    "plot_function(F)"
   ]
  },
  {
   "cell_type": "markdown",
   "id": "f4c12a87-9620-4511-9eeb-49d36d21cbfd",
   "metadata": {
    "id": "kZJssFMIJd-t"
   },
   "source": [
    "Вы можете сами определить свою функцию $F$ и построить ее график, вызвав plot_function:"
   ]
  },
  {
   "cell_type": "code",
   "execution_count": null,
   "id": "de16aea5-0e6f-4ed1-9f24-f6b20a1b5e29",
   "metadata": {
    "id": "KmKoW4wQJd-u"
   },
   "outputs": [],
   "source": [
    "def F(x):\n",
    "    return <тут ваш код>\n",
    "\n",
    "plot_function(F)"
   ]
  },
  {
   "cell_type": "markdown",
   "id": "fadf6c78-5e6b-4da5-874d-94736a59609d",
   "metadata": {
    "id": "3nLiCCkOJd-x"
   },
   "source": [
    "По виду графиков функций часто становится понятно, как \"ведет\" себя функция в разных точках и какими свойствами обладает. Например, посмотрите на график функции $y = (x+25)^2$ (см пример #5). Из графика видно, что функция принимает минимальное значени в точке x = -25."
   ]
  },
  {
   "cell_type": "markdown",
   "id": "074b3500-150c-4faf-840f-5909f290ffbb",
   "metadata": {
    "id": "oRs74FKQJd-y"
   },
   "source": [
    "#### Локальный минимум"
   ]
  },
  {
   "cell_type": "markdown",
   "id": "afe243ba-90bc-41d5-9fb4-696695d3bc75",
   "metadata": {
    "id": "GnE-m6tXJuP_"
   },
   "source": [
    "Минимум, который мы рассмотрели выше, называется **глобальным минимумом** функции. \"Глобальный\", потому что мы определяли его как \"наименьше значение, которое функция сможет принимать на ВСЕЙ области определения\".\n",
    "\n",
    "Также существует понятие локального минимума. \n",
    "\n",
    "Точка $x_{min}$ &mdash; **локальный минимум** функции $F$, если существует такая величина $\\Delta x > 0$, что значение функции $F$ в любой точке $x \\in [x_{min} - \\Delta x, x_{min} + \\Delta x]$ не меньше значения функции в точке $x_{min}$.\n",
    "\n",
    "Другими словами, если бы область определения нашей функции была отрезком $x \\in [x_{min} - \\Delta x, x_{min} + \\Delta x]$, то точка $x_{min}$ была бы глобальным минимумом функции $F$.\n",
    "\n",
    "Точки локальных минимумов и максимумов также называются **точками экстремума**."
   ]
  },
  {
   "cell_type": "markdown",
   "id": "3439535f-b8cb-4b0a-aee9-a120f6922210",
   "metadata": {
    "id": "lHNvD42AJd-z"
   },
   "source": [
    "> Пример #8 <br>\n",
    " <br>\n",
    "Давайте посмотрим на график функции $F(x) = x^4 + 5x^3 - 10x$ на интервале $x \\in[-5, 2]$:"
   ]
  },
  {
   "cell_type": "code",
   "execution_count": 12,
   "id": "b25ca260-c669-4907-9b00-72087f8690c8",
   "metadata": {
    "colab": {
     "base_uri": "https://localhost:8080/",
     "height": 34
    },
    "id": "zHKAQBBMFgMn",
    "outputId": "73b11afb-7dda-413b-a889-3b1b2b5ab401"
   },
   "outputs": [
    {
     "data": {
      "text/plain": [
       "(-29.3714438337351, 6.027961573411785, -5.07448646946412)"
      ]
     },
     "execution_count": 12,
     "metadata": {},
     "output_type": "execute_result"
    }
   ],
   "source": [
    "F(-3.5518), F(-0.9439), F(0.7457)"
   ]
  },
  {
   "cell_type": "code",
   "execution_count": 17,
   "id": "9b31a3ce-d2af-4a1a-902e-1ebbb68518da",
   "metadata": {
    "colab": {
     "base_uri": "https://localhost:8080/",
     "height": 296
    },
    "id": "fIQfA0n8Jd-1",
    "outputId": "6ba22103-e9ad-464f-9c35-b1794af4eb11"
   },
   "outputs": [
    {
     "data": {
      "image/png": "[encoded data removed]",
      "text/plain": [
       "<Figure size 640x480 with 1 Axes>"
      ]
     },
     "metadata": {},
     "output_type": "display_data"
    }
   ],
   "source": [
    "def F(x):\n",
    "    return x**4 + 5*x**3 - 10*x\n",
    "\n",
    "x = np.linspace(-5, 2, 100)\n",
    "y = list(map(F, x))\n",
    "\n",
    "plt.plot(x, y)\n",
    "plt.ylabel(\"Y\")\n",
    "plt.xlabel(\"X\")\n",
    "plt.scatter([-3.5518, -0.9439, 0.7457], [F(-3.5518), F(-0.9439), F(0.7457)]);"
   ]
  },
  {
   "cell_type": "markdown",
   "id": "046a1b96-964a-4173-a505-302326cf5eca",
   "metadata": {
    "id": "ugLI1B0CJd-4"
   },
   "source": [
    "> эта функция имеет на отрезке $[-5, 2]$ два локальных минимума &mdash; в точках $x \\sim -3.5518$ и $x \\sim 0.7457$. И также один локальный максимум &mdash; в точке $x \\sim -0.9439$\n",
    "\n",
    "??? Откуда два локальных минимума? "
   ]
  },
  {
   "cell_type": "markdown",
   "id": "22c4a949-804a-44f3-9106-3b6cf29a79d3",
   "metadata": {
    "id": "FsElN_9QJd-5"
   },
   "source": [
    "#### Возрастание и убывание функции"
   ]
  },
  {
   "cell_type": "markdown",
   "id": "408e4644-be98-44da-b0c2-2b824e14ca5f",
   "metadata": {
    "id": "DDzKWeIEJd-6"
   },
   "source": [
    "##### **Возрастание и убывание на интервале**"
   ]
  },
  {
   "cell_type": "markdown",
   "id": "f30305fe-e730-4cad-b6db-b02ad8c6bd0d",
   "metadata": {
    "id": "1dHUpB_hJd-8"
   },
   "source": [
    "Функция F **возрастает на интервале** $[a, b]$, если для любых двух точек интервала $x_1, x_2 \\in [a, b]$ выполняется: \n",
    "- если $x_1 > x_2$) то $F(x_1) > F(x_2)$. \n",
    "\n",
    "В этом случае функция F **(строго) монотонна** (монотонно возрастает) на интервале $[a, b]$.\n",
    "\n",
    "Также есть смежное понятие:  \n",
    "Функция F **не убывает на интервале** $[a, b]$, если для любых двух точек интервала $x_1, x_2 \\in [a, b]$ выполняется: \n",
    "- если $x_1 > x_2$, то $F(x_1) \\geq F(x_2)$. \n",
    "\n",
    "То есть здесь функция может принимать одинаковые значения в нескольких точках интервала. В этом случае функция F **нестрого монотонна** (нестрого монотонно возрастает) на интервале $[a, b]$.\n",
    "\n",
    "Аналогично определяются **убывающая на интервале** и **невозрастающая на интервале** функции.\n",
    "\n"
   ]
  },
  {
   "cell_type": "markdown",
   "id": "e27f8139-bf7a-4fdd-9d07-fa84673e3d31",
   "metadata": {
    "id": "G-DhHChGJd-9"
   },
   "source": [
    "> Пример #9 <br>\n",
    " <br>\n",
    "Давайте снова посмотрим на график функции из предыдущего примера: <br> $x^4 + 5x^3 - 10x$ на интервале $x \\in[-5, 2]$: "
   ]
  },
  {
   "cell_type": "code",
   "execution_count": 16,
   "id": "2e2e8612-f33f-4c1f-9b74-75b5c5b7a01a",
   "metadata": {
    "id": "Wwxjh14wJd--",
    "outputId": "c128c87d-8419-46ec-ff96-e3b697458233"
   },
   "outputs": [
    {
     "data": {
      "image/png": "[encoded data removed]",
      "text/plain": [
       "<Figure size 640x480 with 1 Axes>"
      ]
     },
     "metadata": {},
     "output_type": "display_data"
    }
   ],
   "source": [
    "def F(x):\n",
    "    return x**4 + 5*x**3 - 10*x\n",
    "\n",
    "x = np.linspace(-5, 2, 100)\n",
    "y = list(map(F, x))\n",
    "\n",
    "plt.plot(x, y)\n",
    "plt.ylabel(\"Y\")\n",
    "plt.xlabel(\"X\")\n",
    "plt.scatter([-3.5518, -0.9439, 0.7457], [F(-3.5518), F(-0.9439), F(0.7457)]);"
   ]
  },
  {
   "cell_type": "markdown",
   "id": "9be1e9e5-bb1e-4726-ba51-915608226ad7",
   "metadata": {
    "id": "9KjwQ_2RJd_A"
   },
   "source": [
    "Эта функция:\n",
    "- убывает на отрезке $[-5, -3.5518]$, \n",
    "- возрастает на $[-3.5518, -0.9439]$, \n",
    "- снова убывает на $[-0.9439, 0.7457]$ и \n",
    "- снова возрастает на $[0.7457, 2]$."
   ]
  },
  {
   "cell_type": "markdown",
   "id": "a0ea8193-b8cf-4790-aa97-ed736ad05af4",
   "metadata": {
    "id": "UH_GFIrzJd_B"
   },
   "source": [
    "> Пример #10 <br>\n",
    " <br>\n",
    "Посмотрим на график функции <br>\n",
    "$F(x) = \\left\\{\\begin{array}{l}-x-1, x < -1\\\\x = 0, x \\in [-1, 1] \\\\ x - 1, x > 1\\end{array}\\right.$: "
   ]
  },
  {
   "cell_type": "code",
   "execution_count": 18,
   "id": "ab282847-46a0-4b6c-8ae3-5476a4342153",
   "metadata": {
    "id": "-AfDnf3jJd_B",
    "outputId": "593a4a62-600a-4d52-91dd-42e70d9ee08c"
   },
   "outputs": [
    {
     "data": {
      "image/png": "[encoded data removed]",
      "text/plain": [
       "<Figure size 640x480 with 1 Axes>"
      ]
     },
     "metadata": {},
     "output_type": "display_data"
    }
   ],
   "source": [
    "def F(x):\n",
    "    if x < -1:\n",
    "        return -x - 1\n",
    "    elif x < 1:\n",
    "        return 0\n",
    "    else:\n",
    "        return x - 1\n",
    "\n",
    "x = np.linspace(-2, 2, 100)\n",
    "y = list(map(F, x))\n",
    "\n",
    "plt.plot(x, y)\n",
    "plt.ylabel(\"Y\")\n",
    "plt.xlabel(\"X\");"
   ]
  },
  {
   "cell_type": "markdown",
   "id": "e1253500-287e-4541-aa78-5ffebd8411d3",
   "metadata": {
    "id": "yC5wkUAiJd_E"
   },
   "source": [
    "> Эта функция строго убывает на $[-2, -1]$, нестрого убывает на $[-2, 1]$"
   ]
  },
  {
   "cell_type": "markdown",
   "id": "ce6a655b-0a2d-4e04-8894-64a3fa66a4a0",
   "metadata": {
    "id": "VURaA57aJd_F"
   },
   "source": [
    "##### **Возрастание и убывание в точке**"
   ]
  },
  {
   "cell_type": "markdown",
   "id": "b2b5085e-9081-43ae-8b64-f05f4bfb048f",
   "metadata": {
    "id": "zH7mHuqKJd_F"
   },
   "source": [
    "Кроме возрастания/убывания функции на определенном интервале также определяется возрастание и убывание функции в точке.\n",
    "\n",
    "Функция $F$ **убывает в точке** $x$, если существует такое число $\\delta x > 0$, что на интервале $[x - \\delta x, x + \\delta x]$ функция F убывает.\n",
    "Аналогично функция $F$ **возрастает в точке** $x$, если существует такое число $\\delta x > 0$, что на интервале $[x - \\delta x, x + \\delta x]$ функция F возрастает.\n",
    "\n",
    "$\\delta x$ может быть сколь угодно маленьким. Давайте рассмотрим примеры:"
   ]
  },
  {
   "cell_type": "markdown",
   "id": "d629827d-4518-4025-bdc9-7b4a6d78bfed",
   "metadata": {
    "id": "HLADohROJd_G"
   },
   "source": [
    "> Пример #11 <br>\n",
    " <br>\n",
    "Давайте снова посмотрим на график функции из предыдущих примеров: <br> \n",
    "$x^4 + 5x^3 - 10x$ на интервале $x \\in[-5, 2]$: "
   ]
  },
  {
   "cell_type": "code",
   "execution_count": 20,
   "id": "0e8894e4-ab2d-4dff-95b9-85f3b5e6ab47",
   "metadata": {
    "id": "h8xSuvEsJd_H",
    "outputId": "e9220ec2-34cb-45bd-ea82-39aa0c35c903"
   },
   "outputs": [
    {
     "data": {
      "image/png": "[encoded data removed]",
      "text/plain": [
       "<Figure size 640x480 with 1 Axes>"
      ]
     },
     "metadata": {},
     "output_type": "display_data"
    }
   ],
   "source": [
    "def F(x):\n",
    "    return x**4 + 5*x**3 - 10*x\n",
    "\n",
    "x = np.linspace(-5, 2, 100)\n",
    "y = list(map(F, x))\n",
    "\n",
    "plt.plot(x, y)\n",
    "plt.ylabel(\"Y\")\n",
    "plt.xlabel(\"X\")\n",
    "plt.scatter([-3.5518, -0.9439, 0.7457], [F(-3.5518), F(-0.9439), F(0.7457)])\n",
    "plt.scatter([-3, -0.8, 1.5], [F(-3), F(-0.8), F(1.5)]);"
   ]
  },
  {
   "cell_type": "markdown",
   "id": "aeaaec09-6a49-4ce5-8015-0224818940fe",
   "metadata": {
    "id": "xChVX4GRJd_J"
   },
   "source": [
    "Синим цветом отмечены точки минимума и максимума (экстремумы) функций. <br>\n",
    "<br>\n",
    "Посмотрим на желтые точки.  \n",
    "<br>\n",
    "Функция в первой желтой точке возрастает, во второй &mdash; убывает, в третьей опять возрастает. <br>\n",
    "<br>\n",
    "Вообще, данная функция будет убывать в любой точке интервала (-0.9439, 0.7457)  (интервал между точкой максимума и точкой минимума), потому что какую бы точку $x$ из этого интервала мы ни взяли, найдутся две точки $x_1$ и $x_2$ такие, что \n",
    "- $-0.9439 < x_1 < x$ и \n",
    "- $x > x_2 > 0.7457$. \n",
    "\n",
    "На отрезке $[x_1, x_2]$ функция будет убывать, а значит, функция убывает в точке $x$."
   ]
  },
  {
   "cell_type": "markdown",
   "id": "7f058f29-4aa2-47d2-afdd-8da3cb31b3fd",
   "metadata": {
    "id": "2ve00piQJd_K"
   },
   "source": [
    "#### Непрерывность функции"
   ]
  },
  {
   "cell_type": "markdown",
   "id": "973f243d-7336-4aab-98a0-3e6ced326e13",
   "metadata": {
    "id": "oJLkchtGJd_L"
   },
   "source": [
    "Пришло время познакомиться с понятием непрерывности функции.\n",
    "\n",
    "Функция F **непрерывна в точке** x, если: <br>\n",
    "1. F определена в точке x\n",
    "1. Для любого числа $\\delta > 0$ можно найти такое $\\Delta x > 0$, что для любой точки $x' \\in [x - \\Delta x, x + \\Delta x]$ выполняется: $$|F(x') - F(x)| < \\delta$$\n",
    "где $|F|$ означает модуль $F$.\n",
    "\n",
    "Интуитивно это определение значит, что функция $F$ в точках, близких к $x$, имеет значение, близкое к $F(x)$.\n",
    "\n",
    "Давайте рассмотрим примеры, чтобы окончательно понять значение понятия непрерывности:"
   ]
  },
  {
   "cell_type": "markdown",
   "id": "2a41c3dd-acca-46df-8b0e-c78f48c85c0b",
   "metadata": {
    "id": "GH0_1VUQJd_M"
   },
   "source": [
    "> Пример #12 <br>\n",
    " <br>\n",
    "Давайте снова посмотрим на график функции из предыдущих примеров: <br> \n",
    "$x^4 + 5x^3 - 10x$ на интервале $x \\in[-5, 2]$: "
   ]
  },
  {
   "cell_type": "code",
   "execution_count": 23,
   "id": "00f2afec-184e-4b1f-8e39-4ec7ff1954cc",
   "metadata": {
    "id": "RBNGDaMzJd_N",
    "outputId": "b356b371-9762-4c4b-bef2-a32d2ff2097c"
   },
   "outputs": [
    {
     "data": {
      "text/plain": [
       "<matplotlib.collections.PathCollection at 0x14763d08710>"
      ]
     },
     "execution_count": 23,
     "metadata": {},
     "output_type": "execute_result"
    },
    {
     "data": {
      "image/png": "[encoded data removed]",
      "text/plain": [
       "<Figure size 640x480 with 1 Axes>"
      ]
     },
     "metadata": {},
     "output_type": "display_data"
    }
   ],
   "source": [
    "def F(x):\n",
    "    return x**4 + 5*x**3 - 10*x\n",
    "\n",
    "x = np.linspace(-5, 2, 100)\n",
    "y = list(map(F, x))\n",
    "\n",
    "plt.plot(x, y)\n",
    "plt.ylabel(\"Y\")\n",
    "plt.xlabel(\"X\")\n",
    "plt.scatter([-0.9439], [F(-0.9439)])\n",
    "plt.scatter([2], [F(2)])\n",
    "plt.scatter([-0.5], [F(-0.5)])"
   ]
  },
  {
   "cell_type": "markdown",
   "id": "dd5c4ab7-dab6-4ee7-a5f6-b8cc2af4a617",
   "metadata": {
    "id": "yS4vcRkMJd_Q"
   },
   "source": [
    "> посмотрим на синюю точку. В этой точке функция непрерывна &mdash; если мы возьмем оранжевую точку и будем двигать ее по графику функции по направлению к синей точке, то с какого-то момента (например, когда оранжевая точка совпадет с зеленой) при приближении оранжевой точки к синей значение функции в оранжевой точке будет все ближе к значению функции в синей точке, и в конце концов значения функции в синей и оранжевой точках совпадут. <br>\n",
    "<br>\n",
    "Как несложно понять, эта функция непрерывна во всех точках."
   ]
  },
  {
   "cell_type": "markdown",
   "id": "81214db7-0dd0-44ab-9003-b0f5f528526a",
   "metadata": {
    "id": "zvmrkD_TJd_R"
   },
   "source": [
    "> Пример #13 <br>\n",
    " <br>\n",
    "F = $F(x) = \\left\\{\\begin{array}{l}-x, x < -1\\\\x = 0, x \\in [-1, 1] \\\\ x, x > 1\\end{array}\\right.$: "
   ]
  },
  {
   "cell_type": "code",
   "execution_count": 24,
   "id": "2330fb28-5f98-44cf-be60-dbf9ac990e40",
   "metadata": {
    "id": "i6oE5uo4Jd_S",
    "outputId": "b6ae7517-6dce-4fad-f835-ba9c831e1cf3"
   },
   "outputs": [
    {
     "data": {
      "text/plain": [
       "Text(0.5, 0, 'X')"
      ]
     },
     "execution_count": 24,
     "metadata": {},
     "output_type": "execute_result"
    },
    {
     "data": {
      "image/png": "[encoded data removed]",
      "text/plain": [
       "<Figure size 640x480 with 1 Axes>"
      ]
     },
     "metadata": {},
     "output_type": "display_data"
    }
   ],
   "source": [
    "x = np.linspace(-2, -1, 100)\n",
    "y = list(map(lambda x: -x, x))\n",
    "plt.plot(x, y, c='b')\n",
    "\n",
    "x = np.linspace(-1, 1, 100)\n",
    "y = list(map(lambda x: 0, x))\n",
    "plt.plot(x, y, c='b')\n",
    "\n",
    "x = np.linspace(1, 2, 100)\n",
    "y = list(map(lambda x: x, x))\n",
    "plt.plot(x, y, c='b')\n",
    "\n",
    "plt.ylabel(\"Y\")\n",
    "plt.xlabel(\"X\")"
   ]
  },
  {
   "cell_type": "markdown",
   "id": "f86aedcf-cfc0-4ff2-beb5-c1e7f0fbd008",
   "metadata": {
    "id": "zYJ-MUoxJd_V"
   },
   "source": [
    "> здесь в точках -1 и 1 функция имеет **разрыв** (не непрерывна). Действительно, возьмем $\\delta =0.5$. Не существует такого $\\Delta x$, что для всех точек $x' \\in [-1 - \\Delta x, -1]$ выполнялось бы $|F(x') - F(-1)| < \\delta$. <br>\n",
    "<br>\n",
    "Во всех остальных точках функция непрерывна."
   ]
  },
  {
   "cell_type": "markdown",
   "id": "3bc8abed-c1a1-4e95-9d1f-e5732ac58278",
   "metadata": {
    "id": "8qd-Pgd2Jd_W"
   },
   "source": [
    "#### Предел функции в точке"
   ]
  },
  {
   "cell_type": "markdown",
   "id": "a5e83d8b-c66a-4a40-a738-22bee408152e",
   "metadata": {
    "id": "c7n7BUDwJd_X"
   },
   "source": [
    "В этом разделе мы в самых общих чертах, не вдаваясь в подробности, познакомимся с понятиями пределов функции и последовательности."
   ]
  },
  {
   "cell_type": "markdown",
   "id": "7e821c06-b9ad-4b18-9f87-c46e4baae057",
   "metadata": {
    "id": "4hhUZmacJd_X"
   },
   "source": [
    "##### Предел последовательности"
   ]
  },
  {
   "cell_type": "markdown",
   "id": "3b12c8fe-69b5-4c79-b955-ac15a4070225",
   "metadata": {
    "id": "xtd9qTk_Jd_X"
   },
   "source": [
    "Рассмотрим некоторую бесконечную последовательность чисел<br> \n",
    "$x_1, x_2, \\dots, x_n, \\dots$\n",
    "\n",
    "Число $x$ является **пределом последовательности**, если для любого числа $\\delta > 0$ сушествует такой номер $n$, что для любого числа $N > n$ выполняется: $|x - x_N| < \\delta$ <br>\n",
    "Если $x$ является **пределом последовательности**, то говорят, что последовательность **стремится** к $x$.\n",
    "\n",
    "Обозначается стремление так: <br>\n",
    "$x_1, x_2, \\dots, x_n, \\dots,  \\to x$ (последовательность стремится к $x$)\n",
    "\n",
    "То есть, у последовательности есть предел $x$, если для сколь угодно малого числа $\\delta > 0$ можно найти член последовательности такой, что все члены после него ближе к пределу $x$, чем $\\delta$"
   ]
  },
  {
   "cell_type": "markdown",
   "id": "690856e8-8848-4a66-8da9-4932e7d0383c",
   "metadata": {
    "id": "haqlK3McJd_Y"
   },
   "source": [
    "> Пример #14 <br>\n",
    " <br>\n",
    " Рассмотрим последовательность чисел: <br>\n",
    " $1, \\frac{1}{2}, \\frac{1}{3}, \\frac{1}{4}, \\dots, \\frac{1}{n}, \\dots$ <br>\n",
    " <br>\n",
    " Предел этой последовательности &mdash; число 0. Думаю, вы легко убедитесь в этом сами."
   ]
  },
  {
   "cell_type": "markdown",
   "id": "b5dba601-dca2-4417-b27b-298f36ecb339",
   "metadata": {
    "id": "0FbmDevVJd_Y"
   },
   "source": [
    "> Пример #15 <br>\n",
    " <br>\n",
    " Рассмотрим последовательность чисел: <br>\n",
    " 1, -2, 3, -4, $\\dots$ <br>\n",
    " <br>\n",
    "У этой последовательности предела не существует."
   ]
  },
  {
   "cell_type": "markdown",
   "id": "36145fbf-143d-48e3-9297-c8dead2bcc75",
   "metadata": {
    "id": "nWushvWwJd_Z"
   },
   "source": [
    "##### Предел функции в точке"
   ]
  },
  {
   "cell_type": "markdown",
   "id": "93d20306-5335-4cd4-bcee-18574748ec32",
   "metadata": {
    "id": "4XKH0vyEJd_a"
   },
   "source": [
    "С понятием непрерывности функции тесно связано понятие предела функции в точке. \n",
    "\n",
    "Число $y$ является **пределом функции $F$ в точке** $x$, если для любого числа $\\delta$ > 0 можно найти такое $\\Delta x > 0$, что для любой точки $x' \\in [x - \\Delta x, x + \\Delta x]$ выполняется: $|F(x') - y| < \\delta$ <br>"
   ]
  },
  {
   "cell_type": "markdown",
   "id": "b084bb15-a2ff-4e75-8f01-d40e92d40e65",
   "metadata": {
    "id": "GlZPIW4tJd_a"
   },
   "source": [
    "Очень похоже на определение непрерывности в точке. Отличие в том, что предел функции в точке не обязан совпадать со значением функции в точке. Более того, значения функции в точке $x$, в которой ищется предел, может вообще не существовать.\n",
    "\n",
    "Если же значение в точке $x$ функции $F$ существует, то чаще всего предел функции в точке совпадает со значением функции в этой точке."
   ]
  },
  {
   "cell_type": "markdown",
   "id": "d236abf5-dd3a-49f1-b427-2a011078513e",
   "metadata": {
    "id": "ppCuQvRFJd_b"
   },
   "source": [
    "Интуитивно определение предела функции в точке можно понимать так: <br>\n",
    "Допустим, мы хотим найти предел функции $F$ в точке $x$. Построим последовательность точек $x_1, x_2, \\dots$, стремящуюся к $x$. Значения функции в точках этой последовательности также образуют последовательность:\n",
    "$F(x_1), F(x_2), \\dots$. Если у последовательности значений функций есть предел $y$, то он является пределом функции в точке $x$.\n",
    "\n",
    "Обозначается $F(x_i) \\to y\\ при\\ x_i \\to x$ (значение функции стремится к $y$ при значениях аргемента, стремящихся к $x$)\n",
    "\n",
    "$$\n",
    "\\lim_{x_i \\to x} F(x_i) = y\n",
    "$$"
   ]
  },
  {
   "cell_type": "markdown",
   "id": "ca6f1096-9612-49e3-b80e-b4b8aeedbc95",
   "metadata": {
    "id": "fwYE8BPuJd_b"
   },
   "source": [
    "> Пример #16 <br>\n",
    " <br>\n",
    "    У непрерывной функции существует предел в любой точке, и он равен значению функции в этой точке."
   ]
  },
  {
   "cell_type": "markdown",
   "id": "7873adc7-fc8b-40db-8a72-d9481f2597c5",
   "metadata": {
    "id": "dCydmYhAJd_c"
   },
   "source": [
    "> Пример #17 <br>\n",
    " <br>\n",
    " Пример функции, которая не непрерывна в точке 0, но имеет в точке 0 предел, равный 0: <br>\n",
    " F = $F(x) = \\left\\{\\begin{array}{l}-x, x < 0\\\\x = 1, x = 0 \\\\ x, x > 0\\end{array}\\right.$: "
   ]
  },
  {
   "cell_type": "code",
   "execution_count": 25,
   "id": "a02bebf1-387c-412e-a4ec-f20333d5ba95",
   "metadata": {
    "id": "ZClCOf-RJd_d",
    "outputId": "c762e2c3-2d27-48c7-cf37-0853d6e01e01"
   },
   "outputs": [
    {
     "data": {
      "text/plain": [
       "Text(0.5, 0, 'X')"
      ]
     },
     "execution_count": 25,
     "metadata": {},
     "output_type": "execute_result"
    },
    {
     "data": {
      "image/png": "[encoded data removed]",
      "text/plain": [
       "<Figure size 640x480 with 1 Axes>"
      ]
     },
     "metadata": {},
     "output_type": "display_data"
    }
   ],
   "source": [
    "x = np.linspace(-2, 0, 100)\n",
    "y = list(map(lambda x: -x, x))\n",
    "plt.plot(x, y, c='b')\n",
    "\n",
    "plt.scatter(0, 1, c='b')\n",
    "\n",
    "x = np.linspace(0, 2, 100)\n",
    "y = list(map(lambda x: x, x))\n",
    "plt.plot(x, y, c='b')\n",
    "\n",
    "plt.ylabel(\"Y\")\n",
    "plt.xlabel(\"X\")"
   ]
  },
  {
   "cell_type": "markdown",
   "id": "10d8efc3-bedc-457d-945d-3fc69ce84d84",
   "metadata": {
    "id": "MUb8P1X9Jd_f"
   },
   "source": [
    "В этом разделе мы познакомились с понятиями пределов последовательности и функции. Эти понятия пригодятся нам в разделе, посвященном производным. Более детальное изучение выходит за рамки данного материала."
   ]
  },
  {
   "cell_type": "markdown",
   "id": "498a5eff-afbc-4014-9181-a4948f6f9079",
   "metadata": {
    "id": "c3qquhmTJd_f"
   },
   "source": [
    "### Функции многих переменных"
   ]
  },
  {
   "cell_type": "markdown",
   "id": "e393eae4-6ca8-4504-ac0a-234465355f6a",
   "metadata": {
    "id": "GhV2iHFZJd_g"
   },
   "source": [
    "Выше мы рассмотрели функции, которые отображают одну переменную $x$ в одну переменную $y$. Теперь рассмотрим функции, которые отображают несколько переменных $x_1, x_2, \\dots$ в одну переменную $y$."
   ]
  },
  {
   "cell_type": "markdown",
   "id": "4aee5bc9-3491-44f6-9975-943bd9cd9f37",
   "metadata": {
    "id": "FO_L3f5vJd_h"
   },
   "source": [
    "В самом начале ноутбука в примере с высотой дома мы рассматривали функцию зависимости высоты дома от одной переменной -- количества этажей в доме. Высоту одного этажа мы принимали за константу, поэтому наша функция выглядела так:\n",
    "\n",
    "$F(x) = 2x+1$\n",
    "\n",
    "где $x$ &mdash; количество этажей,<br> 2 &mdash; высота одного этажа,<br> 1 &mdash; высота фундамента,<br> $F(x)$ &mdash; итоговая высота дома."
   ]
  },
  {
   "cell_type": "markdown",
   "id": "e2b6b8b3-ce7d-4d94-8667-9528a3a41c45",
   "metadata": {
    "id": "pbLeyN0GJd_i"
   },
   "source": [
    "Но мы понимаем, что в реальной жизни дома бывают разные и высота одного этажа во дворце и в жилой хрущевке может отличаться. То есть высота одного этажа &mdash; это тоже переменная величина. Давайте отразим это в нашей функции высоты дома:"
   ]
  },
  {
   "cell_type": "markdown",
   "id": "1e228235-1f83-418a-ab18-2014689dab4c",
   "metadata": {
    "id": "sldofhleJd_i"
   },
   "source": [
    "$F(x) = yx+1$\n",
    "\n",
    "где $x$ &mdash; количество этажей,<br> $y$ &mdash; высота одного этажа,<br> 1 &mdash; высота фундамента,<br> $F(x)$ &mdash; итоговая высота дома."
   ]
  },
  {
   "cell_type": "markdown",
   "id": "aa1d1d05-506c-47e4-9ba1-1bb23a9a4867",
   "metadata": {
    "id": "G0Ci4bwoJd_k"
   },
   "source": [
    "Теперь это функция с **двумя переменными**. Мы можем изменять значения $x$ и $y$, подставлять их в функцию и получать разные значения.\n",
    "\n",
    "Точно так же можно сделать переменной и высоту фундамента:\n",
    "\n",
    "$F(x) = yx+z$\n",
    "\n",
    "где $x$ &mdash; количество этажей,<br> $y$ &mdash; высота одного этажа,<br> $z$ &mdash; высота фундамента,<br> $F(x)$ &mdash; итоговая высота дома.\n",
    "\n",
    "...и будет уже функцией от трех переменных."
   ]
  },
  {
   "cell_type": "markdown",
   "id": "ce368d2a-39e5-4462-b7c8-b9dbec311343",
   "metadata": {
    "id": "uvy9yDr_Jd_m"
   },
   "source": [
    "Понятно, что функции бывают от скольки угодно переменных. И чаще всего в жизни встречаются функции от довольно большого числа переменных. Например, нейронная сеть &mdash; это функция от тысяч или даже миллионов параметров."
   ]
  },
  {
   "cell_type": "markdown",
   "id": "245751d9-bf1d-42c5-94ff-b19409d4f24e",
   "metadata": {
    "id": "T_og3llPJd_m"
   },
   "source": [
    "> Пример #18 <br>\n",
    " <br>\n",
    " Функции двух переменных тоже можно рисовать &mdash; они представляют собой трехмерную поверхность (задаваемую двумя переменным и значениями функции). <br>\n",
    "  <br>\n",
    " Функции с тремя и более переменными, к сожалению, изобразить нельзя (они соответствуют 4-хмерной и еще более многомерным телам, а мы живем в трехмерном мире)."
   ]
  },
  {
   "cell_type": "code",
   "execution_count": 29,
   "id": "880f07a9-2094-4f21-933e-e759726170a8",
   "metadata": {},
   "outputs": [
    {
     "data": {
      "text/plain": [
       "'3.6.2'"
      ]
     },
     "execution_count": 29,
     "metadata": {},
     "output_type": "execute_result"
    }
   ],
   "source": [
    "import matplotlib\n",
    "matplotlib.__version__"
   ]
  },
  {
   "cell_type": "code",
   "execution_count": 44,
   "id": "e19c96f4-2fff-40c3-9610-2c5d07f1a6ae",
   "metadata": {
    "id": "xWrl4Vr8Jd_n",
    "outputId": "e6644721-1ff7-491a-f559-252c54ec40bb"
   },
   "outputs": [
    {
     "data": {
      "image/png": "[encoded data removed]",
      "text/plain": [
       "<Figure size 640x480 with 1 Axes>"
      ]
     },
     "metadata": {},
     "output_type": "display_data"
    }
   ],
   "source": [
    "from mpl_toolkits.mplot3d import Axes3D\n",
    "import matplotlib.pyplot as plt\n",
    "from matplotlib import cm\n",
    "from matplotlib.ticker import LinearLocator, FormatStrFormatter\n",
    "import numpy as np\n",
    "\n",
    "\n",
    "fig = plt.figure()\n",
    "# ax = fig.gca(projection='3d')\n",
    "# ax = fig.add_subplot(projection='3d')\n",
    "ax = plt.axes(projection=\"3d\")\n",
    "\n",
    "# Make data.\n",
    "X = np.arange(-5, 5, 0.25)\n",
    "Y = np.arange(-5, 5, 0.25)\n",
    "X, Y = np.meshgrid(X, Y)\n",
    "R = np.sqrt(X**2 + Y**2)\n",
    "Z = np.sin(R)\n",
    "\n",
    "# Plot the surface.\n",
    "surf = ax.plot_surface(X, Y, Z,\n",
    "                       linewidth=0, antialiased=False)\n",
    "\n",
    "# Customize the z axis.\n",
    "ax.set_zlim(-1.01, 1.01)\n",
    "ax.zaxis.set_major_locator(LinearLocator(10))\n",
    "ax.zaxis.set_major_formatter(FormatStrFormatter('%.02f'))\n",
    "\n",
    "plt.show()"
   ]
  },
  {
   "cell_type": "markdown",
   "id": "681fac1e-258d-422e-b931-c2e12b72d8cc",
   "metadata": {
    "id": "dBk2xqiSJd_p"
   },
   "source": [
    "Как же с такими функциями работать? На самом деле, точно так же, как и с функциями одной переменной."
   ]
  },
  {
   "cell_type": "markdown",
   "id": "e2cbd81c-0f4e-436e-82ea-7933881c503c",
   "metadata": {
    "id": "FWZVLil6Jd_p"
   },
   "source": [
    "#### Область значений и область определения функции многих переменных"
   ]
  },
  {
   "cell_type": "markdown",
   "id": "001fe401-cae6-47cc-8879-fab658dd76d6",
   "metadata": {
    "id": "O7_jMtbFJd_q"
   },
   "source": [
    "Рассмотрим функцию с двумя переменными:\n",
    "\n",
    "$F(x_1, x_2) = \\sqrt{x_1} + x_2 $\n",
    "\n",
    "Так как мы работаем только с действительными числами ($\\mathbb{R}$), то переменная $x_1$ может принимать только положительные значения, т.е. определена на $\\mathbb{R_+}$. Переменная же $x_2$ может принимать любые значения на $\\mathbb{R}$. \n",
    "Обозначается область определения функции с двумя переменными так:\n",
    "\n",
    "$\\mathbb{R_+} \\times \\mathbb{R}$\n",
    "\n",
    "Область значения нашей функции &mdash; $\\mathbb{R}$. Итого функция \n",
    "\n",
    "$F: \\mathbb{R_+} \\times \\mathbb{R} \\to \\mathbb{R}$ "
   ]
  },
  {
   "cell_type": "markdown",
   "id": "7684307a-d41c-47e1-9225-7d7f194c5273",
   "metadata": {
    "id": "Nx9zzWHWJd_r"
   },
   "source": [
    "#### Исследование функций многих переменных"
   ]
  },
  {
   "cell_type": "markdown",
   "id": "189efc21-3ea5-41dc-9857-8d25f4599aa5",
   "metadata": {
    "id": "GZLCXO51Jd_r"
   },
   "source": [
    "В разделе про исследования функций многих переменных мы говорили про поиски минимума/максимума, возрастание/убывание функции и непрерывность. Эти понятия легко обобщаются на функции многих переменных:\n",
    "\n",
    "Рассмотрим функцию $n$ переменныx $F(x_1, x_2, \\dots, x_n)$."
   ]
  },
  {
   "cell_type": "markdown",
   "id": "aa865365-7ace-4116-a158-38c43034ecc1",
   "metadata": {},
   "source": [
    "##### **Минимум и максимум**\n",
    "\n",
    "Задача поиска минимумов (как локальных, так и глобальных) в случае функции многих переменных ставится так же, как и в случае функции одной переменной: нужно найти такое значение аргумента (аргументов), что соответствующее значение функции минимально/максимально.\n",
    "\n",
    "То есть в случае функции $F$ нам надо найти такие $x_1, x_2, \\dots, x_n$, что $F(x_1, x_2, \\dots, x_n)$ минимально/максимально."
   ]
  },
  {
   "cell_type": "markdown",
   "id": "e8255aca-1137-4001-8968-3b5822c89edc",
   "metadata": {},
   "source": [
    "##### **Возрастание и убывание функции**\n",
    "\n",
    "Рассмотрим некоторую фиксированную \"точку\" &mdash; набор параметров $(x'_1, x'_2, \\dots, x'_n)$. В случае функции многих переменных мы не можем сказать, возрастает или убывает функция $F$ в этой точке, потому что при изменении разных переменных функция может вести себя по разному.\n",
    "\n",
    "Другими словами: давайте зафиксируем все координаты $x'_2, \\dots, x'_n$ и будем изменять только $x_1$. Мы как бы получим функцию одной переменной &mdash; так как мы зафиксировали $x'_2, \\dots, x'_n$, то их мы можем считать константами. И вот функция одной переменной в точке $x'_1$ может возрастать, убывать или вообще иметь экстремум.\n",
    "\n",
    "Теперь сделаем то же самое, только зафиксируем все координаты, кроме второй. Менять будем только $x_2$. Опять получим функцию одной переменной, но уже другую, не как при изменении $x_1$. Опять же, в точке $x'_2$ эта функция может возрастать, убывать или вообще иметь экстремум.\n",
    "\n",
    "Аналогично со всеми остальными координатами. Получается, что, находясь в одной точке $(x'_1, x'_2, \\dots, x'_n)$, функция может вырасти при изменении одной координаты и уменьшиться при изменении другой. Поэтому определение возрастания/удывания функции многих переменных в точке определено только **покоординатно**."
   ]
  },
  {
   "cell_type": "markdown",
   "id": "1f2487c6-5528-41f6-b3d9-4f8027652fae",
   "metadata": {
    "id": "l47r5FTRJd_r"
   },
   "source": [
    "##### **Непрерывность и предел**\n",
    " Здесь ситуация схожа с первым пунктом: понятие непрерывности и предела очень просто обобщается на функцию многих переменных. \n",
    " \n",
    " Вспомним определение непрерывности для функции одной переменной:\n",
    " \n",
    " Функция $F$ **непрерывна в точке** $x$, если:\n",
    "1. $F$ определена в точке $x$;  \n",
    "2. Для любого (какого угодно малого - В.Р.) числа $\\delta > 0$ можно найти такое $\\Delta x > 0$, что для любой точки $x' \\in [x - \\Delta x, x + \\Delta x]$ выполняется: $|F(x') - F(x)| < \\delta$ <br>\n",
    "\n",
    "Для непрерывности функции многих переменных остается сказать, что п. 2 должен выполняться по каждой координате функции.\n",
    "Это значит, что мы у функции $F(x_1, x_2, \\dots, x_n)$ фиксируем все координаты, кроме одной и для полученной функции одной переменной должно выполняться условие непрерывности."
   ]
  },
  {
   "cell_type": "markdown",
   "id": "7480d270-7dcc-44e4-9694-d77633265b85",
   "metadata": {
    "id": "SSboPhEoJd_s"
   },
   "source": [
    "### Примеры функций в реальной жизни"
   ]
  },
  {
   "cell_type": "markdown",
   "id": "f81bc6c2-f52f-4fe6-bf31-aeaf15509721",
   "metadata": {
    "id": "rmJR35-BJxuP"
   },
   "source": [
    "Для того чтобы понимать, что функции присутствуют практически везде в нашей жизни, приведем несколько примеров.\n",
    "\n",
    "Давайте рассмотрим несколько примеров функций из экономики и финансов:"
   ]
  },
  {
   "cell_type": "markdown",
   "id": "cd43d028-4d73-4058-a5b2-1d9d93327b6d",
   "metadata": {
    "id": "0ndyk2HyJd_s"
   },
   "source": [
    " > Пример #19 <br>\n",
    " <br>\n",
    " Функция спроса. <br>\n",
    " Допустим, мы торгуем определенным товаром, например, толстовками. Обозначим за Q количество купленного товара, за P - цену одной единицы товара. Тогда функция спроса в нашем случае может выглядеть так: <br>\n",
    " $Q = 7 - P$ <br>\n",
    " $Q$ и $P$ здесь -- переменные ( как $x$ и $y$ в предыдущих примерах)"
   ]
  },
  {
   "cell_type": "markdown",
   "id": "e1a2b261-95b3-452e-a198-661896d40211",
   "metadata": {
    "id": "S2HLYbXHJd_t"
   },
   "source": [
    " > Пример #20 <br>\n",
    " <br>\n",
    " Расчет излишка потребителя. <br>\n",
    " Формула расчета излишка потребителя выглядит так: <br>\n",
    " $S_{PEP1} = [(P_1 – P) \\times Q]\\ /\\ 2$ <br>\n",
    " Здесь $S_{PEP1}$ &mdash; излишек покупателя, <br>\n",
    " $P_1$ &mdash; цена спроса, <br>\n",
    " $P$ &mdash; рыночная цена, <br>\n",
    " $Q$ &mdash; объем продаж. <br>\n",
    " <br>\n",
    " Это функция 3 переменных."
   ]
  },
  {
   "cell_type": "markdown",
   "id": "84787d91-52e3-45da-a689-5ad60ccf6ebf",
   "metadata": {
    "id": "bz28vZabJd_u"
   },
   "source": [
    " > Пример #21 <br>\n",
    " <br>\n",
    " Функция зависимости скорости тела от времени (из физики): <br>\n",
    " $v = v_0 + at$, <br>\n",
    " $v$ &mdash; скорость, <br>\n",
    " $v_0$ &mdash; начальная скорость, <br>\n",
    " $a$ &mdash; ускорение, <br>\n",
    " $t$ &mdash; время."
   ]
  },
  {
   "cell_type": "markdown",
   "id": "d47666dc-1a1d-4146-a663-3188d1653de0",
   "metadata": {},
   "source": [
    "## 1.2 Производные и оптимизация"
   ]
  },
  {
   "cell_type": "markdown",
   "id": "f1004dee-7bd9-44b8-a02f-c47982e7c707",
   "metadata": {},
   "source": [
    "### Производная функции одной переменной"
   ]
  },
  {
   "cell_type": "markdown",
   "id": "d56d2bf8-7a8f-49ce-8ae5-78a6835aa36f",
   "metadata": {},
   "source": [
    "Для начала мы будем рассматривать производные функций одной переменной, потом обобщим это понятие на функции многих переменных."
   ]
  },
  {
   "cell_type": "markdown",
   "id": "eb19cfdb-eaef-4966-a36b-b2a16f010266",
   "metadata": {
    "colab_type": "text",
    "id": "LSW3dwznNpXw"
   },
   "source": [
    "#### Смысл производной"
   ]
  },
  {
   "cell_type": "markdown",
   "id": "a22c5ee1-b478-4d1e-9db4-e10738bc237f",
   "metadata": {
    "colab_type": "text",
    "id": "cG6XZXG_NpXz"
   },
   "source": [
    "Для начала рассмотрим нам уже знакомую с прошлого ноутбука функцию <br>\n",
    "$F(x) = x^4 + 5x^3 - 10x$ на интервале $x \\in[-5, 2]$:"
   ]
  },
  {
   "cell_type": "code",
   "execution_count": null,
   "id": "5b60a426-6ef1-470f-a858-b5d4c5df8355",
   "metadata": {
    "colab": {},
    "colab_type": "code",
    "id": "z8t7qeiNNpX1"
   },
   "outputs": [],
   "source": [
    "import numpy as np\n",
    "import matplotlib.pyplot as plt"
   ]
  },
  {
   "cell_type": "code",
   "execution_count": null,
   "id": "8c0a200c-4f24-4b86-be11-69128bf7a244",
   "metadata": {
    "colab": {},
    "colab_type": "code",
    "id": "JEpj06NjNpX9",
    "outputId": "1040a0ba-7e16-4870-fc45-22bc67bd768b"
   },
   "outputs": [
    {
     "data": {
      "text/plain": [
       "<matplotlib.collections.PathCollection at 0x7ff74c7142e8>"
      ]
     },
     "execution_count": 6,
     "metadata": {
      "tags": []
     },
     "output_type": "execute_result"
    },
    {
     "data": {
      "image/png": "[encoded data removed]",
      "text/plain": [
       "<Figure size 432x288 with 1 Axes>"
      ]
     },
     "metadata": {
      "needs_background": "light",
      "tags": []
     },
     "output_type": "display_data"
    }
   ],
   "source": [
    "def F(x):\n",
    "    return x**4 + 5*x**3 - 10*x\n",
    "\n",
    "x = np.linspace(-5, 2, 100)\n",
    "y = list(map(F, x))\n",
    "\n",
    "plt.plot(x, y)\n",
    "plt.ylabel(\"Y\")\n",
    "plt.xlabel(\"X\")\n",
    "plt.scatter([-3.5518, -0.9439, 0.7457], [F(-3.5518), F(-0.9439), F(0.7457)])"
   ]
  },
  {
   "cell_type": "markdown",
   "id": "160f62c9-1ba9-4775-aeb0-4970ffbdf73f",
   "metadata": {
    "colab_type": "text",
    "id": "o9d8PFfwNpYK"
   },
   "source": [
    "Как мы помним, эта функция имеет два локальных минимума в точках $x \\sim -3.5518$ и $x \\sim 0.7457$, один локальный максимум в точке $x \\sim -0.9439$, а также она убывает на отрезках $[-5, -3.5518]$ и $[-0.9439, 0.7457]$ и возрастает на отрезках $[-3.5518, -0.9439]$ и $[0.7457, 2]$."
   ]
  },
  {
   "cell_type": "markdown",
   "id": "99d4317b-2068-4aa8-8135-83a2fccfe1be",
   "metadata": {
    "colab_type": "text",
    "id": "8QUoZHdCNpYL"
   },
   "source": [
    "Посмотрим на график в местах, где функция убывает. Это отрезки $[-5, -3.5518]$ и $[-0.9439, 0.7457]$. Заметим, что на этих двух отрезках функция убывает с разной скоростью. На отрезке $[-5, -3.5518]$ она убывает быстрее (\"склон\" функции более крутой, при изменении координаты $x$ на 1 значение функции $y$ меняется быстро), а на отрезке $[-0.9439, 0.7457]$ функция убывает медленнее (при изменении координаты $x$ на 1 значение функции $y$ меняется на меньше число, чем на предыдущем отрезке)\n",
    "\n",
    "Давайте научимся измерять скорость убывания/возрастания функции и введем строгие определения."
   ]
  },
  {
   "cell_type": "markdown",
   "id": "522585bc-7b76-414f-a2ff-28ab124527cd",
   "metadata": {
    "colab_type": "text",
    "id": "q1W6ANfnNpYN"
   },
   "source": [
    "<a href=\"https://ibb.co/hgW7bnD\"><img src=\"https://i.ibb.co/2FtnxLg/2020-01-28-01-00-23.jpg\" alt=\"2020-01-28-01-00-23\" border=\"0\"></a>"
   ]
  },
  {
   "cell_type": "markdown",
   "id": "4e6e8ab6-35ad-4822-aed0-5caa8d92cc96",
   "metadata": {
    "colab_type": "text",
    "id": "dpwiK2cbNpYO"
   },
   "source": [
    "Рассмотрим точки $(x_1, y_1) = (-5, 50)$ и $(x_2, y_2) \\sim (-0.8, -5)$ графика функции (см. рисунок). Отступим от них по координате $x$ на одинаковый шаг $\\Delta x > 0$, попадем на другие точки на графике. При этом величины координат $y_1$ и $y_2$ тоже поменяются на некоторые величины $\\Delta y_1$ и $\\Delta y_2$. \n",
    "\n",
    "Добавленные величины $\\Delta y_1$ и $\\Delta y_2$ назваются **приращениями функции**, а величина $\\Delta x$ &mdash; **приращением аргумента**"
   ]
  },
  {
   "cell_type": "markdown",
   "id": "7385e93b-29f1-4b4e-8d28-d74e73be2c9b",
   "metadata": {
    "colab_type": "text",
    "id": "wMfQe4_wNpYP"
   },
   "source": [
    "Заметим, что $\\Delta y_2 < \\Delta y_1$\n",
    "\n",
    "Рассмотрим тогда отношения $\\frac{\\Delta y_1}{\\Delta x}$ и $\\frac{\\Delta y_2}{\\Delta x}$. Можно сказать, что эти отношения являются мерилами скорости убывания функции на отрезках $[x_1, x_1 + \\Delta x]$ и $(x_2, x_2 + \\Delta x)$ соответственно. <br>\n",
    "Действительно, отношение $\\frac{\\Delta y_1}{\\Delta x}$ показывает, на сколько в среднем меняется значение функции при изменении значения аргумента на 1. \n",
    "\n",
    "**Чем больше отношение $\\frac{\\Delta y_1}{\\Delta x}$ по модулю, тем выше скорость убывания/возрастания функции**."
   ]
  },
  {
   "cell_type": "markdown",
   "id": "e2169f33-7bc7-4471-9adc-e59e5d0ed6c8",
   "metadata": {
    "colab_type": "text",
    "id": "66o-XoOVNpYQ"
   },
   "source": [
    "Можно привести аналогию с горами &mdash; рассмотрим график как дорогу, идущую то в гору, то с горы. Отношение $\\frac{\\Delta y_1}{\\Delta x}$, насколько сильно меняется высота дороги на каждый метр пути относительно земли. Насколько быстро растет/падает высота горы."
   ]
  },
  {
   "cell_type": "markdown",
   "id": "2f6f6297-c84f-486d-9353-9fdb013eeb34",
   "metadata": {
    "colab_type": "text",
    "id": "h5rUJMgfNpYR"
   },
   "source": [
    "Заметим, что в премере выше приращения $\\Delta y_1$ и $\\Delta y_2$ &mdash; отрицательные числа (функция убывает). Значит, и отношение $\\frac{\\Delta y_1}{\\Delta x} < 0$. \n",
    "\n",
    "В местах, где функция возрастает, отношение $\\frac{\\Delta y_1}{\\Delta x}$ будет положительно."
   ]
  },
  {
   "cell_type": "markdown",
   "id": "cccaa633-a5f2-45f9-a618-5d5f724921ac",
   "metadata": {
    "colab_type": "text",
    "id": "NaA-s8rLNpYS"
   },
   "source": [
    "**Если отношение $\\frac{\\Delta y_1}{\\Delta x} > 0$, то функция возрастает, если < 0 &mdash; убывает**."
   ]
  },
  {
   "cell_type": "markdown",
   "id": "84ab54af-8e39-41f3-97d0-e42c34920c5b",
   "metadata": {
    "colab_type": "text",
    "id": "Li5HGJe-NpYW"
   },
   "source": [
    "Итак, таким образом, **исследуя приращение функции при изменении аргумента в некоторой точке, можно делать выводы о возрастании/убывании функции и о скорости роста/убывания функции в окрестности этой точки**."
   ]
  },
  {
   "cell_type": "markdown",
   "id": "463faaba-3d0b-4cfc-8837-718d69195d0d",
   "metadata": {
    "colab_type": "text",
    "id": "fMP0UxYrViZk"
   },
   "source": [
    "------------------------------"
   ]
  },
  {
   "cell_type": "markdown",
   "id": "308754a4-7505-46ce-adf9-118525c10c97",
   "metadata": {
    "colab_type": "text",
    "id": "WCVAWa_7NpYY"
   },
   "source": [
    "Теперь встает логичный вопрос: какую величину $\\Delta x$ лучше всего выбирать, чтобы лучше оценить поведение функции в области у некоторой точки $(x, y)$?\n",
    "\n",
    "Давайте рассмотрим пример, где мы выбрали величину $\\Delta x$ больше, чем в предыдущем примере:"
   ]
  },
  {
   "cell_type": "markdown",
   "id": "95893dc9-9f31-45e9-b20d-e1615b02a3b8",
   "metadata": {
    "colab_type": "text",
    "id": "6s3gIAhPNpYc"
   },
   "source": [
    "<a href=\"https://ibb.co/58KxDzx\"><img src=\"https://i.ibb.co/qsJFG4F/2020-01-28-23-32-16.jpg\" alt=\"2020-01-28-23-32-16\" border=\"0\"></a>"
   ]
  },
  {
   "cell_type": "markdown",
   "id": "04951d41-6699-4c8a-99b3-48e83c13b476",
   "metadata": {
    "colab_type": "text",
    "id": "Rlk04TJ3NpYd"
   },
   "source": [
    "Мы находились в точке $(x_2, y_2) \\sim (0.8, 5)$ и сдвинулись по координате $x$ на величину $\\Delta x' > \\Delta x$, попали в точку $(x_2 + \\Delta x', y_2 + \\Delta y'_2)$. Заметим, что $\\Delta y'_2 > 0$ и отношение $\\frac{\\Delta y'_2}{\\Delta x'} > 0$. По опыту рассуждений выше, это нам говорит о том, что на отрезке $[x_2, x_2 + \\Delta x']$ функция возрастает в среднем на $\\frac{\\Delta y'_2}{\\Delta x'}$ при изменении значения аргумента на 1. \n",
    "\n",
    "Но так ли это?"
   ]
  },
  {
   "cell_type": "markdown",
   "id": "9a303952-f67b-4e9b-9aa5-74a01aaa1d5b",
   "metadata": {
    "colab_type": "text",
    "id": "8eOOxeh_NpYe"
   },
   "source": [
    "На графике мы явно видим, что в точке $(x_2, y_2)$ функция убывает, а затем возрастает и приходит в точку $(x_2 + \\Delta x', y_2 + \\Delta y'_2)$. То есть, наш вывод о том, как ведет себя график в окрестности точки $(x_2, y_2)$ , немного неточен. Отступив от точки $(x_2, y_2)$ на слишком большой шаг $\\Delta x'$, мы \"перешагнули\" через точку локального минимума функции и ошибочно решили, что в окрестности точки $(x_2, y_2)$ функция возрастает."
   ]
  },
  {
   "cell_type": "markdown",
   "id": "d82e0f79-aabb-43d9-8671-f7b318986b01",
   "metadata": {
    "colab_type": "text",
    "id": "eroFcV62NpYf"
   },
   "source": [
    "Это как если бы вы стояли на вершине горы, потом спустились с нее, потом поднялись на другую гору такой же высоты и сказали: \"ну, моя итоговая высота изменилась на 0 метров. Значит, вся моя дорога была прямая\"."
   ]
  },
  {
   "cell_type": "markdown",
   "id": "35c3bf21-9ac7-49a4-946e-8822cef511f7",
   "metadata": {
    "colab_type": "text",
    "id": "6ZMmGnroNpYg"
   },
   "source": [
    "Значит, чтобы делать верные выводы о том, как ведет себя функция в окрестности некоторой точки, нужно брать $\\Delta x$ маленьким. Но насколько маленьким?"
   ]
  },
  {
   "cell_type": "markdown",
   "id": "a87d1a21-1f08-459c-a04e-31caa1d5eb55",
   "metadata": {
    "colab_type": "text",
    "id": "lYkIEU2nNpYg"
   },
   "source": [
    "Ответ такой: бесконечно маленьким. Никакая конечная величина $\\Delta x$ не подойдет. Действительно, для любой величины $\\Delta x$ я могу найти такую функцию, что ее график будет выглядеть так:"
   ]
  },
  {
   "cell_type": "markdown",
   "id": "1484e77b-a7d4-4faa-ac3b-03f5956613b0",
   "metadata": {
    "colab_type": "text",
    "id": "Dz0go1TJNpYh"
   },
   "source": [
    "<a href=\"https://ibb.co/ZYNm4Sm\"><img src=\"https://i.ibb.co/Nm7SDrS/2020-01-29-00-13-31.jpg\" alt=\"2020-01-29-00-13-31\" border=\"0\"></a>"
   ]
  },
  {
   "cell_type": "markdown",
   "id": "8623848f-29ea-435c-8d02-29e19cd328aa",
   "metadata": {
    "colab_type": "text",
    "id": "xozwB2CBNpYi"
   },
   "source": [
    "То есть, мы все равно перескочем через точку локального минимума и не поймем, что функция в точке убывала, а не возрастала. "
   ]
  },
  {
   "cell_type": "markdown",
   "id": "4fa2fd1f-06ef-47fc-a104-62fdd43bac59",
   "metadata": {
    "colab_type": "text",
    "id": "gvDmTwBgNpYi"
   },
   "source": [
    "Ну и, напоследок, даже если на отрезке $[x, x + \\Delta x]$ нет локальных минимумов/максимумов и функция постоянно убывает/возрастает, она может возрастать/убывать с разной скоростью. Например, функция $F(x) = x^4$ на отрезке $[1, 15]$ начинает возрастать быстрее (график становится \"круче\") при приближении к $x = 15$. И делать вывод о скорости роста функции в точке 1 как о средней скорости роста функции на отрезке $[1, 15]$ не совсем корректно."
   ]
  },
  {
   "cell_type": "code",
   "execution_count": null,
   "id": "4627d637-e57f-4a35-986e-2772eed3c75c",
   "metadata": {
    "colab": {},
    "colab_type": "code",
    "id": "u1aBnWrZNpYj",
    "outputId": "570846e9-f131-4b58-ed23-ee1c1b18e756"
   },
   "outputs": [
    {
     "data": {
      "text/plain": [
       "Text(0.5, 0, 'X')"
      ]
     },
     "execution_count": 9,
     "metadata": {
      "tags": []
     },
     "output_type": "execute_result"
    },
    {
     "data": {
      "image/png": "[encoded data removed]",
      "text/plain": [
       "<Figure size 432x288 with 1 Axes>"
      ]
     },
     "metadata": {
      "needs_background": "light",
      "tags": []
     },
     "output_type": "display_data"
    }
   ],
   "source": [
    "def F(x):\n",
    "    return x**4\n",
    "\n",
    "x = np.linspace(1, 15, 100)\n",
    "y = list(map(F, x))\n",
    "\n",
    "plt.plot(x, y)\n",
    "plt.ylabel(\"Y\")\n",
    "plt.xlabel(\"X\")"
   ]
  },
  {
   "cell_type": "markdown",
   "id": "5c1294b9-3161-4b7e-9cb7-8fac4f1fe828",
   "metadata": {
    "colab_type": "text",
    "id": "zgRHK49nNpYn"
   },
   "source": [
    "**Что же делать?**"
   ]
  },
  {
   "cell_type": "markdown",
   "id": "f2c1dc0b-e6ae-4679-b936-26943cec5dc1",
   "metadata": {
    "colab_type": "text",
    "id": "h5w6pzBmNpYp"
   },
   "source": [
    "Здесь нам пригодится понятие предела функции, рассмотренное в ноутбуке про функции. \n",
    "\n",
    "Давайте возьмем некоторый $\\Delta x > 0$ и устремим его к нулю. То есть, будем его постепенно уменьшать. <br>\n",
    "Другими словами &mdash; построим последовательность чисел, начиная с $\\Delta x > 0$, предел которой &mdash; 0.\n",
    "\n",
    "Например, мы можем взять $\\Delta x = 1$ и последовательность чисел <br>\n",
    "$$1, \\frac{1}{2}, \\frac{1}{3}, ... \\frac{1}{n}, ...$$\n",
    "\n",
    "Теперь возьмем функцию $F$ и некоторую точку этой функции $(x, y)$. Рассмотрим приращение $x + \\Delta x$ и соответствующее приращение функции $y + \\Delta y = F(x + \\Delta x)$. Будем постепенно уменьшать приращения $\\Delta x$, подставляя вместо $\\Delta x$ члены заданной выше последовательности. Получим последовательность $\\Delta y$:\n",
    "\n",
    "$$\\Delta y_1 = F(x + 1) - F(x),$$ <br>\n",
    "$$\\Delta y_2 = F(x + \\frac{1}{2}) - F(x),$$  <br>\n",
    "$$\\Delta y_3 = F(x + \\frac{1}{3}) - F(x),$$ <br>\n",
    "$$...$$"
   ]
  },
  {
   "cell_type": "markdown",
   "id": "1518e075-3d22-455f-a0c1-61f25a8a345f",
   "metadata": {
    "colab_type": "text",
    "id": "33WVP4gbNpYq"
   },
   "source": [
    "И, соответственно, получим последовательность отношений $\\frac{\\Delta y}{\\Delta x}$:\n",
    "\n",
    "$$\\frac{\\Delta y_1}{1} = \\frac{F(x + 1) - F(x)}{1},$$ <br>\n",
    "$$\\frac{\\Delta y_1}{2} = \\frac{F(x + 2) - F(x)}{2},$$ <br>\n",
    "$$\\frac{\\Delta y_1}{3} = \\frac{F(x + 3) - F(x)}{3},$$ <br>\n",
    "$$...$$"
   ]
  },
  {
   "cell_type": "markdown",
   "id": "ca14db3f-3950-41ad-9f90-7d5f54a71407",
   "metadata": {
    "colab_type": "text",
    "id": "dByMGLFbNpYr"
   },
   "source": [
    "Уменьшая $\\Delta x$, мы будем отходить от точки $(x, y)$ все меньше и **отношение $\\frac{\\Delta y}{\\Delta x}$ будет все точнее отражать характер поведения функции $F$ вблизи точки $(x, y)$**\n",
    "\n",
    "Нетрудно догадаться, что итоговая величина, которая наиболее точно отразит характер поведения функции $F$ вблизи точки $(x, y)$ есть предел функции $\\frac{\\Delta y}{\\Delta x} = \\frac{F(x + \\Delta x) - F(x)}{\\Delta x}$ при $\\Delta x$ стремящемся к нулю. То есть, мы лучшим образом опишем поведение функции около точки $(x, y)$, когда мы отходим от точки $(x, y)$ на бесконечно малое расстояние.\n",
    "\n",
    "Эта величина называется **производной функции F в точке x**\n",
    "\n",
    "Записывается это так:"
   ]
  },
  {
   "cell_type": "markdown",
   "id": "54bf2883-9774-462a-a6b4-4dfd7305f408",
   "metadata": {
    "colab_type": "text",
    "id": "hMHhY3fcNpYr"
   },
   "source": [
    "$$F'(x) = \\lim_{\\Delta x \\to 0} \\frac{F(x + \\Delta x) - F(x)}{\\Delta x}$$"
   ]
  },
  {
   "cell_type": "markdown",
   "id": "1266dfbb-b6be-4d79-af92-9083bc093e15",
   "metadata": {
    "colab_type": "text",
    "id": "rtWxqJq7NpYs"
   },
   "source": [
    "(заметим, что последовательность $\\Delta x = 1, \\frac{1}{2}, \\frac{1}{3}, ... \\frac{1}{n}, ...$ никогда не дойдет до 0, поэтому знаменатель в формуле $F'(x)$ всегда определен)"
   ]
  },
  {
   "cell_type": "markdown",
   "id": "57077c87-6466-4e53-b450-1553173ea4ab",
   "metadata": {
    "colab_type": "text",
    "id": "_A1yyDtlNpYs"
   },
   "source": [
    "Этот предел может существовать, а может не существовать. Если он существует, то функция $F$ называется **дифференцируемой в точке** $(x, y)$. <br>\n",
    "Если функция дифференцируема во всех точках, то функция называется просто дифференцируемой."
   ]
  },
  {
   "cell_type": "markdown",
   "id": "816e1a56-b9fd-4b14-b1ad-c64c8e494672",
   "metadata": {
    "colab_type": "text",
    "id": "LKUi7m88NpYt"
   },
   "source": [
    "Итак, давайте подитожим:"
   ]
  },
  {
   "cell_type": "markdown",
   "id": "a0701ff9-a751-47a4-a21d-e2cb502c6fa4",
   "metadata": {
    "colab_type": "text",
    "id": "D8juT7luS_s6"
   },
   "source": [
    "#### Определение производной"
   ]
  },
  {
   "cell_type": "markdown",
   "id": "d0bc59ac-7cb2-4396-8703-9aa161fb2d72",
   "metadata": {
    "colab_type": "text",
    "id": "evWoubSnY1n9"
   },
   "source": [
    "**производная функции F в точке x**\n",
    "$$F'(x) = \\lim_{\\Delta x \\to 0} \\frac{F(x + \\Delta x) - F(x)}{\\Delta x}$$\n",
    "\n",
    "Также говорят \"производня функции $F$ по $x$\""
   ]
  },
  {
   "cell_type": "markdown",
   "id": "a2674d7e-081c-4908-b42f-2511c0a004a4",
   "metadata": {
    "colab_type": "text",
    "id": "CfpWvjEVTChb"
   },
   "source": [
    "**производная функции в точке показывает характер изменения функции в точке**, а именно:\n",
    "\n",
    "**Модуль значения производной говорит о скорости убывания/возрастания функции**. <br>\n",
    "Если в одной точке производная функции равна 5, а в другой &mdash; 3, то в первой точке функция возрастает быстрее, чем во второй.\n",
    "\n",
    "**Знак производной показывает характер изменения функции в точке** <br>\n",
    "То есть, если производная > 0, это значит, что функция в точке возрастает. если производная < 0, это значит, что функция в точке убывает. А если производная = 0, то в этой точке находится локальный минимум/максимум.\n",
    "\n"
   ]
  },
  {
   "cell_type": "markdown",
   "id": "46aac89b-28a5-40f2-90e4-c33eed3750c3",
   "metadata": {
    "colab_type": "text",
    "id": "pwfMX1V5tCaB"
   },
   "source": [
    "> Пример #1 <br>\n",
    "Рассмотрим функцию $F(x) = x^2$ и точки $(-10, -100)$, $(2, 4)$ и $(25, 625)$:"
   ]
  },
  {
   "cell_type": "code",
   "execution_count": null,
   "id": "aeb0ea96-3962-40fd-8fa9-31895b6ae087",
   "metadata": {
    "colab": {
     "base_uri": "https://localhost:8080/",
     "height": 296
    },
    "colab_type": "code",
    "id": "DSjkjkQ9ukA-",
    "outputId": "27c7d3d3-1f3b-4e9f-af14-c5d6ae703770"
   },
   "outputs": [
    {
     "data": {
      "text/plain": [
       "<matplotlib.collections.PathCollection at 0x7ff73be48ba8>"
      ]
     },
     "execution_count": 9,
     "metadata": {
      "tags": []
     },
     "output_type": "execute_result"
    },
    {
     "data": {
      "image/png": "[encoded data removed]",
      "text/plain": [
       "<Figure size 432x288 with 1 Axes>"
      ]
     },
     "metadata": {
      "tags": []
     },
     "output_type": "display_data"
    }
   ],
   "source": [
    "def F(x):\n",
    "    return x**2\n",
    "\n",
    "x = np.linspace(-30, 30, 100)\n",
    "y = list(map(F, x))\n",
    "\n",
    "plt.plot(x, y)\n",
    "plt.ylabel(\"Y\")\n",
    "plt.xlabel(\"X\")\n",
    "plt.scatter([-10, 2, 25], [F(-10), F(2), F(25)])"
   ]
  },
  {
   "cell_type": "markdown",
   "id": "7bb7363c-aed8-4f36-b62f-d50ecadb8251",
   "metadata": {
    "colab_type": "text",
    "id": "c13BsE_9u7AS"
   },
   "source": [
    "> Производная функции $F$ в точке $x=-10$ равна $-20$, в точке $x=2$ равна $4$ , в точке $x=25$ равна $50$ (как вычислять производные, мы научимся позже). <br>\n",
    "<br>\n",
    "Заметим, что производные в точках $x=2$ и $x=25$ положительны, а в точке $-10$ -- отрицательна. Это говорит о том, что в точках $x=2$ и $x=25$ функция возрастает, а в точке $-10$ &mdash; убывает. И это правда так &mdash; посмотрите на график. <br>\n",
    "Также заметим, что производная в точке $x=25$ по модулю больше, чем производная в точках $x=-10$ и $x=2$. Это значит, что скорость возрастания функции $F$ в точке $x=25$ выше, чем скорость возрастания в точке $x=2$ и скорость убывания в точке $x=-10$. И это тоже действительно так &mdash; см. график."
   ]
  },
  {
   "cell_type": "markdown",
   "id": "d3b9f68f-d9dd-4de1-99d0-f7dcf50df8b5",
   "metadata": {
    "colab_type": "text",
    "id": "z2D1UMaVymhO"
   },
   "source": [
    "> Пример #2 <br>\n",
    "Вычислим производную функции $F(x) = -2x - 1$ в точке $x = x_0$ по определению. <br>\n",
    "<br>\n",
    "$$F'(x_0) = \\lim_{\\Delta x \\to 0} \\frac{F(x_0 + \\Delta x) - F(x_0)}{\\Delta x} = \\lim_{\\Delta x \\to 0} \\frac{-2(x_0 + \\Delta x) - 1 + 2x_0 + 1}{\\Delta x} = \\lim_{\\Delta x \\to 0} \\frac{-2 \\Delta x}{\\Delta x} = \\lim_{\\Delta x \\to 0} -2 = -2$$\n",
    "<br>\n",
    "Заметим, что получившееся значение производной $-2$ не зависит от $x_0$, а значит, производная функции $F(x) = -2x - 1$ во всех точках равна $-2$. <br>\n",
    "Также здесь нам не потребовалось вычислять предел, потому что $\\Delta x$ просто сократилось =)"
   ]
  },
  {
   "cell_type": "markdown",
   "id": "3e4170f4-34ba-4d4f-95dc-6043d34e4bf7",
   "metadata": {
    "colab_type": "text",
    "id": "fPHl5wbZzmDD"
   },
   "source": [
    "> Пример #3 <br>\n",
    "Вычислим производную функции $F(x) = 2x^2$ в точке $x = x_0$ по определению. <br>\n",
    "<br>\n",
    "$$F'(x_0) = \\lim_{\\Delta x \\to 0} \\frac{F(x_0 + \\Delta x) - F(x_0)}{\\Delta x} = \\lim_{\\Delta x \\to 0} \\frac{2(x_0 + \\Delta x)^2 - 2x_0^2}{\\Delta x} = \\lim_{\\Delta x \\to 0} \\frac{4x_0 \\Delta x + 2\\Delta x^2}{\\Delta x} =$$\n",
    "<br>\n",
    "$$= \\lim_{\\Delta x \\to 0} (4x_0 + 2 \\Delta x) = \\lim_{\\Delta x \\to 0} 4x_0 + \\lim_{\\Delta x \\to 0} 2 \\Delta x = 4x_0$$\n",
    "<br>\n",
    "(при $\\Delta x \\to 0$ предел выражения $2 \\Delta x$ есть 0, поэтому остается только $4x_0$)<br>\n",
    "<br>\n",
    "Итак, в точке $x_0$ производная функции $F(x) = 2x^2$ равна $4x_0$\n",
    "<br>\n",
    "<br>\n",
    "Подставляя вместо $x_0$ числа, можем получать значения производной в точках. Например, <br>\n",
    "$F'(5) = 4*5 = 20$"
   ]
  },
  {
   "cell_type": "markdown",
   "id": "0ec2b020-fa59-4eee-9944-c14d8c65ceeb",
   "metadata": {
    "colab_type": "text",
    "id": "uYUUTvrHnPJo"
   },
   "source": [
    "**P.S.** Может быть, вы сейчас задаетесь вопросом, зачем нам нужна производная, чтобы определять возрастание/убывание/точки минимума функции, ведь мы можем нарисовать график и увидеть все, не считая никаких производных. <br>\n",
    "Подумайте о том, что сейчас мы введем производные функций многих переменных, на графики которых посмотреть не получится -- они не поменяются в трехмерное пространство =) Поэтому исследовать такие функции остается только с помощью производных."
   ]
  },
  {
   "cell_type": "markdown",
   "id": "e6e71453-ca5a-43c2-9a61-bd05f7243f39",
   "metadata": {
    "colab_type": "text",
    "id": "ZVn2OunErh_8"
   },
   "source": [
    "#### Производная как функция"
   ]
  },
  {
   "cell_type": "markdown",
   "id": "267d39c8-a893-4000-9b6d-494a07d4aa2b",
   "metadata": {
    "colab_type": "text",
    "id": "2wdZE2rErtuW"
   },
   "source": [
    "До сих пор мы говорили о производной в конкретной точке $x$ функции $F$. Давайте теперь допустим, что функция $F$ дифференцируема на всей своей области определения, то есть имеет производную во всех точках.\n",
    "\n",
    "Тогда можно определить производную функции $F$ как функцию от аргумента $x$:\n",
    "$F'(x) = \\lim_{\\Delta x \\to 0} \\frac{F(x + \\Delta x) - F(x)}{\\Delta x}$\n",
    "\n",
    "То есть, **производная функции есть тоже функция**."
   ]
  },
  {
   "cell_type": "markdown",
   "id": "3449e1b1-c1a2-4e34-ae5c-7049a8d32089",
   "metadata": {
    "colab_type": "text",
    "id": "cZH0QmRFwtWW"
   },
   "source": [
    "> Пример #4 <br>\n",
    "Рассмотрим ту же функцию $F(x) = x^2$. Ее производная есть функция $F'(x) = 2x$ (как вычислять производные, мы научимся позже). <br>\n",
    "<br>\n",
    "Давайте подставиим точки, рассмотренные в предыдущем примере, в эту функцию: <br> \n",
    "$F'(-10) = 2*(-10) = -20$ <br>\n",
    "$F'(2) = 2*(2) = 4$ <br>\n",
    "$F'(35) = 2*(25) = 50$ <br>\n",
    "<br>\n",
    "Все сходится =)"
   ]
  },
  {
   "cell_type": "markdown",
   "id": "c7a20bb5-d2cc-41c9-bb9e-5ba17bd331ed",
   "metadata": {
    "colab_type": "text",
    "id": "4-PXT6RA1434"
   },
   "source": [
    "> Пример #5 <br>\n",
    "В премере #2 мы рассмотрели функцию $F(x) = -2x - 1$ и выяснили, что ее производная во всех точках равна $-2$. Это значит, что функция производной есть:\n",
    "$$F'(x) = -2$$"
   ]
  },
  {
   "cell_type": "markdown",
   "id": "9f26e972-c72b-464c-b2d8-d829e1db8761",
   "metadata": {
    "colab_type": "text",
    "id": "HXjgMlht2T8X"
   },
   "source": [
    "> Пример #6 <br>\n",
    "В премере #3 мы рассмотрели функцию $F(x) = 2x^2$ и выяснили, что ее производная в точке $x_0$ точках равна $4x_0$. Так как точка $x_0$ произвольная, это значит, что функция производной есть:\n",
    "$$F'(x) = 4x$$"
   ]
  },
  {
   "cell_type": "markdown",
   "id": "4c93e129-1edb-4673-9595-5de8a6a0fc9b",
   "metadata": {
    "colab_type": "text",
    "id": "cfbf09-INpYu"
   },
   "source": [
    "#### Геометрический смысл производной"
   ]
  },
  {
   "cell_type": "markdown",
   "id": "407fa5ca-6e7e-4a07-85a3-6d7fe12f7784",
   "metadata": {
    "colab_type": "text",
    "id": "6tc_4Nkw3HIU"
   },
   "source": [
    "Рассмотрим функцию $F = x^2$, точку $(x, y) = (x, F(x))$ и зададим приращение аргумента $\\Delta x$. Приращение значения функции составит $\\Delta y = F(x + \\Delta x) - F(x)$. \n",
    "\n",
    "Через две точки $(x, y)$ и $(x + \\Delta x, y+ \\Delta y)$ проведем прямую. Она называется **секущей**."
   ]
  },
  {
   "cell_type": "markdown",
   "id": "a3cfcaf6-680c-4d41-b50e-61b912f3efcb",
   "metadata": {
    "colab_type": "text",
    "id": "kc_f1-234zSJ"
   },
   "source": [
    "<a href=\"https://imgbb.com/\"><img src=\"https://i.ibb.co/wsxHv5V/giphy.gif\" alt=\"giphy\" width=\"350\" height=\"255\" border=\"0\"></a>"
   ]
  },
  {
   "cell_type": "markdown",
   "id": "1de1cd4c-4336-449b-bab7-2d6780ba3d01",
   "metadata": {
    "colab_type": "text",
    "id": "KcZ00swa5Pf6"
   },
   "source": [
    "Заметим, что у нас получился прямоугольный треугольник с катетами $\\Delta y$ и $\\Delta x$. Тогда из геометрии мы получаем, что отношение приращения функции к приращению аргемента $\\frac{\\Delta y}{\\Delta x}$ есть отношение противолежащего катета этого треугольника к прилежашему, то есть, равно тангенсу угла $\\alpha$ между катетом $\\Delta x$ и гипотенузой (тангенсу угла наклона касательной):"
   ]
  },
  {
   "cell_type": "markdown",
   "id": "be91e8a1-7a99-47e1-a9f5-9b714c1460f8",
   "metadata": {
    "colab_type": "text",
    "id": "dgVm9cNB72S9"
   },
   "source": [
    "<a href=\"https://ibb.co/GHbFXG8\"><img src=\"https://i.ibb.co/0sdQk16/2020-01-29-13-53-10.jpg\" width=\"350\" height=\"255\" alt=\"2020-01-29-13-53-10\" border=\"0\"></a>"
   ]
  },
  {
   "cell_type": "markdown",
   "id": "32d534e5-37ae-46d8-857f-8a424e8bf3da",
   "metadata": {
    "colab_type": "text",
    "id": "OGbKihLG40_f"
   },
   "source": [
    "Будем теперь, как и раньше, уменьшать значение $\\Delta x$. Точка $(x + \\Delta x, y+ \\Delta y)$ будет двигаться по графику к точке $(x, y)$, а вместе с ней и секущая:"
   ]
  },
  {
   "cell_type": "markdown",
   "id": "cdb33532-c91c-4b91-8306-73c239008d81",
   "metadata": {
    "colab_type": "text",
    "id": "8foaTEXoaBIM"
   },
   "source": [
    "![alt text](https://media.giphy.com/media/rDaWuLJZxAp6o/giphy.gif)"
   ]
  },
  {
   "cell_type": "markdown",
   "id": "d190202a-a0a0-4171-b5e7-3fb505aa7a7b",
   "metadata": {
    "colab_type": "text",
    "id": "UAqY8CKq5Iw2"
   },
   "source": [
    "Заметим, что при приближении точки $(x + \\Delta x, y+ \\Delta y)$ к точке $(x, y)$ касательная все сильнее приближается к положению **касательной** в точке $(x, y)$ и в конце концов совпадет с ней. В итоге мы получаем определение касательной:\n",
    "\n",
    "**Касательная к графику функции $F$ в точке $(x, y)$ &mdash; это предельное положение секщей в этой точке.**"
   ]
  },
  {
   "cell_type": "markdown",
   "id": "caed8a63-e0f9-4bf8-97d1-2a24fb99d3ab",
   "metadata": {
    "colab_type": "text",
    "id": "YbTAjoQA9CTb"
   },
   "source": [
    "Вспомним теперь про то, что $\\frac{\\Delta y}{\\Delta x}$ есть тангенс угла наклона касательной. <br>\n",
    "Так как значение производной в точке $(x, y)$ есть предельное значение выражения $\\frac{\\Delta y}{\\Delta x}$, предельное положение секущей есть касательная в точке $(x, y)$, то получается, что:\n",
    "\n",
    "**Производная функции в точке (x, y) численно равна тангенсу угла наклона касательной в это точке** <br>\n",
    "(на картинке это угол $\\alpha$)\n"
   ]
  },
  {
   "cell_type": "markdown",
   "id": "fbf0f7fb-2a8e-45dc-af0d-3a41ab9fe9e4",
   "metadata": {
    "colab_type": "text",
    "id": "816xKHchAg-f"
   },
   "source": [
    "<a href=\"https://ibb.co/bdt4tyX\"><img src=\"https://i.ibb.co/88kykR9/2020-01-29-14-13-17.jpg\" width=\"350\" height=\"255\" alt=\"2020-01-29-14-13-17\" border=\"0\"></a>"
   ]
  },
  {
   "cell_type": "markdown",
   "id": "f415352c-ebed-438e-b0cf-aa44ae91837b",
   "metadata": {
    "colab_type": "text",
    "id": "oWGJNhL7AteH"
   },
   "source": [
    "#### Пример производной из жизни"
   ]
  },
  {
   "cell_type": "markdown",
   "id": "3f7a8017-120d-4657-a6c9-60ace8153e90",
   "metadata": {
    "colab_type": "text",
    "id": "3XfJLH46AuQG"
   },
   "source": [
    "> Пример #7 <br>\n",
    "Пример из физики: <br>\n",
    "все мы помним формулу изменения координаты движущегося тела:\n",
    "$$F(t) = x_0 + v_{0}t + \\frac{a}{2}t^2$$\n",
    "где: <br>\n",
    "$x_0$ &mdash; координата тела в момент начала движения <br>\n",
    "$v_0$ &mdash; скорость тела в момент начала движения <br>\n",
    "$a$ &mdash; ускорение тела <br>\n",
    "$t$ &mdash; момент времени <br>\n",
    "<br>\n",
    "Здесь важны величины $v$ и $a$. Скорость и ускорение связаны формулой: <br>\n",
    "$v(t) = v_0 + at$ <br>\n",
    "Ускорение &mdash; это производная скорости по времени. Это можно понять интуитивно: ускорение &mdash; это скорость изменения скорости тела (сравните со \"скоростью изменения координаты графика\")<br>\n"
   ]
  },
  {
   "cell_type": "markdown",
   "id": "2a2a0460-96ea-4b54-86ce-f42c54522092",
   "metadata": {
    "colab_type": "text",
    "id": "ARkNTFDcd-Gd"
   },
   "source": [
    "> Пример #8 <br>\n",
    "<br>\n",
    "Вообще практически вся физика описывается производными первого и второго порядка (производная первого порядка = производная, производная второго порядка = производная производной). <br>\n",
    "<br>\n",
    "Скорость есть производная координаты про времени <br>\n",
    "Ускорение есть производная скорости по времени <br>\n",
    "То есть, ускорение есть вторая производная координаты по времени (производная производной) <br>\n",
    "<br>\n",
    "Также производная применяется в физике, географии и даже социологии. В целом, производная оисывает скорость изменения некоторой величины.\n",
    "\n"
   ]
  },
  {
   "cell_type": "markdown",
   "id": "7418c968-52c4-478d-ab23-0b37621e7db9",
   "metadata": {
    "colab_type": "text",
    "id": "bKpVK2UkHVxI"
   },
   "source": [
    "#### Вычисление производной"
   ]
  },
  {
   "cell_type": "markdown",
   "id": "3cfdff23-0f07-44ce-ae8c-7d8541a1f5f0",
   "metadata": {
    "colab_type": "text",
    "id": "zrKPFnhPT9yZ"
   },
   "source": [
    "##### Элементарные функции"
   ]
  },
  {
   "cell_type": "markdown",
   "id": "42a58dba-8ecc-455a-8639-4b86dbef2418",
   "metadata": {
    "colab_type": "text",
    "id": "iv9tujvKHX6G"
   },
   "source": [
    "Выше мы ввели определение производной и нашли производные нескольких функций, используя определение. В жизни (математике) бывает множество ситуаций, когда нужно находить производные довольно сложных функций. Делать это каждый раз по определению очень муторно и сложно. <br>\n",
    "Но есть хорошая новость! Этого делать и не нужно. Производные сложных функций находятся по ловольно простым правилам. Сейчас мы их рассмотрим:"
   ]
  },
  {
   "cell_type": "markdown",
   "id": "913db1b8-d6ec-4ab1-88e8-74e5992a541b",
   "metadata": {
    "colab_type": "text",
    "id": "74Hban0hIsRF"
   },
   "source": [
    "Нам в этом поможет **таблица производных часто встречающихся функций**:"
   ]
  },
  {
   "cell_type": "markdown",
   "id": "8bd06325-964d-4554-be56-fe53baace7de",
   "metadata": {
    "colab_type": "text",
    "id": "22iRk9mlIhh1"
   },
   "source": [
    "![alt text](https://bugaga.net.ru/ege/math/imgs/tablica-proizvodnyh.gif)"
   ]
  },
  {
   "cell_type": "markdown",
   "id": "9c537632-16c5-447d-ab29-a9816d4b3432",
   "metadata": {
    "colab_type": "text",
    "id": "gd_znTuDIz0k"
   },
   "source": [
    "В этой таблице $C$ &mdash; произвольная константа. То есть, первая формула таблицы говорит там, что производная любой константной функции есть 0."
   ]
  },
  {
   "cell_type": "markdown",
   "id": "bcd46f66-9fa6-4369-8623-41ba3608f7dd",
   "metadata": {
    "colab_type": "text",
    "id": "yHBPML8aJZac"
   },
   "source": [
    "Теперь осталось выучить еще три правила **нахождения производной композиции функций**:\n",
    "Пусть у нас есть две функции $u$ и $v$."
   ]
  },
  {
   "cell_type": "markdown",
   "id": "d9a84785-aedc-4d56-9488-1dd1a1e2b604",
   "metadata": {
    "colab_type": "text",
    "id": "nw5qIMcsJfjw"
   },
   "source": [
    "1. Производная суммы двух функций есть сумма производных этих функций (аналогично с вычитанием)\n",
    "$$(u + v)' = u' + v'$$\n",
    "\n",
    "2. Производная произведения двух функций:\n",
    "$$(u \\times v)' = u' v + u v'$$\n",
    "\n",
    "3. Производная отношения двух функций:\n",
    "$$\\left(\\frac{u}{v}\\right)' = \\frac{u' v - u v'}{v^2}$$\n"
   ]
  },
  {
   "cell_type": "markdown",
   "id": "7019e5e4-7f6f-4a74-8a8d-ac7f635d6d87",
   "metadata": {
    "colab_type": "text",
    "id": "G_dUFGpdTe2M"
   },
   "source": [
    "> Пример #9\n",
    "<br>\n",
    "$F(x) = 4x^3$ <br>\n",
    "<br>\n",
    "Эта функция является произведением двух функций &mdash; $u(x) = 4$ и $v(x) = x^3$ <br>\n",
    "<br>\n",
    "Производная константы &mdash; 0, т.е. $u'(x) = 0$. <br>\n",
    "Для $x^3$ cмотрим в таблицу. Нужная нам формула &mdash; $(x^n)' = nx^{n-1}$. Применяем ее для $n=3$. Получаем: <br>\n",
    "$v'(x) = 3x^2$.<br>\n",
    "<br>\n",
    "По правилу дифференцирования композиции функций $F'(x) = u'v + uv' = 0 * 4x^3 + 4 * 3x^2 = 12x^2$ <br>\n",
    "<br>\n",
    "P.S. Вообще константы можно просто вынести за пределы дифференцирования и дифференцировать только часть функции с аргументами. То есть, формально, <br>\n",
    "$(CF(x))' = CF'(x)$. <br>\n",
    "Попробуйте убедиться в этом сами, использовав формулу производной произведения композиции функций.\n",
    "\n"
   ]
  },
  {
   "cell_type": "markdown",
   "id": "61986686-fd42-4e59-a7bc-e2e18d9d4ce7",
   "metadata": {
    "colab_type": "text",
    "id": "lcSI_mjtOpYk"
   },
   "source": [
    "> Пример #10 <br>\n",
    "$F(x) = \\frac{4sinx}{e^x} + x^2*lnx$\n",
    "<br>\n",
    "<br>\n",
    "Эта функция раскладывается в сумму двух функций: <br>\n",
    "$u = \\frac{4sinx}{e^x}$ <br>\n",
    "$v = x^2*lnx$ <br>\n",
    "<br>\n",
    "$u$: <br>\n",
    "Эта функция есть отношение функций $4sinx$ и $e^x$. Воспользуемся формулой производной отношения функций: <br>\n",
    "$u' = \\frac{(4sinx)' *e^x - 4sinx *(e^x)'}{(e^x)^2} = <тут\\ для\\ вычисления\\ производных\\ смотрим\\ в\\ таблицу> = \\frac{4cosx *e^x - 4sinx *e^x}{e^{2x}}$ <br>\n",
    "<br>\n",
    "$v$:\n",
    "Эта функция есть произведение двух табличных функций. Воспользуемся формулой производной произведения функций: <br>\n",
    "$v' = (x^2)' * lnx + x^2 * (lnx)' = 2x*lnx + \\frac{x^2}{x} = 2x*lnx + x$ <br>\n",
    "<br>\n",
    "Итого <br>\n",
    "$F'(x) = u' + v' = \\frac{4cosx *e^x - 4sinx *e^x}{e^{2x}} + 2x*lnx + x$\n"
   ]
  },
  {
   "cell_type": "markdown",
   "id": "c543f7ba-c421-41ca-ba42-93e721162075",
   "metadata": {
    "colab_type": "text",
    "id": "oml5Q9J4UPzd"
   },
   "source": [
    "##### Производная сложной функции"
   ]
  },
  {
   "cell_type": "markdown",
   "id": "377bb315-ae26-44a5-a381-50177ad364df",
   "metadata": {
    "colab_type": "text",
    "id": "UYdhXv7NUT8x"
   },
   "source": [
    "Рассмотрим функцию:\n",
    "\n",
    "$$F(x) = sin(x^3)$$\n",
    "\n",
    "Эта функция не элементарная, ее производная не записана в таблице. Чтобы вычислить ее производную, нужно представить ее в виде композиции двух функций: <br>\n",
    "$u(v) = sin v$ <br>\n",
    "$v(x) = x^3$ <br>\n",
    "Тогда $F(x) = u(v(x))$\n",
    "\n",
    "Итого мы представляем функцию $F(x) = sin(x^3)$ как функцию не от аргумента $x$, а от аргумента $v = x^3$. Такая функция называется **сложной функцией**. Для вычисления ее производной применяется формула:\n",
    "\n",
    "$\\left( u(v(x)) \\right)' = u'(v) * v'(x)$\n",
    "\n",
    "То есть, нужно взять производную функции $u$, если ее аргумент &mdash; это $v$ (не $x$) и умножить на производную $v$ по $x$."
   ]
  },
  {
   "cell_type": "markdown",
   "id": "fa2f0a0d-532d-4339-856b-73d2b33180cf",
   "metadata": {
    "colab_type": "text",
    "id": "3fDiDkficLGu"
   },
   "source": [
    "> Пример #11 <br>\n",
    "<br>\n",
    "Найдем производную $F(x) = sin(x^3)$: <br>\n",
    "<br>\n",
    "$u(v) = sin v$, $u'(v) = cos(v)$<br>\n",
    "$v(x) = x^3$, $v'(x) = 3x^2$<br>\n",
    "<br>\n",
    "<br>\n",
    "Итого $F'(x) = u'(v) * v'(x) = cos(x^3) * 3x^2$\n"
   ]
  },
  {
   "cell_type": "markdown",
   "id": "13cd420a-6fb1-4580-931f-8537f02dd828",
   "metadata": {
    "colab_type": "text",
    "id": "VxoJ726iRYY6"
   },
   "source": [
    "### Производная функции многих переменных"
   ]
  },
  {
   "cell_type": "markdown",
   "id": "2019c480-bd94-42eb-a29c-4510af4acf46",
   "metadata": {
    "colab_type": "text",
    "id": "Zr7L6nzabwTh"
   },
   "source": [
    "#### Определение"
   ]
  },
  {
   "cell_type": "markdown",
   "id": "ef986151-2fae-4c55-b340-99469cd19a71",
   "metadata": {
    "colab_type": "text",
    "id": "FkpkihYXeMcw"
   },
   "source": [
    "Давайте рассмотрим функцию $n$ переменных:\n",
    "\n",
    "$F(x_1, x_2, \\dots, x_n)$.\n",
    "\n",
    "В ноутбуке про функции мы говорили о том, что возрастание и убывание функций многих переменных определяется покоординатно. <br>\n",
    "Производные многих переменных тоже можно определять покоординатно, т.е. считая все аргументы, кроме того, по которому берем производную, константами. (и мы в этом курсе будем определять производную функции многих переменных только покоординатно).<br>\n",
    "Производная функции нескольких переменных по одной переменной называется **частной производной**."
   ]
  },
  {
   "cell_type": "markdown",
   "id": "597108b0-4faa-477e-8c8c-22f56080c8ae",
   "metadata": {
    "colab_type": "text",
    "id": "qpZ9a0cIgIw7"
   },
   "source": [
    "> Пример #12 <br>\n",
    "<br>\n",
    "$F(x_1, x_2, x_3) = x_1x_2 + x_3$<br>\n",
    "<br>\n",
    "Производная функции $F$ по переменной $x_1$: <br>\n",
    "$$F'_{x_1} = (x_1x_2 + x_3)'_{x_1} = (x_1x_2)'_{x_1} + (x'_3)_{x_1} = x_2$$\n",
    "<br>\n",
    "Производная функции $F$ по переменной $x_2$: <br>\n",
    "$$F'_{x_2} = (x_1x_2 + x_3)'_{x_2} = (x_1x_2)'_{x_2} + (x'_3)_{x_2} = x_1$$\n",
    "<br>\n",
    "Производная функции $F$ по переменной $x_3$: <br>\n",
    "$$F'_{x_3} = (x_1x_2 + x_3)'_{x_3} = (x_1x_2)'_{x_3} + (x'_3)_{x_3} = 1$$"
   ]
  },
  {
   "cell_type": "markdown",
   "id": "5979dfe8-e55f-49df-8396-7c77b6067e4d",
   "metadata": {
    "colab_type": "text",
    "id": "UsC28Llvhkju"
   },
   "source": [
    "Раз производная &mdash; это функция, то от нее тоже можно брать производную! Можно брать производную два раза по одной и той же переменной, а можно по разным. \n",
    "\n",
    "Обозначается вторая производная так: <br>\n",
    "$F''_{xx}$ &mdash; производная функции $F$ по $x$ и еще раз по $x$ <br>\n",
    "$F''_{xy}$ &mdash; производная функции $F$ по $x$ и еще раз по $y$"
   ]
  },
  {
   "cell_type": "markdown",
   "id": "40bb9212-77eb-45c3-8f15-e6aa63257cf7",
   "metadata": {
    "colab_type": "text",
    "id": "f-viD2uWhu0B"
   },
   "source": [
    "> Пример #13 <br>\n",
    "<br>\n",
    "$F(x_1, x_2, x_3) = x_1x_2 + x_3$<br>\n",
    "<br>\n",
    "Производная функции $F$ по переменной $x_1$: <br>\n",
    "$$F'_{x_1} = (x_1x_2 + x_3)'_{x_1} = (x_1x_2)'_{x_1} + (x'_3)_{x_1} = x_2$$<br>\n",
    "<br>\n",
    "Вторая производная функции $F$ по переменной $x_1$: <br>\n",
    "$F''_{x_1x_1} = (x_2)_{x_1} = 0$\n",
    "<br>\n",
    "Вторая производная функции $F$ по переменной $x_2$: <br>\n",
    "$F''_{x_1x_2} = (x_2)_{x_2} = 1$\n"
   ]
  },
  {
   "cell_type": "markdown",
   "id": "42fa94c3-b832-4821-8355-0df637ef014a",
   "metadata": {
    "colab_type": "text",
    "id": "PKrYQXSZictv"
   },
   "source": [
    "Также бывают третья, четвертая, ..., $n$-ная производные."
   ]
  },
  {
   "cell_type": "markdown",
   "id": "6f5691b4-510f-48ae-b4fe-a2b88af51890",
   "metadata": {
    "colab_type": "text",
    "id": "Wz-gd9oDbyPi"
   },
   "source": [
    "#### Градиент"
   ]
  },
  {
   "cell_type": "markdown",
   "id": "006dfcf4-f3bd-495f-923d-f031d65ee2c4",
   "metadata": {
    "colab_type": "text",
    "id": "BzVIxHThb7D1"
   },
   "source": [
    "**Градиент функции многих переменных** &mdash; это вектор частных производных функции."
   ]
  },
  {
   "cell_type": "markdown",
   "id": "a6ac71f7-83f4-4241-9815-36b54a7e062a",
   "metadata": {
    "colab_type": "text",
    "id": "6tApylr1cHgz"
   },
   "source": [
    "> Пример #14 \n",
    "Знакомая нам функция $F(x_1, x_2, x_3) = x_1x_2 + x_3$.<br> В примере #12 мы вычислили ее частные производные по всем трем переменным. Значит, градиент этой функции есть: <br>\n",
    "$$grad F = \\triangledown F = (x_2, x_1, 1)$$"
   ]
  },
  {
   "cell_type": "markdown",
   "id": "a2ce979f-ad70-43c7-8369-aad2d32822ea",
   "metadata": {
    "colab_type": "text",
    "id": "yj8K1BXic4-R"
   },
   "source": [
    "Градиент функции показывает, как ведет себя функция по каждой переменной. Градиент пригодится нам в ноутбуке по методам оптимизации."
   ]
  },
  {
   "cell_type": "markdown",
   "id": "8ed5720f-af50-47e3-b3d9-df97a44ac83f",
   "metadata": {},
   "source": [
    "### Оптимизация функции одной переменной"
   ]
  },
  {
   "cell_type": "markdown",
   "id": "04af5ee6-a30a-48a5-8ba0-46a66db0b095",
   "metadata": {
    "colab_type": "text",
    "id": "smbncR4CvDmh"
   },
   "source": [
    "#### Постановка задачи"
   ]
  },
  {
   "cell_type": "markdown",
   "id": "35cebae9-1d16-4c82-9441-f6a59acb0157",
   "metadata": {
    "colab_type": "text",
    "id": "Oy646ASQhIB4"
   },
   "source": [
    "Одна из самых важных задач, связанных с функциями -- это задача **поиска минимума функции** или **задача оптимизации функции**.\n",
    "\n",
    "Эта задача решается нейронными сетями при обучении. Да, по сути, обучение нейронной сети -- это оптимизация одной большой и очень сложной функции с тысячами или даже миллионами аргументов.\n",
    "\n",
    "Чуть подробнее: <br>\n",
    "При обучении нейронной сети мы хотим измерять, насколько хорошо сеть справляется с поставленной задачей. Для этого вводится функция потерь -- такая функция, которая в качестве аргументов принимает правильные ответы и ответы нейронной сети, и выдает некоторое число -- ошибку. Понятно, что мы хотим, чтобы ошибка сети была минимальной. <br>\n",
    "То есть, ставится задача **минимизации функции потерь**.\n",
    "Мы хотим подобрать такие аргументы (параметры) нейронной сети, чтобы получить минимум функции потерь.\n",
    "\n",
    "Сейчас мы научимся минимизировать функции."
   ]
  },
  {
   "cell_type": "markdown",
   "id": "472a8a14-3787-46fd-bb6d-0624517c7661",
   "metadata": {
    "colab_type": "text",
    "id": "GZQbYWqLvFpp"
   },
   "source": [
    "#### Аналитический алгоритм поиска минимума функции одной переменной"
   ]
  },
  {
   "cell_type": "markdown",
   "id": "91ae914a-a7ee-493f-82fd-063e2631c1b5",
   "metadata": {
    "colab_type": "text",
    "id": "y8UPfz74pD_r"
   },
   "source": [
    "Вспомним, что в ноутбуке по производным мы выяснили, что знак производной функции в точке показывает характер функции в этой точке -- убывает она, возрастает или имеет локальный экстремум. Давайте сформулируем **необходимое и достаточное условие существования экстремума функции $F$ в точке $x$**\n",
    "\n",
    "1. (необходимое условие) Если функция $F$ имеет экстремум в точке $x$, то либо $F$ не имеет производной в точке $x$, либо $F'(x) = 0$\n",
    "\n",
    "2. (достаточное условие) Если функция $F$ имеет производную в точке $x$ и $F'(x) = 0$, то в точке $x$ функция $F$ имеет экстремум.\n",
    "\n",
    "Иными словами, чтобы точка $x$ была точкой экстремума функции $F$, *необходимо*, чтобы $F$ в точке $x$ либо не имела производной, либо эта производная равнялась нулю. И чтобы чтобы точка $x$ была точкой экстремума функции $F$, *достаточно*, чтобы $F'(x)$ существовало и $F'(x) = 0$"
   ]
  },
  {
   "cell_type": "markdown",
   "id": "6b31339c-6d1d-4f1c-b642-5ea558ef3dac",
   "metadata": {
    "colab_type": "text",
    "id": "VOUz6DMrrLYp"
   },
   "source": [
    "Мы далее в курсе будем рассматривать только дифференцируемые на всей области определения функции (т.е. имеющие производную на всей области определения). Для таких функций критерий экстремума в точке выглядит проще:\n",
    "\n",
    "1. Если $F'(x) = 0$, то в точке $x$ у функции $F$ экстремум.\n",
    "2. Если у функции $F$ экстремум в точке $x$, то $F'(x) = 0$\n",
    "\n",
    " "
   ]
  },
  {
   "cell_type": "markdown",
   "id": "958ae878-0d0e-4538-a690-5e133071f909",
   "metadata": {
    "colab_type": "text",
    "id": "O-HGvEOPsKCs"
   },
   "source": [
    "Заметим, что мы говорили сейчас об *экстремумах*, а не *точках минимума*. Если в точке $x$ производная $F'(x) = 0$, то это может быть как точкой минимума, так и точкой максимума. \n",
    "\n",
    "Чтобы убедиться, что точка является точкой минимума, надо взять вторую производную $F''(x)$. Если $F'(x) = 0$ и $F''(x) > 0$, то $x$ -- точка минимума, если же $F'(x) = 0$ и $F''(x) < 0$, то $x$ -- точка максимума."
   ]
  },
  {
   "cell_type": "markdown",
   "id": "6f6b0f18-02cb-4c27-8d31-52f31f99d433",
   "metadata": {
    "colab_type": "text",
    "id": "WSi46EGmstok"
   },
   "source": [
    "Итак, **алгоритм нахождения точек локальных минимумов функции F(x)**:\n",
    "1. найти корни уравнения $F'(x) = 0$ (найти те точки $x$, в которых производная равна 0)\n",
    "2. Для всех корней уравнения $x$ вычислить вторую производную $F''(x)$. Если она больше нуля, то это точка минимума.\n",
    "\n",
    "Этот алгоритм **аналитический** -- он основан на решении уравнений."
   ]
  },
  {
   "cell_type": "markdown",
   "id": "902789be-27a6-4733-b821-82cdf2b02ca3",
   "metadata": {
    "colab_type": "text",
    "id": "MZPJXsSotP6P"
   },
   "source": [
    "> Пример #1 <br>\n",
    "<br>\n",
    "$$F = 4x^2 - 3x + 5$$\n",
    "Найдем точки минимума этой функции:<br>\n",
    "1. Находим производную: $F'(x) = 8x - 3$\n",
    "2. Решаем уравнение $F'(x) = 8x - 3 = 0$, $x = \\frac{3}{8}$ -- получили единственный корень.\n",
    "3. Находим вторую производную функции $F$ в точке $\\frac{3}{8}$: $F''(x) = (8x - 3)' = 8 > 0$, поэтому полученная точка экстремума $x = \\frac{3}{8}$ -- точка минимума.<br>\n",
    "<br>\n",
    "Итого мы нашли единственную точку минимума $x = \\frac{3}{8}$<br>\n",
    "<br>\n",
    "Мы можем убедиться в правильности решения, посмотрев на график функции $F$:\n"
   ]
  },
  {
   "cell_type": "code",
   "execution_count": 7,
   "id": "6a973a3f-7cf2-4aff-b0ab-af3f6671cb22",
   "metadata": {
    "colab": {
     "base_uri": "https://localhost:8080/",
     "height": 279
    },
    "colab_type": "code",
    "id": "dVWJsK2uhC4y",
    "outputId": "766cf33e-87ce-45fb-ccb6-1d99d1710908"
   },
   "outputs": [
    {
     "data": {
      "image/png": "[encoded data removed]",
      "text/plain": [
       "<Figure size 432x288 with 1 Axes>"
      ]
     },
     "metadata": {
      "tags": []
     },
     "output_type": "display_data"
    }
   ],
   "source": [
    "import numpy as np\n",
    "import matplotlib.pyplot as plt\n",
    "\n",
    "def F(x):\n",
    "    return 4*x**2 - 3*x + 5\n",
    "\n",
    "def plot_function(f):\n",
    "    x = np.linspace(-1, 2, 100)\n",
    "    y = list(map(f, x))\n",
    "\n",
    "    plt.plot(x, y)\n",
    "    plt.ylabel(\"Y\")\n",
    "    plt.xlabel(\"X\")\n",
    "    \n",
    "plot_function(F)"
   ]
  },
  {
   "cell_type": "markdown",
   "id": "d33441df-213e-4887-a716-5edb4c02b5bf",
   "metadata": {
    "colab_type": "text",
    "id": "vOTdgpIiu3FF"
   },
   "source": [
    "> Похоже на правду =)"
   ]
  },
  {
   "cell_type": "markdown",
   "id": "e71de705-37fa-4d09-a08d-a3537f911070",
   "metadata": {
    "colab_type": "text",
    "id": "ECa-6dCOwePp"
   },
   "source": [
    "Этот алгоритм хорошо и позволяет находить точные значения координаты точки минимума функции. Но он не всегда применим.\n",
    "\n",
    "Рассмотрим функцию, знакомую нам по ноутбуку по производным:<br>\n",
    "$F(x) = x^4 + 5x^3 - 10x$. Выглядит она так:"
   ]
  },
  {
   "cell_type": "code",
   "execution_count": 17,
   "id": "9291e99b-4ebe-42c2-9380-242df7a17424",
   "metadata": {
    "colab": {
     "base_uri": "https://localhost:8080/",
     "height": 296
    },
    "colab_type": "code",
    "id": "Y3t8nfaYvcjx",
    "outputId": "a6d5510f-7e83-4551-eb3f-1d7e023f7236"
   },
   "outputs": [
    {
     "data": {
      "text/plain": [
       "<matplotlib.collections.PathCollection at 0x7fb09ba5e320>"
      ]
     },
     "execution_count": 17,
     "metadata": {
      "tags": []
     },
     "output_type": "execute_result"
    },
    {
     "data": {
      "image/png": "[encoded data removed]",
      "text/plain": [
       "<Figure size 432x288 with 1 Axes>"
      ]
     },
     "metadata": {
      "tags": []
     },
     "output_type": "display_data"
    }
   ],
   "source": [
    "def F(x):\n",
    "    return x**4 + 5*x**3 - 10*x\n",
    "\n",
    "x = np.linspace(-5, 2, 100)\n",
    "y = list(map(F, x))\n",
    "\n",
    "plt.plot(x, y)\n",
    "plt.ylabel(\"Y\")\n",
    "plt.xlabel(\"X\")\n",
    "plt.scatter([-3.5518, -0.9439, 0.7457], [F(-3.5518), F(-0.9439), F(0.7457)])"
   ]
  },
  {
   "cell_type": "markdown",
   "id": "94085793-b15e-4625-9230-4f7e45cc19e2",
   "metadata": {
    "colab_type": "text",
    "id": "GXqAXzmlwxgE"
   },
   "source": [
    "Мы помним, что у нее есть две точки минимума и одна точка максимума. Давайте допустим, что мы хотим найти координаты точек минимума, используя наш алгоритм. Нам нужно было бы вычислить производную <br>\n",
    "$F'(x) = 4x^3 + 15x^2 -10$ <br>\n",
    "и решить уравнение <br>\n",
    "$4x^3 + 15x^2 -10 = 0$ <br>\n",
    "Но это уравнение третьей степени, которое сложно (если не невозможно) решить аналитически. Значит, найти точки минимума нашим алгоритмом не получится. "
   ]
  },
  {
   "cell_type": "markdown",
   "id": "8bbe0df3-0c74-49dd-8905-77473671a786",
   "metadata": {
    "colab_type": "text",
    "id": "YytARbPIxlEh"
   },
   "source": [
    "Очевидно, бывают еще более сложные функции, что уж говорить о функциях многих переменных. Поэтому рассмотрим другой алгоритм поиска минимума функций:"
   ]
  },
  {
   "cell_type": "markdown",
   "id": "69ae10e2-3817-4519-9f69-7b90790ddf11",
   "metadata": {
    "colab_type": "text",
    "id": "6JTs_CLJxyzZ"
   },
   "source": [
    "#### Алгоритм градиентного спуска: идея"
   ]
  },
  {
   "cell_type": "markdown",
   "id": "a1ced666-10c8-44aa-8bbc-c9a396b62029",
   "metadata": {
    "colab_type": "text",
    "id": "xKuuz-XO_iek"
   },
   "source": [
    "С этого момента и везде далее мы будем считать, что все рассматриваемые функции дифференцируемы на всей области определения."
   ]
  },
  {
   "cell_type": "markdown",
   "id": "f0146e1e-1b0a-4b4a-84b2-1df3a82abf03",
   "metadata": {
    "colab_type": "text",
    "id": "WcAtHF-ZyCQm"
   },
   "source": [
    "Посмотрим на график этой коварной функции и на случайную точку $(x, y)$ на нем:"
   ]
  },
  {
   "cell_type": "code",
   "execution_count": 19,
   "id": "f373b5b1-53c2-4ce3-b573-3e09d0cb5965",
   "metadata": {
    "colab": {
     "base_uri": "https://localhost:8080/",
     "height": 279
    },
    "colab_type": "code",
    "id": "_SiGJ1apxd_V",
    "outputId": "c7f57e74-6ae5-468e-d906-c2ce6c1fadfe"
   },
   "outputs": [
    {
     "data": {
      "image/png": "[encoded data removed]",
      "text/plain": [
       "<Figure size 432x288 with 1 Axes>"
      ]
     },
     "metadata": {
      "tags": []
     },
     "output_type": "display_data"
    }
   ],
   "source": [
    "def F(x):\n",
    "    return x**4 + 5*x**3 - 10*x\n",
    "\n",
    "x = np.linspace(-5, 2, 100)\n",
    "y = list(map(F, x))\n",
    "\n",
    "plt.plot(x, y)\n",
    "plt.ylabel(\"Y\")\n",
    "plt.xlabel(\"X\")\n",
    "plt.scatter([-2], [F(-2)])\n",
    "plt.show()"
   ]
  },
  {
   "cell_type": "markdown",
   "id": "da5ef469-2dee-486f-bc5c-298258386046",
   "metadata": {
    "colab_type": "text",
    "id": "URH7uH9PIp8u"
   },
   "source": [
    "Давайте представим, что мы не видим графика этой функции, но очень хотим найти точку минимума функции.\n",
    "\n",
    "Из ноутбука по производным мы помним, что знак производной функции в точке показывает, возрастает функция в этой точке или убывает (ну или имеет экстремум). Как нетрудно догадаться, производная в точке $(x, y)$ на нашем графике будет $< 0$, функция в этой точке возрастает. <br>\n",
    "Это значит, что **какая-то точка локального минимума функции находится правее точки $x$**. <br>\n",
    "(\"правее\" значит, что минимум функции достигается при значении аргумента $< x$). <br>\n",
    "Это отличное наблюдение! Это значит, что если мы уменьшим $x$ на некоторую величину $\\Delta x$, то мы можем стать ближе к точке минимума!"
   ]
  },
  {
   "cell_type": "markdown",
   "id": "04ffae42-595d-4d51-aa93-936bdbcfdfc2",
   "metadata": {
    "colab_type": "text",
    "id": "sppzD64HIrBt"
   },
   "source": [
    "Тогда алгоритм поиска точки минимума выглядит так:\n",
    "\n",
    "1. Берем случайную точку $x$ функции $F$\n",
    "2. Вычисляем производную $F'(x)$\n",
    "3. Если $F'(x) > 0$, уменьшаем $x$, если $F'(x) < 0$, увеличиваем $x$\n",
    "4. Повторяем 3 \n",
    "\n",
    "То есть, мы берем случайную точку и начинаем движение от нее к точке минимума, каждый шаг алгоритма вычисляя производную функции в точке, в которой сейчас находимся и сдвигая эту точку в направлении минимума.<br>\n",
    "Вычислять производную на каждом шаге нужно, потому что мы в какой-то момент можем \"перепрыгнуть\" через точку минимума, тогда производная поменяет знак и мы поймем, что нужно двигаться обратно.\n",
    "\n",
    "В идеале это \"движение\" должно выглядеть так:"
   ]
  },
  {
   "cell_type": "markdown",
   "id": "142aaa30-6bd6-434e-bec3-9a19e9b9094f",
   "metadata": {
    "colab_type": "text",
    "id": "LcTbeu4sKGsf"
   },
   "source": [
    "<a href=\"https://ibb.co/gWHbctj\"><img src=\"https://i.ibb.co/vdgCMLw/2020-01-30-19-01-37.jpg\" width=\"400\" height=\"300\" alt=\"2020-01-30-19-01-37\" border=\"0\"></a>"
   ]
  },
  {
   "cell_type": "markdown",
   "id": "51f8eafa-874b-48f6-ae0a-a658082c4338",
   "metadata": {
    "colab_type": "text",
    "id": "KTrwC5lG_cN6"
   },
   "source": [
    "\n",
    "\n",
    "Остается два вопроса: на какую величину $\\Delta x$ уменьшать и когда останавливать алгоритм.\n",
    "\n",
    "Давайте попробуем выбрать $\\Delta x$. Это нетривиально, ведь мы не видим графика функции и не знаем, насколько далеко точка минимума. А численное значение производной нам показывает только факт убывания функции и скорость убывания (уго наклона графика), но не расстояние до точки минимума.\n",
    "\n",
    "Другими словами, минимум может быть в точке $x-0.2$, а может быть в точке $x - 200$. \n",
    "\n",
    "Если мы возьмем слишком большую величину, то можем просто перескочить через точку минимума. Примером такой величины может быть $\\Delta x = 2.5$:"
   ]
  },
  {
   "cell_type": "code",
   "execution_count": 21,
   "id": "e57023aa-3396-424c-bd84-e712491e49e7",
   "metadata": {
    "colab": {
     "base_uri": "https://localhost:8080/",
     "height": 279
    },
    "colab_type": "code",
    "id": "QaS2QFV89lEY",
    "outputId": "9d1fdce2-170c-4d8d-ca42-ba8ef82a6b04"
   },
   "outputs": [
    {
     "data": {
      "image/png": "[encoded data removed]",
      "text/plain": [
       "<Figure size 432x288 with 1 Axes>"
      ]
     },
     "metadata": {
      "tags": []
     },
     "output_type": "display_data"
    }
   ],
   "source": [
    "def F(x):\n",
    "    return x**4 + 5*x**3 - 10*x\n",
    "\n",
    "x = np.linspace(-5, 2, 100)\n",
    "y = list(map(F, x))\n",
    "\n",
    "plt.plot(x, y)\n",
    "plt.ylabel(\"Y\")\n",
    "plt.xlabel(\"X\")\n",
    "plt.scatter([-4.5], [F(-4.5)])\n",
    "plt.show()"
   ]
  },
  {
   "cell_type": "markdown",
   "id": "efe31107-d238-4060-9a8c-d631ec718537",
   "metadata": {
    "colab_type": "text",
    "id": "jwHOjaK6ExA2"
   },
   "source": [
    "Итак, нужно брать $\\Delta x$ довольно маленьким. \n",
    "\n",
    "Если мы зафиксируем некоторую величину $\\Delta x$ и на каждом шаге алгоритма будем сдвигать $x$ на одинаковую величину $\\Delta x$ в направлении минимума, то это может занять очень много времени (например, когда точка минимума в точке $x = 1$, а мы стоим в точке $x = 1001$ и $\\Delta x = 1$, нам потребуется 1000 шагов алгоритма, чтобы дойти до минимума). Плюс, если мы стоим в точке $x = 1.5$, то, сдвинувшись на $\\Delta x = 1$ по направлению к точке минимума мы попадем в точку $x = 0.5$, далее опять сдвинувшись на $\\Delta x = 1$ по направлению к точке минимума мы попадем в точку $x = 1.5$ и будем так ходить туда-сюда, не приближаясь к точке минимума $x = 1$ ближе. "
   ]
  },
  {
   "cell_type": "markdown",
   "id": "278e017b-ab32-4773-ac4a-c89361f8c800",
   "metadata": {
    "colab_type": "text",
    "id": "IIiJeLP3FZG0"
   },
   "source": [
    "Давайте еще раз внимательно посмотрим на график функции (выше) и увидим, что чем ближе точка к минимуму, тем плавнее график. <br>\n",
    "Более формально, что чем ближе точка к минимуму, тем меньше скорость убывания/возрастания функции, а значит, тем меньше модуль значения производной.\n",
    "\n",
    "Мы можем это использовать. Давайте зафиксируем некоторое маленькое число $\\epsilon$ и каждый шаг алгоритма будем двигать $x$ по направлению к минимуму на шаг $\\epsilon * |F'(x)|$. Тогда пока наша точка будет далеко от минимума, $|F'(x)|$ будет довольно большим и мы будем двигаться большими шагами, а по мере приближения к точке минимума $|F'(x)|$ будет уменьшаться, и наш шаг тоже будет уменьшаться. Так мы менее вероятно перескочим через точку минимума и подойдем к ней ближе в итоге."
   ]
  },
  {
   "cell_type": "markdown",
   "id": "9f81cfb0-2c40-4d60-9a48-f8a24d4e922e",
   "metadata": {
    "colab_type": "text",
    "id": "Us3jbxBPQYBx"
   },
   "source": [
    "Ответ на второй вопрос -- когда останавливать алгоритм поиска минимума -- может быть разный. Действуя таким образом, ровно в точку минимума мы почти никогда не попадем, придется остановиться в какой-то точке возле минимума. Но для применений этого алгоритма нахождение точки около минимума вполне хватает. Чаще всего алгоритм останавливается после прохождения определенного количества шагов и/или достижения определенной близости к точке минимума. Близость, опять же, можно измерять значением производной в точке. Чем ближе, тем модуль производной меньше.\n",
    "\n",
    "Итак, теперь мы можем сформулировать итоговый алгоритм:"
   ]
  },
  {
   "cell_type": "markdown",
   "id": "41fed91d-c0ce-4089-ab98-7ab9b2732b8e",
   "metadata": {
    "colab_type": "text",
    "id": "pFOSF91fQFwy"
   },
   "source": [
    "#### Алгоритм градиентного спуска \n",
    "\n"
   ]
  },
  {
   "cell_type": "markdown",
   "id": "d149897f-3d90-4ef2-905a-d785902e41db",
   "metadata": {
    "colab_type": "text",
    "id": "gkXSHxXrUHYx"
   },
   "source": [
    "1. Берем случайную точку $x$ функции $F$, фиксируем $\\epsilon$ (например, $\\epsilon = 0.001$)\n",
    "2. Вычисляем производную $F'(x)$\n",
    "3. Изменяем $x$ : $x = x - \\epsilon F'(x)$ \n",
    "4. Повторяем 3, пока не пройдет определенное количество шагов и/или мы не станем достаточно близко к точке минимума.\n",
    "\n",
    "Этот алгоритм называется **алгоритм градиентного спуска**. \"Градиентного\" -- потому что мы \"спускаемся\" к точке минимума, вычисляя производную (градиент) функции на каждом шаге.\n",
    "\n",
    "Выглядит это как-то так:"
   ]
  },
  {
   "cell_type": "markdown",
   "id": "b6c19b26-cdde-489e-8c65-fdcda2e3ad49",
   "metadata": {
    "colab_type": "text",
    "id": "9LzMHhcZSFo3"
   },
   "source": [
    "![alt text](https://rezaborhani.github.io/mlr/mlrefined_images/gifs/unnormalized_gradient_descent.gif)"
   ]
  },
  {
   "cell_type": "markdown",
   "id": "744e922a-a3c2-4283-b311-94a1f218f51f",
   "metadata": {
    "colab_type": "text",
    "id": "s9up3-ZTRDCS"
   },
   "source": [
    "Заметим, что, начиная движение из одной точки, мы можем найти только одну точку локального минимума. Если хочется найти несколько точек, можно запустить алгоритм градиентного спуска несколько раз из разных случайно выбранных точек. Но гарантии, что мы найдем все точки минимума или что найдем точку глобального минимума, нет."
   ]
  },
  {
   "cell_type": "markdown",
   "id": "ff0a5af9-046e-4e45-9207-fce02268b9b9",
   "metadata": {
    "colab_type": "text",
    "id": "983ypt_BTzvW"
   },
   "source": [
    "Существует множество молификаций/оптимизаций алгоритма градиентного спуска, но о них мы говорить не будем. Центральная идея у них одна и та же -- спуск к точке минимума, используя градиент функции."
   ]
  },
  {
   "cell_type": "markdown",
   "id": "32eaf43d-935f-497e-969d-35d4a3d95f91",
   "metadata": {
    "colab_type": "text",
    "id": "txUBjU1AULu2"
   },
   "source": [
    "### Оптимизация функции многих переменных"
   ]
  },
  {
   "cell_type": "markdown",
   "id": "9adfe61b-ce79-4a22-a1ec-4fe9d8381494",
   "metadata": {
    "colab_type": "text",
    "id": "IDs00e4nUPVD"
   },
   "source": [
    "Давайте перейдем к функциям многих переменных. \n",
    "\n",
    "Идея нахождения минимума функции многих переменных такая же, как и для функции одной переменной. \n",
    "\n",
    "Давайте рассмотрим функцию $F(x_1, x_2, \\dots, x_n)$ $n$ переменных. <br>\n",
    "Алгоритм выглядит так:\n",
    "\n",
    "1. Берем случайную точку $x = (x_1, x_2, \\dots, x_n)$ функции $F$, фиксируем $\\epsilon$ (например, $\\epsilon = 0.001$)\n",
    "2. Вычисляем частные производные $F'(x)$ по всем $n$ аргументам функции в точке $x = (x_1, x_2, \\dots, x_n)$, получаем градиент <br>\n",
    "$\\triangledown F = (F'_{x_1}(x_1, x_2, \\dots, x_n), F'_{x_2}(x_1, x_2, \\dots, x_n), \\dots, F'_{x_n}(x_1, x_2, \\dots, x_n))$\n",
    "3. Изменяем  <br>\n",
    "$x_1 : x_1 = x_1 - \\epsilon F'_{x_1}(x_1, x_2, \\dots, x_n)$ <br>\n",
    "$x_2 : x_2 = x_2 - \\epsilon F'_{x_2}(x_1, x_2, \\dots, x_n)$ <br>\n",
    "$\\dots$ <br>\n",
    "$x_n : x_n = x_n - \\epsilon F'_{x_n}(x_1, x_2, \\dots, x_n)$ <br>\n",
    "или, в векторной записи, <br>\n",
    "$x = x - \\epsilon \\triangledown F(x)$\n",
    "4. Повторяем 3, пока не пройдет определенное количество шагов и/или мы не станем достаточно близко к точке минимума по каждой из координат"
   ]
  },
  {
   "cell_type": "markdown",
   "id": "099b4ce9-83de-486c-a70e-c9fa480b0df0",
   "metadata": {
    "colab_type": "text",
    "id": "fD0EtDDlXXnM"
   },
   "source": [
    "То есть мы вычисляем частные производные по каждому аргументу функции, понимаем для каждого аргумента функции, возрастает или убывает функция по этому аргументу и меняем значения всех $n$ аргументов в ту сторону, где функция убывает."
   ]
  },
  {
   "cell_type": "markdown",
   "id": "bd438917-e487-4297-ba49-b6be2231a7e4",
   "metadata": {
    "colab_type": "text",
    "id": "1T2C2T90ZUwr"
   },
   "source": [
    "В случае функции двух переменных алгоритм может выглядеть так:"
   ]
  },
  {
   "cell_type": "markdown",
   "id": "bffbfa41-1229-423b-9222-4d01d1a17c12",
   "metadata": {
    "colab_type": "text",
    "id": "HprDVYasZVfc"
   },
   "source": [
    "![alt text](https://thumbs.gfycat.com/AngryInconsequentialDiplodocus-size_restricted.gif)"
   ]
  }
 ],
 "metadata": {
  "kernelspec": {
   "display_name": "Python 3 (ipykernel)",
   "language": "python",
   "name": "python3"
  },
  "language_info": {
   "codemirror_mode": {
    "name": "ipython",
    "version": 3
   },
   "file_extension": ".py",
   "mimetype": "text/x-python",
   "name": "python",
   "nbconvert_exporter": "python",
   "pygments_lexer": "ipython3",
   "version": "3.11.0"
  }
 },
 "nbformat": 4,
 "nbformat_minor": 5
}
