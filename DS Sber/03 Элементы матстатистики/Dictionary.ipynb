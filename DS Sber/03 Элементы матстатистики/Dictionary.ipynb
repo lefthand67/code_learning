{
 "cells": [
  {
   "cell_type": "markdown",
   "id": "e7b0ce68",
   "metadata": {},
   "source": [
    "Mean - среднее  \n",
    "Mode - мода  \n",
    "Mediain - медиана  \n",
    "Dispersion - дисперсия  \n",
    "Deviation - отклонение  \n",
    "Variance - разброс  \n",
    "Standard Deviation - стандартное отклонение  \n",
    "Skewness - асимметрия  \n",
    "Kurtosis - Коэффицие́нт эксце́сса (коэффициент островершинности)  \n",
    "\n"
   ]
  }
 ],
 "metadata": {
  "kernelspec": {
   "display_name": "Python 3 (ipykernel)",
   "language": "python",
   "name": "python3"
  },
  "language_info": {
   "codemirror_mode": {
    "name": "ipython",
    "version": 3
   },
   "file_extension": ".py",
   "mimetype": "text/x-python",
   "name": "python",
   "nbconvert_exporter": "python",
   "pygments_lexer": "ipython3",
   "version": "3.8.13"
  }
 },
 "nbformat": 4,
 "nbformat_minor": 5
}
