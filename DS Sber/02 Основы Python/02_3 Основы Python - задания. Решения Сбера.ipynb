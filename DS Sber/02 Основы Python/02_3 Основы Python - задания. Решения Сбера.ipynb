{
 "cells": [
  {
   "cell_type": "markdown",
   "id": "9b0fc3cb",
   "metadata": {
    "jp-MarkdownHeadingCollapsed": true,
    "tags": []
   },
   "source": [
    "## Раздел 4. Условные операторы\n",
    "\n",
    "### Условные операторы. Задание 1"
   ]
  },
  {
   "cell_type": "code",
   "execution_count": 1,
   "id": "31cb7d4d",
   "metadata": {},
   "outputs": [
    {
     "name": "stdout",
     "output_type": "stream",
     "text": [
      "Введите число a: 3\n",
      "Введите число b: 4\n",
      "3\n"
     ]
    }
   ],
   "source": [
    "a = input('Введите число a: ')\n",
    "b = input('Введите число b: ')\n",
    "if int(a) < int(b):\n",
    "    print(a)\n",
    "else:\n",
    "    print(b)"
   ]
  },
  {
   "cell_type": "markdown",
   "id": "cc501e4b",
   "metadata": {},
   "source": [
    "### Условные операторы. Задание 2"
   ]
  },
  {
   "cell_type": "code",
   "execution_count": 2,
   "id": "19daff21",
   "metadata": {},
   "outputs": [
    {
     "name": "stdout",
     "output_type": "stream",
     "text": [
      "Введите число a: 3\n",
      "Введите число b: 4\n",
      "Введите число c: 5\n",
      "3\n"
     ]
    }
   ],
   "source": [
    "a = int(input('Введите число a: '))\n",
    "b = int(input('Введите число b: '))\n",
    "c = int(input('Введите число c: '))\n",
    "if a < b and a < c:\n",
    "    print(a)\n",
    "elif b < a and b < c or a == b and a < c:\n",
    "    print(b)\n",
    "else:\n",
    "    print(c)"
   ]
  },
  {
   "cell_type": "markdown",
   "id": "439e3b9a",
   "metadata": {},
   "source": [
    "### Условные операторы. Задание 3"
   ]
  },
  {
   "cell_type": "code",
   "execution_count": 4,
   "id": "e5635c4d",
   "metadata": {},
   "outputs": [
    {
     "name": "stdout",
     "output_type": "stream",
     "text": [
      "Введите число a: 2\n",
      "Введите число b: 4\n",
      "Введите число c: 2\n",
      "2\n"
     ]
    }
   ],
   "source": [
    "a = int(input('Введите число a: '))\n",
    "b = int(input('Введите число b: '))\n",
    "c = int(input('Введите число c: '))\n",
    "set_1 = {a,b,c}\n",
    "if len(set_1) == 1:\n",
    "    print(3)\n",
    "elif len(set_1) == 2:\n",
    "    print(2)\n",
    "else:\n",
    "    print(0)"
   ]
  },
  {
   "cell_type": "markdown",
   "id": "4a0791ce",
   "metadata": {
    "jp-MarkdownHeadingCollapsed": true,
    "tags": []
   },
   "source": [
    "## Раздел 5. Циклы\n",
    "\n",
    "### Циклы. Задание 1"
   ]
  },
  {
   "cell_type": "code",
   "execution_count": 8,
   "id": "b46d1399",
   "metadata": {},
   "outputs": [
    {
     "name": "stdout",
     "output_type": "stream",
     "text": [
      "Введите число №1 3\n",
      "Введите число №2 4\n",
      "Введите число №3 5\n",
      "Введите число №4 6\n",
      "18\n"
     ]
    }
   ],
   "source": [
    "summ = 0\n",
    "for i in range(4):\n",
    "    summ+=int(input('Введите число №'+str(i+1)+' '))\n",
    "print(summ)"
   ]
  },
  {
   "cell_type": "markdown",
   "id": "702df22c",
   "metadata": {},
   "source": [
    "### Циклы. Задание 2"
   ]
  },
  {
   "cell_type": "code",
   "execution_count": 9,
   "id": "43a8c53b",
   "metadata": {},
   "outputs": [
    {
     "name": "stdout",
     "output_type": "stream",
     "text": [
      "Введите кол-во чисел: 4\n",
      "Введите число №1 5\n",
      "Введите число №2 6\n",
      "Введите число №3 7\n",
      "Введите число №4 8\n",
      "0\n"
     ]
    }
   ],
   "source": [
    "n = int(input('Введите кол-во чисел: '))\n",
    "summ = 0\n",
    "for i in range(n):\n",
    "    a = int(input('Введите число №'+str(i+1)+' '))\n",
    "    if a == 0:\n",
    "        summ+=1\n",
    "print(summ)"
   ]
  },
  {
   "cell_type": "markdown",
   "id": "a5c1be9e",
   "metadata": {},
   "source": [
    "### Циклы. Задание 3"
   ]
  },
  {
   "cell_type": "code",
   "execution_count": 11,
   "id": "358dd813",
   "metadata": {},
   "outputs": [
    {
     "name": "stdout",
     "output_type": "stream",
     "text": [
      "Введите число ступеней меньше 10: 5\n",
      "1\n",
      "12\n",
      "123\n",
      "1234\n",
      "12345\n"
     ]
    }
   ],
   "source": [
    "n = int(input('Введите число ступеней меньше 10: '))\n",
    "if n > 9:\n",
    "    print('Ошибка, количество ступеней должно быть меньше 10')\n",
    "else:\n",
    "    step = ''\n",
    "    for i in range(n):\n",
    "        step+=str(i+1)\n",
    "        print(step)"
   ]
  },
  {
   "cell_type": "markdown",
   "id": "80a6ac3c",
   "metadata": {},
   "source": [
    "### Циклы. Задание 4"
   ]
  },
  {
   "cell_type": "code",
   "execution_count": 14,
   "id": "91be8239",
   "metadata": {},
   "outputs": [
    {
     "name": "stdout",
     "output_type": "stream",
     "text": [
      "Введите число ступеней меньше 10: 5\n",
      "    1\n",
      "   121\n",
      "  12321\n",
      " 1234321\n",
      "123454321\n"
     ]
    }
   ],
   "source": [
    "n = int(input('Введите число ступеней меньше 10: '))\n",
    "if n > 9:\n",
    "    print('Ошибка, количество ступеней должно быть меньше 10')\n",
    "else:\n",
    "    for i in range(1,n+1):\n",
    "        step = ' '*(n-i)\n",
    "        for j in range(1,i+1):\n",
    "            step+=str(j)\n",
    "        for j in range(i-1,0,-1):\n",
    "            step+=str(j)\n",
    "        print(step)"
   ]
  },
  {
   "cell_type": "code",
   "execution_count": 19,
   "id": "5ff5032b",
   "metadata": {},
   "outputs": [
    {
     "data": {
      "text/plain": [
       "[10, 9, 8, 7, 6, 5, 4, 3, 2, 1]"
      ]
     },
     "execution_count": 19,
     "metadata": {},
     "output_type": "execute_result"
    }
   ],
   "source": [
    "list(range(10, 0, -1))"
   ]
  },
  {
   "cell_type": "markdown",
   "id": "e8f5aaf8",
   "metadata": {},
   "source": [
    "### Циклы. Задание 5"
   ]
  },
  {
   "cell_type": "code",
   "execution_count": 20,
   "id": "8994e02f",
   "metadata": {},
   "outputs": [
    {
     "name": "stdout",
     "output_type": "stream",
     "text": [
      "Введите число ступеней меньше 10: 5\n",
      "    1\n",
      "   121\n",
      "  12321\n",
      " 1234321\n",
      "123454321\n",
      " 1234321\n",
      "  12321\n",
      "   121\n",
      "    1\n"
     ]
    }
   ],
   "source": [
    "n = int(input('Введите число ступеней меньше 10: '))\n",
    "if n > 9:\n",
    "    print('Ошибка, количество ступеней должно быть меньше 10')\n",
    "else:\n",
    "    for i in range(1,n+1):\n",
    "        step=' '*(n-i)\n",
    "        for j in range(1,i+1):\n",
    "            step+= str(j)\n",
    "        for j in range(i-1,0,-1):\n",
    "            step+= str(j)\n",
    "        print(step)\n",
    "    for i in range(n-1,0,-1):\n",
    "        step=' '*(n-i)\n",
    "        for j in range(1,i+1):\n",
    "            step += str(j)\n",
    "        for j in range(i-1,0,-1):\n",
    "            step += str(j)\n",
    "        print(step)"
   ]
  },
  {
   "cell_type": "markdown",
   "id": "58732338",
   "metadata": {},
   "source": [
    "### Циклы. Бонусное задание 3"
   ]
  },
  {
   "cell_type": "code",
   "execution_count": 21,
   "id": "6d92a796",
   "metadata": {},
   "outputs": [
    {
     "name": "stdout",
     "output_type": "stream",
     "text": [
      "Введите число ступеней меньше 10: 5\n",
      "    1\n",
      "   12\n",
      "  123\n",
      " 1234\n",
      "12345\n",
      " 1234\n",
      "  123\n",
      "   12\n",
      "    1\n"
     ]
    }
   ],
   "source": [
    "n = int(input('Введите число ступеней меньше 10: '))\n",
    "if n > 9:\n",
    "    print('Ошибка, количество ступеней должно быть меньше 10')\n",
    "else:\n",
    "    for i in range(1,n+1):\n",
    "        step=' '*(n-i)  \n",
    "        for j in range(1,i+1):\n",
    "            step+=str(j)\n",
    "        print(step)\n",
    "    for i in range(1,n):\n",
    "        step=' '*(i)\n",
    "        for j in range(1,n+1-i):\n",
    "            step+=str(j)\n",
    "        print(step)"
   ]
  },
  {
   "cell_type": "markdown",
   "id": "e8a7bf73",
   "metadata": {},
   "source": [
    "## Раздел 8. Строки\n",
    "\n",
    "### Строки. Задание 2"
   ]
  },
  {
   "cell_type": "code",
   "execution_count": 3,
   "id": "7eb2d212",
   "metadata": {},
   "outputs": [
    {
     "name": "stdin",
     "output_type": "stream",
     "text": [
      "Введите строку:\n",
      " a1 2b  3   abc d3e r2D2\n"
     ]
    },
    {
     "name": "stdout",
     "output_type": "stream",
     "text": [
      "A1 2b  3   Abc D3e R2D2\n"
     ]
    }
   ],
   "source": [
    "string = input('Введите строку:\\n')\n",
    "var = string.split(' ')\n",
    "final_string = ''\n",
    "for i in var:\n",
    "    if i != '' and i != var[len(var)-1]:\n",
    "        final_string+=i.replace(i[0],i[0].upper(),1) + ' '\n",
    "    elif i != '' and i == var[len(var)-1]:\n",
    "         final_string+=i.replace(i[0],i[0].upper(),1)\n",
    "    else:\n",
    "        final_string+=' '\n",
    "print(final_string)"
   ]
  },
  {
   "cell_type": "markdown",
   "id": "a0f8a997",
   "metadata": {},
   "source": [
    "### Строки. Задание 3\n",
    "\n",
    "Позорная имплементация. У меня намного чище и яснее, хотя рекомендации здесь по способу лучше оформлены, если не считать грубейших ошибок."
   ]
  },
  {
   "cell_type": "code",
   "execution_count": 30,
   "id": "693c9c46",
   "metadata": {},
   "outputs": [
    {
     "name": "stdout",
     "output_type": "stream",
     "text": [
      "Введите пароль: dfsdf45245`\n",
      "Ошибка. Запрещенный спецсимвол: `\n",
      "2\n",
      "Слабый пароль. Рекомендации:увеличить число символов -12, добавить 1 заглавную букву, добавить 1 спецсимвол\n"
     ]
    }
   ],
   "source": [
    "password = input('Введите пароль: ')\n",
    "digits = '1234567890'\n",
    "digits_count = 0\n",
    "leters = 'ABCDEFGHIJKLMNOPQRSTUVWXYZ'\n",
    "leters_count = 0\n",
    "leters_2 = 'abcdefghijklmnopqrstuvwxyz'\n",
    "leters_count_2 = 0\n",
    "symbols = '!@#$%^&*()-+'\n",
    "symbols_count = 0\n",
    "for i in password:\n",
    "    if i in digits:\n",
    "        digits_count+=1\n",
    "    elif i in leters:\n",
    "        leters_count+=1\n",
    "    elif i in leters_2:\n",
    "        leters_count_2+=1\n",
    "    elif i in symbols:\n",
    "        symbols_count+=1\n",
    "    else:\n",
    "        print('Ошибка. Запрещенный спецсимвол: '+i)\n",
    "s = ''\n",
    "if digits_count + leters_count + leters_count_2 + symbols_count < 12:\n",
    "    s+= \"увеличить число символов -\"+str(12-digits_count + leters_count + leters_count_2 + symbols_count)\n",
    "if digits_count < 1:\n",
    "    if s[-1:]!='':\n",
    "        s+=', '\n",
    "    s+= \"добавить 1 цифру\"\n",
    "if leters_count < 1:\n",
    "    print(s[-1:])\n",
    "    if s[-1:]!='':\n",
    "        s+=', '\n",
    "    s+= \"добавить 1 заглавную букву\"\n",
    "if leters_count_2 < 1:\n",
    "    if s[-1:]!='':\n",
    "        s+=', '\n",
    "    s+= \"добавить 1 строчную букву\"\n",
    "if symbols_count < 1:\n",
    "    if s[-1:]!='':\n",
    "        s+=', '\n",
    "    s+= \"добавить 1 спецсимвол\"\n",
    "if s == '':\n",
    "    print('Сильный пароль')\n",
    "else:\n",
    "    print('Слабый пароль. Рекомендации:'+s)"
   ]
  },
  {
   "cell_type": "markdown",
   "id": "dff3b2d4",
   "metadata": {},
   "source": [
    "## Раздел 9. Списки\n",
    "\n",
    "### Списки. Задание 1"
   ]
  },
  {
   "cell_type": "code",
   "execution_count": 32,
   "id": "7ef8bffa",
   "metadata": {},
   "outputs": [
    {
     "name": "stdout",
     "output_type": "stream",
     "text": [
      "Введите длину списка: 3\n",
      "Введите число №1: 1\n",
      "Введите число №2: 2\n",
      "Введите число №3: 3\n",
      "[1, 3]\n"
     ]
    }
   ],
   "source": [
    "n = int(input('Введите длину списка: '))\n",
    "a = []\n",
    "for i in range(n):\n",
    "    a.append(int(input('Введите число №'+str(i+1)+': ')))\n",
    "b = []\n",
    "for i in range(len(a)):\n",
    "    if i%2==0:\n",
    "        b.append(a[i])\n",
    "print(b)"
   ]
  },
  {
   "cell_type": "markdown",
   "id": "b4adcb25",
   "metadata": {},
   "source": [
    "### Списки. Задание 2"
   ]
  },
  {
   "cell_type": "code",
   "execution_count": 34,
   "id": "ebe7ea00",
   "metadata": {},
   "outputs": [
    {
     "name": "stdout",
     "output_type": "stream",
     "text": [
      "Введите длину списка: 3\n",
      "Введите число №1: 3\n",
      "Введите число №2: 6\n",
      "Введите число №3: 4\n",
      "[6]\n"
     ]
    }
   ],
   "source": [
    "n = int(input('Введите длину списка: '))\n",
    "a = []\n",
    "for i in range(n):\n",
    "    a.append(int(input('Введите число №'+str(i+1)+': ')))\n",
    "b = []\n",
    "for i in range(len(a)):\n",
    "    if i>0 and a[i]>a[i-1]:\n",
    "        b.append(a[i])\n",
    "print(b)"
   ]
  },
  {
   "cell_type": "markdown",
   "id": "d49d267c",
   "metadata": {},
   "source": [
    "### Списки. Задание 3"
   ]
  },
  {
   "cell_type": "code",
   "execution_count": 37,
   "id": "c0cc4e9b",
   "metadata": {},
   "outputs": [
    {
     "name": "stdout",
     "output_type": "stream",
     "text": [
      "Введите длину списка: 4\n",
      "Введите число №1: 6\n",
      "Введите число №2: 2\n",
      "Введите число №3: 9\n",
      "Введите число №4: 4\n",
      "[6, 2, 9, 4]\n",
      "[6, 9, 2, 4]\n"
     ]
    }
   ],
   "source": [
    "n = int(input('Введите длину списка: '))\n",
    "a = []\n",
    "for i in range(n):\n",
    "    a.append(int(input('Введите число №'+str(i+1)+': ')))\n",
    "print(a)\n",
    "if a.index(max(a)) < a.index(min(a)):\n",
    "    a[a.index(min(a))], a[a.index(max(a))] = a[a.index(max(a))], a[a.index(min(a))]\n",
    "else:\n",
    "    a[a.index(max(a))], a[a.index(min(a))] = a[a.index(min(a))], a[a.index(max(a))]\n",
    "print(a)"
   ]
  },
  {
   "cell_type": "markdown",
   "id": "093397b0",
   "metadata": {},
   "source": [
    "## Раздел 11. Словари\n",
    "\n",
    "### Словари. Задание 1"
   ]
  },
  {
   "cell_type": "code",
   "execution_count": null,
   "id": "d7475e03",
   "metadata": {},
   "outputs": [],
   "source": [
    "n = int(input('Введите длину словаря: '))\n",
    "d = dict()\n",
    "for i in range(n):\n",
    "    d.update({input('Введите ключ: '):input('Введите значение: ')})\n",
    "key = input('Введите ключ для поиска: ')\n",
    "print(d.get(key))"
   ]
  },
  {
   "cell_type": "markdown",
   "id": "e75dfc6e",
   "metadata": {},
   "source": [
    "### Словари. Задание 2"
   ]
  },
  {
   "cell_type": "code",
   "execution_count": null,
   "id": "ae1a1dfa",
   "metadata": {},
   "outputs": [],
   "source": [
    "n = int(input('Введите длину словаря: '))\n",
    "d = dict()\n",
    "for i in range(n):\n",
    "    d.update({input('Введите ключ: '):input('Введите значение: ')})\n",
    "value = input('Введите значение для поиска: ')\n",
    "d = {v: k for k,v in d.items()}\n",
    "print(d.get(value))"
   ]
  },
  {
   "cell_type": "markdown",
   "id": "55a9ec56",
   "metadata": {},
   "source": [
    "### Словари. Задание 3"
   ]
  },
  {
   "cell_type": "code",
   "execution_count": null,
   "id": "a7300143",
   "metadata": {},
   "outputs": [],
   "source": [
    "n = int(input('Введите длину списка: '))\n",
    "lst = []\n",
    "for i in range(n):\n",
    "    lst.append(input('Введите элемент № '+str(i+1)+': '))\n",
    "dic = {}\n",
    "for i in lst:\n",
    "    if i not in dic.keys():\n",
    "        dic.update({i:1})\n",
    "    else:\n",
    "        dic.update({i:dic.get(i)+1})\n",
    "s = ''\n",
    "for i in dic:\n",
    "    s+=str(dic.get(i)) + ' '\n",
    "print(s)"
   ]
  },
  {
   "cell_type": "markdown",
   "id": "557a87f1",
   "metadata": {},
   "source": [
    "## Раздел 12. Множества\n",
    "\n",
    "### Множества. Задание 1"
   ]
  },
  {
   "cell_type": "code",
   "execution_count": 2,
   "id": "6bd9a8c8",
   "metadata": {},
   "outputs": [
    {
     "name": "stdout",
     "output_type": "stream",
     "text": [
      "Введите кол-во чисел: 3\n",
      "Введите число № 1: 1\n",
      "Введите число № 2: 2\n",
      "Введите число № 3: 3\n",
      "3\n"
     ]
    }
   ],
   "source": [
    "n = int(input('Введите кол-во чисел: '))\n",
    "s = set()\n",
    "for i in range(n):\n",
    "    s.update({input('Введите число № ' + str(i+1) + ': ')})\n",
    "print(len(s))"
   ]
  },
  {
   "cell_type": "markdown",
   "id": "f9336067",
   "metadata": {},
   "source": [
    "### Множества. Задание 2"
   ]
  },
  {
   "cell_type": "code",
   "execution_count": 3,
   "id": "81ef7517",
   "metadata": {},
   "outputs": [
    {
     "name": "stdout",
     "output_type": "stream",
     "text": [
      "Введите кол-во чисел первого списка: 3\n",
      "Введите кол-во чисел второго списка: 3\n",
      "Введите число № 1 для первого списка: 2\n",
      "Введите число № 2 для первого списка: 3\n",
      "Введите число № 3 для первого списка: 4\n",
      "Введите число № 1 для второго списка: 3\n",
      "Введите число № 2 для второго списка: 4\n",
      "Введите число № 3 для второго списка: 5\n",
      "2\n"
     ]
    }
   ],
   "source": [
    "n_1 = int(input('Введите кол-во чисел первого списка: '))\n",
    "n_2 = int(input('Введите кол-во чисел второго списка: '))\n",
    "s_1 = set()\n",
    "s_2 = set()\n",
    "for i in range(n_1):\n",
    "    s_1.update({input('Введите число № ' + str(i+1) + ' для первого списка: ')})\n",
    "for i in range(n_2):\n",
    "    s_2.update({input('Введите число № ' + str(i+1) + ' для второго списка: ')})\n",
    "print(len(s_1.intersection(s_2)))"
   ]
  },
  {
   "cell_type": "markdown",
   "id": "3d66cb21",
   "metadata": {},
   "source": [
    "### Множества. Задание 3"
   ]
  },
  {
   "cell_type": "code",
   "execution_count": 5,
   "id": "92304956",
   "metadata": {},
   "outputs": [
    {
     "name": "stdout",
     "output_type": "stream",
     "text": [
      "Введите кол-во чисел первого множества: 3\n",
      "Введите кол-во чисел второго множества: 4\n",
      "Введите число № 1 для первого множества: 1\n",
      "Введите число № 2 для первого множества: 2\n",
      "Введите число № 3 для первого множества: 3\n",
      "Введите число № 1 для второго множества: 4\n",
      "Введите число № 2 для второго множества: 1\n",
      "Введите число № 3 для второго множества: 2\n",
      "Введите число № 4 для второго множества: 3\n",
      "True\n"
     ]
    }
   ],
   "source": [
    "n_1 = int(input('Введите кол-во чисел первого множества: '))\n",
    "n_2 = int(input('Введите кол-во чисел второго множества: '))\n",
    "s_1 = set()\n",
    "s_2 = set()\n",
    "for i in range(n_1):\n",
    "    s_1.update({input('Введите число № ' + str(i+1) + ' для первого множества: ')})\n",
    "for i in range(n_2):\n",
    "    s_2.update({input('Введите число № ' + str(i+1) + ' для второго множества: ')})\n",
    "if s_1 != s_2:\n",
    "    print(s_1.issubset(s_2))\n",
    "else:\n",
    "    print(False)"
   ]
  },
  {
   "cell_type": "markdown",
   "id": "bfd9fc6c",
   "metadata": {},
   "source": [
    "## Раздел 13. Функции\n",
    "\n",
    "### Функции. Задание 1"
   ]
  },
  {
   "cell_type": "code",
   "execution_count": 6,
   "id": "201cbc44",
   "metadata": {},
   "outputs": [
    {
     "name": "stdout",
     "output_type": "stream",
     "text": [
      "10\n",
      "1.0\n",
      "16\n",
      "729\n"
     ]
    }
   ],
   "source": [
    "def calc(string):\n",
    "    for i in string:\n",
    "        if i == ' ':\n",
    "            string=string.replace(' ', '')\n",
    "    if '+' in string:\n",
    "        var = string.split('+')\n",
    "        print(int(var[0])+int(var[-1]))\n",
    "    elif '-' in string:\n",
    "        var = string.split('-')\n",
    "        print(int(var[0])-int(var[-1]))\n",
    "    elif '/' in string:\n",
    "        var = string.split('/')\n",
    "        print(int(var[0])/int(var[-1]))\n",
    "    elif '*' in string and '**' not in string:\n",
    "        var = string.split('*')\n",
    "        print(int(var[0])*int(var[-1]))\n",
    "    elif '%' in string:\n",
    "        var = string.split('%')\n",
    "        print(int(var[0])/100)\n",
    "    elif '**' in string:\n",
    "        var = string.split('**')\n",
    "        if var[-1] == '':\n",
    "            print(int(var[0])**2)\n",
    "        else:\n",
    "            print(int(var[0])**int(var[-1]))\n",
    "calc('1+ 9')\n",
    "calc('100%')\n",
    "calc('4**')\n",
    "calc('9 ** 3')"
   ]
  },
  {
   "cell_type": "markdown",
   "id": "920c36a4",
   "metadata": {},
   "source": [
    "## 15. Работа с файлами. Задания\n",
    "\n",
    "### Задание 1\n",
    "\n",
    "у меня немного длиннее, но намного яснее и проще"
   ]
  },
  {
   "cell_type": "code",
   "execution_count": null,
   "id": "a6a972d8",
   "metadata": {},
   "outputs": [],
   "source": [
    "# Do nut run this crap!\n",
    "\n",
    "def email_gen(list_of_names):\n",
    "    emails = []\n",
    "    for i in list_of_names:\n",
    "        letter = 1\n",
    "        while i[1] + '.' + i[0][0:letter] + '@company.io' in emails:\n",
    "            letter+=1\n",
    "        emails.append(i[1] + '.' + i[0][0:letter] + '@company.io')\n",
    "    return emails\n",
    "\n",
    "strings = []\n",
    "f = open('task_file.txt', 'r')\n",
    "for i in f:\n",
    "    strings.append(i.split(','))\n",
    "f.close()\n",
    "list_of_names = []\n",
    "n = 0\n",
    "for i in strings:\n",
    "    list_of_names.append([])\n",
    "    if i[0] == 'EMAIL' or len(i[3].replace(' ',''))!=7 or ' \\n' in i or len(i[1])<=1 or len(i[2])<=1 or i[3].replace(' ','').isdigit()==False:\n",
    "        list_of_names[n].append('no_email')\n",
    "        list_of_names[n].append('no_email'+str(n))\n",
    "    else:\n",
    "        list_of_names[n].append(i[1].replace(' ',''))\n",
    "        list_of_names[n].append(i[2].replace(' ',''))\n",
    "    n+=1\n",
    "emails = (email_gen(list_of_names))\n",
    "print(strings)\n",
    "n = 0\n",
    "f = open('task_file.txt', 'w')\n",
    "for i in strings:\n",
    "    if 'no_email' not in emails[n]:\n",
    "        i[0]=emails[n]\n",
    "    n+=1\n",
    "    f.write(i[0]+','+i[1]+','+i[2]+','+i[3]+','+i[4])\n",
    "f.close()"
   ]
  },
  {
   "cell_type": "markdown",
   "id": "a636afcb",
   "metadata": {},
   "source": [
    "## 16. Подключение модулей. Задания\n",
    "\n",
    "### Подключение модулей. Задание 1"
   ]
  },
  {
   "cell_type": "code",
   "execution_count": 12,
   "id": "e64e134e",
   "metadata": {},
   "outputs": [
    {
     "name": "stdout",
     "output_type": "stream",
     "text": [
      "8Ax#WX429A&+\n"
     ]
    }
   ],
   "source": [
    "import random\n",
    "def pass_gen(length):\n",
    "    digits = '1234567890'\n",
    "    leters = 'ABCDEFGHIJKLMNOPQRSTUVWXYZ'\n",
    "    leters_2 = 'abcdefghijklmnopqrstuvwxyz'\n",
    "    symbols = '!@#$%^&*()-+'\n",
    "    password = ''\n",
    "    var = [digits, leters, leters_2, symbols]\n",
    "    if length < 12:\n",
    "        return print('Ошибка! Пароль должен иметь не менее 12 символов')\n",
    "    else:\n",
    "        password+=random.choice(digits)\n",
    "        password+=random.choice(leters)\n",
    "        password+=random.choice(leters_2)\n",
    "        password+=random.choice(symbols)\n",
    "        while len(password) < length:\n",
    "            password+=random.choice(var[random.randint(0,3)])\n",
    "        print(password)\n",
    "pass_gen(12)"
   ]
  },
  {
   "cell_type": "markdown",
   "id": "3c022a4f",
   "metadata": {},
   "source": [
    "## 17. Итоговый проект"
   ]
  },
  {
   "cell_type": "code",
   "execution_count": null,
   "id": "2a8d5a02",
   "metadata": {},
   "outputs": [],
   "source": [
    "# Do not run it!!!\n",
    "\n",
    "import random\n",
    "import re\n",
    "def pass_gen(length):\n",
    "    digits = '1234567890'\n",
    "    leters = 'ABCDEFGHIJKLMNOPQRSTUVWXYZ'\n",
    "    leters_2 = 'abcdefghijklmnopqrstuvwxyz'\n",
    "    symbols = '!@#$%^&*()-+'\n",
    "    password = ''\n",
    "    var = [digits, leters, leters_2, symbols]\n",
    "    if length < 12:\n",
    "        return print('Ошибка! Пароль должен иметь не менее 12 символов')\n",
    "    else:\n",
    "        password+=random.choice(digits)\n",
    "        password+=random.choice(leters)\n",
    "        password+=random.choice(leters_2)\n",
    "        password+=random.choice(symbols)\n",
    "        while len(password) < length:\n",
    "            password+=random.choice(var[random.randint(0,3)])\n",
    "        return password\n",
    "def email_gen(list_of_names):\n",
    "    emails = []\n",
    "    for i in list_of_names:\n",
    "        letter = 1\n",
    "        while i[1] + '.' + i[0][0:letter] + '@company.io' in emails:\n",
    "            letter+=1\n",
    "        emails.append(i[1] + '.' + i[0][0:letter] + '@company.io')\n",
    "    return emails\n",
    "\n",
    "##################################\n",
    "############# START ##############\n",
    "##################################\n",
    "\n",
    "strings = []\n",
    "failed = []\n",
    "list_of_names = []\n",
    "n = 0\n",
    "f = open('task_file.txt', 'r')\n",
    "for i in f:\n",
    "    strings.append(i.split(','))\n",
    "f.close()\n",
    "for i in range(len(strings)):\n",
    "    for j in range(len(strings[i])):\n",
    "        strings[i][j]=strings[i][j].replace(' ','')\n",
    "for i in range(len(strings)):\n",
    "    if re.findall(r'^$|\\W|\\d|NAME', strings[i][1]) or re.findall(r'[wrtplkhgfdszxcvbnm][wrtplkhgfdszxcvbnm][wrtplkhgfdszxcvbnm][wrtplkhgfdszxcvbnm]', strings[i][1]) or re.findall(r'^$|\\W|\\d|NAME', strings[i][2]) or re.findall(r'0......|\\D|^$', strings[i][3]) or len(strings[i][3]) != 7 or re.findall(r'\\W+\\n$|\\d|^$', strings[i][4]):\n",
    "        failed.append(i)\n",
    "    else:\n",
    "        list_of_names.append([strings[i][1],strings[i][2]])\n",
    "emails = email_gen(list_of_names)\n",
    "f_1 = open('task_file.txt', 'w')\n",
    "f_2 = open('task_file_1.txt', 'w')\n",
    "f_1.write('EMAIL, PASSWORD, LAST_NAME, TEL, CITY\\n')\n",
    "for i in range(len(strings)):\n",
    "    if i not in failed:\n",
    "        f_1.write(emails[n]+', '+pass_gen(12)+', '+strings[i][1]+', '+strings[i][2]+', '+strings[i][3]+', '+strings[i][4])\n",
    "        n+=1\n",
    "    else:\n",
    "        f_2.write(strings[i][1]+', '+strings[i][2]+', '+strings[i][3]+', '+strings[i][4])\n",
    "f_1.close()\n",
    "f_2.close()"
   ]
  },
  {
   "cell_type": "code",
   "execution_count": null,
   "id": "843d93b4",
   "metadata": {},
   "outputs": [],
   "source": []
  }
 ],
 "metadata": {
  "kernelspec": {
   "display_name": "Python 3 (ipykernel)",
   "language": "python",
   "name": "python3"
  },
  "language_info": {
   "codemirror_mode": {
    "name": "ipython",
    "version": 3
   },
   "file_extension": ".py",
   "mimetype": "text/x-python",
   "name": "python",
   "nbconvert_exporter": "python",
   "pygments_lexer": "ipython3",
   "version": "3.11.0"
  }
 },
 "nbformat": 4,
 "nbformat_minor": 5
}
