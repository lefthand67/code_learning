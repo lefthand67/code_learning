{
 "cells": [
  {
   "cell_type": "markdown",
   "id": "3a384530",
   "metadata": {},
   "source": [
    "# ОСНОВЫ PYTHON - теория"
   ]
  },
  {
   "cell_type": "markdown",
   "id": "08774044",
   "metadata": {},
   "source": [
    "# 17. Регулярные выражения. Итоговый проект"
   ]
  },
  {
   "cell_type": "markdown",
   "id": "72cbaf15-a58a-4837-9c59-1f7bd65f0fc4",
   "metadata": {
    "tags": []
   },
   "source": [
    "## Регулярные выражения\n",
    "В качестве дополнительного материала мы расскажем про регулярные выражения, с которыми рано или поздно вы можете столкнуться.\n",
    "\n",
    "Регулярные выражения - выражения для поиска и замены части текста в строке или файле. Для работы с ними необходимо подключить модуль **\"re\"** из стандартной библиотеки Python.\n",
    "\n",
    "Наиболее часто регулярные выражения используются для поиска в строке, разбиении строк, замены части строк. Вот некоторые методы для работы с регулярными выражениями:\n",
    "\n",
    "### **re.match**(шаблон, строка) \n",
    "- ищет заданный шаблон с самого начала строки."
   ]
  },
  {
   "cell_type": "code",
   "execution_count": 2,
   "id": "767c4327",
   "metadata": {},
   "outputs": [
    {
     "name": "stdout",
     "output_type": "stream",
     "text": [
      "<re.Match object; span=(0, 3), match='Hey'>\n",
      "Данные нашлись\n"
     ]
    }
   ],
   "source": [
    "import re\n",
    "print(re.match(r'Hey', 'Hey Hey'))\n",
    "\n",
    "print('Данные нашлись')"
   ]
  },
  {
   "cell_type": "code",
   "execution_count": 3,
   "id": "83e98fcb",
   "metadata": {},
   "outputs": [
    {
     "name": "stdout",
     "output_type": "stream",
     "text": [
      "None\n",
      "Данные не нашлись, т.к. строка отличается от шаблона с первого символа.\n",
      "Обратите внимание на синтаксис, перед шаблоном ставится латинская буква r\n",
      "Ну-ну, буква r не нужна\n"
     ]
    }
   ],
   "source": [
    "import re\n",
    "print(re.match('Hey', 'hey Hey'))\n",
    "\n",
    "print('Данные не нашлись, т.к. строка отличается от шаблона с первого символа.')\n",
    "print('Обратите внимание на синтаксис, перед шаблоном ставится латинская буква r')\n",
    "print('Ну-ну, буква r не нужна')"
   ]
  },
  {
   "cell_type": "markdown",
   "id": "d51fa357",
   "metadata": {},
   "source": [
    "### **re.search**(шаблон, строка) \n",
    "- ищет заданный шаблон по всей строке, возвращает результат при первом совпадении."
   ]
  },
  {
   "cell_type": "code",
   "execution_count": 10,
   "id": "395a6a17",
   "metadata": {},
   "outputs": [
    {
     "name": "stdout",
     "output_type": "stream",
     "text": [
      "Hey\n"
     ]
    }
   ],
   "source": [
    "import re\n",
    "print(re.search('Hey', 'hey Hey').group(0))     # Добавляем метод group(), чтобы вывести содержимое поиска"
   ]
  },
  {
   "cell_type": "markdown",
   "id": "1ce631f8",
   "metadata": {},
   "source": [
    "### **re.findall**(шаблон, строка)\n",
    "- ищет заданный шаблон и возвращает все совпадения в виде **списка**."
   ]
  },
  {
   "cell_type": "code",
   "execution_count": 4,
   "id": "5f51d82d",
   "metadata": {},
   "outputs": [
    {
     "name": "stdout",
     "output_type": "stream",
     "text": [
      "['Hey', 'Hey', 'Hey']\n"
     ]
    }
   ],
   "source": [
    "import re\n",
    "print(re.findall('Hey', 'hey Hey Hey Hey'))"
   ]
  },
  {
   "cell_type": "markdown",
   "id": "d10d5277",
   "metadata": {},
   "source": [
    "### **re.split**(шаблон, строка) \n",
    "- разделяет строку по заданному шаблону"
   ]
  },
  {
   "cell_type": "code",
   "execution_count": 13,
   "id": "e9081d9a",
   "metadata": {},
   "outputs": [
    {
     "name": "stdout",
     "output_type": "stream",
     "text": [
      "['he', ' He', ' He', ' He', '']\n"
     ]
    }
   ],
   "source": [
    "import re\n",
    "a = 'hey Hey Hey Hey'\n",
    "print(re.split('y', a)) "
   ]
  },
  {
   "cell_type": "markdown",
   "id": "4ba39ae8",
   "metadata": {},
   "source": [
    "### **re.sub**(шаблон, замена, строка) \n",
    "- находит шаблон в строке и производит замену"
   ]
  },
  {
   "cell_type": "code",
   "execution_count": 14,
   "id": "c0d847eb",
   "metadata": {},
   "outputs": [
    {
     "name": "stdout",
     "output_type": "stream",
     "text": [
      "hey ? ? ?\n"
     ]
    }
   ],
   "source": [
    "import re\n",
    "a = 'hey Hey Hey Hey'\n",
    "print(re.sub('Hey', '?', a))"
   ]
  },
  {
   "cell_type": "markdown",
   "id": "bb54ef53",
   "metadata": {},
   "source": [
    "### **re.compile**(шаблон) \n",
    "- позволяет собирать регулярное выражение в отдельный объект для последующего использования"
   ]
  },
  {
   "cell_type": "code",
   "execution_count": 15,
   "id": "09d6cabe",
   "metadata": {},
   "outputs": [
    {
     "name": "stdout",
     "output_type": "stream",
     "text": [
      "['Hey', 'Hey']\n",
      "['Hey']\n"
     ]
    }
   ],
   "source": [
    "ex_str = re.compile('Hey')\n",
    "\n",
    "result = ex_str.findall('hey Hey Hey')\n",
    "print (result)\n",
    "\n",
    "result2 = ex_str.findall('Hey')\n",
    "print (result2)"
   ]
  },
  {
   "cell_type": "markdown",
   "id": "2ba81a15",
   "metadata": {},
   "source": [
    "Перейдем к самой интересной части - представьте, что вам необходимо произвести чтение \"грязного\" файла и убрать из него все лишнее, но при этом вы не можете сказать точно, что необходимо убрать. Эту задачу можно решить, используя специальные символы:"
   ]
  },
  {
   "cell_type": "markdown",
   "id": "eaf05380",
   "metadata": {},
   "source": [
    "### `.`   \n",
    "Один любой символ, кроме символа переноса строки `\\n`"
   ]
  },
  {
   "cell_type": "code",
   "execution_count": 10,
   "id": "28a2bab2",
   "metadata": {},
   "outputs": [
    {
     "name": "stdout",
     "output_type": "stream",
     "text": [
      "['hey']\n"
     ]
    }
   ],
   "source": [
    "print(re.findall(r'h..', 'hey Hey Hey Hey'))"
   ]
  },
  {
   "cell_type": "markdown",
   "id": "74c90e2a",
   "metadata": {},
   "source": [
    "## Greedy quanitiers `+`, `*`, `?`\n",
    "\n",
    "They are **greedy** in the sense that they take as long matching string as it is possible. For instance, if the RE `<.*>` is matched against `<a> b <c>`, it will match the entire string, and not just `<a>`. Adding `?` after the quantifier makes it perform the match in non-greedy or minimal fashion; as few characters as possible will be matched. Using the RE `<.*?>` will match only `<a>`."
   ]
  },
  {
   "cell_type": "code",
   "execution_count": 29,
   "id": "5623b196",
   "metadata": {},
   "outputs": [
    {
     "name": "stdout",
     "output_type": "stream",
     "text": [
      "['<a> b <c>']\n"
     ]
    }
   ],
   "source": [
    "import re\n",
    "a = '<a> b <c>'\n",
    "y = re.findall('<.*>', a)\n",
    "print(y)"
   ]
  },
  {
   "cell_type": "markdown",
   "id": "ce8bf268",
   "metadata": {},
   "source": [
    "Also be aware of the **backtrackig** behaviour of the regex, this mechanism is explained later in the text."
   ]
  },
  {
   "cell_type": "markdown",
   "id": "c6520716",
   "metadata": {},
   "source": [
    "### `+`\t  \n",
    "Causes the resulting RE to match **1 or more** repetitions of the preceding RE. `ab+` will match **‘a’ followed by any non-zero number of ‘b’s**; it will not match just ‘a’."
   ]
  },
  {
   "cell_type": "code",
   "execution_count": 13,
   "id": "fa4087f8",
   "metadata": {},
   "outputs": [
    {
     "name": "stdout",
     "output_type": "stream",
     "text": [
      "['Hey Hey Hey']\n",
      "['H', 'H', 'H']\n"
     ]
    }
   ],
   "source": [
    "print(re.findall('H.+', 'hey Hey Hey Hey'))\n",
    "print(re.findall('H+', 'hey Hey Hey Hey'))"
   ]
  },
  {
   "cell_type": "code",
   "execution_count": 17,
   "id": "cdf0a4e3",
   "metadata": {},
   "outputs": [
    {
     "name": "stdout",
     "output_type": "stream",
     "text": [
      "[]\n",
      "['ab']\n",
      "['abbbb']\n",
      "['abbbb', 'ab']\n"
     ]
    }
   ],
   "source": [
    "import re\n",
    "y = re.findall('ab+', 'a')\n",
    "print(y)\n",
    "y = re.findall('ab+', 'abc')\n",
    "print(y)\n",
    "y = re.findall('ab+', 'abbbb')\n",
    "print(y)\n",
    "y = re.findall('ab+', 'abbbbacaab')\n",
    "print(y)"
   ]
  },
  {
   "cell_type": "code",
   "execution_count": 25,
   "id": "6163d5d7",
   "metadata": {},
   "outputs": [
    {
     "name": "stdout",
     "output_type": "stream",
     "text": [
      "[]\n",
      "['abcccc']\n",
      "[]\n",
      "['abc', 'abcc']\n"
     ]
    }
   ],
   "source": [
    "import re\n",
    "y = re.findall('abc+', 'a')\n",
    "print(y)\n",
    "y = re.findall('abc+', 'abcccc')\n",
    "print(y)\n",
    "y = re.findall('abc+', 'abbcbb')\n",
    "print(y)\n",
    "y = re.findall('abc+', 'abcabbbacaabcc')\n",
    "print(y)"
   ]
  },
  {
   "cell_type": "markdown",
   "id": "8823951c",
   "metadata": {},
   "source": [
    "### `*`  \n",
    "\n",
    "Causes the resulting RE to match **0 or more** repetitions of the preceding RE, as many repetitions as are possible. `ab*` will match **‘a’, ‘ab’, _or_ ‘a’ followed by any number of ‘b’s**."
   ]
  },
  {
   "cell_type": "code",
   "execution_count": 11,
   "id": "f25cdc8c",
   "metadata": {},
   "outputs": [
    {
     "name": "stdout",
     "output_type": "stream",
     "text": [
      "['', '', '', '', 'H', '', '', '', 'H', '', '', '', 'H', '', '', '']\n",
      "This is the example of the RE's backtracking beahavior\n"
     ]
    }
   ],
   "source": [
    "print(re.findall('H*', 'hey Hey Hey Hey'))\n",
    "print('This is the example of the RE\\'s backtracking beahavior')"
   ]
  },
  {
   "cell_type": "markdown",
   "id": "23d0540b",
   "metadata": {},
   "source": [
    "> **Bactracking** means the RE starts searching from the beginning (or the end) and checks all the elements in the string for matching. When the match is False regex goes back and starts checking again from the next elements, having been always backtracking until it matches, then it goes further."
   ]
  },
  {
   "cell_type": "code",
   "execution_count": 9,
   "id": "d979442d",
   "metadata": {
    "scrolled": true
   },
   "outputs": [
    {
     "name": "stdout",
     "output_type": "stream",
     "text": [
      "['a', 'a']\n",
      "['ab']\n",
      "['abbbb']\n",
      "['abbbb', 'a', 'a', 'ab', 'abb']\n",
      "['a', 'a', 'abb', 'a', 'ab']\n",
      "['', '', '']\n"
     ]
    }
   ],
   "source": [
    "import re\n",
    "y = re.findall('ab*', 'aa')\n",
    "print(y)\n",
    "y = re.findall('ab*', 'abc')\n",
    "print(y)\n",
    "y = re.findall('ab*', 'abbbb')\n",
    "print(y)\n",
    "y = re.findall('ab*', 'abbbbacaababb')\n",
    "print(y)\n",
    "y = re.findall('ab*', 'aa abb ddc aab')\n",
    "print(y)\n"
   ]
  },
  {
   "cell_type": "code",
   "execution_count": 13,
   "id": "fd5b67a7",
   "metadata": {},
   "outputs": [
    {
     "name": "stdout",
     "output_type": "stream",
     "text": [
      "['', '']\n",
      "Bactrackinng example again\n"
     ]
    }
   ],
   "source": [
    "import re\n",
    "y = re.findall('b*', 'a')\n",
    "print(y)\n",
    "print('Bactrackinng example again')"
   ]
  },
  {
   "cell_type": "markdown",
   "id": "0adddc7d",
   "metadata": {},
   "source": [
    "> **Backtracking** again. The string consists of only **1** elements, but the output contains **2** empty strings. This happens because after first match failing (the first `''`) regex backtracks, finds nothing (no element, the second `''`) and stops."
   ]
  },
  {
   "cell_type": "markdown",
   "id": "499c89bc",
   "metadata": {},
   "source": [
    "### `?`\t \n",
    "\n",
    "Causes the resulting RE to match **0 or 1** repetitions of the preceding RE. `ab?` will match **_either_ ‘a’ _or_ ‘ab’**."
   ]
  },
  {
   "cell_type": "code",
   "execution_count": 28,
   "id": "82708ba9",
   "metadata": {},
   "outputs": [
    {
     "name": "stdout",
     "output_type": "stream",
     "text": [
      "['a']\n",
      "['ab']\n",
      "['ab']\n",
      "['ab', 'a', 'a', 'ab']\n"
     ]
    }
   ],
   "source": [
    "import re\n",
    "y = re.findall('ab?', 'a')\n",
    "print(y)\n",
    "y = re.findall('ab?', 'abc')\n",
    "print(y)\n",
    "y = re.findall('ab?', 'abbbb')\n",
    "print(y)\n",
    "y = re.findall('ab?', 'abbbbacaab')\n",
    "print(y)"
   ]
  },
  {
   "cell_type": "code",
   "execution_count": 15,
   "id": "61827e12",
   "metadata": {},
   "outputs": [
    {
     "name": "stdout",
     "output_type": "stream",
     "text": [
      "['', '', '']\n",
      "Bactracking!\n"
     ]
    }
   ],
   "source": [
    "y = re.findall('a?', 'bb')\n",
    "print(y)\n",
    "print('Bactracking!')"
   ]
  },
  {
   "cell_type": "markdown",
   "id": "6dfdfb22",
   "metadata": {},
   "source": [
    "## Lazy Quantifiers `*?`, `+?`, `??`  \n",
    "The `*`, `+`, and `?` quantifiers are all **greedy**; they match as much text as possible. Sometimes this behaviour isn’t desired. To prevent such behavior and make it **'lazy'**, i.e. make the regex take the shortest possible text, we need to add `?` after our greedy quantifier:"
   ]
  },
  {
   "cell_type": "code",
   "execution_count": 16,
   "id": "b4470c01",
   "metadata": {},
   "outputs": [
    {
     "name": "stdout",
     "output_type": "stream",
     "text": [
      "['<a> b <c>']\n",
      "['<a>', '<c>']\n",
      "['<a>']\n"
     ]
    }
   ],
   "source": [
    "import re\n",
    "a = '<a> b <c>'\n",
    "y = re.findall('<.*>', a)\n",
    "print(y)\n",
    "y = re.findall('<.*?>', a)\n",
    "print(y)\n",
    "y = re.findall('^<.*?>', a)  # ^ sign stands for 'from the beginning of the line'\n",
    "print(y)"
   ]
  },
  {
   "cell_type": "markdown",
   "id": "3e28d6fd",
   "metadata": {},
   "source": [
    "### `*+`, `++`, `?+`   \n",
    "Like the `*`, `+`, and `?` quantifiers, those where `+` is appended also match as many times as possible. However, unlike the true greedy quantifiers, these do not allow back-tracking when the expression following it fails to match. These are known as **possessive quantifiers**. \n",
    "\n",
    "For example, `a*a` will match `'aaaa'` because the `a*` will match all 4 `'a'`s, but, when the final `'a'` is encountered, the expression is backtracked so that in the end the `a*` ends up matching 3 `'a'`s total, and the fourth `'a'` is matched by the final `'a'`. However, when `a*+a` is used to match `'aaaa'`, the `a*+` will match all 4 `'a'`, but when the final `'a'` fails to find any more characters to match, the expression cannot be backtracked and will thus fail to match. `x*+`, `x++` and `x?+` are equivalent to `(?>x*)`, `(?>x+)` and `(?>x?)` correspondingly.  \n",
    "> _New in version 3.11._"
   ]
  },
  {
   "cell_type": "markdown",
   "id": "8eeece9c",
   "metadata": {},
   "source": [
    "Check your Python version before uncommenting the code below"
   ]
  },
  {
   "cell_type": "code",
   "execution_count": 3,
   "id": "e6b5c5d8",
   "metadata": {},
   "outputs": [
    {
     "name": "stdout",
     "output_type": "stream",
     "text": [
      "3.9.13\n"
     ]
    }
   ],
   "source": [
    "from platform import python_version\n",
    "print(python_version())"
   ]
  },
  {
   "cell_type": "code",
   "execution_count": 3,
   "id": "691dcf2b",
   "metadata": {
    "scrolled": true,
    "tags": []
   },
   "outputs": [
    {
     "name": "stdout",
     "output_type": "stream",
     "text": [
      "['aaaa']\n"
     ]
    }
   ],
   "source": [
    "import re\n",
    "y = re.findall('a*a', 'aaaa')\n",
    "print(y)\n",
    "# y = re.findall('a*+a', 'aaaa')\n",
    "# print(y)"
   ]
  },
  {
   "cell_type": "markdown",
   "id": "53c90002",
   "metadata": {},
   "source": [
    "### `$`  \n",
    "Matches the end of the string or just before the newline at the end of the string, and in MULTILINE mode also matches before a newline. foo matches both ‘foo’ and ‘foobar’, while the regular expression `foo$` matches only ‘foo’. More interestingly, searching for `foo.$` in `'foo1\\nfoo2\\n'` matches ‘foo2’ normally, but ‘foo1’ in MULTILINE mode; searching for a single `$` in `'foo\\n'` will find two (empty) matches: one just before the newline, and one at the end of the string."
   ]
  },
  {
   "cell_type": "code",
   "execution_count": 1,
   "id": "4afa78a8",
   "metadata": {},
   "outputs": [
    {
     "name": "stdout",
     "output_type": "stream",
     "text": [
      "['foo2']\n"
     ]
    }
   ],
   "source": [
    "import re\n",
    "a = 'foo1\\nfoo2\\n'\n",
    "y = re.findall('foo.$', a)\n",
    "print(y)"
   ]
  },
  {
   "cell_type": "code",
   "execution_count": 27,
   "id": "7a3238ec",
   "metadata": {},
   "outputs": [
    {
     "name": "stdout",
     "output_type": "stream",
     "text": [
      "['', '']\n"
     ]
    }
   ],
   "source": [
    "import re\n",
    "a = 'foo\\n'\n",
    "y = re.findall('$', a)\n",
    "print(y)"
   ]
  },
  {
   "cell_type": "markdown",
   "id": "8eff8063",
   "metadata": {},
   "source": [
    "### `{m}`  \n",
    "Specifies that exactly _m_ copies of the previous RE should be matched; fewer matches cause the entire RE not to match. For example, `a{6}` will match exactly six `'a'` characters, but not five."
   ]
  },
  {
   "cell_type": "code",
   "execution_count": 20,
   "id": "5493905d",
   "metadata": {},
   "outputs": [
    {
     "name": "stdout",
     "output_type": "stream",
     "text": [
      "['he', 'He', 'y1', 'He', 'y2', 'He', 'y3']\n"
     ]
    }
   ],
   "source": [
    "print(re.findall('\\w{2}', 'hey. Hey1. Hey2. Hey3'))"
   ]
  },
  {
   "cell_type": "code",
   "execution_count": 24,
   "id": "af161b49",
   "metadata": {},
   "outputs": [
    {
     "name": "stdout",
     "output_type": "stream",
     "text": [
      "['aaaaa']\n",
      "[]\n"
     ]
    }
   ],
   "source": [
    "import re\n",
    "y = re.findall('a{5}', 'abaaaaaacaababb')  # 6 'a'\n",
    "print(y)\n",
    "y = re.findall('a{5}', 'abaaaacaababb')  # 4 'a'\n",
    "print(y)"
   ]
  },
  {
   "cell_type": "markdown",
   "id": "ddcba4a7",
   "metadata": {},
   "source": [
    "### `{m, n}`\t\n",
    "От m до n вхождений (`{,n}` — от 0 до n)\n",
    "\n",
    "Causes the resulting RE to match from _m_ to _n_ repetitions of the preceding RE, attempting to match as many repetitions as possible. For example, `a{3,5}` will match from 3 to 5 `'a'` characters. Omitting _m_ specifies a lower bound of zero, and omitting _n_ specifies an infinite upper bound. As an example, `a{4,}b` will match `'aaaab'` or a thousand `'a'` characters followed by a `'b'`, but not `'aaab'`. The comma may not be omitted or the modifier would be confused with the previously described form."
   ]
  },
  {
   "cell_type": "code",
   "execution_count": 19,
   "id": "7cb49645",
   "metadata": {},
   "outputs": [
    {
     "name": "stdout",
     "output_type": "stream",
     "text": [
      "['aaaa', 'aa', 'aa']\n",
      "['a', '', 'aaaa', 'aa', '', '', 'aa', '', 'a', '', '', '']\n",
      "['ab', 'aaaab', 'aab', 'ab', 'b']\n",
      "['aaaaaa', 'aa']\n",
      "['aaaaaab', 'aab']\n"
     ]
    }
   ],
   "source": [
    "import re\n",
    "y = re.findall('a{2,4}', 'abaaaaaabcaababb')  # 6 'a'\n",
    "print(y)\n",
    "y = re.findall('a{,4}', 'abaaaaaabcaababb')\n",
    "print(y)\n",
    "y = re.findall('a{,4}b', 'abaaaaaabcaababb')\n",
    "print(y)\n",
    "y = re.findall('a{2,}', 'abaaaaaabcaababb')\n",
    "print(y)\n",
    "y = re.findall('a{2,}b', 'abaaaaaabcaababb')\n",
    "print(y)"
   ]
  },
  {
   "cell_type": "markdown",
   "id": "af099b75",
   "metadata": {},
   "source": [
    "### `{m,n}?`  \n",
    "Causes the resulting RE to match from _m_ to _n_ repetitions of the preceding RE, attempting to match as few repetitions as possible. This is the **non-greedy** version of the previous quantifier. For example, on the 6-character string `'aaaaaa'`, `a{3,5}` will match 5 `'a'` characters, while `a{3,5}?` will only match 3 characters.\n",
    "\n",
    "Is it equal to `{m}`? Seems like it is only in the code where there are no additional symbols after `?`."
   ]
  },
  {
   "cell_type": "code",
   "execution_count": 41,
   "id": "d8ee6997",
   "metadata": {},
   "outputs": [
    {
     "name": "stdout",
     "output_type": "stream",
     "text": [
      "['aaaaa']\n",
      "['aaa', 'aaa']\n",
      "['aaa', 'aaa']\n"
     ]
    }
   ],
   "source": [
    "import re\n",
    "y = re.findall('a{3,5}', 'aaaaaa')   # 6 'a'\n",
    "print(y)\n",
    "y = re.findall('a{3,5}?', 'aaaaaa')  # 6 'a'\n",
    "print(y)\n",
    "y = re.findall('a{3}', 'aaaaaa')     # 6 'a'\n",
    "print(y)"
   ]
  },
  {
   "cell_type": "code",
   "execution_count": 37,
   "id": "c8c6fecc",
   "metadata": {},
   "outputs": [
    {
     "name": "stdout",
     "output_type": "stream",
     "text": [
      "['aaaaab', 'aaab']\n",
      "['aaaaab', 'aaab']\n",
      "['aaab', 'aaab']\n"
     ]
    }
   ],
   "source": [
    "y = re.findall('a{3,5}b', 'abaaaaaabcaabaaabb')   # 6 'a'\n",
    "print(y)\n",
    "y = re.findall('a{3,5}?b', 'abaaaaaabcaabaaabb')  # 6 'a'\n",
    "print(y)\n",
    "y = re.findall('a{3}b', 'abaaaaaabcaabaaabb')     # 6 'a'\n",
    "print(y)"
   ]
  },
  {
   "cell_type": "markdown",
   "id": "9313071f",
   "metadata": {},
   "source": [
    "### `{m,n}+`  \n",
    "Causes the resulting RE to match from _m_ to n repetitions of the preceding RE, attempting to match as many repetitions as possible without establishing any backtracking points. This is the **possessive version** of the quantifier above. For example, on the 6-character string `'aaaaaa'`, `a{3,5}+aa` attempt to match 5 `'a'` characters, then, requiring 2 more `'a'`s, will need more characters than available and thus fail, while `a{3,5}aa` will match with `a{3,5}` capturing 5, then 4 `'a'`s by backtracking and then the final 2 `'a'`s are matched by the final `aa` in the pattern. `x{m,n}+` is equivalent to `(?>x{m,n})`.\n",
    "_New in version 3.11._  "
   ]
  },
  {
   "cell_type": "code",
   "execution_count": 48,
   "id": "92183392",
   "metadata": {},
   "outputs": [
    {
     "name": "stdout",
     "output_type": "stream",
     "text": [
      "['aaaaa']\n",
      "['aaaaaa']\n"
     ]
    }
   ],
   "source": [
    "import re\n",
    "# y = re.findall('a{3,5}+aa', 'aaaaaa')   # 6 'a'\n",
    "# print(y)\n",
    "y = re.findall('a{3,5}', 'aaaaaa')   # 6 'a'\n",
    "print(y)\n",
    "y = re.findall('a{3,5}aa', 'aaaaaa')   # 6 'a'\n",
    "print(y)"
   ]
  },
  {
   "cell_type": "markdown",
   "id": "6868ae5b",
   "metadata": {},
   "source": [
    "`\\w`\tЛюбая цифра или буква (`\\W` — все, кроме буквы или цифры)"
   ]
  },
  {
   "cell_type": "code",
   "execution_count": 26,
   "id": "c692c137",
   "metadata": {},
   "outputs": [
    {
     "name": "stdout",
     "output_type": "stream",
     "text": [
      "['h', 'e', 'y', 'H', 'e', 'y', 'H', 'e', 'y', 'H', 'e', 'y']\n"
     ]
    }
   ],
   "source": [
    "print(re.findall(r'\\w', 'hey Hey Hey Hey'))"
   ]
  },
  {
   "cell_type": "markdown",
   "id": "c01ed91b",
   "metadata": {},
   "source": [
    "`\\d`\tЛюбая цифра [0-9] (`\\D` — все, кроме цифры)"
   ]
  },
  {
   "cell_type": "code",
   "execution_count": 27,
   "id": "2817448d",
   "metadata": {},
   "outputs": [
    {
     "name": "stdout",
     "output_type": "stream",
     "text": [
      "['1', '2', '3']\n"
     ]
    }
   ],
   "source": [
    "print(re.findall(r'\\d', 'hey Hey1 Hey2 Hey3'))"
   ]
  },
  {
   "cell_type": "markdown",
   "id": "e1668f97",
   "metadata": {},
   "source": [
    "`\\s`\tЛюбой пробельный символ (`\\S` — любой непробельный символ)"
   ]
  },
  {
   "cell_type": "code",
   "execution_count": 28,
   "id": "a93b65be",
   "metadata": {},
   "outputs": [
    {
     "name": "stdout",
     "output_type": "stream",
     "text": [
      "[' ', ' ', ' ']\n"
     ]
    }
   ],
   "source": [
    "print(re.findall(r'\\s', 'hey Hey1 Hey2 Hey3'))"
   ]
  },
  {
   "cell_type": "markdown",
   "id": "20017021",
   "metadata": {},
   "source": [
    "`\\b`\tГраница слова"
   ]
  },
  {
   "cell_type": "code",
   "execution_count": 29,
   "id": "d0f306e2",
   "metadata": {},
   "outputs": [
    {
     "name": "stdout",
     "output_type": "stream",
     "text": [
      "['h', 'H', 'H', 'H']\n"
     ]
    }
   ],
   "source": [
    "print(re.findall(r'\\b\\w', 'hey, Hey1, Hey2, Hey3'))"
   ]
  },
  {
   "cell_type": "markdown",
   "id": "f9743c21",
   "metadata": {},
   "source": [
    "`[...]`\tОдин из символов в скобках"
   ]
  },
  {
   "cell_type": "code",
   "execution_count": 30,
   "id": "ced4838a",
   "metadata": {},
   "outputs": [
    {
     "name": "stdout",
     "output_type": "stream",
     "text": [
      "['y', 'H', 'y', 'H', 'y', 'H', 'y']\n"
     ]
    }
   ],
   "source": [
    "print(re.findall(r'[Hy]', 'hey, Hey1, Hey2, Hey3'))"
   ]
  },
  {
   "cell_type": "markdown",
   "id": "b7fc9e83",
   "metadata": {},
   "source": [
    "`[^..]` — любой символ, кроме тех, что в скобках"
   ]
  },
  {
   "cell_type": "markdown",
   "id": "f826b770",
   "metadata": {},
   "source": [
    "`\\`\tЭкранирование специальных символов (`\\.` означает точку или `\\+` — знак «плюс»)"
   ]
  },
  {
   "cell_type": "code",
   "execution_count": 31,
   "id": "d2c7c307",
   "metadata": {},
   "outputs": [
    {
     "name": "stdout",
     "output_type": "stream",
     "text": [
      "['.', '.', '.']\n"
     ]
    }
   ],
   "source": [
    "print(re.findall(r'\\.', 'hey. Hey1. Hey2. Hey3'))"
   ]
  },
  {
   "cell_type": "markdown",
   "id": "1fdcc7aa",
   "metadata": {},
   "source": [
    "`^` и `$`\tНачало и конец строки соответственно"
   ]
  },
  {
   "cell_type": "code",
   "execution_count": 36,
   "id": "7bb7d76d",
   "metadata": {},
   "outputs": [
    {
     "name": "stdout",
     "output_type": "stream",
     "text": [
      "['y3']\n"
     ]
    }
   ],
   "source": [
    "print(re.findall(r'..$', 'hey. Hey1. Hey2. Hey3'))"
   ]
  },
  {
   "cell_type": "markdown",
   "id": "151e2dee",
   "metadata": {},
   "source": [
    "`a|b`\tСоответствует a или b\t"
   ]
  },
  {
   "cell_type": "code",
   "execution_count": 43,
   "id": "bbe001cd",
   "metadata": {},
   "outputs": [
    {
     "name": "stdout",
     "output_type": "stream",
     "text": [
      "['h', '3']\n"
     ]
    }
   ],
   "source": [
    "print(re.findall('h|3', 'hey. Hey1. Hey2. Hey3'))"
   ]
  },
  {
   "cell_type": "code",
   "execution_count": 49,
   "id": "76c2003f",
   "metadata": {},
   "outputs": [
    {
     "name": "stdout",
     "output_type": "stream",
     "text": [
      "['he']\n"
     ]
    }
   ],
   "source": [
    "a = 'iper'\n",
    "b = 'epipefhe'\n",
    "\n",
    "print(re.findall('he|ll|0+', b))"
   ]
  },
  {
   "cell_type": "markdown",
   "id": "ee30cb27",
   "metadata": {},
   "source": [
    "`()`\tГруппирует выражение и возвращает найденный текст"
   ]
  },
  {
   "cell_type": "code",
   "execution_count": 39,
   "id": "c04c6407",
   "metadata": {},
   "outputs": [
    {
     "name": "stdout",
     "output_type": "stream",
     "text": [
      "['hey', 'Hey', 'Hey', 'Hey']\n"
     ]
    }
   ],
   "source": [
    "print(re.findall(r'(\\w\\w\\w)', 'hey. Hey1. Hey2. Hey3\\n'))"
   ]
  },
  {
   "cell_type": "markdown",
   "id": "8020c964",
   "metadata": {},
   "source": [
    "`\\t,\\n,\\r` Символ табуляции, новой строки и возврата каретки соответственно"
   ]
  },
  {
   "cell_type": "code",
   "execution_count": 40,
   "id": "de29c5a5",
   "metadata": {},
   "outputs": [
    {
     "name": "stdout",
     "output_type": "stream",
     "text": [
      "['\\n']\n"
     ]
    }
   ],
   "source": [
    "print(re.findall(r'\\n', 'hey. Hey1. Hey2. Hey3\\n'))"
   ]
  },
  {
   "cell_type": "markdown",
   "id": "f92699da",
   "metadata": {},
   "source": [
    "Рассмотрим пример. Ниже представлен фрагмент лога - файла, записывающего события при работе программы:"
   ]
  },
  {
   "cell_type": "code",
   "execution_count": 3,
   "id": "79b848b1",
   "metadata": {
    "collapsed": true,
    "jupyter": {
     "outputs_hidden": true
    }
   },
   "outputs": [
    {
     "name": "stdout",
     "output_type": "stream",
     "text": [
      "Oct 16 20:10:10 legacy sshd[59955]: Did not receive identification string from 211.156.128.23\n",
      "Oct 16 20:19:43 legacy sshd[59961]: Illegal user patrick from 211.156.128.23\n",
      "Oct 16 20:19:53 legacy sshd[59966]: Illegal user patrick from 211.156.128.23\n",
      "Oct 16 20:20:22 legacy sshd[59981]: Illegal user rolo from 211.156.128.23\n",
      "Oct 16 20:20:28 legacy sshd[59983]: Illegal user iceuser from 211.156.128.23\n",
      "Oct 16 20:20:34 legacy sshd[59985]: Illegal user horde from 211.156.128.23\n",
      "Oct 16 20:20:38 legacy sshd[59987]: Illegal user cyrus from 211.156.128.23\n",
      "Oct 16 20:20:48 legacy sshd[59991]: Illegal user wwwrun from 211.156.128.23\n",
      "Oct 16 20:20:58 legacy sshd[59993]: Illegal user matt from 211.156.128.23\n",
      "Oct 17 01:29:25 legacy sshd[60366]: Illegal user test from 218.237.4.57\n",
      "Oct 17 01:29:28 legacy sshd[60368]: Illegal user guest from 218.237.4.57\n",
      "Oct 17 01:29:32 legacy sshd[60370]: Illegal user admin from 218.237.4.57\n",
      "Oct 17 01:29:35 legacy sshd[60374]: Illegal user admin from 218.237.4.57\n",
      "Oct 17 01:29:38 legacy sshd[60376]: Illegal user user from 218.237.4.57\n",
      "Oct 17 01:29:51 legacy sshd[60387]: Illegal user test from 218.237.4.57\n",
      "Oct 17 23:29:11 legacy sshd[64098]: Did not receive identification string from 147.46.76.225\n",
      "Oct 17 23:37:18 legacy sshd[64139]: Illegal user patrick from 147.46.76.225\n",
      "Oct 17 23:37:22 legacy sshd[64141]: Illegal user patrick from 147.46.76.225\n",
      "Oct 17 23:39:35 legacy sshd[64151]: fatal: Timeout before authentication for 147.46.76.225\n",
      "Oct 18 00:09:42 legacy sshd[64320]: Illegal user test from 211.174.181.158\n",
      "Oct 18 00:09:45 legacy sshd[64322]: Illegal user guest from 211.174.181.158\n",
      "Oct 18 00:10:18 legacy sshd[64330]: Illegal user test from 211.34.197.3\n",
      "Oct 18 00:10:22 legacy sshd[64332]: Illegal user guest from 211.34.197.3\n",
      "Oct 18 00:10:25 legacy sshd[64334]: Illegal user admin from 211.34.197.3\n",
      "Oct 18 00:10:29 legacy sshd[64336]: Illegal user admin from 211.34.197.3\n",
      "Oct 18 00:10:32 legacy sshd[64338]: Illegal user user from 211.34.197.3\n",
      "Oct 18 00:10:44 legacy sshd[64347]: Illegal user test from 211.34.197.3\n",
      "Oct 18 22:47:31 legacy sshd[72101]: Did not receive identification string from 83.64.18.219\n",
      "Oct 18 23:02:01 legacy sshd[72124]: Illegal user patrick from 83.64.18.219\n",
      "Oct 18 23:02:02 legacy sshd[72126]: Illegal user patrick from 83.64.18.219\n",
      "Oct 18 23:02:15 legacy sshd[72138]: Illegal user rolo from 83.64.18.219\n",
      "Oct 18 23:02:17 legacy sshd[72140]: Illegal user iceuser from 83.64.18.219\n",
      "Oct 18 23:02:18 legacy sshd[72142]: Illegal user horde from 83.64.18.219\n",
      "Oct 18 23:02:20 legacy sshd[72144]: Illegal user cyrus from 83.64.18.219\n",
      "Oct 18 23:02:22 legacy sshd[72148]: Illegal user wwwrun from 83.64.18.219\n",
      "Oct 18 23:02:24 legacy sshd[72150]: Illegal user matt from 83.64.18.219\n",
      "Oct 18 23:02:25 legacy sshd[72152]: Illegal user test from 83.64.18.219\n",
      "Oct 18 23:02:31 legacy sshd[72154]: Illegal user test from 83.64.18.219\n",
      "Oct 18 23:02:33 legacy sshd[72156]: Illegal user test from 83.64.18.219\n",
      "Oct 18 23:02:34 legacy sshd[72158]: Illegal user test from 83.64.18.219\n",
      "Oct 18 23:02:35 legacy sshd[72160]: Illegal user www-data from 83.64.18.219\n",
      "Oct 18 23:02:37 legacy sshd[72162]: Illegal user mysql from 83.64.18.219\n",
      "Oct 18 23:02:40 legacy sshd[72166]: Illegal user adm from 83.64.18.219\n",
      "Oct 18 23:02:41 legacy sshd[72168]: Illegal user apache from 83.64.18.219\n",
      "Oct 18 23:02:43 legacy sshd[72170]: Illegal user irc from 83.64.18.219\n",
      "Oct 18 23:02:44 legacy sshd[72172]: Illegal user irc from 83.64.18.219\n",
      "Oct 18 23:02:46 legacy sshd[72174]: Illegal user adm from 83.64.18.219\n",
      "Oct 18 23:02:51 legacy sshd[72182]: Illegal user jane from 83.64.18.219\n",
      "Oct 18 23:02:53 legacy sshd[72184]: Illegal user pamela from 83.64.18.219\n",
      "Oct 18 23:03:00 legacy sshd[72196]: Illegal user cosmin from 83.64.18.219\n",
      "Oct 18 23:03:56 legacy sshd[72270]: Illegal user cip52 from 83.64.18.219\n",
      "Oct 18 23:03:57 legacy sshd[72272]: Illegal user cip51 from 83.64.18.219\n",
      "Oct 18 23:04:05 legacy sshd[72276]: Illegal user noc from 83.64.18.219\n",
      "Oct 18 23:04:12 legacy sshd[72287]: Illegal user webmaster from 83.64.18.219\n",
      "Oct 18 23:04:18 legacy sshd[72297]: Illegal user data from 83.64.18.219\n",
      "Oct 18 23:04:20 legacy sshd[72299]: Illegal user user from 83.64.18.219\n",
      "Oct 18 23:04:26 legacy sshd[72301]: Illegal user user from 83.64.18.219\n",
      "Oct 18 23:04:27 legacy sshd[72303]: Illegal user user from 83.64.18.219\n",
      "Oct 18 23:04:29 legacy sshd[72305]: Illegal user web from 83.64.18.219\n",
      "Oct 18 23:04:30 legacy sshd[72307]: Illegal user web from 83.64.18.219\n",
      "Oct 18 23:04:32 legacy sshd[72309]: Illegal user oracle from 83.64.18.219\n",
      "Oct 18 23:04:33 legacy sshd[72311]: Illegal user sybase from 83.64.18.219\n",
      "Oct 18 23:04:34 legacy sshd[72313]: Illegal user master from 83.64.18.219\n",
      "Oct 18 23:04:36 legacy sshd[72315]: Illegal user account from 83.64.18.219\n",
      "Oct 18 23:04:38 legacy sshd[72317]: Illegal user backup from 83.64.18.219\n",
      "Oct 18 23:04:39 legacy sshd[72319]: Illegal user server from 83.64.18.219\n",
      "Oct 18 23:04:41 legacy sshd[72321]: Illegal user adam from 83.64.18.219\n",
      "Oct 18 23:04:42 legacy sshd[72323]: Illegal user alan from 83.64.18.219\n",
      "Oct 18 23:04:44 legacy sshd[72325]: Illegal user frank from 83.64.18.219\n",
      "Oct 18 23:04:46 legacy sshd[72327]: Illegal user george from 83.64.18.219\n",
      "Oct 18 23:04:47 legacy sshd[72329]: Illegal user henry from 83.64.18.219\n",
      "Oct 18 23:04:49 legacy sshd[72331]: Illegal user john from 83.64.18.219\n",
      "Oct 18 23:04:58 legacy sshd[72343]: Illegal user test from 83.64.18.219\n",
      "Oct 18 23:47:19 legacy sshd[72387]: Did not receive identification string from 67.19.240.114\n",
      "Oct 19 00:04:37 legacy sshd[72447]: Illegal user patrick from 67.19.240.114\n",
      "Oct 19 00:04:38 legacy sshd[72449]: Illegal user patrick from 67.19.240.114\n"
     ]
    }
   ],
   "source": [
    "logfile = open('logfile.txt', 'r')\n",
    "for string in logfile:\n",
    "    string = string.rstrip()\n",
    "    print(string)"
   ]
  },
  {
   "cell_type": "markdown",
   "id": "9384b168",
   "metadata": {},
   "source": [
    "В нем есть характерная строка, сообщающая, что программа не получила идентификатор пользователя при подключении:\n",
    "\n",
    "`Did not receive identification string from ip_address`\n",
    "\n",
    "Напишем программу, которая найдет все ip адреса таких неавторизованных юзеров:"
   ]
  },
  {
   "cell_type": "code",
   "execution_count": 35,
   "id": "3d66a382",
   "metadata": {},
   "outputs": [
    {
     "name": "stdout",
     "output_type": "stream",
     "text": [
      "['211.156.128.23']\n",
      "['147.46.76.225']\n",
      "['83.64.18.219']\n",
      "['67.19.240.114']\n"
     ]
    }
   ],
   "source": [
    "import re\n",
    "logfile = open('logfile.txt', 'r')\n",
    "for string in logfile:\n",
    "    if re.search('Did', string):\n",
    "        print(re.findall('\\d+\\.\\d+\\.\\d+\\.\\d+', string))\n",
    "logfile.close()"
   ]
  },
  {
   "cell_type": "code",
   "execution_count": 42,
   "id": "75aa0efd",
   "metadata": {},
   "outputs": [
    {
     "name": "stdout",
     "output_type": "stream",
     "text": [
      "['211.156.128.23']\n",
      "['147.46.76.225']\n",
      "['83.64.18.219']\n",
      "['67.19.240.114']\n"
     ]
    }
   ],
   "source": [
    "import re\n",
    "with open('logfile.txt', 'r') as x:\n",
    "    for line in x:\n",
    "        y = re.findall('Did not receive identification string from (\\d+\\.\\d+\\.\\d+\\.\\d+)', line)\n",
    "        if len(y) != 1: continue\n",
    "        print(y)\n",
    "        \n",
    "# Another way, thanks to Dr. Chuck"
   ]
  },
  {
   "cell_type": "code",
   "execution_count": 37,
   "id": "11d72c96",
   "metadata": {},
   "outputs": [
    {
     "name": "stdout",
     "output_type": "stream",
     "text": [
      "[['211.156.128.23'], ['147.46.76.225'], ['83.64.18.219'], ['67.19.240.114']]\n"
     ]
    }
   ],
   "source": [
    "import re\n",
    "ip_lst = list()\n",
    "with open('logfile.txt', 'r') as x:\n",
    "    for line in x:\n",
    "        y = re.findall('Did not receive identification string from (\\d+\\.\\d+\\.\\d+\\.\\d+)', line)\n",
    "        if len(y) != 1: continue\n",
    "        ip_lst.append(y)\n",
    "print(ip_lst)"
   ]
  },
  {
   "cell_type": "markdown",
   "id": "8e5ae7f0",
   "metadata": {},
   "source": [
    "Мы построчно читаем файл и ищем строки, в которых есть сочетание 'Did'. В каждой такой строке мы находим ip адрес. Он состоит из 4 наборов цифр, разделенных точками между собой.\n",
    "\n",
    "Здесь приведена [ссылка](https://regexcrossword.com/) на портал, где можно сыграть в кроссворд из регулярных выражений. Шаблоны записываются по горизонтали и вертикали и вам необходимо вписать тот символ, который удовлетворяет одному или нескольким шаблонам. Задания выстроены по уровню сложности от простого к сложному. С помощью этой игры вы сможете открыть для себя интересные полезные комбинации для формирования собственных шаблонов."
   ]
  },
  {
   "cell_type": "code",
   "execution_count": null,
   "id": "d63e679a",
   "metadata": {},
   "outputs": [],
   "source": []
  }
 ],
 "metadata": {
  "kernelspec": {
   "display_name": "Python 3 (ipykernel)",
   "language": "python",
   "name": "python3"
  },
  "language_info": {
   "codemirror_mode": {
    "name": "ipython",
    "version": 3
   },
   "file_extension": ".py",
   "mimetype": "text/x-python",
   "name": "python",
   "nbconvert_exporter": "python",
   "pygments_lexer": "ipython3",
   "version": "3.11.0"
  },
  "toc-autonumbering": false,
  "toc-showtags": false,
  "widgets": {
   "application/vnd.jupyter.widget-state+json": {
    "state": {},
    "version_major": 2,
    "version_minor": 0
   }
  }
 },
 "nbformat": 4,
 "nbformat_minor": 5
}
