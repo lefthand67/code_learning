{
 "cells": [
  {
   "cell_type": "markdown",
   "id": "3a384530",
   "metadata": {},
   "source": [
    "# ОСНОВЫ PYTHON - теория"
   ]
  },
  {
   "cell_type": "markdown",
   "id": "a4951206",
   "metadata": {},
   "source": [
    "## 15. Работа с файлами\n",
    "\n",
    "### Описание\n",
    "Python позволяет работать с файлами. В качестве примера будем работать с текстовым файлом.\n",
    "Прежде чем начать работать с файлом необходимо его открыть, для этого есть метод **open()**:"
   ]
  },
  {
   "cell_type": "code",
   "execution_count": null,
   "id": "d5dacf7e",
   "metadata": {},
   "outputs": [],
   "source": [
    "f = open('test.txt', 'r')"
   ]
  },
  {
   "cell_type": "markdown",
   "id": "6f177644",
   "metadata": {},
   "source": [
    "Мы присваиваем переменной **f** результат выполнения команды открытия файла, параметры этой команды - адрес файла, путь до места, где он расположен на компьютере с названием файла(**test**) и его расширением(.**txt**), говорящим что он текстовый. Второй параметр **'r'** означает, что файл открыт для чтения, то есть мы не сможем вносить изменения в этот файл до тех пор, пока он открыт только для чтения.\n",
    "\n",
    "У метода open() существует много аргументов:\n",
    "\n",
    "**'r'** - открытие на чтение(значение по умолчанию)  \n",
    "**'w'** - открытие на запись, содержимое файла удаляется и перезаписывается заново, если файла не существует, создается новый  \n",
    "**'x'** - открытие на запись, только если файла не существует  \n",
    "**'a'** - открытие на дозапись, информация добавляется в конец файла  \n",
    "**'b'** - открытие файла в двоичном виде  \n",
    "**'t'** - открытие в текстовом режиме(значение по умолчанию)  \n",
    "**'+'** - открытие на чтение и запись  \n",
    "\n",
    "Возможно сочетание режимов, например **'rb'**, чтение в бинарном виде, по умолчанию установлен **'rt'**.\n",
    "\n",
    "После открытия файла можно прочитать из него информацию, благодаря методу **read()**:"
   ]
  },
  {
   "cell_type": "code",
   "execution_count": 5,
   "id": "7f6fdc4f",
   "metadata": {},
   "outputs": [
    {
     "data": {
      "text/plain": [
       "'Наше дело правое! \\nВраг разбит! \\nМы победили!'"
      ]
     },
     "execution_count": 5,
     "metadata": {},
     "output_type": "execute_result"
    }
   ],
   "source": [
    "f = open('test.txt', 'r', encoding='utf-8')\n",
    "f.read()"
   ]
  },
  {
   "cell_type": "markdown",
   "id": "18865fb8",
   "metadata": {},
   "source": [
    "Также можно прочитать и вывести файл построчно:"
   ]
  },
  {
   "cell_type": "code",
   "execution_count": 2,
   "id": "567f7e20",
   "metadata": {},
   "outputs": [
    {
     "name": "stdout",
     "output_type": "stream",
     "text": [
      "Наше дело правое! \n",
      "\n",
      "Враг разбит! \n",
      "\n",
      "Мы победили!\n"
     ]
    }
   ],
   "source": [
    "f = open('test.txt', 'r', encoding='utf-8') \n",
    "for line in f:\n",
    "    print(line)"
   ]
  },
  {
   "cell_type": "markdown",
   "id": "19b486bc",
   "metadata": {},
   "source": [
    "Записать информацию в файл можно, открыв файл на запись:"
   ]
  },
  {
   "cell_type": "code",
   "execution_count": 18,
   "id": "6bbbc488",
   "metadata": {},
   "outputs": [
    {
     "name": "stdout",
     "output_type": "stream",
     "text": [
      "1\n",
      "2\n",
      "3\n"
     ]
    }
   ],
   "source": [
    "f = open('test1.txt', 'w')\n",
    "for i in range(1, 4):\n",
    "    f.write(str(i) + '\\n')\n",
    "    print(i)"
   ]
  },
  {
   "cell_type": "markdown",
   "id": "513faa13",
   "metadata": {},
   "source": [
    "По окончании работы с файлом его необходимо закрыть, используя метод **close()**:"
   ]
  },
  {
   "cell_type": "code",
   "execution_count": 20,
   "id": "7e6edb29",
   "metadata": {},
   "outputs": [],
   "source": [
    "f.close()"
   ]
  },
  {
   "cell_type": "markdown",
   "id": "fb09d35e",
   "metadata": {},
   "source": [
    "## 16. Подключение модулей\n",
    "\n",
    "### Описание\n",
    "Модулем в Python называется любой файл с программой с расширением **.py**. То есть любой ваш код, заключенный в файл, является модулем. Когда разрабатывается любая программа, она редко ограничивается одним файлом. Обычно это набор файлов. Для того, чтобы не писать один и тот же код в каждом файле, к каждому файлу можно подключить другой файл. Подключив другой файл (модуль), из него можно достать полезный метод, который может понадобиться.\n",
    "\n",
    "Давайте в качестве примера подключим стандартный модуль **datetime**, чтобы достать оттуда метод **datetime.today()**:"
   ]
  },
  {
   "cell_type": "code",
   "execution_count": 1,
   "id": "98745f01",
   "metadata": {},
   "outputs": [
    {
     "name": "stdout",
     "output_type": "stream",
     "text": [
      "2022-10-15 14:32:31.220024\n"
     ]
    }
   ],
   "source": [
    "import datetime\n",
    "print(datetime.datetime.today()) "
   ]
  },
  {
   "cell_type": "markdown",
   "id": "5eb370c1",
   "metadata": {},
   "source": [
    "Подключив стандартный модуль, мы достали метод получения текущей даты и времени, после чего вызвали его и получили вывод на экран. \n",
    "\n",
    "На языке Python очень много дополнительных библиотек, которые можно доустановить и затем вызвать необходимые методы для улучшения работоспособности своего кода, а зачастую и раскрывая новые возможности. Прежде чем начать работать с новой для себя библиотекой, стоит ознакомиться с ее методами, чтобы эффективно использовать в своей работе.\n",
    "\n",
    "Также можно использовать псевдонимы для модулей, чтобы сократить их названия:"
   ]
  },
  {
   "cell_type": "code",
   "execution_count": 2,
   "id": "6656bcea",
   "metadata": {},
   "outputs": [
    {
     "name": "stdout",
     "output_type": "stream",
     "text": [
      "2022-10-15 14:34:04.703391\n"
     ]
    }
   ],
   "source": [
    "import datetime as m\n",
    "print(m.datetime.today())"
   ]
  },
  {
   "cell_type": "markdown",
   "id": "dfa71644",
   "metadata": {},
   "source": [
    "Можно сделать подключение модуля еще удобнее, использовав инструкцию **from**:"
   ]
  },
  {
   "cell_type": "code",
   "execution_count": 3,
   "id": "435d4c53",
   "metadata": {},
   "outputs": [
    {
     "name": "stdout",
     "output_type": "stream",
     "text": [
      "2022-10-15 14:34:44.134406\n"
     ]
    }
   ],
   "source": [
    "from datetime import datetime as m\n",
    "print(m.today())"
   ]
  },
  {
   "cell_type": "markdown",
   "id": "cf1c061c",
   "metadata": {},
   "source": [
    "Также мы можем достать все методы сразу, использовав символ *:"
   ]
  },
  {
   "cell_type": "code",
   "execution_count": 4,
   "id": "ff4a463d",
   "metadata": {},
   "outputs": [],
   "source": [
    "from datetime import *"
   ]
  },
  {
   "cell_type": "markdown",
   "id": "98d7e009",
   "metadata": {},
   "source": [
    "### Модуль random\n",
    "Модуль **random** - дополнительный модуль из стандартной библиотеки Python. Он содержит функции для генерации случайных чисел, букв, символов и случайных элементов последовательности. Вот некоторые из них:\n",
    "\n",
    "- **random.randrange(start, stop[, step])** - возвращает случайно выбранное число из диапазона, **start** - целое число, начало последовательности (по умолчанию 0), **stop** - конечное число в последовательности, не входящее в нее, **step** - шаг последовательности (по умолчанию 1)."
   ]
  },
  {
   "cell_type": "code",
   "execution_count": 11,
   "id": "8fbfb287",
   "metadata": {},
   "outputs": [
    {
     "data": {
      "text/plain": [
       "6"
      ]
     },
     "execution_count": 11,
     "metadata": {},
     "output_type": "execute_result"
    }
   ],
   "source": [
    "from random import randrange\n",
    "randrange(10)"
   ]
  },
  {
   "cell_type": "code",
   "execution_count": 12,
   "id": "a69ffdf7",
   "metadata": {},
   "outputs": [
    {
     "data": {
      "text/plain": [
       "16"
      ]
     },
     "execution_count": 12,
     "metadata": {},
     "output_type": "execute_result"
    }
   ],
   "source": [
    "from random import randrange\n",
    "randrange(10, 20)"
   ]
  },
  {
   "cell_type": "code",
   "execution_count": 15,
   "id": "0c32904e",
   "metadata": {},
   "outputs": [
    {
     "data": {
      "text/plain": [
       "10"
      ]
     },
     "execution_count": 15,
     "metadata": {},
     "output_type": "execute_result"
    }
   ],
   "source": [
    "from random import randrange\n",
    "randrange(10, 20, 3)"
   ]
  },
  {
   "cell_type": "markdown",
   "id": "86caa101",
   "metadata": {},
   "source": [
    "- **random.randint(A, B)** - случайное целое число N, A ≤ N ≤ B."
   ]
  },
  {
   "cell_type": "code",
   "execution_count": 16,
   "id": "db3354b7",
   "metadata": {},
   "outputs": [
    {
     "data": {
      "text/plain": [
       "64"
      ]
     },
     "execution_count": 16,
     "metadata": {},
     "output_type": "execute_result"
    }
   ],
   "source": [
    "from random import randint\n",
    "randint(0, 200)"
   ]
  },
  {
   "cell_type": "markdown",
   "id": "6d07d252",
   "metadata": {},
   "source": [
    "- **random.choice(sequence)** - случайный элемент непустой последовательности."
   ]
  },
  {
   "cell_type": "code",
   "execution_count": 27,
   "id": "82eb7577",
   "metadata": {},
   "outputs": [
    {
     "data": {
      "text/plain": [
       "'t'"
      ]
     },
     "execution_count": 27,
     "metadata": {},
     "output_type": "execute_result"
    }
   ],
   "source": [
    "import random\n",
    "random.choice('Python is awesome!')"
   ]
  },
  {
   "cell_type": "markdown",
   "id": "2044937e",
   "metadata": {},
   "source": [
    "- **random.shuffle(sequence)** - перемешивает последовательность (изменяется сама последовательность). Поэтому функция не работает для неизменяемых объектов."
   ]
  },
  {
   "cell_type": "code",
   "execution_count": 35,
   "id": "98af6ad9",
   "metadata": {},
   "outputs": [
    {
     "name": "stdout",
     "output_type": "stream",
     "text": [
      "[1, 2, 3, 4, 5, 6, 7, 8, 9]\n",
      "[9, 4, 8, 6, 2, 5, 3, 1, 7]\n"
     ]
    }
   ],
   "source": [
    "import random\n",
    "l = [1, 2, 3, 4, 5, 6, 7, 8, 9]\n",
    "\n",
    "print(l)\n",
    "random.shuffle(l)\n",
    "print(l)"
   ]
  },
  {
   "cell_type": "markdown",
   "id": "a2419bc0",
   "metadata": {},
   "source": [
    "- **random.random()** - случайное число от 0 до 1."
   ]
  },
  {
   "cell_type": "code",
   "execution_count": 44,
   "id": "1aa91b57",
   "metadata": {},
   "outputs": [
    {
     "data": {
      "text/plain": [
       "0.026037368177040277"
      ]
     },
     "execution_count": 44,
     "metadata": {},
     "output_type": "execute_result"
    }
   ],
   "source": [
    "import random\n",
    "random.random()"
   ]
  },
  {
   "cell_type": "code",
   "execution_count": null,
   "id": "ad118886",
   "metadata": {},
   "outputs": [],
   "source": []
  },
  {
   "cell_type": "code",
   "execution_count": null,
   "id": "6354bbae",
   "metadata": {},
   "outputs": [],
   "source": []
  }
 ],
 "metadata": {
  "kernelspec": {
   "display_name": "Python 3 (ipykernel)",
   "language": "python",
   "name": "python3"
  },
  "language_info": {
   "codemirror_mode": {
    "name": "ipython",
    "version": 3
   },
   "file_extension": ".py",
   "mimetype": "text/x-python",
   "name": "python",
   "nbconvert_exporter": "python",
   "pygments_lexer": "ipython3",
   "version": "3.8.13"
  }
 },
 "nbformat": 4,
 "nbformat_minor": 5
}
