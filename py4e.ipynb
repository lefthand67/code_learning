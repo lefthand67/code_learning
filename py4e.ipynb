{
 "cells": [
  {
   "cell_type": "code",
   "execution_count": 2,
   "id": "146b9d65",
   "metadata": {},
   "outputs": [
    {
     "name": "stdout",
     "output_type": "stream",
     "text": [
      "Who are you? Chuck\n",
      "Welcome,  Chuck!\n",
      "How're you doing? not bad you know\n",
      "Slacker!\n"
     ]
    }
   ],
   "source": [
    "nam = input('Who are you? ')\n",
    "print('Welcome, ', nam + '!')\n",
    "doing = input(\"How're you doing? \")\n",
    "if doing == \"I'm good\": print('Awesome, man!')\n",
    "else: print(\"Slacker!\")"
   ]
  },
  {
   "cell_type": "code",
   "execution_count": 3,
   "id": "46e64d5a",
   "metadata": {},
   "outputs": [
    {
     "name": "stdout",
     "output_type": "stream",
     "text": [
      "Europe floor? 2\n",
      "US floor: 3\n"
     ]
    }
   ],
   "source": [
    "inp = input('Europe floor? ')\n",
    "usf = int(inp) + 1\n",
    "print(\"US floor:\", usf)"
   ]
  },
  {
   "cell_type": "code",
   "execution_count": 4,
   "id": "8dece677",
   "metadata": {},
   "outputs": [
    {
     "name": "stdout",
     "output_type": "stream",
     "text": [
      "Enter a number: 4\n",
      "Nice work!\n"
     ]
    }
   ],
   "source": [
    "rawstr = input(\"Enter a number: \")\n",
    "try:\n",
    "    ival = int(rawstr)\n",
    "except:\n",
    "    ival = -1\n",
    "\n",
    "if ival > 0:\n",
    "    print(\"Nice work!\")\n",
    "else:\n",
    "    print('Dear,', rawstr, \"is not a number. Relax and try again.\")"
   ]
  },
  {
   "cell_type": "code",
   "execution_count": 5,
   "id": "0a7bb89a",
   "metadata": {},
   "outputs": [
    {
     "name": "stdout",
     "output_type": "stream",
     "text": [
      "df34\n",
      "3\n"
     ]
    }
   ],
   "source": [
    "a = min(input())\n",
    "print(a)"
   ]
  },
  {
   "cell_type": "code",
   "execution_count": 6,
   "id": "295696c9",
   "metadata": {},
   "outputs": [
    {
     "name": "stdout",
     "output_type": "stream",
     "text": [
      "11\n"
     ]
    }
   ],
   "source": [
    "print(round(100/9))"
   ]
  },
  {
   "cell_type": "code",
   "execution_count": 7,
   "id": "5fc3a743",
   "metadata": {},
   "outputs": [
    {
     "name": "stdout",
     "output_type": "stream",
     "text": [
      "What's your name? Jose\n",
      "What country are you from (print just the name of the country)? Spain\n",
      "Hola, Jose!\n"
     ]
    }
   ],
   "source": [
    "# Greeting in your language (a piece)\n",
    "\n",
    "name = input(\"What's your name? \")\n",
    "country = input(\"What country are you from (print just the name of the country)? \")\n",
    "def greet(country):\n",
    "    if country == \"Spain\":\n",
    "        return \"Hola,\"\n",
    "    else:\n",
    "        return \"Будь верен идее коммунизма,\"\n",
    "print(greet(country), name + \"!\")"
   ]
  },
  {
   "cell_type": "code",
   "execution_count": 8,
   "id": "24a356be",
   "metadata": {},
   "outputs": [],
   "source": [
    "# Indefinite Loops WHILE 2:20"
   ]
  },
  {
   "cell_type": "code",
   "execution_count": 9,
   "id": "a8ebd81d",
   "metadata": {},
   "outputs": [
    {
     "name": "stdout",
     "output_type": "stream",
     "text": [
      "< d\n",
      "d\n",
      "< done\n",
      "Done!\n"
     ]
    }
   ],
   "source": [
    "#break - finishes the loop\n",
    "\n",
    "while True:\n",
    "    line = input('< ')\n",
    "    if line == 'done':\n",
    "        break\n",
    "    print(line)\n",
    "print('Done!')"
   ]
  },
  {
   "cell_type": "code",
   "execution_count": 10,
   "id": "cb770386",
   "metadata": {},
   "outputs": [
    {
     "name": "stdout",
     "output_type": "stream",
     "text": [
      "< #\n",
      "< g\n",
      "g\n",
      "< done\n",
      "Done!\n"
     ]
    }
   ],
   "source": [
    "#break and continue\n",
    "# continue - returns to the head of the loop\n",
    "\n",
    "while True:\n",
    "    line = input('< ')\n",
    "    if line[0] == '#':\n",
    "        continue\n",
    "    if line == 'done':\n",
    "        break\n",
    "    print(line)\n",
    "print('Done!')\n",
    "        "
   ]
  },
  {
   "cell_type": "code",
   "execution_count": 11,
   "id": "047cd11f",
   "metadata": {},
   "outputs": [],
   "source": [
    "# Definite Loops FOR 2:25"
   ]
  },
  {
   "cell_type": "code",
   "execution_count": 12,
   "id": "dda113fb",
   "metadata": {},
   "outputs": [
    {
     "name": "stdout",
     "output_type": "stream",
     "text": [
      "5\n",
      "4\n",
      "3\n",
      "2\n",
      "1\n",
      "We're done\n"
     ]
    }
   ],
   "source": [
    "for i in [5, 4, 3, 2, 1]:\n",
    "    print(i)\n",
    "print(\"We're done\")"
   ]
  },
  {
   "cell_type": "code",
   "execution_count": 41,
   "id": "8d1ae528",
   "metadata": {},
   "outputs": [
    {
     "name": "stdout",
     "output_type": "stream",
     "text": [
      "Happy October Revolution Day, Vladimir!\n",
      "Happy October Revolution Day, Joseph!\n",
      "Happy October Revolution Day, Iron Felix!\n",
      "Hooray! Hooray! HOORAY!!!\n"
     ]
    }
   ],
   "source": [
    "# Python doesn't understand plural or sing form so the 'i' means the iterable value in the string\n",
    "# 'i' could be any word I like ('friend' for ex)\n",
    "\n",
    "friends = ['Vladimir', 'Joseph', 'Iron Felix']\n",
    "for i in friends:\n",
    "    print('Happy October Revolution Day,', i + '!')\n",
    "print('Hooray! ' * 2 + 'HOORAY!!!')"
   ]
  },
  {
   "cell_type": "code",
   "execution_count": 14,
   "id": "2f3b07eb",
   "metadata": {},
   "outputs": [
    {
     "name": "stdout",
     "output_type": "stream",
     "text": [
      "94\n"
     ]
    }
   ],
   "source": [
    "# Finding the largest number in a row (in my_library)\n",
    "\n",
    "numbers = [45, 75, 2, -2, 3, 94, 5, 34]\n",
    "# We're going to compare each number with the initially \"largest\" (i.e. first) number \n",
    "# and change the value if the next number is bigger \n",
    "largest_number = numbers[0]\n",
    "for i in numbers:\n",
    "    if i > largest_number:\n",
    "        largest_number = i\n",
    "print(largest_number)"
   ]
  },
  {
   "cell_type": "code",
   "execution_count": 15,
   "id": "40a05561",
   "metadata": {},
   "outputs": [
    {
     "name": "stdout",
     "output_type": "stream",
     "text": [
      "-2\n",
      "Before: 45\n",
      "1) 45 45\n",
      "2) 75 45\n",
      "3) 2 2\n",
      "4) -2 -2\n",
      "5) 3 -2\n",
      "6) 94 -2\n",
      "7) 5 -2\n",
      "8) 34 -2\n",
      "After: the smallest number is -2\n",
      "Before: None\n",
      "45 45\n",
      "75 45\n",
      "2 2\n",
      "-2 -2\n",
      "3 -2\n",
      "94 -2\n",
      "5 -2\n",
      "34 -2\n",
      "After: the smallest number is -2\n"
     ]
    }
   ],
   "source": [
    "# Finding the smallest number in a row (in my_library)\n",
    "\n",
    "numbers = [45, 75, 2, -2, 3, 94, 5, 34]\n",
    "smallest_number = numbers[0]\n",
    "for i in numbers:\n",
    "    if i < smallest_number:\n",
    "        smallest_number = i\n",
    "print(smallest_number)\n",
    "\n",
    "\n",
    "count = 0\n",
    "smallest_number = numbers[0]\n",
    "print('Before:', smallest_number)\n",
    "for i in numbers:\n",
    "    count = count + 1\n",
    "    if i < smallest_number:\n",
    "        smallest_number = i\n",
    "    print(str(count) + ')', i, smallest_number)\n",
    "print('After: the smallest number is', smallest_number)\n",
    "\n",
    "smallest_number = None\n",
    "print('Before:', smallest_number)\n",
    "for i in numbers:\n",
    "    if smallest_number is None:\n",
    "        smallest_number = i\n",
    "    elif i < smallest_number:\n",
    "        smallest_number = i\n",
    "    print(i, smallest_number)\n",
    "print('After: the smallest number is', smallest_number)"
   ]
  },
  {
   "cell_type": "code",
   "execution_count": 16,
   "id": "e68c9b48",
   "metadata": {},
   "outputs": [
    {
     "name": "stdout",
     "output_type": "stream",
     "text": [
      "Before 0\n",
      "1) 45\n",
      "2) 75\n",
      "3) 2\n",
      "4) -2\n",
      "5) 3\n",
      "6) 94\n",
      "7) 5\n",
      "8) 34\n",
      "After 8\n"
     ]
    }
   ],
   "source": [
    "# Counting in a Loop\n",
    "# counting how many times we execute the loop\n",
    "\n",
    "list = [45, 75, 2, -2, 3, 94, 5, 34]\n",
    "zork = 0    # count\n",
    "print('Before', zork)\n",
    "for i in list:\n",
    "    zork = zork + 1\n",
    "    print(str(zork) + ')', i)\n",
    "print('After', zork)"
   ]
  },
  {
   "cell_type": "code",
   "execution_count": 17,
   "id": "d7afe0a2",
   "metadata": {},
   "outputs": [
    {
     "name": "stdout",
     "output_type": "stream",
     "text": [
      "Before: 0\n",
      "45 45\n",
      "120 75\n",
      "122 2\n",
      "120 -2\n",
      "123 3\n",
      "217 94\n",
      "222 5\n",
      "256 34\n",
      "After: sum = 256\n"
     ]
    }
   ],
   "source": [
    "# Summing in a Loop\n",
    "# we use variable zork to start the calculation (the sum of i in list)\n",
    "\n",
    "list = [45, 75, 2, -2, 3, 94, 5, 34]\n",
    "sum = 0\n",
    "print('Before:', sum)\n",
    "for i in list:\n",
    "    sum = sum + i\n",
    "    print(sum, i)\n",
    "print('After:', 'sum =', sum)"
   ]
  },
  {
   "cell_type": "code",
   "execution_count": 18,
   "id": "11091b12",
   "metadata": {},
   "outputs": [
    {
     "name": "stdout",
     "output_type": "stream",
     "text": [
      "Before: 0 0\n",
      "1) 45\n",
      "2) 75\n",
      "3) 2\n",
      "4) -2\n",
      "5) 3\n",
      "6) 94\n",
      "7) 5\n",
      "8) 34\n",
      "After: sum = 256, average = 32.0\n"
     ]
    }
   ],
   "source": [
    "# Finding the Average in a Loop\n",
    "\n",
    "list = [45, 75, 2, -2, 3, 94, 5, 34]\n",
    "count = 0\n",
    "sum = 0\n",
    "print('Before:', count, sum)\n",
    "for i in list:\n",
    "    count = count + 1\n",
    "    sum = sum + i\n",
    "    print(str(count) + ')', i)\n",
    "print('After:', 'sum =', str(sum) + ',', 'average =', sum/count)"
   ]
  },
  {
   "cell_type": "code",
   "execution_count": 19,
   "id": "cd369565",
   "metadata": {},
   "outputs": [
    {
     "name": "stdout",
     "output_type": "stream",
     "text": [
      "[75, 94, 34]\n",
      "[75, -2, 94, 34] ???\n",
      "1) -45\n",
      "2) 2\n",
      "3) 3\n",
      "4) -5\n",
      "5) -20\n",
      "[75, -2, 94, 34]\n"
     ]
    }
   ],
   "source": [
    "# Filtering in a Loop\n",
    "\n",
    "list = [-45, 75, 2, -2, 3, 94, -5, 34, -20]\n",
    "new_list = []\n",
    "for i in list:\n",
    "    if i > 20:\n",
    "        new_list.append(i)\n",
    "print(new_list)\n",
    "\n",
    "for i in list:\n",
    "    if i <= 20:\n",
    "        list.remove(i)\n",
    "print(list, '???')\n",
    "\n",
    "list = [-45, 75, 2, -2, 3, 94, -5, 34, -20]\n",
    "new_list = []\n",
    "count = 0\n",
    "for i in list:\n",
    "    if i <= 20:\n",
    "        count = count + 1\n",
    "        list.remove(i)\n",
    "        print(str(count) + ')', i)\n",
    "print(list)"
   ]
  },
  {
   "cell_type": "code",
   "execution_count": 20,
   "id": "af37664b",
   "metadata": {},
   "outputs": [
    {
     "name": "stdout",
     "output_type": "stream",
     "text": [
      "False -45\n",
      "False 75\n",
      "False 2\n",
      "False -2\n",
      "True 3 Done\n"
     ]
    }
   ],
   "source": [
    "# Search Using a Boolean Variable\n",
    "\n",
    "found = False\n",
    "list = [-45, 75, 2, -2, 3, 94, -5, 34, -20]\n",
    "for i in list:\n",
    "    if i == 3:\n",
    "        found = True\n",
    "        print(found, i, 'Done')\n",
    "        break\n",
    "    print(found, i)"
   ]
  },
  {
   "cell_type": "markdown",
   "id": "da122258",
   "metadata": {},
   "source": [
    "### Parsing and Extracting\n",
    "\n",
    "str.**find**(_sub_**[**, _start_**[**, _end_**]]**)\n",
    "\n",
    "[source](https://docs.python.org/3/library/stdtypes.html)"
   ]
  },
  {
   "cell_type": "code",
   "execution_count": 21,
   "id": "653c2d24",
   "metadata": {},
   "outputs": [
    {
     "name": "stdout",
     "output_type": "stream",
     "text": [
      "10\n",
      "20\n",
      "yandex.ru\n"
     ]
    }
   ],
   "source": [
    "data = \"lefthand67@yandex.ru Sat Sept 24\"\n",
    "\n",
    "# searching for @ nsign position\n",
    "atpos = data.find('@')\n",
    "print(atpos)\n",
    "\n",
    "#searching for a space position\n",
    "sppos = data.find(' ', atpos, 21)\n",
    "print(sppos)\n",
    "\n",
    "#extracting the suffix using string slicing\n",
    "host = data[atpos+1 : sppos]\n",
    "print(host)"
   ]
  },
  {
   "cell_type": "markdown",
   "id": "3361eb58",
   "metadata": {},
   "source": [
    "## Opening, Reading and Writing the File\n",
    "\n",
    "handle = open(**filename**, mode, encoding='utf-8')\n",
    "- filename is a _**string**_,\n",
    "- mode is optional; _**'r'**_ stands for _'reading'_ and _**'w'**_ for _'writing'_,\n",
    "- encoding is for other languages.\n",
    "\n",
    "_**open()**_ is a built-in function that returns a handle not the data.\n",
    "\n",
    "**fhand** = open('mbox.txt', 'r')  \n",
    "'File handle' "
   ]
  },
  {
   "cell_type": "markdown",
   "id": "125c3374",
   "metadata": {},
   "source": [
    "### Reading File"
   ]
  },
  {
   "cell_type": "code",
   "execution_count": 22,
   "id": "3d79681d",
   "metadata": {},
   "outputs": [
    {
     "name": "stdout",
     "output_type": "stream",
     "text": [
      "Михаил Шолохов \"Тихий Дон\"\n",
      "\n",
      "Григорий пришел с игрищ после первых кочетов. Из сенцев пахнуло на него запахом перекисших хмелин и пряной сухменью богородицыной травки.\n",
      "\n",
      "На цыпочках прошел в горницу, разделся, бережно повесил праздничные, с лампасами, шаровары, перекрестился, лег. На полу — перерезанная крестом оконного переплета золотая дрема лунного света. В углу под расшитыми полотенцами тусклый глянец серебрёных икон, над кроватью на подвеске тягучий гуд потревоженных мух.\n",
      "\n",
      "Задремал было, но в кухне заплакал братнин ребенок.\n",
      "\n",
      "Немазаной арбой заскрипела люлька. Дарья сонным голосом бормотнула:\n",
      "\n",
      "— Цыц, ты, поганое дите! Ни сну тебе, ни покою. — Запела тихонько:\n",
      "\n",
      "— Колода-дуда,\n",
      "Иде ж ты была?\n",
      "— Коней стерегла.\n",
      "— Чего выстерегла?\n",
      "— Коня с седлом,\n",
      "С золотым махром…\n",
      "\n",
      "Григорий, засыпая под мерный баюкающий скрип, вспомнил: «А ить завтра Петру в лагеря выходить. Останется Дашка с дитем… Косить, должно, без него будем».\n",
      "\n",
      "Зарылся головой в горячую подушку, в уши назойливо сочится:\n",
      "\n",
      "— А иде ж твой конь?\n",
      "— За воротами стоит.\n",
      "— А иде ж ворота?\n",
      "— Вода унесла.\n"
     ]
    }
   ],
   "source": [
    "fhand = open('text.txt', 'r', encoding='utf-8')\n",
    "for line in fhand:\n",
    "    #.rstrip() deletes all the \\n (newline, i.e. whitespace) characters between the lines\n",
    "    # which appear during the printing procedure\n",
    "    line = line.rstrip()\n",
    "    print(line)"
   ]
  },
  {
   "cell_type": "markdown",
   "id": "05b7e6eb",
   "metadata": {},
   "source": [
    "### Counting Lines in a File"
   ]
  },
  {
   "cell_type": "code",
   "execution_count": 23,
   "id": "2098e04c",
   "metadata": {},
   "outputs": [
    {
     "name": "stdout",
     "output_type": "stream",
     "text": [
      "Line Count: 27\n"
     ]
    }
   ],
   "source": [
    "fhand = open('text.txt', 'r', encoding='utf-8')\n",
    "count = 0\n",
    "for line in fhand:\n",
    "    count = count + 1\n",
    "print('Line Count:', count)"
   ]
  },
  {
   "cell_type": "markdown",
   "id": "6c8bf49a",
   "metadata": {},
   "source": [
    "### Reading the \"Whole\" File\n",
    "one big block as a single string"
   ]
  },
  {
   "cell_type": "code",
   "execution_count": 24,
   "id": "05ad8e3a",
   "metadata": {},
   "outputs": [
    {
     "name": "stdout",
     "output_type": "stream",
     "text": [
      "Characters Count: 1063\n",
      "Михаил Шолохов \"Тихий Дон\"\n"
     ]
    }
   ],
   "source": [
    "fhand = open('text.txt', 'r', encoding='utf-8')\n",
    "inp = fhand.read()\n",
    "print(\"Characters Count:\", len(inp))\n",
    "print(inp[:26])"
   ]
  },
  {
   "cell_type": "markdown",
   "id": "c6a23fb3",
   "metadata": {},
   "source": [
    "### Searching through a File\n",
    "Printing the lines that meet a certain criteria:"
   ]
  },
  {
   "cell_type": "code",
   "execution_count": 25,
   "id": "2b7cbc04",
   "metadata": {},
   "outputs": [
    {
     "name": "stdout",
     "output_type": "stream",
     "text": [
      "Задремал было, но в кухне заплакал братнин ребенок.\n",
      "Зарылся головой в горячую подушку, в уши назойливо сочится:\n"
     ]
    }
   ],
   "source": [
    "fhand = open('text.txt', 'r', encoding='utf-8')\n",
    "for line in fhand:\n",
    "    line = line.rstrip()\n",
    "    if line.startswith(\"З\"):\n",
    "        print(line)"
   ]
  },
  {
   "cell_type": "markdown",
   "id": "4fdb3165",
   "metadata": {},
   "source": [
    "Another way of doing the same operation with **continue**:"
   ]
  },
  {
   "cell_type": "code",
   "execution_count": 26,
   "id": "e1b09ca9",
   "metadata": {},
   "outputs": [
    {
     "name": "stdout",
     "output_type": "stream",
     "text": [
      "Задремал было, но в кухне заплакал братнин ребенок.\n",
      "Зарылся головой в горячую подушку, в уши назойливо сочится:\n"
     ]
    }
   ],
   "source": [
    "fhand = open('text.txt', 'r', encoding='utf-8')\n",
    "for line in fhand:\n",
    "    line = line.rstrip()\n",
    "    if not line.startswith(\"З\"):\n",
    "        continue\n",
    "    print(line)"
   ]
  },
  {
   "cell_type": "markdown",
   "id": "07f4f67d",
   "metadata": {},
   "source": [
    "And another way by using **in**:"
   ]
  },
  {
   "cell_type": "code",
   "execution_count": 27,
   "id": "a2430c75",
   "metadata": {},
   "outputs": [
    {
     "name": "stdout",
     "output_type": "stream",
     "text": [
      "Задремал было, но в кухне заплакал братнин ребенок.\n"
     ]
    }
   ],
   "source": [
    "fhand = open('text.txt', 'r', encoding='utf-8')\n",
    "for line in fhand:\n",
    "    line = line.rstrip()\n",
    "    if not \"в кухне\" in line:\n",
    "        continue\n",
    "    print(line)"
   ]
  },
  {
   "cell_type": "markdown",
   "id": "c399e048",
   "metadata": {},
   "source": [
    "### Interactive Reading File - INPUT\n",
    "- changing the files;\n",
    "- plus insurance against the traceback ppossibility becasue of the bad file name - TRY / EXCEPT."
   ]
  },
  {
   "cell_type": "code",
   "execution_count": 28,
   "id": "8e5706d7",
   "metadata": {},
   "outputs": [
    {
     "name": "stdout",
     "output_type": "stream",
     "text": [
      "Enter the file name: text.txt\n",
      "There were 27 lines in the \"text.txt\".\n"
     ]
    }
   ],
   "source": [
    "fname = input('Enter the file name: ')\n",
    "try:\n",
    "    fhand = open(fname, 'r', encoding='utf-8')\n",
    "except:\n",
    "    print('File cannot be opened: \"' + fname + '\". Try something else.')\n",
    "    quit()\n",
    "\n",
    "try:\n",
    "    count = 0\n",
    "    for line in fhand:\n",
    "        count = count + 1\n",
    "    print('There were', count, 'lines in the \"' + fname + '\".')\n",
    "except:\n",
    "    quit()"
   ]
  },
  {
   "cell_type": "markdown",
   "id": "f4f78d87",
   "metadata": {},
   "source": [
    "# Chapter 8. Lists"
   ]
  },
  {
   "cell_type": "markdown",
   "id": "f9c6592a",
   "metadata": {},
   "source": [
    "## Range\n",
    "returns a list of numbers that range from 0 to one less than the parameter  \n",
    "\n",
    "range(4)) = [0, 1, 2, 3]"
   ]
  },
  {
   "cell_type": "code",
   "execution_count": 32,
   "id": "20c8d8b9",
   "metadata": {},
   "outputs": [
    {
     "name": "stdout",
     "output_type": "stream",
     "text": [
      "range(0, 4)\n"
     ]
    }
   ],
   "source": [
    "print(range(4))"
   ]
  },
  {
   "cell_type": "code",
   "execution_count": 34,
   "id": "86d8aa5c",
   "metadata": {},
   "outputs": [
    {
     "name": "stdout",
     "output_type": "stream",
     "text": [
      "3\n",
      "range(0, 3)\n"
     ]
    }
   ],
   "source": [
    "friends = ['Vladimir', 'Joseph', 'the Iron Felix']\n",
    "print(len(friends))\n",
    "print(range(len(friends)))"
   ]
  },
  {
   "cell_type": "markdown",
   "id": "6d8734f5",
   "metadata": {},
   "source": [
    "Two loops that return the same result:"
   ]
  },
  {
   "cell_type": "code",
   "execution_count": 40,
   "id": "0db32e2d",
   "metadata": {},
   "outputs": [
    {
     "name": "stdout",
     "output_type": "stream",
     "text": [
      "Happy October Revolution Day, Vladimir!\n",
      "Happy October Revolution Day, Joseph!\n",
      "Happy October Revolution Day, Iron Felix!\n",
      "Long live, Vladimir!\n",
      "Long live, Joseph!\n",
      "Long live, Iron Felix!\n"
     ]
    }
   ],
   "source": [
    "friends = ['Vladimir', 'Joseph', 'Iron Felix']\n",
    "\n",
    "for friend in friends:\n",
    "    print('Happy October Revolution Day,', friend + '!')\n",
    "\n",
    "for i in range(len(friends)):\n",
    "    friend = friends[i]\n",
    "    print('Long live,', friend + '!')"
   ]
  },
  {
   "cell_type": "code",
   "execution_count": null,
   "id": "3f7741ce",
   "metadata": {},
   "outputs": [],
   "source": []
  }
 ],
 "metadata": {
  "kernelspec": {
   "display_name": "Python 3 (ipykernel)",
   "language": "python",
   "name": "python3"
  },
  "language_info": {
   "codemirror_mode": {
    "name": "ipython",
    "version": 3
   },
   "file_extension": ".py",
   "mimetype": "text/x-python",
   "name": "python",
   "nbconvert_exporter": "python",
   "pygments_lexer": "ipython3",
   "version": "3.8.13"
  }
 },
 "nbformat": 4,
 "nbformat_minor": 5
}
