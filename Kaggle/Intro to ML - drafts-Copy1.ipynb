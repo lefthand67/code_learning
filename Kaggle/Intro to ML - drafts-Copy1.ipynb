{
 "cells": [
  {
   "cell_type": "markdown",
   "id": "4c68b8a9",
   "metadata": {},
   "source": [
    "## 1. Decision Tree Regressor - complete"
   ]
  },
  {
   "cell_type": "code",
   "execution_count": 5,
   "id": "8a9c9234",
   "metadata": {},
   "outputs": [],
   "source": [
    "def house_pricing(features: list) -> float:\n",
    "    # Code to load data\n",
    "    import pandas as pd\n",
    "    from sklearn.ensemble import RandomForestRegressor\n",
    "    from sklearn.metrics import mean_absolute_error\n",
    "    from sklearn.model_selection import train_test_split\n",
    "\n",
    "\n",
    "    # Path of the file to read\n",
    "    iowa_file_path = 'train.csv'\n",
    "\n",
    "    home_data = pd.read_csv(iowa_file_path)\n",
    "    # Create target object and call it y\n",
    "    y = home_data.SalePrice\n",
    "    # Create X\n",
    "    X = home_data[features]\n",
    "\n",
    "    # Split into validation and training data\n",
    "    train_X, val_X, train_y, val_y = train_test_split(X, y, random_state=1)\n",
    "\n",
    "    forest_model = RandomForestRegressor(random_state=1)\n",
    "    forest_model.fit(train_X, train_y)\n",
    "    iowa_preds = forest_model.predict(val_X)\n",
    "    \n",
    "    # Make validation predictions and calculate mean absolute error\n",
    "    val_mae_simple = mean_absolute_error(iowa_preds, val_y)\n",
    "    \n",
    "    print('Random Forest Regresor\\'s MAE: \\t {:,.0f}'.format(mean_absolute_error(val_y, iowa_preds)))\n"
   ]
  },
  {
   "cell_type": "code",
   "execution_count": 56,
   "id": "5310a44a",
   "metadata": {},
   "outputs": [
    {
     "name": "stdout",
     "output_type": "stream",
     "text": [
      "Random Forest Regresor's MAE: \t 17,077\n",
      "Random Forest Regresor's MAE: \t 17,077\n",
      "Random Forest Regresor's MAE: \t 18,067\n"
     ]
    }
   ],
   "source": [
    "a = ['LotArea', 'YearBuilt', '1stFlrSF', '2ndFlrSF', \n",
    "     'FullBath', 'MSSubClass', 'OverallQual', 'OverallCond', \n",
    "     'YearRemodAdd', 'GrLivArea', 'Fireplaces', 'WoodDeckSF']\n",
    "b = ['LotArea', 'YearBuilt', '1stFlrSF', '2ndFlrSF', \n",
    "     'FullBath', 'MSSubClass', 'OverallQual', 'OverallCond', \n",
    "     'YearRemodAdd', 'GrLivArea', 'Fireplaces', 'WoodDeckSF']\n",
    "c = ['LotArea', 'YearBuilt', '1stFlrSF', '2ndFlrSF', \n",
    "     'FullBath', 'BedroomAbvGr', 'TotRmsAbvGrd', 'MSSubClass', \n",
    "     'OverallQual', 'OverallCond', 'YearRemodAdd', 'GrLivArea', \n",
    "     'HalfBath', 'KitchenAbvGr', 'TotRmsAbvGrd', 'OpenPorchSF', \n",
    "     'EnclosedPorch', '3SsnPorch', 'ScreenPorch', 'PoolArea', \n",
    "      'MiscVal', 'MoSold', 'YrSold']\n",
    "\n",
    "house_pricing(a)\n",
    "house_pricing(b)\n",
    "house_pricing(c)"
   ]
  },
  {
   "cell_type": "code",
   "execution_count": null,
   "id": "640b0c8b",
   "metadata": {},
   "outputs": [],
   "source": []
  },
  {
   "cell_type": "code",
   "execution_count": null,
   "id": "c38b9c5b",
   "metadata": {},
   "outputs": [],
   "source": []
  },
  {
   "cell_type": "code",
   "execution_count": null,
   "id": "c28dc8f9",
   "metadata": {},
   "outputs": [],
   "source": []
  },
  {
   "cell_type": "code",
   "execution_count": null,
   "id": "33abd5ff",
   "metadata": {},
   "outputs": [],
   "source": []
  }
 ],
 "metadata": {
  "kernelspec": {
   "display_name": "Python 3 (ipykernel)",
   "language": "python",
   "name": "python3"
  },
  "language_info": {
   "codemirror_mode": {
    "name": "ipython",
    "version": 3
   },
   "file_extension": ".py",
   "mimetype": "text/x-python",
   "name": "python",
   "nbconvert_exporter": "python",
   "pygments_lexer": "ipython3",
   "version": "3.8.13"
  }
 },
 "nbformat": 4,
 "nbformat_minor": 5
}
