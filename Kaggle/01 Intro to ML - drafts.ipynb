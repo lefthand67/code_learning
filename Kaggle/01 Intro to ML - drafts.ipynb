{
 "cells": [
  {
   "cell_type": "markdown",
   "id": "4c68b8a9",
   "metadata": {},
   "source": [
    "## 1. Decision Tree Regressor - complete"
   ]
  },
  {
   "cell_type": "code",
   "execution_count": 1,
   "id": "8a9c9234",
   "metadata": {},
   "outputs": [
    {
     "name": "stdout",
     "output_type": "stream",
     "text": [
      "Validation MAE: 29,653\n"
     ]
    }
   ],
   "source": [
    "# Code to load data\n",
    "import pandas as pd\n",
    "from sklearn.metrics import mean_absolute_error\n",
    "from sklearn.model_selection import train_test_split\n",
    "from sklearn.tree import DecisionTreeRegressor\n",
    "\n",
    "\n",
    "# Path of the file to read\n",
    "iowa_file_path = 'train.csv'\n",
    "\n",
    "home_data = pd.read_csv(iowa_file_path)\n",
    "# Create target object and call it y\n",
    "y = home_data.SalePrice\n",
    "# Create X\n",
    "features = ['LotArea', 'YearBuilt', '1stFlrSF', '2ndFlrSF', 'FullBath', 'BedroomAbvGr', 'TotRmsAbvGrd']\n",
    "X = home_data[features]\n",
    "\n",
    "# Split into validation and training data\n",
    "train_X, val_X, train_y, val_y = train_test_split(X, y, random_state=1)\n",
    "\n",
    "# Specify Model\n",
    "iowa_model = DecisionTreeRegressor(random_state=1)\n",
    "# Fit Model\n",
    "iowa_model.fit(train_X, train_y)\n",
    "\n",
    "# Make validation predictions and calculate mean absolute error\n",
    "val_predictions = iowa_model.predict(val_X)\n",
    "val_mae_simple = mean_absolute_error(val_predictions, val_y)\n",
    "print(\"Validation MAE: {:,.0f}\".format(val_mae_simple))\n"
   ]
  },
  {
   "cell_type": "code",
   "execution_count": 29,
   "id": "ba66a07d",
   "metadata": {
    "scrolled": true
   },
   "outputs": [
    {
     "name": "stdout",
     "output_type": "stream",
     "text": [
      "Max leaf nodes: 3\tMean Absolute Error: 39912.20512711714\n",
      "Max leaf nodes: 5\tMean Absolute Error: 35044.51299744237\n",
      "Max leaf nodes: 7\tMean Absolute Error: 34769.10089767185\n",
      "Max leaf nodes: 9\tMean Absolute Error: 31863.851616036944\n",
      "Max leaf nodes: 11\tMean Absolute Error: 30389.783612505194\n",
      "Max leaf nodes: 13\tMean Absolute Error: 29124.908937039498\n",
      "Max leaf nodes: 15\tMean Absolute Error: 28125.478430318668\n",
      "Max leaf nodes: 17\tMean Absolute Error: 27807.663665995344\n",
      "Max leaf nodes: 19\tMean Absolute Error: 28648.267042530915\n",
      "Max leaf nodes: 21\tMean Absolute Error: 28750.331097785598\n",
      "Max leaf nodes: 23\tMean Absolute Error: 28653.86284944501\n",
      "Max leaf nodes: 25\tMean Absolute Error: 29016.41319191076\n",
      "Max leaf nodes: 27\tMean Absolute Error: 28616.229360696358\n",
      "Max leaf nodes: 29\tMean Absolute Error: 28704.92928766505\n",
      "Max leaf nodes: 31\tMean Absolute Error: 28994.467469483232\n",
      "Max leaf nodes: 33\tMean Absolute Error: 28355.08322598861\n",
      "Max leaf nodes: 35\tMean Absolute Error: 28761.35218024895\n",
      "Max leaf nodes: 37\tMean Absolute Error: 28608.35020365579\n",
      "Max leaf nodes: 39\tMean Absolute Error: 27931.319478399837\n",
      "Max leaf nodes: 41\tMean Absolute Error: 28085.58636359227\n",
      "Max leaf nodes: 43\tMean Absolute Error: 28037.9307341076\n",
      "Max leaf nodes: 45\tMean Absolute Error: 27556.629320985754\n",
      "Max leaf nodes: 47\tMean Absolute Error: 27392.291421442373\n",
      "Max leaf nodes: 49\tMean Absolute Error: 27467.628271471443\n",
      "Max leaf nodes: 51\tMean Absolute Error: 27609.18709421947\n",
      "Max leaf nodes: 53\tMean Absolute Error: 27683.23178081142\n",
      "Max leaf nodes: 55\tMean Absolute Error: 27662.52507381978\n",
      "Max leaf nodes: 57\tMean Absolute Error: 27611.17044610751\n",
      "Max leaf nodes: 59\tMean Absolute Error: 27308.306384378084\n",
      "Max leaf nodes: 61\tMean Absolute Error: 27076.71826354303\n",
      "Max leaf nodes: 63\tMean Absolute Error: 26976.609928948084\n",
      "Max leaf nodes: 65\tMean Absolute Error: 27044.389659920456\n",
      "Max leaf nodes: 67\tMean Absolute Error: 26985.01149040254\n",
      "Max leaf nodes: 69\tMean Absolute Error: 26759.46382428237\n",
      "Max leaf nodes: 71\tMean Absolute Error: 26704.033546536175\n",
      "Max leaf nodes: 73\tMean Absolute Error: 27044.086130049753\n",
      "Max leaf nodes: 75\tMean Absolute Error: 27114.12284949469\n",
      "Max leaf nodes: 77\tMean Absolute Error: 27298.072186307043\n",
      "Max leaf nodes: 79\tMean Absolute Error: 27155.08343092544\n",
      "Max leaf nodes: 81\tMean Absolute Error: 27389.89243288238\n",
      "Max leaf nodes: 83\tMean Absolute Error: 27585.32010147087\n",
      "Max leaf nodes: 85\tMean Absolute Error: 27536.423432400934\n",
      "Max leaf nodes: 87\tMean Absolute Error: 27432.843393261992\n",
      "Max leaf nodes: 89\tMean Absolute Error: 27432.843393261992\n",
      "Max leaf nodes: 91\tMean Absolute Error: 27411.5488346623\n",
      "Max leaf nodes: 93\tMean Absolute Error: 27151.7344891524\n",
      "Max leaf nodes: 95\tMean Absolute Error: 27268.728164951488\n",
      "Max leaf nodes: 97\tMean Absolute Error: 27179.26010402966\n",
      "Max leaf nodes: 99\tMean Absolute Error: 27236.036473892676\n",
      "Max leaf nodes: 101\tMean Absolute Error: 27233.421280866525\n",
      "Max leaf nodes: 103\tMean Absolute Error: 27062.12526574542\n",
      "Max leaf nodes: 105\tMean Absolute Error: 27171.94053388672\n",
      "Max leaf nodes: 107\tMean Absolute Error: 27362.59683248236\n",
      "Max leaf nodes: 109\tMean Absolute Error: 27341.94595311868\n",
      "Max leaf nodes: 111\tMean Absolute Error: 27393.68759133328\n",
      "Max leaf nodes: 113\tMean Absolute Error: 27362.874933671308\n",
      "Max leaf nodes: 115\tMean Absolute Error: 27507.135607387558\n",
      "Max leaf nodes: 117\tMean Absolute Error: 27524.98500073394\n",
      "Max leaf nodes: 119\tMean Absolute Error: 27524.98500073394\n",
      "Max leaf nodes: 121\tMean Absolute Error: 27486.932957647656\n",
      "Max leaf nodes: 123\tMean Absolute Error: 27626.55751390408\n",
      "Max leaf nodes: 125\tMean Absolute Error: 27597.181562610316\n",
      "Max leaf nodes: 127\tMean Absolute Error: 27583.800716607013\n",
      "Max leaf nodes: 129\tMean Absolute Error: 27638.595237154954\n",
      "Max leaf nodes: 131\tMean Absolute Error: 27621.980755745957\n",
      "Max leaf nodes: 133\tMean Absolute Error: 27483.569590625906\n",
      "Max leaf nodes: 135\tMean Absolute Error: 27417.87004271469\n",
      "Max leaf nodes: 137\tMean Absolute Error: 27474.69494378014\n",
      "Max leaf nodes: 139\tMean Absolute Error: 27458.655804836893\n",
      "Max leaf nodes: 141\tMean Absolute Error: 27422.563436930825\n",
      "Max leaf nodes: 143\tMean Absolute Error: 27489.032321470946\n",
      "Max leaf nodes: 145\tMean Absolute Error: 27574.865509120435\n",
      "Max leaf nodes: 147\tMean Absolute Error: 27607.179127170395\n",
      "\n",
      "Best tree size: 71\n"
     ]
    }
   ],
   "source": [
    "def get_mae(max_leaf_nodes, train_X, val_X, train_y, val_y):\n",
    "    model = DecisionTreeRegressor(max_leaf_nodes=max_leaf_nodes, random_state=0)\n",
    "    model.fit(train_X, train_y)\n",
    "    preds_val = model.predict(val_X)\n",
    "    mae = mean_absolute_error(val_y, preds_val)\n",
    "    return(mae)\n",
    "\n",
    "\n",
    "# candidate_max_leaf_nodes = [1500]\n",
    "candidate_max_leaf_nodes = [2*i-1 for i in range(2, 75)]\n",
    "\n",
    "best_mae = None\n",
    "\n",
    "# Write loop to find the ideal tree size from candidate_max_leaf_nodes\n",
    "for leaf_node in candidate_max_leaf_nodes:\n",
    "    my_mae = get_mae(leaf_node, train_X, val_X, train_y, val_y)\n",
    "    print(f'Max leaf nodes: {leaf_node}\\tMean Absolute Error: {my_mae}')\n",
    "    if best_mae is None or my_mae<best_mae:\n",
    "        best_mae = my_mae\n",
    "        best_tree_size = leaf_node\n",
    "\n",
    "# Store the best value of max_leaf_nodes \n",
    "print('\\nBest tree size:', best_tree_size)\n"
   ]
  },
  {
   "cell_type": "code",
   "execution_count": 23,
   "id": "2968179b",
   "metadata": {},
   "outputs": [
    {
     "name": "stdout",
     "output_type": "stream",
     "text": [
      "Validation MAE for best value of candidate_max_leaf_nodes: \t 26,704\n",
      "Validation MAE when not specifying candidate_max_leaf_nodes: \t 29,653\n"
     ]
    }
   ],
   "source": [
    "# FINAL MODEL\n",
    "\n",
    "# Fill in argument to make optimal size and uncomment\n",
    "iowa_model = DecisionTreeRegressor(max_leaf_nodes=best_tree_size)\n",
    "\n",
    "# fit the final model\n",
    "iowa_model.fit(train_X, train_y)\n",
    "\n",
    "val_predictions = iowa_model.predict(val_X)\n",
    "\n",
    "val_mae = mean_absolute_error(val_predictions, val_y)\n",
    "print(\"Validation MAE for best value of candidate_max_leaf_nodes: \\t {:,.0f}\".format(val_mae))\n",
    "print(\"Validation MAE when not specifying candidate_max_leaf_nodes: \\t {:,.0f}\".format(val_mae_simple))\n"
   ]
  },
  {
   "cell_type": "code",
   "execution_count": 24,
   "id": "e837cc52",
   "metadata": {},
   "outputs": [
    {
     "name": "stdout",
     "output_type": "stream",
     "text": [
      "Final model prediction:\n",
      "[181225.35416667 130647.68518519 125404.5         94060.\n",
      " 149639.97826087]\n",
      "\n",
      "Real Prices:\n",
      "0    208500\n",
      "1    181500\n",
      "2    223500\n",
      "3    140000\n",
      "4    250000\n",
      "Name: SalePrice, dtype: int64\n"
     ]
    }
   ],
   "source": [
    "print('Final model prediction:')\n",
    "print(iowa_model.predict(val_X.head()))\n",
    "\n",
    "print('\\nReal Prices:')\n",
    "print(y.head())"
   ]
  },
  {
   "cell_type": "markdown",
   "id": "2eaefe11",
   "metadata": {},
   "source": [
    "## 2. Random Forests\n",
    "Using a more sophisticated machine learning algorithm.\n",
    "\n",
    "Decision trees leave you with a difficult decision. A deep tree with lots of leaves will overfit because each prediction is coming from historical data from only the few houses at its leaf. But a shallow tree with few leaves will perform poorly because it fails to capture as many distinctions in the raw data.\n",
    "\n",
    "Even today's most sophisticated modeling techniques face this tension between underfitting and overfitting. But, many models have clever ideas that can lead to better performance. We'll look at the random forest as an example.\n",
    "\n",
    "The random forest uses many trees, and it makes a prediction by averaging the predictions of each component tree. It generally has much better predictive accuracy than a single decision tree and it works well with default parameters. If you keep modeling, you can learn more models with even better performance, but many of those are sensitive to getting the right parameters.\n",
    "\n",
    "We build a random forest model similarly to how we built a decision tree in scikit-learn - this time using the `RandomForestRegressor` class instead of `DecisionTreeRegressor`.\n",
    "\n"
   ]
  },
  {
   "cell_type": "code",
   "execution_count": 25,
   "id": "a1ab99e2",
   "metadata": {},
   "outputs": [
    {
     "name": "stdout",
     "output_type": "stream",
     "text": [
      "Random Forest Regresor's MAE: \t\t\t\t 21,857\n",
      "Best Decision Tree Regressor's MAE: \t\t\t 26,704\n",
      "Validation MAE when not specifying max_leaf_nodes: \t 29,653\n"
     ]
    }
   ],
   "source": [
    "from sklearn.ensemble import RandomForestRegressor\n",
    "from sklearn.metrics import mean_absolute_error\n",
    "\n",
    "forest_model = RandomForestRegressor(random_state=1)\n",
    "forest_model.fit(train_X, train_y)\n",
    "iowa_preds = forest_model.predict(val_X)\n",
    "print('Random Forest Regresor\\'s MAE: \\t\\t\\t\\t {:,.0f}'.format(mean_absolute_error(val_y, iowa_preds)))\n",
    "\n",
    "print('Best Decision Tree Regressor\\'s MAE: \\t\\t\\t {:,.0f}'.format(val_mae))\n",
    "print(\"Validation MAE when not specifying max_leaf_nodes: \\t {:,.0f}\".format(val_mae_simple))"
   ]
  },
  {
   "cell_type": "markdown",
   "id": "bebcfaad",
   "metadata": {},
   "source": [
    "There is likely room for further improvement, but this is a big improvement over the best decision tree error of 250,000. There are parameters which allow you to change the performance of the Random Forest much as we changed the maximum depth of the single decision tree. But one of the best features of Random Forest models is that they generally work reasonably even without this tuning."
   ]
  },
  {
   "cell_type": "markdown",
   "id": "fd4b703b",
   "metadata": {},
   "source": [
    "## Random Forest Training by selecting the features for a project"
   ]
  },
  {
   "cell_type": "code",
   "execution_count": 6,
   "id": "ac22f415",
   "metadata": {},
   "outputs": [],
   "source": [
    "def house_pricing(features: list) -> float:\n",
    "    # Code to load data\n",
    "    import pandas as pd\n",
    "    from sklearn.ensemble import RandomForestRegressor\n",
    "    from sklearn.metrics import mean_absolute_error\n",
    "    from sklearn.model_selection import train_test_split\n",
    "\n",
    "\n",
    "    # Path of the file to read\n",
    "    iowa_file_path = 'train.csv'\n",
    "\n",
    "    home_data = pd.read_csv(iowa_file_path)\n",
    "    # Create target object and call it y\n",
    "    y = home_data.SalePrice\n",
    "    # Create X\n",
    "    X = home_data[features]\n",
    "\n",
    "    # Split into validation and training data\n",
    "    train_X, val_X, train_y, val_y = train_test_split(X, y, random_state=1)\n",
    "\n",
    "    forest_model = RandomForestRegressor(random_state=1)\n",
    "    forest_model.fit(train_X, train_y)\n",
    "    iowa_preds = forest_model.predict(val_X)\n",
    "    \n",
    "    # Make validation predictions and calculate mean absolute error\n",
    "    val_mae_simple = mean_absolute_error(iowa_preds, val_y)\n",
    "    \n",
    "    print('Random Forest Regresor\\'s MAE: \\t {:,.0f}'.format(mean_absolute_error(val_y, iowa_preds)))\n"
   ]
  },
  {
   "cell_type": "code",
   "execution_count": 7,
   "id": "5310a44a",
   "metadata": {},
   "outputs": [
    {
     "name": "stdout",
     "output_type": "stream",
     "text": [
      "Random Forest Regresor's MAE: \t 17,077\n",
      "Random Forest Regresor's MAE: \t 17,077\n",
      "Random Forest Regresor's MAE: \t 18,067\n"
     ]
    }
   ],
   "source": [
    "a = ['LotArea', 'YearBuilt', '1stFlrSF', '2ndFlrSF', \n",
    "     'FullBath', 'MSSubClass', 'OverallQual', 'OverallCond', \n",
    "     'YearRemodAdd', 'GrLivArea', 'Fireplaces', 'WoodDeckSF']\n",
    "b = ['LotArea', 'YearBuilt', '1stFlrSF', '2ndFlrSF', \n",
    "     'FullBath', 'MSSubClass', 'OverallQual', 'OverallCond', \n",
    "     'YearRemodAdd', 'GrLivArea', 'Fireplaces', 'WoodDeckSF']\n",
    "c = ['LotArea', 'YearBuilt', '1stFlrSF', '2ndFlrSF', \n",
    "     'FullBath', 'BedroomAbvGr', 'TotRmsAbvGrd', 'MSSubClass', \n",
    "     'OverallQual', 'OverallCond', 'YearRemodAdd', 'GrLivArea', \n",
    "     'HalfBath', 'KitchenAbvGr', 'TotRmsAbvGrd', 'OpenPorchSF', \n",
    "     'EnclosedPorch', '3SsnPorch', 'ScreenPorch', 'PoolArea', \n",
    "      'MiscVal', 'MoSold', 'YrSold']\n",
    "\n",
    "house_pricing(a)\n",
    "house_pricing(b)\n",
    "house_pricing(c)"
   ]
  },
  {
   "cell_type": "code",
   "execution_count": null,
   "id": "b1875faf",
   "metadata": {},
   "outputs": [],
   "source": []
  },
  {
   "cell_type": "code",
   "execution_count": null,
   "id": "d4d6418e",
   "metadata": {},
   "outputs": [],
   "source": []
  },
  {
   "cell_type": "code",
   "execution_count": null,
   "id": "08e0108a",
   "metadata": {},
   "outputs": [],
   "source": []
  },
  {
   "cell_type": "code",
   "execution_count": null,
   "id": "fa89f47c",
   "metadata": {},
   "outputs": [],
   "source": []
  }
 ],
 "metadata": {
  "kernelspec": {
   "display_name": "Python 3 (ipykernel)",
   "language": "python",
   "name": "python3"
  },
  "language_info": {
   "codemirror_mode": {
    "name": "ipython",
    "version": 3
   },
   "file_extension": ".py",
   "mimetype": "text/x-python",
   "name": "python",
   "nbconvert_exporter": "python",
   "pygments_lexer": "ipython3",
   "version": "3.8.13"
  }
 },
 "nbformat": 4,
 "nbformat_minor": 5
}
