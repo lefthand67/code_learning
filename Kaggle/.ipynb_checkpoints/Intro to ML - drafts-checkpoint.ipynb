{
 "cells": [
  {
   "cell_type": "markdown",
   "id": "4c68b8a9",
   "metadata": {},
   "source": [
    "## 1. Decision Tree Regressor - complete"
   ]
  },
  {
   "cell_type": "code",
   "execution_count": 38,
   "id": "8a9c9234",
   "metadata": {},
   "outputs": [
    {
     "name": "stdout",
     "output_type": "stream",
     "text": [
      "Validation MAE: 29,653\n"
     ]
    }
   ],
   "source": [
    "# Code to load data\n",
    "import pandas as pd\n",
    "from sklearn.metrics import mean_absolute_error\n",
    "from sklearn.model_selection import train_test_split\n",
    "from sklearn.tree import DecisionTreeRegressor\n",
    "\n",
    "\n",
    "# Path of the file to read\n",
    "iowa_file_path = 'train.csv'\n",
    "\n",
    "home_data = pd.read_csv(iowa_file_path)\n",
    "# Create target object and call it y\n",
    "y = home_data.SalePrice\n",
    "# Create X\n",
    "features = ['LotArea', 'YearBuilt', '1stFlrSF', '2ndFlrSF', 'FullBath', 'BedroomAbvGr', 'TotRmsAbvGrd']\n",
    "X = home_data[features]\n",
    "\n",
    "# Split into validation and training data\n",
    "train_X, val_X, train_y, val_y = train_test_split(X, y, random_state=1)\n",
    "\n",
    "# Specify Model\n",
    "iowa_model = DecisionTreeRegressor(random_state=1)\n",
    "# Fit Model\n",
    "iowa_model.fit(train_X, train_y)\n",
    "\n",
    "# Make validation predictions and calculate mean absolute error\n",
    "val_predictions = iowa_model.predict(val_X)\n",
    "val_mae_simple = mean_absolute_error(val_predictions, val_y)\n",
    "print(\"Validation MAE: {:,.0f}\".format(val_mae_simple))\n"
   ]
  },
  {
   "cell_type": "code",
   "execution_count": 24,
   "id": "ba66a07d",
   "metadata": {},
   "outputs": [
    {
     "name": "stdout",
     "output_type": "stream",
     "text": [
      "Max leaf nodes: 5 \t Mean Absolute Error: 35044.51299744237\n",
      "Max leaf nodes: 25 \t Mean Absolute Error: 29016.41319191076\n",
      "Max leaf nodes: 50 \t Mean Absolute Error: 27405.930473214907\n",
      "Max leaf nodes: 100 \t Mean Absolute Error: 27282.50803885739\n",
      "Max leaf nodes: 250 \t Mean Absolute Error: 27893.822225701646\n",
      "Max leaf nodes: 500 \t Mean Absolute Error: 29454.18598068598\n",
      "\n",
      "Best tree size: 100\n"
     ]
    }
   ],
   "source": [
    "def get_mae(max_leaf_nodes, train_X, val_X, train_y, val_y):\n",
    "    model = DecisionTreeRegressor(max_leaf_nodes=max_leaf_nodes, random_state=0)\n",
    "    model.fit(train_X, train_y)\n",
    "    preds_val = model.predict(val_X)\n",
    "    mae = mean_absolute_error(val_y, preds_val)\n",
    "    return(mae)\n",
    "\n",
    "\n",
    "max_leaf_nodes = [5, 25, 50, 100, 250, 500]\n",
    "best_mae = None\n",
    "\n",
    "# Write loop to find the ideal tree size from candidate_max_leaf_nodes\n",
    "for max_leaf_nodes in [5, 25, 50, 100, 250, 500]:\n",
    "    my_mae = get_mae(max_leaf_nodes, train_X, val_X, train_y, val_y)\n",
    "    print(f'Max leaf nodes: {max_leaf_nodes} \\t Mean Absolute Error: {my_mae}')\n",
    "    if best_mae is None or my_mae<best_mae:\n",
    "        best_mae = my_mae\n",
    "        best_tree_size = max_leaf_nodes\n",
    "\n",
    "# Store the best value of max_leaf_nodes \n",
    "print('\\nBest tree size:', best_tree_size)\n"
   ]
  },
  {
   "cell_type": "code",
   "execution_count": 39,
   "id": "2968179b",
   "metadata": {},
   "outputs": [
    {
     "name": "stdout",
     "output_type": "stream",
     "text": [
      "Validation MAE for best value of max_leaf_nodes: \t 27,139\n",
      "Validation MAE when not specifying max_leaf_nodes: \t 29,653\n"
     ]
    }
   ],
   "source": [
    "# FINAL MODEL\n",
    "\n",
    "# Fill in argument to make optimal size and uncomment\n",
    "iowa_model = DecisionTreeRegressor(max_leaf_nodes=best_tree_size)\n",
    "\n",
    "# fit the final model\n",
    "iowa_model.fit(train_X, train_y)\n",
    "\n",
    "val_predictions = iowa_model.predict(val_X)\n",
    "\n",
    "val_mae = mean_absolute_error(val_predictions, val_y)\n",
    "print(\"Validation MAE for best value of max_leaf_nodes: \\t {:,.0f}\".format(val_mae))\n",
    "print(\"Validation MAE when not specifying max_leaf_nodes: \\t {:,.0f}\".format(val_mae_simple))\n"
   ]
  },
  {
   "cell_type": "code",
   "execution_count": 47,
   "id": "e837cc52",
   "metadata": {},
   "outputs": [
    {
     "name": "stdout",
     "output_type": "stream",
     "text": [
      "Final model prediction:\n",
      "[181225.35416667 173500.         122142.35714286  94060.\n",
      " 148515.31111111]\n",
      "\n",
      "Real Prices:\n",
      "0    208500\n",
      "1    181500\n",
      "2    223500\n",
      "3    140000\n",
      "4    250000\n",
      "Name: SalePrice, dtype: int64\n"
     ]
    }
   ],
   "source": [
    "print('Final model prediction:')\n",
    "print(iowa_model.predict(val_X.head()))\n",
    "\n",
    "print('\\nReal Prices:')\n",
    "print(y.head())"
   ]
  },
  {
   "cell_type": "markdown",
   "id": "2eaefe11",
   "metadata": {},
   "source": [
    "## 2. Random Forests\n",
    "Using a more sophisticated machine learning algorithm.\n",
    "\n",
    "Decision trees leave you with a difficult decision. A deep tree with lots of leaves will overfit because each prediction is coming from historical data from only the few houses at its leaf. But a shallow tree with few leaves will perform poorly because it fails to capture as many distinctions in the raw data.\n",
    "\n",
    "Even today's most sophisticated modeling techniques face this tension between underfitting and overfitting. But, many models have clever ideas that can lead to better performance. We'll look at the random forest as an example.\n",
    "\n",
    "The random forest uses many trees, and it makes a prediction by averaging the predictions of each component tree. It generally has much better predictive accuracy than a single decision tree and it works well with default parameters. If you keep modeling, you can learn more models with even better performance, but many of those are sensitive to getting the right parameters.\n",
    "\n",
    "We build a random forest model similarly to how we built a decision tree in scikit-learn - this time using the `RandomForestRegressor` class instead of `DecisionTreeRegressor`.\n",
    "\n"
   ]
  },
  {
   "cell_type": "code",
   "execution_count": 45,
   "id": "a1ab99e2",
   "metadata": {},
   "outputs": [
    {
     "name": "stdout",
     "output_type": "stream",
     "text": [
      "Random Forest Regresor's MAE: \t\t\t\t 21,857\n",
      "Best Decision Tree Regressor's MAE: \t\t\t 27,139\n",
      "Validation MAE when not specifying max_leaf_nodes: \t 29,653\n"
     ]
    }
   ],
   "source": [
    "from sklearn.ensemble import RandomForestRegressor\n",
    "from sklearn.metrics import mean_absolute_error\n",
    "\n",
    "forest_model = RandomForestRegressor(random_state=1)\n",
    "forest_model.fit(train_X, train_y)\n",
    "iowa_preds = forest_model.predict(val_X)\n",
    "print('Random Forest Regresor\\'s MAE: \\t\\t\\t\\t {:,.0f}'.format(mean_absolute_error(val_y, iowa_preds)))\n",
    "\n",
    "print('Best Decision Tree Regressor\\'s MAE: \\t\\t\\t {:,.0f}'.format(val_mae))\n",
    "print(\"Validation MAE when not specifying max_leaf_nodes: \\t {:,.0f}\".format(val_mae_simple))"
   ]
  },
  {
   "cell_type": "markdown",
   "id": "bebcfaad",
   "metadata": {},
   "source": [
    "There is likely room for further improvement, but this is a big improvement over the best decision tree error of 250,000. There are parameters which allow you to change the performance of the Random Forest much as we changed the maximum depth of the single decision tree. But one of the best features of Random Forest models is that they generally work reasonably even without this tuning."
   ]
  },
  {
   "cell_type": "code",
   "execution_count": null,
   "id": "5310a44a",
   "metadata": {},
   "outputs": [],
   "source": []
  },
  {
   "cell_type": "code",
   "execution_count": null,
   "id": "b1875faf",
   "metadata": {},
   "outputs": [],
   "source": []
  },
  {
   "cell_type": "code",
   "execution_count": null,
   "id": "d4d6418e",
   "metadata": {},
   "outputs": [],
   "source": []
  },
  {
   "cell_type": "code",
   "execution_count": null,
   "id": "08e0108a",
   "metadata": {},
   "outputs": [],
   "source": []
  },
  {
   "cell_type": "code",
   "execution_count": null,
   "id": "fa89f47c",
   "metadata": {},
   "outputs": [],
   "source": []
  }
 ],
 "metadata": {
  "kernelspec": {
   "display_name": "Python 3 (ipykernel)",
   "language": "python",
   "name": "python3"
  },
  "language_info": {
   "codemirror_mode": {
    "name": "ipython",
    "version": 3
   },
   "file_extension": ".py",
   "mimetype": "text/x-python",
   "name": "python",
   "nbconvert_exporter": "python",
   "pygments_lexer": "ipython3",
   "version": "3.8.13"
  }
 },
 "nbformat": 4,
 "nbformat_minor": 5
}
