{
 "cells": [
  {
   "cell_type": "markdown",
   "id": "a18150db-3270-4a8c-9351-0e1a526bb7b4",
   "metadata": {},
   "source": [
    "# Intermediate Machine Learning from [Kaggle](https://www.kaggle.com/learn/intermediate-machine-learning)\n",
    "\n",
    "Handle missing values, non-numeric values, data leakage, and more."
   ]
  },
  {
   "cell_type": "code",
   "execution_count": 79,
   "id": "b4dfe349-a81d-4f37-b100-f8ea52d1b460",
   "metadata": {},
   "outputs": [],
   "source": [
    "def view(n=5):\n",
    "    '''\n",
    "    cvs max rows view\n",
    "    '''\n",
    "    import pandas as pd\n",
    "    pd.set_option('display.max_rows', n)\n",
    "\n",
    "view()"
   ]
  },
  {
   "cell_type": "markdown",
   "id": "f693f1c1-084d-47c4-bd71-c1c6aa6bd3e0",
   "metadata": {},
   "source": [
    "# 1. Introduction"
   ]
  },
  {
   "cell_type": "markdown",
   "id": "a8611c10-c068-4495-a6a5-b0db3d4f5093",
   "metadata": {},
   "source": [
    "Review what you need for this course."
   ]
  },
  {
   "cell_type": "markdown",
   "id": "25a9c683-58b8-4957-b79c-d78501a7f6c8",
   "metadata": {},
   "source": [
    "Welcome to Kaggle's Intermediate Machine Learning course!\n",
    "\n",
    "If you have some background in machine learning and you'd like to learn how to quickly improve the quality of your models, you're in the right place! In this course, you will accelerate your machine learning expertise by learning how to:\n",
    "\n",
    "- tackle data types often found in real-world datasets (missing values, categorical variables),\n",
    "- design pipelines to improve the quality of your machine learning code,\n",
    "- use advanced techniques for model validation (cross-validation),\n",
    "- build state-of-the-art models that are widely used to win Kaggle competitions (XGBoost), and\n",
    "- avoid common and important data science mistakes (leakage).\n",
    "\n",
    "Along the way, you'll apply your knowledge by completing a hands-on exercise with real-world data for each new topic. The hands-on exercises use data from the [Housing Prices Competition for Kaggle Learn Users](https://www.kaggle.com/c/home-data-for-ml-course), where you'll use 79 different explanatory variables (such as the type of roof, number of bedrooms, and number of bathrooms) to predict home prices. "
   ]
  },
  {
   "cell_type": "markdown",
   "id": "477d8d87-2cf2-4db6-956f-78e35f7858d4",
   "metadata": {},
   "source": [
    "## Prerequisites\n",
    "You're ready for this course if you've built a machine learning model before and you're familiar with topics such as model validation, underfitting and overfitting, and random forests (check [Intro to Machine Learning course](https://www.kaggle.com/learn/intro-to-machine-learning))."
   ]
  },
  {
   "cell_type": "code",
   "execution_count": null,
   "id": "52047782-004f-4063-a800-ae8954bc2b3d",
   "metadata": {},
   "outputs": [],
   "source": []
  },
  {
   "cell_type": "code",
   "execution_count": null,
   "id": "b69856fc-5ec6-404a-a8f1-747e02f44040",
   "metadata": {},
   "outputs": [],
   "source": []
  },
  {
   "cell_type": "code",
   "execution_count": null,
   "id": "2480ac81-4311-47d7-b9d7-2d644304e0a9",
   "metadata": {},
   "outputs": [],
   "source": []
  },
  {
   "cell_type": "code",
   "execution_count": null,
   "id": "0d545d81-cbff-405b-8715-655396160c2f",
   "metadata": {},
   "outputs": [],
   "source": []
  },
  {
   "cell_type": "code",
   "execution_count": null,
   "id": "ff0bf50a-5a95-49ef-beb1-2d8f52c49894",
   "metadata": {},
   "outputs": [],
   "source": []
  },
  {
   "cell_type": "code",
   "execution_count": null,
   "id": "df98b3e5-120a-40a6-9c9a-a997dec5dd7a",
   "metadata": {},
   "outputs": [],
   "source": []
  },
  {
   "cell_type": "code",
   "execution_count": null,
   "id": "f8c7082d-0045-487a-9b0c-952403e22758",
   "metadata": {},
   "outputs": [],
   "source": []
  },
  {
   "cell_type": "code",
   "execution_count": null,
   "id": "b2320ad1-e684-4a5a-b50e-5e482c41e253",
   "metadata": {},
   "outputs": [],
   "source": []
  },
  {
   "cell_type": "code",
   "execution_count": null,
   "id": "46a8d851-7814-4419-915f-4fcb70e6caa8",
   "metadata": {},
   "outputs": [],
   "source": []
  }
 ],
 "metadata": {
  "kernelspec": {
   "display_name": "Python 3 (ipykernel)",
   "language": "python",
   "name": "python3"
  },
  "language_info": {
   "codemirror_mode": {
    "name": "ipython",
    "version": 3
   },
   "file_extension": ".py",
   "mimetype": "text/x-python",
   "name": "python",
   "nbconvert_exporter": "python",
   "pygments_lexer": "ipython3",
   "version": "3.11.0"
  }
 },
 "nbformat": 4,
 "nbformat_minor": 5
}
