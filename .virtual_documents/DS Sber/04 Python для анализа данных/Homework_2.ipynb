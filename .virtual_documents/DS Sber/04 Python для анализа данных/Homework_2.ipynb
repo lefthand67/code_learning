import pandas as pd
import numpy as np

import matplotlib.pyplot as plt
import seaborn as sns
get_ipython().run_line_magic("matplotlib", " inline")

pd.set_option("display.max_rows", 5)
print('Done')


### Type your code here



### Type your code here



trans = pd.read_csv('Python And Data Analysis/data/transactions.csv', nrows=1000000)
mcc = pd.read_csv('Python And Data Analysis/data/tr_mcc_codes.csv', sep=';')
types = pd.read_csv('Python And Data Analysis/data/tr_types.csv', sep=';')
gender = pd.read_csv('Python And Data Analysis/data/gender_train.csv')


mcc


trans_gender = pd.merge(trans, gender, how='left', on='customer_id')
trans_gm = pd.merge(trans_gender, mcc, how='inner', on='mcc_code')
df = pd.merge(trans_gm, types, how='inner', on='tr_type')
df


### Type your code here



costs = df.loc[df.amount < 0]
costs


difference = costs.groupby('gender')['amount'].mean().diff()[1]
# difference = costs.groupby('gender').amount.mean().diff()
abs(round(difference, 2))


### Type your code here



# New column
df['mcc_code+tr_type'] = df['mcc_code'].astype("string") + df['tr_type'].astype("string")
df


# df with the amount < 0
df_amount_neg = df.loc[df.amount < 0].copy()
df_amount_neg


df_copy = df_amount_neg.groupby(['mcc_code+tr_type'])['amount'].agg(['std']).copy()
df_copy


# New column that counts the number of observations
df_copy['count'] = df_amount_neg.groupby('mcc_code+tr_type').size()
df_copy


# filtering observations
df_final = df_copy.loc[df_copy['count'] >= 10]
df_final


# calculating the ratio of min amx std
maximum = df_final['std'].max()
minimum = df_final['std'].min()
int(maximum/minimum)





### Type your code here



pd.set_option("display.max_rows", 5)

df_copy = df.loc[df.amount > 0].set_index('tr_type').copy()
df_copy


# tmp = df_copy.set_index(['tr_type', 'gender'])
max_income = df_copy.groupby(['tr_type', 'gender']).max('amount').amount.unstack()
max_income


# max_income = df_copy.groupby(['gender', 'tr_type']).max('amount')
# max_income = max_income.amount.unstack('gender')
# max_income


class_0 = max_income[0].dropna().sort_values().iloc[:5]
class_0


class_1 = max_income[1].dropna().sort_values().iloc[:5]
class_1


class_merge = pd.merge(class_0, class_1, on='tr_type', how='inner')
class_merge


df_copy.loc[class_merge.index, 'tr_description'].iloc[0]


### Type your code here



trans_gender = pd.merge(trans, gender, how='left', on='customer_id')
trans_gm = pd.merge(trans_gender, mcc, how='inner', on='mcc_code')
df = pd.merge(trans_gm, types, how='inner', on='tr_type')
df


df_copy = df[['mcc_code', 'gender']].copy()
df_copy


df_copy['tr_day'] = df['tr_datetime'].str.split().str[0]
# df_copy = df_copy.set_index('tr_day')
df_copy


tr_groups = df_copy.groupby(['tr_day'])
f = tr_groups.mcc_code.nunique() > 75
f


f.index


df_copy['tr_day'][1]


for i in range(10):
    if df_copy['tr_day'][i] :
        print(df_copy['tr_day'][i])












def plot_pivot_table(pivot_table):
    plt.figure(figsize=(9, 11))
    sns.heatmap(pivot_table, cmap="YlGnBu", annot=True, 
                fmt='.3g', annot_kws={"size": 14, "fontsize": 14})
    plt.xticks(fontsize=15)
    plt.yticks(rotation=0, fontsize=15)
    plt.xlabel('Bucket', size=18)
    plt.ylabel('Hour', fontsize=18)
    plt.title('Gender analysis per bucket and hour', fontsize=20)
    plt.show()


# Type your code here



# Type your code here

