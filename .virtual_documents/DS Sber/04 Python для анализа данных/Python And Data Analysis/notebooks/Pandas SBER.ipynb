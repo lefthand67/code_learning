import pandas as pd
import numpy as np
pd.set_option('display.max_rows', 5)


s = pd.Series(data=[10, 11, 12, 13, 14],
              index=[1, 2, 3, 5, 7])
s


l = ['Blue', 'Yellow', 'Green']
s = pd.Series(l)
s


l = [[1, 2]]
s = pd.Series(l*5)
s


l = [[10, 11], [20, 21], [30, 31]]
df = pd.DataFrame(l)
df


df = pd.DataFrame([[10, 11], [20, 21], [30, 31]],
                  columns=['A', 'B'])
df


l = [[10, 11], [20, 21], [30, 31]]
names = ['A', 'B']

df = pd.DataFrame(l,columns=names)
df


series_1 = pd.Series([70, 90])
series_2 = pd.Series([71, 91])
df = pd.DataFrame([series_1, series_2])
df


df.columns = ['col_1', 'col_2']
df


s = pd.Series({'Homer': 'Dad',
               'Marge': 'Mom',
               'Bart': 'Son',
               'Lisa': 'Daughter',
               'Maggie': 'Daughter'})
s


list_1 = [70, 71]
list_2 = [90, 91]
temperatures = {'col_1': list_1,
                'col_2': list_2}
pd.DataFrame(temperatures)


series_1 = pd.Series([70, 71])
series_2 = pd.Series([90, 91])

df = pd.DataFrame({'col_1': series_1,
                   'col_2': series_2})
df


s = pd.Series(np.arange(15,25,2))
s


s = pd.Series(range(15,25,2))
s


s = pd.Series(np.linspace(0, 9, 5))
s


np.random.seed(123)
s = pd.Series(np.random.normal(size=5))
s


np.random.seed(123)
df = pd.DataFrame(np.random.normal(size=12).reshape(4, 3),
                  index=['ind_1', 'ind_2', 'ind_3', 'ind_4'],
                  columns=['col_1', 'col_2', 'col_3'])
df


np.random.seed(123)
df = pd.DataFrame(np.random.normal(size=(4, 3)),
                  index=['ind_1', 'ind_2', 'ind_3', 'ind_4'],
                  columns=['col_1', 'col_2', 'col_3'])
df


pd.read_csv(filepath_or_buffer = "../data/sp500.csv",
            sep = ';')


pd.read_csv(filepath_or_buffer = "../data/sp500.csv",
           sep = ',')


pd.read_csv(filepath_or_buffer = "../data/sp500.csv",
           sep = ',',
           nrows = 3)


pd.read_csv(filepath_or_buffer = "../data/sp500.csv",
           sep = ',',
           nrows = 3,
           usecols=['Symbol', 'Sector', 'Price', 'Book Value'])


pd.read_csv(filepath_or_buffer = "../data/sp500.csv",
           sep = ',',
           nrows = 3,
           usecols=['Symbol', 'Sector', 'Price', 'Book Value'],
           index_col='Symbol')


df_chunk = pd.read_csv(filepath_or_buffer = "../data/sp500.csv",
                       sep = ',',
                       chunksize=50,
                       usecols=['Symbol', 'Sector', 'Price', 'Book Value'],
                       index_col='Symbol')


for df_tmp in df_chunk:
    print('DataFrame part:', df_tmp.shape)


sp500 = pd.read_csv(filepath_or_buffer = "../data/sp500.csv",
                    sep = ',',
                    usecols=['Symbol', 'Sector', 'Price', 'Book Value'],
                    index_col='Symbol')
# pd.set_option('display.max_rows', 5)
sp500


Simpsons = pd.Series({'Homer': 120,
                      'Marge': 60,
                      'Bart': 35,
                      'Lisa': 30,
                      'Maggie': 7})

Simpsons


np.random.seed(123)
numbers = pd.Series(data = np.random.normal(size=10),
                    index = np.arange(25,35))
numbers


Simpsons.dtype


sp500.dtypes


print('Первый способ:', len(Simpsons))
print('Второй способ:', Simpsons.size)
print('Третий способ:', Simpsons.shape)


print('Первый способ:', len(sp500))
print('Второй способ:', sp500.size)
print('Третий способ:', sp500.shape)


Simpsons.nunique()


sp500.nunique()


Simpsons.index


Simpsons.index[0]


Simpsons.values


Simpsons.values[0]


sp500.index


sp500.values


sp500.columns


Simpsons.name = 'Simpsons weight'
Simpsons


Simpsons.index.name = 'First name'
Simpsons


sp500_copy = sp500.rename(columns = {'Book Value': 'BookValue'})
sp500_copy


sp500.columns


sp500_copy.columns


sp500_copy.rename(columns = {'Book Value': 'BookValue'},
            inplace=True)


sp500_copy.columns


sp500.head()


Simpsons.tail(3)


sp500['Sector'].head()


type(sp500['Sector'])


sp500[['Price', 'Book Value']].head()


type(sp500[['Price', 'Book Value']])


sp500.Price.head()


sp500.Book Value


numbers.loc[[25,33]]


numbers.loc[0]


sp500.loc['MMM']


type(sp500.loc['MMM'])


sp500.loc[['MMM', 'MSFT']]


type(sp500.loc[['MMM', 'MSFT']])


numbers


numbers.iloc[[5,-5]]


numbers.iloc[10]


sp500.iloc[[0, 2]]


i1 = sp500.index.get_loc('MMM')
i2 = sp500.index.get_loc('A')
(i1, i2)


sp500.iloc[[i1, i2]]


sp500.at['MMM', 'Price']


sp500.iat[0, 1]


sp500.loc[['ABT', 'ZTS']][['Sector', 'Price']]


sp500.loc[['ABT', 'ZTS'],['Sector', 'Price']]


print(sp500.index.get_loc('ABT'),sp500.index.get_loc('ZTS')) 


sp500.iloc[[1,499],[0,1]]


sp500.head()


sp500.T.head()


sp500.loc[['MMM', 'ABBV', 'NEW VALUE']]


reindexed = sp500.reindex(index=['MMM', 'ABBV', 'NEW VALUE'])


reindexed


sp500.reindex(columns=['Price', 'Book Value', 'NewCol']).head()


sp500.reindex(columns=['Price',
                       'Book Value',
                       'NewCol'],
              fill_value=0).head()


sp500.sample(n=3)


sp500.sample(frac=5, replace=True, random_state=777)


print(pd.options.display.max_rows)
print('I changed the number, see the top of the doc. Default is 60')


sp500


pd.options.display.max_rows = 10


sp500


pd.options.display.max_rows


numbers


numbers.iloc[1:6]


numbers.iloc[1:6:2]


numbers.iloc[:6]


numbers.iloc[3:]


numbers.iloc[5::-1]


numbers.iloc[-4:]


sp500.iloc[:5]


sp500.iloc[4::-1]


sp500.loc['ABT':'ACN']


numbers


numbers.iloc[[1,2,3,4]]


n = numbers.iloc[[1,2,3,4]]


n


n.loc[:] = 0
n


numbers


n = numbers.iloc[[1,2,3,4]]
n


k = numbers.iloc[1:5]
k.loc[:] = 0
k


n == k


numbers


numbers.iloc[1:5] = n
numbers


Simpsons


Simpsons_copy = Simpsons.copy()
del Simpsons_copy['Maggie']
Simpsons_copy


sp500.head()


sp500_copy = sp500.copy()
del sp500_copy['Price']
sp500_copy.iloc[:2]


sp500_copy = sp500.copy()


sp500_copy.head(3)


popped_column = sp500_copy.pop('Sector')


sp500_copy.head(3)


popped_column.head(3)


sp500_copy = sp500.copy()


sp500_copy.head(3)


sp500_copy_after_drop = sp500_copy.drop(['Sector'], axis = 1)
sp500_copy_after_drop.head(3)


sp500_copy.head(3)


sp500_part_copy = sp500.iloc[:5].copy()
sp500_part_copy


sp500_part_copy = sp500_part_copy.drop(['ABT', 'ACN'], axis=0)
sp500_part_copy.head(5)


numbers


logical_results = (numbers > 0) & (numbers < 1)
logical_results


type(logical_results)


numbers[logical_results]


numbers.where((numbers > 0) & (numbers < 1))


numbers.where((numbers > 0) & (numbers < 1), other = 'Get off')


(numbers >= 0).all()


(numbers < 2).any()


numbers < 1


(numbers < 1).sum()


sp500.Price < 100


sp500[sp500.Price < 100]


r = sp500[(sp500['Price'] < 10) & 
          (sp500.Price > 6)] ['Price']
r


r = sp500[(sp500.Sector == 'Health Care') & 
          (sp500.Price >= 100.00)] [['Price', 'Sector']]
r


s_tmp = sp500.Sector.isin(['Information Technology', 'Financials'])
s_tmp


sp500[s_tmp].head()


r = sp500[(sp500.Sector == 'Health Care') & 
          (sp500.Price >= 100.00)] [['Price', 'Sector']]
r


q = sp500.query("Sector=='Health Care' & Price >= 100")[['Price', 'Sector']]
q


sp500_copy = sp500.copy()


sp500_copy['RoundedPrice'] = sp500_copy.Price.round()
sp500_copy.head(3)


sp500_copy = sp500.copy()


sp500_copy.insert(1, 'RoundedPrice', sp500_copy.Price.round())
sp500_copy.head(3)


sp500_copy = sp500.copy()


sp500_copy.assign(Rounded_Price=sp500_copy.Price.round(),
                  R_BookValue_Price=lambda x: (x['Book Value'] / x['Rounded_Price']))


s_1 = pd.Series(data=[77,33,11],index=['a','b','f'])
s_1


s_2 = pd.Series(data=[11,5,6],index=['c','b','a'])
s_2


s_1+s_2


s_1 = pd.Series(data=[77, 33, 15, 3], index=['a', 'a', 'a', 'd'])
s_1


s_2 = pd.Series(data=[11, 5, 6], index=['c', 'a', 'a'])
s_2


s_2+s_1


sp500_part_1 = sp500.iloc[0:5, 0:2].copy()
sp500_part_2 = sp500.iloc[2:7, 1:3].copy()


sp500_part_1


sp500_part_2


sp500_part_1 + sp500_part_2


series_1 = pd.Series([70, 90])
series_2 = pd.Series([71, 91])
series_3 = pd.Series([85, 87], index=[1, 2])
df = pd.DataFrame({'col_1': series_1,
                   'col_2': series_2,
                   'col_3': series_3})
df


sp500.head()


sp500.sort_index().head()


sp500.sort_index(axis=1).head()


sp500.sort_values(by='Price').head()


sp500.sort_values(by='Price', ascending=False).head()


sp500.nsmallest(5, 'Price')


sp500.nlargest(5, 'Price')


import numpy as np
import pandas as pd


pd.options.display.max_rows = 10


sp500 = pd.read_csv("../data/sp500.csv",
                    index_col='Symbol', 
                    usecols=['Symbol', 'Sector', 'Price', 'Book Value'])


np.random.seed(123)
df = pd.DataFrame({'value':np.random.random(10000), 'key':range(100, 10100)})
df.head()


df[df.key==10099]


get_ipython().run_line_magic("timeit", " df[df.key==10099]")


df_with_index = df.set_index(['key'])
df_with_index.head()


df_with_index.loc[10099]


get_ipython().run_line_magic("timeit", " df_with_index.loc[10099]")


359/46.9


sp500.head(3)


index_moved_to_col = sp500.reset_index()
index_moved_to_col.head()


index_moved_to_col.set_index('Sector').head()


data_rnd_part_1 = sp500.sample(100, random_state=333)
data_rnd_part_2 = sp500.sample(100, random_state=777)


data_rnd_part_1.head()


data_rnd_part_2.head()


ind_union = data_rnd_part_1.index | data_rnd_part_2.index
ind_union


print('pandas:', pd.__version__)
ind_union = data_rnd_part_1.index.union(data_rnd_part_2.index)
ind_union


ind_intersection = data_rnd_part_1.index & data_rnd_part_2.index
len(ind_intersection)


ind_intersection = data_rnd_part_1.index.intersection(data_rnd_part_2.index)
len(ind_intersection)


ind_diff = data_rnd_part_1.index.difference(data_rnd_part_2.index)
len(ind_diff)


reindexed = sp500.reset_index()


reindexed.head()


multi_fi = reindexed.set_index(['Sector', 'Symbol'])
multi_fi.head()


type(multi_fi.index)


len(multi_fi.index.levels)


multi_fi.index.levels[0]


multi_fi.reorder_levels([1, 0], axis=0).head()


multi_fi.xs('Industrials').head()


multi_fi.xs('ALLE', level=1)


multi_fi.xs('Industrials').xs('UPS')


multi_fi.xs(('Industrials', 'UPS'))


sp500.columns


sp500.index


df_i64 = pd.DataFrame(np.arange(10, 20), index=np.arange(0, 10))
df_i64.head()


df_i64.index


df_range = pd.DataFrame(np.arange(10, 20))
df_range.head()


df_range.index


df_f64 = pd.DataFrame(np.arange(0, 1000, 5), 
                      np.arange(0.0, 100.0, 0.5))
df_f64.head()


df_f64.index


import numpy as np
import pandas as pd


from datetime import datetime


pd.options.display.max_rows = 10


sp500 = pd.read_csv("../data/sp500.csv",
                    index_col='Symbol',
                    usecols=['Symbol', 'Sector', 'Price', 'Book Value'])
sp500


df = pd.DataFrame(np.arange(0, 15).reshape(5, 3), 
                  index=['a', 'b', 'c', 'd', 'e'], 
                  columns=['c1', 'c2', 'c3'])
df


df['c4'] = np.nan
df.loc['f'] = np.arange(15, 19) 
df.loc['g'] = np.nan
df['c5'] = np.nan
df['c4']['a'] = 20
df


df.isnull()


df.notnull()


df.isnull().sum(axis=0)


df.count(axis=0)


df


df.c4[df.c4.notnull()]


df.c4.dropna()


df.c4


df.dropna()


df.dropna(how = 'all')


df


df.dropna(how='all', axis=1) # удаляем c5


df2 = df.copy()
df2.loc['g'].c1 = 0
df2.loc['g'].c3 = 0
df2


df2.dropna(how='any', axis=1) 


df2


df2.dropna(thresh=2, axis=1)


df


filled = df.fillna(0)
filled


df.mean()


filled.mean()


df.c4


df.c4.fillna(method="ffill")


df.c4.fillna(method="bfill")


fill_values = pd.Series(
    [100, 101, 102], 
    index=['a', 'e', 'g'])
fill_values


df.c4


df.c4.fillna(fill_values)


df.mean()


df


df.fillna(df.mean())


s = pd.Series([1, np.nan, np.nan, np.nan, 2])
s


s.interpolate()


ts = pd.Series([1, np.nan, 2], 
            index=[datetime(2014, 1, 1), 
                   datetime(2014, 2, 1),                   
                   datetime(2014, 4, 1)])
ts


ts.interpolate()


ts.interpolate(method="time")


s = pd.Series([0, np.nan, 100], index=[0, 2, 10])
s


s.interpolate()


s.interpolate(method="index")


data = pd.DataFrame({'a': ['x'] * 3 + ['y'] * 4, 
                     'b': [1, 1, 2, 3, 3, 4, 4]})
data


data.duplicated()


data.drop_duplicates()


data.drop_duplicates(keep='last')


data


data['c'] = range(7)
data.duplicated()


data


data.drop_duplicates(['a', 'b'])


x = pd.Series({"one": 1, "two": 2, "three": 3})
y = pd.Series({1: "a", 2: "b", 3: "c"})
x


y


x.map(y)


x = pd.Series({"one": 1, "two": 2, "three": 3})
y = pd.Series({1: "a", 2: "b"})


x


y


x.map(y)


s = pd.Series([0., 1., 2., 3., 2., 4.])
s


s.replace(2, 5)


s.replace([0, 1, 2, 3, 4], [4, 3, 2, 1, 0])


s


s.replace({0: 10, 2: 100})


df = pd.DataFrame({'a': [0, 1, 2, 3, 4], 'b': [5, 6, 7, 8, 9]})
df


df.replace({'a': 1, 'b': 8}, {'a': 777, 'b': 888})


s = pd.Series(np.arange(0, 5))
s


s.apply(lambda v: v * 3)


import pandas as pd
import numpy as np
df = pd.DataFrame(np.arange(12).reshape(4, 3), 
                  columns=['a', 'b', 'c'])
df


df.apply(lambda col: col.sum(), axis=0)


df.apply(lambda row: row.sum(), axis=1)


df


df['interim'] = df.apply(lambda r: r.a * r.b, axis=1)
df


df['result'] = df.apply(lambda r: r.interim + r.c, axis=1)
df


df


df.applymap(lambda x: np.exp(x)/10)


import numpy as np
import pandas as pd


pd.options.display.max_rows = 10


sp500 = pd.read_csv("../data/sp500.csv",
                    index_col='Symbol',
                    usecols=['Symbol', 'Sector', 'Price', 'Book Value'])
sp500.head()


omh = pd.read_csv('../data/omh.csv', 
                  parse_dates=['Date'])

omh.set_index('Date', inplace=True)

omh.head()


sp500.describe()


sp500.Price.describe()


sp500.Sector.describe()


sp500.info()


sp500.Sector.value_counts(normalize=True)


np.random.seed(123)
df = pd.DataFrame(np.random.randn(5, 4), 
                  columns=['A', 'B', 'C', 'D'])
df


abs(df * 2)


df


df.iloc[0]


df - df.iloc[0]


df.iloc[0] - df


df


s = df.iloc[0][1:3]
s['E'] = 0
s


df + s


subframe = df[1:4][['B', 'C']].copy()
subframe


df - subframe


df.sub(df['A'], axis=0)


omh[['MSFT', 'AAPL']].min()


omh[['MSFT', 'AAPL']].idxmin()


omh.mean()


omh.mean(axis=1).head()


omh.median()


sp500.Sector.mode()


s = pd.Series([1, 2, 3, 3, 5, 1])
s.mode()


omh.var()


(omh.MSFT**2 - omh.MSFT.mean()**2).sum() / (omh.shape[0]-1)


omh.std()


omh.MSFT.var()**0.5


omh.MSFT.cov(omh.AAPL)


omh.MSFT.corr(omh.AAPL)


omh.MSFT.cov(omh.AAPL) / (omh.MSFT.std() * omh.AAPL.std())


omh.cov()


omh.corr()


np.random.seed(123456)
dist = np.random.normal(size = 10000)
dist


(dist.mean(), dist.std())


bins = pd.cut(dist, 5)
bins


bins.categories


[q.right - q.left for q in bins.categories]


np.random.seed(242)
ages = np.random.randint(6, 70, 50)
ages


ranges = [6, 12, 18, 35, 50, 70]
labels = ['Youth', 'Young Adult', 'Adult', 'Middle Aged', 'Retired persons']
agebins = pd.cut(ages, ranges, labels=labels)
agebins.describe()


qbin = pd.qcut(dist, 5)
qbin


qbin.describe()


sp500_copy = sp500.copy()
sp500_copy['Price_Group'], bins = pd.qcut(sp500_copy.Price, 
                                          5,
                                          labels=['group_'+str(i) for i in range(1, 6)],
                                          retbins=True)
sp500_copy.Price_Group


bins


sp500_copy.Price_Group.value_counts()


pd.Series([1, 2, 3, 4]).cumsum()


pd.Series([1, 2, 3, 4]).cumprod()


s = pd.Series([160, 165, 165, 170, 175], index=list('abcde'))
s


s.rank()


omh[['MSFT']].head()


omh[['MSFT']].pct_change().head()


(48.46 - 48.62)/48.62


r = omh.MSFT.rolling(3)


r


r.mean()


omh.MSFT.loc['2014-12-01':'2014-12-03'].mean()


omh.MSFT.loc['2014-12-02':'2014-12-04'].mean()


import numpy as np
import pandas as pd


pd.options.display.max_rows = 10


df1 = pd.DataFrame({'key': ['a','a', 'a', 'b', 'b', 'c', 'd'],
                    'data1': range(7)},
                    index = range(3,10))
df2 = pd.DataFrame({'key': ['a', 'b', 'b', 'f'],
                    'data2': range(4)})


df1


df2


pd.merge(df1, df2)


pd.merge(df1, df2, on='key')


pd.merge(df1, df2, left_on='data1', right_on='data2')


pd.merge(df1, df2, left_on='data1', right_on='data2',suffixes=('_left', '_right'))


pd.merge(df1, df2,
         left_on=['data1', 'key'],
         right_on=['data2', 'key'])


pd.merge(df1, df2, how='outer')


df1


df2


pd.merge(df1, df2, left_index=True, right_on='data2')


pd.merge(df1, df2, left_on='data1', right_index=True)


pd.merge(df1, df2, left_index=True, right_index=True)


df1 = pd.DataFrame(index = range(3), data = np.arange(9).reshape(3, 3), 
                   columns=['a', 'b', 'c'])
df2 = pd.DataFrame(index = range(2,5), data = np.arange(9, 18).reshape(3, 3), 
                   columns=['a', 'c', 'd'])


df1


df2


pd.concat([df1, df2], sort=True)


pd.concat([df1, df2], axis=0, sort=True, join='inner')


pd.concat([df1, df2], axis=1, sort=True)


df1


df2


long_format = pd.read_csv("../data/accel.csv")
long_format


tmp = long_format.set_index(['interval','axis'])
tmp


tmp = tmp.unstack()
tmp


wide_format = long_format.pivot(index='interval', 
                                columns='axis', 
                                values='reading')

wide_format


long_format_stack = wide_format.stack()
long_format_stack


user1 = long_format.copy()
user2 = long_format.copy()


user1['who'] = 'Mike'
user2['who'] = 'David'


user2['reading'] *= 100


user1.head()


user2.head()


multi_user_long_format = pd.concat([user1, user2]).set_index(
                ['who', 'interval', 'axis'])
multi_user_long_format


multi_user_long_format.xs(1, level='interval')


multi_user_wide_format = multi_user_long_format.unstack()
multi_user_wide_format


multi_user_long_format.unstack(level = 1)


import numpy as np
import pandas as pd


pd.options.display.max_rows = 10


tips = pd.read_csv("../data/tips.csv")
tips.head()


tips['tip_pct'] = tips['tip'] / tips['total_bill']


tips.head()


df = pd.DataFrame({'x': ['a','a','b','b','c','c'],
                   'y': [2,4,0,5,5,10]})
df


groups = df.groupby(['x'])
groups


groups.ngroups


groups.size()


groups.groups


groups.get_group('b')


groups.nth([0])


df


for key, group in groups:
    print(key)
    print(group)


groups.y.mean()


tips.head()


tips.groupby(['day','time']).tip.mean()


tips.groupby(['day','time']).tip.mean().unstack()


copy_tips = tips.copy()
copy_tips = copy_tips.set_index(['day', 'time'])
copy_tips


copy_tips.groupby(level=['time']).sum()


copy_tips.groupby(level=['time']).sum(['total_bill', 'tip size', 'tip_pct'])


copy_tips.groupby(level = ['day', 'time']).mean()


copy_tips.groupby(level = ['day', 'time']).mean(['total_bill', 'tip size', 'tip_pct'])


copy_tips.head()


tips.day.value_counts()


copy_tips.groupby(len, level='day').count()


np.random.seed(123)
rnd_array = np.random.choice(['first_group', 'second_group'], 
                             size=tips.shape[0],
                             p = [0.4, 0.6])
rnd_array[0:5]


tips.groupby(rnd_array).count()


93/(93+151)


tips.dtypes


group_tips = tips.groupby(tips.dtypes, axis=1)


group_tips.size()


group_tips = tips.groupby(['day', 'smoker'])['tip_pct']
group_tips


group_tips.agg == group_tips.aggregate


def peak_to_peak(arr):
    return arr.max() - arr.min()

group_tips.agg([peak_to_peak])


group_tips.agg(peak_to_peak)


group_tips.agg([peak_to_peak, 'mean'])


group_tips.agg([('delta_max_min', peak_to_peak), ('mean_value', 'mean')])


group_tips = tips.groupby(['day', 'smoker'])['tip_pct', 'total_bill']


group_tips = tips.groupby(['day', 'smoker'])[['tip_pct', 'total_bill']]


group_tips.agg({'tip_pct':[('max_value', np.max),
                           ('min_value','min')],
                'total_bill': 'sum'})


df = pd.DataFrame({'Col1': ['A', 'B', 'C', 'C', 'B', 'B', 'A'],
                   'Col2': [1, 2, 3, 4, 2, 5, 3]})
df


df['Col3'] = df.groupby('Col1').transform(sum)
df.sort_values('Col1')


group_tips = tips.groupby(['smoker'])['total_bill']


group_tips = tips.groupby('smoker')['total_bill']


norm = lambda x: (x - x.mean())/x.std()
group_tips.transform(norm)


tips_copy = tips.copy()
tips_copy['total_bill_norm'] = group_tips.transform(norm)
tips_copy.head()


tips_copy.groupby('smoker').total_bill_norm.agg(['mean', 'std'])


def top(df, n=5, column='tip_pct'):
    return df.sort_values(by=column)[-n:]
top(tips, n=6)


tips.groupby('smoker').apply(top)


import pandas as pd
import numpy as np

df = pd.DataFrame({'Label': list('AABCCC'),
                   'Values': [1, 2, 3, 4, np.nan, 8]})
df


f = lambda x: x.Values.count() > 1
df.groupby('Label').filter(f)


f = lambda x: x.Values.isnull().sum() == 0
df.groupby('Label').filter(f)


tips.pivot_table(index=['day', 'smoker'])


tips.pivot_table(values=['size', 'tip', 'tip_pct', 'total_bill'], index=['day', 'smoker'])


tips.pivot_table(values=['tip_pct', 'size'], index=['time', 'day'],
                 columns='smoker')


tips.pivot_table(values=['tip_pct', 'size'], index=['time', 'day'],
                 columns='smoker', margins=True)


tips.pivot_table(values='tip_pct', index=['time', 'smoker'], columns='day',
                 aggfunc=max, margins=True)


tips.pivot_table(values=['tip_pct'], index=['time', 'smoker'], columns='day',
                 aggfunc=max, margins=True)


import numpy as np
import pandas as pd


import matplotlib.pyplot as plt
get_ipython().run_line_magic("matplotlib", " inline")


pd.options.display.max_rows = 5


sp500 = pd.read_csv("../data/sp500.csv",
                    index_col='Symbol',
                    usecols=['Symbol', 'Sector', 'Price',
                             'Book Value', 'Market Cap',
                             'Dividend Yield'])
sp500


omh = pd.read_csv('../data/omh.csv', 
                  parse_dates=['Date'])

omh.set_index('Date', 
              inplace=True)


omh


omh.MSFT.plot()


omh.plot()


omh_copy = (omh - omh.mean())/omh.std()
omh_copy.plot()


omh_copy.plot(figsize=(10, 5))


omh_copy.plot(title='Цены акций после нормировки')
plt.xlabel('Дата')
plt.ylabel('Цена')


omh_copy.plot(title='Цены акций после нормировки', xlabel='Дата', ylabel='Цена')


ax = omh_copy.plot()
ax.legend(['Microsoft', 'Apple'])


ax = omh_copy.plot().legend(['Microsoft', 'Apple'])


ax = omh_copy.plot().legend(['Microsoft', 'Apple'], loc='upper center')


omh_copy.plot(legend=False)


omh_copy.plot(style={'MSFT': '#0000FF', 'AAPL': 'g'}) 


omh_copy.plot(style={'MSFT': 'b--', 'AAPL': 'g:'}, lw=3)


omh_copy.plot(style={'MSFT': 'b--^', 'AAPL': 'g:o'})


s = sp500.Sector.value_counts()
s.plot(kind='bar')


small_sectors = s[-4:].index
small_sectors


small_sectors = s[-4:].index.values
small_sectors


sp500.quantile(0.95)


sp500.quantile(0.95, numeric_only=True)


ind = (~sp500.Sector.isin(small_sectors)) \
    & (sp500.Price < 184) \
    & (sp500['Book Value'] < 66) \
    & (sp500['Market Cap'] < 134) \
    & (sp500['Dividend Yield'] < 4.5)


sp500_cut = sp500.loc[ind].copy()


sp500_cut.shape


df = sp500_cut.groupby('Sector').Price.agg(['mean', 'median'])
df.plot(kind='bar', figsize=(10, 5))


df


df.plot(kind='bar', stacked=True, figsize=(10, 5));


df.plot(kind='barh', stacked=True, figsize=(10, 5));


sp500_cut.Price.hist()


sp500_cut.Price.hist(bins = 50);


sp500_cut.hist(figsize=(12,8));


plt.figure(figsize=(12, 6))
plt.hist(sp500_cut.Price, alpha=0.5, label='Price')
plt.hist(sp500_cut['Book Value'], alpha=0.5, label='Book Value')
plt.legend(loc='upper right');


s = sp500_cut.Price
s.hist(density=True)
s.plot(kind='kde', figsize=(10,6));


sp500_cut[['Price','Book Value']].boxplot(figsize = (14, 7))


sp500_cut.plot(kind='scatter', x='Price', y='Book Value', figsize=(10, 6));


from pandas.plotting import scatter_matrix
scatter_matrix(sp500_cut, alpha=0.4, figsize=(9, 9), diagonal='kde');


corr_matrix = sp500_cut.corr()
corr_matrix


corr_matrix = sp500_cut.corr(numeric_only=True)
corr_matrix


plt.figure(figsize=(7, 7))
plt.imshow(corr_matrix, cmap='Greens')
plt.colorbar()  # добавим шкалу интенсивности цвета

plt.xticks(range(len(corr_matrix.columns)), corr_matrix.columns)
plt.yticks(range(len(corr_matrix)), corr_matrix.index);
