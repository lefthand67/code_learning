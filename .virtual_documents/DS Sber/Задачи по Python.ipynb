print ("Hello, World!")


# создайте value
value = 15.5
print(value)
# поменяйте значение value
value = 68.99
print(value)


price = int(input())
count = int(input())
sales =  int(input())
value_1 = count * price
value_2 = (count - sales) * price
print("The cost of all goods:", value_1)
print("The cost of all unsold goods:", value_2)


res = 70 / 3 + 4 * 5 % 2
print(res)


res = (70 /(3 + 4)) * 5 % 2
print(res)


value0 = int(input())
value1 = int(input())
value2 = int(input())
if (value0 != value1) and (value0 != value2) and (value1 != value2):
    pass
elif (value0 == value1) or (value0 == value2):
    print(value0)
elif value1 == value2:
    print(value1)


number = int(input("number: "))
if (number >= -100) and (number <= 100) and (number != 0):
    print('yes')
else:
    print('no')


operation = input("operation: ")

if (operation != '*') and (operation != '+'):
    print('operation unknown')
else:    
    num1 = int(input())
    num2 = int(input())
    if operation == '*':
        print(num1 * num2)
    elif operation == '+':
        print(num1 + num2)


name = input("name = ")

def show_hello_name(name):
    print('Hello, {}!'.format(name))

show_hello_name(name)


number = int(input("number = "))

def is_even(number):
    if number % 2 == 0:
        return True
    else:
        return False

print("number is even to 2:", is_even(number))


for symbol in 'антананариву':
    if symbol == 'а':
        print('о', end='')
    else:
        print(symbol, end='')


n = int(input())

if n == 0:
    print('')
if n > 0:
    for i in range(n):
        if i % 2 == 0:
            for j in range(n):
                if j % 2 == 0:
                    print('1', end='')
                else:
                    print('0', end='')
        else:
            for j in range(n):
                if j % 2 == 0:
                    print('0', end='')
                else:
                    print('1', end='')
        print('\n', end='')


n = int(input())

for i in range(1, n+1):
    spaces = ' '*(n-i)
    print(spaces + '*'*i, end='')
    print('*'*(i-1) + spaces)



a = int(input())
b = int(input())

if a < b:
    count = 1
    multi = a
    for i in range(a+1, b+1):
        multi *= i
        if multi <= a*b:
            count+=1
    print(count)
else:
    print('a must be smaller than b')


numeric_list = []
for i in range(1, 6):
    numeric_list.append(i)
print(numeric_list)


lst = [int(x) for x in ('10, 67, 86, 87, 12, 28, 32, 63, 41, 94').split(',')]

print("lst:", lst)
emax = max(lst)
print("max:", emax)
emin = min(lst)
print("min:", emin)


def slice_tup(tup, el):
    if el in tup:
        list_tup = []
        for i in range(len(tup)):
            if tup[i] == el:
                count = i
                break
        while count < len(tup):
            list_tup.append(tup[count])
            count+=1
        tup = tuple(list_tup)
    return tup

print(slice_tup((1, 2, 3, 4), 2))
print(slice_tup(('a', 'b', 'c', 'd'), 'd'))
print(slice_tup((1, 2, 3, 4), 5))
print(slice_tup(('a', 'b', 'c', 'd'), 'a'))



russian = 'абвгдеёжзийклмнопрстуфхцчшщъыьэюя'
alphabet = {russian[i]: i+1 for i in range(len(russian))}

print(alphabet)


# s1, s2 = input(), input()
s1, s2 = 'abca', 'acba'

def dictionary_from_string(string):
    dct = dict()
    for symbol in string:
        dct[symbol] = dct.get(symbol, 0) + 1
    return dct


if dictionary_from_string(s1) == dictionary_from_string(s2):
    print('YES')
else:
    print('NO')


ng = dictionary_from_string(s1)
ng['a'] = ng.get('a', 0) + 1
ng


morze = {'a': '•—', 'b': '—•••', 'c': '—•—•', 'd': '—••',
         'e': '•', 'f': '••—•', 'g': '——•', 'h': '••••',
         'i': '••', 'j': '•———', 'k': '—•—', 'l': '•—••',
         'm': '——', 'n': '—•', 'o': '———', 'p': '•——•',
         'q': '——•—', 'r': '•—•', 's': '•••', 't': '—',
         'u': '••—', 'v': '•••—', 'w': '•——', 'x': '—••—',
         'y': '—•——', 'z': '——••'}

string = 'I want cheeseburger'
string = string.split()
# string = input().split()
for a in string:
    # print(a)
    code = ''
    for i in range(len(a)):
        if (i != (len(a)-1)) and (len(a) > 1):
            code = code+morze.get(a[i].lower())+' '
        else: 
            code = code+morze.get(a[i].lower())
    print(code)


c = ('59, 72, 62, 18, 24, 59, 73, 55, 46, 82, 58, 40, 6, 52, 25, 8, 35, 20, 66, 54, 68, 31, 39, 16, 34, 82, 15, 98, 84, 100, 70, 68, 68, 35, 35, 53, 63, 65, 93, 100, 78, 43, 36, 50, 45, 8, 86, 5, 76, 87, 15, 77, 19, 72, 51, 30, 62, 67, 84, 73, 82, 8, 47, 21, 70, 72, 28, 34, 46, 52, 86, 46, 19, 12, 5, 84, 45, 30, 13, 83, 73, 80, 61, 33, 81, 88, 45, 41, 91, 90, 39, 55, 23, 71, 89, 41, 83, 33, 91, 26')
d = ('30, 46, 53, 53, 16, 48, 15, 22, 40, 8, 37, 46, 57, 59, 59, 24, 6, 3, 2, 14, 39, 8, 20, 40, 6, 1, 38, 47, 57, 50, 22, 8, 52, 0, 18, 35, 47, 52, 45, 56, 11, 9, 44, 31, 42, 16, 44, 0, 31, 31, 29, 29, 56, 51, 3, 30, 25, 34, 36, 41')

a = [int(x) for x in c.split(',')]
b = [int(x) for x in d.split(',')]

amod = set(a)
bmod = set(b)
diff = abs(len(amod) - len(bmod))
print(diff)

print(type(c))


b = '1 2 3 2 3 4'
c = set()
a = b.split()

for i in a:
    if i not in c:
        print('NO')
        c.add(i)
    else: print('YES')



menu = ["харчо", "солянка", "плов", "ачик-чучук"]
menu.pop(1)
print(menu)


shopstring = "яблоки##бананы##говядина##яйца"
shoplist = shopstring.split('##')
shoplist


alphabet = ["a", "b", "d", "e", "f", "g", "i"]
print(alphabet)
alphabet_str = 'abcdefghij'
for i in alphabet_str:
    if i not in alphabet: alphabet.append(i)
alphabet.sort()
print(alphabet)


matrix = [[0 for i in range(5)] for j in range(5)]
…
print(matrix)


matrix = [[0 for j in range(5)] for i in range(5)]
print(matrix)
for i in range(5):
    matrix[i][i] = 1
print(matrix)


import pandas as pd
df = pd.DataFrame(matrix)
df


# just an aexample of dict
a = {i: 'a' for i in range(1, 15, 2)}
type(a)
a


n = 5
matrix = [[0 for i in range(n)] for j in range(n)]
print(matrix)
for i in range(n):
    matrix[i][n-1-i] = 1
print(matrix)


n = input('Enter a number: ')
n = int(n)
tug = n//(17*13)
chog = n%(17*13)//13
peso = n - tug*17*13 - chog*13
print(tug, chog, peso, sep=' ')



lst = input('Enter a number: ').split(' ')
new_lst = list()
count = len(lst)
while count > 0:
    new_lst.append(int(lst.pop()))
    count-=1
print(new_lst)


def start_end():
    number = input('Enter a number: ')
    flst = input('Enter a string of numbers: ').split(' ')
    blst = list()
    if number in flst:
        for i in range(len(flst)-1, -1, -1):
            blst.append(flst[i])
        forwards = flst.index(number)
        backwards = blst.index(number)
        if forwards <= backwards:
            print(forwards)
        else:
            print(len(flst) - 1 - backwards)
    else:
        print(-1)
    
start_end()


def find_divisors():
    lst = input('Enter 2 numbers: ').split(' ')
    a = int(lst[0])
    b = int(lst[1])
    divisors_lst = list()
    for i in range(1, b):
        if a % i == 0:
            divisors_lst.append(i)
    return divisors_lst

print(find_divisors())


a = input('Enter a list of elements: ').split(' ')
b = int(input('Enter a group_size: '))

dct = dict()
for el in a:
    dct[el] = dct.get(el, 0) + 1

answer = True
for i in dct:
    if dct[i] % b != 0:
        answer = False
        break

print(answer)


inp = input('Enter a list of elements: ').split(' ')

lst = list()
for i in inp:
    i = int(i)
    lst.append(i)
lst.sort()

dct = dict()
dct = {i: lst[i] for i in range(len(lst))}

flst = list()
for k, v in dct.items():
    if k >= v:
        flst.append(v)
print(flst)















