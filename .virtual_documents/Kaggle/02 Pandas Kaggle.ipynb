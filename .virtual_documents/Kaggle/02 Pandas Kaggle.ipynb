import pandas as pd
pd.set_option("display.max_rows", 5)
print('Done')


pd.DataFrame({'Yes': [50, 21], 
              'No': [131, 2]})


pd.DataFrame({'Bob': ['I liked it.', 'It was awful.'], 
              'Sue': ['Pretty good.', 'Bland.']})


pd.DataFrame({'Bob': ['I liked it.', 'It was awful.'], 
              'Sue': ['Pretty good.', 'Bland.']},
             index=['Product A', 'Product B'])


fruit_sales = pd.DataFrame(
    {'Apples': [35, 41], 'Bananas': [21, 34]}, 
    index=['2017 Sales', '2018 Sales']
)
fruit_sales


fruit_sales = pd.DataFrame(
    [[35, 41], [21, 34]], 
    index=['2017 Sales', '2018 Sales'],
    columns=['Apples', 'Bananas']
)
fruit_sales


pd.Series([1, 2, 3, 4, 5])


pd.Series([30, 35, 40], 
          index=['2015 Sales', '2016 Sales', '2017 Sales'], 
          name='Product A')


ingredients = pd.Series(
    ['4 cups', '1 cup', '2 large', '1 can'], 
    index=['Flour', 'Milk', 'Eggs', 'Spam'], 
    name='Dinner'
)

ingredients


# the same

quantities = ['4 cups', '1 cup', '2 large', '1 can']
items = ['Flour', 'Milk', 'Eggs', 'Spam']
ingredients = pd.Series(quantities, index=items, name='Dinner')
ingredients


import pandas as pd
reviews = pd.read_csv("materials/winemag-data-130k-v2.csv", index_col=0)
# reviews = pd.read_csv("materials/winemag-data-130k-v2.csv", index_col=0, nrows=5)
# pd.set_option("display.max_rows", 5)  # another way of showing a part of table
reviews


reviews.head(2)  # first 5 by default


reviews.country


reviews['country']


reviews['country'][0]


reviews[reviews.country == 'Italy'][:2]


reviews.loc[0, 'country']


a = reviews.loc[0:3, ['description', 'country']]
print(type(a))
a


a = reviews.loc[:9, 'description']
print(type(a))
a


a = reviews.loc[:, ['taster_name', 'taster_twitter_handle', 'points']]
print(type(a))
a


reviews.set_index("title").head(2)


reviews.country == 'Italy'


reviews.loc[reviews.country == 'Italy']


reviews.loc[(reviews.country == 'Italy') & (reviews.points >= 90)]


reviews.loc[(reviews.country == 'Italy') | (reviews.points >= 90)]


reviews.loc[reviews.country.isin(['Italy', 'France'])]


reviews.loc[reviews.price.notnull()]


reviews['critic'] = 'everyone'
reviews['critic']


reviews['index_backwards'] = range(len(reviews), 0, -1)
reviews['index_backwards']


desc = reviews['description']
desc.head(10)

# or
reviews['description'].head(10)

#or
reviews.description.iloc[:10]


sample_reviews = reviews.iloc[[1, 2, 3, 5, 8]]

# or
indices = [1, 2, 3, 5, 8]
sample_reviews = reviews.loc[indices]

sample_reviews


indices = [0, 1, 10, 100]
cols = ['country', 'province', 'region_1', 'region_2']
df = reviews.loc[indices, cols]
df


cols = ['country', 'variety']
df = reviews.loc[:99, cols]     # from 0 to 99 included, i.e. 100 rows

# or
cols_idx = [0, 11]
df = reviews.iloc[:100, cols_idx]

df


top_oceania_wines = reviews.loc[
    (reviews.country.isin(['Australia', 'New Zealand']))
    & (reviews.points >= 95)
]

top_oceania_wines


import pandas as pd
pd.set_option('display.max_rows', 3)
import numpy as np
reviews = pd.read_csv("materials/winemag-data-130k-v2.csv", index_col=0)
reviews.head(1)


reviews.points.describe()


reviews.taster_name.describe()


reviews.points.mean()


median_points = reviews.points.median()
median_points


reviews.taster_name.unique()


reviews.taster_name.value_counts()


reviews.points


reviews.points.mean()


review_points_mean = reviews.points.mean()
reviews.points.map(lambda p: p - review_points_mean)


# centered_price

def remean_points(row):
    row.points = row.points - review_points_mean
    return row

new_points = reviews.apply(remean_points, axis='columns')  # or axis=1

get_ipython().run_line_magic("timeit", " new_points.head(2)")
new_points.head(2)


reviews.head(1)


review_points_mean = reviews.points.mean()
reviews.points - review_points_mean


reviews.country + " - " + reviews.region_1


ratio = reviews.points / reviews.price
bargain_wine = reviews.title.loc[ratio.idxmax()]
bargain_wine


# Solution

bargain_idx = (reviews.points / reviews.price).idxmax()
bargain_wine = reviews.loc[bargain_idx, 'title']
bargain_wine


df = pd.DataFrame()
df['X'] = [0, 0, 0, 4, 5, ]

df['X'].ne(0)


descr = reviews.description
tropical = 0
fruity = 0
for i in descr:
    if 'tropical' in i: tropical+=1
    if 'fruity' in i: fruity+=1
descriptor_counts = pd.Series([tropical, fruity], index=['tropical', 'fruity'])
descriptor_counts



# Solution:

n_trop = reviews.description.map(lambda desc: "tropical" in desc).sum()
n_fruity = reviews.description.map(lambda desc: "fruity" in desc).sum()
descriptor_counts = pd.Series([n_trop, n_fruity], index=['tropical', 'fruity'])
descriptor_counts


def stars(row):
    if (row.country == 'Canada' or 
        row.points >= 95):
        return 3
    elif row.points >= 85:
        return 2
    else:
        return 1

star_ratings = reviews.apply(stars, axis='columns')
star_ratings


import pandas as pd
reviews = pd.read_csv("materials/winemag-data-130k-v2.csv", index_col=0)
pd.set_option("display.max_rows", 5)

reviews.points.value_counts()


a = reviews.groupby('points').points.count()
print(a)
print(type(a))


# Also
a = reviews.groupby('points').size()
print(a)
print(type(a))


reviews.groupby('points').price.min()


a = reviews.groupby('winery').apply(lambda df: df.title.iloc[0])
print(a)
get_ipython().run_line_magic("timeit", " a")


reviews.groupby(['country', 'province']).apply(lambda df: df.loc[df.points.idxmax()])


reviews.groupby(['country']).price.agg([len, min, max])


countries_reviewed = reviews.groupby(['country', 'province']).description.agg([len])
countries_reviewed


mi = countries_reviewed.index
type(mi)


countries_reviewed.reset_index()


countries_reviewed = countries_reviewed.reset_index()
countries_reviewed.sort_values(by='len')


countries_reviewed.sort_values(by='len', ascending=False)


countries_reviewed.sort_values(by=['country', 'len'])


countries_reviewed.sort_index()


# Soliution
best_rating_per_price = reviews.groupby('price')['points'].max().sort_index()
best_rating_per_price


price_extremes = reviews.groupby('variety').price.agg([min, max])
price_extremes


sorted_varieties = price_extremes.sort_values(by=['min', 'max'], ascending=False)
sorted_varieties


reviewer_mean_ratings = reviews.groupby('taster_name').points.agg(['mean'])
print(type(reviewer_mean_ratings))
reviewer_mean_ratings


reviewer_mean_ratings = reviews.groupby('taster_name').points.mean()
print(type(reviewer_mean_ratings))
reviewer_mean_ratings


reviewer_mean_ratings.describe()


countries_reviewed = reviews.groupby(['country', 'variety']).size()
print(type(countries_reviewed))

country_variety_counts = countries_reviewed.sort_values(ascending=False)
print(type(country_variety_counts))
print(country_variety_counts)


import pandas as pd
reviews = pd.read_csv("winemag-data-130k-v2.csv", index_col=0)
pd.set_option('display.max_rows', 5)
print('Done')


reviews.price.dtype


reviews.dtypes


reviews.points.dtype


reviews.points.astype('float64')


reviews.index.dtype


reviews[pd.isnull(reviews.country)]


reviews.region_2.fillna("Unknown")


reviews.taster_twitter_handle.replace("@kerinokeefe", "@kerino")


point_strings = reviews.points.astype('str')
point_strings


pd.isnull(reviews.price)


missing_prices = reviews[pd.isnull(reviews.price)]
n_missing_prices = len(missing_prices)
n_missing_prices


# Solution:

missing_price_reviews = reviews[reviews.price.isnull()]
n_missing_prices = len(missing_price_reviews)
print(n_missing_prices)

# Cute alternative solution: if we sum a boolean series, True is treated as 1 and False as 0
n_missing_prices = reviews.price.isnull().sum()

# or equivalently:
n_missing_prices = pd.isnull(reviews.price).sum()


region_1_unknown = reviews.region_1.fillna("Unknown")
reviews_per_region = region_1_unknown.value_counts().sort_values(ascending=False)
reviews_per_region


# Solution
reviews_per_region = reviews.region_1.fillna('Unknown').value_counts().sort_values(ascending=False)
reviews_per_region


import pandas as pd
pd.set_option('display.max_rows', 3)
reviews = pd.read_csv("materials/winemag-data-130k-v2.csv", index_col=0)
reviews


reviews.rename(columns={'points': 'score'})


reviews.rename(index={0: 'firstEntry', 1: 'secondEntry'})


reviews.rename_axis("wines", axis='rows').rename_axis("fields", axis='columns')


canadian_youtube = pd.read_csv("materials/CAvideos.csv")
british_youtube = pd.read_csv("materials/GBvideos.csv")


pd.concat([canadian_youtube, british_youtube])


left = canadian_youtube.set_index(['title', 'trending_date'])
right = british_youtube.set_index(['title', 'trending_date'])

left.join(right, lsuffix='_CAN', rsuffix='_UK')


import pandas as pd
pd.set_option('display.max_rows', 3)
reviews = pd.read_csv("materials/winemag-data-130k-v2.csv", index_col=0)
reviews


renamed = reviews.rename(columns={'region_1': 'region', 'region_2': 'locale'})


# Solution:
renamed = reviews.rename(columns=dict(region_1='region', region_2='locale'))
renamed


reindexed = reviews.rename_axis('wines', axis='rows')
reindexed



