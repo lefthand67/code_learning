{
 "cells": [
  {
   "cell_type": "markdown",
   "id": "ee58dac8",
   "metadata": {},
   "source": [
    "# Кнут \"Искусство программирования\" - черновики\n",
    "\n",
    "\n",
    "# 1.1. Алгоритмы\n",
    "\n",
    "### Алгоритм Евклида - версия 0"
   ]
  },
  {
   "cell_type": "code",
   "execution_count": 103,
   "id": "0903a145",
   "metadata": {},
   "outputs": [
    {
     "data": {
      "text/plain": [
       "'gcd is 1 for (5000500505000500005506, 45555567) in 19 step(s)'"
      ]
     },
     "execution_count": 103,
     "metadata": {},
     "output_type": "execute_result"
    }
   ],
   "source": [
    "def E_algorithm(m, n):\n",
    "    \"\"\"\n",
    "    Euclid algorithm\n",
    "    \"\"\"\n",
    "    if type(m) is int and type(n) is int and m > 0 and n > 0:\n",
    "        initial = m, n\n",
    "        counts = 1\n",
    "        if m < n: m, n = n, m\n",
    "        r = m%n\n",
    "        while r:               # while r gets False, i.e. 0\n",
    "            m, n = n, r\n",
    "            r = m%n\n",
    "            counts+=1\n",
    "        return f'gcd is {n} for {initial} in {counts} step(s)'\n",
    "    else:\n",
    "        return 'Choose natural numbers with type of integer'\n",
    "\n",
    "E_algorithm(5000500505000500005506, 45555567)"
   ]
  },
  {
   "cell_type": "code",
   "execution_count": null,
   "id": "6acc5b8b",
   "metadata": {},
   "outputs": [],
   "source": []
  },
  {
   "cell_type": "code",
   "execution_count": null,
   "id": "dcd84353",
   "metadata": {},
   "outputs": [],
   "source": []
  },
  {
   "cell_type": "code",
   "execution_count": null,
   "id": "f99ccd22",
   "metadata": {},
   "outputs": [],
   "source": []
  }
 ],
 "metadata": {
  "kernelspec": {
   "display_name": "Python 3 (ipykernel)",
   "language": "python",
   "name": "python3"
  },
  "language_info": {
   "codemirror_mode": {
    "name": "ipython",
    "version": 3
   },
   "file_extension": ".py",
   "mimetype": "text/x-python",
   "name": "python",
   "nbconvert_exporter": "python",
   "pygments_lexer": "ipython3",
   "version": "3.11.0"
  }
 },
 "nbformat": 4,
 "nbformat_minor": 5
}
