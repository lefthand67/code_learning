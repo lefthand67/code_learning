{
 "cells": [
  {
   "cell_type": "markdown",
   "id": "8dbc9cb9-46a7-4bac-8a61-d0862e057922",
   "metadata": {},
   "source": [
    "# Easy"
   ]
  },
  {
   "cell_type": "markdown",
   "id": "126d5e6c-d4d1-4cfb-99a8-c251ab210189",
   "metadata": {},
   "source": [
    "## 977. Squares of a Sorted Array"
   ]
  },
  {
   "cell_type": "markdown",
   "id": "677b28f0-de2a-4796-958f-6e2b969c576c",
   "metadata": {},
   "source": [
    "Given an integer array nums sorted in non-decreasing order, return an array of the squares of each number sorted in non-decreasing order.\n",
    "\n",
    "**Constraints:**\n",
    "```\n",
    "1 <= nums.length <= 104\n",
    "-104 <= nums[i] <= 104\n",
    "nums is sorted in non-decreasing order.\n",
    "```\n",
    "\n",
    "**Follow up:** Squaring each element and sorting the new array is very trivial, could you find an `O(n)` solution using a different approach?"
   ]
  },
  {
   "cell_type": "markdown",
   "id": "121d7751-5985-45f3-b94e-b29b3fbcdf77",
   "metadata": {},
   "source": [
    "```python\n",
    "Example 1:\n",
    "Input: nums = [-4,-1,0,3,10]\n",
    "Output: [0,1,9,16,100]\n",
    "Explanation: After squaring, the array becomes [16,1,0,9,100].\n",
    "After sorting, it becomes [0,1,9,16,100].\n",
    "\n",
    "Example 2:\n",
    "Input: nums = [-7,-3,2,3,11]\n",
    "Output: [4,9,9,49,121]\n",
    "```"
   ]
  },
  {
   "cell_type": "code",
   "execution_count": 35,
   "id": "ad9dfb8d-1b3a-42ad-8e0c-728edce1f712",
   "metadata": {},
   "outputs": [],
   "source": [
    "def sortedSquares(nums: list[int]) -> list[int]:\n",
    "    lst = [None] * len(nums)\n",
    "    left, right = 0, len(nums) - 1\n",
    "    for i in range(len(nums)-1, -1, -1):\n",
    "        if abs(nums[left]) > abs(nums[right]):\n",
    "            lst[i] = nums[left] ** 2\n",
    "            left += 1\n",
    "        else:\n",
    "            lst[i] = nums[right] ** 2\n",
    "            right -= 1\n",
    "    return lst"
   ]
  },
  {
   "cell_type": "code",
   "execution_count": 36,
   "id": "90f14a45-92cb-4c56-b4b2-f23599a4449d",
   "metadata": {},
   "outputs": [
    {
     "data": {
      "text/plain": [
       "[4, 9, 9, 49, 121]"
      ]
     },
     "execution_count": 36,
     "metadata": {},
     "output_type": "execute_result"
    }
   ],
   "source": [
    "nums = [-7,-3,2,3,11]\n",
    "sortedSquares(nums)"
   ]
  },
  {
   "cell_type": "code",
   "execution_count": 37,
   "id": "dfcfe016-ff24-48bc-aef8-14abd596f6b9",
   "metadata": {},
   "outputs": [
    {
     "name": "stdout",
     "output_type": "stream",
     "text": [
      "2.04 µs ± 353 ns per loop (mean ± std. dev. of 7 runs, 100,000 loops each)\n"
     ]
    }
   ],
   "source": [
    "%timeit sortedSquares(nums)"
   ]
  },
  {
   "cell_type": "code",
   "execution_count": null,
   "id": "720728bb-e4c2-4f8c-8d31-b0b1b255c1d1",
   "metadata": {},
   "outputs": [],
   "source": []
  },
  {
   "cell_type": "code",
   "execution_count": null,
   "id": "cb074944-a087-4fec-8a68-d9c7106951e2",
   "metadata": {},
   "outputs": [],
   "source": []
  },
  {
   "cell_type": "code",
   "execution_count": null,
   "id": "15e9ed78-22f6-4e80-81bb-409902dfe662",
   "metadata": {},
   "outputs": [],
   "source": []
  },
  {
   "cell_type": "markdown",
   "id": "b08b3a8d-aa80-4366-a7b2-2f700e729356",
   "metadata": {},
   "source": [
    "# Medium"
   ]
  },
  {
   "cell_type": "markdown",
   "id": "045bdf1b-6945-4166-8bb6-f7b1b548f79d",
   "metadata": {},
   "source": [
    "## 189. Rotate Array\n",
    "\n",
    "Given an array, rotate the array to the right by k steps, where k is non-negative.\n",
    "\n",
    "**Constraints:**\n",
    "```\n",
    "1 <= nums.length <= 105\n",
    "-231 <= nums[i] <= 231 - 1\n",
    "0 <= k <= 105\n",
    "```\n",
    "\n",
    "**Follow up:**\n",
    "\n",
    "Try to come up with as many solutions as you can. There are at least three different ways to solve this problem.\n",
    "Could you do it in-place with `O(1)` extra space?"
   ]
  },
  {
   "cell_type": "markdown",
   "id": "6f6c11ec-3348-4f2a-aa23-df66fcd4ef1e",
   "metadata": {},
   "source": [
    "```python\n",
    "Example 1:\n",
    "\n",
    "Input: nums = [1,2,3,4,5,6,7], k = 3\n",
    "Output: [5,6,7,1,2,3,4]\n",
    "\n",
    "Explanation:\n",
    "rotate 1 steps to the right: [7,1,2,3,4,5,6]\n",
    "rotate 2 steps to the right: [6,7,1,2,3,4,5]\n",
    "rotate 3 steps to the right: [5,6,7,1,2,3,4]\n",
    "\n",
    "Example 2:\n",
    "\n",
    "Input: nums = [-1,-100,3,99], k = 2\n",
    "Output: [3,99,-1,-100]\n",
    "\n",
    "Explanation: \n",
    "rotate 1 steps to the right: [99,-1,-100,3]\n",
    "rotate 2 steps to the right: [3,99,-1,-100]\n",
    "```"
   ]
  },
  {
   "cell_type": "code",
   "execution_count": null,
   "id": "53e09de5-dc67-47fe-87dd-a0a9cf0a18ab",
   "metadata": {},
   "outputs": [],
   "source": []
  },
  {
   "cell_type": "code",
   "execution_count": null,
   "id": "25a8933a-4a9c-4b44-aa61-79cb99098495",
   "metadata": {},
   "outputs": [],
   "source": []
  },
  {
   "cell_type": "code",
   "execution_count": null,
   "id": "6617bf22-60dc-44a8-afb2-9b663f5dc9f9",
   "metadata": {},
   "outputs": [],
   "source": []
  },
  {
   "cell_type": "code",
   "execution_count": null,
   "id": "60c16ce4-907a-4751-b3ba-d9f619567a05",
   "metadata": {},
   "outputs": [],
   "source": []
  },
  {
   "cell_type": "markdown",
   "id": "4da2b6ce-0ab7-42ca-bab9-a8873d2feca3",
   "metadata": {},
   "source": [
    "# Hard"
   ]
  },
  {
   "cell_type": "code",
   "execution_count": null,
   "id": "46c6864a-0fbd-464d-b246-cb2d8ea3f1b0",
   "metadata": {},
   "outputs": [],
   "source": []
  }
 ],
 "metadata": {
  "kernelspec": {
   "display_name": "Python 3 (ipykernel)",
   "language": "python",
   "name": "python3"
  },
  "language_info": {
   "codemirror_mode": {
    "name": "ipython",
    "version": 3
   },
   "file_extension": ".py",
   "mimetype": "text/x-python",
   "name": "python",
   "nbconvert_exporter": "python",
   "pygments_lexer": "ipython3",
   "version": "3.11.0"
  }
 },
 "nbformat": 4,
 "nbformat_minor": 5
}
