{
 "cells": [
  {
   "cell_type": "code",
   "execution_count": null,
   "id": "146b9d65",
   "metadata": {},
   "outputs": [],
   "source": [
    "nam = input('Who are you? ')\n",
    "print('Welcome, ', nam + '!')\n",
    "doing = input(\"How're you doing? \")\n",
    "if doing == \"I'm good\": print('Awesome, man!')\n",
    "else: print(\"Slacker!\")"
   ]
  },
  {
   "cell_type": "code",
   "execution_count": null,
   "id": "46e64d5a",
   "metadata": {},
   "outputs": [],
   "source": [
    "inp = input('Europe floor? ')\n",
    "usf = int(inp) + 1\n",
    "print(\"US floor:\", usf)"
   ]
  },
  {
   "cell_type": "code",
   "execution_count": 1,
   "id": "8dece677",
   "metadata": {},
   "outputs": [
    {
     "name": "stdout",
     "output_type": "stream",
     "text": [
      "Enter a number: r\n",
      "Dear, r is not a number. Relax and try again.\n"
     ]
    }
   ],
   "source": [
    "rawstr = input(\"Enter a number: \")\n",
    "try:\n",
    "    ival = int(rawstr)\n",
    "except:\n",
    "    ival = -1\n",
    "\n",
    "if ival > 0:\n",
    "    print(\"Nice work!\")\n",
    "else:\n",
    "    print('Dear,', rawstr, \"is not a number. Relax and try again.\")"
   ]
  },
  {
   "cell_type": "code",
   "execution_count": null,
   "id": "0a7bb89a",
   "metadata": {},
   "outputs": [],
   "source": [
    "a = min(input())\n",
    "print(a)"
   ]
  },
  {
   "cell_type": "code",
   "execution_count": null,
   "id": "295696c9",
   "metadata": {},
   "outputs": [],
   "source": [
    "print(round(100/9))"
   ]
  },
  {
   "cell_type": "code",
   "execution_count": null,
   "id": "5fc3a743",
   "metadata": {},
   "outputs": [],
   "source": [
    "# Greeting in your language (a piece)\n",
    "\n",
    "name = input(\"What's your name? \")\n",
    "country = input(\"What country are you from (print just the name of the country)? \")\n",
    "def greet(country):\n",
    "    if country == \"Spain\":\n",
    "        return \"Hola,\"\n",
    "    else:\n",
    "        return \"Будь верен идее коммунизма,\"\n",
    "print(greet(country), name + \"!\")"
   ]
  },
  {
   "cell_type": "code",
   "execution_count": null,
   "id": "24a356be",
   "metadata": {},
   "outputs": [],
   "source": [
    "# Indefinite Loops WHILE 2:20"
   ]
  },
  {
   "cell_type": "code",
   "execution_count": null,
   "id": "a8ebd81d",
   "metadata": {},
   "outputs": [],
   "source": [
    "#break - finishes the loop\n",
    "\n",
    "while True:\n",
    "    line = input('< ')\n",
    "    if line == 'done':\n",
    "        break\n",
    "    print(line)\n",
    "print('Done!')"
   ]
  },
  {
   "cell_type": "code",
   "execution_count": null,
   "id": "cb770386",
   "metadata": {},
   "outputs": [],
   "source": [
    "#break and continue\n",
    "# continue - returns to the head of the loop\n",
    "\n",
    "while True:\n",
    "    line = input('< ')\n",
    "    if line[0] == '#':\n",
    "        continue\n",
    "    if line == 'done':\n",
    "        break\n",
    "    print(line)\n",
    "print('Done!')\n",
    "        "
   ]
  },
  {
   "cell_type": "code",
   "execution_count": null,
   "id": "047cd11f",
   "metadata": {},
   "outputs": [],
   "source": [
    "# Definite Loops FOR 2:25"
   ]
  },
  {
   "cell_type": "code",
   "execution_count": null,
   "id": "dda113fb",
   "metadata": {},
   "outputs": [],
   "source": [
    "for i in [5, 4, 3, 2, 1]:\n",
    "    print(i)\n",
    "print(\"We're done\")"
   ]
  },
  {
   "cell_type": "code",
   "execution_count": null,
   "id": "8d1ae528",
   "metadata": {},
   "outputs": [],
   "source": [
    "# Python doesn't understand plural or sing form so the 'i' means the iterable value in the string\n",
    "# 'i' could be any word I like ('friend' for ex)\n",
    "\n",
    "friends = ['Vladimir', 'Joseph', 'the Iron Felix']\n",
    "for i in friends:\n",
    "    print('Happy October Reolution Day,', i + '!')\n",
    "print('Hooray! ' * 2 + 'HOORAY!!!')"
   ]
  },
  {
   "cell_type": "code",
   "execution_count": null,
   "id": "2f3b07eb",
   "metadata": {},
   "outputs": [],
   "source": [
    "# Finding the largest number in a row (in my_library)\n",
    "\n",
    "numbers = [45, 75, 2, -2, 3, 94, 5, 34]\n",
    "# We're going to compare each number with the initially \"largest\" (i.e. first) number \n",
    "# and change the value if the next number is bigger \n",
    "largest_number = numbers[0]\n",
    "for i in numbers:\n",
    "    if i > largest_number:\n",
    "        largest_number = i\n",
    "print(largest_number)"
   ]
  },
  {
   "cell_type": "code",
   "execution_count": null,
   "id": "40a05561",
   "metadata": {},
   "outputs": [],
   "source": [
    "# Finding the smallest number in a row (in my_library)\n",
    "\n",
    "numbers = [45, 75, 2, -2, 3, 94, 5, 34]\n",
    "smallest_number = numbers[0]\n",
    "for i in numbers:\n",
    "    if i < smallest_number:\n",
    "        smallest_number = i\n",
    "print(smallest_number)\n",
    "\n",
    "\n",
    "count = 0\n",
    "smallest_number = numbers[0]\n",
    "print('Before:', smallest_number)\n",
    "for i in numbers:\n",
    "    count = count + 1\n",
    "    if i < smallest_number:\n",
    "        smallest_number = i\n",
    "    print(str(count) + ')', i, smallest_number)\n",
    "print('After: the smallest number is', smallest_number)\n",
    "\n",
    "smallest_number = None\n",
    "print('Before:', smallest_number)\n",
    "for i in numbers:\n",
    "    if smallest_number is None:\n",
    "        smallest_number = i\n",
    "    elif i < smallest_number:\n",
    "        smallest_number = i\n",
    "    print(i, smallest_number)\n",
    "print('After: the smallest number is', smallest_number)"
   ]
  },
  {
   "cell_type": "code",
   "execution_count": null,
   "id": "e68c9b48",
   "metadata": {},
   "outputs": [],
   "source": [
    "# Counting in a Loop\n",
    "# counting how many times we execute the loop\n",
    "\n",
    "list = [45, 75, 2, -2, 3, 94, 5, 34]\n",
    "zork = 0    # count\n",
    "print('Before', zork)\n",
    "for i in list:\n",
    "    zork = zork + 1\n",
    "    print(str(zork) + ')', i)\n",
    "print('After', zork)"
   ]
  },
  {
   "cell_type": "code",
   "execution_count": null,
   "id": "d7afe0a2",
   "metadata": {},
   "outputs": [],
   "source": [
    "# Summing in a Loop\n",
    "# we use variable zork to start the calculation (the sum of i in list)\n",
    "\n",
    "list = [45, 75, 2, -2, 3, 94, 5, 34]\n",
    "sum = 0\n",
    "print('Before:', sum)\n",
    "for i in list:\n",
    "    sum = sum + i\n",
    "    print(sum, i)\n",
    "print('After:', 'sum =', sum)"
   ]
  },
  {
   "cell_type": "code",
   "execution_count": null,
   "id": "11091b12",
   "metadata": {},
   "outputs": [],
   "source": [
    "# Finding the Average in a Loop\n",
    "\n",
    "list = [45, 75, 2, -2, 3, 94, 5, 34]\n",
    "count = 0\n",
    "sum = 0\n",
    "print('Before:', count, sum)\n",
    "for i in list:\n",
    "    count = count + 1\n",
    "    sum = sum + i\n",
    "    print(str(count) + ')', i)\n",
    "print('After:', 'sum =', str(sum) + ',', 'average =', sum/count)"
   ]
  },
  {
   "cell_type": "code",
   "execution_count": null,
   "id": "cd369565",
   "metadata": {},
   "outputs": [],
   "source": [
    "# Filtering in a Loop\n",
    "\n",
    "list = [-45, 75, 2, -2, 3, 94, -5, 34, -20]\n",
    "new_list = []\n",
    "for i in list:\n",
    "    if i > 20:\n",
    "        new_list.append(i)\n",
    "print(new_list)\n",
    "\n",
    "for i in list:\n",
    "    if i <= 20:\n",
    "        list.remove(i)\n",
    "print(list, '???')\n",
    "\n",
    "list = [-45, 75, 2, -2, 3, 94, -5, 34, -20]\n",
    "new_list = []\n",
    "count = 0\n",
    "for i in list:\n",
    "    if i <= 20:\n",
    "        count = count + 1\n",
    "        list.remove(i)\n",
    "        print(str(count) + ')', i)\n",
    "print(list)"
   ]
  },
  {
   "cell_type": "code",
   "execution_count": null,
   "id": "af37664b",
   "metadata": {},
   "outputs": [],
   "source": [
    "# Search Using a Boolean Variable\n",
    "\n",
    "found = False\n",
    "list = [-45, 75, 2, -2, 3, 94, -5, 34, -20]\n",
    "for i in list:\n",
    "    if i == 3:\n",
    "        found = True\n",
    "        print(found, i, 'Done')\n",
    "        break\n",
    "    print(found, i)"
   ]
  },
  {
   "cell_type": "markdown",
   "id": "da122258",
   "metadata": {},
   "source": [
    "### Parsing and Extracting\n",
    "\n",
    "str.**find**(_sub_**[**, _start_**[**, _end_**]]**)\n",
    "\n",
    "[source](https://docs.python.org/3/library/stdtypes.html)"
   ]
  },
  {
   "cell_type": "code",
   "execution_count": null,
   "id": "653c2d24",
   "metadata": {},
   "outputs": [],
   "source": [
    "data = \"lefthand67@yandex.ru Sat Sept 24\"\n",
    "\n",
    "# searching for @ nsign position\n",
    "atpos = data.find('@')\n",
    "print(atpos)\n",
    "\n",
    "#searching for a space position\n",
    "sppos = data.find(' ', atpos, 21)\n",
    "print(sppos)\n",
    "\n",
    "#extracting the suffix using string slicing\n",
    "host = data[atpos+1 : sppos]\n",
    "print(host)"
   ]
  },
  {
   "cell_type": "markdown",
   "id": "3361eb58",
   "metadata": {},
   "source": [
    "## Opening, Reading and Writing the File\n",
    "\n",
    "handle = open(**filename**, mode, encoding='utf-8')\n",
    "- filename is a _**string**_,\n",
    "- mode is optional; _**'r'**_ stands for _'reading'_ and _**'w'**_ for _'writing'_,\n",
    "- encoding is for other languages.\n",
    "\n",
    "_**open()**_ is a built-in function that returns a handle not the data.\n",
    "\n",
    "**fhand** = open('mbox.txt', 'r')  \n",
    "'File handle' "
   ]
  },
  {
   "cell_type": "markdown",
   "id": "125c3374",
   "metadata": {},
   "source": [
    "### Reading File"
   ]
  },
  {
   "cell_type": "code",
   "execution_count": 15,
   "id": "3d79681d",
   "metadata": {},
   "outputs": [
    {
     "name": "stdout",
     "output_type": "stream",
     "text": [
      "Иван Бунин — Вечер: Стих\n",
      "\n",
      "О счастье мы всегда лишь вспоминаем.\n",
      "\n",
      "А счастье всюду. Может быть, оно —\n",
      "\n",
      "Вот этот сад осенний за сараем\n",
      "\n",
      "И чистый воздух, льющийся в окно.\n",
      "\n",
      "В бездонном небе легким белым краем\n",
      "\n",
      "Встает, сияет облако. Давно\n",
      "\n",
      "Слежу за ним… Мы мало видим, знаем,\n",
      "\n",
      "А счастье только знающим дано.\n",
      "\n",
      "Окно открыто. Пискнула и села\n",
      "\n",
      "На подоконник птичка. И от книг\n",
      "\n",
      "Усталый взгляд я отвожу на миг.\n",
      "\n",
      "День вечереет, небо опустело.\n",
      "\n",
      "Гул молотилки слышен на гумне…\n",
      "\n",
      "Я вижу, слышу, счастлив. Все во мне.\n",
      "\n"
     ]
    }
   ],
   "source": [
    "fhand = open('bunin-evening.txt', 'r', encoding='utf-8')\n",
    "for each_line in fhand:\n",
    "    print(each_line)"
   ]
  },
  {
   "cell_type": "markdown",
   "id": "05b7e6eb",
   "metadata": {},
   "source": [
    "### Counting Lines in a File"
   ]
  },
  {
   "cell_type": "code",
   "execution_count": 16,
   "id": "2098e04c",
   "metadata": {},
   "outputs": [
    {
     "name": "stdout",
     "output_type": "stream",
     "text": [
      "Line Count: 15\n"
     ]
    }
   ],
   "source": [
    "fhand = open('bunin-evening.txt', 'r', encoding='utf-8')\n",
    "count = 0\n",
    "for each_line in fhand:\n",
    "    count = count + 1\n",
    "print('Line Count:', count)"
   ]
  },
  {
   "cell_type": "code",
   "execution_count": null,
   "id": "b68e5ff5",
   "metadata": {},
   "outputs": [],
   "source": []
  }
 ],
 "metadata": {
  "kernelspec": {
   "display_name": "Python 3 (ipykernel)",
   "language": "python",
   "name": "python3"
  },
  "language_info": {
   "codemirror_mode": {
    "name": "ipython",
    "version": 3
   },
   "file_extension": ".py",
   "mimetype": "text/x-python",
   "name": "python",
   "nbconvert_exporter": "python",
   "pygments_lexer": "ipython3",
   "version": "3.8.13"
  }
 },
 "nbformat": 4,
 "nbformat_minor": 5
}
