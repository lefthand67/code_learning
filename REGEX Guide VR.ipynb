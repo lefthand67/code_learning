{
 "cells": [
  {
   "cell_type": "code",
   "execution_count": 14,
   "id": "fb4ae6ae-38b1-4b62-86b6-089631c96b9a",
   "metadata": {},
   "outputs": [],
   "source": [
    "import re"
   ]
  },
  {
   "cell_type": "markdown",
   "id": "e8dad6fb-d871-44ef-82eb-325e09ff2dc5",
   "metadata": {},
   "source": [
    "# **REGULAR EXPRESSIONS** - Guide VR"
   ]
  },
  {
   "cell_type": "markdown",
   "id": "1527c963-3ba7-486d-9309-b2bfaf7b68af",
   "metadata": {
    "tags": []
   },
   "source": [
    "# Intro\n",
    "\n",
    "Регулярные выражения - выражения для поиска и замены части текста в строке или файле. Для работы с ними необходимо подключить модуль **\"re\"** из стандартной библиотеки Python."
   ]
  },
  {
   "cell_type": "code",
   "execution_count": 10,
   "id": "071a26e4-e344-4301-8684-e4d46c99420d",
   "metadata": {},
   "outputs": [],
   "source": [
    "import re"
   ]
  },
  {
   "cell_type": "markdown",
   "id": "1f582a5f-122a-4724-86a7-fb84699317e4",
   "metadata": {},
   "source": [
    "Наиболее часто регулярные выражения используются для поиска в строке, разбиении строк, замены части строк. \n",
    "\n",
    "Also called \"regex\" or \"regexp\". It is smart \"find\" or \"search\" in the text.\n",
    "\n",
    "The language comes form 1960's. It's **character** based.\n",
    "\n",
    "[Documentation](https://docs.python.org/3/library/re.html)\n",
    "\n",
    "This module provides regular expression matching operations similar to those found in Perl.\n",
    "\n",
    "Both patterns and strings to be searched can be Unicode strings (str) as well as 8-bit strings (bytes). However, Unicode strings and 8-bit strings cannot be mixed: that is, you cannot match a Unicode string with a byte pattern or vice-versa; similarly, when asking for a substitution, the replacement string must be of the same type as both the pattern and the search string."
   ]
  },
  {
   "cell_type": "markdown",
   "id": "f2f777e7-3495-4b3f-865d-b41212d3203d",
   "metadata": {},
   "source": [
    "## **Escape sequences `\\`**\n",
    "\n",
    "Regular expressions use the backslash character `\\` to indicate special forms or to allow special characters to be used without invoking their special meaning. \n",
    "\n",
    "> The backslash (\\) character is used to escape characters that otherwise have a special meaning, such as newline, backslash itself, or the quote character. [source](https://docs.python.org/3/reference/lexical_analysis.html)\n",
    "\n",
    "This collides with Python’s usage of the same character for the same purpose in string literals; for example, to match a literal backslash, one might have to write `\\\\\\\\` as the pattern string, because the regular expression must be `\\\\`, and each backslash must be expressed as `\\\\` (to let Python know we we want just one `\\`) inside a regular Python string literal. "
   ]
  },
  {
   "cell_type": "code",
   "execution_count": 227,
   "id": "765a46fb-5b80-4442-9be2-ae1c5427d538",
   "metadata": {},
   "outputs": [
    {
     "name": "stdout",
     "output_type": "stream",
     "text": [
      "['\\\\']\n",
      "\\\n"
     ]
    }
   ],
   "source": [
    "import re\n",
    "a = '\\\\'\n",
    "b = re.findall('\\\\\\\\', a)\n",
    "print(b)\n",
    "print(b[0])"
   ]
  },
  {
   "cell_type": "markdown",
   "id": "1ad5f2a6-8e01-46ac-ba08-e7facb3feefb",
   "metadata": {},
   "source": [
    "Also, please note that any invalid escape sequences (игнорирование спецсимвола) in Python’s usage of the backslash in string literals now generate a `DeprecationWarning` and in the future this will become a `SyntaxError`. This behaviour will happen even if it is a valid escape sequence for a regular expression."
   ]
  },
  {
   "cell_type": "markdown",
   "id": "c2a16e57-7001-4ae9-988d-0ce901772687",
   "metadata": {},
   "source": [
    "### Raw String usage `r'string'`"
   ]
  },
  {
   "cell_type": "markdown",
   "id": "e674f8ca-211f-44d8-8d63-64e45fcf6aa1",
   "metadata": {},
   "source": [
    "The solution is to use Python’s raw string notation for regular expression patterns; backslashes are not handled in any special way in a string literal prefixed with `'r'`. So `r\"\\n\"` is a two-character string containing `'\\'` and `'n'`, while `\"\\n\"` is a one-character string containing a newline. Usually patterns will be expressed in Python code using this raw string notation."
   ]
  },
  {
   "cell_type": "code",
   "execution_count": 93,
   "id": "4510bccd-14dd-4675-aa49-0ffc0fe75a9d",
   "metadata": {},
   "outputs": [
    {
     "name": "stdout",
     "output_type": "stream",
     "text": [
      "a: '\n",
      "' and its length is 1\n",
      "b: '\\n' and its length is 2\n"
     ]
    }
   ],
   "source": [
    "a = '\\n'\n",
    "b = r'\\n'\n",
    "print(f\"a: '{a}' and its length is {len(a)}\")\n",
    "print(f\"b: '{b}' and its length is {len(b)}\")"
   ]
  },
  {
   "cell_type": "markdown",
   "id": "2bd9125a-ef21-4d15-a87b-6f3caffd73cf",
   "metadata": {},
   "source": [
    "### Even number of `\\` rule\n",
    "\n",
    "Be aware of improper use of `\\` even in the raw-strings. Take a look at these examples:"
   ]
  },
  {
   "cell_type": "code",
   "execution_count": 145,
   "id": "07ab53a1-0d19-4fd5-b652-90b3cef414cd",
   "metadata": {},
   "outputs": [
    {
     "ename": "SyntaxError",
     "evalue": "unterminated string literal (detected at line 3) (2321787335.py, line 3)",
     "output_type": "error",
     "traceback": [
      "\u001b[1;36m  Cell \u001b[1;32mIn [145], line 3\u001b[1;36m\u001b[0m\n\u001b[1;33m    re.findall(r'\\', a)\u001b[0m\n\u001b[1;37m               ^\u001b[0m\n\u001b[1;31mSyntaxError\u001b[0m\u001b[1;31m:\u001b[0m unterminated string literal (detected at line 3)\n"
     ]
    }
   ],
   "source": [
    "import re\n",
    "a = '\\\\'\n",
    "re.findall(r'\\', a)"
   ]
  },
  {
   "cell_type": "code",
   "execution_count": 148,
   "id": "819e80bf-53ac-4979-9bc0-eeca979a22b6",
   "metadata": {},
   "outputs": [
    {
     "ename": "SyntaxError",
     "evalue": "unterminated string literal (detected at line 2) (1393654224.py, line 2)",
     "output_type": "error",
     "traceback": [
      "\u001b[1;36m  Cell \u001b[1;32mIn [148], line 2\u001b[1;36m\u001b[0m\n\u001b[1;33m    a = r'\\'\u001b[0m\n\u001b[1;37m        ^\u001b[0m\n\u001b[1;31mSyntaxError\u001b[0m\u001b[1;31m:\u001b[0m unterminated string literal (detected at line 2)\n"
     ]
    }
   ],
   "source": [
    "import re\n",
    "a = r'\\'\n",
    "re.findall(r'\\\\', a)"
   ]
  },
  {
   "cell_type": "markdown",
   "id": "37b35e80-3548-494c-943c-d2b1f7e9f370",
   "metadata": {},
   "source": [
    "A raw string cannot end in a single backslash since the backslash would escape the following quote character. This means: \n",
    "> **use only even** (not odd) **number of `\\` in the end of the string, even if it is a raw-string**.\n",
    "\n",
    "Raw strings are not 100% raw, there is still some rudimentary backslash-processing.  \n",
    "[source](https://stackoverflow.com/questions/647769/why-cant-pythons-raw-string-literals-end-with-a-single-backslash)"
   ]
  },
  {
   "cell_type": "code",
   "execution_count": 240,
   "id": "60451f3c-ea43-4227-af89-75d98f8ea18e",
   "metadata": {},
   "outputs": [
    {
     "ename": "SyntaxError",
     "evalue": "unterminated string literal (detected at line 2) (837609679.py, line 2)",
     "output_type": "error",
     "traceback": [
      "\u001b[1;36m  Cell \u001b[1;32mIn [240], line 2\u001b[1;36m\u001b[0m\n\u001b[1;33m    a = r'abc\\\\\\'  # 3 back-slashes\u001b[0m\n\u001b[1;37m        ^\u001b[0m\n\u001b[1;31mSyntaxError\u001b[0m\u001b[1;31m:\u001b[0m unterminated string literal (detected at line 2)\n"
     ]
    }
   ],
   "source": [
    "import re\n",
    "a = r'abc\\\\\\'  # 3 back-slashes\n",
    "re.findall(r'\\\\', a)"
   ]
  },
  {
   "cell_type": "code",
   "execution_count": 218,
   "id": "c5a33784-841f-4bb9-b317-902076d9b76c",
   "metadata": {},
   "outputs": [
    {
     "name": "stdout",
     "output_type": "stream",
     "text": [
      "1) \\\\\n",
      "2) ['\\\\', '\\\\'] \tand it only looks like two pairs in the list\n",
      "3) \\ and \\ \t\twe have two lonely back-slashes in the list\n"
     ]
    }
   ],
   "source": [
    "import re\n",
    "a = '\\\\\\\\'  # 4 back-slashes\n",
    "b = re.findall(r'\\\\', a)\n",
    "\n",
    "print('1)', a)\n",
    "print('2)', b, '\\tand it only looks like two pairs in the list')\n",
    "print('3)', b[0], 'and', b[1], '\\t\\twe have two lonely back-slashes in the list')\n"
   ]
  },
  {
   "cell_type": "markdown",
   "id": "ab390c84-d2f0-440d-8ce5-d705b5161457",
   "metadata": {},
   "source": [
    "### More examples"
   ]
  },
  {
   "cell_type": "code",
   "execution_count": 237,
   "id": "778e65e4-f1d8-43d7-a6f7-c42960f2f4bd",
   "metadata": {},
   "outputs": [
    {
     "name": "stdout",
     "output_type": "stream",
     "text": [
      "1) \\\n",
      "2) ['\\\\']\n",
      "We got error: bad escape (end of pattern) at position 0\n"
     ]
    }
   ],
   "source": [
    "import re\n",
    "a = '\\\\'\n",
    "print('1)', a)\n",
    "print('2)', re.findall(r'\\\\', a))\n",
    "try:\n",
    "    print('3)', re.findall('\\\\', a))\n",
    "except Exception as err:\n",
    "    print('We got error:', err)"
   ]
  },
  {
   "cell_type": "markdown",
   "id": "743a5efe-0837-4057-95a7-1434625220bc",
   "metadata": {},
   "source": [
    "Why the third case gets an error? Check the beginning of the unit.\n",
    "\n",
    "But let's look at the problem from another side. As we just have seen the result in the 4 back-slashes in the given string `a` example, a pair of visible back-slashes `\\\\` in the `.findall` raw-string gets a pair of visible back-slashes `'\\\\'` in the  given string `a`. When we removed `r` literal before the `.findall` string our `\\\\` becomes just one `\\` (the first `\\` in the pair escapes the second one).\n",
    "\n",
    "Thus, as we already know, to get the same result as in r'string' we need to type four (two pairs) of `\\` in the ordinary `.findall` string - each pair produces one `\\`, so we will get a needed pair to match the pair in the given string `a`. \n",
    "\n",
    "These examples just show the same proposition:"
   ]
  },
  {
   "cell_type": "code",
   "execution_count": 220,
   "id": "aa2f8fd3-b5b9-4fb6-a1f0-efa9b8da5e5b",
   "metadata": {},
   "outputs": [
    {
     "name": "stdout",
     "output_type": "stream",
     "text": [
      "1) \\\n",
      "2) ['\\\\']\n",
      "3) ['\\\\']\n"
     ]
    }
   ],
   "source": [
    "import re\n",
    "a = '\\\\'\n",
    "print('1)', a)\n",
    "print('2)', re.findall(r'\\\\', a))\n",
    "print('3)', re.findall('\\\\\\\\', a))  # 4 back-slahes match one given back-slash"
   ]
  },
  {
   "cell_type": "code",
   "execution_count": 223,
   "id": "ebb41726-9c71-48e9-b454-0da664a35185",
   "metadata": {},
   "outputs": [
    {
     "name": "stdout",
     "output_type": "stream",
     "text": [
      "1) \\\\\n",
      "2) ['\\\\', '\\\\']\n",
      "3) ['\\\\', '\\\\']\n"
     ]
    }
   ],
   "source": [
    "import re\n",
    "a = r'\\\\'\n",
    "print('1)', a)\n",
    "print('2)', re.findall(r'\\\\', a))\n",
    "print('3)', re.findall('\\\\\\\\', a))  # 4 back-slahes match two given back-slashes (one at a time)"
   ]
  },
  {
   "cell_type": "markdown",
   "id": "66842e69-917c-4aed-9d26-69e0966467d8",
   "metadata": {},
   "source": [
    "So, in `.findall` raw-string, unlike the given `a` raw-string, we always need additional `\\` to escape the followed `\\`. More over, if we use ordinary `.findall` string we will need twice more `\\` than in the raw one if we want to match the given escaped `\\`.\n",
    "\n",
    "And the last example just to fix this information:"
   ]
  },
  {
   "cell_type": "code",
   "execution_count": 248,
   "id": "288f5f0b-8d93-46a3-b278-ad6f8e51957c",
   "metadata": {},
   "outputs": [
    {
     "name": "stdout",
     "output_type": "stream",
     "text": [
      "\\n 2\n",
      "[] \t\tan empty list\n",
      "['\\\\n'] : \\n \ta desired match\n"
     ]
    }
   ],
   "source": [
    "import re\n",
    "a = r'\\n'\n",
    "print(a, len(a))\n",
    "print(re.findall(r'\\n', a), '\\t\\tan empty list')\n",
    "print(re.findall(r'\\\\n', a), ':', re.findall(r'\\\\n', a)[0], '\\ta desired match')"
   ]
  },
  {
   "cell_type": "markdown",
   "id": "2debbcce-4029-487a-bf08-90f3c9fe465a",
   "metadata": {
    "tags": []
   },
   "source": [
    "# 1. Regular Expression Syntax"
   ]
  },
  {
   "cell_type": "markdown",
   "id": "9254e49c-f1ae-4593-82f0-41ef266d9e58",
   "metadata": {},
   "source": [
    "Regular expressions can contain both **special** and **ordinary** characters. "
   ]
  },
  {
   "cell_type": "markdown",
   "id": "65175c61-8a41-42f7-a838-4baa52031c55",
   "metadata": {},
   "source": [
    "## 1.1 **Types of characters**"
   ]
  },
  {
   "cell_type": "markdown",
   "id": "be7f2c32-20f9-451e-8ab8-58ac8eab9756",
   "metadata": {},
   "source": [
    "### Ordinary characters"
   ]
  },
  {
   "cell_type": "markdown",
   "id": "7549441f-d468-4448-9151-7a0652865e5b",
   "metadata": {},
   "source": [
    "Most ordinary characters, like `'A'`, `'a'`, or `'0'`, are the simplest regular expressions; they simply match themselves. You can concatenate ordinary characters, so `last` matches the string `'last'`. \n",
    "\n",
    "In the rest of this section, we’ll write RE’s in this `special style`, usually without quotes, and strings to be matched `'in single quotes'`."
   ]
  },
  {
   "cell_type": "markdown",
   "id": "905475f1-68ea-4e03-b3a5-c6641152291c",
   "metadata": {},
   "source": [
    "### Special characters"
   ]
  },
  {
   "cell_type": "markdown",
   "id": "12b2586b-3e3f-41ab-b1bf-eb7aa8eb7457",
   "metadata": {},
   "source": [
    "Special characters (like `'|'` or `'('`) \n",
    "- either stand for classes of ordinary characters, \n",
    "- or affect how the regular expressions around them are interpreted."
   ]
  },
  {
   "cell_type": "markdown",
   "id": "87b1e089-bc04-4083-9424-59697cdc07cc",
   "metadata": {},
   "source": [
    "### Quantifiers"
   ]
  },
  {
   "cell_type": "markdown",
   "id": "18febbb1-e938-4e2c-97db-c3fbb2751866",
   "metadata": {},
   "source": [
    "**Repetition operators** or **quantifiers** (`*`, `+`, `?`, `{m,n}`, etc) cannot be directly nested. This avoids ambiguity with the **non-greedy** modifier suffix `?`, and with other modifiers in other implementations. \n",
    "\n",
    "To apply a second repetition to an inner repetition, parentheses may be used. For example, the expression \n",
    "\n",
    "`(?:a{6})*` \n",
    "\n",
    "matches any multiple of six `'a'` characters."
   ]
  },
  {
   "cell_type": "markdown",
   "id": "b92779b7-9a5c-4c6e-83e6-5ab38de43e56",
   "metadata": {},
   "source": [
    "## 1.2 **Special Characters**"
   ]
  },
  {
   "cell_type": "markdown",
   "id": "e2c7acca-d9e5-4c7d-80ca-872545d6b97f",
   "metadata": {},
   "source": [
    "### **`.`**\n",
    "\n",
    "(Dot.) In the default mode, this matches **any character except a newline**. \n",
    "\n",
    "If the `DOTALL` flag has been specified, this matches any character including a newline."
   ]
  },
  {
   "cell_type": "code",
   "execution_count": 21,
   "id": "7a57a43a-5dc8-4f6c-8c6e-79df658ec395",
   "metadata": {},
   "outputs": [
    {
     "name": "stdout",
     "output_type": "stream",
     "text": [
      "['hey']\n",
      "['ey ', 'ey ', 'ey ']\n",
      "[]\n"
     ]
    }
   ],
   "source": [
    "import re\n",
    "print(re.findall('h..', 'hey Hey Hey Hey'))\n",
    "print(re.findall('e..', 'hey Hey Hey Hey'))\n",
    "print(re.findall('a..', 'hey Hey Hey Hey'))"
   ]
  },
  {
   "cell_type": "markdown",
   "id": "6f53890f-af4b-4ed2-883b-ae9aaa730287",
   "metadata": {},
   "source": [
    "### **`^`**\n",
    "(Caret.) Matches the start of the string, and in [MULTILINE](https://docs.python.org/3/library/re.html#re.MULTILINE) mode also matches immediately after each newline."
   ]
  },
  {
   "cell_type": "code",
   "execution_count": 67,
   "id": "71fbad7d-8b29-4ffd-ba55-910b6d0106d5",
   "metadata": {},
   "outputs": [
    {
     "name": "stdout",
     "output_type": "stream",
     "text": [
      "['h']\n",
      "['he']\n"
     ]
    }
   ],
   "source": [
    "import re\n",
    "print(re.findall('^.', 'hey Hey Hey Hey'))\n",
    "print(re.findall('^..', 'hey Hey Hey Hey'))"
   ]
  },
  {
   "cell_type": "code",
   "execution_count": 66,
   "id": "0a6eaa00-cbcb-43b5-b8e3-ed631d02fbb4",
   "metadata": {},
   "outputs": [
    {
     "name": "stdout",
     "output_type": "stream",
     "text": [
      "[]\n",
      "['he']\n"
     ]
    }
   ],
   "source": [
    "import re\n",
    "print(re.findall('^..', '\\nhey Hey Hey Hey'))\n",
    "print(re.findall('^..', '\\nhey Hey Hey Hey', flags=re.MULTILINE))"
   ]
  },
  {
   "cell_type": "markdown",
   "id": "8daa508e-4dac-4b33-9dbb-f7e4ee8d8182",
   "metadata": {},
   "source": [
    "### **`$`**\n",
    "Matches the **end of the string or just before the newline at the end of the string**, and in [MULTILINE](https://docs.python.org/3/library/re.html#re.MULTILINE) mode _also_ matches before a newline. \n",
    "\n",
    "`foo` matches both `‘foo’` and `‘foobar’`, while the regular expression `foo$` matches only `‘foo’`:"
   ]
  },
  {
   "cell_type": "code",
   "execution_count": 249,
   "id": "d096e54a-8761-4280-b479-f41341a2aa23",
   "metadata": {},
   "outputs": [
    {
     "name": "stdout",
     "output_type": "stream",
     "text": [
      "['foo']\n",
      "['foo']\n"
     ]
    }
   ],
   "source": [
    "import re\n",
    "print(re.findall('foo', 'foo'))\n",
    "print(re.findall('foo$', 'foo'))"
   ]
  },
  {
   "cell_type": "code",
   "execution_count": 250,
   "id": "30907921-9832-4eb6-bb1b-4ba435bded54",
   "metadata": {},
   "outputs": [
    {
     "name": "stdout",
     "output_type": "stream",
     "text": [
      "['foo']\n",
      "[]\n"
     ]
    }
   ],
   "source": [
    "import re\n",
    "print(re.findall('foo', 'foobar'))\n",
    "print(re.findall('foo$', 'foobar'))"
   ]
  },
  {
   "cell_type": "markdown",
   "id": "5dd93b86-cc9c-4632-8f55-a0e31d9783d5",
   "metadata": {},
   "source": [
    "More interestingly, \n",
    "\n",
    "- searching for `foo.$` in `'foo1\\nfoo2\\n'` matches `‘foo2’` normally, but `‘foo1’` in [MULTILINE](https://docs.python.org/3/library/re.html#re.MULTILINE) mode:"
   ]
  },
  {
   "cell_type": "code",
   "execution_count": 62,
   "id": "512ce34d-fd1d-465e-a88e-a58df87a30b7",
   "metadata": {},
   "outputs": [
    {
     "name": "stdout",
     "output_type": "stream",
     "text": [
      "['foo2']\n",
      "['foo1', 'foo2']\n"
     ]
    }
   ],
   "source": [
    "import re\n",
    "print(re.findall('foo.$', 'foo1\\nfoo2\\n'))\n",
    "print(re.findall('foo.$', 'foo1\\nfoo2\\n', flags=re.MULTILINE))"
   ]
  },
  {
   "cell_type": "markdown",
   "id": "e91b2b91-435f-4d78-804a-c1a47f58ea95",
   "metadata": {},
   "source": [
    "- searching for a single `$` in `'foo\\n'` will find two (empty) matches: one just before the newline, and one at the end of the string."
   ]
  },
  {
   "cell_type": "code",
   "execution_count": 253,
   "id": "61a83abc-7d9b-4a37-b8b4-54c8853f3343",
   "metadata": {},
   "outputs": [
    {
     "name": "stdout",
     "output_type": "stream",
     "text": [
      "['']\n",
      "['', '']\n"
     ]
    }
   ],
   "source": [
    "import re\n",
    "print(re.findall('$', 'foo'))\n",
    "print(re.findall('$', 'foo\\n'))"
   ]
  },
  {
   "cell_type": "code",
   "execution_count": 61,
   "id": "0ca31e01-f96b-4749-9d3d-9ed10585f238",
   "metadata": {},
   "outputs": [
    {
     "name": "stdout",
     "output_type": "stream",
     "text": [
      "['', '']\n",
      "['', '', '']\n"
     ]
    }
   ],
   "source": [
    "import re\n",
    "print(re.findall('$', 'foo1\\nfoo2\\n'))\n",
    "print(re.findall('$', 'foo1\\nfoo2\\n', flags=re.MULTILINE))"
   ]
  },
  {
   "cell_type": "code",
   "execution_count": null,
   "id": "6ae6ab83-b679-43d9-80cc-7ad1a5b572f3",
   "metadata": {},
   "outputs": [],
   "source": []
  },
  {
   "cell_type": "code",
   "execution_count": null,
   "id": "caab1ae1-c9f4-45af-8ce3-8249150363b7",
   "metadata": {},
   "outputs": [],
   "source": []
  },
  {
   "cell_type": "code",
   "execution_count": null,
   "id": "271675a8-45fe-4ab1-895f-00a98f7b9f2a",
   "metadata": {},
   "outputs": [],
   "source": []
  },
  {
   "cell_type": "code",
   "execution_count": null,
   "id": "c244e693-ce61-4ed6-a203-eaaa3f50aa92",
   "metadata": {},
   "outputs": [],
   "source": []
  },
  {
   "cell_type": "code",
   "execution_count": null,
   "id": "27d02da4-945e-4617-a9cf-2d082d48a559",
   "metadata": {},
   "outputs": [],
   "source": []
  },
  {
   "cell_type": "code",
   "execution_count": null,
   "id": "45b2d769-3781-42ab-9aec-300cdcac1a6e",
   "metadata": {},
   "outputs": [],
   "source": []
  },
  {
   "cell_type": "code",
   "execution_count": null,
   "id": "f070e937-4aba-4db6-8d67-c21d5e87b7a3",
   "metadata": {},
   "outputs": [],
   "source": []
  },
  {
   "cell_type": "code",
   "execution_count": null,
   "id": "56c0aaea-2281-43a2-b8d8-903f0b736645",
   "metadata": {},
   "outputs": [],
   "source": []
  },
  {
   "cell_type": "code",
   "execution_count": null,
   "id": "3bb8dca3-8423-4383-9a40-60f4b6dfa057",
   "metadata": {},
   "outputs": [],
   "source": []
  },
  {
   "cell_type": "code",
   "execution_count": null,
   "id": "100856d8-fc1d-4b63-a4ff-3ba8bc3ce537",
   "metadata": {},
   "outputs": [],
   "source": []
  },
  {
   "cell_type": "code",
   "execution_count": null,
   "id": "bf163f05-b3cd-4b5c-b305-a2067b6d3c55",
   "metadata": {},
   "outputs": [],
   "source": []
  },
  {
   "cell_type": "code",
   "execution_count": null,
   "id": "42cdaa12-936d-410f-ba45-5fd63d820c9b",
   "metadata": {},
   "outputs": [],
   "source": []
  }
 ],
 "metadata": {
  "kernelspec": {
   "display_name": "Python 3 (ipykernel)",
   "language": "python",
   "name": "python3"
  },
  "language_info": {
   "codemirror_mode": {
    "name": "ipython",
    "version": 3
   },
   "file_extension": ".py",
   "mimetype": "text/x-python",
   "name": "python",
   "nbconvert_exporter": "python",
   "pygments_lexer": "ipython3",
   "version": "3.11.0"
  }
 },
 "nbformat": 4,
 "nbformat_minor": 5
}
