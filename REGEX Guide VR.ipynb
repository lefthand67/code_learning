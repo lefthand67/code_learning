{
 "cells": [
  {
   "cell_type": "markdown",
   "id": "e8dad6fb-d871-44ef-82eb-325e09ff2dc5",
   "metadata": {},
   "source": [
    "# REGULAR EXPRESSIONS"
   ]
  },
  {
   "cell_type": "markdown",
   "id": "1527c963-3ba7-486d-9309-b2bfaf7b68af",
   "metadata": {
    "tags": []
   },
   "source": [
    "## Intro\n",
    "\n",
    "Регулярные выражения - выражения для поиска и замены части текста в строке или файле. Для работы с ними необходимо подключить модуль **\"re\"** из стандартной библиотеки Python."
   ]
  },
  {
   "cell_type": "code",
   "execution_count": 22,
   "id": "071a26e4-e344-4301-8684-e4d46c99420d",
   "metadata": {},
   "outputs": [],
   "source": [
    "import re"
   ]
  },
  {
   "cell_type": "markdown",
   "id": "1f582a5f-122a-4724-86a7-fb84699317e4",
   "metadata": {},
   "source": [
    "Наиболее часто регулярные выражения используются для поиска в строке, разбиении строк, замены части строк. \n",
    "\n",
    "Also called \"regex\" or \"regexp\". It is smart \"find\" or \"search\" in the text.\n",
    "\n",
    "The language comes form 1960's. It's **character** based.\n",
    "\n",
    "[Documentation](https://docs.python.org/3/library/re.html)\n",
    "\n",
    "This module provides regular expression matching operations similar to those found in Perl.\n",
    "\n",
    "Both patterns and strings to be searched can be Unicode strings (str) as well as 8-bit strings (bytes). However, Unicode strings and 8-bit strings cannot be mixed: that is, you cannot match a Unicode string with a byte pattern or vice-versa; similarly, when asking for a substitution, the replacement string must be of the same type as both the pattern and the search string."
   ]
  },
  {
   "cell_type": "markdown",
   "id": "f2f777e7-3495-4b3f-865d-b41212d3203d",
   "metadata": {},
   "source": [
    "## Escape sequences `\\`\n",
    "\n",
    "Regular expressions use the backslash character `\\` to indicate special forms or to allow special characters to be used without invoking their special meaning. \n",
    "\n",
    "> The backslash (\\) character is used to escape characters that otherwise have a special meaning, such as newline, backslash itself, or the quote character. [source](https://docs.python.org/3/reference/lexical_analysis.html)\n",
    "\n",
    "This collides with Python’s usage of the same character for the same purpose in string literals; for example, to match a literal backslash, one might have to write `\\\\\\\\` as the pattern string, because the regular expression must be `\\\\`, and each backslash must be expressed as `\\\\` (to let Python know we we want just one `\\`) inside a regular Python string literal. "
   ]
  },
  {
   "cell_type": "code",
   "execution_count": 13,
   "id": "d01ed374-8674-4139-994d-5d8232dd834e",
   "metadata": {},
   "outputs": [
    {
     "ename": "SyntaxError",
     "evalue": "unterminated string literal (detected at line 1) (3986968758.py, line 1)",
     "output_type": "error",
     "traceback": [
      "\u001b[1;36m  Cell \u001b[1;32mIn [13], line 1\u001b[1;36m\u001b[0m\n\u001b[1;33m    a = '\\'\u001b[0m\n\u001b[1;37m        ^\u001b[0m\n\u001b[1;31mSyntaxError\u001b[0m\u001b[1;31m:\u001b[0m unterminated string literal (detected at line 1)\n"
     ]
    }
   ],
   "source": [
    "a = '\\'\n",
    "a"
   ]
  },
  {
   "cell_type": "code",
   "execution_count": 15,
   "id": "765a46fb-5b80-4442-9be2-ae1c5427d538",
   "metadata": {},
   "outputs": [
    {
     "data": {
      "text/plain": [
       "['\\\\']"
      ]
     },
     "execution_count": 15,
     "metadata": {},
     "output_type": "execute_result"
    }
   ],
   "source": [
    "a = '\\\\'\n",
    "y = re.findall('\\\\\\\\', a)\n",
    "y"
   ]
  },
  {
   "cell_type": "markdown",
   "id": "1ad5f2a6-8e01-46ac-ba08-e7facb3feefb",
   "metadata": {},
   "source": [
    "Also, please note that any invalid escape sequences (игнорирование спецсимвола) in Python’s usage of the backslash in string literals now generate a `DeprecationWarning` and in the future this will become a `SyntaxError`. This behaviour will happen even if it is a valid escape sequence for a regular expression."
   ]
  },
  {
   "cell_type": "markdown",
   "id": "c2a16e57-7001-4ae9-988d-0ce901772687",
   "metadata": {},
   "source": [
    "### Raw String usage `r'string'`"
   ]
  },
  {
   "cell_type": "markdown",
   "id": "e674f8ca-211f-44d8-8d63-64e45fcf6aa1",
   "metadata": {},
   "source": [
    "The solution is to use Python’s raw string notation for regular expression patterns; backslashes are not handled in any special way in a string literal prefixed with `'r'`. So `r\"\\n\"` is a two-character string containing `'\\'` and `'n'`, while `\"\\n\"` is a one-character string containing a newline. Usually patterns will be expressed in Python code using this raw string notation."
   ]
  },
  {
   "cell_type": "code",
   "execution_count": 20,
   "id": "4510bccd-14dd-4675-aa49-0ffc0fe75a9d",
   "metadata": {},
   "outputs": [
    {
     "name": "stdout",
     "output_type": "stream",
     "text": [
      "a: \\n\n",
      "b: \n",
      "\n"
     ]
    }
   ],
   "source": [
    "a = r'\\n'\n",
    "b = '\\n'\n",
    "print('a:', a)\n",
    "print('b:', b)"
   ]
  },
  {
   "cell_type": "code",
   "execution_count": 21,
   "id": "778e65e4-f1d8-43d7-a6f7-c42960f2f4bd",
   "metadata": {},
   "outputs": [
    {
     "data": {
      "text/plain": [
       "['\\\\']"
      ]
     },
     "execution_count": 21,
     "metadata": {},
     "output_type": "execute_result"
    }
   ],
   "source": [
    "a = '\\\\'\n",
    "y = re.findall(r'\\\\', a)\n",
    "y"
   ]
  },
  {
   "cell_type": "markdown",
   "id": "45c05974-b870-4011-b928-a48eac0f1836",
   "metadata": {},
   "source": [
    "## `re` methods"
   ]
  },
  {
   "cell_type": "markdown",
   "id": "75f83fb9-f892-4fdf-9f53-0ff2e752af05",
   "metadata": {},
   "source": [
    "### **re.match**(шаблон, строка) \n",
    "- ищет заданный шаблон с самого начала строки."
   ]
  },
  {
   "cell_type": "code",
   "execution_count": 2,
   "id": "d04ebcc1-3fed-414f-8f7c-c3e2427d2f65",
   "metadata": {},
   "outputs": [
    {
     "name": "stdout",
     "output_type": "stream",
     "text": [
      "<re.Match object; span=(0, 3), match='Hey'>\n",
      "Данные нашлись\n"
     ]
    }
   ],
   "source": [
    "import re\n",
    "print(re.match(r'Hey', 'Hey Hey'))\n",
    "\n",
    "print('Данные нашлись')"
   ]
  },
  {
   "cell_type": "code",
   "execution_count": 3,
   "id": "edd7a5f0-4e16-4987-9338-8f119a83471b",
   "metadata": {},
   "outputs": [
    {
     "name": "stdout",
     "output_type": "stream",
     "text": [
      "None\n",
      "Данные не нашлись, т.к. строка отличается от шаблона с первого символа.\n",
      "Обратите внимание на синтаксис, перед шаблоном ставится латинская буква r\n",
      "Ну-ну, буква r не нужна\n"
     ]
    }
   ],
   "source": [
    "import re\n",
    "print(re.match('Hey', 'hey Hey'))\n",
    "\n",
    "print('Данные не нашлись, т.к. строка отличается от шаблона с первого символа.')\n",
    "print('Обратите внимание на синтаксис, перед шаблоном ставится латинская буква r')\n",
    "print('Ну-ну, буква r не нужна')"
   ]
  },
  {
   "cell_type": "markdown",
   "id": "34aa4b3c-c9b4-4d87-a623-385a31843180",
   "metadata": {},
   "source": [
    "### **re.search**(шаблон, строка) \n",
    "- ищет заданный шаблон по всей строке, возвращает результат при первом совпадении."
   ]
  },
  {
   "cell_type": "code",
   "execution_count": 10,
   "id": "a8f03aea-4f39-4cc9-a717-ec4cc3b2fef5",
   "metadata": {},
   "outputs": [
    {
     "name": "stdout",
     "output_type": "stream",
     "text": [
      "Hey\n"
     ]
    }
   ],
   "source": [
    "import re\n",
    "print(re.search('Hey', 'hey Hey').group(0))     # Добавляем метод group(), чтобы вывести содержимое поиска"
   ]
  },
  {
   "cell_type": "markdown",
   "id": "fcba8f51-085a-4598-a2fb-792b1187985b",
   "metadata": {},
   "source": [
    "### **re.findall**(шаблон, строка)\n",
    "- ищет заданный шаблон и возвращает все совпадения в виде **списка**."
   ]
  },
  {
   "cell_type": "code",
   "execution_count": 4,
   "id": "6a411ca5-2884-4fa8-a8c7-80d7c721809e",
   "metadata": {},
   "outputs": [
    {
     "name": "stdout",
     "output_type": "stream",
     "text": [
      "['Hey', 'Hey', 'Hey']\n"
     ]
    }
   ],
   "source": [
    "import re\n",
    "print(re.findall('Hey', 'hey Hey Hey Hey'))"
   ]
  },
  {
   "cell_type": "markdown",
   "id": "5962dc50-2579-4d0c-9dfb-6d2c659648b9",
   "metadata": {},
   "source": [
    "### **re.split**(шаблон, строка) \n",
    "- разделяет строку по заданному шаблону"
   ]
  },
  {
   "cell_type": "code",
   "execution_count": 13,
   "id": "8b02a588-bee5-4ca0-b5ab-aa923ae626e4",
   "metadata": {},
   "outputs": [
    {
     "name": "stdout",
     "output_type": "stream",
     "text": [
      "['he', ' He', ' He', ' He', '']\n"
     ]
    }
   ],
   "source": [
    "import re\n",
    "a = 'hey Hey Hey Hey'\n",
    "print(re.split('y', a)) "
   ]
  },
  {
   "cell_type": "markdown",
   "id": "b9737628-4ad6-4363-9f31-f44030427c88",
   "metadata": {},
   "source": [
    "### **re.sub**(шаблон, замена, строка) \n",
    "- находит шаблон в строке и производит замену"
   ]
  },
  {
   "cell_type": "code",
   "execution_count": 14,
   "id": "8a2aa849-4acc-4da0-aae6-332c60ea474d",
   "metadata": {},
   "outputs": [
    {
     "name": "stdout",
     "output_type": "stream",
     "text": [
      "hey ? ? ?\n"
     ]
    }
   ],
   "source": [
    "import re\n",
    "a = 'hey Hey Hey Hey'\n",
    "print(re.sub('Hey', '?', a))"
   ]
  },
  {
   "cell_type": "markdown",
   "id": "f560b87d-361f-4eb3-a7aa-091bfe6ef101",
   "metadata": {},
   "source": [
    "### **re.compile**(шаблон) \n",
    "- позволяет собирать регулярное выражение в отдельный объект для последующего использования"
   ]
  },
  {
   "cell_type": "code",
   "execution_count": 15,
   "id": "561c3d27-aa2d-41f4-921e-0d17d168619e",
   "metadata": {},
   "outputs": [
    {
     "name": "stdout",
     "output_type": "stream",
     "text": [
      "['Hey', 'Hey']\n",
      "['Hey']\n"
     ]
    }
   ],
   "source": [
    "ex_str = re.compile('Hey')\n",
    "\n",
    "result = ex_str.findall('hey Hey Hey')\n",
    "print (result)\n",
    "\n",
    "result2 = ex_str.findall('Hey')\n",
    "print (result2)"
   ]
  },
  {
   "cell_type": "markdown",
   "id": "ad294865-16fe-4121-b27d-80c77b8ec2bb",
   "metadata": {},
   "source": [
    "Перейдем к самой интересной части - представьте, что вам необходимо произвести чтение \"грязного\" файла и убрать из него все лишнее, но при этом вы не можете сказать точно, что необходимо убрать. Эту задачу можно решить, используя специальные символы:"
   ]
  },
  {
   "cell_type": "markdown",
   "id": "5e9764c5-d139-473a-9e5b-fe1550684adb",
   "metadata": {},
   "source": [
    "### `.`   \n",
    "Один любой символ, кроме символа переноса строки `\\n`"
   ]
  },
  {
   "cell_type": "code",
   "execution_count": 10,
   "id": "23270edb-a850-4380-9f81-55e90a33654b",
   "metadata": {},
   "outputs": [
    {
     "name": "stdout",
     "output_type": "stream",
     "text": [
      "['hey']\n"
     ]
    }
   ],
   "source": [
    "print(re.findall(r'h..', 'hey Hey Hey Hey'))"
   ]
  },
  {
   "cell_type": "code",
   "execution_count": null,
   "id": "f9bac075-6fde-47d4-a5c8-e71b9c7eed85",
   "metadata": {},
   "outputs": [],
   "source": []
  }
 ],
 "metadata": {
  "kernelspec": {
   "display_name": "Python 3 (ipykernel)",
   "language": "python",
   "name": "python3"
  },
  "language_info": {
   "codemirror_mode": {
    "name": "ipython",
    "version": 3
   },
   "file_extension": ".py",
   "mimetype": "text/x-python",
   "name": "python",
   "nbconvert_exporter": "python",
   "pygments_lexer": "ipython3",
   "version": "3.11.0"
  }
 },
 "nbformat": 4,
 "nbformat_minor": 5
}
