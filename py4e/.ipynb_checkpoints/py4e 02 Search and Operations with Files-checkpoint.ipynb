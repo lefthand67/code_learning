{
 "cells": [
  {
   "cell_type": "markdown",
   "id": "9d7538b3",
   "metadata": {},
   "source": [
    "### Search Using a BOOLEAN Variable"
   ]
  },
  {
   "cell_type": "code",
   "execution_count": 20,
   "id": "af37664b",
   "metadata": {
    "collapsed": true
   },
   "outputs": [
    {
     "name": "stdout",
     "output_type": "stream",
     "text": [
      "False -45\n",
      "False 75\n",
      "False 2\n",
      "False -2\n",
      "True 3 Done\n"
     ]
    }
   ],
   "source": [
    "found = False\n",
    "list = [-45, 75, 2, -2, 3, 94, -5, 34, -20]\n",
    "for i in list:\n",
    "    if i == 3:\n",
    "        found = True\n",
    "        print(found, i, 'Done')\n",
    "        break\n",
    "    print(found, i)"
   ]
  },
  {
   "cell_type": "markdown",
   "id": "da122258",
   "metadata": {},
   "source": [
    "### Parsing and Extracting with .FIND\n",
    "\n",
    "str.**find**(_sub_**[**, _start_**[**, _end_**]]**)\n",
    "\n",
    "[source](https://docs.python.org/3/library/stdtypes.html)"
   ]
  },
  {
   "cell_type": "code",
   "execution_count": 1,
   "id": "653c2d24",
   "metadata": {},
   "outputs": [
    {
     "name": "stdout",
     "output_type": "stream",
     "text": [
      "10\n",
      "20\n",
      "yandex.ru\n"
     ]
    }
   ],
   "source": [
    "data = \"lefthand89@yandex.ru Sat Sept 24\"\n",
    "\n",
    "# searching for @ nsign position\n",
    "atpos = data.find('@')\n",
    "print(atpos)\n",
    "\n",
    "#searching for a space position\n",
    "sppos = data.find(' ', atpos, 21)\n",
    "print(sppos)\n",
    "\n",
    "#extracting the suffix using string slicing\n",
    "host = data[atpos+1 : sppos]\n",
    "print(host)"
   ]
  },
  {
   "cell_type": "markdown",
   "id": "2c7046e2",
   "metadata": {},
   "source": [
    "### Advanced script for extracting the host names from the emails in a mailbox doc (VR)"
   ]
  },
  {
   "cell_type": "code",
   "execution_count": 1,
   "id": "e2aee03c",
   "metadata": {
    "collapsed": true
   },
   "outputs": [
    {
     "name": "stdout",
     "output_type": "stream",
     "text": [
      "Found in: 336 lines\n",
      "\n",
      "EMAIL LIST of 10 adresses: \n",
      "['uct.ac.za', 'collab.sakaiproject.org', 'nakamura.uits.iupui.edu', 'localhost', 'media.berkeley.edu', 'umich.edu', 'iupui.edu', 'caret.cam.ac.uk', 'gmail.com', 'david-horwitz-6:~/branchManagemnt/sakai_2-5-x']\n"
     ]
    }
   ],
   "source": [
    "fhand = open('mbox-short.txt')\n",
    "\n",
    "email_list = list()\n",
    "count = 0\n",
    "total_number = 0\n",
    "\n",
    "for line in fhand:\n",
    "    count = count + 1\n",
    "    if '@' not in line: \n",
    "        continue\n",
    "    else: \n",
    "        atpos = line.find('@')\n",
    "        sppos = line.find(' ', atpos)\n",
    "        host = line[atpos+1 : sppos]\n",
    "        host = host.rstrip('>')\n",
    "        host = host.rstrip('>;')\n",
    "        host = host.rstrip(';')\n",
    "        host = host.rstrip(')')\n",
    "        total_number = total_number + 1\n",
    "        if host not in email_list:\n",
    "            email_list.append(host)\n",
    "#         print('Line', str(count) + ':', host)\n",
    "print('Found in:', total_number, 'lines')\n",
    "print('\\nEMAIL LIST of', len(email_list), 'adresses:', '\\n' + str(email_list))\n"
   ]
  },
  {
   "cell_type": "markdown",
   "id": "778b3bda",
   "metadata": {},
   "source": [
    "Also check the **DOUBLE Split Pattern** in Ch. 8 (file 03) as an another, more typical, but not as clean as this example."
   ]
  },
  {
   "cell_type": "markdown",
   "id": "3361eb58",
   "metadata": {},
   "source": [
    "# Operations with FILES\n",
    "## Opening, Reading and Writing the File\n",
    "\n",
    "handle = open(**filename**, mode, encoding='utf-8')\n",
    "- filename is a _**string**_,\n",
    "- mode is optional; _**'r'**_ stands for _'reading'_ and _**'w'**_ for _'writing'_,\n",
    "- encoding is for other languages.\n",
    "\n",
    "_**open()**_ is a built-in function that returns a handle not the data.\n",
    "\n",
    "**fhand** = open('mbox.txt', 'r')  \n",
    "'File handle' "
   ]
  },
  {
   "cell_type": "markdown",
   "id": "125c3374",
   "metadata": {},
   "source": [
    "### Reading File"
   ]
  },
  {
   "cell_type": "code",
   "execution_count": 22,
   "id": "3d79681d",
   "metadata": {
    "collapsed": true
   },
   "outputs": [
    {
     "name": "stdout",
     "output_type": "stream",
     "text": [
      "Михаил Шолохов \"Тихий Дон\"\n",
      "\n",
      "Григорий пришел с игрищ после первых кочетов. Из сенцев пахнуло на него запахом перекисших хмелин и пряной сухменью богородицыной травки.\n",
      "\n",
      "На цыпочках прошел в горницу, разделся, бережно повесил праздничные, с лампасами, шаровары, перекрестился, лег. На полу — перерезанная крестом оконного переплета золотая дрема лунного света. В углу под расшитыми полотенцами тусклый глянец серебрёных икон, над кроватью на подвеске тягучий гуд потревоженных мух.\n",
      "\n",
      "Задремал было, но в кухне заплакал братнин ребенок.\n",
      "\n",
      "Немазаной арбой заскрипела люлька. Дарья сонным голосом бормотнула:\n",
      "\n",
      "— Цыц, ты, поганое дите! Ни сну тебе, ни покою. — Запела тихонько:\n",
      "\n",
      "— Колода-дуда,\n",
      "Иде ж ты была?\n",
      "— Коней стерегла.\n",
      "— Чего выстерегла?\n",
      "— Коня с седлом,\n",
      "С золотым махром…\n",
      "\n",
      "Григорий, засыпая под мерный баюкающий скрип, вспомнил: «А ить завтра Петру в лагеря выходить. Останется Дашка с дитем… Косить, должно, без него будем».\n",
      "\n",
      "Зарылся головой в горячую подушку, в уши назойливо сочится:\n",
      "\n",
      "— А иде ж твой конь?\n",
      "— За воротами стоит.\n",
      "— А иде ж ворота?\n",
      "— Вода унесла.\n"
     ]
    }
   ],
   "source": [
    "fhand = open('text.txt', 'r', encoding='utf-8')\n",
    "for line in fhand:\n",
    "    #.rstrip() deletes all the \\n (newline, i.e. whitespace) characters between the lines\n",
    "    # which appear during the printing procedure\n",
    "    line = line.rstrip()\n",
    "    print(line)"
   ]
  },
  {
   "cell_type": "markdown",
   "id": "05b7e6eb",
   "metadata": {},
   "source": [
    "### Counting Lines in a File"
   ]
  },
  {
   "cell_type": "code",
   "execution_count": 23,
   "id": "2098e04c",
   "metadata": {},
   "outputs": [
    {
     "name": "stdout",
     "output_type": "stream",
     "text": [
      "Line Count: 27\n"
     ]
    }
   ],
   "source": [
    "fhand = open('text.txt', 'r', encoding='utf-8')\n",
    "count = 0\n",
    "for line in fhand:\n",
    "    count = count + 1\n",
    "print('Line Count:', count)"
   ]
  },
  {
   "cell_type": "markdown",
   "id": "6c8bf49a",
   "metadata": {},
   "source": [
    "### Reading the \"Whole\" File\n",
    "one big block as a single string"
   ]
  },
  {
   "cell_type": "code",
   "execution_count": 24,
   "id": "05ad8e3a",
   "metadata": {
    "collapsed": true
   },
   "outputs": [
    {
     "name": "stdout",
     "output_type": "stream",
     "text": [
      "Characters Count: 1063\n",
      "Михаил Шолохов \"Тихий Дон\"\n"
     ]
    }
   ],
   "source": [
    "fhand = open('text.txt', 'r', encoding='utf-8')\n",
    "inp = fhand.read()\n",
    "print(\"Characters Count:\", len(inp))\n",
    "print(inp[:26])"
   ]
  },
  {
   "cell_type": "markdown",
   "id": "c6a23fb3",
   "metadata": {},
   "source": [
    "### Searching through a File\n",
    "Printing the lines that meet a certain criteria:"
   ]
  },
  {
   "cell_type": "code",
   "execution_count": 25,
   "id": "2b7cbc04",
   "metadata": {
    "collapsed": true
   },
   "outputs": [
    {
     "name": "stdout",
     "output_type": "stream",
     "text": [
      "Задремал было, но в кухне заплакал братнин ребенок.\n",
      "Зарылся головой в горячую подушку, в уши назойливо сочится:\n"
     ]
    }
   ],
   "source": [
    "fhand = open('text.txt', 'r', encoding='utf-8')\n",
    "for line in fhand:\n",
    "    line = line.rstrip()\n",
    "    if line.startswith(\"З\"):\n",
    "        print(line)"
   ]
  },
  {
   "cell_type": "markdown",
   "id": "4fdb3165",
   "metadata": {},
   "source": [
    "Another way of doing the same operation with **continue**:"
   ]
  },
  {
   "cell_type": "code",
   "execution_count": 26,
   "id": "e1b09ca9",
   "metadata": {
    "collapsed": true
   },
   "outputs": [
    {
     "name": "stdout",
     "output_type": "stream",
     "text": [
      "Задремал было, но в кухне заплакал братнин ребенок.\n",
      "Зарылся головой в горячую подушку, в уши назойливо сочится:\n"
     ]
    }
   ],
   "source": [
    "fhand = open('text.txt', 'r', encoding='utf-8')\n",
    "for line in fhand:\n",
    "    line = line.rstrip()\n",
    "    if not line.startswith(\"З\"):\n",
    "        continue\n",
    "    print(line)"
   ]
  },
  {
   "cell_type": "markdown",
   "id": "07f4f67d",
   "metadata": {},
   "source": [
    "And another way by using **in**:"
   ]
  },
  {
   "cell_type": "code",
   "execution_count": 27,
   "id": "a2430c75",
   "metadata": {
    "collapsed": true
   },
   "outputs": [
    {
     "name": "stdout",
     "output_type": "stream",
     "text": [
      "Задремал было, но в кухне заплакал братнин ребенок.\n"
     ]
    }
   ],
   "source": [
    "fhand = open('text.txt', 'r', encoding='utf-8')\n",
    "for line in fhand:\n",
    "    line = line.rstrip()\n",
    "    if not \"в кухне\" in line:\n",
    "        continue\n",
    "    print(line)"
   ]
  },
  {
   "cell_type": "markdown",
   "id": "c399e048",
   "metadata": {},
   "source": [
    "### Interactive File Reading - INPUT\n",
    "- changing the files;\n",
    "- plus insurance against the traceback ppossibility becasue of the bad file name - TRY / EXCEPT."
   ]
  },
  {
   "cell_type": "code",
   "execution_count": 28,
   "id": "8e5706d7",
   "metadata": {
    "collapsed": true
   },
   "outputs": [
    {
     "name": "stdout",
     "output_type": "stream",
     "text": [
      "Enter the file name: text.txt\n",
      "There were 27 lines in the \"text.txt\".\n"
     ]
    }
   ],
   "source": [
    "fname = input('Enter the file name: ')\n",
    "try:\n",
    "    fhand = open(fname, 'r', encoding='utf-8')\n",
    "except:\n",
    "    print('File cannot be opened: \"' + fname + '\". Try something else.')\n",
    "    quit()\n",
    "\n",
    "try:\n",
    "    count = 0\n",
    "    for line in fhand:\n",
    "        count = count + 1\n",
    "    print('There were', count, 'lines in the \"' + fname + '\".')\n",
    "except:\n",
    "    quit()"
   ]
  },
  {
   "cell_type": "code",
   "execution_count": null,
   "id": "0a4a5cf6",
   "metadata": {},
   "outputs": [],
   "source": []
  }
 ],
 "metadata": {
  "kernelspec": {
   "display_name": "Python 3 (ipykernel)",
   "language": "python",
   "name": "python3"
  },
  "language_info": {
   "codemirror_mode": {
    "name": "ipython",
    "version": 3
   },
   "file_extension": ".py",
   "mimetype": "text/x-python",
   "name": "python",
   "nbconvert_exporter": "python",
   "pygments_lexer": "ipython3",
   "version": "3.8.13"
  }
 },
 "nbformat": 4,
 "nbformat_minor": 5
}
