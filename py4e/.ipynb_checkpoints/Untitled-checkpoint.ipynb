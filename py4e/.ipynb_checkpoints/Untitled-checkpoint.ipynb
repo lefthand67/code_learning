{
 "cells": [
  {
   "cell_type": "code",
   "execution_count": 7,
   "id": "8cadffc2",
   "metadata": {},
   "outputs": [
    {
     "name": "stdout",
     "output_type": "stream",
     "text": [
      "Pluto's a planet.\n",
      "No, it's a dwarf planet.\n",
      "planet!\n",
      "dwarf planet!\n"
     ]
    }
   ],
   "source": [
    "x = 'planet'\n",
    "y = 'dwarf planet'\n",
    "\n",
    "s = \"\"\"Pluto's a {0}.\n",
    "No, it's a {1}.\n",
    "{0}!\n",
    "{1}!\"\"\".format(x, y)\n",
    "print(s)"
   ]
  },
  {
   "cell_type": "code",
   "execution_count": 8,
   "id": "35c30c18",
   "metadata": {},
   "outputs": [
    {
     "name": "stdout",
     "output_type": "stream",
     "text": [
      "range(0, 5)\n"
     ]
    }
   ],
   "source": [
    "print(range(5))"
   ]
  },
  {
   "cell_type": "code",
   "execution_count": 10,
   "id": "f4f5b6c5",
   "metadata": {},
   "outputs": [],
   "source": [
    "import math"
   ]
  },
  {
   "cell_type": "code",
   "execution_count": 11,
   "id": "cb4b1e7c",
   "metadata": {},
   "outputs": [
    {
     "data": {
      "text/plain": [
       "0.6989700043360187"
      ]
     },
     "execution_count": 11,
     "metadata": {},
     "output_type": "execute_result"
    }
   ],
   "source": [
    "math.log(5, 10)"
   ]
  },
  {
   "cell_type": "code",
   "execution_count": 21,
   "id": "2e6e0607",
   "metadata": {},
   "outputs": [
    {
     "name": "stdout",
     "output_type": "stream",
     "text": [
      "Help on wrapper_descriptor:\n",
      "\n",
      "__gt__(self, value, /)\n",
      "    Return self>value.\n",
      "\n"
     ]
    }
   ],
   "source": [
    "# from matplotlib import graph\n",
    "\n",
    "help(object.__gt__)"
   ]
  },
  {
   "cell_type": "code",
   "execution_count": 46,
   "id": "6c43c959",
   "metadata": {},
   "outputs": [
    {
     "name": "stdout",
     "output_type": "stream",
     "text": [
      "1\n"
     ]
    }
   ],
   "source": [
    "hand_1 = ['9', 'Q', '8', 'A']\n",
    "cards = {'1':1, '2':2, '3': 3, '4':4, '5':5, '6':6, '7':7, '8':8, '9':9,'J':10, 'Q':10, 'K': 10}\n",
    "hand_1_sum = 0\n",
    "for card_h1 in hand_1: \n",
    "    cards['A'] = 11\n",
    "    hand_1_sum = hand_1_sum + cards[card_h1]\n",
    "    if hand_1_sum > 21:\n",
    "        cards['A'] = 1\n",
    "for card_h1 in hand_1:\n",
    "    hand_1_sum = 0\n",
    "    cards['A'] = 1\n",
    "    hand_1_sum = hand_1_sum + cards[card_h1]\n",
    "\n",
    "print(hand_1_sum)"
   ]
  },
  {
   "cell_type": "code",
   "execution_count": 71,
   "id": "5b41e00c",
   "metadata": {},
   "outputs": [],
   "source": [
    "hand_1 = ['9', 'Q', '8', 'A']\n",
    "cards = {'1':1, '2':2, '3': 3, '4':4, '5':5, '6':6, '7':7, '8':8, '9':9,'J':10, 'Q':10, 'K': 10}\n",
    "\n",
    "for card_h11 in hand_1:        \n",
    "    hand_1_sum = 0\n",
    "    cards['A'] = 11\n",
    "    hand_1_sum = hand_1_sum + cards[card_h11]\n",
    "    if hand_1_sum > 21:\n",
    "        for card_h12 in hand_1:  \n",
    "            hand_1_sum = 0\n",
    "            cards['A'] = 1\n",
    "            hand_1_sum = hand_1_sum + cards[card_h12]\n",
    "        print(card_h12)"
   ]
  },
  {
   "cell_type": "code",
   "execution_count": 15,
   "id": "6ee8457c",
   "metadata": {},
   "outputs": [],
   "source": [
    "# d_file = input('Enter the default file name to make your life easier: ')  # activate for a script\n",
    "\n",
    "def word_count():\n",
    "    \"\"\"\n",
    "    The Word Count Function\n",
    "    counts the words in the document with disregard to the case of the letters in words and\n",
    "    puts them into a dictionary.\n",
    "    \n",
    "    The function ignores the strings that can be converted to floats and integers. \n",
    "    \n",
    "    NOTE! You can reassign the default file in prompt by activating the line above the function code.\n",
    "    \n",
    "    >>> Output example:\n",
    "    \n",
    "    Enter the file name (press Enter to open the default file): \n",
    "    Opened by default: mbox-short.txt\n",
    "\n",
    "    Length: 1063\n",
    "    Counts: {'from': 326, 'stephen.marquard@uct.ac.za': 8, 'sat': 12, 'jan': 352, '09:14:16': 4, 'return-path': 27}\n",
    "    \n",
    "    \"\"\"\n",
    "    \n",
    "    d_file = 'mbox-short.txt' # a file that be opened by default (Enter button), deactivate when using as script\n",
    "\n",
    "    fname = input('Enter the file name (press Enter to open the default file): ')\n",
    "    if len(fname) < 1:\n",
    "        fname = d_file\n",
    "        print('Opened by default:', d_file)\n",
    "    fhand = open(fname, 'r', encoding='utf-8')\n",
    "\n",
    "    counts = {}\n",
    "    for line in fhand:\n",
    "        line = line.rstrip() and line.lower()\n",
    "        words = line.split()    \n",
    "    #     print('Words:', words)\n",
    "        for word in words:\n",
    "            word = word.strip(',')\n",
    "            word = word.strip('.')\n",
    "            word = word.strip(';')\n",
    "            word = word.strip('?')\n",
    "            word = word.strip('!')\n",
    "            word = word.strip('?!')\n",
    "            word = word.strip('\"')\n",
    "            word = word.strip(':')\n",
    "            word = word.strip('(')\n",
    "            word = word.strip(')')\n",
    "            word = word.strip('[')\n",
    "            word = word.strip(']')\n",
    "            try:                        # the operation filters ints and floats\n",
    "                word = float(word)\n",
    "                continue            \n",
    "            except:                     # we get only non-ints and non-floats in counts list\n",
    "                if len(word) > 0:\n",
    "                    counts[word] = counts.get(word, 0) + 1\n",
    "    print('\\nLength: {}\\nCounts: {}'.format(len(counts),counts))"
   ]
  },
  {
   "cell_type": "code",
   "execution_count": 17,
   "id": "3d1e0384",
   "metadata": {},
   "outputs": [],
   "source": [
    "def most_freq_word():\n",
    "    \n",
    "    \"\"\"\n",
    "    The Most Frequent Word Function\n",
    "    searches for the most frequent word(s) in the document with disregard to the case of \n",
    "    the letters in words. \n",
    "    It shows the \"Largest count\" number (i.e. value in dictionary) and lists all \n",
    "    the words (keys) that are complemented to the value.\n",
    "    \n",
    "    The function ignores the strings that can be converted to floats and integers. \n",
    "    \n",
    "    NOTE! You can reassign the default file in prompt by activating the second line in the function code.\n",
    "    \n",
    "    >>> Output example:\n",
    "    \n",
    "    Enter the file name (press Enter to open the default file): \n",
    "    Opened by default: mbox-short.txt\n",
    "\n",
    "    Largest count: 352\n",
    "    jan\n",
    "\n",
    "    Quantity of words: 1\n",
    "    Most frequent words: ['jan'] <<<\n",
    "    \n",
    "    \"\"\"\n",
    "\n",
    "    d_file = 'mbox-short.txt' # a file that be opened by default (Enter button), deactivate when using as script\n",
    "    # d_file = input('Enter the default file name to make your life easier: ')  # activate for a script\n",
    "\n",
    "    fname = input('Enter the file name (press Enter to open the default file): ')\n",
    "    if len(fname) < 1:\n",
    "        fname = d_file\n",
    "        print('Opened by default:', d_file)\n",
    "    fhand = open(fname, 'r', encoding='utf-8')\n",
    "\n",
    "    counts = {}\n",
    "    for line in fhand:\n",
    "        line = line.rstrip() and line.lower()\n",
    "        words = line.split()    \n",
    "    #     print('Words:', words)\n",
    "        for word in words:\n",
    "            word = word.strip(',')\n",
    "            word = word.strip('.')\n",
    "            word = word.strip(';')\n",
    "            word = word.strip('?')\n",
    "            word = word.strip('!')\n",
    "            word = word.strip('?!')\n",
    "            word = word.strip('\"')\n",
    "            word = word.strip(':')\n",
    "            word = word.strip('(')\n",
    "            word = word.strip(')')\n",
    "            word = word.strip('[')\n",
    "            word = word.strip(']')\n",
    "            try:                        # the operation filters ints and floats\n",
    "                word = float(word)\n",
    "                continue            \n",
    "            except:                     # we get only non-ints and non-floats in counts list\n",
    "                if len(word) > 0:\n",
    "                    counts[word] = counts.get(word, 0) + 1\n",
    "    # print('\\nLength: {}\\nCounts: {}'.format(len(counts),counts))\n",
    "\n",
    "    largest_count = None                # searching for the largest value (i.e. count of the words)\n",
    "    # print('\\nLargest count search:')  # got be activated only with print(count, word)\n",
    "    for word, count in counts.items():\n",
    "        if largest_count is None or count > largest_count:\n",
    "            largest_count = count        \n",
    "    #         print(largest_count, word)\n",
    "    #     print(count, word)            \n",
    "    print('\\nLargest count: {}'.format(largest_count))\n",
    "\n",
    "    freq_words = []                     # most frequent words' list\n",
    "    for word, count in counts.items():    \n",
    "        if (count == largest_count) and (word not in freq_words):\n",
    "            freq_words.append(word)\n",
    "            print(word)\n",
    "    print('\\nQuantity of words: {}\\nMost frequent words: {}'.format(len(freq_words), freq_words))\n"
   ]
  },
  {
   "cell_type": "code",
   "execution_count": 7,
   "id": "bfc9836d",
   "metadata": {},
   "outputs": [
    {
     "name": "stdout",
     "output_type": "stream",
     "text": [
      "['foo3']\n"
     ]
    }
   ],
   "source": [
    "import re\n",
    "a = 'foo1\\nfoo2\\nfoo3\\n'\n",
    "y = re.findall('foo.$', a)\n",
    "print(y)"
   ]
  },
  {
   "cell_type": "code",
   "execution_count": null,
   "id": "b8043c86",
   "metadata": {},
   "outputs": [],
   "source": []
  },
  {
   "cell_type": "code",
   "execution_count": null,
   "id": "41c24982",
   "metadata": {},
   "outputs": [],
   "source": [
    "def arithmetic_arranger(problems, show_result=False):\n",
    "    \n",
    "\n",
    "\n",
    "    return arranged_problems"
   ]
  },
  {
   "cell_type": "code",
   "execution_count": null,
   "id": "3f490b8d",
   "metadata": {},
   "outputs": [],
   "source": [
    "problems = [\"32 + 698\", \"3801 - 2\", \"45 + 43\", \"123 + 49\"]\n",
    "\n",
    "# too many problems check\n",
    "if len(problems) > 5:\n",
    "    return 'Error: Too many problems.'\n",
    "\n",
    "# digits check\n",
    "try:\n",
    "    for i in problems:\n",
    "        i = i.split()\n",
    "        if int(i[0]) == False or int(i[2]) == False: \n",
    "            pass\n",
    "except: \n",
    "    return 'Error: Numbers must only contain digits.'\n",
    "\n",
    "# max of four digits check\n",
    "for i in problems:\n",
    "    i = i.split()\n",
    "    if len(i[0]) > 4 or len(i[2]) > 4:\n",
    "        return 'Error: Numbers cannot be more than four digits.'\n",
    "        break\n",
    "\n",
    "# appropriate operators check\n",
    "for i in problems:\n",
    "    if '*' in i or '/' in i:\n",
    "        return 'Error: Operator must be '+' or '-'.'\n",
    "        break\n",
    "\n",
    "for i in problems:\n",
    "    if ('+' in i) or ('-' in i):\n",
    "        i = i.split()\n",
    "        print(' '*(4-len(i[0])))\n",
    "        \n",
    "\n",
    "\n",
    "\n",
    "\n",
    "            "
   ]
  },
  {
   "cell_type": "code",
   "execution_count": 208,
   "id": "9e4d908e",
   "metadata": {},
   "outputs": [
    {
     "name": "stdout",
     "output_type": "stream",
     "text": [
      "   32\n",
      "+ 698\n",
      "-----\n",
      "730\n",
      "3801\n",
      "-  2\n",
      "----\n",
      "730\n",
      "  45\n",
      "+ 43\n",
      "----\n",
      "88\n",
      " 123\n",
      "+ 49\n",
      "----\n",
      "172\n"
     ]
    }
   ],
   "source": [
    "problems = [\"32 + 698\", \"3801 - 2\", \"45 + 43\", \"123 + 49\"]\n",
    "show_result = True\n",
    "\n",
    "for i in problems:\n",
    "    if ('+' in i) or ('-' in i):\n",
    "        i = i.split()\n",
    "        space_len = len(i[2]) - len(i[0]) + 2\n",
    "        \n",
    "        if len(i[2]) - len(i[0]) == -3:\n",
    "            print(i[0])\n",
    "            print(i[1]+'  '+i[2])\n",
    "            print('-'*len(i[0]))\n",
    "        elif len(i[2]) >= len(i[0]):\n",
    "            print(' '*(space_len) + i[0])\n",
    "            print(i[1]+' '+i[2])\n",
    "            print('-'*(space_len+2))\n",
    "        else:\n",
    "            print(' '*space_len + i[0])\n",
    "            print(i[1]+' '+i[2])\n",
    "            print('-'*(len(i[2])+2))\n",
    "            \n",
    "        \n",
    "        if i[1] == '+':\n",
    "            summ = str(int(i[0]) + int(i[2]))\n",
    "        else:\n",
    "            diff = str(int(i[0]) - int(i[2]))\n",
    "        \n",
    "        \n",
    "        if show_result == True:\n",
    "            print(summ)\n",
    "        else:\n",
    "            print(diff)"
   ]
  },
  {
   "cell_type": "code",
   "execution_count": 123,
   "id": "24718529-721a-49db-b063-8b25512301d5",
   "metadata": {},
   "outputs": [
    {
     "name": "stdout",
     "output_type": "stream",
     "text": [
      "  32\n",
      "+ 698\n",
      "3801\n",
      "- 2\n",
      "  45\n",
      "+ 43\n",
      " 123\n",
      "+ 49\n"
     ]
    }
   ],
   "source": [
    "problems = [\"32 + 698\", \"3801 - 2\", \"45 + 43\", \"123 + 49\"]\n",
    "show_result = True\n",
    "\n",
    "for i in problems:\n",
    "    if ('+' in i) or ('-' in i):\n",
    "        i = i.split()\n",
    "        \n",
    "        \n",
    "        \n",
    "        # print('{:>4}'.format(i[0]))\n",
    "        # print('{} {}'.format(i[1], i[2]))"
   ]
  },
  {
   "cell_type": "code",
   "execution_count": 110,
   "id": "4c448ec3-5cf0-42af-b083-9073afed77ae",
   "metadata": {},
   "outputs": [
    {
     "name": "stdout",
     "output_type": "stream",
     "text": [
      "True\n",
      "32 698\n",
      "False\n",
      "3801 2\n",
      "False\n",
      "45 43\n",
      "True\n",
      "123 49\n"
     ]
    }
   ],
   "source": [
    "problems = [\"32 + 698\", \"3801 - 2\", \"45 + 43\", \"123 + 49\"]\n",
    "show_result = True\n",
    "\n",
    "for i in problems:\n",
    "    i = i.split()\n",
    "    print(i[0] <= i[2])\n",
    "    print(i[0], i[2])\n"
   ]
  },
  {
   "cell_type": "code",
   "execution_count": null,
   "id": "96a588f6-d24f-4573-b363-8e6f286971c7",
   "metadata": {},
   "outputs": [],
   "source": []
  }
 ],
 "metadata": {
  "kernelspec": {
   "display_name": "Python 3 (ipykernel)",
   "language": "python",
   "name": "python3"
  },
  "language_info": {
   "codemirror_mode": {
    "name": "ipython",
    "version": 3
   },
   "file_extension": ".py",
   "mimetype": "text/x-python",
   "name": "python",
   "nbconvert_exporter": "python",
   "pygments_lexer": "ipython3",
   "version": "3.11.0"
  }
 },
 "nbformat": 4,
 "nbformat_minor": 5
}
