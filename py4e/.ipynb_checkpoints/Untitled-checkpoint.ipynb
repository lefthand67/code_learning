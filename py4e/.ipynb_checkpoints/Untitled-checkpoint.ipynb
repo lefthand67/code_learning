{
 "cells": [
  {
   "cell_type": "code",
   "execution_count": 61,
   "id": "850169c3",
   "metadata": {},
   "outputs": [
    {
     "name": "stdout",
     "output_type": "stream",
     "text": [
      "@hostnames found in: 336 lines of 1909\n",
      "\n",
      "HOST LIST of 10 host(s):\n",
      " ['uct.ac.za', 'collab.sakaiproject.org', 'nakamura.uits.iupui.edu', 'localhost', 'media.berkeley.edu', 'umich.edu', 'iupui.edu', 'caret.cam.ac.uk', 'gmail.com', 'david-horwitz-6:~/branchManagemnt/sakai_2-5-x']\n",
      "\n",
      "FREQUENCE of the host names:\n",
      " {'uct.ac.za': 25, 'collab.sakaiproject.org': 162, 'nakamura.uits.iupui.edu': 27, 'localhost': 27, 'media.berkeley.edu': 16, 'umich.edu': 29, 'iupui.edu': 38, 'caret.cam.ac.uk': 4, 'gmail.com': 4, 'david-horwitz-6:~/branchManagemnt/sakai_2-5-x': 4}\n"
     ]
    }
   ],
   "source": [
    "# Advanced script for extracting the host names from the emails in a mailbox doc (VR)\n",
    "\n",
    "fhand = open('mbox-short.txt')\n",
    "\n",
    "line_number = 0   # number of the line in the doc\n",
    "count = 0         # number of the line with '@'\n",
    "long_list = []    # list of all host names in the lines with '@'\n",
    "host_list = []    # list of the unique host names exctracted from the long_list\n",
    "host_count = {}   # frequence of the host names in the long_list \n",
    "\n",
    "# First we need to find the '@' and ' ' poistions to extract the host names between them.\n",
    "for line in fhand:\n",
    "    line_number = line_number + 1\n",
    "    if '@' not in line:                 # we skip lines without '@'\n",
    "        continue\n",
    "    elif '@' in line:\n",
    "        atpos = line.find('@')          # finding the '@' poistion\n",
    "        sppos = line.find(' ', atpos)   # finding the ' ' poistion\n",
    "        host = line[atpos+1 : sppos]    # extracting the host name\n",
    "        host = host.rstrip('>')         # clening the host name out of the additional symbols\n",
    "        host = host.rstrip('>;')\n",
    "        host = host.rstrip(';')\n",
    "        host = host.rstrip(')')\n",
    "        count = count + 1\n",
    "        long_list.append(host)          # appending the found host names into the long_list\n",
    "        if host not in host_list:       # appending the unique host names in the host_list\n",
    "            host_list.append(host)        \n",
    "#         print('Line', str(line_number) + ':', host)\n",
    "\n",
    "print('@hostnames found in:', count, 'lines of', line_number)\n",
    "print('\\nHOST LIST of', len(host_list), 'host(s):\\n', host_list)\n",
    "        \n",
    "for name in long_list:                  # counting the frequence of the extracted host names\n",
    "    host_count[name] = host_count.get(name, 0) + 1\n",
    "            \n",
    "print('\\nFREQUENCE of the host names:\\n', host_count)\n",
    "# print(long_list)"
   ]
  },
  {
   "cell_type": "code",
   "execution_count": null,
   "id": "401671f7",
   "metadata": {},
   "outputs": [],
   "source": []
  }
 ],
 "metadata": {
  "kernelspec": {
   "display_name": "Python 3 (ipykernel)",
   "language": "python",
   "name": "python3"
  },
  "language_info": {
   "codemirror_mode": {
    "name": "ipython",
    "version": 3
   },
   "file_extension": ".py",
   "mimetype": "text/x-python",
   "name": "python",
   "nbconvert_exporter": "python",
   "pygments_lexer": "ipython3",
   "version": "3.8.13"
  }
 },
 "nbformat": 4,
 "nbformat_minor": 5
}
