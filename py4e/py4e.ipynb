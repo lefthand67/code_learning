{
 "cells": [
  {
   "cell_type": "markdown",
   "id": "4450c710",
   "metadata": {},
   "source": [
    "## Operations with INPUT"
   ]
  },
  {
   "cell_type": "code",
   "execution_count": 4,
   "id": "3134b90d",
   "metadata": {},
   "outputs": [
    {
     "name": "stdout",
     "output_type": "stream",
     "text": [
      "Who are you? Mr. Watson\n",
      "Welcome,  Mr. Watson!\n",
      "How're you doing? Not really bad\n",
      "Slacker!\n"
     ]
    }
   ],
   "source": [
    "nam = input('Who are you? ')\n",
    "print('Welcome, ', nam + '!')\n",
    "doing = input(\"How're you doing? \")\n",
    "if doing == \"I'm good\": print('Awesome, man!')\n",
    "else: print(\"Slacker!\")"
   ]
  },
  {
   "cell_type": "code",
   "execution_count": 3,
   "id": "46e64d5a",
   "metadata": {},
   "outputs": [
    {
     "name": "stdout",
     "output_type": "stream",
     "text": [
      "Europe floor? 2\n",
      "US floor: 3\n"
     ]
    }
   ],
   "source": [
    "inp = input('Europe floor? ')\n",
    "usf = int(inp) + 1\n",
    "print(\"US floor:\", usf)"
   ]
  },
  {
   "cell_type": "markdown",
   "id": "5a20111b",
   "metadata": {},
   "source": [
    "## TRY / EXCEPT Operations\n",
    "It is used to avoid the traceback during the script execution in case of an expected error"
   ]
  },
  {
   "cell_type": "code",
   "execution_count": 4,
   "id": "8dece677",
   "metadata": {},
   "outputs": [
    {
     "name": "stdout",
     "output_type": "stream",
     "text": [
      "Enter a number: 4\n",
      "Nice work!\n"
     ]
    }
   ],
   "source": [
    "rawstr = input(\"Enter a number: \")\n",
    "try:\n",
    "    ival = int(rawstr)\n",
    "except:\n",
    "    ival = -1\n",
    "\n",
    "if ival > 0:\n",
    "    print(\"Nice work!\")\n",
    "else:\n",
    "    print('Dear,', rawstr, \"is not a number. Relax and try again.\")"
   ]
  },
  {
   "cell_type": "markdown",
   "id": "56c6adc6",
   "metadata": {},
   "source": [
    "## Minimal CHARACTER"
   ]
  },
  {
   "cell_type": "code",
   "execution_count": 5,
   "id": "0a7bb89a",
   "metadata": {},
   "outputs": [
    {
     "name": "stdout",
     "output_type": "stream",
     "text": [
      "df34\n",
      "3\n"
     ]
    }
   ],
   "source": [
    "a = min(input())\n",
    "print(a)"
   ]
  },
  {
   "cell_type": "markdown",
   "id": "96c06460",
   "metadata": {},
   "source": [
    "## ROUND Operation"
   ]
  },
  {
   "cell_type": "code",
   "execution_count": 1,
   "id": "295696c9",
   "metadata": {},
   "outputs": [
    {
     "name": "stdout",
     "output_type": "stream",
     "text": [
      "11\n",
      "<class 'int'>\n",
      "11.11\n",
      "<class 'float'>\n"
     ]
    }
   ],
   "source": [
    "print(round(100/9))\n",
    "print(type(round(100/9)))\n",
    "print(round(100/9, 2))\n",
    "print(type(round(100/9, 2)))"
   ]
  },
  {
   "cell_type": "markdown",
   "id": "a617b332",
   "metadata": {},
   "source": [
    "## Example of INPUT and CONDITIONAL usage - simple language translator"
   ]
  },
  {
   "cell_type": "code",
   "execution_count": 7,
   "id": "5fc3a743",
   "metadata": {},
   "outputs": [
    {
     "name": "stdout",
     "output_type": "stream",
     "text": [
      "What's your name? Jose\n",
      "What country are you from (print just the name of the country)? Spain\n",
      "Hola, Jose!\n"
     ]
    }
   ],
   "source": [
    "# Greeting in your language (a piece)\n",
    "\n",
    "name = input(\"What's your name? \")\n",
    "country = input(\"What country are you from (print just the name of the country)? \")\n",
    "def greet(country):\n",
    "    if country == \"Spain\":\n",
    "        return \"Hola,\"\n",
    "    else:\n",
    "        return \"Будь верен идее коммунизма,\"\n",
    "print(greet(country), name + \"!\")"
   ]
  },
  {
   "cell_type": "markdown",
   "id": "56399a5d",
   "metadata": {},
   "source": [
    "# LOOPS"
   ]
  },
  {
   "cell_type": "markdown",
   "id": "76df4584",
   "metadata": {},
   "source": [
    "### Indefinite Loops - WHILE (2:20)"
   ]
  },
  {
   "cell_type": "code",
   "execution_count": 2,
   "id": "a8ebd81d",
   "metadata": {},
   "outputs": [
    {
     "name": "stdout",
     "output_type": "stream",
     "text": [
      "< dfg\n",
      "dfg\n",
      "< done\n",
      "Done!\n"
     ]
    }
   ],
   "source": [
    "#break - finishes the loop\n",
    "\n",
    "while True:\n",
    "    line = input('< ')\n",
    "    if line == 'done':\n",
    "        break\n",
    "    print(line)\n",
    "print('Done!')"
   ]
  },
  {
   "cell_type": "markdown",
   "id": "e0149425",
   "metadata": {},
   "source": [
    "### BREAK and CONTINUE operations\n",
    "\n",
    "Операторы continue, break и else работают с циклами for и while. (Сбер-Университет)"
   ]
  },
  {
   "cell_type": "code",
   "execution_count": 15,
   "id": "cb770386",
   "metadata": {},
   "outputs": [
    {
     "name": "stdout",
     "output_type": "stream",
     "text": [
      "< i'm printed\n",
      "i'm printed\n",
      "< # and i'm not\n",
      "< done\n",
      "Done!\n"
     ]
    }
   ],
   "source": [
    "# 'continue' returns to the head of the loop\n",
    "# 'break' stops the loop execution \n",
    "\n",
    "while True:\n",
    "    line = input('< ')\n",
    "    if line[0] == '#':    # each if is executed one after another (unlike if - elif - else statement)\n",
    "        continue          # 'continue' prevents checking the 2nd if in case of # in the beginning of line\n",
    "    if line == 'done':\n",
    "        break\n",
    "    print(line)\n",
    "print('Done!')\n",
    "        "
   ]
  },
  {
   "cell_type": "markdown",
   "id": "46dfa6c0",
   "metadata": {},
   "source": [
    "## Definite Loops - FOR (2:25)"
   ]
  },
  {
   "cell_type": "code",
   "execution_count": 7,
   "id": "dda113fb",
   "metadata": {},
   "outputs": [
    {
     "name": "stdout",
     "output_type": "stream",
     "text": [
      "5 4 3 2 1 \n",
      "We're done\n"
     ]
    }
   ],
   "source": [
    "for i in [5, 4, 3, 2, 1]:\n",
    "    print(i, end=\" \")\n",
    "print(\"\\nWe're done\")"
   ]
  },
  {
   "cell_type": "code",
   "execution_count": 41,
   "id": "8d1ae528",
   "metadata": {},
   "outputs": [
    {
     "name": "stdout",
     "output_type": "stream",
     "text": [
      "Happy October Revolution Day, Vladimir!\n",
      "Happy October Revolution Day, Joseph!\n",
      "Happy October Revolution Day, Iron Felix!\n",
      "Hooray! Hooray! HOORAY!!!\n"
     ]
    }
   ],
   "source": [
    "# Python doesn't understand plural or sing form so the 'i' means the iterable value in the string\n",
    "# 'i' could be any word I like ('friend' for ex)\n",
    "\n",
    "friends = ['Vladimir', 'Joseph', 'Iron Felix']\n",
    "for i in friends:\n",
    "    print('Happy October Revolution Day,', i + '!')\n",
    "print('Hooray! ' * 2 + 'HOORAY!!!')"
   ]
  },
  {
   "cell_type": "markdown",
   "id": "2e373976",
   "metadata": {},
   "source": [
    "### Finding the LARGEST number in a row"
   ]
  },
  {
   "cell_type": "code",
   "execution_count": 5,
   "id": "2f3b07eb",
   "metadata": {},
   "outputs": [
    {
     "name": "stdout",
     "output_type": "stream",
     "text": [
      "The largest number is: 94\n"
     ]
    }
   ],
   "source": [
    "numbers = [45, 75, 2, -2, 3, 94, 5, 34]\n",
    "# We're going to compare each number with the initially \"largest\" (i.e. first) number \n",
    "# and change the value if the next number is bigger \n",
    "largest_number = numbers[0]\n",
    "for i in numbers:\n",
    "    if i > largest_number:\n",
    "        largest_number = i\n",
    "print('The largest number is:', largest_number)"
   ]
  },
  {
   "cell_type": "markdown",
   "id": "f1bf905a",
   "metadata": {},
   "source": [
    "### Finding the SMALLEST number in a row (in my_library)"
   ]
  },
  {
   "cell_type": "code",
   "execution_count": 6,
   "id": "40a05561",
   "metadata": {},
   "outputs": [
    {
     "name": "stdout",
     "output_type": "stream",
     "text": [
      "The smallest number is: -2\n"
     ]
    }
   ],
   "source": [
    "numbers = [45, 75, 2, -2, 3, 94, 5, 34]\n",
    "smallest_number = numbers[0]\n",
    "for i in numbers:\n",
    "    if i < smallest_number:\n",
    "        smallest_number = i\n",
    "print('The smallest number is:', smallest_number)"
   ]
  },
  {
   "cell_type": "markdown",
   "id": "b40f371e",
   "metadata": {},
   "source": [
    "### Finding the smallest number in an explicit way, two examples"
   ]
  },
  {
   "cell_type": "code",
   "execution_count": 9,
   "id": "7d6087a6",
   "metadata": {},
   "outputs": [
    {
     "name": "stdout",
     "output_type": "stream",
     "text": [
      "Before: 45\n",
      "1) 45 45\n",
      "2) 75 45\n",
      "3) 2 2\n",
      "4) -2 -2\n",
      "5) 3 -2\n",
      "6) 94 -2\n",
      "7) 5 -2\n",
      "8) 34 -2\n",
      "After: the smallest number is -2\n"
     ]
    }
   ],
   "source": [
    "numbers = [45, 75, 2, -2, 3, 94, 5, 34]\n",
    "\n",
    "count = 0\n",
    "smallest_number = numbers[0]\n",
    "print('Before:', smallest_number)\n",
    "for i in numbers:\n",
    "    count = count + 1\n",
    "    if i < smallest_number:\n",
    "        smallest_number = i\n",
    "    print(str(count) + ')', i, smallest_number)\n",
    "print('After: the smallest number is', smallest_number)"
   ]
  },
  {
   "cell_type": "code",
   "execution_count": 11,
   "id": "552229b8",
   "metadata": {},
   "outputs": [
    {
     "name": "stdout",
     "output_type": "stream",
     "text": [
      "Before: None\n",
      "45 45\n",
      "75 45\n",
      "2 2\n",
      "-2 -2\n",
      "3 -2\n",
      "94 -2\n",
      "5 -2\n",
      "34 -2\n",
      "After: the smallest number is -2\n"
     ]
    }
   ],
   "source": [
    "numbers = [45, 75, 2, -2, 3, 94, 5, 34]\n",
    "\n",
    "smallest_number = None\n",
    "print('Before:', smallest_number)\n",
    "for i in numbers:\n",
    "    if smallest_number is None:\n",
    "        smallest_number = i\n",
    "    elif i < smallest_number:\n",
    "        smallest_number = i\n",
    "    print(i, smallest_number)\n",
    "print('After: the smallest number is', smallest_number)"
   ]
  },
  {
   "cell_type": "markdown",
   "id": "f4412b36",
   "metadata": {},
   "source": [
    "### Counting in a Loop"
   ]
  },
  {
   "cell_type": "code",
   "execution_count": 16,
   "id": "e68c9b48",
   "metadata": {},
   "outputs": [
    {
     "name": "stdout",
     "output_type": "stream",
     "text": [
      "Before 0\n",
      "1) 45\n",
      "2) 75\n",
      "3) 2\n",
      "4) -2\n",
      "5) 3\n",
      "6) 94\n",
      "7) 5\n",
      "8) 34\n",
      "After 8\n"
     ]
    }
   ],
   "source": [
    "# counting how many times we execute the loop\n",
    "\n",
    "list = [45, 75, 2, -2, 3, 94, 5, 34]\n",
    "zork = 0    # count\n",
    "print('Before', zork)\n",
    "for i in list:\n",
    "    zork = zork + 1\n",
    "    print(str(zork) + ')', i)\n",
    "print('After', zork)"
   ]
  },
  {
   "cell_type": "markdown",
   "id": "d1da57a6",
   "metadata": {},
   "source": [
    "### Summing in a Loop"
   ]
  },
  {
   "cell_type": "code",
   "execution_count": 17,
   "id": "d7afe0a2",
   "metadata": {},
   "outputs": [
    {
     "name": "stdout",
     "output_type": "stream",
     "text": [
      "Before: 0\n",
      "45 45\n",
      "120 75\n",
      "122 2\n",
      "120 -2\n",
      "123 3\n",
      "217 94\n",
      "222 5\n",
      "256 34\n",
      "After: sum = 256\n"
     ]
    }
   ],
   "source": [
    "# we use variable zork to start the calculation (the sum of i in list)\n",
    "\n",
    "list = [45, 75, 2, -2, 3, 94, 5, 34]\n",
    "sum = 0\n",
    "print('Before:', sum)\n",
    "for i in list:\n",
    "    sum = sum + i\n",
    "    print(sum, i)\n",
    "print('After:', 'sum =', sum)"
   ]
  },
  {
   "cell_type": "markdown",
   "id": "5e3af210",
   "metadata": {},
   "source": [
    "### Finding the Average in a Loop"
   ]
  },
  {
   "cell_type": "code",
   "execution_count": 18,
   "id": "11091b12",
   "metadata": {},
   "outputs": [
    {
     "name": "stdout",
     "output_type": "stream",
     "text": [
      "Before: 0 0\n",
      "1) 45\n",
      "2) 75\n",
      "3) 2\n",
      "4) -2\n",
      "5) 3\n",
      "6) 94\n",
      "7) 5\n",
      "8) 34\n",
      "After: sum = 256, average = 32.0\n"
     ]
    }
   ],
   "source": [
    "list = [45, 75, 2, -2, 3, 94, 5, 34]\n",
    "count = 0\n",
    "sum = 0\n",
    "print('Before:', count, sum)\n",
    "for i in list:\n",
    "    count = count + 1\n",
    "    sum = sum + i\n",
    "    print(str(count) + ')', i)\n",
    "print('After:', 'sum =', str(sum) + ',', 'average =', sum/count)"
   ]
  },
  {
   "cell_type": "markdown",
   "id": "5beacea9",
   "metadata": {},
   "source": [
    "### Filtering in a Loop"
   ]
  },
  {
   "cell_type": "code",
   "execution_count": 19,
   "id": "cd369565",
   "metadata": {},
   "outputs": [
    {
     "name": "stdout",
     "output_type": "stream",
     "text": [
      "[75, 94, 34]\n",
      "[75, -2, 94, 34] ???\n",
      "1) -45\n",
      "2) 2\n",
      "3) 3\n",
      "4) -5\n",
      "5) -20\n",
      "[75, -2, 94, 34]\n"
     ]
    }
   ],
   "source": [
    "list = [-45, 75, 2, -2, 3, 94, -5, 34, -20]\n",
    "new_list = []\n",
    "for i in list:\n",
    "    if i > 20:\n",
    "        new_list.append(i)\n",
    "print(new_list)\n",
    "\n",
    "for i in list:\n",
    "    if i <= 20:\n",
    "        list.remove(i)\n",
    "print(list, '???')\n",
    "\n",
    "list = [-45, 75, 2, -2, 3, 94, -5, 34, -20]\n",
    "new_list = []\n",
    "count = 0\n",
    "for i in list:\n",
    "    if i <= 20:\n",
    "        count = count + 1\n",
    "        list.remove(i)\n",
    "        print(str(count) + ')', i)\n",
    "print(list)"
   ]
  },
  {
   "cell_type": "markdown",
   "id": "9d7538b3",
   "metadata": {},
   "source": [
    "### Search Using a BOOLEAN Variable"
   ]
  },
  {
   "cell_type": "code",
   "execution_count": 20,
   "id": "af37664b",
   "metadata": {},
   "outputs": [
    {
     "name": "stdout",
     "output_type": "stream",
     "text": [
      "False -45\n",
      "False 75\n",
      "False 2\n",
      "False -2\n",
      "True 3 Done\n"
     ]
    }
   ],
   "source": [
    "found = False\n",
    "list = [-45, 75, 2, -2, 3, 94, -5, 34, -20]\n",
    "for i in list:\n",
    "    if i == 3:\n",
    "        found = True\n",
    "        print(found, i, 'Done')\n",
    "        break\n",
    "    print(found, i)"
   ]
  },
  {
   "cell_type": "markdown",
   "id": "da122258",
   "metadata": {},
   "source": [
    "### Parsing and Extracting with .FIND\n",
    "\n",
    "str.**find**(_sub_**[**, _start_**[**, _end_**]]**)\n",
    "\n",
    "[source](https://docs.python.org/3/library/stdtypes.html)"
   ]
  },
  {
   "cell_type": "code",
   "execution_count": 4,
   "id": "653c2d24",
   "metadata": {},
   "outputs": [
    {
     "name": "stdout",
     "output_type": "stream",
     "text": [
      "10\n",
      "20\n",
      "yandex.ru\n"
     ]
    }
   ],
   "source": [
    "data = \"lefthand67@yandex.ru Sat Sept 24\"\n",
    "\n",
    "# searching for @ nsign position\n",
    "atpos = data.find('@')\n",
    "print(atpos)\n",
    "\n",
    "#searching for a space position\n",
    "sppos = data.find(' ', atpos, 21)\n",
    "print(sppos)\n",
    "\n",
    "#extracting the suffix using string slicing\n",
    "host = data[atpos+1 : sppos]\n",
    "print(host)"
   ]
  },
  {
   "cell_type": "markdown",
   "id": "2c7046e2",
   "metadata": {},
   "source": [
    "### Advanced script for extracting the host names from the emails in a mailbox doc (VR)"
   ]
  },
  {
   "cell_type": "code",
   "execution_count": 1,
   "id": "e2aee03c",
   "metadata": {},
   "outputs": [
    {
     "name": "stdout",
     "output_type": "stream",
     "text": [
      "Found in: 336 lines\n",
      "\n",
      "EMAIL LIST of 10 adresses: \n",
      "['uct.ac.za', 'collab.sakaiproject.org', 'nakamura.uits.iupui.edu', 'localhost', 'media.berkeley.edu', 'umich.edu', 'iupui.edu', 'caret.cam.ac.uk', 'gmail.com', 'david-horwitz-6:~/branchManagemnt/sakai_2-5-x']\n"
     ]
    }
   ],
   "source": [
    "fhand = open('mbox-short.txt')\n",
    "\n",
    "email_list = list()\n",
    "count = 0\n",
    "total_number = 0\n",
    "\n",
    "for line in fhand:\n",
    "    count = count + 1\n",
    "    if '@' not in line: \n",
    "        continue\n",
    "    else: \n",
    "        atpos = line.find('@')\n",
    "        sppos = line.find(' ', atpos)\n",
    "        host = line[atpos+1 : sppos]\n",
    "        host = host.rstrip('>')\n",
    "        host = host.rstrip('>;')\n",
    "        host = host.rstrip(';')\n",
    "        host = host.rstrip(')')\n",
    "        total_number = total_number + 1\n",
    "        if host not in email_list:\n",
    "            email_list.append(host)\n",
    "#         print('Line', str(count) + ':', host)\n",
    "print('Found in:', total_number, 'lines')\n",
    "print('\\nEMAIL LIST of', len(email_list), 'adresses:', '\\n' + str(email_list))\n"
   ]
  },
  {
   "cell_type": "markdown",
   "id": "778b3bda",
   "metadata": {},
   "source": [
    "Also check the **DOUBLE Split Pattern** in Ch. 8 as an another, more typical, but not as clean as this example."
   ]
  },
  {
   "cell_type": "markdown",
   "id": "98cb0872",
   "metadata": {},
   "source": [
    "# Operations with FILES"
   ]
  },
  {
   "cell_type": "markdown",
   "id": "3361eb58",
   "metadata": {},
   "source": [
    "## Opening, Reading and Writing the File\n",
    "\n",
    "handle = open(**filename**, mode, encoding='utf-8')\n",
    "- filename is a _**string**_,\n",
    "- mode is optional; _**'r'**_ stands for _'reading'_ and _**'w'**_ for _'writing'_,\n",
    "- encoding is for other languages.\n",
    "\n",
    "_**open()**_ is a built-in function that returns a handle not the data.\n",
    "\n",
    "**fhand** = open('mbox.txt', 'r')  \n",
    "'File handle' "
   ]
  },
  {
   "cell_type": "markdown",
   "id": "125c3374",
   "metadata": {},
   "source": [
    "### Reading File"
   ]
  },
  {
   "cell_type": "code",
   "execution_count": 22,
   "id": "3d79681d",
   "metadata": {},
   "outputs": [
    {
     "name": "stdout",
     "output_type": "stream",
     "text": [
      "Михаил Шолохов \"Тихий Дон\"\n",
      "\n",
      "Григорий пришел с игрищ после первых кочетов. Из сенцев пахнуло на него запахом перекисших хмелин и пряной сухменью богородицыной травки.\n",
      "\n",
      "На цыпочках прошел в горницу, разделся, бережно повесил праздничные, с лампасами, шаровары, перекрестился, лег. На полу — перерезанная крестом оконного переплета золотая дрема лунного света. В углу под расшитыми полотенцами тусклый глянец серебрёных икон, над кроватью на подвеске тягучий гуд потревоженных мух.\n",
      "\n",
      "Задремал было, но в кухне заплакал братнин ребенок.\n",
      "\n",
      "Немазаной арбой заскрипела люлька. Дарья сонным голосом бормотнула:\n",
      "\n",
      "— Цыц, ты, поганое дите! Ни сну тебе, ни покою. — Запела тихонько:\n",
      "\n",
      "— Колода-дуда,\n",
      "Иде ж ты была?\n",
      "— Коней стерегла.\n",
      "— Чего выстерегла?\n",
      "— Коня с седлом,\n",
      "С золотым махром…\n",
      "\n",
      "Григорий, засыпая под мерный баюкающий скрип, вспомнил: «А ить завтра Петру в лагеря выходить. Останется Дашка с дитем… Косить, должно, без него будем».\n",
      "\n",
      "Зарылся головой в горячую подушку, в уши назойливо сочится:\n",
      "\n",
      "— А иде ж твой конь?\n",
      "— За воротами стоит.\n",
      "— А иде ж ворота?\n",
      "— Вода унесла.\n"
     ]
    }
   ],
   "source": [
    "fhand = open('text.txt', 'r', encoding='utf-8')\n",
    "for line in fhand:\n",
    "    #.rstrip() deletes all the \\n (newline, i.e. whitespace) characters between the lines\n",
    "    # which appear during the printing procedure\n",
    "    line = line.rstrip()\n",
    "    print(line)"
   ]
  },
  {
   "cell_type": "markdown",
   "id": "05b7e6eb",
   "metadata": {},
   "source": [
    "### Counting Lines in a File"
   ]
  },
  {
   "cell_type": "code",
   "execution_count": 23,
   "id": "2098e04c",
   "metadata": {},
   "outputs": [
    {
     "name": "stdout",
     "output_type": "stream",
     "text": [
      "Line Count: 27\n"
     ]
    }
   ],
   "source": [
    "fhand = open('text.txt', 'r', encoding='utf-8')\n",
    "count = 0\n",
    "for line in fhand:\n",
    "    count = count + 1\n",
    "print('Line Count:', count)"
   ]
  },
  {
   "cell_type": "markdown",
   "id": "6c8bf49a",
   "metadata": {},
   "source": [
    "### Reading the \"Whole\" File\n",
    "one big block as a single string"
   ]
  },
  {
   "cell_type": "code",
   "execution_count": 24,
   "id": "05ad8e3a",
   "metadata": {},
   "outputs": [
    {
     "name": "stdout",
     "output_type": "stream",
     "text": [
      "Characters Count: 1063\n",
      "Михаил Шолохов \"Тихий Дон\"\n"
     ]
    }
   ],
   "source": [
    "fhand = open('text.txt', 'r', encoding='utf-8')\n",
    "inp = fhand.read()\n",
    "print(\"Characters Count:\", len(inp))\n",
    "print(inp[:26])"
   ]
  },
  {
   "cell_type": "markdown",
   "id": "c6a23fb3",
   "metadata": {},
   "source": [
    "### Searching through a File\n",
    "Printing the lines that meet a certain criteria:"
   ]
  },
  {
   "cell_type": "code",
   "execution_count": 25,
   "id": "2b7cbc04",
   "metadata": {},
   "outputs": [
    {
     "name": "stdout",
     "output_type": "stream",
     "text": [
      "Задремал было, но в кухне заплакал братнин ребенок.\n",
      "Зарылся головой в горячую подушку, в уши назойливо сочится:\n"
     ]
    }
   ],
   "source": [
    "fhand = open('text.txt', 'r', encoding='utf-8')\n",
    "for line in fhand:\n",
    "    line = line.rstrip()\n",
    "    if line.startswith(\"З\"):\n",
    "        print(line)"
   ]
  },
  {
   "cell_type": "markdown",
   "id": "4fdb3165",
   "metadata": {},
   "source": [
    "Another way of doing the same operation with **continue**:"
   ]
  },
  {
   "cell_type": "code",
   "execution_count": 26,
   "id": "e1b09ca9",
   "metadata": {},
   "outputs": [
    {
     "name": "stdout",
     "output_type": "stream",
     "text": [
      "Задремал было, но в кухне заплакал братнин ребенок.\n",
      "Зарылся головой в горячую подушку, в уши назойливо сочится:\n"
     ]
    }
   ],
   "source": [
    "fhand = open('text.txt', 'r', encoding='utf-8')\n",
    "for line in fhand:\n",
    "    line = line.rstrip()\n",
    "    if not line.startswith(\"З\"):\n",
    "        continue\n",
    "    print(line)"
   ]
  },
  {
   "cell_type": "markdown",
   "id": "07f4f67d",
   "metadata": {},
   "source": [
    "And another way by using **in**:"
   ]
  },
  {
   "cell_type": "code",
   "execution_count": 27,
   "id": "a2430c75",
   "metadata": {},
   "outputs": [
    {
     "name": "stdout",
     "output_type": "stream",
     "text": [
      "Задремал было, но в кухне заплакал братнин ребенок.\n"
     ]
    }
   ],
   "source": [
    "fhand = open('text.txt', 'r', encoding='utf-8')\n",
    "for line in fhand:\n",
    "    line = line.rstrip()\n",
    "    if not \"в кухне\" in line:\n",
    "        continue\n",
    "    print(line)"
   ]
  },
  {
   "cell_type": "markdown",
   "id": "c399e048",
   "metadata": {},
   "source": [
    "### Interactive File Reading - INPUT\n",
    "- changing the files;\n",
    "- plus insurance against the traceback ppossibility becasue of the bad file name - TRY / EXCEPT."
   ]
  },
  {
   "cell_type": "code",
   "execution_count": 28,
   "id": "8e5706d7",
   "metadata": {},
   "outputs": [
    {
     "name": "stdout",
     "output_type": "stream",
     "text": [
      "Enter the file name: text.txt\n",
      "There were 27 lines in the \"text.txt\".\n"
     ]
    }
   ],
   "source": [
    "fname = input('Enter the file name: ')\n",
    "try:\n",
    "    fhand = open(fname, 'r', encoding='utf-8')\n",
    "except:\n",
    "    print('File cannot be opened: \"' + fname + '\". Try something else.')\n",
    "    quit()\n",
    "\n",
    "try:\n",
    "    count = 0\n",
    "    for line in fhand:\n",
    "        count = count + 1\n",
    "    print('There were', count, 'lines in the \"' + fname + '\".')\n",
    "except:\n",
    "    quit()"
   ]
  },
  {
   "cell_type": "markdown",
   "id": "f4f78d87",
   "metadata": {},
   "source": [
    "# Chapter 8. Lists"
   ]
  },
  {
   "cell_type": "markdown",
   "id": "f9c6592a",
   "metadata": {},
   "source": [
    "## 8.1. Range\n",
    "returns a list of numbers that range from 0 to one less than the parameter  \n",
    "\n",
    "range(4)) = [0, 1, 2, 3]"
   ]
  },
  {
   "cell_type": "code",
   "execution_count": 32,
   "id": "20c8d8b9",
   "metadata": {},
   "outputs": [
    {
     "name": "stdout",
     "output_type": "stream",
     "text": [
      "range(0, 4)\n"
     ]
    }
   ],
   "source": [
    "print(range(4))"
   ]
  },
  {
   "cell_type": "code",
   "execution_count": 34,
   "id": "86d8aa5c",
   "metadata": {},
   "outputs": [
    {
     "name": "stdout",
     "output_type": "stream",
     "text": [
      "3\n",
      "range(0, 3)\n"
     ]
    }
   ],
   "source": [
    "friends = ['Vladimir', 'Joseph', 'the Iron Felix']\n",
    "print(len(friends))\n",
    "print(range(len(friends)))"
   ]
  },
  {
   "cell_type": "markdown",
   "id": "6d8734f5",
   "metadata": {},
   "source": [
    "Two loops that return the same result:"
   ]
  },
  {
   "cell_type": "code",
   "execution_count": 40,
   "id": "0db32e2d",
   "metadata": {},
   "outputs": [
    {
     "name": "stdout",
     "output_type": "stream",
     "text": [
      "Happy October Revolution Day, Vladimir!\n",
      "Happy October Revolution Day, Joseph!\n",
      "Happy October Revolution Day, Iron Felix!\n",
      "Long live, Vladimir!\n",
      "Long live, Joseph!\n",
      "Long live, Iron Felix!\n"
     ]
    }
   ],
   "source": [
    "friends = ['Vladimir', 'Joseph', 'Iron Felix']\n",
    "\n",
    "for friend in friends:\n",
    "    print('Happy October Revolution Day,', friend + '!')\n",
    "\n",
    "for i in range(len(friends)):\n",
    "    friend = friends[i]\n",
    "    print('Long live,', friend + '!')"
   ]
  },
  {
   "cell_type": "markdown",
   "id": "cf97f975",
   "metadata": {},
   "source": [
    "## 8.2. Loop Operations"
   ]
  },
  {
   "cell_type": "markdown",
   "id": "711d663d",
   "metadata": {},
   "source": [
    "### List Methods - DIR"
   ]
  },
  {
   "cell_type": "code",
   "execution_count": 16,
   "id": "69db6460",
   "metadata": {},
   "outputs": [
    {
     "name": "stdout",
     "output_type": "stream",
     "text": [
      "<class 'list'>\n",
      "['__add__', '__class__', '__contains__', '__delattr__', '__delitem__', '__dir__', '__doc__', '__eq__', '__format__', '__ge__', '__getattribute__', '__getitem__', '__gt__', '__hash__', '__iadd__', '__imul__', '__init__', '__init_subclass__', '__iter__', '__le__', '__len__', '__lt__', '__mul__', '__ne__', '__new__', '__reduce__', '__reduce_ex__', '__repr__', '__reversed__', '__rmul__', '__setattr__', '__setitem__', '__sizeof__', '__str__', '__subclasshook__', 'append', 'clear', 'copy', 'count', 'extend', 'index', 'insert', 'pop', 'remove', 'reverse', 'sort']\n"
     ]
    }
   ],
   "source": [
    "x = list()\n",
    "print(type(x))\n",
    "print(dir(x))"
   ]
  },
  {
   "cell_type": "markdown",
   "id": "c0104072",
   "metadata": {},
   "source": [
    "### Building a List from Scratch"
   ]
  },
  {
   "cell_type": "code",
   "execution_count": 18,
   "id": "6f0778b8",
   "metadata": {},
   "outputs": [
    {
     "name": "stdout",
     "output_type": "stream",
     "text": [
      "['the book', 9, 7.4]\n"
     ]
    }
   ],
   "source": [
    "# first we create an empty list\n",
    "stuff = list()\n",
    "\n",
    "# then we start adding the elements using the .append method\n",
    "stuff.append('the book')\n",
    "stuff.append(9)\n",
    "stuff.append(7.4)\n",
    "\n",
    "# the list stays in order, new elements are added at the end of the list\n",
    "print(stuff)"
   ]
  },
  {
   "cell_type": "markdown",
   "id": "dfbfd8f4",
   "metadata": {},
   "source": [
    "### Is something IN the List? TRUE or FALSE"
   ]
  },
  {
   "cell_type": "code",
   "execution_count": 21,
   "id": "6e1b0bbe",
   "metadata": {},
   "outputs": [
    {
     "data": {
      "text/plain": [
       "False"
      ]
     },
     "execution_count": 21,
     "metadata": {},
     "output_type": "execute_result"
    }
   ],
   "source": [
    "list = [45, 75, 2, -2, 3, 94, 5, 34]\n",
    "9 in list"
   ]
  },
  {
   "cell_type": "markdown",
   "id": "b4019114",
   "metadata": {},
   "source": [
    "### SORT Method\n",
    "Lists are ordered and they can be sorted (i.e. change the order)"
   ]
  },
  {
   "cell_type": "code",
   "execution_count": 24,
   "id": "6a86542d",
   "metadata": {},
   "outputs": [
    {
     "name": "stdout",
     "output_type": "stream",
     "text": [
      "['Iron Felix', 'Joseph', 'Vladimir']\n",
      "Iron Felix\n"
     ]
    }
   ],
   "source": [
    "friends = ['Vladimir', 'Joseph', 'Iron Felix']\n",
    "friends.sort()\n",
    "print(friends)\n",
    "print(friends[0])"
   ]
  },
  {
   "cell_type": "markdown",
   "id": "6a06b894",
   "metadata": {},
   "source": [
    "### AVERAGE of the list items\n",
    "1. using our own loops,\n",
    "2. using the LIST Methods."
   ]
  },
  {
   "cell_type": "code",
   "execution_count": 3,
   "id": "3f6750e3",
   "metadata": {},
   "outputs": [
    {
     "name": "stdout",
     "output_type": "stream",
     "text": [
      "Enter a number: 1\n",
      "Enter a number: 3\n",
      "Enter a number: 5\n",
      "Enter a number: done\n",
      "Average: 3.0\n"
     ]
    }
   ],
   "source": [
    "# this technique does not use much of memory\n",
    "# because the loop updates the total with every new input\n",
    "total = 0\n",
    "count = 0\n",
    "while True:\n",
    "    inp = input(\"Enter a number: \")\n",
    "    if inp == 'done' : break\n",
    "    value = float(inp)\n",
    "    total = total + value\n",
    "    count = count + 1\n",
    "    numlist.append(value)\n",
    "\n",
    "average = total / count\n",
    "print('Average:', average)"
   ]
  },
  {
   "cell_type": "code",
   "execution_count": 1,
   "id": "7cc12d15",
   "metadata": {},
   "outputs": [
    {
     "name": "stdout",
     "output_type": "stream",
     "text": [
      "Enter a number: 6\n",
      "Enter a number: 90\n",
      "Enter a number: 7\n",
      "Enter a number: done\n",
      "Average: 34.333333333333336\n"
     ]
    }
   ],
   "source": [
    "# it uses more memory because it has to keep all the inputs in memory\n",
    "numlist = list()\n",
    "while True:\n",
    "    inp = input(\"Enter a number: \")\n",
    "    if inp == 'done': break\n",
    "    value = float(inp)\n",
    "    numlist.append(value)\n",
    "\n",
    "average = sum(numlist) / len(numlist)\n",
    "print('Average:', average)"
   ]
  },
  {
   "cell_type": "markdown",
   "id": "fcaa0e30",
   "metadata": {},
   "source": [
    "## 8.3. Strings vs Lists"
   ]
  },
  {
   "cell_type": "markdown",
   "id": "af92acd1",
   "metadata": {},
   "source": [
    "### .SPLIT Method\n",
    "\n",
    "object**.split()** - nothing in squares by default means \"use a space as a delimiter\""
   ]
  },
  {
   "cell_type": "code",
   "execution_count": 1,
   "id": "67cd185a",
   "metadata": {},
   "outputs": [
    {
     "name": "stdout",
     "output_type": "stream",
     "text": [
      "['I', 'can', 'do', 'that']\n",
      "I\n",
      "can\n",
      "do\n",
      "that\n",
      "Length: 4\n",
      "stuff[1]: can\n"
     ]
    }
   ],
   "source": [
    "abc = \"I can do that\"\n",
    "stuff = abc.split()\n",
    "print(stuff)\n",
    "for i in stuff:\n",
    "    print(i)\n",
    "print('Length:', len(stuff))\n",
    "print('stuff[1]:', stuff[1])\n"
   ]
  },
  {
   "cell_type": "code",
   "execution_count": 1,
   "id": "a81ffd69",
   "metadata": {},
   "outputs": [
    {
     "name": "stdout",
     "output_type": "stream",
     "text": [
      "['Задремал', 'было,', 'но', 'в', 'кухне', 'заплакал', 'братнин', 'ребенок.']\n",
      "['Зарылся', 'головой', 'в', 'горячую', 'подушку,', 'в', 'уши', 'назойливо', 'сочится:']\n"
     ]
    }
   ],
   "source": [
    "fhand = open('text.txt', 'r', encoding='utf-8')\n",
    "for line in fhand:\n",
    "    line = line.rstrip()\n",
    "    if not line.startswith(\"З\"): continue\n",
    "    words = line.split()\n",
    "    print(words)"
   ]
  },
  {
   "cell_type": "markdown",
   "id": "429bbda0",
   "metadata": {},
   "source": [
    "### The DOUBLE Split Pattern\n",
    "This is a typical way of parsing the data. For a cleaner technique check the **\"Parsing and Extracting\"** above."
   ]
  },
  {
   "cell_type": "code",
   "execution_count": 3,
   "id": "97f5507f",
   "metadata": {},
   "outputs": [
    {
     "name": "stdout",
     "output_type": "stream",
     "text": [
      "['lefthand67@yandex.ru', 'Sat', 'Sept', '24']\n",
      "lefthand67@yandex.ru\n",
      "yandex.ru\n"
     ]
    }
   ],
   "source": [
    "line = \"lefthand67@yandex.ru Sat Sept 24\"\n",
    "\n",
    "words = line.split()\n",
    "print(words)\n",
    "\n",
    "email = words[0]\n",
    "print(email)\n",
    "\n",
    "host = email.split('@')\n",
    "print(host[1])"
   ]
  },
  {
   "cell_type": "markdown",
   "id": "5c8f8a7b",
   "metadata": {},
   "source": [
    "# Chapter 9. Dictionaries"
   ]
  },
  {
   "cell_type": "markdown",
   "id": "3cd6a8e1",
   "metadata": {},
   "source": [
    "## List VS Dictionary\n",
    "- List is a linear collection of values that stay in order,\n",
    "- Dictionary is a \"bag\" of values, each with its own label. Key-value pairs\n",
    "\n",
    "_NB!_ dict**[key]** = **value**\n",
    "\n",
    "You can asign not only integers as the value in the dictionary pair:"
   ]
  },
  {
   "cell_type": "code",
   "execution_count": 99,
   "id": "d8b27efe",
   "metadata": {},
   "outputs": [
    {
     "name": "stdout",
     "output_type": "stream",
     "text": [
      "{'alpha': 100, 'beta': 'gamma'}\n"
     ]
    }
   ],
   "source": [
    "new_dict = {}\n",
    "new_dict['alpha'] = 100\n",
    "new_dict['beta'] = 'gamma'\n",
    "print(new_dict)"
   ]
  },
  {
   "cell_type": "markdown",
   "id": "3269c346",
   "metadata": {},
   "source": [
    "## Counting"
   ]
  },
  {
   "cell_type": "code",
   "execution_count": 2,
   "id": "8c149a64",
   "metadata": {},
   "outputs": [
    {
     "name": "stdout",
     "output_type": "stream",
     "text": [
      "\n",
      "FREQUENCE of the host names:\n",
      " {'localhost': 1, 'collab.sakaiproject.org': 5, 'iupui.edu': 3, 'umich.edu': 1, 'nakamura.uits.iupui.edu': 1} \n",
      "\n",
      "Check the .Get Method block for a more convenient techique\n"
     ]
    }
   ],
   "source": [
    "# counting the frequence of the list elements\n",
    "\n",
    "host_count = {}\n",
    "long_list = ['localhost', 'collab.sakaiproject.org', 'iupui.edu', \n",
    "             'collab.sakaiproject.org', 'iupui.edu', 'iupui.edu', \n",
    "             'umich.edu', 'collab.sakaiproject.org', 'nakamura.uits.iupui.edu', \n",
    "             'collab.sakaiproject.org', 'collab.sakaiproject.org']\n",
    "\n",
    "for name in long_list:\n",
    "    if name not in host_count:\n",
    "        host_count[name] = 1\n",
    "    else:\n",
    "        host_count[name] = host_count[name] + 1\n",
    "            \n",
    "print('\\nFREQUENCE of the host names:\\n', host_count, '\\n\\nCheck the .Get Method block for a more convenient techique')\n"
   ]
  },
  {
   "cell_type": "markdown",
   "id": "cce219c4",
   "metadata": {},
   "source": [
    "## .GET Method\n",
    "The pattern of checking to see if a **key** is already in a dictionary and assuming a **default value** (i.e. 0) if the **key** is not in there, resolving the problem of the traceback.\n",
    "\n",
    "dict.**get**(key, value)\n",
    "\n",
    "Two equal operations:"
   ]
  },
  {
   "cell_type": "code",
   "execution_count": 25,
   "id": "ba8561ed",
   "metadata": {},
   "outputs": [],
   "source": [
    "# x is the value, so the value is the same as the dict[key]\n",
    "# => value = dict[key]\n",
    "\n",
    "# 1) the loop\n",
    "if name in host_count:\n",
    "    x = host_count[name]\n",
    "else:\n",
    "    x = 0\n",
    "        \n",
    "# 2) GET\n",
    "    x = host_count.get(name, 0)"
   ]
  },
  {
   "cell_type": "markdown",
   "id": "7fbebc51",
   "metadata": {},
   "source": [
    "### IDIOM: Counting the frequence of the list elements with the .GET method"
   ]
  },
  {
   "cell_type": "code",
   "execution_count": 27,
   "id": "34403ffc",
   "metadata": {},
   "outputs": [
    {
     "name": "stdout",
     "output_type": "stream",
     "text": [
      "\n",
      "FREQUENCE of the host names:\n",
      " {'localhost': 1, 'collab.sakaiproject.org': 5, 'iupui.edu': 3, 'umich.edu': 1, 'nakamura.uits.iupui.edu': 1}\n"
     ]
    }
   ],
   "source": [
    "host_count = {}\n",
    "long_list = ['localhost', 'collab.sakaiproject.org', 'iupui.edu', \n",
    "             'collab.sakaiproject.org', 'iupui.edu', 'iupui.edu', \n",
    "             'umich.edu', 'collab.sakaiproject.org', 'nakamura.uits.iupui.edu', \n",
    "             'collab.sakaiproject.org', 'collab.sakaiproject.org']\n",
    "\n",
    "for name in long_list:\n",
    "    host_count[name] = host_count.get(name, 0) + 1  # dict[name] is just the value, expressed in the different form\n",
    "            \n",
    "print('\\nFREQUENCE of the host names:\\n', host_count)\n"
   ]
  },
  {
   "cell_type": "markdown",
   "id": "855087aa",
   "metadata": {},
   "source": [
    "## Counting words in text\n",
    "### Counting Pattern\n",
    "1. split the line into words,\n",
    "2. loop through the words,\n",
    "3. use a dictionary to track the count of each word independently."
   ]
  },
  {
   "cell_type": "code",
   "execution_count": 5,
   "id": "f0609420",
   "metadata": {},
   "outputs": [
    {
     "name": "stdout",
     "output_type": "stream",
     "text": [
      "Move to the next cell\n"
     ]
    }
   ],
   "source": [
    "counts = {}\n",
    "# You can type input('Enter the file name: ') instead of 'text.txt'\n",
    "fhand = open('text.txt', 'r', encoding='utf-8')\n",
    "for line in fhand:\n",
    "    line = line.rstrip() and line.lower()\n",
    "    words = line.split()    \n",
    "#     print('Words:', words)\n",
    "    for word in words:\n",
    "        word = word.strip(',')\n",
    "        word = word.strip('.')\n",
    "        word = word.strip(';')\n",
    "        word = word.strip('?')\n",
    "        word = word.strip('!')\n",
    "        word = word.strip('?!')\n",
    "        word = word.strip('...')\n",
    "        word = word.strip('\"')\n",
    "        word = word.strip(':')\n",
    "        word = word.strip('(')\n",
    "        word = word.strip(')')\n",
    "        counts[word] = counts.get(word, 0) + 1\n",
    "# print('Length: ', len(counts), '\\nCounts:', counts)\n",
    "\n",
    "print('Move to the next cell')"
   ]
  },
  {
   "cell_type": "markdown",
   "id": "3079a3d5",
   "metadata": {},
   "source": [
    "### Retrieving lists of Keys and Values"
   ]
  },
  {
   "cell_type": "code",
   "execution_count": 4,
   "id": "18dcf31d",
   "metadata": {},
   "outputs": [
    {
     "name": "stdout",
     "output_type": "stream",
     "text": [
      "Count: 1925\n",
      "Quantity of words: 1 \n",
      "List of most frequent words:\n",
      " ['и']\n"
     ]
    }
   ],
   "source": [
    "# !Run the previous cell before\n",
    "\n",
    "largest_count = 0\n",
    "most_freq_word = ''\n",
    "for word, count in counts.items():\n",
    "    if count > largest_count:\n",
    "        largest_count = count        \n",
    "#         print(largest_count, word)\n",
    "#     print(count, word)            \n",
    "print('Count: {}'.format(largest_count))\n",
    "\n",
    "freq_words = []\n",
    "for word, count in counts.items():\n",
    "    if (count == largest_count) and (word not in freq_words):\n",
    "        freq_words.append(word)\n",
    "print('Quantity of words:', len(freq_words), '\\nList of most frequent words:\\n', freq_words)"
   ]
  },
  {
   "cell_type": "code",
   "execution_count": 5,
   "id": "aa3cce3d",
   "metadata": {},
   "outputs": [
    {
     "name": "stdout",
     "output_type": "stream",
     "text": [
      "list(jjj): ['chuck', 'fred', 'jan', '19', 26]\n",
      "dict_keys(['chuck', 'fred', 'jan', '19', 26])\n",
      "dict_values([1, 42, 100, 19, 72])\n",
      "dict_items([('chuck', 1), ('fred', 42), ('jan', 100), ('19', 19), (26, 72)]) <= these are the tuples\n",
      "chuck\n",
      "fred\n",
      "jan\n"
     ]
    }
   ],
   "source": [
    "jjj = {'chuck': 1, 'fred': 42, 'jan': 100, '19': 19, 26: 72}\n",
    "print('list(jjj):', list(jjj))\n",
    "print(jjj.keys())\n",
    "print(jjj.values())\n",
    "print(jjj.items(), '<= these are the tuples')\n",
    "\n",
    "for key, value in jjj.items():\n",
    "    try:\n",
    "        key = float(key)\n",
    "        continue\n",
    "    except:\n",
    "        print(key)"
   ]
  },
  {
   "cell_type": "markdown",
   "id": "5bb0df0e",
   "metadata": {},
   "source": [
    "### Counting Word Frequency using a Dictionary"
   ]
  },
  {
   "cell_type": "code",
   "execution_count": 9,
   "id": "851148d8",
   "metadata": {},
   "outputs": [],
   "source": [
    "# dfile = input('Enter the default file name to make your life easier: ')  # activate for a script\n",
    "\n",
    "def most_freq_word():\n",
    "\n",
    "    \"\"\"\n",
    "    The Most Frequent Word Function\n",
    "    searches for the most frequent word(s) in the document with disregard to the case of \n",
    "    the letters in words. \n",
    "    It shows the \"Largest count\" number (i.e. value in dictionary) and lists all \n",
    "    the words (keys) that are complemented to the value.\n",
    "    \n",
    "    The function ignores the strings that can be converted to floats and integers. \n",
    "    \n",
    "    NOTE! You can reassign the default file in prompt by activating the line above the function code\n",
    "    and deactivating the first line of the function.\n",
    "    \n",
    "    >>> Example:\n",
    "    \n",
    "    Enter the file name (press Enter to open the default file): \n",
    "    Opened by default: mbox-short.txt\n",
    "\n",
    "    Largest count: 352\n",
    "    jan\n",
    "\n",
    "    Quantity of words: 1\n",
    "    Most frequent words: ['jan'] <<<\n",
    "    \n",
    "    \"\"\"\n",
    "\n",
    "    dfile = 'mbox-short.txt'  # a file that be opened by default (Enter button), deactivate when using as script\n",
    "\n",
    "    fname = input('Enter the file name (press Enter to open the default file): ')\n",
    "    if len(fname) < 1:\n",
    "        fname = dfile\n",
    "        print('Opened by default:', dfile)\n",
    "    fhand = open(fname, 'r', encoding='utf-8')\n",
    "\n",
    "    counts = {}\n",
    "    for line in fhand:\n",
    "        line = line.rstrip() and line.lower()\n",
    "        words = line.split()\n",
    "    #     print('Words:', words)\n",
    "        for word in words:\n",
    "            word = word.strip(',')\n",
    "            word = word.strip('.')\n",
    "            word = word.strip(';')\n",
    "            word = word.strip('?')\n",
    "            word = word.strip('!')\n",
    "            word = word.strip('?!')\n",
    "            word = word.strip('\"')\n",
    "            word = word.strip(':')\n",
    "            word = word.strip('(')\n",
    "            word = word.strip(')')\n",
    "            word = word.strip('[')\n",
    "            word = word.strip(']')\n",
    "            try:                        # the operation filters ints and floats\n",
    "                word = float(word)\n",
    "                continue\n",
    "            except ValueError:           # we get only non-ints and non-floats in counts list\n",
    "                if len(word) > 0:\n",
    "                    counts[word] = counts.get(word, 0) + 1\n",
    "    # print('\\nLength: {}\\nCounts: {}'.format(len(counts),counts))\n",
    "\n",
    "    largest_count = None                # searching for the largest value (i.e. count of the words)\n",
    "    # print('\\nLargest count search:')  # got be activated only with print(count, word)\n",
    "    for word, count in counts.items():\n",
    "        if largest_count is None or count > largest_count:\n",
    "            largest_count = count\n",
    "    #         print(largest_count, word)\n",
    "    #     print(count, word)\n",
    "    print('\\nLargest count: {}'.format(largest_count))\n",
    "\n",
    "    freq_words = []                     # most frequent words' list\n",
    "    for word, count in counts.items():\n",
    "        if (count == largest_count) and (word not in freq_words):\n",
    "            freq_words.append(word)\n",
    "            # print(word)\n",
    "    return '\\nQuantity of words: {}\\nMost frequent words: {}.\\nDone'.format(len(freq_words), freq_words)\n"
   ]
  },
  {
   "cell_type": "code",
   "execution_count": 10,
   "id": "6218dea1",
   "metadata": {},
   "outputs": [
    {
     "name": "stdout",
     "output_type": "stream",
     "text": [
      "Enter the file name (press Enter to open the default file): \n",
      "Opened by default: mbox-short.txt\n",
      "\n",
      "Largest count: 352\n",
      "\n",
      "Quantity of words: 1\n",
      "Most frequent words: ['jan'].\n",
      "Done\n"
     ]
    }
   ],
   "source": [
    "print(most_freq_word())"
   ]
  },
  {
   "cell_type": "markdown",
   "id": "a4e31190",
   "metadata": {},
   "source": [
    "# Chapter 10. Tuples\n",
    "Tuples are like lists but they are **immutable** - you cannnot change them similar to strings.\n",
    "\n",
    "Tuples are more efficient in terms of **memory use** and **performance** than lists. So when you are making a \"temporary variable\" tuples are prefered over lists.\n",
    "\n",
    "### Assignment of tuples\n",
    "You put the tuple on the left-hand side of an assignment statment and when you call for the element in the tuple it returns the element from the right-hand side in the _same_ position. It is the Python unique feature.\n",
    "\n",
    "##### NB! Parentheses can be omitted."
   ]
  },
  {
   "cell_type": "code",
   "execution_count": 1,
   "id": "e0e8ce53",
   "metadata": {},
   "outputs": [
    {
     "name": "stdout",
     "output_type": "stream",
     "text": [
      "Fred\n"
     ]
    }
   ],
   "source": [
    "(x, y) = (4, 'Fred')\n",
    "print(y)"
   ]
  },
  {
   "cell_type": "code",
   "execution_count": 4,
   "id": "0eb98255",
   "metadata": {},
   "outputs": [
    {
     "name": "stdout",
     "output_type": "stream",
     "text": [
      "4\n"
     ]
    }
   ],
   "source": [
    "x, y = 4, 'Fred'\n",
    "print(x)"
   ]
  },
  {
   "cell_type": "markdown",
   "id": "32631a6d",
   "metadata": {},
   "source": [
    "Compare the methods of lists and tuples (in the end of the dir list):"
   ]
  },
  {
   "cell_type": "code",
   "execution_count": 4,
   "id": "659406e0",
   "metadata": {
    "scrolled": true
   },
   "outputs": [
    {
     "data": {
      "text/plain": [
       "['__add__',\n",
       " '__class__',\n",
       " '__contains__',\n",
       " '__delattr__',\n",
       " '__delitem__',\n",
       " '__dir__',\n",
       " '__doc__',\n",
       " '__eq__',\n",
       " '__format__',\n",
       " '__ge__',\n",
       " '__getattribute__',\n",
       " '__getitem__',\n",
       " '__gt__',\n",
       " '__hash__',\n",
       " '__iadd__',\n",
       " '__imul__',\n",
       " '__init__',\n",
       " '__init_subclass__',\n",
       " '__iter__',\n",
       " '__le__',\n",
       " '__len__',\n",
       " '__lt__',\n",
       " '__mul__',\n",
       " '__ne__',\n",
       " '__new__',\n",
       " '__reduce__',\n",
       " '__reduce_ex__',\n",
       " '__repr__',\n",
       " '__reversed__',\n",
       " '__rmul__',\n",
       " '__setattr__',\n",
       " '__setitem__',\n",
       " '__sizeof__',\n",
       " '__str__',\n",
       " '__subclasshook__',\n",
       " 'append',\n",
       " 'clear',\n",
       " 'copy',\n",
       " 'count',\n",
       " 'extend',\n",
       " 'index',\n",
       " 'insert',\n",
       " 'pop',\n",
       " 'remove',\n",
       " 'reverse',\n",
       " 'sort']"
      ]
     },
     "execution_count": 4,
     "metadata": {},
     "output_type": "execute_result"
    }
   ],
   "source": [
    "l = list()\n",
    "dir(l)"
   ]
  },
  {
   "cell_type": "code",
   "execution_count": 2,
   "id": "933ae640",
   "metadata": {
    "scrolled": true
   },
   "outputs": [
    {
     "data": {
      "text/plain": [
       "['__add__',\n",
       " '__class__',\n",
       " '__contains__',\n",
       " '__delattr__',\n",
       " '__dir__',\n",
       " '__doc__',\n",
       " '__eq__',\n",
       " '__format__',\n",
       " '__ge__',\n",
       " '__getattribute__',\n",
       " '__getitem__',\n",
       " '__getnewargs__',\n",
       " '__gt__',\n",
       " '__hash__',\n",
       " '__init__',\n",
       " '__init_subclass__',\n",
       " '__iter__',\n",
       " '__le__',\n",
       " '__len__',\n",
       " '__lt__',\n",
       " '__mul__',\n",
       " '__ne__',\n",
       " '__new__',\n",
       " '__reduce__',\n",
       " '__reduce_ex__',\n",
       " '__repr__',\n",
       " '__rmul__',\n",
       " '__setattr__',\n",
       " '__sizeof__',\n",
       " '__str__',\n",
       " '__subclasshook__',\n",
       " 'count',\n",
       " 'index']"
      ]
     },
     "execution_count": 2,
     "metadata": {},
     "output_type": "execute_result"
    }
   ],
   "source": [
    "t = tuple()\n",
    "dir(t)"
   ]
  },
  {
   "cell_type": "code",
   "execution_count": null,
   "id": "efd8567d",
   "metadata": {},
   "outputs": [],
   "source": []
  },
  {
   "cell_type": "code",
   "execution_count": null,
   "id": "cc45d276",
   "metadata": {},
   "outputs": [],
   "source": []
  },
  {
   "cell_type": "code",
   "execution_count": null,
   "id": "f85fd3ad",
   "metadata": {},
   "outputs": [],
   "source": []
  },
  {
   "cell_type": "code",
   "execution_count": null,
   "id": "6ada0078",
   "metadata": {},
   "outputs": [],
   "source": []
  },
  {
   "cell_type": "code",
   "execution_count": null,
   "id": "7fb97b60",
   "metadata": {},
   "outputs": [],
   "source": []
  },
  {
   "cell_type": "code",
   "execution_count": null,
   "id": "03ba7c1b",
   "metadata": {},
   "outputs": [],
   "source": []
  },
  {
   "cell_type": "code",
   "execution_count": null,
   "id": "a194e92f",
   "metadata": {},
   "outputs": [],
   "source": []
  },
  {
   "cell_type": "code",
   "execution_count": null,
   "id": "d68573e3",
   "metadata": {},
   "outputs": [],
   "source": []
  },
  {
   "cell_type": "code",
   "execution_count": null,
   "id": "0e45b758",
   "metadata": {},
   "outputs": [],
   "source": []
  },
  {
   "cell_type": "code",
   "execution_count": null,
   "id": "dea383d1",
   "metadata": {},
   "outputs": [],
   "source": []
  },
  {
   "cell_type": "code",
   "execution_count": null,
   "id": "afc22e8a",
   "metadata": {},
   "outputs": [],
   "source": []
  }
 ],
 "metadata": {
  "kernelspec": {
   "display_name": "Python 3 (ipykernel)",
   "language": "python",
   "name": "python3"
  },
  "language_info": {
   "codemirror_mode": {
    "name": "ipython",
    "version": 3
   },
   "file_extension": ".py",
   "mimetype": "text/x-python",
   "name": "python",
   "nbconvert_exporter": "python",
   "pygments_lexer": "ipython3",
   "version": "3.8.13"
  }
 },
 "nbformat": 4,
 "nbformat_minor": 5
}
