{
 "cells": [
  {
   "cell_type": "markdown",
   "id": "4450c710",
   "metadata": {},
   "source": [
    "## Operations with INPUT"
   ]
  },
  {
   "cell_type": "code",
   "execution_count": 4,
   "id": "3134b90d",
   "metadata": {
    "collapsed": true
   },
   "outputs": [
    {
     "name": "stdout",
     "output_type": "stream",
     "text": [
      "Who are you? Mr. Watson\n",
      "Welcome,  Mr. Watson!\n",
      "How're you doing? Not really bad\n",
      "Slacker!\n"
     ]
    }
   ],
   "source": [
    "nam = input('Who are you? ')\n",
    "print('Welcome, ', nam + '!')\n",
    "doing = input(\"How're you doing? \")\n",
    "if doing == \"I'm good\": print('Awesome, man!')\n",
    "else: print(\"Slacker!\")"
   ]
  },
  {
   "cell_type": "code",
   "execution_count": 3,
   "id": "46e64d5a",
   "metadata": {
    "collapsed": true
   },
   "outputs": [
    {
     "name": "stdout",
     "output_type": "stream",
     "text": [
      "Europe floor? 2\n",
      "US floor: 3\n"
     ]
    }
   ],
   "source": [
    "inp = input('Europe floor? ')\n",
    "usf = int(inp) + 1\n",
    "print(\"US floor:\", usf)"
   ]
  },
  {
   "cell_type": "markdown",
   "id": "5a20111b",
   "metadata": {},
   "source": [
    "## TRY / EXCEPT Operations\n",
    "It is used to avoid the traceback during the script execution in case of an expected error.\n",
    "\n",
    "(Also check `TRY/EXCEPT/ESLE/FINALLY` usage. `Except` is also used in hunting for `ExceptionErrors` when you specify the name of error in the Exception line)."
   ]
  },
  {
   "cell_type": "code",
   "execution_count": 4,
   "id": "8dece677",
   "metadata": {
    "collapsed": true
   },
   "outputs": [
    {
     "name": "stdout",
     "output_type": "stream",
     "text": [
      "Enter a number: 4\n",
      "Nice work!\n"
     ]
    }
   ],
   "source": [
    "rawstr = input(\"Enter a number: \")\n",
    "try:\n",
    "    ival = int(rawstr)\n",
    "except:\n",
    "    ival = -1\n",
    "\n",
    "if ival > 0:\n",
    "    print(\"Nice work!\")\n",
    "else:\n",
    "    print('Dear,', rawstr, \"is not a number. Relax and try again.\")"
   ]
  },
  {
   "cell_type": "markdown",
   "id": "56c6adc6",
   "metadata": {},
   "source": [
    "## Minimal CHARACTER"
   ]
  },
  {
   "cell_type": "code",
   "execution_count": 5,
   "id": "0a7bb89a",
   "metadata": {},
   "outputs": [
    {
     "name": "stdout",
     "output_type": "stream",
     "text": [
      "df34\n",
      "3\n"
     ]
    }
   ],
   "source": [
    "a = min(input())\n",
    "print(a)"
   ]
  },
  {
   "cell_type": "markdown",
   "id": "96c06460",
   "metadata": {},
   "source": [
    "## ROUND Operation"
   ]
  },
  {
   "cell_type": "code",
   "execution_count": 1,
   "id": "295696c9",
   "metadata": {
    "collapsed": true
   },
   "outputs": [
    {
     "name": "stdout",
     "output_type": "stream",
     "text": [
      "11\n",
      "<class 'int'>\n",
      "11.11\n",
      "<class 'float'>\n"
     ]
    }
   ],
   "source": [
    "print(round(100/9))\n",
    "print(type(round(100/9)))\n",
    "print(round(100/9, 2))\n",
    "print(type(round(100/9, 2)))"
   ]
  },
  {
   "cell_type": "markdown",
   "id": "a617b332",
   "metadata": {},
   "source": [
    "## Example of INPUT and CONDITIONAL usage - simple language translator"
   ]
  },
  {
   "cell_type": "code",
   "execution_count": 7,
   "id": "5fc3a743",
   "metadata": {
    "collapsed": true
   },
   "outputs": [
    {
     "name": "stdout",
     "output_type": "stream",
     "text": [
      "What's your name? Jose\n",
      "What country are you from (print just the name of the country)? Spain\n",
      "Hola, Jose!\n"
     ]
    }
   ],
   "source": [
    "# Greeting in your language (a piece)\n",
    "\n",
    "name = input(\"What's your name? \")\n",
    "country = input(\"What country are you from (print just the name of the country)? \")\n",
    "def greet(country):\n",
    "    if country == \"Spain\":\n",
    "        return \"Hola,\"\n",
    "    else:\n",
    "        return \"Будь верен идее коммунизма,\"\n",
    "print(greet(country), name + \"!\")"
   ]
  },
  {
   "cell_type": "markdown",
   "id": "56399a5d",
   "metadata": {},
   "source": [
    "# LOOPS\n",
    "\n",
    "### Indefinite Loops - WHILE (2:20)"
   ]
  },
  {
   "cell_type": "code",
   "execution_count": 29,
   "id": "a8ebd81d",
   "metadata": {
    "collapsed": true
   },
   "outputs": [
    {
     "name": "stdout",
     "output_type": "stream",
     "text": [
      "< d\n",
      "d\n",
      "< done\n",
      "Done!\n"
     ]
    }
   ],
   "source": [
    "#break - finishes the loop immediately\n",
    "\n",
    "while True:\n",
    "    line = input('< ')\n",
    "    if line == 'done':\n",
    "        break\n",
    "    print(line)\n",
    "print('Done!')"
   ]
  },
  {
   "cell_type": "markdown",
   "id": "e0149425",
   "metadata": {},
   "source": [
    "### BREAK and CONTINUE operations\n",
    "\n",
    "Операторы continue, break и else работают с циклами for и while. (Сбер-Университет)"
   ]
  },
  {
   "cell_type": "code",
   "execution_count": 15,
   "id": "cb770386",
   "metadata": {
    "collapsed": true
   },
   "outputs": [
    {
     "name": "stdout",
     "output_type": "stream",
     "text": [
      "< i'm printed\n",
      "i'm printed\n",
      "< # and i'm not\n",
      "< done\n",
      "Done!\n"
     ]
    }
   ],
   "source": [
    "# 'continue' returns to the head of the loop\n",
    "# 'break' stops the loop execution \n",
    "\n",
    "while True:\n",
    "    line = input('< ')\n",
    "    if line[0] == '#':    # each if is executed one after another (unlike if - elif - else statement)\n",
    "        continue          # 'continue' prevents checking the 2nd if in case of # in the beginning of line\n",
    "    if line == 'done':\n",
    "        break\n",
    "    print(line)\n",
    "print('Done!')\n",
    "        "
   ]
  },
  {
   "cell_type": "markdown",
   "id": "46dfa6c0",
   "metadata": {},
   "source": [
    "## Definite Loops - FOR (2:25)"
   ]
  },
  {
   "cell_type": "code",
   "execution_count": 7,
   "id": "dda113fb",
   "metadata": {},
   "outputs": [
    {
     "name": "stdout",
     "output_type": "stream",
     "text": [
      "5 4 3 2 1 \n",
      "We're done\n"
     ]
    }
   ],
   "source": [
    "for i in [5, 4, 3, 2, 1]:\n",
    "    print(i, end=\" \")\n",
    "print(\"\\nWe're done\")"
   ]
  },
  {
   "cell_type": "code",
   "execution_count": 41,
   "id": "8d1ae528",
   "metadata": {
    "collapsed": true
   },
   "outputs": [
    {
     "name": "stdout",
     "output_type": "stream",
     "text": [
      "Happy October Revolution Day, Vladimir!\n",
      "Happy October Revolution Day, Joseph!\n",
      "Happy October Revolution Day, Iron Felix!\n",
      "Hooray! Hooray! HOORAY!!!\n"
     ]
    }
   ],
   "source": [
    "# Python doesn't understand plural or sing form so the 'i' means the iterable value in the string\n",
    "# 'i' could be any word I like ('friend' for ex)\n",
    "\n",
    "friends = ['Vladimir', 'Joseph', 'Iron Felix']\n",
    "for i in friends:\n",
    "    print('Happy October Revolution Day,', i + '!')\n",
    "print('Hooray! ' * 2 + 'HOORAY!!!')"
   ]
  },
  {
   "cell_type": "markdown",
   "id": "2e373976",
   "metadata": {},
   "source": [
    "### Finding the LARGEST number in a row"
   ]
  },
  {
   "cell_type": "code",
   "execution_count": 5,
   "id": "2f3b07eb",
   "metadata": {},
   "outputs": [
    {
     "name": "stdout",
     "output_type": "stream",
     "text": [
      "The largest number is: 94\n"
     ]
    }
   ],
   "source": [
    "numbers = [45, 75, 2, -2, 3, 94, 5, 34]\n",
    "# We're going to compare each number with the initially \"largest\" (i.e. first) number \n",
    "# and change the value if the next number is bigger \n",
    "largest_number = numbers[0]\n",
    "for i in numbers:\n",
    "    if i > largest_number:\n",
    "        largest_number = i\n",
    "print('The largest number is:', largest_number)"
   ]
  },
  {
   "cell_type": "markdown",
   "id": "f1bf905a",
   "metadata": {},
   "source": [
    "### Finding the SMALLEST number in a row (in my_library)"
   ]
  },
  {
   "cell_type": "code",
   "execution_count": 6,
   "id": "40a05561",
   "metadata": {},
   "outputs": [
    {
     "name": "stdout",
     "output_type": "stream",
     "text": [
      "The smallest number is: -2\n"
     ]
    }
   ],
   "source": [
    "numbers = [45, 75, 2, -2, 3, 94, 5, 34]\n",
    "smallest_number = numbers[0]\n",
    "for i in numbers:\n",
    "    if i < smallest_number:\n",
    "        smallest_number = i\n",
    "print('The smallest number is:', smallest_number)"
   ]
  },
  {
   "cell_type": "markdown",
   "id": "b40f371e",
   "metadata": {},
   "source": [
    "### Finding the smallest number in an explicit way, two examples"
   ]
  },
  {
   "cell_type": "code",
   "execution_count": 9,
   "id": "7d6087a6",
   "metadata": {
    "collapsed": true
   },
   "outputs": [
    {
     "name": "stdout",
     "output_type": "stream",
     "text": [
      "Before: 45\n",
      "1) 45 45\n",
      "2) 75 45\n",
      "3) 2 2\n",
      "4) -2 -2\n",
      "5) 3 -2\n",
      "6) 94 -2\n",
      "7) 5 -2\n",
      "8) 34 -2\n",
      "After: the smallest number is -2\n"
     ]
    }
   ],
   "source": [
    "numbers = [45, 75, 2, -2, 3, 94, 5, 34]\n",
    "\n",
    "count = 0\n",
    "smallest_number = numbers[0]\n",
    "print('Before:', smallest_number)\n",
    "for i in numbers:\n",
    "    count = count + 1\n",
    "    if i < smallest_number:\n",
    "        smallest_number = i\n",
    "    print(str(count) + ')', i, smallest_number)\n",
    "print('After: the smallest number is', smallest_number)"
   ]
  },
  {
   "cell_type": "code",
   "execution_count": 11,
   "id": "552229b8",
   "metadata": {
    "collapsed": true
   },
   "outputs": [
    {
     "name": "stdout",
     "output_type": "stream",
     "text": [
      "Before: None\n",
      "45 45\n",
      "75 45\n",
      "2 2\n",
      "-2 -2\n",
      "3 -2\n",
      "94 -2\n",
      "5 -2\n",
      "34 -2\n",
      "After: the smallest number is -2\n"
     ]
    }
   ],
   "source": [
    "numbers = [45, 75, 2, -2, 3, 94, 5, 34]\n",
    "\n",
    "smallest_number = None\n",
    "print('Before:', smallest_number)\n",
    "for i in numbers:\n",
    "    if smallest_number is None:\n",
    "        smallest_number = i\n",
    "    elif i < smallest_number:\n",
    "        smallest_number = i\n",
    "    print(i, smallest_number)\n",
    "print('After: the smallest number is', smallest_number)"
   ]
  },
  {
   "cell_type": "markdown",
   "id": "f4412b36",
   "metadata": {},
   "source": [
    "### Counting in a Loop"
   ]
  },
  {
   "cell_type": "code",
   "execution_count": 16,
   "id": "e68c9b48",
   "metadata": {
    "collapsed": true
   },
   "outputs": [
    {
     "name": "stdout",
     "output_type": "stream",
     "text": [
      "Before 0\n",
      "1) 45\n",
      "2) 75\n",
      "3) 2\n",
      "4) -2\n",
      "5) 3\n",
      "6) 94\n",
      "7) 5\n",
      "8) 34\n",
      "After 8\n"
     ]
    }
   ],
   "source": [
    "# counting how many times we execute the loop\n",
    "\n",
    "list = [45, 75, 2, -2, 3, 94, 5, 34]\n",
    "zork = 0    # count\n",
    "print('Before', zork)\n",
    "for i in list:\n",
    "    zork = zork + 1\n",
    "    print(str(zork) + ')', i)\n",
    "print('After', zork)"
   ]
  },
  {
   "cell_type": "markdown",
   "id": "d1da57a6",
   "metadata": {},
   "source": [
    "### Summing in a Loop"
   ]
  },
  {
   "cell_type": "code",
   "execution_count": 17,
   "id": "d7afe0a2",
   "metadata": {
    "collapsed": true
   },
   "outputs": [
    {
     "name": "stdout",
     "output_type": "stream",
     "text": [
      "Before: 0\n",
      "45 45\n",
      "120 75\n",
      "122 2\n",
      "120 -2\n",
      "123 3\n",
      "217 94\n",
      "222 5\n",
      "256 34\n",
      "After: sum = 256\n"
     ]
    }
   ],
   "source": [
    "# we use variable zork to start the calculation (the sum of i in list)\n",
    "\n",
    "list = [45, 75, 2, -2, 3, 94, 5, 34]\n",
    "sum = 0\n",
    "print('Before:', sum)\n",
    "for i in list:\n",
    "    sum = sum + i\n",
    "    print(sum, i)\n",
    "print('After:', 'sum =', sum)"
   ]
  },
  {
   "cell_type": "markdown",
   "id": "5e3af210",
   "metadata": {},
   "source": [
    "### Finding the Average in a Loop"
   ]
  },
  {
   "cell_type": "code",
   "execution_count": 18,
   "id": "11091b12",
   "metadata": {
    "collapsed": true
   },
   "outputs": [
    {
     "name": "stdout",
     "output_type": "stream",
     "text": [
      "Before: 0 0\n",
      "1) 45\n",
      "2) 75\n",
      "3) 2\n",
      "4) -2\n",
      "5) 3\n",
      "6) 94\n",
      "7) 5\n",
      "8) 34\n",
      "After: sum = 256, average = 32.0\n"
     ]
    }
   ],
   "source": [
    "list = [45, 75, 2, -2, 3, 94, 5, 34]\n",
    "count = 0\n",
    "sum = 0\n",
    "print('Before:', count, sum)\n",
    "for i in list:\n",
    "    count = count + 1\n",
    "    sum = sum + i\n",
    "    print(str(count) + ')', i)\n",
    "print('After:', 'sum =', str(sum) + ',', 'average =', sum/count)"
   ]
  },
  {
   "cell_type": "markdown",
   "id": "5beacea9",
   "metadata": {},
   "source": [
    "### Filtering in a Loop"
   ]
  },
  {
   "cell_type": "code",
   "execution_count": 19,
   "id": "cd369565",
   "metadata": {
    "collapsed": true
   },
   "outputs": [
    {
     "name": "stdout",
     "output_type": "stream",
     "text": [
      "[75, 94, 34]\n",
      "[75, -2, 94, 34] ???\n",
      "1) -45\n",
      "2) 2\n",
      "3) 3\n",
      "4) -5\n",
      "5) -20\n",
      "[75, -2, 94, 34]\n"
     ]
    }
   ],
   "source": [
    "list = [-45, 75, 2, -2, 3, 94, -5, 34, -20]\n",
    "new_list = []\n",
    "for i in list:\n",
    "    if i > 20:\n",
    "        new_list.append(i)\n",
    "print(new_list)\n",
    "\n",
    "for i in list:\n",
    "    if i <= 20:\n",
    "        list.remove(i)\n",
    "print(list, '???')\n",
    "\n",
    "list = [-45, 75, 2, -2, 3, 94, -5, 34, -20]\n",
    "new_list = []\n",
    "count = 0\n",
    "for i in list:\n",
    "    if i <= 20:\n",
    "        count = count + 1\n",
    "        list.remove(i)\n",
    "        print(str(count) + ')', i)\n",
    "print(list)"
   ]
  },
  {
   "cell_type": "code",
   "execution_count": null,
   "id": "20f9ea66",
   "metadata": {},
   "outputs": [],
   "source": []
  }
 ],
 "metadata": {
  "kernelspec": {
   "display_name": "Python 3 (ipykernel)",
   "language": "python",
   "name": "python3"
  },
  "language_info": {
   "codemirror_mode": {
    "name": "ipython",
    "version": 3
   },
   "file_extension": ".py",
   "mimetype": "text/x-python",
   "name": "python",
   "nbconvert_exporter": "python",
   "pygments_lexer": "ipython3",
   "version": "3.8.13"
  }
 },
 "nbformat": 4,
 "nbformat_minor": 5
}
