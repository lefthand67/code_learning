{
 "cells": [
  {
   "cell_type": "markdown",
   "id": "f4f78d87",
   "metadata": {},
   "source": [
    "# Chapter 8. Lists"
   ]
  },
  {
   "cell_type": "markdown",
   "id": "f9c6592a",
   "metadata": {},
   "source": [
    "## 8.1. Range\n",
    "returns a list of numbers that range from 0 to one less than the parameter  \n",
    "\n",
    "range(4)) = [0, 1, 2, 3]"
   ]
  },
  {
   "cell_type": "code",
   "execution_count": 32,
   "id": "20c8d8b9",
   "metadata": {},
   "outputs": [
    {
     "name": "stdout",
     "output_type": "stream",
     "text": [
      "range(0, 4)\n"
     ]
    }
   ],
   "source": [
    "print(range(4))"
   ]
  },
  {
   "cell_type": "code",
   "execution_count": 34,
   "id": "86d8aa5c",
   "metadata": {},
   "outputs": [
    {
     "name": "stdout",
     "output_type": "stream",
     "text": [
      "3\n",
      "range(0, 3)\n"
     ]
    }
   ],
   "source": [
    "friends = ['Vladimir', 'Joseph', 'the Iron Felix']\n",
    "print(len(friends))\n",
    "print(range(len(friends)))"
   ]
  },
  {
   "cell_type": "markdown",
   "id": "6d8734f5",
   "metadata": {},
   "source": [
    "Two loops that return the same result:"
   ]
  },
  {
   "cell_type": "code",
   "execution_count": 40,
   "id": "0db32e2d",
   "metadata": {
    "collapsed": true
   },
   "outputs": [
    {
     "name": "stdout",
     "output_type": "stream",
     "text": [
      "Happy October Revolution Day, Vladimir!\n",
      "Happy October Revolution Day, Joseph!\n",
      "Happy October Revolution Day, Iron Felix!\n",
      "Long live, Vladimir!\n",
      "Long live, Joseph!\n",
      "Long live, Iron Felix!\n"
     ]
    }
   ],
   "source": [
    "friends = ['Vladimir', 'Joseph', 'Iron Felix']\n",
    "\n",
    "for friend in friends:\n",
    "    print('Happy October Revolution Day,', friend + '!')\n",
    "\n",
    "for i in range(len(friends)):\n",
    "    friend = friends[i]\n",
    "    print('Long live,', friend + '!')"
   ]
  },
  {
   "cell_type": "markdown",
   "id": "cf97f975",
   "metadata": {},
   "source": [
    "## 8.2. Loop Operations"
   ]
  },
  {
   "cell_type": "markdown",
   "id": "711d663d",
   "metadata": {},
   "source": [
    "### List Methods - DIR"
   ]
  },
  {
   "cell_type": "code",
   "execution_count": 16,
   "id": "69db6460",
   "metadata": {
    "collapsed": true
   },
   "outputs": [
    {
     "name": "stdout",
     "output_type": "stream",
     "text": [
      "<class 'list'>\n",
      "['__add__', '__class__', '__contains__', '__delattr__', '__delitem__', '__dir__', '__doc__', '__eq__', '__format__', '__ge__', '__getattribute__', '__getitem__', '__gt__', '__hash__', '__iadd__', '__imul__', '__init__', '__init_subclass__', '__iter__', '__le__', '__len__', '__lt__', '__mul__', '__ne__', '__new__', '__reduce__', '__reduce_ex__', '__repr__', '__reversed__', '__rmul__', '__setattr__', '__setitem__', '__sizeof__', '__str__', '__subclasshook__', 'append', 'clear', 'copy', 'count', 'extend', 'index', 'insert', 'pop', 'remove', 'reverse', 'sort']\n"
     ]
    }
   ],
   "source": [
    "x = list()\n",
    "print(type(x))\n",
    "print(dir(x))"
   ]
  },
  {
   "cell_type": "markdown",
   "id": "c0104072",
   "metadata": {},
   "source": [
    "### Building a List from Scratch"
   ]
  },
  {
   "cell_type": "code",
   "execution_count": 18,
   "id": "6f0778b8",
   "metadata": {},
   "outputs": [
    {
     "name": "stdout",
     "output_type": "stream",
     "text": [
      "['the book', 9, 7.4]\n"
     ]
    }
   ],
   "source": [
    "# first we create an empty list\n",
    "stuff = list()\n",
    "\n",
    "# then we start adding the elements using the .append method\n",
    "stuff.append('the book')\n",
    "stuff.append(9)\n",
    "stuff.append(7.4)\n",
    "\n",
    "# the list stays in order, new elements are added at the end of the list\n",
    "print(stuff)"
   ]
  },
  {
   "cell_type": "markdown",
   "id": "dfbfd8f4",
   "metadata": {},
   "source": [
    "### Is something IN the List? TRUE or FALSE"
   ]
  },
  {
   "cell_type": "code",
   "execution_count": 21,
   "id": "6e1b0bbe",
   "metadata": {},
   "outputs": [
    {
     "data": {
      "text/plain": [
       "False"
      ]
     },
     "execution_count": 21,
     "metadata": {},
     "output_type": "execute_result"
    }
   ],
   "source": [
    "list = [45, 75, 2, -2, 3, 94, 5, 34]\n",
    "9 in list"
   ]
  },
  {
   "cell_type": "markdown",
   "id": "b4019114",
   "metadata": {},
   "source": [
    "### SORT Method\n",
    "Lists are ordered and they can be sorted (i.e. change the order)"
   ]
  },
  {
   "cell_type": "code",
   "execution_count": 24,
   "id": "6a86542d",
   "metadata": {},
   "outputs": [
    {
     "name": "stdout",
     "output_type": "stream",
     "text": [
      "['Iron Felix', 'Joseph', 'Vladimir']\n",
      "Iron Felix\n"
     ]
    }
   ],
   "source": [
    "friends = ['Vladimir', 'Joseph', 'Iron Felix']\n",
    "friends.sort()\n",
    "print(friends)\n",
    "print(friends[0])"
   ]
  },
  {
   "cell_type": "markdown",
   "id": "6a06b894",
   "metadata": {},
   "source": [
    "### AVERAGE of the list items\n",
    "1. using our own loops,\n",
    "2. using the LIST Methods."
   ]
  },
  {
   "cell_type": "code",
   "execution_count": 3,
   "id": "3f6750e3",
   "metadata": {
    "collapsed": true
   },
   "outputs": [
    {
     "name": "stdout",
     "output_type": "stream",
     "text": [
      "Enter a number: 1\n",
      "Enter a number: 3\n",
      "Enter a number: 5\n",
      "Enter a number: done\n",
      "Average: 3.0\n"
     ]
    }
   ],
   "source": [
    "# this technique does not use much of memory\n",
    "# because the loop updates the total with every new input\n",
    "total = 0\n",
    "count = 0\n",
    "while True:\n",
    "    inp = input(\"Enter a number: \")\n",
    "    if inp == 'done' : break\n",
    "    value = float(inp)\n",
    "    total = total + value\n",
    "    count = count + 1\n",
    "    numlist.append(value)\n",
    "\n",
    "average = total / count\n",
    "print('Average:', average)"
   ]
  },
  {
   "cell_type": "code",
   "execution_count": 1,
   "id": "7cc12d15",
   "metadata": {
    "collapsed": true
   },
   "outputs": [
    {
     "name": "stdout",
     "output_type": "stream",
     "text": [
      "Enter a number: 6\n",
      "Enter a number: 90\n",
      "Enter a number: 7\n",
      "Enter a number: done\n",
      "Average: 34.333333333333336\n"
     ]
    }
   ],
   "source": [
    "# it uses more memory because it has to keep all the inputs in memory\n",
    "numlist = list()\n",
    "while True:\n",
    "    inp = input(\"Enter a number: \")\n",
    "    if inp == 'done': break\n",
    "    value = float(inp)\n",
    "    numlist.append(value)\n",
    "\n",
    "average = sum(numlist) / len(numlist)\n",
    "print('Average:', average)"
   ]
  },
  {
   "cell_type": "markdown",
   "id": "fcaa0e30",
   "metadata": {},
   "source": [
    "## 8.3. Strings vs Lists"
   ]
  },
  {
   "cell_type": "markdown",
   "id": "af92acd1",
   "metadata": {},
   "source": [
    "### .SPLIT Method\n",
    "\n",
    "object**.split()** - nothing in squares by default means \"use a space as a delimiter\""
   ]
  },
  {
   "cell_type": "code",
   "execution_count": 1,
   "id": "67cd185a",
   "metadata": {
    "collapsed": true
   },
   "outputs": [
    {
     "name": "stdout",
     "output_type": "stream",
     "text": [
      "['I', 'can', 'do', 'that']\n",
      "I\n",
      "can\n",
      "do\n",
      "that\n",
      "Length: 4\n",
      "stuff[1]: can\n"
     ]
    }
   ],
   "source": [
    "abc = \"I can do that\"\n",
    "stuff = abc.split()\n",
    "print(stuff)\n",
    "for i in stuff:\n",
    "    print(i)\n",
    "print('Length:', len(stuff))\n",
    "print('stuff[1]:', stuff[1])\n"
   ]
  },
  {
   "cell_type": "code",
   "execution_count": 1,
   "id": "a81ffd69",
   "metadata": {
    "collapsed": true
   },
   "outputs": [
    {
     "name": "stdout",
     "output_type": "stream",
     "text": [
      "['Задремал', 'было,', 'но', 'в', 'кухне', 'заплакал', 'братнин', 'ребенок.']\n",
      "['Зарылся', 'головой', 'в', 'горячую', 'подушку,', 'в', 'уши', 'назойливо', 'сочится:']\n"
     ]
    }
   ],
   "source": [
    "fhand = open('text.txt', 'r', encoding='utf-8')\n",
    "for line in fhand:\n",
    "    line = line.rstrip()\n",
    "    if not line.startswith(\"З\"): continue\n",
    "    words = line.split()\n",
    "    print(words)"
   ]
  },
  {
   "cell_type": "markdown",
   "id": "429bbda0",
   "metadata": {},
   "source": [
    "### The DOUBLE Split Pattern\n",
    "This is a typical way of parsing the data. For a cleaner technique check the **\"Parsing and Extracting\"** above."
   ]
  },
  {
   "cell_type": "code",
   "execution_count": 3,
   "id": "97f5507f",
   "metadata": {
    "collapsed": true
   },
   "outputs": [
    {
     "name": "stdout",
     "output_type": "stream",
     "text": [
      "['lefthand67@yandex.ru', 'Sat', 'Sept', '24']\n",
      "lefthand67@yandex.ru\n",
      "yandex.ru\n"
     ]
    }
   ],
   "source": [
    "line = \"lefthand67@yandex.ru Sat Sept 24\"\n",
    "\n",
    "words = line.split()\n",
    "print(words)\n",
    "\n",
    "email = words[0]\n",
    "print(email)\n",
    "\n",
    "host = email.split('@')\n",
    "print(host[1])"
   ]
  },
  {
   "cell_type": "markdown",
   "id": "5c8f8a7b",
   "metadata": {},
   "source": [
    "# Chapter 9. Dictionaries"
   ]
  },
  {
   "cell_type": "markdown",
   "id": "3cd6a8e1",
   "metadata": {},
   "source": [
    "## List VS Dictionary\n",
    "- List is a linear collection of values that stay in order,\n",
    "- Dictionary is a \"bag\" of values, each with its own label. Key-value pairs\n",
    "\n",
    "_NB!_ dict**[key]** = **value**\n",
    "\n",
    "You can asign not only integers as the value in the dictionary pair:"
   ]
  },
  {
   "cell_type": "code",
   "execution_count": 99,
   "id": "d8b27efe",
   "metadata": {},
   "outputs": [
    {
     "name": "stdout",
     "output_type": "stream",
     "text": [
      "{'alpha': 100, 'beta': 'gamma'}\n"
     ]
    }
   ],
   "source": [
    "new_dict = {}\n",
    "new_dict['alpha'] = 100\n",
    "new_dict['beta'] = 'gamma'\n",
    "print(new_dict)"
   ]
  },
  {
   "cell_type": "markdown",
   "id": "3269c346",
   "metadata": {},
   "source": [
    "### Counting"
   ]
  },
  {
   "cell_type": "code",
   "execution_count": 2,
   "id": "8c149a64",
   "metadata": {
    "collapsed": true
   },
   "outputs": [
    {
     "name": "stdout",
     "output_type": "stream",
     "text": [
      "\n",
      "FREQUENCE of the host names:\n",
      " {'localhost': 1, 'collab.sakaiproject.org': 5, 'iupui.edu': 3, 'umich.edu': 1, 'nakamura.uits.iupui.edu': 1} \n",
      "\n",
      "Check the .Get Method block for a more convenient techique\n"
     ]
    }
   ],
   "source": [
    "# counting the frequence of the list elements\n",
    "\n",
    "host_count = {}\n",
    "long_list = ['localhost', 'collab.sakaiproject.org', 'iupui.edu', \n",
    "             'collab.sakaiproject.org', 'iupui.edu', 'iupui.edu', \n",
    "             'umich.edu', 'collab.sakaiproject.org', 'nakamura.uits.iupui.edu', \n",
    "             'collab.sakaiproject.org', 'collab.sakaiproject.org']\n",
    "\n",
    "for name in long_list:\n",
    "    if name not in host_count:\n",
    "        host_count[name] = 1\n",
    "    else:\n",
    "        host_count[name] = host_count[name] + 1\n",
    "            \n",
    "print('\\nFREQUENCE of the host names:\\n', host_count, '\\n\\nCheck the .Get Method block for a more convenient techique')\n"
   ]
  },
  {
   "cell_type": "markdown",
   "id": "cce219c4",
   "metadata": {},
   "source": [
    "### .GET Method\n",
    "The pattern of checking to see if a **key** is already in a dictionary and assuming a **default value** (i.e. 0) if the **key** is not in there, resolving the problem of the traceback.\n",
    "\n",
    "dict.**get**(key, value)\n",
    "\n",
    "Two equal operations:"
   ]
  },
  {
   "cell_type": "code",
   "execution_count": 25,
   "id": "ba8561ed",
   "metadata": {},
   "outputs": [],
   "source": [
    "# x is the value, so the value is the same as the dict[key]\n",
    "# => value = dict[key]\n",
    "\n",
    "# 1) the loop\n",
    "if name in host_count:\n",
    "    x = host_count[name]\n",
    "else:\n",
    "    x = 0\n",
    "        \n",
    "# 2) GET\n",
    "    x = host_count.get(name, 0)"
   ]
  },
  {
   "cell_type": "markdown",
   "id": "7fbebc51",
   "metadata": {},
   "source": [
    "### IDIOM: Counting the frequence of the list elements with the .GET method"
   ]
  },
  {
   "cell_type": "code",
   "execution_count": 27,
   "id": "34403ffc",
   "metadata": {
    "collapsed": true
   },
   "outputs": [
    {
     "name": "stdout",
     "output_type": "stream",
     "text": [
      "\n",
      "FREQUENCE of the host names:\n",
      " {'localhost': 1, 'collab.sakaiproject.org': 5, 'iupui.edu': 3, 'umich.edu': 1, 'nakamura.uits.iupui.edu': 1}\n"
     ]
    }
   ],
   "source": [
    "host_count = {}\n",
    "long_list = ['localhost', 'collab.sakaiproject.org', 'iupui.edu', \n",
    "             'collab.sakaiproject.org', 'iupui.edu', 'iupui.edu', \n",
    "             'umich.edu', 'collab.sakaiproject.org', 'nakamura.uits.iupui.edu', \n",
    "             'collab.sakaiproject.org', 'collab.sakaiproject.org']\n",
    "\n",
    "for name in long_list:\n",
    "    host_count[name] = host_count.get(name, 0) + 1  # dict[name] is just the value, expressed in the different form\n",
    "            \n",
    "print('\\nFREQUENCE of the host names:\\n', host_count)\n"
   ]
  },
  {
   "cell_type": "markdown",
   "id": "855087aa",
   "metadata": {},
   "source": [
    "## Counting words in text\n",
    "### Counting Pattern\n",
    "1. split the line into words,\n",
    "2. loop through the words,\n",
    "3. use a dictionary to track the count of each word independently."
   ]
  },
  {
   "cell_type": "code",
   "execution_count": 5,
   "id": "f0609420",
   "metadata": {},
   "outputs": [
    {
     "name": "stdout",
     "output_type": "stream",
     "text": [
      "Move to the next cell\n"
     ]
    }
   ],
   "source": [
    "counts = {}\n",
    "# You can type input('Enter the file name: ') instead of 'text.txt'\n",
    "fhand = open('text.txt', 'r', encoding='utf-8')\n",
    "for line in fhand:\n",
    "    line = line.rstrip() and line.lower()\n",
    "    words = line.split()    \n",
    "#     print('Words:', words)\n",
    "    for word in words:\n",
    "        word = word.strip(',')\n",
    "        word = word.strip('.')\n",
    "        word = word.strip(';')\n",
    "        word = word.strip('?')\n",
    "        word = word.strip('!')\n",
    "        word = word.strip('?!')\n",
    "        word = word.strip('...')\n",
    "        word = word.strip('\"')\n",
    "        word = word.strip(':')\n",
    "        word = word.strip('(')\n",
    "        word = word.strip(')')\n",
    "        counts[word] = counts.get(word, 0) + 1\n",
    "# print('Length: ', len(counts), '\\nCounts:', counts)\n",
    "\n",
    "print('Move to the next cell')"
   ]
  },
  {
   "cell_type": "markdown",
   "id": "3079a3d5",
   "metadata": {},
   "source": [
    "### Retrieving lists of Keys and Values"
   ]
  },
  {
   "cell_type": "code",
   "execution_count": 4,
   "id": "18dcf31d",
   "metadata": {
    "collapsed": true
   },
   "outputs": [
    {
     "name": "stdout",
     "output_type": "stream",
     "text": [
      "Count: 1925\n",
      "Quantity of words: 1 \n",
      "List of most frequent words:\n",
      " ['и']\n"
     ]
    }
   ],
   "source": [
    "# !Run the previous cell before\n",
    "\n",
    "largest_count = 0\n",
    "most_freq_word = ''\n",
    "for word, count in counts.items():\n",
    "    if count > largest_count:\n",
    "        largest_count = count        \n",
    "#         print(largest_count, word)\n",
    "#     print(count, word)            \n",
    "print('Count: {}'.format(largest_count))\n",
    "\n",
    "freq_words = []\n",
    "for word, count in counts.items():\n",
    "    if (count == largest_count) and (word not in freq_words):\n",
    "        freq_words.append(word)\n",
    "print('Quantity of words:', len(freq_words), '\\nList of most frequent words:\\n', freq_words)"
   ]
  },
  {
   "cell_type": "code",
   "execution_count": 5,
   "id": "aa3cce3d",
   "metadata": {
    "collapsed": true
   },
   "outputs": [
    {
     "name": "stdout",
     "output_type": "stream",
     "text": [
      "list(jjj): ['chuck', 'fred', 'jan', '19', 26]\n",
      "dict_keys(['chuck', 'fred', 'jan', '19', 26])\n",
      "dict_values([1, 42, 100, 19, 72])\n",
      "dict_items([('chuck', 1), ('fred', 42), ('jan', 100), ('19', 19), (26, 72)]) <= these are the tuples\n",
      "chuck\n",
      "fred\n",
      "jan\n"
     ]
    }
   ],
   "source": [
    "jjj = {'chuck': 1, 'fred': 42, 'jan': 100, '19': 19, 26: 72}\n",
    "print('list(jjj):', list(jjj))\n",
    "print(jjj.keys())\n",
    "print(jjj.values())\n",
    "print(jjj.items(), '<= these are the tuples')\n",
    "\n",
    "for key, value in jjj.items():\n",
    "    try:\n",
    "        key = float(key)\n",
    "        continue\n",
    "    except:\n",
    "        print(key)"
   ]
  },
  {
   "cell_type": "markdown",
   "id": "5bb0df0e",
   "metadata": {},
   "source": [
    "### Counting Word Frequency using a Dictionary"
   ]
  },
  {
   "cell_type": "code",
   "execution_count": 9,
   "id": "851148d8",
   "metadata": {},
   "outputs": [],
   "source": [
    "# dfile = input('Enter the default file name to make your life easier: ')  # activate for a script\n",
    "\n",
    "def most_freq_word():\n",
    "\n",
    "    \"\"\"\n",
    "    The Most Frequent Word Function\n",
    "    searches for the most frequent word(s) in the document with disregard to the case of \n",
    "    the letters in words. \n",
    "    It shows the \"Largest count\" number (i.e. value in dictionary) and lists all \n",
    "    the words (keys) that are complemented to the value.\n",
    "    \n",
    "    The function ignores the strings that can be converted to floats and integers. \n",
    "    \n",
    "    NOTE! You can reassign the default file in prompt by activating the line above the function code\n",
    "    and deactivating the first line of the function.\n",
    "    \n",
    "    >>> Example:\n",
    "    \n",
    "    Enter the file name (press Enter to open the default file): \n",
    "    Opened by default: mbox-short.txt\n",
    "\n",
    "    Largest count: 352\n",
    "    jan\n",
    "\n",
    "    Quantity of words: 1\n",
    "    Most frequent words: ['jan'] <<<\n",
    "    \n",
    "    \"\"\"\n",
    "\n",
    "    dfile = 'mbox-short.txt'  # a file that be opened by default (Enter button), deactivate when using as script\n",
    "\n",
    "    fname = input('Enter the file name (press Enter to open the default file): ')\n",
    "    if len(fname) < 1:\n",
    "        fname = dfile\n",
    "        print('Opened by default:', dfile)\n",
    "    fhand = open(fname, 'r', encoding='utf-8')\n",
    "\n",
    "    counts = {}\n",
    "    for line in fhand:\n",
    "        line = line.rstrip() and line.lower()\n",
    "        words = line.split()\n",
    "    #     print('Words:', words)\n",
    "        for word in words:\n",
    "            word = word.strip(',')\n",
    "            word = word.strip('.')\n",
    "            word = word.strip(';')\n",
    "            word = word.strip('?')\n",
    "            word = word.strip('!')\n",
    "            word = word.strip('?!')\n",
    "            word = word.strip('\"')\n",
    "            word = word.strip(':')\n",
    "            word = word.strip('(')\n",
    "            word = word.strip(')')\n",
    "            word = word.strip('[')\n",
    "            word = word.strip(']')\n",
    "            try:                        # the operation filters ints and floats\n",
    "                word = float(word)\n",
    "                continue\n",
    "            except ValueError:           # we get only non-ints and non-floats in counts list\n",
    "                if len(word) > 0:\n",
    "                    counts[word] = counts.get(word, 0) + 1\n",
    "    # print('\\nLength: {}\\nCounts: {}'.format(len(counts),counts))\n",
    "\n",
    "    largest_count = None                # searching for the largest value (i.e. count of the words)\n",
    "    # print('\\nLargest count search:')  # got be activated only with print(count, word)\n",
    "    for word, count in counts.items():\n",
    "        if largest_count is None or count > largest_count:\n",
    "            largest_count = count\n",
    "    #         print(largest_count, word)\n",
    "    #     print(count, word)\n",
    "    print('\\nLargest count: {}'.format(largest_count))\n",
    "\n",
    "    freq_words = []                     # most frequent words' list\n",
    "    for word, count in counts.items():\n",
    "        if (count == largest_count) and (word not in freq_words):\n",
    "            freq_words.append(word)\n",
    "            # print(word)\n",
    "    return '\\nQuantity of words: {}\\nMost frequent words: {}.\\nDone'.format(len(freq_words), freq_words)\n"
   ]
  },
  {
   "cell_type": "code",
   "execution_count": 10,
   "id": "6218dea1",
   "metadata": {
    "collapsed": true
   },
   "outputs": [
    {
     "name": "stdout",
     "output_type": "stream",
     "text": [
      "Enter the file name (press Enter to open the default file): \n",
      "Opened by default: mbox-short.txt\n",
      "\n",
      "Largest count: 352\n",
      "\n",
      "Quantity of words: 1\n",
      "Most frequent words: ['jan'].\n",
      "Done\n"
     ]
    }
   ],
   "source": [
    "print(most_freq_word())"
   ]
  },
  {
   "cell_type": "markdown",
   "id": "a4e31190",
   "metadata": {},
   "source": [
    "# Chapter 10. Tuples\n",
    "Tuples are like lists but they are **immutable** - you cannnot change them similar to strings.\n",
    "\n",
    "Tuples are more efficient in terms of **memory use** and **performance** than lists. So when you are making a \"temporary variable\" tuples are prefered over lists.\n",
    "\n",
    "### Assignment of tuples\n",
    "You put the tuple on the left-hand side of an assignment statment and when you call for the element in the tuple it returns the element from the right-hand side in the _same_ position. It is the Python unique feature.\n",
    "\n",
    "##### NB! Parentheses can be omitted."
   ]
  },
  {
   "cell_type": "code",
   "execution_count": 1,
   "id": "e0e8ce53",
   "metadata": {},
   "outputs": [
    {
     "name": "stdout",
     "output_type": "stream",
     "text": [
      "Fred\n"
     ]
    }
   ],
   "source": [
    "(x, y) = (4, 'Fred')\n",
    "print(y)"
   ]
  },
  {
   "cell_type": "code",
   "execution_count": 4,
   "id": "0eb98255",
   "metadata": {},
   "outputs": [
    {
     "name": "stdout",
     "output_type": "stream",
     "text": [
      "4\n"
     ]
    }
   ],
   "source": [
    "x, y = 4, 'Fred'\n",
    "print(x)"
   ]
  },
  {
   "cell_type": "markdown",
   "id": "32631a6d",
   "metadata": {},
   "source": [
    "Compare the methods of lists and tuples (in the end of the dir list):"
   ]
  },
  {
   "cell_type": "code",
   "execution_count": 4,
   "id": "659406e0",
   "metadata": {
    "collapsed": true
   },
   "outputs": [
    {
     "data": {
      "text/plain": [
       "['__add__',\n",
       " '__class__',\n",
       " '__contains__',\n",
       " '__delattr__',\n",
       " '__delitem__',\n",
       " '__dir__',\n",
       " '__doc__',\n",
       " '__eq__',\n",
       " '__format__',\n",
       " '__ge__',\n",
       " '__getattribute__',\n",
       " '__getitem__',\n",
       " '__gt__',\n",
       " '__hash__',\n",
       " '__iadd__',\n",
       " '__imul__',\n",
       " '__init__',\n",
       " '__init_subclass__',\n",
       " '__iter__',\n",
       " '__le__',\n",
       " '__len__',\n",
       " '__lt__',\n",
       " '__mul__',\n",
       " '__ne__',\n",
       " '__new__',\n",
       " '__reduce__',\n",
       " '__reduce_ex__',\n",
       " '__repr__',\n",
       " '__reversed__',\n",
       " '__rmul__',\n",
       " '__setattr__',\n",
       " '__setitem__',\n",
       " '__sizeof__',\n",
       " '__str__',\n",
       " '__subclasshook__',\n",
       " 'append',\n",
       " 'clear',\n",
       " 'copy',\n",
       " 'count',\n",
       " 'extend',\n",
       " 'index',\n",
       " 'insert',\n",
       " 'pop',\n",
       " 'remove',\n",
       " 'reverse',\n",
       " 'sort']"
      ]
     },
     "execution_count": 4,
     "metadata": {},
     "output_type": "execute_result"
    }
   ],
   "source": [
    "l = list()\n",
    "dir(l)"
   ]
  },
  {
   "cell_type": "code",
   "execution_count": 2,
   "id": "933ae640",
   "metadata": {
    "collapsed": true
   },
   "outputs": [
    {
     "data": {
      "text/plain": [
       "['__add__',\n",
       " '__class__',\n",
       " '__contains__',\n",
       " '__delattr__',\n",
       " '__dir__',\n",
       " '__doc__',\n",
       " '__eq__',\n",
       " '__format__',\n",
       " '__ge__',\n",
       " '__getattribute__',\n",
       " '__getitem__',\n",
       " '__getnewargs__',\n",
       " '__gt__',\n",
       " '__hash__',\n",
       " '__init__',\n",
       " '__init_subclass__',\n",
       " '__iter__',\n",
       " '__le__',\n",
       " '__len__',\n",
       " '__lt__',\n",
       " '__mul__',\n",
       " '__ne__',\n",
       " '__new__',\n",
       " '__reduce__',\n",
       " '__reduce_ex__',\n",
       " '__repr__',\n",
       " '__rmul__',\n",
       " '__setattr__',\n",
       " '__sizeof__',\n",
       " '__str__',\n",
       " '__subclasshook__',\n",
       " 'count',\n",
       " 'index']"
      ]
     },
     "execution_count": 2,
     "metadata": {},
     "output_type": "execute_result"
    }
   ],
   "source": [
    "t = tuple()\n",
    "dir(t)"
   ]
  },
  {
   "cell_type": "markdown",
   "id": "23fb2223",
   "metadata": {},
   "source": [
    "### Tuples are COMPARABLE\n",
    "\n",
    "Python checks the elements until it can say TRUE oR FALSE and then stops. If the elements are the same it goes to the next elements."
   ]
  },
  {
   "cell_type": "code",
   "execution_count": 3,
   "id": "cc45d276",
   "metadata": {},
   "outputs": [
    {
     "data": {
      "text/plain": [
       "True"
      ]
     },
     "execution_count": 3,
     "metadata": {},
     "output_type": "execute_result"
    }
   ],
   "source": [
    "(0, 1, 2) < (5, 2, 1)"
   ]
  },
  {
   "cell_type": "code",
   "execution_count": 6,
   "id": "f85fd3ad",
   "metadata": {},
   "outputs": [
    {
     "data": {
      "text/plain": [
       "True"
      ]
     },
     "execution_count": 6,
     "metadata": {},
     "output_type": "execute_result"
    }
   ],
   "source": [
    "('Jones', 'Sally') < ('Jones', 'Sam')"
   ]
  },
  {
   "cell_type": "code",
   "execution_count": 7,
   "id": "6ada0078",
   "metadata": {},
   "outputs": [
    {
     "data": {
      "text/plain": [
       "False"
      ]
     },
     "execution_count": 7,
     "metadata": {},
     "output_type": "execute_result"
    }
   ],
   "source": [
    "('Jones', 'Sally') == ('Jones', 'Sam')"
   ]
  },
  {
   "cell_type": "markdown",
   "id": "304aa43e",
   "metadata": {},
   "source": [
    "### SORTING lists of tuples\n",
    "\n",
    "This way we can get a **sorted version of a dictionary**.\n",
    "\n",
    "First we sort the dictionary by the key using:\n",
    "- the dict.**items()** method and\n",
    "- **sorted()** function."
   ]
  },
  {
   "cell_type": "code",
   "execution_count": 10,
   "id": "03ba7c1b",
   "metadata": {},
   "outputs": [
    {
     "name": "stdout",
     "output_type": "stream",
     "text": [
      "dict_items([('a', 10), ('b', 1), ('c', 22)])\n",
      "[('a', 10), ('b', 1), ('c', 22)] \n",
      "\n",
      "a 10\n",
      "b 1\n",
      "c 22\n"
     ]
    }
   ],
   "source": [
    "d = {'a': 10, 'b':1, 'c':22}\n",
    "print(d.items())\n",
    "print(sorted(d.items()), '\\n')\n",
    "\n",
    "for k, v in sorted(d.items()):\n",
    "    print(k, v)"
   ]
  },
  {
   "cell_type": "markdown",
   "id": "8ae2f1dc",
   "metadata": {},
   "source": [
    "### SORT by VALUES instead of key\n",
    "\n",
    "We need to create a list of tuples of the form (value, key) and then sort it:"
   ]
  },
  {
   "cell_type": "code",
   "execution_count": 41,
   "id": "d68573e3",
   "metadata": {
    "scrolled": true
   },
   "outputs": [
    {
     "name": "stdout",
     "output_type": "stream",
     "text": [
      "[(10, 'a'), (1, 'b'), (22, 'c')]\n",
      "[(22, 'c'), (10, 'a'), (1, 'b')]\n"
     ]
    }
   ],
   "source": [
    "c = {'a': 10, 'b':1, 'c':22}\n",
    "\n",
    "tmp = list()\n",
    "for key, val in c.items():\n",
    "    tmp.append( (val, key) )\n",
    "print(tmp)\n",
    "\n",
    "tmp = sorted(tmp, reverse=True)\n",
    "print(tmp)"
   ]
  },
  {
   "cell_type": "markdown",
   "id": "a8edf938",
   "metadata": {},
   "source": [
    "### Shorter version\n",
    "\n",
    "by using **list comprehension**:"
   ]
  },
  {
   "cell_type": "code",
   "execution_count": 23,
   "id": "5c644d41",
   "metadata": {},
   "outputs": [
    {
     "name": "stdout",
     "output_type": "stream",
     "text": [
      "[(22, 'c'), (10, 'a'), (1, 'b')]\n"
     ]
    }
   ],
   "source": [
    "c = {'a': 10, 'b':1, 'c':22}\n",
    "\n",
    "print( sorted( [ (v, k) for k, v in c.items() ], reverse=True ) )"
   ]
  },
  {
   "cell_type": "markdown",
   "id": "c7819085",
   "metadata": {},
   "source": [
    "### Ten top most common words in the text"
   ]
  },
  {
   "cell_type": "code",
   "execution_count": 40,
   "id": "aaf60bb6",
   "metadata": {},
   "outputs": [
    {
     "name": "stdout",
     "output_type": "stream",
     "text": [
      "и - 1811; не - 1020; на - 927; в - 926; а - 710; с - 566; что - 442; как - 406; он - 377; я - 324; "
     ]
    }
   ],
   "source": [
    "with open('text.txt', 'r', encoding='utf-8') as fhand:  # context manager to close the file when done\n",
    "    counts = dict()\n",
    "    for line in fhand:\n",
    "        line = line.rstrip() and line.lower()\n",
    "        words = line.split()\n",
    "        for word in words:\n",
    "            if word.isalpha():\n",
    "                counts[word] = counts.get(word, 0) + 1\n",
    "\n",
    "lst = sorted( [(val, key) for key, val in counts.items()], reverse=True )\n",
    "\n",
    "for val, key in lst[:10]:\n",
    "    print(f'{key} - {val}', end='; ')"
   ]
  },
  {
   "cell_type": "code",
   "execution_count": null,
   "id": "0a4a5cf6",
   "metadata": {},
   "outputs": [],
   "source": []
  }
 ],
 "metadata": {
  "kernelspec": {
   "display_name": "Python 3 (ipykernel)",
   "language": "python",
   "name": "python3"
  },
  "language_info": {
   "codemirror_mode": {
    "name": "ipython",
    "version": 3
   },
   "file_extension": ".py",
   "mimetype": "text/x-python",
   "name": "python",
   "nbconvert_exporter": "python",
   "pygments_lexer": "ipython3",
   "version": "3.8.13"
  }
 },
 "nbformat": 4,
 "nbformat_minor": 5
}
