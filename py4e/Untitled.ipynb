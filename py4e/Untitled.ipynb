{
 "cells": [
  {
   "cell_type": "code",
   "execution_count": 7,
   "id": "8cadffc2",
   "metadata": {},
   "outputs": [
    {
     "name": "stdout",
     "output_type": "stream",
     "text": [
      "Pluto's a planet.\n",
      "No, it's a dwarf planet.\n",
      "planet!\n",
      "dwarf planet!\n"
     ]
    }
   ],
   "source": [
    "x = 'planet'\n",
    "y = 'dwarf planet'\n",
    "\n",
    "s = \"\"\"Pluto's a {0}.\n",
    "No, it's a {1}.\n",
    "{0}!\n",
    "{1}!\"\"\".format(x, y)\n",
    "print(s)"
   ]
  },
  {
   "cell_type": "code",
   "execution_count": 8,
   "id": "35c30c18",
   "metadata": {},
   "outputs": [
    {
     "name": "stdout",
     "output_type": "stream",
     "text": [
      "range(0, 5)\n"
     ]
    }
   ],
   "source": [
    "print(range(5))"
   ]
  },
  {
   "cell_type": "code",
   "execution_count": 10,
   "id": "f4f5b6c5",
   "metadata": {},
   "outputs": [],
   "source": [
    "import math"
   ]
  },
  {
   "cell_type": "code",
   "execution_count": 11,
   "id": "cb4b1e7c",
   "metadata": {},
   "outputs": [
    {
     "data": {
      "text/plain": [
       "0.6989700043360187"
      ]
     },
     "execution_count": 11,
     "metadata": {},
     "output_type": "execute_result"
    }
   ],
   "source": [
    "math.log(5, 10)"
   ]
  },
  {
   "cell_type": "code",
   "execution_count": 21,
   "id": "2e6e0607",
   "metadata": {},
   "outputs": [
    {
     "name": "stdout",
     "output_type": "stream",
     "text": [
      "Help on wrapper_descriptor:\n",
      "\n",
      "__gt__(self, value, /)\n",
      "    Return self>value.\n",
      "\n"
     ]
    }
   ],
   "source": [
    "# from matplotlib import graph\n",
    "\n",
    "help(object.__gt__)"
   ]
  },
  {
   "cell_type": "code",
   "execution_count": 46,
   "id": "6c43c959",
   "metadata": {},
   "outputs": [
    {
     "name": "stdout",
     "output_type": "stream",
     "text": [
      "1\n"
     ]
    }
   ],
   "source": [
    "hand_1 = ['9', 'Q', '8', 'A']\n",
    "cards = {'1':1, '2':2, '3': 3, '4':4, '5':5, '6':6, '7':7, '8':8, '9':9,'J':10, 'Q':10, 'K': 10}\n",
    "hand_1_sum = 0\n",
    "for card_h1 in hand_1: \n",
    "    cards['A'] = 11\n",
    "    hand_1_sum = hand_1_sum + cards[card_h1]\n",
    "    if hand_1_sum > 21:\n",
    "        cards['A'] = 1\n",
    "for card_h1 in hand_1:\n",
    "    hand_1_sum = 0\n",
    "    cards['A'] = 1\n",
    "    hand_1_sum = hand_1_sum + cards[card_h1]\n",
    "\n",
    "print(hand_1_sum)"
   ]
  },
  {
   "cell_type": "code",
   "execution_count": 71,
   "id": "5b41e00c",
   "metadata": {},
   "outputs": [],
   "source": [
    "hand_1 = ['9', 'Q', '8', 'A']\n",
    "cards = {'1':1, '2':2, '3': 3, '4':4, '5':5, '6':6, '7':7, '8':8, '9':9,'J':10, 'Q':10, 'K': 10}\n",
    "\n",
    "for card_h11 in hand_1:        \n",
    "    hand_1_sum = 0\n",
    "    cards['A'] = 11\n",
    "    hand_1_sum = hand_1_sum + cards[card_h11]\n",
    "    if hand_1_sum > 21:\n",
    "        for card_h12 in hand_1:  \n",
    "            hand_1_sum = 0\n",
    "            cards['A'] = 1\n",
    "            hand_1_sum = hand_1_sum + cards[card_h12]\n",
    "        print(card_h12)"
   ]
  }
 ],
 "metadata": {
  "kernelspec": {
   "display_name": "Python 3 (ipykernel)",
   "language": "python",
   "name": "python3"
  },
  "language_info": {
   "codemirror_mode": {
    "name": "ipython",
    "version": 3
   },
   "file_extension": ".py",
   "mimetype": "text/x-python",
   "name": "python",
   "nbconvert_exporter": "python",
   "pygments_lexer": "ipython3",
   "version": "3.8.13"
  }
 },
 "nbformat": 4,
 "nbformat_minor": 5
}
